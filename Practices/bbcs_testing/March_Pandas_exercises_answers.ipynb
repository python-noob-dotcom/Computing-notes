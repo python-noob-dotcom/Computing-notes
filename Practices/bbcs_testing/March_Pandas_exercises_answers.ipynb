{
 "cells": [
  {
   "cell_type": "code",
   "execution_count": 97,
   "metadata": {},
   "outputs": [
    {
     "name": "stdout",
     "output_type": "stream",
     "text": [
      "Requirement already satisfied: pandas in c:\\users\\eugen\\anaconda3\\envs\\computing\\lib\\site-packages (1.1.5)\n",
      "Requirement already satisfied: numpy>=1.15.4 in c:\\users\\eugen\\anaconda3\\envs\\computing\\lib\\site-packages (from pandas) (1.19.5)\n",
      "Requirement already satisfied: python-dateutil>=2.7.3 in c:\\users\\eugen\\anaconda3\\envs\\computing\\lib\\site-packages (from pandas) (2.8.2)\n",
      "Requirement already satisfied: pytz>=2017.2 in c:\\users\\eugen\\anaconda3\\envs\\computing\\lib\\site-packages (from pandas) (2024.1)\n",
      "Requirement already satisfied: six>=1.5 in c:\\users\\eugen\\anaconda3\\envs\\computing\\lib\\site-packages (from python-dateutil>=2.7.3->pandas) (1.15.0)\n"
     ]
    }
   ],
   "source": [
    "!pip3 install pandas"
   ]
  },
  {
   "cell_type": "markdown",
   "metadata": {},
   "source": [
    "# Manipulating Data with Pandas! <br><img src = 'https://files.worldwildlife.org/wwfcmsprod/images/Panda_in_Tree/hero_small/99i33zyc0l_Large_WW170579.jpg'>\n",
    "<h3> <a href= 'https://www.example.com'>Please refer to this dataset</a> as we will be using this dataset for the exercises below </h3>"
   ]
  },
  {
   "cell_type": "markdown",
   "metadata": {},
   "source": [
    "<h3> Exercise 1a. </h3>\n",
    "<p> When you open up the dataset, it looks quite dirty, with many rows having the order number replaced by \"Imagine having no order number\" etc. </p> \n",
    "\n",
    "1. Your first task would be to clear all rows with empty values in ```'PRODUCTCODE', 'ADDRESSLINE1'```,\n",
    "2. avoid clearing the rows with empty values in ```'STATE'```,\n",
    "3. and replace all the empty values under ```'ORDERNUMBER'``` with  ```10900 + index``` to give the row a unique ```'ORDERNUMBER'```,\n",
    "4. replace all the empty values under ```'STATUS'``` with ```'To check'```\n",
    "5. Lastly, save into a new file called ```'sales_data_cleaned.csv'```</p>"
   ]
  },
  {
   "cell_type": "code",
   "execution_count": 98,
   "metadata": {},
   "outputs": [],
   "source": [
    "# Your code here\n",
    "\n",
    "import pandas as pd\n",
    "\n",
    "sales_data_dirty = pd.read_csv('./sales_data_dirty.csv')\n",
    "\n",
    "\n",
    "sales_data_dirty.dropna(subset = ['PRODUCTCODE', 'ADDRESSLINE1'], axis= 0, inplace=True)\n",
    "sales_data_dirty['STATUS'].fillna('To check', inplace=True)\n",
    "\n",
    "# sales_data_dirty['ORDERNUMBER'].fillna(10000, inplace= True)\n",
    "for index, row in sales_data_dirty.iterrows():\n",
    "    if pd.isna(row['ORDERNUMBER']):\n",
    "        sales_data_dirty.loc[index, 'ORDERNUMBER'] = 10900 + index\n",
    "\n",
    "sales_data_dirty.head()\n",
    "\n",
    "\n",
    "\n",
    "sales_data_dirty.drop('Unnamed: 0', axis= 1).to_csv('./sales_data_cleaned.csv')"
   ]
  },
  {
   "cell_type": "markdown",
   "metadata": {},
   "source": [
    "<h3> Congratulations on finishing your first task! </h3>\n",
    "<h4> Your csv file should look like this: </h4>\n",
    "\n",
    "<img src='https://github.com/python-noob-dotcom/Computing-notes/raw/8c1416fd57990ed35931c7db361b3036f75810df/Practices/bbcs_testing/dataset_exercise_1.png'>\n",
    "\n",
    "<h4> as the values are clean now </h4>"
   ]
  },
  {
   "cell_type": "markdown",
   "metadata": {},
   "source": [
    "While cleaning the data, you noticed that there are some rows with a missing price each value\n",
    "\n",
    "### Exercise 1b:\n",
    "1. Using the ```.agg()``` method, retrieve the mean ```'PRICEEACH'```,\n",
    "2. and replace the empty values in the row with the mean"
   ]
  },
  {
   "cell_type": "code",
   "execution_count": 99,
   "metadata": {},
   "outputs": [],
   "source": [
    "# Your code here\n",
    "\n",
    "sales_data = pd.read_csv('./sales_data_cleaned.csv', encoding= 'utf-8')\n",
    "\n",
    "sales_data['PRICEEACH'].fillna(sales_data['PRICEEACH'].mean(), inplace=True)\n",
    "\n",
    "sales_data.to_csv('./sales_data_cleaned.csv')\n"
   ]
  },
  {
   "cell_type": "markdown",
   "metadata": {},
   "source": [
    "<h3> Exercise 2.</h3>\n",
    "<p> Your boss then asks you to group the rows with the same STATUS together</p>\n",
    "Group the rows with the status\n",
    "\n",
    "```'Shipped', 'Disputed', etc together.```"
   ]
  },
  {
   "cell_type": "code",
   "execution_count": 100,
   "metadata": {},
   "outputs": [],
   "source": [
    "# Your code here\n",
    "\n",
    "import pandas as pd\n",
    "\n",
    "sales_data = pd.read_csv('./sales_data_cleaned.csv', encoding= 'utf-8')\n",
    "sales_data['STATUS'] = sales_data['STATUS'].astype(str)\n",
    "grouped = sales_data.groupby('STATUS')\n",
    "sales_data_grouped = sales_data\n",
    "i = 0\n",
    "for name, group in grouped:\n",
    "    for index, row in group.iterrows():\n",
    "        sales_data_grouped.iloc[i] = row\n",
    "        i += 1\n",
    "\n",
    "# sales_data_grouped_by_status = sales_data.groupby(['STATUS'], as_index= False).apply(lambda x: x)\n",
    "sales_data_grouped.drop(['Unnamed: 0', 'Unnamed: 0.1'], axis= 1).to_csv('./sales_data_grouped.csv')"
   ]
  },
  {
   "cell_type": "markdown",
   "metadata": {},
   "source": [
    "### Congratulations on completing your second exercise! Your dataset should look like this:\n",
    "\n",
    "<image src = ''>"
   ]
  },
  {
   "cell_type": "markdown",
   "metadata": {},
   "source": [
    "<img src = 'https://github.com/python-noob-dotcom/Computing-notes/blob/main/Practices/bbcs_testing/dataset_exercise_2.png?raw=true' alt= 'Answer to exercise 2'>"
   ]
  },
  {
   "cell_type": "markdown",
   "metadata": {},
   "source": [
    "### Exercise 3\n",
    "\n",
    "Create a new column `'Total revenue'` containing the total amount of revenue (quantity * price) collected by the company"
   ]
  },
  {
   "cell_type": "code",
   "execution_count": 101,
   "metadata": {},
   "outputs": [
    {
     "name": "stdout",
     "output_type": "stream",
     "text": [
      "2201725\n"
     ]
    }
   ],
   "source": [
    "# Your code here\n",
    "ttl_revenue = 0\n",
    "\n",
    "for index, row in sales_data.iterrows():\n",
    "    if row['PRICEEACH'] == float('NaN') or row['QUANTITYORDERED'] == float('NaN'):\n",
    "        continue\n",
    "\n",
    "    ttl_revenue += int(row['QUANTITYORDERED']) * int(row['PRICEEACH'])\n",
    "\n",
    "sales_data_with_ttl_revenue = sales_data\n",
    "sales_data_with_ttl_revenue['Total revenue'] = ttl_revenue\n",
    "print(ttl_revenue)"
   ]
  },
  {
   "cell_type": "markdown",
   "metadata": {},
   "source": [
    "You should have gotten 2201725 as the total revenue"
   ]
  },
  {
   "cell_type": "markdown",
   "metadata": {},
   "source": [
    "### Exercise 4\n",
    "\n",
    "Find the top 5 top selling products based on the total sales (quantity sold)"
   ]
  },
  {
   "cell_type": "code",
   "execution_count": 102,
   "metadata": {},
   "outputs": [
    {
     "data": {
      "text/html": [
       "<div>\n",
       "<style scoped>\n",
       "    .dataframe tbody tr th:only-of-type {\n",
       "        vertical-align: middle;\n",
       "    }\n",
       "\n",
       "    .dataframe tbody tr th {\n",
       "        vertical-align: top;\n",
       "    }\n",
       "\n",
       "    .dataframe thead th {\n",
       "        text-align: right;\n",
       "    }\n",
       "</style>\n",
       "<table border=\"1\" class=\"dataframe\">\n",
       "  <thead>\n",
       "    <tr style=\"text-align: right;\">\n",
       "      <th></th>\n",
       "      <th>PRODUCTLINE</th>\n",
       "      <th>QUANTITYORDERED</th>\n",
       "    </tr>\n",
       "  </thead>\n",
       "  <tbody>\n",
       "    <tr>\n",
       "      <th>0</th>\n",
       "      <td>Classic Cars</td>\n",
       "      <td>11185</td>\n",
       "    </tr>\n",
       "    <tr>\n",
       "      <th>4</th>\n",
       "      <td>Vintage Cars</td>\n",
       "      <td>4047</td>\n",
       "    </tr>\n",
       "    <tr>\n",
       "      <th>3</th>\n",
       "      <td>Trucks and Buses</td>\n",
       "      <td>4010</td>\n",
       "    </tr>\n",
       "    <tr>\n",
       "      <th>1</th>\n",
       "      <td>Motorcycles</td>\n",
       "      <td>3744</td>\n",
       "    </tr>\n",
       "    <tr>\n",
       "      <th>2</th>\n",
       "      <td>Planes</td>\n",
       "      <td>1295</td>\n",
       "    </tr>\n",
       "  </tbody>\n",
       "</table>\n",
       "</div>"
      ],
      "text/plain": [
       "        PRODUCTLINE  QUANTITYORDERED\n",
       "0      Classic Cars            11185\n",
       "4      Vintage Cars             4047\n",
       "3  Trucks and Buses             4010\n",
       "1       Motorcycles             3744\n",
       "2            Planes             1295"
      ]
     },
     "execution_count": 102,
     "metadata": {},
     "output_type": "execute_result"
    }
   ],
   "source": [
    "# Your code here\n",
    "\n",
    "product_sales = sales_data.groupby('PRODUCTLINE')['QUANTITYORDERED'].sum().reset_index()\n",
    "\n",
    "top_selling = product_sales.sort_values(by = 'QUANTITYORDERED', ascending = False)\n",
    "\n",
    "top_selling.head()"
   ]
  },
  {
   "cell_type": "markdown",
   "metadata": {},
   "source": [
    "#### You should have gotten the top 5 as \n",
    "1. Classic Cars\n",
    "2. Vintage Cars\n",
    "3. Trucks and Buses\n",
    "4. Motorcycles\n",
    "5. Planes\n",
    "\n",
    "<img src = 'https://github.com/python-noob-dotcom/Computing-notes/blob/main/Practices/bbcs_testing/dataset_exercise_4.png?raw=true' alt = 'Exercise 4 answers'>"
   ]
  }
 ],
 "metadata": {
  "kernelspec": {
   "display_name": "computing",
   "language": "python",
   "name": "python3"
  },
  "language_info": {
   "codemirror_mode": {
    "name": "ipython",
    "version": 3
   },
   "file_extension": ".py",
   "mimetype": "text/x-python",
   "name": "python",
   "nbconvert_exporter": "python",
   "pygments_lexer": "ipython3",
   "version": "3.6.13"
  }
 },
 "nbformat": 4,
 "nbformat_minor": 2
}
