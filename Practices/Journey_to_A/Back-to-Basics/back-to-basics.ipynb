{
 "cells": [
  {
   "cell_type": "code",
   "execution_count": 4,
   "metadata": {},
   "outputs": [],
   "source": [
    "# Task 1.1\n",
    "import random\n",
    "\n",
    "def make_dict(lst):\n",
    "    dic = {}\n",
    "\n",
    "    for key in lst:\n",
    "        dic[key] = random.randint(0, 100)\n",
    "    \n",
    "    return dic\n"
   ]
  },
  {
   "cell_type": "code",
   "execution_count": 5,
   "metadata": {},
   "outputs": [
    {
     "data": {
      "text/plain": [
       "{'brave': 59,\n",
       " 'calm': 68,\n",
       " 'delightful': 78,\n",
       " 'eager': 17,\n",
       " 'faithful': 31,\n",
       " 'gentle': 70,\n",
       " 'happy': 40,\n",
       " 'obedient': 12,\n",
       " 'thankful': 92,\n",
       " 'victorious': 91,\n",
       " 'witty': 6,\n",
       " 'zealous': 24}"
      ]
     },
     "execution_count": 5,
     "metadata": {},
     "output_type": "execute_result"
    }
   ],
   "source": [
    "# Task 1.2\n",
    "\n",
    "test_list = ['brave', 'calm', 'delightful', 'eager', 'faithful', 'gentle', 'happy', \n",
    "'obedient', 'thankful', 'victorious', 'witty', 'zealous']\n",
    "\n",
    "test_dict = make_dict(test_list)\n",
    "test_dict"
   ]
  },
  {
   "cell_type": "code",
   "execution_count": null,
   "metadata": {},
   "outputs": [],
   "source": [
    "# Task 1.3 \n",
    "\n",
    "lst = ['brave', 'palm', 'happy', 'fun']\n",
    "\n",
    "for key in lst:\n",
    "    if key in test_dict.keys():\n",
    "        print(True)\n",
    "\n"
   ]
  }
 ],
 "metadata": {
  "kernelspec": {
   "display_name": "Python 3",
   "language": "python",
   "name": "python3"
  },
  "language_info": {
   "codemirror_mode": {
    "name": "ipython",
    "version": 3
   },
   "file_extension": ".py",
   "mimetype": "text/x-python",
   "name": "python",
   "nbconvert_exporter": "python",
   "pygments_lexer": "ipython3",
   "version": "3.7.7"
  }
 },
 "nbformat": 4,
 "nbformat_minor": 2
}
