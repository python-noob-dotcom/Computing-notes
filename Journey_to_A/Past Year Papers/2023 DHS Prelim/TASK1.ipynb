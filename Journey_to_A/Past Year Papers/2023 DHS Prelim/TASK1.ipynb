{
 "cells": [
  {
   "cell_type": "code",
   "execution_count": 1,
   "metadata": {},
   "outputs": [
    {
     "data": {
      "text/plain": [
       "' {olty%$#\"'"
      ]
     },
     "execution_count": 1,
     "metadata": {},
     "output_type": "execute_result"
    }
   ],
   "source": [
    "def encrypt(plaintext):\n",
    "    msg = ''\n",
    "    j = len(plaintext)\n",
    "    for i in range(len(plaintext)):\n",
    "        num = ord(plaintext[i]) + j\n",
    "        if num > 126:\n",
    "            num = num - 126 + 31\n",
    "\n",
    "        msg += chr(num)\n",
    "        j -= 1\n",
    "\n",
    "    return msg\n",
    "\n",
    "encrypt('urgent!!!!')"
   ]
  },
  {
   "cell_type": "code",
   "execution_count": 12,
   "metadata": {},
   "outputs": [
    {
     "name": "stdout",
     "output_type": "stream",
     "text": [
      "101\n",
      "33\n",
      "42\n",
      "41\n",
      "125\n",
      "35\n",
      "33\n",
      "49\n",
      "84\n",
      "116\n",
      "35\n",
      "110\n",
      "117\n",
      "119\n",
      "125\n",
      "41\n",
      "122\n",
      "108\n",
      "105\n",
      "106\n",
      "109\n",
      "121\n",
      "103\n",
      "101\n"
     ]
    },
    {
     "data": {
      "text/plain": [
       "'Mission Details received'"
      ]
     },
     "execution_count": 12,
     "metadata": {},
     "output_type": "execute_result"
    }
   ],
   "source": [
    "def decrypt(msg):\n",
    "    dec = ''\n",
    "\n",
    "    j = len(msg)\n",
    "\n",
    "    for char in msg:\n",
    "        print(ord(char))\n",
    "        if ord(char) - j < 32:\n",
    "            num = 127 + (ord(char) - j - 32)\n",
    "        else:\n",
    "            num = ord(char) - j\n",
    "\n",
    "        dec += chr(num)\n",
    "        j -= 1\n",
    "\n",
    "    return dec\n",
    "\n",
    "\n",
    "decrypt(encrypt('Mission Details received'))"
   ]
  },
  {
   "cell_type": "code",
   "execution_count": 11,
   "metadata": {},
   "outputs": [
    {
     "data": {
      "text/plain": [
       "'\\x14'"
      ]
     },
     "execution_count": 11,
     "metadata": {},
     "output_type": "execute_result"
    }
   ],
   "source": [
    "chr(20)"
   ]
  }
 ],
 "metadata": {
  "kernelspec": {
   "display_name": "computing",
   "language": "python",
   "name": "python3"
  },
  "language_info": {
   "codemirror_mode": {
    "name": "ipython",
    "version": 3
   },
   "file_extension": ".py",
   "mimetype": "text/x-python",
   "name": "python",
   "nbconvert_exporter": "python",
   "pygments_lexer": "ipython3",
   "version": "3.7.7"
  }
 },
 "nbformat": 4,
 "nbformat_minor": 2
}
