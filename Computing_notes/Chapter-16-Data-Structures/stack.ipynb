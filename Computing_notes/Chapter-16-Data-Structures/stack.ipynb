{
 "cells": [
  {
   "cell_type": "markdown",
   "metadata": {},
   "source": [
    "# Stacks\n",
    "\n",
    "Stacks are essentially an implementation of linked lists, but without the ```remove()``` or ```insert()``` methods. <br>\n",
    "Instead, you need to think of it as plates (data) stacking one on top of the other, without being able to remove or insert in between"
   ]
  },
  {
   "cell_type": "markdown",
   "metadata": {},
   "source": [
    "<img src = 'https://media.geeksforgeeks.org/wp-content/cdn-uploads/20230726165552/Stack-Data-Structure.png'>"
   ]
  },
  {
   "cell_type": "markdown",
   "metadata": {},
   "source": [
    "## Base Version\n",
    "\n",
    "Only have the first 3 basic methods of a stack:\n",
    "1. ```push(data)```\n",
    "2. ```pop()```\n",
    "3. ```peek()```"
   ]
  },
  {
   "cell_type": "code",
   "execution_count": null,
   "metadata": {},
   "outputs": [],
   "source": [
    "# Node class for stack nodes\n",
    "\n",
    "class Node:\n",
    "    def __init__(self, data, nxt= None):\n",
    "        self.data = data\n",
    "        self.nxt = nxt\n",
    "\n",
    "class stack:\n",
    "    def __init__(self):\n",
    "        self.top = None\n",
    "    \n",
    "    def push(self, data):\n",
    "        new_node = Node(data)\n",
    "\n",
    "        if self.top == None:\n",
    "            self.top = new_node\n",
    "            return 1\n",
    "        \n",
    "        new_node.nxt = self.top\n",
    "        self.top = new_node\n",
    "    \n",
    "    def pop(self):\n",
    "        if self.top == None:\n",
    "            return -1 # Stack underflow error, Stack is empty, -1 etc.\n",
    "        else:\n",
    "            popped = self.head\n",
    "            self.head = self.head.nxt\n",
    "            return popped\n",
    "    \n",
    "    def peek(self):\n",
    "        if self.top == None:\n",
    "            return 'Stack is empty'\n",
    "\n",
    "        return self.top.data\n",
    "    "
   ]
  },
  {
   "cell_type": "markdown",
   "metadata": {},
   "source": [
    "## Not so base version, With is_empty() auxillary method\n",
    "Got extra methods of a stack\n",
    "1. ```is_empty()```\n",
    "2. ```is_full()``` # Note this is not needed for a no size limit stack\n",
    "3. ```display()```\n",
    "4. ```size()```"
   ]
  },
  {
   "cell_type": "code",
   "execution_count": null,
   "metadata": {},
   "outputs": [],
   "source": [
    "class Node:\n",
    "    def __init__(self, data, nxt= None):\n",
    "        self.data = data\n",
    "        self.nxt = nxt\n",
    "\n",
    "class stack_with_is_empty:\n",
    "    def __init__(self):\n",
    "        self.top = None\n",
    "        \n",
    "    def is_empty(self):\n",
    "        return self.top == None\n",
    "    \n",
    "    def push(self, data):\n",
    "        new_node = Node(data)\n",
    "\n",
    "        if self.is_empty():\n",
    "            self.top = new_node\n",
    "            return 1\n",
    "        \n",
    "        new_node.nxt = self.top\n",
    "        self.top = new_node\n",
    "    \n",
    "    def pop(self):\n",
    "        if self.is_empty():\n",
    "            return -1 # Stack underflow error, Stack is empty, -1 etc.\n",
    "        else:\n",
    "            popped = self.head\n",
    "            self.head = self.head.nxt\n",
    "            return popped\n",
    "    \n",
    "    def peek(self):\n",
    "        if self.is_empty():\n",
    "            return 'Stack is empty'\n",
    "\n",
    "        return self.top.data"
   ]
  },
  {
   "cell_type": "markdown",
   "metadata": {},
   "source": [
    "## Stack with size limit"
   ]
  },
  {
   "cell_type": "code",
   "execution_count": null,
   "metadata": {},
   "outputs": [],
   "source": [
    "class stack2(stack):\n",
    "    def __init__(self, max_size = 10):\n",
    "        super().__init__()\n",
    "        self.max_size = max_size\n",
    "\n",
    "    def pop(self, data):\n",
    "        pass\n",
    "\n",
    "    def push(self, data):\n",
    "        pass"
   ]
  }
 ],
 "metadata": {
  "language_info": {
   "name": "python"
  }
 },
 "nbformat": 4,
 "nbformat_minor": 2
}
