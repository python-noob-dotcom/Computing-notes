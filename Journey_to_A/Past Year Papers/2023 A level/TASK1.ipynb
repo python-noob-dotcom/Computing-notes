{
 "cells": [
  {
   "cell_type": "code",
   "execution_count": 12,
   "metadata": {},
   "outputs": [],
   "source": [
    "import sqlite3\n",
    "\n",
    "with sqlite3.connect(r'C:\\Users\\eugen\\Desktop\\Computing_notes\\Computing-notes\\Journey_to_A\\Past Year Papers\\2023 A level\\TESTDATABASE.db') as conn:\n",
    "    cursor = conn.cursor()\n",
    "\n",
    "    cursor.execute(\"BEGIN TRANSACTION\")\n",
    "\n",
    "    cursor.execute('CREATE TABLE IF NOT EXISTS \"Class\" (\\\n",
    "\t\"ClassName\"\tTEXT,\\\n",
    "\t\"YearGroup\"\tINTEGER,\\\n",
    "\tPRIMARY KEY(\"ClassName\")\\\n",
    "    );')\n",
    "\n",
    "    cursor.execute('CREATE TABLE IF NOT EXISTS \"Student\" (\\\n",
    "\t\"StudentID\"\tINTEGER,\\\n",
    "\t\"GivenName\"\tTEXT,\\\n",
    "\t\"FamilyName\"\tTEXT,\\\n",
    "\t\"ClassName\"\tTEXT,\\\n",
    "\tFOREIGN KEY(\"ClassName\") REFERENCES \"Class\"(\"ClassName\"),\\\n",
    "\tPRIMARY KEY(\"StudentID\")\\\n",
    "    );')\n",
    "\n",
    "    cursor.execute('CREATE TABLE IF NOT EXISTS \"Test\" (\\\n",
    "\t\"TestID\"\tTEXT,\\\n",
    "\t\"MaxMarks\"\tINTEGER,\\\n",
    "\tPRIMARY KEY(\"TestID\")\\\n",
    "    );')\n",
    "\n",
    "    cursor.execute('CREATE TABLE IF NOT EXISTS \"Student_Test\" (\\\n",
    "\t\"StudentTest_ID\"\tINTEGER,\\\n",
    "\t\"StudentID\"\tINTEGER,\\\n",
    "\t\"TestID\"\tTEXT,\\\n",
    "\t\"Mark\"\tINTEGER,\\\n",
    "\t\"DateTest\"\tTEXT,\\\n",
    "\tFOREIGN KEY(\"TestID\") REFERENCES \"Test\"(\"TestID\"),\\\n",
    "\tFOREIGN KEY(\"StudentID\") REFERENCES \"Student\"(\"StudentID\"),\\\n",
    "\tPRIMARY KEY(\"StudentTest_ID\")\\\n",
    "    );')\n",
    "\n",
    "    conn.commit()"
   ]
  },
  {
   "cell_type": "code",
   "execution_count": 15,
   "metadata": {},
   "outputs": [],
   "source": [
    "import sqlite3\n",
    "\n",
    "with sqlite3.connect(r'C:\\Users\\eugen\\Desktop\\Computing_notes\\Computing-notes\\Journey_to_A\\Past Year Papers\\2023 A level\\TESTDATABASE.db') as conn:\n",
    "    cursor = conn.cursor()\n",
    "\n",
    "    cursor.execute(\"INSERT INTO Class VALUES (?, ?)\", ('CS3', 12))\n",
    "    cursor.execute(\"INSERT INTO Student VALUES (?, ?, ?, ?)\", (102, 'Mary', 'Lim', 'CS3'))\n",
    "    cursor.execute(\"INSERT INTO Test VALUES (?, ?)\", ('PG1', 100))\n",
    "    cursor.execute(\"INSERT INTO Student_Test VALUES (?, ?, ?, ?, ?)\", (123, 102, 'PG1', 85, '01/02/2023'))\n",
    "\n",
    "    conn.commit()"
   ]
  }
 ],
 "metadata": {
  "kernelspec": {
   "display_name": "computing",
   "language": "python",
   "name": "python3"
  },
  "language_info": {
   "codemirror_mode": {
    "name": "ipython",
    "version": 3
   },
   "file_extension": ".py",
   "mimetype": "text/x-python",
   "name": "python",
   "nbconvert_exporter": "python",
   "pygments_lexer": "ipython3",
   "version": "3.6.13"
  }
 },
 "nbformat": 4,
 "nbformat_minor": 2
}
