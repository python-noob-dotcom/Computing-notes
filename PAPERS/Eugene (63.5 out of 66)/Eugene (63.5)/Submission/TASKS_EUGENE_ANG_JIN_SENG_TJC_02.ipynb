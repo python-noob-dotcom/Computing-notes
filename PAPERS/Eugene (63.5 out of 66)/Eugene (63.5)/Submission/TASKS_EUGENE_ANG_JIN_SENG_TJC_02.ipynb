{
 "cells": [
  {
   "cell_type": "code",
   "execution_count": 1,
   "metadata": {},
   "outputs": [
    {
     "name": "stdout",
     "output_type": "stream",
     "text": [
      "[['901', 'RachelBooker'], ['207', 'LauraGrey'], ['408', 'CraigJohnson'], ['934', 'MaryJenkins'], ['507', 'JamieSmith']]\n"
     ]
    }
   ],
   "source": [
    "# task 1.1\n",
    "import csv\n",
    "def read_file(filename):\n",
    "    \n",
    "    \"\"\"\n",
    "    Reads the data in the file name specified, and returns a nested list containing all the lines of data\n",
    "    \"\"\"\n",
    "    with open(filename, 'r') as employee:\n",
    "        employee_data = []\n",
    "        reader = csv.reader(employee)\n",
    "# Get rid of header\n",
    "        header = next(reader)\n",
    "# Append all the data into the array\n",
    "        for line in reader:\n",
    "            employee_data.append(line)\n",
    "        \n",
    "    return employee_data\n",
    "        \n",
    "employee_data = read_file(r'./EMPLOYEES.txt')\n",
    "print(employee_data)"
   ]
  },
  {
   "cell_type": "code",
   "execution_count": 2,
   "metadata": {},
   "outputs": [
    {
     "name": "stdout",
     "output_type": "stream",
     "text": [
      "[['408', 'CraigJohnson'], ['507', 'JamieSmith'], ['207', 'LauraGrey'], ['934', 'MaryJenkins'], ['901', 'RachelBooker']]\n"
     ]
    }
   ],
   "source": [
    "# Task 1.2\n",
    "def sort_employees(array):\n",
    "    \n",
    "    \"\"\"\n",
    "    Implements a insertion sort to sort the names of the employees\n",
    "    \"\"\"\n",
    "    def insertion_sort(array):\n",
    "        for i in range(1, len(array)):\n",
    "# Pointer / key element in the iteration\n",
    "            curr_element = array[i]\n",
    "\n",
    "            j = i - 1\n",
    "# Comparison and swapping of elements\n",
    "            while curr_element < array[j] and j >= 0:\n",
    "                array[j + 1] = array[j]\n",
    "                array[j] = curr_element # insertion should take place out of the while loop.\n",
    "            # array[j] = curr_element\n",
    "\n",
    "                j -= 1\n",
    "\n",
    "        return array\n",
    "\n",
    "#     Get the names of employees\n",
    "    employees = []\n",
    "    for line in employee_data:\n",
    "        employees.append(line[1])\n",
    "\n",
    "#         Sort them using insertion sort helper\n",
    "    employees = insertion_sort(employees)\n",
    "\n",
    "#     PLace the array back together since the userid is with the username\n",
    "    for i in range(len(employee_data)):\n",
    "        for j in range(len(employees)):\n",
    "            if employees[j] in employee_data[i]:\n",
    "                employees[j] = employee_data[i]\n",
    "\n",
    "    return employees \n",
    "\n",
    "sorted_employee_data = sort_employees(employee_data)\n",
    "print(sorted_employee_data)"
   ]
  },
  {
   "cell_type": "code",
   "execution_count": 3,
   "metadata": {},
   "outputs": [],
   "source": [
    "# Task 1.3\n",
    "\n",
    "def user_id_search(employees, username, low, high):\n",
    "    \n",
    "    \"\"\"\n",
    "    Implements a binary search algorithm to search for the userid of the employee, and returns the userid of the employee if found, else returns -1\n",
    "    \"\"\"\n",
    "    def binary_search(employees, username, low, high):\n",
    "#         Base Case\n",
    "        if low > high:\n",
    "            return -1\n",
    "        else:\n",
    "#             Get the middle index\n",
    "            mid = (high + low) // 2\n",
    "#             Get the value of the employee username\n",
    "            data = employees[mid]\n",
    "            \n",
    "            if data[1] == username:\n",
    "                return mid\n",
    "            else:\n",
    "                if data[1] > username:\n",
    "                    return binary_search(employees, username, low, mid - 1)\n",
    "                else:\n",
    "                    return binary_search(employees, username, mid + 1, high)\n",
    "                \n",
    "# Get the index of the username\n",
    "    index = binary_search(employees, username, low, high)\n",
    "    \n",
    "# Return userid\n",
    "    return employees[index][0] if index != -1 else -1\n",
    "        "
   ]
  },
  {
   "cell_type": "code",
   "execution_count": 4,
   "metadata": {
    "scrolled": true
   },
   "outputs": [
    {
     "name": "stdout",
     "output_type": "stream",
     "text": [
      "Please input a username: JamesSmith\n",
      "Not found\n",
      "Please input a username: JamieSmith\n",
      "507\n"
     ]
    }
   ],
   "source": [
    "# Task 1.4\n",
    "\n",
    "def prompt_input():\n",
    "    \n",
    "    \"\"\"\n",
    "    Prompts user to input username, and checks if the username is valid. If not valid, prompt will be asked again\n",
    "    \"\"\"\n",
    "    username = input('Please input a username: ')\n",
    "#     Check if all the characters in username is alphabet\n",
    "    while not username.isalpha():\n",
    "        print('You have entered a username that contains characters that are not alphabets')\n",
    "        username = input('Please enter a username that contains only alphabets: ')\n",
    "    return username\n",
    "\n",
    "def main():\n",
    "    \"\"\"\n",
    "    Main sequence of code\n",
    "    \"\"\"\n",
    "    if __name__ == '__main__':\n",
    "# read file\n",
    "        employee_data = read_file(r'./EMPLOYEES.txt')\n",
    "# sort data\n",
    "        sorted_employee_data = sort_employees(employee_data)\n",
    "# Get username\n",
    "        username = prompt_input()\n",
    "# Get result --> either valid userid or -1\n",
    "        result = user_id_search(sorted_employee_data, username, 0, len(sorted_employee_data))\n",
    "\n",
    "#     return result\n",
    "        if result != -1:\n",
    "            print(result)\n",
    "        else:\n",
    "            print('Not found')\n",
    "\n",
    "main()\n",
    "main()"
   ]
  },
  {
   "cell_type": "code",
   "execution_count": 1,
   "metadata": {},
   "outputs": [],
   "source": [
    "# Task 2.1\n",
    "\n",
    "def task2_1(input_value):\n",
    "    \"\"\"\n",
    "    Checks that the input_value is an integer, or a string that contains valid integers, and checks the length of the input value\n",
    "    \"\"\"\n",
    "    \n",
    "#     Checks that the input value is a string that contains only integers or is a integer, and the length of the input is 12\n",
    "    if (type(input_value) == int or str(input_value).isdecimal()) and len(str(input_value)) == 12:\n",
    "        return True\n",
    "    else:\n",
    "        return False"
   ]
  },
  {
   "cell_type": "code",
   "execution_count": 2,
   "metadata": {},
   "outputs": [
    {
     "name": "stdout",
     "output_type": "stream",
     "text": [
      "True\n",
      "True\n",
      "False\n",
      "False\n"
     ]
    }
   ],
   "source": [
    "# Task 2.2\n",
    "\n",
    "print(task2_1('123456789123'))\n",
    "print(task2_1(123456789123))\n",
    "print(task2_1('awhashd'))\n",
    "print(task2_1(1234))"
   ]
  },
  {
   "cell_type": "code",
   "execution_count": 3,
   "metadata": {},
   "outputs": [],
   "source": [
    "# Task 2.3\n",
    "\n",
    "def task2_3(input_value):\n",
    "    \"\"\"\n",
    "    Takes in the left most 12 digits of the EAN and returns the check digit\n",
    "    \"\"\"\n",
    "    total = 0\n",
    "#     Calculate the check digit using the algorithm given\n",
    "    for i in range(len(input_value) - 1, -1, -1):\n",
    "        if (i + 1) % 2 != 0:\n",
    "            total += int(input_value[i])\n",
    "        else:\n",
    "            total += int(input_value[i]) * 3\n",
    "#     Calculate the check digit using the given algo\n",
    "    check_digit = 10 - total % 10\n",
    "    \n",
    "#     Return check digit\n",
    "    if check_digit != 10:\n",
    "        return check_digit\n",
    "    else:\n",
    "        return 0"
   ]
  },
  {
   "cell_type": "code",
   "execution_count": 5,
   "metadata": {},
   "outputs": [
    {
     "data": {
      "text/plain": [
       "1"
      ]
     },
     "execution_count": 5,
     "metadata": {},
     "output_type": "execute_result"
    }
   ],
   "source": [
    "task2_3(\"400638133393\")"
   ]
  },
  {
   "cell_type": "code",
   "execution_count": 8,
   "metadata": {},
   "outputs": [
    {
     "name": "stdout",
     "output_type": "stream",
     "text": [
      "True\n",
      "True\n",
      "True\n",
      "True\n"
     ]
    }
   ],
   "source": [
    "# Task 2.4\n",
    "\n",
    "def task2_4(input_value):\n",
    "    \"\"\"\n",
    "    Takes in the EAN-13 digits, and checks for the validity of the EAN-13 code, if it has the correct check digit and is of correct format\n",
    "    \"\"\"\n",
    "#     Get the check digit\n",
    "    check_digit = list(input_value)[-1]\n",
    "#     Remove check digit\n",
    "    input_value = input_value[:12]\n",
    "#     Do validation\n",
    "    if task2_1(input_value):\n",
    "        if task2_3(input_value[:13]) == int(check_digit):\n",
    "            return True\n",
    "        else:\n",
    "            return False\n",
    "    else:\n",
    "        return False\n",
    "    \n",
    "    \n",
    "print(task2_4('0000000000000'))\n",
    "print(task2_4('1111111111116'))\n",
    "print(not task2_4('abcdefg'))\n",
    "print(not task2_4('1234442'))"
   ]
  },
  {
   "cell_type": "code",
   "execution_count": 9,
   "metadata": {},
   "outputs": [],
   "source": [
    "# Task 3.1\n",
    "\n",
    "import csv\n",
    "\n",
    "# Open file\n",
    "with open(r'./MRT.csv', 'r') as mrt_data:\n",
    "    reader = csv.reader(mrt_data)\n",
    "#     Get rid of header\n",
    "    header = next(reader)\n",
    "#     Append all rows into data\n",
    "    data = []\n",
    "    \n",
    "    for line in reader:\n",
    "#         Convert the longitude and latitude into floats\n",
    "        line[2], line[3] = float(line[2]), float(line[3])\n",
    "        data.append(line)\n"
   ]
  },
  {
   "cell_type": "code",
   "execution_count": 10,
   "metadata": {},
   "outputs": [
    {
     "name": "stdout",
     "output_type": "stream",
     "text": [
      "The distance between the north most station on the NS line and the southern most station on the NS line is 20.33 km.\n"
     ]
    }
   ],
   "source": [
    "# Task 3.2 \n",
    "\n",
    "from math import *\n",
    "\n",
    "def Haversine(coord1,coord2):\n",
    "    \n",
    "    '''For calculating the distance between 2 points'''\n",
    "\n",
    "    long1, lat1 = coord1\n",
    "    long2, lat2 = coord2\n",
    "\n",
    "    R = 6371000                               # radius of Earth in meters\n",
    "    phi_1 = radians(lat1)\n",
    "    phi_2 = radians(lat2)\n",
    "\n",
    "    delta_phi = radians(lat2-lat1)\n",
    "    delta_lambda = radians(long2-long1)\n",
    "\n",
    "    a = sin(delta_phi/2.0)**2 + cos(phi_1) * cos(phi_2) * sin(delta_lambda/2.0)**2\n",
    "    c = 2 * atan2(sqrt(a), sqrt(1-a))\n",
    "\n",
    "    return R * c/1000.0\n",
    "\n",
    "# Initialise largest and smallest latitudes for comparison\n",
    "largest_latitude = 0\n",
    "smallest_latitude = float('inf')\n",
    "\n",
    "# Iterate through data\n",
    "for line in data:\n",
    "#     If smaller or larger latitude found, replace. Also store the data of the station to use for calculaton of distance later\n",
    "    if line[2] > largest_latitude:\n",
    "        largest_latitude = line[2]\n",
    "        north_most_station_data = line\n",
    "    elif line[2] < smallest_latitude:\n",
    "        smallest_latitude = line[2]\n",
    "        south_most_station_data = line\n",
    "\n",
    "lat_north, long_north = north_most_station_data[2:]\n",
    "lat_south, long_south = south_most_station_data[2:]\n",
    "\n",
    "# Compute distance\n",
    "distance = Haversine([long_north, lat_north], [long_south, lat_south])\n",
    "\n",
    "print(f'The distance between the north most station on the NS line and the southern most station on the NS line is {round(distance, 2)} km.')"
   ]
  },
  {
   "cell_type": "code",
   "execution_count": 11,
   "metadata": {
    "scrolled": true
   },
   "outputs": [
    {
     "name": "stdout",
     "output_type": "stream",
     "text": [
      "FROM                          TO                            DISTANCE (km)                 \n",
      "JURONG EAST MRT STATION       BUKIT BATOK MRT STATION       1.94                          \n",
      "BUKIT BATOK MRT STATION       BUKIT GOMBAK MRT STATION      1.11                          \n",
      "BUKIT GOMBAK MRT STATION      CHOA CHU KANG MRT STATION     3.07                          \n",
      "CHOA CHU KANG MRT STATION     YEW TEE MRT STATION           1.4                           \n",
      "YEW TEE MRT STATION           KRANJI MRT STATION            3.48                          \n",
      "KRANJI MRT STATION            MARSILING MRT STATION         1.55                          \n",
      "MARSILING MRT STATION         WOODLANDS MRT STATION         1.46                          \n",
      "WOODLANDS MRT STATION         ADMIRALTY MRT STATION         1.66                          \n",
      "ADMIRALTY MRT STATION         SEMBAWANG MRT STATION         2.32                          \n",
      "SEMBAWANG MRT STATION         CANBERRA MRT STATION          1.26                          \n",
      "CANBERRA MRT STATION          YISHUN MRT STATION            1.63                          \n",
      "YISHUN MRT STATION            KHATIB MRT STATION            1.36                          \n",
      "KHATIB MRT STATION            YIO CHU KANG MRT STATION      4.18                          \n",
      "YIO CHU KANG MRT STATION      ANG MO KIO MRT STATION        1.41                          \n",
      "ANG MO KIO MRT STATION        BISHAN MRT STATION            2.13                          \n",
      "BISHAN MRT STATION            BRADDELL MRT STATION          1.16                          \n",
      "BRADDELL MRT STATION          TOA PAYOH MRT STATION         0.88                          \n",
      "TOA PAYOH MRT STATION         NOVENA MRT STATION            1.42                          \n",
      "NOVENA MRT STATION            NEWTON MRT STATION            1.11                          \n",
      "NEWTON MRT STATION            ORCHARD MRT STATION           1.13                          \n",
      "ORCHARD MRT STATION           SOMERSET MRT STATION          0.86                          \n",
      "SOMERSET MRT STATION          DHOBY GHAUT MRT STATION       0.8                           \n",
      "DHOBY GHAUT MRT STATION       CITY HALL MRT STATION         0.96                          \n",
      "CITY HALL MRT STATION         RAFFLES PLACE MRT STATION     0.99                          \n",
      "RAFFLES PLACE MRT STATION     MARINA BAY MRT STATION        0.92                          \n",
      "MARINA BAY MRT STATION        MARINA SOUTH PIER MRT STATION 1.08                          \n",
      "Total Distance is: 41.27\n"
     ]
    }
   ],
   "source": [
    "# Task 3.3\n",
    "\n",
    "# Print in tabular format\n",
    "FROM = 'FROM'\n",
    "TO = 'TO'\n",
    "DISTANCE = 'DISTANCE (km)'\n",
    "print(f'{FROM:<30}{TO:<30}{DISTANCE:<30}')\n",
    "\n",
    "with open(r'./output.txt', 'w', newline= '\\n') as output:\n",
    "    \n",
    "    total = 0\n",
    "    \n",
    "    for i in range(len(data) - 1):\n",
    "        coord1 = [data[i][3], data[i][2]]\n",
    "        coord2 = [data[i + 1][3], data[i + 1][2]]\n",
    "#         Compute distance\n",
    "        distance = round(Haversine(coord1, coord2), 2)\n",
    "        total += distance\n",
    "        \n",
    "#         Print in tabular format\n",
    "        print(f'{data[i][1]:<30}{data[i + 1][1]:<30}{distance:<30}')\n",
    "#     Output the contents into the output.txt file\n",
    "        output.write(str(data[i][1]) + ',' + str(data[i + 1][1]) + ',' + str(distance) + '\\n')\n",
    "        \n",
    "    print(f'Total Distance is: {total}')"
   ]
  }
 ],
 "metadata": {
  "kernelspec": {
   "display_name": "Python 3",
   "language": "python",
   "name": "python3"
  },
  "language_info": {
   "codemirror_mode": {
    "name": "ipython",
    "version": 3
   },
   "file_extension": ".py",
   "mimetype": "text/x-python",
   "name": "python",
   "nbconvert_exporter": "python",
   "pygments_lexer": "ipython3",
   "version": "3.6.4"
  }
 },
 "nbformat": 4,
 "nbformat_minor": 2
}
