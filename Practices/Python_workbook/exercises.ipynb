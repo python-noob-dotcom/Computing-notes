{
 "cells": [
  {
   "attachments": {},
   "cell_type": "markdown",
   "metadata": {},
   "source": [
    "#### Exercise 164: Total the numbers"
   ]
  },
  {
   "cell_type": "code",
   "execution_count": 2,
   "metadata": {},
   "outputs": [
    {
     "data": {
      "text/plain": [
       "3"
      ]
     },
     "execution_count": 2,
     "metadata": {},
     "output_type": "execute_result"
    }
   ],
   "source": [
    "def total():\n",
    "    userin = input('Input a number you want to add to the total, enter a blank line to compute total')\n",
    "    if userin != '':\n",
    "        return int(userin) + total()\n",
    "    else:\n",
    "        userin = 0\n",
    "        return userin\n",
    "    \n",
    "total()"
   ]
  },
  {
   "attachments": {},
   "cell_type": "markdown",
   "metadata": {},
   "source": [
    "#### Exercise 165: Greatest Common Divisor"
   ]
  },
  {
   "cell_type": "code",
   "execution_count": 6,
   "metadata": {},
   "outputs": [
    {
     "data": {
      "text/plain": [
       "2"
      ]
     },
     "execution_count": 6,
     "metadata": {},
     "output_type": "execute_result"
    }
   ],
   "source": [
    "def gcd(a, b):\n",
    "    if b == 0:\n",
    "        return a\n",
    "    else:\n",
    "        c = a % b\n",
    "        return gcd(b, c)\n",
    "    \n",
    "gcd(20, 6)"
   ]
  },
  {
   "attachments": {},
   "cell_type": "markdown",
   "metadata": {},
   "source": [
    "#### Exercise 166: Recursive Decimal to Binary"
   ]
  },
  {
   "cell_type": "code",
   "execution_count": 21,
   "metadata": {},
   "outputs": [
    {
     "data": {
      "text/plain": [
       "'1100100'"
      ]
     },
     "execution_count": 21,
     "metadata": {},
     "output_type": "execute_result"
    }
   ],
   "source": [
    "def dec_to_bin(number):\n",
    "    if number // 2 == 0:\n",
    "        return str(number % 2)\n",
    "    else:\n",
    "        return dec_to_bin(number // 2) + str(number % 2)\n",
    "    \n",
    "dec_to_bin(100)"
   ]
  },
  {
   "cell_type": "markdown",
   "metadata": {},
   "source": [
    "### Exercise 81 Compute the hypotenuse"
   ]
  },
  {
   "cell_type": "code",
   "execution_count": 4,
   "metadata": {},
   "outputs": [
    {
     "name": "stdout",
     "output_type": "stream",
     "text": [
      "5.0\n"
     ]
    }
   ],
   "source": [
    "def hypotenuse(x, y):\n",
    "    return (int(x) ** 2 + int(y) ** 2) ** 0.5\n",
    "\n",
    "if __name__ == '__main__':\n",
    "    side1, side2 = input('Input the lengths of the triangle using the format: x y.').split(' ')\n",
    "    print(hypotenuse(side1, side2))"
   ]
  },
  {
   "cell_type": "markdown",
   "metadata": {},
   "source": [
    "### Exercise 82 Taxi Fare"
   ]
  },
  {
   "cell_type": "code",
   "execution_count": 6,
   "metadata": {},
   "outputs": [
    {
     "name": "stdout",
     "output_type": "stream",
     "text": [
      "7.75\n"
     ]
    }
   ],
   "source": [
    "def taxi_fare(distance):\n",
    "    fare = 4.00\n",
    "    fare += (int(distance) // 0.14 + 1) * 0.25\n",
    "    return fare\n",
    "\n",
    "if __name__ == '__main__':\n",
    "    userin = input('Enter the distance travelled')\n",
    "    print(taxi_fare(userin))"
   ]
  },
  {
   "cell_type": "markdown",
   "metadata": {},
   "source": [
    "### Exercise 83 Shipping Calculator"
   ]
  },
  {
   "cell_type": "code",
   "execution_count": null,
   "metadata": {},
   "outputs": [],
   "source": [
    "def shipping_calculator(number):\n",
    "    charge = 10.95\n",
    "    charge += (number - 1) * 2.95\n",
    "    return charge\n",
    "\n",
    "if __name__ == '__main__':\n",
    "    userin = input('Enter the number of items ordered')\n",
    "    print(shipping_calculator(int(userin)))"
   ]
  },
  {
   "cell_type": "markdown",
   "metadata": {},
   "source": [
    "### Exercise 84 Median of three"
   ]
  },
  {
   "cell_type": "code",
   "execution_count": 8,
   "metadata": {},
   "outputs": [
    {
     "name": "stdout",
     "output_type": "stream",
     "text": [
      "2\n"
     ]
    }
   ],
   "source": [
    "def median(val1, val2, val3):\n",
    "    return sorted([val1, val2, val3])[1]\n",
    "\n",
    "if __name__ == '__main__':\n",
    "    val1, val2, val3 = input('Enter 3 numbers in the format: 1 2 3').split(' ')\n",
    "    print(median(val1, val2, val3))"
   ]
  },
  {
   "cell_type": "markdown",
   "metadata": {},
   "source": [
    "### Exercise 85 Convert Integer to ordinal number"
   ]
  },
  {
   "cell_type": "code",
   "execution_count": null,
   "metadata": {},
   "outputs": [],
   "source": [
    "def inttoord(number):\n",
    "    ords = {1:'first', 2:'second', 3:'third', 4:'fourth', 5:'fifth', 6:'sixth', 7:'seventh', 8:'eigth', 9:'nineth', 10:'tenth', 11:'eleventh', 12:'twelfth'}\n",
    "    if number > 12 or number < 1:\n",
    "        return ''\n",
    "    else:\n",
    "        return ords[number]\n",
    "    \n",
    "if __name__ == '__main__':\n",
    "    userin = input('Enter a number: ')\n",
    "    print(inttoord(int(userin)))"
   ]
  },
  {
   "cell_type": "markdown",
   "metadata": {},
   "source": []
  },
  {
   "cell_type": "code",
   "execution_count": null,
   "metadata": {},
   "outputs": [],
   "source": [
    "class Library_item():\n",
    "    def __init__(self, item_id, title, loaned_by, due_date) -> None:\n",
    "        self.item_id = str(item_id)\n",
    "        self.title = str(title)\n",
    "        self.loaned_by = str(loaned_by) if str(loaned_by) != '' else ''\n",
    "        self.due_date = str(due_date)\n",
    "\n",
    "    def is_on_loan(self):\n",
    "        if self.loaned_by == '':\n",
    "            return False\n",
    "        else:\n",
    "            return True\n",
    "    \n",
    "    def return_item(self):\n",
    "        self.loaned_by = ''\n",
    "\n",
    "    def loan_to(self, user_id):\n",
    "        if self.loaned_by == '':\n",
    "            self.loaned_by = str(user_id)\n",
    "            return True\n",
    "        else:\n",
    "            return False\n",
    "    \n",
    "    def print_details(self):\n",
    "        to_print = self.title + '\\n'\n",
    "        if self.loaned_by != '':\n",
    "            print()\n",
    "            print()\n",
    "            print()"
   ]
  }
 ],
 "metadata": {
  "kernelspec": {
   "display_name": "computing",
   "language": "python",
   "name": "python3"
  },
  "language_info": {
   "codemirror_mode": {
    "name": "ipython",
    "version": 3
   },
   "file_extension": ".py",
   "mimetype": "text/x-python",
   "name": "python",
   "nbconvert_exporter": "python",
   "pygments_lexer": "ipython3",
   "version": "3.6.4"
  },
  "orig_nbformat": 4
 },
 "nbformat": 4,
 "nbformat_minor": 2
}
