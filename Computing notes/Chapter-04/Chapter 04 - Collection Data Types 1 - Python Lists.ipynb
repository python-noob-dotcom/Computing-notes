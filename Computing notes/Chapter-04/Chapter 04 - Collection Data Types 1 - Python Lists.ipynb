{
 "cells": [
  {
   "cell_type": "markdown",
   "metadata": {},
   "source": [
    "# <div class = \"alert alert-info\"> <font color = purple> Chapter 04 - Collection Data Types 1: Python Lists"
   ]
  },
  {
   "cell_type": "markdown",
   "metadata": {
    "id": "qN-7ek4kqgF_",
    "nbgrader": {
     "grade": false,
     "grade_id": "cell-ae67ed4e5ada738d",
     "locked": true,
     "schema_version": 3,
     "solution": false,
     "task": false
    }
   },
   "source": [
    "We have thus far looked at some operations used to handle the following basic data types:\n",
    "\n",
    "- Integer `int`\n",
    "- Floating point number `float`\n",
    "- Boolean `bool`\n",
    "- Character `chr`\n",
    "- String `str`\n",
    "\n",
    "In this chapter, we shall looked at how data can be compounded and handled as a collection."
   ]
  },
  {
   "cell_type": "markdown",
   "metadata": {},
   "source": [
    "In Python, data can be compounded into the following collection data types:\n",
    "\n",
    "- list `list` \n",
    "- tuple `tuple`\n",
    "- dictionary `dict`\n",
    "- set `set`\n",
    "\n",
    "Each collection data type has its own properties and set of operations which may be similar to or different from another collection data type."
   ]
  },
  {
   "cell_type": "markdown",
   "metadata": {
    "id": "z454qx6gqgGB",
    "nbgrader": {
     "grade": false,
     "grade_id": "cell-b406602fd14c791b",
     "locked": true,
     "schema_version": 3,
     "solution": false,
     "task": false
    }
   },
   "source": [
    "## 4.1 Python lists\n",
    "\n",
    "A Python list is a simple collection of data.\n",
    "\n",
    "You can initialise a Python list from a collection of data by enclosing them in a pair of square brackets`[]`, then separating each piece of data with a comma `,`.\n",
    "\n",
    "Try the following lines of code one by one in the cell below:\n",
    "\n",
    "1. `list_ = [1, 2, 3, 4, 5]`\n",
    "3. `list_ = ['apple', 'blueberry', 'carrot',]`\n",
    "2. `list_ = [1, '2', 3.0, True, 'apple']`\n",
    "4. `list_ = []`"
   ]
  },
  {
   "cell_type": "code",
   "execution_count": null,
   "metadata": {
    "id": "1RLSmbaKqgGB"
   },
   "outputs": [],
   "source": [
    "# A list can contain integers\n",
    "list_ = [i for i in range(1, 6)]"
   ]
  },
  {
   "cell_type": "code",
   "execution_count": 39,
   "metadata": {},
   "outputs": [],
   "source": [
    "# A list can contain strings too. It will also ignore one trailing comma at the end of the list.\n",
    "list_ = ['apple', 'blueberry', 'carrot', ]"
   ]
  },
  {
   "cell_type": "code",
   "execution_count": null,
   "metadata": {},
   "outputs": [],
   "source": [
    "# A list can even contain a mixture of different data types.\n",
    "# May not be meaningful\n",
    "list_ = [1, '2', 3.0, True, 'apple']"
   ]
  },
  {
   "cell_type": "code",
   "execution_count": 2,
   "metadata": {},
   "outputs": [
    {
     "data": {
      "text/plain": [
       "[]"
      ]
     },
     "execution_count": 2,
     "metadata": {},
     "output_type": "execute_result"
    }
   ],
   "source": [
    "# This is how you initialise an empty list\n",
    "list_ = []"
   ]
  },
  {
   "cell_type": "markdown",
   "metadata": {},
   "source": [
    "### 4.1.1 The `list()` Constructor\n",
    "\n",
    "The `list()` constructor can be used to create a list from existing data that can be iterated e.g strings"
   ]
  },
  {
   "cell_type": "code",
   "execution_count": 43,
   "metadata": {},
   "outputs": [
    {
     "data": {
      "text/plain": [
       "['a', 'p', 'p', 'l', 'e']"
      ]
     },
     "execution_count": 43,
     "metadata": {},
     "output_type": "execute_result"
    }
   ],
   "source": [
    "# Iterating through a string to create a list of characters\n",
    "\n",
    "list('apple')"
   ]
  },
  {
   "cell_type": "markdown",
   "metadata": {},
   "source": [
    "The `list()` constructor cannot be used on data that cannot be iterated."
   ]
  },
  {
   "cell_type": "code",
   "execution_count": 44,
   "metadata": {},
   "outputs": [
    {
     "data": {
      "text/plain": [
       "['4', '.', '0']"
      ]
     },
     "execution_count": 44,
     "metadata": {},
     "output_type": "execute_result"
    }
   ],
   "source": [
    "# Integers and floats are examples of data that cannot be iterated\n",
    "\n",
    "list(str(300))\n",
    "\n",
    "list(str(4.0))"
   ]
  },
  {
   "cell_type": "markdown",
   "metadata": {
    "id": "8eCeReo6qgGC",
    "nbgrader": {
     "grade": false,
     "grade_id": "cell-c23728a02ade9be5",
     "locked": true,
     "schema_version": 3,
     "solution": false,
     "task": false
    }
   },
   "source": [
    "### 4.1.2 List indexing\n",
    "\n",
    "List indexing works similar to string indexing. In fact, strings are implemented in Python internally as a special type of list.\n",
    "\n",
    "Each item in a list is called an **element**. The elements of a list can be retrieved using their **index**.\n",
    "\n",
    "The first element of a list has index `0`. Hence `list[0]` returns the first element of the list; `list[1]` returns the second element, and so on.\n",
    "\n",
    "Try the following lines of code one by one in the cell below:\n",
    "\n",
    "`mylist = [1, 2, 3, 4, 5]`\n",
    "1. `type(mylist)`\n",
    "2. `mylist[0]` \n",
    "3. `mylist[5]` \n",
    "4. `mylist[1.0]` \n",
    "5. `mylist[]`\n",
    "6. `mylist[-1]` "
   ]
  },
  {
   "cell_type": "code",
   "execution_count": 45,
   "metadata": {
    "id": "q9IzlGuHqgGC"
   },
   "outputs": [
    {
     "data": {
      "text/plain": [
       "list"
      ]
     },
     "execution_count": 45,
     "metadata": {},
     "output_type": "execute_result"
    }
   ],
   "source": [
    "mylist = [1, 2, 3, 4, 5] # Do not remove this line.\n",
    "\n",
    "# A list is a type of object in Python\n",
    "type(mylist)"
   ]
  },
  {
   "cell_type": "code",
   "execution_count": 50,
   "metadata": {},
   "outputs": [
    {
     "name": "stdout",
     "output_type": "stream",
     "text": [
      "1\n",
      "2\n",
      "3\n",
      "4\n",
      "5\n"
     ]
    }
   ],
   "source": [
    "# Try addressing mylist with other integers besides 0 in mylist[0]\n",
    "print(mylist[0])\n",
    "print(mylist[1])\n",
    "print(mylist[2])\n",
    "print(mylist[3])\n",
    "print(mylist[4])"
   ]
  },
  {
   "cell_type": "code",
   "execution_count": 51,
   "metadata": {},
   "outputs": [
    {
     "ename": "IndexError",
     "evalue": "list index out of range",
     "output_type": "error",
     "traceback": [
      "\u001b[1;31m---------------------------------------------------------------------------\u001b[0m",
      "\u001b[1;31mIndexError\u001b[0m                                Traceback (most recent call last)",
      "\u001b[1;32m<ipython-input-51-853a01b84058>\u001b[0m in \u001b[0;36m<module>\u001b[1;34m()\u001b[0m\n\u001b[0;32m      1\u001b[0m \u001b[1;31m# The largest index in a list of length n is n-1 as indices start from 0.\u001b[0m\u001b[1;33m\u001b[0m\u001b[1;33m\u001b[0m\u001b[0m\n\u001b[0;32m      2\u001b[0m \u001b[1;31m# Attempting to address a list with an index greater than n-1 produces an IndexError\u001b[0m\u001b[1;33m\u001b[0m\u001b[1;33m\u001b[0m\u001b[0m\n\u001b[1;32m----> 3\u001b[1;33m \u001b[0mprint\u001b[0m\u001b[1;33m(\u001b[0m\u001b[0mmylist\u001b[0m\u001b[1;33m[\u001b[0m\u001b[1;36m5\u001b[0m\u001b[1;33m]\u001b[0m\u001b[1;33m)\u001b[0m\u001b[1;33m\u001b[0m\u001b[0m\n\u001b[0m",
      "\u001b[1;31mIndexError\u001b[0m: list index out of range"
     ]
    }
   ],
   "source": [
    "# The largest index in a list of length n is n-1 as indices start from 0. \n",
    "# Attempting to address a list with an index greater than n-1 produces an IndexError\n",
    "print(mylist[5])"
   ]
  },
  {
   "cell_type": "code",
   "execution_count": 52,
   "metadata": {},
   "outputs": [
    {
     "ename": "TypeError",
     "evalue": "list indices must be integers or slices, not float",
     "output_type": "error",
     "traceback": [
      "\u001b[1;31m---------------------------------------------------------------------------\u001b[0m",
      "\u001b[1;31mTypeError\u001b[0m                                 Traceback (most recent call last)",
      "\u001b[1;32m<ipython-input-52-06f87611854c>\u001b[0m in \u001b[0;36m<module>\u001b[1;34m()\u001b[0m\n\u001b[0;32m      1\u001b[0m \u001b[1;31m# A list index must be an integer.\u001b[0m\u001b[1;33m\u001b[0m\u001b[1;33m\u001b[0m\u001b[0m\n\u001b[1;32m----> 2\u001b[1;33m \u001b[0mmylist\u001b[0m\u001b[1;33m[\u001b[0m\u001b[1;36m1.0\u001b[0m\u001b[1;33m]\u001b[0m\u001b[1;33m\u001b[0m\u001b[0m\n\u001b[0m",
      "\u001b[1;31mTypeError\u001b[0m: list indices must be integers or slices, not float"
     ]
    }
   ],
   "source": [
    "# A list index must be an integer.\n",
    "mylist[1.0]"
   ]
  },
  {
   "cell_type": "code",
   "execution_count": 53,
   "metadata": {},
   "outputs": [
    {
     "ename": "SyntaxError",
     "evalue": "invalid syntax (<ipython-input-53-9d908f1247aa>, line 3)",
     "output_type": "error",
     "traceback": [
      "\u001b[1;36m  File \u001b[1;32m\"<ipython-input-53-9d908f1247aa>\"\u001b[1;36m, line \u001b[1;32m3\u001b[0m\n\u001b[1;33m    mylist[]\u001b[0m\n\u001b[1;37m           ^\u001b[0m\n\u001b[1;31mSyntaxError\u001b[0m\u001b[1;31m:\u001b[0m invalid syntax\n"
     ]
    }
   ],
   "source": [
    "# You cannot address a list without an index. \n",
    "# To refer to the entire list as an object, use the list's variable name, i.e. mylist.\n",
    "mylist[]"
   ]
  },
  {
   "cell_type": "code",
   "execution_count": 56,
   "metadata": {},
   "outputs": [
    {
     "data": {
      "text/plain": [
       "1"
      ]
     },
     "execution_count": 56,
     "metadata": {},
     "output_type": "execute_result"
    }
   ],
   "source": [
    "# Negative integer indices address the list backward. \n",
    "# Try indexing mylist with -1, -2,-3, etc. \n",
    "# What happens when you go below -5? IndexError, out of range\n",
    "mylist[-5]"
   ]
  },
  {
   "cell_type": "markdown",
   "metadata": {
    "id": "ncwQ0gZIqgGD",
    "nbgrader": {
     "grade": false,
     "grade_id": "cell-05ba6e485fc850df",
     "locked": true,
     "schema_version": 3,
     "solution": false,
     "task": false
    }
   },
   "source": [
    "### 4.1.3 List slicing\n",
    "\n",
    "List slicing allow you to return multiple elements from a list, just as string slicing allows you to return substrings of characters from a string.\n",
    "\n",
    "Try the following lines of code one by one in the cell below:\n",
    "\n",
    "`yourlist = [\"Alice\", \"Bob\", \"Charlie\", \"Dawn\", \"Ernest\"]`\n",
    "1. `yourlist[0:0]`\n",
    "2. `yourlist[0:1]` \n",
    "3. `yourlist[0:4]` \n",
    "4. `yourlist[0:6]` \n",
    "5. `yourlist[0:5:2]` \n",
    "6. `yourlist[0:4:2]`\n",
    "7. `yourlist[0::2]`\n",
    "8. `yourlist[::-1]`\n",
    "9. `yourlist[0:4:-1]`\n",
    "10. `yourlist[4:0:-1]`\n",
    "11. `type(yourlist[0:0])`"
   ]
  },
  {
   "cell_type": "code",
   "execution_count": 57,
   "metadata": {
    "id": "IClwNkg1qgGD"
   },
   "outputs": [
    {
     "data": {
      "text/plain": [
       "[]"
      ]
     },
     "execution_count": 57,
     "metadata": {},
     "output_type": "execute_result"
    }
   ],
   "source": [
    "yourlist = [\"Alice\", \"Bob\", \"Charlie\", \"Dawn\", \"Ernest\"] # Do not remove this line.\n",
    "\n",
    "# This should give you an empty list.\n",
    "\n",
    "yourlist[0:0]"
   ]
  },
  {
   "cell_type": "code",
   "execution_count": null,
   "metadata": {},
   "outputs": [],
   "source": [
    "# How does yourlist[0:1] differ from yourlist[0]\n",
    "print(yourlist[0:1])\n",
    "print(yourlist[0])"
   ]
  },
  {
   "cell_type": "code",
   "execution_count": 58,
   "metadata": {},
   "outputs": [
    {
     "data": {
      "text/plain": [
       "['Alice', 'Bob', 'Charlie', 'Dawn']"
      ]
     },
     "execution_count": 58,
     "metadata": {},
     "output_type": "execute_result"
    }
   ],
   "source": [
    "# Why doesn't yourlist[0:4] return the whole list?\n",
    "yourlist[0:4]\n",
    "# Note: upper limit is excluded"
   ]
  },
  {
   "cell_type": "code",
   "execution_count": null,
   "metadata": {},
   "outputs": [],
   "source": [
    "# If the slice exceeds the largest index, you won't get an error but those indices will be ignored.\n",
    "yourlist[0:100]"
   ]
  },
  {
   "cell_type": "code",
   "execution_count": null,
   "metadata": {},
   "outputs": [],
   "source": [
    "# What is the significance of the third number in a slicing operation? \n",
    "yourlist[0:5:-1]"
   ]
  },
  {
   "cell_type": "code",
   "execution_count": null,
   "metadata": {},
   "outputs": [],
   "source": [
    "# Why is `yourlist[4]` not in the result yourlist[0:4:2]?\n",
    "print(yourlist[4])\n",
    "print(yourlist[:4:-2])"
   ]
  },
  {
   "cell_type": "code",
   "execution_count": 59,
   "metadata": {},
   "outputs": [
    {
     "name": "stdout",
     "output_type": "stream",
     "text": [
      "['Alice', 'Charlie']\n",
      "['Alice', 'Charlie', 'Ernest']\n"
     ]
    },
    {
     "ename": "ValueError",
     "evalue": "slice step cannot be zero",
     "output_type": "error",
     "traceback": [
      "\u001b[1;31m---------------------------------------------------------------------------\u001b[0m",
      "\u001b[1;31mValueError\u001b[0m                                Traceback (most recent call last)",
      "\u001b[1;32m<ipython-input-59-de95254c1ead>\u001b[0m in \u001b[0;36m<module>\u001b[1;34m()\u001b[0m\n\u001b[0;32m      3\u001b[0m \u001b[0mprint\u001b[0m\u001b[1;33m(\u001b[0m\u001b[0myourlist\u001b[0m\u001b[1;33m[\u001b[0m\u001b[1;33m:\u001b[0m\u001b[1;36m4\u001b[0m\u001b[1;33m:\u001b[0m\u001b[1;36m2\u001b[0m\u001b[1;33m]\u001b[0m\u001b[1;33m)\u001b[0m \u001b[1;31m# Start to specified end\u001b[0m\u001b[1;33m\u001b[0m\u001b[0m\n\u001b[0;32m      4\u001b[0m \u001b[0mprint\u001b[0m\u001b[1;33m(\u001b[0m\u001b[0myourlist\u001b[0m\u001b[1;33m[\u001b[0m\u001b[1;36m0\u001b[0m\u001b[1;33m:\u001b[0m\u001b[1;33m:\u001b[0m\u001b[1;36m2\u001b[0m\u001b[1;33m]\u001b[0m\u001b[1;33m)\u001b[0m \u001b[1;31m# Specified start to end\u001b[0m\u001b[1;33m\u001b[0m\u001b[0m\n\u001b[1;32m----> 5\u001b[1;33m \u001b[0mprint\u001b[0m\u001b[1;33m(\u001b[0m\u001b[0myourlist\u001b[0m\u001b[1;33m[\u001b[0m\u001b[1;33m:\u001b[0m\u001b[1;33m:\u001b[0m\u001b[1;36m0\u001b[0m\u001b[1;33m]\u001b[0m\u001b[1;33m)\u001b[0m \u001b[1;31m#\u001b[0m\u001b[1;33m\u001b[0m\u001b[0m\n\u001b[0m",
      "\u001b[1;31mValueError\u001b[0m: slice step cannot be zero"
     ]
    }
   ],
   "source": [
    "# What happens when you remove any of the numbers in the slicing operation? \n",
    "# Can you figure out the default values when they are not included in the slicing operation?\n",
    "print(yourlist[:4:2]) # Start to specified end\n",
    "print(yourlist[0::2]) # Specified start to end\n",
    "print(yourlist[::0]) #"
   ]
  },
  {
   "cell_type": "code",
   "execution_count": null,
   "metadata": {},
   "outputs": [],
   "source": [
    "# How do you reverse a list?\n",
    "yourlist[::-1]"
   ]
  },
  {
   "cell_type": "code",
   "execution_count": 60,
   "metadata": {},
   "outputs": [
    {
     "data": {
      "text/plain": [
       "['Ernest', 'Dawn', 'Charlie', 'Bob']"
      ]
     },
     "execution_count": 60,
     "metadata": {},
     "output_type": "execute_result"
    }
   ],
   "source": [
    "# Why does yourlist[0:4:-1] not work?\n",
    "yourlist[4:0:-1]\n"
   ]
  },
  {
   "cell_type": "code",
   "execution_count": null,
   "metadata": {},
   "outputs": [],
   "source": [
    "# Is yourlist[4:0:-1] the same as yourlist[::-1]?"
   ]
  },
  {
   "cell_type": "code",
   "execution_count": null,
   "metadata": {},
   "outputs": [],
   "source": [
    "# A list indexed with a slice always returns a list, even if the result is only an empty list."
   ]
  },
  {
   "cell_type": "markdown",
   "metadata": {
    "id": "sHKQd1G8qgGD",
    "nbgrader": {
     "grade": false,
     "grade_id": "cell-70cee1bd34530458",
     "locked": true,
     "schema_version": 3,
     "solution": false,
     "task": false
    }
   },
   "source": [
    "### 4.1.4 List editing methods\n",
    "\n",
    "A list has built-in methods that allow you to add or remove elements from it.\n",
    "\n",
    "Try the expressions in the cell below, one by one:  \n",
    "(Remember that the assignment (`=`) operator does not produce any output.)\n",
    "\n",
    "`countries = [\"America\", \"Brazil\", \"Cambodia\", \"Dominican Republic\", \"Ethiopia\", \"France\", \"Germany\", \"Hungary\"]`  \n",
    "\n",
    "1. `dir(countries)` \n",
    "2. `countries.append(\"India\")` \n",
    "3. `countries.append([\"India\",\"Japan\"])` \n",
    "4. `countries.extend([\"India\",\"Japan\"])` \n",
    "5. `countries.extend(\"India\",\"Japan\")` \n",
    "6. `countries.extend(\"India\")` \n",
    "7. `countries.insert(4,\"England\")`\n",
    "8. `countries.remove(\"China\")`\n",
    "9. `countries.remove(0)` \n",
    "10. `countries.remove(countries[0])`\n",
    "11. `item = countries.pop()` \n",
    "12. `item = countries.pop(1)` \n",
    "13. `countries.clear()` \n",
    "14. `del countries[0]` \n",
    "15. `del countries[0:3]` "
   ]
  },
  {
   "cell_type": "code",
   "execution_count": 9,
   "metadata": {
    "id": "GSfyWQUSqgGE"
   },
   "outputs": [
    {
     "data": {
      "text/plain": [
       "['__add__',\n",
       " '__class__',\n",
       " '__contains__',\n",
       " '__delattr__',\n",
       " '__delitem__',\n",
       " '__dir__',\n",
       " '__doc__',\n",
       " '__eq__',\n",
       " '__format__',\n",
       " '__ge__',\n",
       " '__getattribute__',\n",
       " '__getitem__',\n",
       " '__gt__',\n",
       " '__hash__',\n",
       " '__iadd__',\n",
       " '__imul__',\n",
       " '__init__',\n",
       " '__init_subclass__',\n",
       " '__iter__',\n",
       " '__le__',\n",
       " '__len__',\n",
       " '__lt__',\n",
       " '__mul__',\n",
       " '__ne__',\n",
       " '__new__',\n",
       " '__reduce__',\n",
       " '__reduce_ex__',\n",
       " '__repr__',\n",
       " '__reversed__',\n",
       " '__rmul__',\n",
       " '__setattr__',\n",
       " '__setitem__',\n",
       " '__sizeof__',\n",
       " '__str__',\n",
       " '__subclasshook__',\n",
       " 'append',\n",
       " 'clear',\n",
       " 'copy',\n",
       " 'count',\n",
       " 'extend',\n",
       " 'index',\n",
       " 'insert',\n",
       " 'pop',\n",
       " 'remove',\n",
       " 'reverse',\n",
       " 'sort']"
      ]
     },
     "execution_count": 9,
     "metadata": {},
     "output_type": "execute_result"
    }
   ],
   "source": [
    "# Do not remove this line.\n",
    "countries = [\"America\", \"Brazil\", \"Cambodia\", \"Dominican Republic\", \"Ethiopia\", \"France\", \"Germany\", \"Hungary\"]\n",
    "\n",
    "# This gives you a list of attributes that the samelist list object has. \n",
    "# We will cover attributes in a later lesson, in Object-Oriented Programming\n",
    "dir(countries)"
   ]
  },
  {
   "cell_type": "code",
   "execution_count": 10,
   "metadata": {},
   "outputs": [
    {
     "data": {
      "text/plain": [
       "['America',\n",
       " 'Brazil',\n",
       " 'Cambodia',\n",
       " 'Dominican Republic',\n",
       " 'Ethiopia',\n",
       " 'France',\n",
       " 'Germany',\n",
       " 'Hungary',\n",
       " 'India']"
      ]
     },
     "execution_count": 10,
     "metadata": {},
     "output_type": "execute_result"
    }
   ],
   "source": [
    "# Adds a single item at the end of the list. \n",
    "# Calling an object method will not print its value; do you remember how to check an object's value?\n",
    "countries.append('India')\n",
    "countries"
   ]
  },
  {
   "cell_type": "code",
   "execution_count": 11,
   "metadata": {},
   "outputs": [
    {
     "data": {
      "text/plain": [
       "['America',\n",
       " 'Brazil',\n",
       " 'Cambodia',\n",
       " 'Dominican Republic',\n",
       " 'Ethiopia',\n",
       " 'France',\n",
       " 'Germany',\n",
       " 'Hungary',\n",
       " 'India',\n",
       " ['India', 'Japan']]"
      ]
     },
     "execution_count": 11,
     "metadata": {},
     "output_type": "execute_result"
    }
   ],
   "source": [
    "# Did this produce the effect you expected?\n",
    "countries.append(['India', 'Japan'])\n",
    "countries"
   ]
  },
  {
   "cell_type": "code",
   "execution_count": 12,
   "metadata": {},
   "outputs": [],
   "source": [
    "# Adds multiple elements, which must be in a list. How does this differ from append()?\n",
    "countries.extend(['India', 'Japan'])"
   ]
  },
  {
   "cell_type": "code",
   "execution_count": null,
   "metadata": {},
   "outputs": [],
   "source": [
    "# The extend() method only accepts one value.\n",
    "# What exactly is one value then?"
   ]
  },
  {
   "cell_type": "code",
   "execution_count": 23,
   "metadata": {},
   "outputs": [
    {
     "data": {
      "text/plain": [
       "['America',\n",
       " 'Brazil',\n",
       " 'Cambodia',\n",
       " 'Dominican Republic',\n",
       " 'England',\n",
       " 'England',\n",
       " 'England',\n",
       " 'England',\n",
       " 'England',\n",
       " 'England',\n",
       " 'England',\n",
       " 'England',\n",
       " 'England',\n",
       " 'England',\n",
       " 'England',\n",
       " 'Ethiopia',\n",
       " 'France',\n",
       " 'Germany',\n",
       " 'Hungary',\n",
       " 'India',\n",
       " ['India', 'Japan'],\n",
       " 'India',\n",
       " 'Japan']"
      ]
     },
     "execution_count": 23,
     "metadata": {},
     "output_type": "execute_result"
    }
   ],
   "source": [
    "# If you use the extend() method with a string instead of a list, what happens? Why?\n",
    "countries = countries[:4] + ['England'] + countries[4:]\n",
    "countries"
   ]
  },
  {
   "cell_type": "code",
   "execution_count": 13,
   "metadata": {},
   "outputs": [],
   "source": [
    "# The insert(n,item) method lets you insert item at the nth index.\n",
    "countries.insert(4, 'England')"
   ]
  },
  {
   "cell_type": "code",
   "execution_count": 25,
   "metadata": {},
   "outputs": [],
   "source": [
    "# You can only remove elements that already exist in the element. \n",
    "# Try this with a country that is already in the list.\n",
    "countries.remove('Cambodia')"
   ]
  },
  {
   "cell_type": "code",
   "execution_count": 26,
   "metadata": {},
   "outputs": [
    {
     "data": {
      "text/plain": [
       "['America',\n",
       " 'Brazil',\n",
       " 'Dominican Republic',\n",
       " 'England',\n",
       " 'England',\n",
       " 'England',\n",
       " 'England',\n",
       " 'England',\n",
       " 'England',\n",
       " 'England',\n",
       " 'England',\n",
       " 'England',\n",
       " 'England',\n",
       " 'England',\n",
       " 'Ethiopia',\n",
       " 'France',\n",
       " 'Germany',\n",
       " 'Hungary',\n",
       " 'India',\n",
       " ['India', 'Japan'],\n",
       " 'India',\n",
       " 'Japan']"
      ]
     },
     "execution_count": 26,
     "metadata": {},
     "output_type": "execute_result"
    }
   ],
   "source": [
    "# You can't remove the first item in a list this way. Remember that list indexes go in [square brackets]."
   ]
  },
  {
   "cell_type": "code",
   "execution_count": null,
   "metadata": {},
   "outputs": [],
   "source": [
    "# Can you explain why this works?"
   ]
  },
  {
   "cell_type": "code",
   "execution_count": null,
   "metadata": {},
   "outputs": [],
   "source": [
    "# pop() removes the last element from the list and returns it. \n",
    "# You can assign it to a variable, in this case item."
   ]
  },
  {
   "cell_type": "code",
   "execution_count": null,
   "metadata": {},
   "outputs": [],
   "source": [
    "# pop(int) removes the list element at the (int) index stated and returns it. \n",
    "# You can assign it to a variable."
   ]
  },
  {
   "cell_type": "code",
   "execution_count": null,
   "metadata": {},
   "outputs": [],
   "source": [
    "# What does clear() do?"
   ]
  },
  {
   "cell_type": "code",
   "execution_count": null,
   "metadata": {},
   "outputs": [],
   "source": [
    "# To delete an element from a list, use the del keyword on the list element specified by index."
   ]
  },
  {
   "cell_type": "code",
   "execution_count": null,
   "metadata": {},
   "outputs": [],
   "source": [
    "# You can use the del keyword to delete multiple elements by list slicing."
   ]
  },
  {
   "cell_type": "markdown",
   "metadata": {
    "id": "ieNd6F9rqgGF",
    "nbgrader": {
     "grade": false,
     "grade_id": "cell-5ce709ec975a3b04",
     "locked": true,
     "schema_version": 3,
     "solution": false,
     "task": false
    }
   },
   "source": [
    "### 4.1.5 List operators\n",
    "\n",
    "The operators `+` and `*` work with lists. So does the `in` keyword.\n",
    "\n",
    "Try the following expressions in the cell below:\n",
    "(Notice that the list methods above modify the original list. the operators below do not; they give the modified list as a return value.)\n",
    "\n",
    "`anewlist = [\"America\", \"Brazil\", \"Cambodia\", \"Dominican Republic\", \"Ethiopia\", \"France\", \"Germany\", \"Hungary\"]`\n",
    "1. `anewlist + \"Ireland\"` (Doesn't work. The error provides a clue: lists can only be \"added\" to other lists, not to strings.)\n",
    "2. `anewlist + [\"Ireland\"]` (This works. You have to convert the string into a list element by putting it in a list first. This is called **list concatenation**. A **new list** is returned containing the result.)\n",
    "3. `anewlist + [\"Ireland\",\"Japan\",\"Kenya\"]` (You can add lists with multiple elements together this way.)\n",
    "4. `anewlist += [\"Ireland\"]` (This is equivalent to `anewlist = anewlist + [\"Ireland\"]`, and is a shorter way to modify the original list.)\n",
    "5. `anewlist[0] = \"Australia\"` (To reassign a list element to a different value, address the element using its index.)\n",
    "6. `anewlist[0] = Australia` (Remember that strings need the quote marks `''` or `\"\"` otherwise they get interpreted as variables.)\n",
    "7. `anewlist*3` (`*` operator with an integer works on lists too.)\n",
    "8. `anewlist *= 3` (This is equivalent to `anewlist = anewlist*3`)\n",
    "9. `'America' in anewlist` (The `in` keyword checks for exact matches with list elements.)\n",
    "10. `['America'] in anewlist` (Does this work? Why or why not?)\n",
    "11. `'Amer' in anewlist` (Although `'Amer' in 'America'` returns `True`, this statement returns `False`. Why?)"
   ]
  },
  {
   "cell_type": "code",
   "execution_count": null,
   "metadata": {
    "id": "p86jSkpyqgGF"
   },
   "outputs": [],
   "source": [
    "anewlist = [\"America\", \"Brazil\", \"Cambodia\", \"Dominican Republic\", \"Ethiopia\", \"France\", \"Germany\", \"Hungary\"]\n",
    "\n",
    "# Type your code below this line.\n"
   ]
  },
  {
   "cell_type": "markdown",
   "metadata": {
    "id": "u_cmE6aBqgGF",
    "nbgrader": {
     "grade": false,
     "grade_id": "cell-73332bdcd57e114b",
     "locked": true,
     "schema_version": 3,
     "solution": false,
     "task": false
    }
   },
   "source": [
    "### 4.1.6 Useful functions and methods for lists\n",
    "\n",
    "We often need to know something about the list. Python has built-in functions to give us this information. You have already learnt the `type()` function, which tells us what type of object it is. \n",
    "\n",
    "Try the expressions in the cell below and indicate which functions and methods modify the original list.\n",
    "\n",
    "`numberlist = [8, 7, 6, 5, 4, 3, 3, 2, 1]`\n",
    "\n",
    "1. `len(numberlist)` (`len()` tells you how many elements a list has.)\n",
    "2. `sorted(numberlist)` (`sorted()` gives you a list sorted in ascending order.)\n",
    "3. `sum(numberlist)` (`sum()` returns the sum of all elements. Works on integers and floats only.)\n",
    "4. `min(numberlist)` (`min()` returns the smallest element. Works on strings.)\n",
    "5. `max(numberlist)` (`max()` returns the largest element. Works on strings.)\n",
    "6. `numberlist.index(6)` (`.index(num)` gives you the index of the first occurrence of `num` in the list.)\n",
    "7. `numberlist.count(3)` (`.count(num)` returns the number of occurrences of `num` in the list.)\n",
    "8. `numberlist.reverse()`  -> Examine the value of `numberlist` again; what happened?\n",
    "   (The `.reverse()` method reverses the order of elements in the list without returning any value. This is an alternative to the list-slicing method.)"
   ]
  },
  {
   "cell_type": "code",
   "execution_count": null,
   "metadata": {
    "id": "Wcixy9elqgGG"
   },
   "outputs": [],
   "source": [
    "numberlist = [8, 7, 6, 5, 4, 3, 2, 1] #Do not remove this line.\n",
    "\n",
    "# Type your code below this line.\n"
   ]
  },
  {
   "cell_type": "markdown",
   "metadata": {
    "id": "Dai1bbUoqgGG",
    "nbgrader": {
     "grade": false,
     "grade_id": "cell-6c73e272d6cc39e3",
     "locked": true,
     "schema_version": 3,
     "solution": false,
     "task": false
    }
   },
   "source": [
    "Try the expressions in the cell below to understand how these functions work for strings:\n",
    "\n",
    "`countrylist = [\"Hungary\", \"Germany\", \"France\", \"Ethiopia\", \"Dominican Republic\", \"Cambodia\", \"Brazil\", \"America\"]`\n",
    "1. `len(countrylist)`\n",
    "2. `sorted(countrylist)`\n",
    "3. `min(countrylist)`\n",
    "4. `max(countrylist)`\n",
    "\n",
    "Are there any differences in the way the functions work for integers and strings?"
   ]
  },
  {
   "cell_type": "code",
   "execution_count": null,
   "metadata": {
    "id": "89J_VudFqgGG"
   },
   "outputs": [],
   "source": [
    "countrylist = [\"Hungary\", \"Germany\", \"France\", \"Ethiopia\", \"Dominican Republic\", \"Cambodia\", \"Brazil\", \"America\"] \\\n",
    "#Do not remove this line. Type your code below this line.\n",
    "numlist = [i for i in range(1, 9)]\n",
    "\n",
    "numlist.sort(reverse=True)\n",
    "numlist.sort()[::-1]"
   ]
  },
  {
   "cell_type": "markdown",
   "metadata": {
    "id": "3euKlw7AqgGH",
    "nbgrader": {
     "grade": false,
     "grade_id": "cell-aedd11a8fa4ed109",
     "locked": true,
     "schema_version": 3,
     "solution": false,
     "task": false
    }
   },
   "source": [
    "### 4.1.7 A note on naming variables\n",
    "\n",
    "We always write functions with the brackets e.g. `len()`. This is to avoid confusing them with variables. As much as possible, avoid naming your variables in a way that can confuse you.\n",
    "\n",
    "**Negative example:** `len = len(numberlist)` (The first `len` is a variable; the second `len()` is a function)  \n",
    "**Positive example:** `list_len = len(numberlist)` or `list_length = len(numberlist)`"
   ]
  },
  {
   "cell_type": "markdown",
   "metadata": {
    "id": "jHN23RgDqgGH",
    "nbgrader": {
     "grade": false,
     "grade_id": "cell-bcb472973c937429",
     "locked": true,
     "schema_version": 3,
     "solution": false,
     "task": false
    }
   },
   "source": [
    "### 4.1.8 Iterating over lists\n",
    "\n",
    "Often, we need to perform more advanced instructions over each item in a collection, and the basic functions will not suffice. In such cases, we need to **iterate** over each item in the collection and carry out a procedure on each item. We can do that using **loops**."
   ]
  },
  {
   "cell_type": "markdown",
   "metadata": {
    "id": "Cl99Hb90qgGI",
    "nbgrader": {
     "grade": false,
     "grade_id": "cell-32dd493abe247c35",
     "locked": true,
     "schema_version": 3,
     "solution": false,
     "task": false
    }
   },
   "source": [
    "### <u>Iterating with a `for` loop</u>\n",
    "\n",
    "Run the following cell and observe the output:"
   ]
  },
  {
   "cell_type": "code",
   "execution_count": null,
   "metadata": {
    "id": "V6pIEsKiqgGI",
    "scrolled": true
   },
   "outputs": [],
   "source": [
    "positions = ['first','second','third','fourth','fifth']\n",
    "\n",
    "for num in positions:\n",
    "    print(f'value of positions: {positions.index(num)}')\n",
    "    print(f'value of num: {num}')"
   ]
  },
  {
   "cell_type": "markdown",
   "metadata": {
    "id": "N4Oxe5JpqgGI",
    "nbgrader": {
     "grade": false,
     "grade_id": "cell-b012ac2abbc3b2cb",
     "locked": true,
     "schema_version": 3,
     "solution": false,
     "task": false
    }
   },
   "source": [
    "Notice how the `num` and `positions` variables are used.\n",
    "\n",
    "`num` is a placeholder. When we start from the first element of `positions` (i.e. `positions[0]`), `num` temporarily holds the value of `positions[0]`. In each iteration, the value of `positions` remains the same, but the value of `num` changes.\n",
    "\n",
    "**Task: Write a list**\n",
    "\n",
    "Complete the code by replacing the underscores (`_____`) with appropriate variable names or strings.\n",
    "\n",
    "In the code cell below, create a list containing the email addresses of your classmates, and print them out using a `for` loop.\n",
    "\n",
    "Hint: Remember that strings need to be initialised within quotes (`''` or `\"\"`)"
   ]
  },
  {
   "cell_type": "code",
   "execution_count": null,
   "metadata": {
    "id": "MMuWx4NXqgGI",
    "nbgrader": {
     "grade": true,
     "grade_id": "cell-3815c808c5bd0cea",
     "locked": false,
     "points": 1,
     "schema_version": 3,
     "solution": true,
     "task": false
    }
   },
   "outputs": [],
   "source": [
    "emails = [_____,_____,_____,_____,_____]\n",
    "\n",
    "for _____ in _____:\n",
    "    # Type your code below\n",
    "### BEGIN SOLUTION\n",
    "### END SOLUTION"
   ]
  },
  {
   "cell_type": "markdown",
   "metadata": {
    "id": "KENJWWHKqgGI",
    "nbgrader": {
     "grade": false,
     "grade_id": "cell-56f155b4c3562120",
     "locked": true,
     "schema_version": 3,
     "solution": false,
     "task": false
    }
   },
   "source": [
    "### <u>Exercise 1: Validate a list of phone numbers</u>\n",
    "\n",
    "In the code cell below, complete the procedure by replacing the underscores (`_____`) with appropriate expressions to:\n",
    "\n",
    "1. validate each entry in the list `phone_numbers` to check that it is a valid phone number, i.e. obeys the following conditions:\n",
    "   - has 8 digits  \n",
    "   - starts with 6, 8, or 9  \n",
    "2. Print out **only the invalid phone numbers**."
   ]
  },
  {
   "cell_type": "code",
   "execution_count": 18,
   "metadata": {},
   "outputs": [
    {
     "data": {
      "text/plain": [
       "[1, 2, 3, 4, 5]"
      ]
     },
     "execution_count": 18,
     "metadata": {},
     "output_type": "execute_result"
    }
   ],
   "source": [
    "numbers = [1, 2, 2, 3, 3, 3, 4, 4, 4, 5, 5, 5, 5]\n",
    "lst = []\n",
    "\n",
    "for number in numbers:\n",
    "    if number not in lst:\n",
    "        lst.append(number)\n",
    "\n",
    "lst\n"
   ]
  },
  {
   "cell_type": "code",
   "execution_count": 15,
   "metadata": {
    "id": "z39rvNIhqgGI",
    "nbgrader": {
     "grade": true,
     "grade_id": "cell-fb333740a90e8cc5",
     "locked": false,
     "points": 2,
     "schema_version": 3,
     "solution": true,
     "task": false
    }
   },
   "outputs": [
    {
     "name": "stdout",
     "output_type": "stream",
     "text": [
      "Invalid number! 9448756\n",
      "Invalid number! 48697485\n"
     ]
    }
   ],
   "source": [
    "phone_numbers = [68476397,9448756,83674561,48697485] # Do not edit this line.\n",
    "\n",
    "for number in phone_numbers:\n",
    "    # Type your validation procedure below this line\n",
    "    if len(str(number)) == 8 and str(number).startswith(('6', '8', '9')):\n",
    "        pass\n",
    "    else:\n",
    "        print(f'Invalid number: {number}')\n",
    "### BEGIN SOLUTION\n",
    "### END SOLUTION  "
   ]
  },
  {
   "cell_type": "markdown",
   "metadata": {
    "id": "qnTouNLkqgGJ",
    "nbgrader": {
     "grade": false,
     "grade_id": "cell-2971e78ad492abde",
     "locked": true,
     "schema_version": 3,
     "solution": false,
     "task": false
    }
   },
   "source": [
    "### <u>Exercise 2: Filtering lists with `for` loop</u>\n",
    "\n",
    "The `dir()` function returns all the attributes and methods associated with a Python object, in the form of a list. The object's **special methods** begin and end with a **d**ouble **under**sore (`__`) and are also known as **dunder**s.\n",
    "\n",
    "Complete the code in the code cell below using loops, string methods, and other relevant functions to write a procedure that prints out all the **non-dunder methods** associated with the `string` object."
   ]
  },
  {
   "cell_type": "code",
   "execution_count": 16,
   "metadata": {
    "id": "HWXS-X4BqgGJ",
    "nbgrader": {
     "grade": true,
     "grade_id": "cell-3819c9b49dfab003",
     "locked": false,
     "points": 2,
     "schema_version": 3,
     "solution": true,
     "task": false
    }
   },
   "outputs": [
    {
     "name": "stdout",
     "output_type": "stream",
     "text": [
      "capitalize\n",
      "casefold\n",
      "center\n",
      "count\n",
      "encode\n",
      "endswith\n",
      "expandtabs\n",
      "find\n",
      "format\n",
      "format_map\n",
      "index\n",
      "isalnum\n",
      "isalpha\n",
      "isdecimal\n",
      "isdigit\n",
      "isidentifier\n",
      "islower\n",
      "isnumeric\n",
      "isprintable\n",
      "isspace\n",
      "istitle\n",
      "isupper\n",
      "join\n",
      "ljust\n",
      "lower\n",
      "lstrip\n",
      "maketrans\n",
      "partition\n",
      "replace\n",
      "rfind\n",
      "rindex\n",
      "rjust\n",
      "rpartition\n",
      "rsplit\n",
      "rstrip\n",
      "split\n",
      "splitlines\n",
      "startswith\n",
      "strip\n",
      "swapcase\n",
      "title\n",
      "translate\n",
      "upper\n",
      "zfill\n"
     ]
    }
   ],
   "source": [
    "str_methods = dir(str)\n",
    "\n",
    "for method in str_methods:\n",
    "    # Type your code below\n",
    "    if method.startswith('__') and method.endswith('__'):\n",
    "        continue\n",
    "    else:\n",
    "        print(f'{method}')\n",
    "### BEGIN SOLUTION\n",
    "### END SOLUTION"
   ]
  },
  {
   "cell_type": "markdown",
   "metadata": {
    "id": "AxaGE_YTqgGJ",
    "nbgrader": {
     "grade": false,
     "grade_id": "cell-56918906b4f090f4",
     "locked": true,
     "schema_version": 3,
     "solution": false,
     "task": false
    }
   },
   "source": [
    "### <u>Generating numbers for iteration: the `range()` function</u>\n",
    "\n",
    "Run each of the following groups of code and observe the output:\n",
    "\n",
    "1. `range(1,10)` (Hmm, this doesn't seem to do anything ...)\n",
    "2. `list(range(1,10))` (`range()` **generates** a collection of numbers and it can be converted to a list! Notice that the last number is ignored; this is similar to slicing.)\n",
    "3.  ```\n",
    "    for n in range(1,10):\n",
    "        print(n)\n",
    "    ```\n",
    "    (`range()` can be used in a `for` loop to generate numbers for iterating.)\n",
    "4. `list(range(10))` (If only one value is given, this is assumed to be the end value. The start value is assumed to be 0.)\n",
    "5. `list(range(1,10,2))` (Similar to slicing, if 3 values are given, the last value is the step size.)\n",
    "\n",
    "Which function in Python tells you how to use the `range()` function? Try it on the function and see what it tells you."
   ]
  },
  {
   "cell_type": "code",
   "execution_count": null,
   "metadata": {
    "id": "gbgQiGnwqgGJ",
    "nbgrader": {
     "grade": true,
     "grade_id": "cell-faf5622e30bfcd9b",
     "locked": false,
     "points": 0,
     "schema_version": 3,
     "solution": true,
     "task": false
    }
   },
   "outputs": [],
   "source": [
    "# Your code here"
   ]
  },
  {
   "cell_type": "markdown",
   "metadata": {
    "id": "2YJzv92aqgGJ",
    "nbgrader": {
     "grade": false,
     "grade_id": "cell-de9916505de69545",
     "locked": true,
     "schema_version": 3,
     "solution": false,
     "task": false
    }
   },
   "source": [
    "### <u>Iterating over a range of numbers with `for` loop</u>\n",
    "\n",
    "Suppose I have two lists:\n",
    "\n",
    "```  \n",
    "positions = ['first','second','third','fourth','fifth']\n",
    "fruits = ['apple','banana','cherry','durian','elderberry']\n",
    "```\n",
    "\n",
    "How would I generate the following output?\n",
    "\n",
    "  ```\n",
    "  The first value is apple.\n",
    "  The second value is banana.\n",
    "  The third value is cherry.\n",
    "  The fourth value is durian.\n",
    "  ...\n",
    "  ```\n",
    "\n",
    "Can I do that with a `for` loop? Absolutely. But it is not possible for us to iterate over two different lists in one loop. Instead, we need to recognise that in the first iteration, we want the first elements from each list, and for the second iteration we need the second elements, and so on.\n",
    "\n",
    "We need to have a way to generate indexes for each iteration. Python makes it easy to do that with the `range()` function.\n",
    "\n",
    "Run the code cell below and observe the output:"
   ]
  },
  {
   "cell_type": "code",
   "execution_count": 11,
   "metadata": {},
   "outputs": [
    {
     "name": "stdout",
     "output_type": "stream",
     "text": [
      "Index          Value          \n",
      "_________________________________\n",
      "0              first          \n",
      "1              second         \n",
      "2              third          \n",
      "3              fourth         \n",
      "4              fifth          \n"
     ]
    }
   ],
   "source": [
    "positions = ['first','second','third','fourth','fifth']\n",
    "\n",
    "\n",
    "print(f'{\"Index\":<15}{\"Value\":<15}')\n",
    "print('_________________________________')\n",
    "for position in positions:\n",
    "    print(f'{positions.index(position):<15}{position:<15}')"
   ]
  },
  {
   "cell_type": "code",
   "execution_count": null,
   "metadata": {
    "id": "GZwXNyiuqgGJ"
   },
   "outputs": [],
   "source": [
    "positions = ['first','second','third','fourth','fifth']\n",
    "fruits = ['apple','banana','cherry','durian','elderberry']\n",
    "\n",
    "for i in range(len(positions)):\n",
    "    ith = positions[i]\n",
    "    name = fruits[i]\n",
    "    print(f'The {ith} value is {name}.')\n"
   ]
  },
  {
   "cell_type": "markdown",
   "metadata": {
    "id": "l4eO72aGqgGK",
    "nbgrader": {
     "grade": false,
     "grade_id": "cell-ab77169cafcdfeb5",
     "locked": true,
     "schema_version": 3,
     "solution": false,
     "task": false
    }
   },
   "source": [
    "### <u>Exercise 3: Predict the output</u>\n",
    "\n",
    "What will the output look like with the following code?\n",
    "\n",
    "  ```\n",
    "  for i in range(1,len(positions),2)\n",
    "      ith = positions[i]\n",
    "      name = fruits[i]\n",
    "      print(f'The {ith} value is {name}.')\n",
    "  ```"
   ]
  },
  {
   "cell_type": "markdown",
   "metadata": {
    "id": "57b1yjgxqgGK",
    "nbgrader": {
     "grade": false,
     "grade_id": "cell-5543389bef804d0a",
     "locked": true,
     "schema_version": 3,
     "solution": false,
     "task": false
    }
   },
   "source": [
    "What will the output look like with the following code? Why?\n",
    "\n",
    "  ```\n",
    "  for i in [0,1,2,3,4,5]:\n",
    "      ith = positions[i]\n",
    "      name = fruits[i]\n",
    "      print(f'The {ith} value is {name}.')\n",
    "  ```"
   ]
  },
  {
   "cell_type": "markdown",
   "metadata": {
    "id": "cLPI4cIuqgGK",
    "nbgrader": {
     "grade": false,
     "grade_id": "cell-8ebf05bec084af76",
     "locked": true,
     "schema_version": 3,
     "solution": false,
     "task": false
    }
   },
   "source": [
    "What error will you get with the following code? Why?\n",
    "\n",
    "  ```\n",
    "  for i in [0,1,2,3,4,5]:\n",
    "      ith = positions\n",
    "      name = fruits\n",
    "      print(f'The {ith} value is {name}.')\n",
    "  ```"
   ]
  },
  {
   "cell_type": "markdown",
   "metadata": {
    "id": "PK6VZ98bqgGK",
    "nbgrader": {
     "grade": false,
     "grade_id": "cell-1e176bc6db0bbdb6",
     "locked": true,
     "schema_version": 3,
     "solution": false,
     "task": false
    }
   },
   "source": [
    "What will the output look like with the following code? Why?\n",
    "\n",
    "  ```\n",
    "  for i in range(len(fruits)):\n",
    "      ith = positions(i)\n",
    "      name = fruits(i)\n",
    "      print(f'The {i} value is {name}.')\n",
    "  ```"
   ]
  },
  {
   "cell_type": "markdown",
   "metadata": {
    "id": "rvb1kHP1qgGL",
    "nbgrader": {
     "grade": false,
     "grade_id": "cell-4374074903be4831",
     "locked": true,
     "schema_version": 3,
     "solution": false,
     "task": false
    }
   },
   "source": [
    "What will the output look like with the following code? Why?\n",
    "\n",
    "  ```\n",
    "  for i in range(0,len(positions)):\n",
    "      print(f'The {positions[i]} value is {fruits[i]}.')\n",
    "  ```"
   ]
  },
  {
   "cell_type": "markdown",
   "metadata": {
    "id": "uN_i5psuqgGL",
    "nbgrader": {
     "grade": false,
     "grade_id": "cell-4cef864949ae1d60",
     "locked": true,
     "schema_version": 3,
     "solution": false,
     "task": false
    }
   },
   "source": [
    "### Exercise 4: Make a menu\n",
    "\n",
    "Write code in the code cell below to create a menu and ask the user for input.\n",
    "\n",
    "Sample output:\n",
    "\n",
    "```\n",
    "    == Menu options ==\n",
    "    1. Show the time\n",
    "    2. Round a number to the nearest sf\n",
    "    3. Round a number to the nearest dp\n",
    "    4. Convert temperatures\n",
    "    \n",
    "    Choose an option (1-4): \n",
    "```\n",
    "\n",
    "Your code should store the menu options in a list and generate the options in a `for` loop, so as to allow future developers to extend it easily."
   ]
  },
  {
   "cell_type": "code",
   "execution_count": null,
   "metadata": {
    "id": "cn2gU8vzqgGL",
    "nbgrader": {
     "grade": true,
     "grade_id": "cell-de813cc73083ba8f",
     "locked": false,
     "points": 0,
     "schema_version": 3,
     "solution": true,
     "task": false
    }
   },
   "outputs": [],
   "source": [
    "\"\"\"\n",
    "When creating long collections, Python allows you to break up the line of code \n",
    "for easier reading, so long as the line break happens after a comma (,) and\n",
    "before the end of the collection object.\n",
    "\n",
    "If you need to write multiline comments, the best way to do so is using three \n",
    "quote marks at the start and end, on a new line, like this comment.\n",
    "\"\"\"\n",
    "\n",
    "menu_options = ['Show the time',\n",
    "                'Round a number to the nearest sf',\n",
    "                'Round a number to the nearest dp',\n",
    "                'Convert temperatures']\n",
    "\n",
    "# Type your code below:\n",
    "### BEGIN SOLUTION\n",
    "print('== Menu options ==')\n",
    "for n in range(4):\n",
    "    print(str(n+1)+'.',menu_options[n])\n",
    "### END SOLUTION"
   ]
  },
  {
   "cell_type": "markdown",
   "metadata": {
    "id": "98jOaMeRqgGL",
    "nbgrader": {
     "grade": false,
     "grade_id": "cell-9d93a6006d49aa80",
     "locked": true,
     "schema_version": 3,
     "solution": false,
     "task": false
    }
   },
   "source": [
    "### 4.1.9 Errors in Python: `IndexError`\n",
    "\n",
    "When you try to slice a list or obtain an element from a list using an invalid index, Python will halt and raise an `IndexError`. This often happens if you accidentally use a `string` instead of an `int`, or if you use the wrong variable. Another way to get `IndexError` is when your index is equal to or larger than the length of the list.\n",
    "\n",
    "In the code cell below, try to raise an `IndexError`."
   ]
  },
  {
   "cell_type": "code",
   "execution_count": 12,
   "metadata": {
    "id": "kCehYNrHqgGL"
   },
   "outputs": [
    {
     "ename": "IndexError",
     "evalue": "",
     "output_type": "error",
     "traceback": [
      "\u001b[1;31m---------------------------------------------------------------------------\u001b[0m",
      "\u001b[1;31mIndexError\u001b[0m                                Traceback (most recent call last)",
      "\u001b[1;32m<ipython-input-12-c762fe9fad30>\u001b[0m in \u001b[0;36m<module>\u001b[1;34m()\u001b[0m\n\u001b[0;32m      2\u001b[0m \u001b[1;33m\u001b[0m\u001b[0m\n\u001b[0;32m      3\u001b[0m \u001b[1;31m# Type your below this line to raise an IndexError\u001b[0m\u001b[1;33m\u001b[0m\u001b[1;33m\u001b[0m\u001b[0m\n\u001b[1;32m----> 4\u001b[1;33m \u001b[1;32mraise\u001b[0m \u001b[0mIndexError\u001b[0m\u001b[1;33m\u001b[0m\u001b[0m\n\u001b[0m",
      "\u001b[1;31mIndexError\u001b[0m: "
     ]
    }
   ],
   "source": [
    "fruits = ['apple','banana','cherry','durian','elderberry']\n",
    "\n",
    "# Type your below this line to raise an IndexError\n",
    "raise IndexError"
   ]
  },
  {
   "cell_type": "markdown",
   "metadata": {
    "id": "DU40-2gEqgGM",
    "nbgrader": {
     "grade": false,
     "grade_id": "cell-88a5fb839839a277",
     "locked": true,
     "schema_version": 3,
     "solution": false,
     "task": false
    }
   },
   "source": [
    "### 4.1.10 List comparators\n",
    "\n",
    "The comparison operators `<`, `>`, `<=`, `>=`, `==`, and `!=` work with lists as well.\n",
    "\n",
    "Try the following expressions in the cell below:\n",
    "\n",
    "1. `[1,2,3] == [1,2,3]`\n",
    "2. `[1,2,3] == [1,2,4]`\n",
    "3. `[1,2,3] <= [1,2,4]`\n",
    "4. `[1,3,3] <= [1,2,4]`\n",
    "5. `1 <= [1,2,4]`\n",
    "6. `anewlist.append(\"Ireland\")` (The `append()` list method is another way to add an element to the end of the list.)\n",
    "7. `anewlist[0] = \"Australia\"` (To reassign a list element to a different value, address the element using its index.)\n",
    "8. `anewlist[0] = Australia` (Remember that strings need the quote marks `''` or `\"\"` otherwise they get interpreted as variables.)\n",
    "9. `anewlist*3` (`*` operator with an integer works on lists too.)\n",
    "10. `anewlist *= 3` (This is equivalent to `anewlist = anewlist*3`)"
   ]
  },
  {
   "cell_type": "markdown",
   "metadata": {
    "id": "MPlilPBEqgGM",
    "nbgrader": {
     "grade": false,
     "grade_id": "cell-b4136ce072d13f10",
     "locked": true,
     "schema_version": 3,
     "solution": false,
     "task": false
    }
   },
   "source": [
    "How does the comparator `==` work for lists?\n",
    "\n",
    "How does the `!=` comparator work for lists?"
   ]
  },
  {
   "cell_type": "markdown",
   "metadata": {
    "id": "YoY7FxD1qgGM",
    "nbgrader": {
     "grade": false,
     "grade_id": "cell-ac17dc4f7c04de3e",
     "locked": true,
     "schema_version": 3,
     "solution": false,
     "task": false
    }
   },
   "source": [
    "How do the `<` and `<=` comparator work for lists?"
   ]
  },
  {
   "cell_type": "markdown",
   "metadata": {
    "id": "yO5_Sd1rqgGO",
    "nbgrader": {
     "grade": false,
     "grade_id": "cell-b0e261a591fa98d4",
     "locked": true,
     "schema_version": 3,
     "solution": false,
     "task": false
    }
   },
   "source": [
    "What does the `<` comparator do if the lists are of unequal length?"
   ]
  }
 ],
 "metadata": {
  "celltoolbar": "Create Assignment",
  "colab": {
   "provenance": [],
   "toc_visible": true
  },
  "kernelspec": {
   "display_name": "Python 3",
   "language": "python",
   "name": "python3"
  },
  "language_info": {
   "codemirror_mode": {
    "name": "ipython",
    "version": 3
   },
   "file_extension": ".py",
   "mimetype": "text/x-python",
   "name": "python",
   "nbconvert_exporter": "python",
   "pygments_lexer": "ipython3",
   "version": "3.6.4"
  }
 },
 "nbformat": 4,
 "nbformat_minor": 1
}
