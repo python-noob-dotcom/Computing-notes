{
 "cells": [
  {
   "cell_type": "markdown",
   "metadata": {},
   "source": [
    "### Quicksort"
   ]
  },
  {
   "cell_type": "markdown",
   "metadata": {},
   "source": [
    "For quicksort, the time-complexity is usually O(nlog n) in the best, average case scenarios, but in the worst case its O(n^2).\n",
    "If we break down quicksort, there is a:\n",
    "- divide and conquer algorithm, represented by the splitting of the list --> log n\n",
    "- 3 loops that iterate thru the entire list once --> n\n",
    "\n",
    "Quicksort well looks confusing, but in theory its 2 pointers that move in opposite directions.\n",
    "- the pointer that starts from the pivot would move right up till the number is more than the pivot (the pointer will stop there)\n",
    "- the pointer that starts from the right moves till the number is less than the pivot (pointer will stop there)\n",
    "- then you swap the 2 values that are being pointed.\n",
    "- from there, you continue moving the pointers until the pointers intersect. Swap that value with the pivot, and continue the operation recursively\n",
    "    - this would give you the position the pivot should be slotted at"
   ]
  },
  {
   "cell_type": "markdown",
   "metadata": {},
   "source": [
    "<img src = 'https://miro.medium.com/v2/resize:fit:1000/1*FN4OxxaozdCMUmYtgvWRVg.gif'>"
   ]
  },
  {
   "cell_type": "markdown",
   "metadata": {},
   "source": [
    "##### For out of place quicksort, instead of having to worry about pointers, we just make sure that all the elements to the left are smaller than the pivot, and all the elements to the right are larger than the pivot. This is because we can just create a new array for this"
   ]
  },
  {
   "cell_type": "code",
   "execution_count": null,
   "metadata": {},
   "outputs": [],
   "source": [
    "def quicksort_out_of_place(arr):\n",
    "    if len(arr) < 2:\n",
    "        return arr\n",
    "    else:\n",
    "        index = len(arr) // 2\n",
    "        pivot = arr[index]\n",
    "\n",
    "        left = [val for val in arr if val < pivot]\n",
    "        right = [val for val in arr if val > pivot]\n",
    "        middle = [val for val in arr if val == pivot]\n",
    "\n",
    "        return quicksort_out_of_place(left) + middle + quicksort_out_of_place(right)\n",
    "    \n",
    "quicksort_out_of_place([4, 3, 2, 1, 555, 1, 23, 42, 4])"
   ]
  },
  {
   "cell_type": "markdown",
   "metadata": {},
   "source": [
    "#### However, for in place quicksort, we need to worry about the pointers, as we do not create a new array for the sorting to take place"
   ]
  },
  {
   "cell_type": "code",
   "execution_count": 3,
   "metadata": {},
   "outputs": [
    {
     "name": "stdout",
     "output_type": "stream",
     "text": [
      "[1, 2, 3, 4, 5]\n"
     ]
    }
   ],
   "source": [
    "def quicksort_in_place(array, low, high):\n",
    "    def partition(array, low, high):\n",
    "        pivot = array[(low + high) // 2] # changing the pivot location will not matter, since the pivot will get placed into the correct position\n",
    "\n",
    "        i = low - 1\n",
    "        j = high + 1\n",
    "\n",
    "        while True:\n",
    "            i = i + 1\n",
    "            while array[i] < pivot:\n",
    "                i = i + 1\n",
    "\n",
    "            j = j - 1\n",
    "            while array[j] > pivot:\n",
    "                j = j - 1\n",
    "\n",
    "            if i >= j:\n",
    "                return j\n",
    "\n",
    "            array[i], array[j] = array[j], array[i]\n",
    "    \n",
    "    if low < high:\n",
    "        partition_index = partition(array, low, high)\n",
    "\n",
    "        quicksort_in_place(array, low, partition_index - 1)\n",
    "        quicksort_in_place(array, partition_index + 1, high)\n",
    "    \n",
    "arr = [5, 4, 3, 2, 1]\n",
    "quicksort_in_place(arr, 0, 4)\n",
    "print(arr)"
   ]
  }
 ],
 "metadata": {
  "kernelspec": {
   "display_name": "computing",
   "language": "python",
   "name": "python3"
  },
  "language_info": {
   "codemirror_mode": {
    "name": "ipython",
    "version": 3
   },
   "file_extension": ".py",
   "mimetype": "text/x-python",
   "name": "python",
   "nbconvert_exporter": "python",
   "pygments_lexer": "ipython3",
   "version": "3.7.7"
  },
  "orig_nbformat": 4
 },
 "nbformat": 4,
 "nbformat_minor": 2
}
