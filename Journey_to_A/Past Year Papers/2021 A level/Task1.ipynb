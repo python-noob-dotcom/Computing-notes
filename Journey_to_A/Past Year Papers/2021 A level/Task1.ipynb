{
 "cells": [
  {
   "cell_type": "code",
   "execution_count": 13,
   "metadata": {},
   "outputs": [
    {
     "data": {
      "text/plain": [
       "2"
      ]
     },
     "execution_count": 13,
     "metadata": {},
     "output_type": "execute_result"
    }
   ],
   "source": [
    "# Task 1.1\n",
    "\n",
    "def task1_1(input_value):\n",
    "    if str(input_value).isdecimal() and len(str(input_value)) == 14:\n",
    "        total = 0\n",
    "        k = 1\n",
    "        val = str(input_value)\n",
    "        for i in range(len(val) - 1, -1, -1):\n",
    "            if k % 2 != 0:\n",
    "                j = int(val[i]) * 2\n",
    "                if len(str(j)) > 1:\n",
    "                    for char in str(j):\n",
    "                        total += int(char)\n",
    "                else:\n",
    "                    total += int(j)\n",
    "            else:\n",
    "                total += int(val[i])\n",
    "            \n",
    "            k += 1\n",
    "\n",
    "        return 10 - total % 10\n",
    "    \n",
    "    return -1\n",
    "\n",
    "task1_1(14576567654934)"
   ]
  },
  {
   "cell_type": "code",
   "execution_count": 22,
   "metadata": {},
   "outputs": [
    {
     "name": "stdout",
     "output_type": "stream",
     "text": [
      "True\n",
      "True\n",
      "False\n",
      "False\n"
     ]
    }
   ],
   "source": [
    "# Task 1.2\n",
    "\n",
    "print(task1_1('14576567654935') == 9)\n",
    "print(task1_1(14576567654935) == 9)\n",
    "print(task1_1('asbdbhh') == 9)\n",
    "print(task1_1('14576567635') == 9)"
   ]
  },
  {
   "cell_type": "code",
   "execution_count": 40,
   "metadata": {},
   "outputs": [
    {
     "name": "stdout",
     "output_type": "stream",
     "text": [
      "True\n",
      "True\n",
      "True\n",
      "True\n"
     ]
    }
   ],
   "source": [
    "# Task 1.3\n",
    "\n",
    "def task1_3(input_value):\n",
    "    if len(str(input_value)) == 15:\n",
    "        if str(task1_1(str(input_value)[:-1])) == str(input_value)[-1]:\n",
    "            return True\n",
    "        else:\n",
    "            return False\n",
    "    \n",
    "    else:\n",
    "        return False\n",
    "\n",
    "print(task1_3('145765676549359'))\n",
    "print(task1_3(145765676549359))\n",
    "print(not task1_3('asbdbhh') == 9)\n",
    "print(not task1_3('14576567635') == 9)"
   ]
  }
 ],
 "metadata": {
  "kernelspec": {
   "display_name": "computing",
   "language": "python",
   "name": "python3"
  },
  "language_info": {
   "codemirror_mode": {
    "name": "ipython",
    "version": 3
   },
   "file_extension": ".py",
   "mimetype": "text/x-python",
   "name": "python",
   "nbconvert_exporter": "python",
   "pygments_lexer": "ipython3",
   "version": "3.6.13"
  }
 },
 "nbformat": 4,
 "nbformat_minor": 2
}
