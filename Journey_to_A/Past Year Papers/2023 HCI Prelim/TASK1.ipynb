{
 "cells": [
  {
   "cell_type": "code",
   "execution_count": 2,
   "metadata": {},
   "outputs": [
    {
     "name": "stdout",
     "output_type": "stream",
     "text": [
      "####T#\n",
      "#.#..#\n",
      "#...##\n",
      "##.#.#\n",
      "#....#\n",
      "####.#\n"
     ]
    }
   ],
   "source": [
    "import random\n",
    "\n",
    "exit_loc = random.randint(1, 4)\n",
    "\n",
    "with open('MAZE.txt') as f:\n",
    "    maze = []\n",
    "\n",
    "    for line in f:\n",
    "        maze += [line.strip()]\n",
    "\n",
    "maze[-1] = maze[-1][:exit_loc] + '.' + maze[-1][exit_loc + 1:]\n",
    "\n",
    "for row in maze:\n",
    "    print(row)"
   ]
  },
  {
   "cell_type": "code",
   "execution_count": 3,
   "metadata": {},
   "outputs": [
    {
     "name": "stdout",
     "output_type": "stream",
     "text": [
      "####T#\n",
      "#.#..#\n",
      "#...##\n",
      "##.#.#\n",
      "#....#\n",
      "####.#\n"
     ]
    },
    {
     "ename": "TypeError",
     "evalue": "'str' object does not support item assignment",
     "output_type": "error",
     "traceback": [
      "\u001b[1;31m---------------------------------------------------------------------------\u001b[0m",
      "\u001b[1;31mTypeError\u001b[0m                                 Traceback (most recent call last)",
      "\u001b[1;32m<ipython-input-3-94a04c6885a2>\u001b[0m in \u001b[0;36m<module>\u001b[1;34m\u001b[0m\n\u001b[0;32m     66\u001b[0m         \u001b[0mloc\u001b[0m \u001b[1;33m=\u001b[0m \u001b[0mold_loc\u001b[0m\u001b[1;33m\u001b[0m\u001b[1;33m\u001b[0m\u001b[0m\n\u001b[0;32m     67\u001b[0m     \u001b[1;32melse\u001b[0m\u001b[1;33m:\u001b[0m\u001b[1;33m\u001b[0m\u001b[1;33m\u001b[0m\u001b[0m\n\u001b[1;32m---> 68\u001b[1;33m         \u001b[0mmaze\u001b[0m\u001b[1;33m[\u001b[0m\u001b[0mloc\u001b[0m\u001b[1;33m[\u001b[0m\u001b[1;36m0\u001b[0m\u001b[1;33m]\u001b[0m\u001b[1;33m]\u001b[0m\u001b[1;33m[\u001b[0m\u001b[0mloc\u001b[0m\u001b[1;33m[\u001b[0m\u001b[1;36m1\u001b[0m\u001b[1;33m]\u001b[0m\u001b[1;33m]\u001b[0m \u001b[1;33m=\u001b[0m \u001b[0mmaze\u001b[0m\u001b[1;33m[\u001b[0m\u001b[0mloc\u001b[0m\u001b[1;33m[\u001b[0m\u001b[1;36m0\u001b[0m\u001b[1;33m]\u001b[0m\u001b[1;33m]\u001b[0m\u001b[1;33m[\u001b[0m\u001b[1;33m:\u001b[0m\u001b[0mloc\u001b[0m\u001b[1;33m[\u001b[0m\u001b[1;36m1\u001b[0m\u001b[1;33m]\u001b[0m\u001b[1;33m]\u001b[0m \u001b[1;33m+\u001b[0m \u001b[1;34m'T'\u001b[0m \u001b[1;33m+\u001b[0m \u001b[0mmaze\u001b[0m\u001b[1;33m[\u001b[0m\u001b[0mloc\u001b[0m\u001b[1;33m[\u001b[0m\u001b[1;36m0\u001b[0m\u001b[1;33m]\u001b[0m\u001b[1;33m]\u001b[0m\u001b[1;33m[\u001b[0m\u001b[0mloc\u001b[0m\u001b[1;33m[\u001b[0m\u001b[1;36m1\u001b[0m\u001b[1;33m]\u001b[0m \u001b[1;33m+\u001b[0m \u001b[1;36m1\u001b[0m\u001b[1;33m:\u001b[0m\u001b[1;33m]\u001b[0m\u001b[1;33m\u001b[0m\u001b[1;33m\u001b[0m\u001b[0m\n\u001b[0m\u001b[0;32m     69\u001b[0m         \u001b[0mmaze\u001b[0m\u001b[1;33m[\u001b[0m\u001b[0mold_loc\u001b[0m\u001b[1;33m[\u001b[0m\u001b[1;36m0\u001b[0m\u001b[1;33m]\u001b[0m\u001b[1;33m]\u001b[0m\u001b[1;33m[\u001b[0m\u001b[0mold_loc\u001b[0m\u001b[1;33m[\u001b[0m\u001b[1;36m1\u001b[0m\u001b[1;33m]\u001b[0m\u001b[1;33m]\u001b[0m \u001b[1;33m=\u001b[0m \u001b[0mmaze\u001b[0m\u001b[1;33m[\u001b[0m\u001b[0mold_loc\u001b[0m\u001b[1;33m[\u001b[0m\u001b[1;36m0\u001b[0m\u001b[1;33m]\u001b[0m\u001b[1;33m]\u001b[0m\u001b[1;33m[\u001b[0m\u001b[1;33m:\u001b[0m\u001b[0mold_loc\u001b[0m\u001b[1;33m[\u001b[0m\u001b[1;36m1\u001b[0m\u001b[1;33m]\u001b[0m\u001b[1;33m]\u001b[0m \u001b[1;33m+\u001b[0m \u001b[1;34m'X'\u001b[0m \u001b[1;33m+\u001b[0m \u001b[0mmaze\u001b[0m\u001b[1;33m[\u001b[0m\u001b[0mold_loc\u001b[0m\u001b[1;33m[\u001b[0m\u001b[1;36m0\u001b[0m\u001b[1;33m]\u001b[0m\u001b[1;33m]\u001b[0m\u001b[1;33m[\u001b[0m\u001b[0mold_loc\u001b[0m\u001b[1;33m[\u001b[0m\u001b[1;36m1\u001b[0m\u001b[1;33m]\u001b[0m \u001b[1;33m+\u001b[0m \u001b[1;36m1\u001b[0m\u001b[1;33m:\u001b[0m\u001b[1;33m]\u001b[0m\u001b[1;33m\u001b[0m\u001b[1;33m\u001b[0m\u001b[0m\n\u001b[0;32m     70\u001b[0m \u001b[1;33m\u001b[0m\u001b[0m\n",
      "\u001b[1;31mTypeError\u001b[0m: 'str' object does not support item assignment"
     ]
    }
   ],
   "source": [
    "game_end = False\n",
    "loc = [0, 4]\n",
    "exit_loc = []\n",
    "steps = 0\n",
    "prev = ''\n",
    "\n",
    "while not game_end:\n",
    "    for row in maze:\n",
    "        print(row)\n",
    "\n",
    "    old_loc = loc\n",
    "    dirn = input('Enter the direction the robot should move in: ').upper()\n",
    "\n",
    "    while dirn not in 'UDLR' or dirn not in ' ':\n",
    "        dirn = input('Enter the direction the robot should move in: ').upper()\n",
    "\n",
    "    if dirn != ' ':\n",
    "        if dirn == 'U':\n",
    "            if loc[0] < 1:\n",
    "                pass\n",
    "            else:\n",
    "                loc[0] -= 1\n",
    "        if dirn == 'D':\n",
    "            if loc[0] > 4:\n",
    "                pass\n",
    "            else:\n",
    "                loc[0] += 1\n",
    "        if dirn == 'L':\n",
    "            if loc[1] < 1:\n",
    "                pass\n",
    "            else:\n",
    "                loc[1] -= 1\n",
    "        if dirn == 'R':\n",
    "            if loc[1] > 4:\n",
    "                pass\n",
    "            else:\n",
    "                loc[1] += 1\n",
    "\n",
    "        prev = dirn\n",
    "\n",
    "    else:\n",
    "        if prev == 'U':\n",
    "            if loc[0] < 1:\n",
    "                pass\n",
    "            else:\n",
    "                loc[0] -= 1\n",
    "        if prev == 'D':\n",
    "            if loc[0] > 4:\n",
    "                pass\n",
    "            else:\n",
    "                loc[0] += 1\n",
    "        if prev == 'L':\n",
    "            if loc[1] < 1:\n",
    "                pass\n",
    "            else:\n",
    "                loc[1] -= 1\n",
    "        if prev == 'R':\n",
    "            if loc[1] > 4:\n",
    "                pass\n",
    "            else:\n",
    "                loc[1] += 1\n",
    "        if prev == '':\n",
    "            print('You have not entered a move previously')\n",
    "            continue\n",
    "        \n",
    "    if maze[loc[0]][loc[1]] == '#':\n",
    "        loc = old_loc\n",
    "    else:\n",
    "        maze[loc[0]] = maze[loc[0]][:loc[1]] + 'T' + maze[loc[0]][loc[1] + 1:]\n",
    "        maze[old_loc[0]] = maze[old_loc[0]][:old_loc[1]] + 'X' + maze[old_loc[0]][old_loc[1] + 1:]\n",
    "\n",
    "    if maze[loc[0]][loc[1]] == [5, exit_loc]:\n",
    "        game_end = True\n",
    "        print(f'You Won!, you took {steps} steps')  \n",
    "        \n",
    "    steps += 1"
   ]
  }
 ],
 "metadata": {
  "kernelspec": {
   "display_name": "computing",
   "language": "python",
   "name": "python3"
  },
  "language_info": {
   "codemirror_mode": {
    "name": "ipython",
    "version": 3
   },
   "file_extension": ".py",
   "mimetype": "text/x-python",
   "name": "python",
   "nbconvert_exporter": "python",
   "pygments_lexer": "ipython3",
   "version": "3.6.13"
  }
 },
 "nbformat": 4,
 "nbformat_minor": 2
}
