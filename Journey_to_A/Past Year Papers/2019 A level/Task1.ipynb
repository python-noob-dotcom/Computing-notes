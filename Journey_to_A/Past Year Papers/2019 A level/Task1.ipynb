{
 "cells": [
  {
   "cell_type": "code",
   "execution_count": 17,
   "metadata": {},
   "outputs": [
    {
     "name": "stdout",
     "output_type": "stream",
     "text": [
      "7.40 0.10\n"
     ]
    }
   ],
   "source": [
    "with open('./2019 A Level Practical Paper Resource Files/TIDES.txt') as f:\n",
    "    data = []\n",
    "\n",
    "    for line in f:\n",
    "        tmp = line.strip().split('\\t')\n",
    "        tmp[3] = float(tmp[3])\n",
    "        data += [line.strip().split('\\t')]\n",
    "\n",
    "highest = 0.00\n",
    "lowest = float('inf')\n",
    "\n",
    "for tide in data:\n",
    "    if tide[2] == 'LOW':\n",
    "        if float(tide[3]) < lowest:\n",
    "            lowest = float(tide[3])\n",
    "    if tide[2] == 'HIGH':\n",
    "        if float(tide[3]) > highest:\n",
    "            highest = float(tide[3])\n",
    "\n",
    "print(f'{highest:.2f} {lowest:.2f}')"
   ]
  },
  {
   "cell_type": "code",
   "execution_count": 18,
   "metadata": {},
   "outputs": [
    {
     "name": "stdout",
     "output_type": "stream",
     "text": [
      "7.300000000000001 2017-08-22\n",
      "3.8 2017-08-31\n"
     ]
    }
   ],
   "source": [
    "highest = 0.00\n",
    "lowest = float('inf')\n",
    "highest_date = ''\n",
    "lowest_date = ''\n",
    "\n",
    "for i in range(len(data) - 1):\n",
    "    diff = abs(float(data[i][3]) - float(data[i + 1][3]))\n",
    "\n",
    "    if diff > highest:\n",
    "        highest = diff\n",
    "        highest_date = data[i + 1][0]\n",
    "    \n",
    "    elif diff < lowest:\n",
    "        lowest = diff\n",
    "        lowest_date = data[i + 1][0]\n",
    "\n",
    "print(f'{highest} {highest_date}')\n",
    "print(f'{lowest} {lowest_date}')"
   ]
  }
 ],
 "metadata": {
  "kernelspec": {
   "display_name": "Python 3",
   "language": "python",
   "name": "python3"
  },
  "language_info": {
   "codemirror_mode": {
    "name": "ipython",
    "version": 3
   },
   "file_extension": ".py",
   "mimetype": "text/x-python",
   "name": "python",
   "nbconvert_exporter": "python",
   "pygments_lexer": "ipython3",
   "version": "3.7.7"
  }
 },
 "nbformat": 4,
 "nbformat_minor": 2
}
