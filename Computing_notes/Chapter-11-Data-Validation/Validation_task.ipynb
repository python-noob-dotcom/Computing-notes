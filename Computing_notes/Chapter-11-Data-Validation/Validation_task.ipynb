{
 "cells": [
  {
   "cell_type": "code",
   "execution_count": 7,
   "metadata": {},
   "outputs": [],
   "source": [
    "# Task 1.1\n",
    "\n",
    "def task1_1(input_value):\n",
    "    if input_value[:4].isalpha() and len(input_value[4:]) == 7 and input_value[4:].isdigit():\n",
    "        return True\n",
    "    else:\n",
    "        return False\n",
    "    \n"
   ]
  },
  {
   "cell_type": "code",
   "execution_count": 8,
   "metadata": {},
   "outputs": [
    {
     "name": "stdout",
     "output_type": "stream",
     "text": [
      "False\n",
      "False\n",
      "True\n",
      "False\n"
     ]
    }
   ],
   "source": [
    "# Task 1.2\n",
    "\n",
    "print(task1_1('12345'))\n",
    "print(task1_1('abcdefg'))\n",
    "print(task1_1('abcd1234567'))\n",
    "print(task1_1('abcde1234567'))"
   ]
  },
  {
   "cell_type": "code",
   "execution_count": 22,
   "metadata": {},
   "outputs": [
    {
     "data": {
      "text/plain": [
       "7"
      ]
     },
     "execution_count": 22,
     "metadata": {},
     "output_type": "execute_result"
    }
   ],
   "source": [
    "# Task 1.3\n",
    "\n",
    "def task1_3(input_value):\n",
    "    corresponding = {}\n",
    "\n",
    "    numbers = [i for i in range(10, 39) if i % 11 != 0]\n",
    "    letters = list('abcdefghijklmnopqrstuvwxyz'.upper())\n",
    "\n",
    "    for i in range(len(letters)):\n",
    "        corresponding[letters[i]] = numbers[i]\n",
    "\n",
    "    total = 0\n",
    "    input_value = input_value.upper()\n",
    "    for i in range(0, 10):\n",
    "        elem = input_value[i]\n",
    "\n",
    "        if elem.isalpha():\n",
    "            to_add = corresponding[elem] * (2 ^ i)\n",
    "            total += to_add\n",
    "\n",
    "        else:\n",
    "            to_add = int(elem) * (2 ^ i)\n",
    "            total += to_add\n",
    "\n",
    "    return total % 11 if total % 11 != 10 else 0\n",
    "\n",
    "task1_3('abcd1234567')\n",
    "\n",
    "    "
   ]
  },
  {
   "cell_type": "code",
   "execution_count": 95,
   "metadata": {},
   "outputs": [
    {
     "name": "stdout",
     "output_type": "stream",
     "text": [
      "False\n",
      "False\n"
     ]
    }
   ],
   "source": [
    "# Task 1.4\n",
    "\n",
    "def task1_4(input_value):\n",
    "    if task1_1(input_value):\n",
    "        if task1_3(input_value) == int(input_value[-1]):\n",
    "            return True\n",
    "        else:\n",
    "            return False\n",
    "    else:\n",
    "        return False\n",
    "    \n",
    "print(task1_4('PONU2079674'))\n",
    "print(task1_4('XONU2079674'))"
   ]
  },
  {
   "cell_type": "code",
   "execution_count": 139,
   "metadata": {},
   "outputs": [
    {
     "name": "stdout",
     "output_type": "stream",
     "text": [
      "True\n",
      "True\n"
     ]
    },
    {
     "data": {
      "text/plain": [
       "3"
      ]
     },
     "execution_count": 139,
     "metadata": {},
     "output_type": "execute_result"
    }
   ],
   "source": [
    "# Task 1.5\n",
    "\n",
    "print(task1_4('aaaa0004003'))\n",
    "print(task1_4('aaaa0000203'))"
   ]
  }
 ],
 "metadata": {
  "kernelspec": {
   "display_name": "Python 3",
   "language": "python",
   "name": "python3"
  },
  "language_info": {
   "codemirror_mode": {
    "name": "ipython",
    "version": 3
   },
   "file_extension": ".py",
   "mimetype": "text/x-python",
   "name": "python",
   "nbconvert_exporter": "python",
   "pygments_lexer": "ipython3",
   "version": "3.6.4"
  },
  "orig_nbformat": 4
 },
 "nbformat": 4,
 "nbformat_minor": 2
}
