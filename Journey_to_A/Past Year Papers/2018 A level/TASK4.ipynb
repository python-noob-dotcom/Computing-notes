{
 "cells": [
  {
   "cell_type": "code",
   "execution_count": 61,
   "metadata": {},
   "outputs": [
    {
     "name": "stdout",
     "output_type": "stream",
     "text": [
      "XXXXXXXXXX\n",
      "X........X\n",
      "X.X.X.XX.X\n",
      "X.X..P...X\n",
      "X.XXXXXX.X\n",
      "X...O....X\n",
      "X.X.XX.X.X\n",
      "X.X....X.X\n",
      "X.XX.XXX.X\n",
      "X........X\n",
      "XXXXXXXXXX\n"
     ]
    }
   ],
   "source": [
    "with open('MAZE.txt') as f:\n",
    "    data = []\n",
    "    for line in f:\n",
    "        data += [(line.strip())]\n",
    "\n",
    "for line in data:\n",
    "    print(line)"
   ]
  },
  {
   "cell_type": "code",
   "execution_count": 62,
   "metadata": {},
   "outputs": [
    {
     "name": "stdout",
     "output_type": "stream",
     "text": [
      "XXXXXXXXXX\n",
      "X........X\n",
      "X.X.X.XX.X\n",
      "X.X......X\n",
      "X.XXXXXX.X\n",
      "X...O..P.X\n",
      "X.X.XX.X.X\n",
      "X.X....X.X\n",
      "X.XX.XXX.X\n",
      "X........X\n",
      "XXXXXXXXXX\n"
     ]
    }
   ],
   "source": [
    "import random\n",
    "\n",
    "def gen_prize():\n",
    "    global data\n",
    "    coords = []\n",
    "\n",
    "    for i in range(len(data)):\n",
    "        line = data[i]\n",
    "        for j in range(len(line)):\n",
    "            if line[j] == 'P':\n",
    "                line = line[:j] + '.' + line[j + 1:]\n",
    "\n",
    "            if line[j] in '.P':\n",
    "                coords += [(i, j)]\n",
    "\n",
    "            string = ''\n",
    "            for char in line:\n",
    "                string += char\n",
    "\n",
    "            data[i] = line\n",
    "\n",
    "    loc = random.choice(coords)\n",
    "\n",
    "    line = data[loc[0]]\n",
    "    line = line[:loc[1]] + 'P' + line[loc[1] + 1:]\n",
    "    data[loc[0]] = line\n",
    "\n",
    "\n",
    "\n",
    "gen_prize()    \n",
    "for line in data:\n",
    "    print(line)    "
   ]
  },
  {
   "cell_type": "code",
   "execution_count": 64,
   "metadata": {},
   "outputs": [
    {
     "ename": "NameError",
     "evalue": "name 'lastmove' is not defined",
     "output_type": "error",
     "traceback": [
      "\u001b[1;31m---------------------------------------------------------------------------\u001b[0m",
      "\u001b[1;31mNameError\u001b[0m                                 Traceback (most recent call last)",
      "\u001b[1;32m<ipython-input-64-f23a24f8b027>\u001b[0m in \u001b[0;36m<module>\u001b[1;34m\u001b[0m\n\u001b[0;32m     12\u001b[0m     \u001b[0mprev_pos\u001b[0m \u001b[1;33m=\u001b[0m \u001b[0mposn\u001b[0m\u001b[1;33m\u001b[0m\u001b[1;33m\u001b[0m\u001b[0m\n\u001b[0;32m     13\u001b[0m     \u001b[1;32mif\u001b[0m \u001b[0mmove\u001b[0m \u001b[1;33m==\u001b[0m \u001b[1;34m''\u001b[0m\u001b[1;33m:\u001b[0m\u001b[1;33m\u001b[0m\u001b[1;33m\u001b[0m\u001b[0m\n\u001b[1;32m---> 14\u001b[1;33m         \u001b[0mmove\u001b[0m \u001b[1;33m=\u001b[0m \u001b[0mlastmove\u001b[0m\u001b[1;33m\u001b[0m\u001b[1;33m\u001b[0m\u001b[0m\n\u001b[0m\u001b[0;32m     15\u001b[0m \u001b[1;33m\u001b[0m\u001b[0m\n\u001b[0;32m     16\u001b[0m     \u001b[1;32mif\u001b[0m \u001b[0mmove\u001b[0m \u001b[1;33m==\u001b[0m \u001b[1;34m'U'\u001b[0m\u001b[1;33m:\u001b[0m\u001b[1;33m\u001b[0m\u001b[1;33m\u001b[0m\u001b[0m\n",
      "\u001b[1;31mNameError\u001b[0m: name 'lastmove' is not defined"
     ]
    }
   ],
   "source": [
    "# Task 4.3 and 4.4\n",
    "\n",
    "game_end = False\n",
    "posn = [4, 5]\n",
    "\n",
    "while not game_end:\n",
    "    move = input('Enter either U, D, L or R or nothing to indicate copy move: ')\n",
    "\n",
    "    while move not in 'UDLR' or move not in '':\n",
    "        move = input('Enter either U, D, L or R or nothing to indicate copy move: ')\n",
    "\n",
    "    prev_pos = posn\n",
    "    if move == '':\n",
    "        move = lastmove\n",
    "\n",
    "    if move == 'U':\n",
    "        posn[0] += 1\n",
    "    elif move == 'D':\n",
    "        posn[0] -= 1\n",
    "    elif move == 'L':\n",
    "        posn[1] -= 1\n",
    "    elif move == 'R':\n",
    "        posn[1] += 1\n",
    "    \n",
    "    lastmove = move\n",
    "\n",
    "    if data[posn[0]][posn[1]] == 'X':\n",
    "        continue\n",
    "    else:\n",
    "        if data[posn[0]][posn[1]] == 'P':\n",
    "            game_end = True\n",
    "            print('You Win!')\n",
    "        else:\n",
    "            line = data[posn[0]]\n",
    "            line = line[:posn[1]] + 'O' + line[posn[1] + 1:]\n",
    "\n",
    "            upd_prev = data[prev_pos[0]]\n",
    "            upd_prev = line[:prev_pos[1]] + '.' + line[prev_pos[1] + 1:]\n",
    "\n",
    "    for line in data:\n",
    "        print(line)"
   ]
  }
 ],
 "metadata": {
  "kernelspec": {
   "display_name": "computing",
   "language": "python",
   "name": "python3"
  },
  "language_info": {
   "codemirror_mode": {
    "name": "ipython",
    "version": 3
   },
   "file_extension": ".py",
   "mimetype": "text/x-python",
   "name": "python",
   "nbconvert_exporter": "python",
   "pygments_lexer": "ipython3",
   "version": "3.6.13"
  }
 },
 "nbformat": 4,
 "nbformat_minor": 2
}
