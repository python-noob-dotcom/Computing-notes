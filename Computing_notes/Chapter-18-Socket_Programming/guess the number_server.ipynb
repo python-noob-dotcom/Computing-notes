{
 "cells": [
  {
   "cell_type": "code",
   "execution_count": null,
   "metadata": {},
   "outputs": [],
   "source": [
    "import socket, random\n",
    "\n",
    "number = str(random.randint(1, 100))\n",
    "tries = 10\n",
    "tried = 0\n",
    "s = socket.socket()\n",
    "s.bind(('127.0.0.1', 9999))\n",
    "\n",
    "s.listen()\n",
    "\n",
    "print('Waiting for connection...')\n",
    "conn, addr = s.accept()\n",
    "\n",
    "data = b''\n",
    "while True:\n",
    "    tried += 1\n",
    "    conn.sendall(b'GUESS\\n')\n",
    "    while b'\\n' not in data:\n",
    "        data += conn.recv(1024)\n",
    "    received = data[:data.find(b'\\n')].decode()\n",
    "    if received < number:\n",
    "        conn.sendall(b'LOW\\n')\n",
    "    elif received > number:\n",
    "        conn.sendall(b'HIGH\\n')\n",
    "    elif received == number:\n",
    "        conn.sendall(b'You Win! \\n')\n",
    "        break\n",
    "    elif tried >= tries:\n",
    "        conn.sendall(b'GAMEOVER\\n')\n",
    "        break\n",
    "\n",
    "    \n",
    "\n",
    "s.close()"
   ]
  }
 ],
 "metadata": {
  "language_info": {
   "name": "python"
  }
 },
 "nbformat": 4,
 "nbformat_minor": 2
}
