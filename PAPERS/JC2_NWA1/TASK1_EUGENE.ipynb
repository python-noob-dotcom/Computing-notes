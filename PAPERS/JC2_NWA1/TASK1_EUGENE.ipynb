{
 "cells": [
  {
   "cell_type": "code",
   "execution_count": 1,
   "metadata": {},
   "outputs": [
    {
     "name": "stdout",
     "output_type": "stream",
     "text": [
      "Select an option (1, 2, or 3), then press the Enter Key\n",
      "\t1. - Insertion Sort\n",
      "\t2. - Quicksort\n",
      "\t3. - Binary Search.\n",
      "Type in any other value, then press the Enter key to end\n"
     ]
    }
   ],
   "source": [
    "# Task 1.1\n",
    "\n",
    "def task1_1():\n",
    "    print('Select an option (1, 2, or 3), then press the Enter Key\\n\\t1. - Insertion Sort\\n\\t2. - Quicksort\\n\\t3. - Binary Search.\\nType in any other value, then press the Enter key to end')\n",
    "\n",
    "task1_1()"
   ]
  },
  {
   "cell_type": "code",
   "execution_count": 2,
   "metadata": {},
   "outputs": [],
   "source": [
    "# Task 1.2\n",
    "\n",
    "def task1_2(arr):\n",
    "    for i in range(1, len(arr)):\n",
    "\n",
    "        curr = arr[i]\n",
    "\n",
    "        j = i - 1\n",
    "\n",
    "        while j + 1 >= 1 and arr[j] > curr:\n",
    "            arr[j + 1] = arr[j]\n",
    "            arr[j] = curr\n",
    "            j -= 1\n",
    "\n",
    "    print(arr)\n",
    "    return arr"
   ]
  },
  {
   "cell_type": "code",
   "execution_count": 38,
   "metadata": {},
   "outputs": [],
   "source": [
    "# Task 1.3\n",
    "\n",
    "def quicksort(arr, low, high):\n",
    "    def partition(arr, low, high):\n",
    "        pivot = arr[high]\n",
    "\n",
    "        i = low\n",
    "        j = low\n",
    "\n",
    "        while j < high:\n",
    "            if arr[j] > pivot:\n",
    "                j -= 1\n",
    "            else:\n",
    "                temp = arr[j]\n",
    "                arr[j] = arr[i]\n",
    "                arr[i] = temp\n",
    "                j -= 1\n",
    "                i -= 1\n",
    "\n",
    "\n",
    "        arr[high] = arr[i]\n",
    "        arr[i] = pivot\n",
    "\n",
    "        return i\n",
    "            \n",
    "\n",
    "    if low < high:\n",
    "        pt = partition(arr, high, low)\n",
    "        quicksort(arr, low, pt - 1)\n",
    "        quicksort(arr, pt + 1, high)\n",
    "        arr = arr.reverse()\n",
    "\n",
    "        \n",
    "arr = [3, 1, 2, 3, 4, 5]\n",
    "quicksort(arr, 0, -1)"
   ]
  },
  {
   "cell_type": "markdown",
   "metadata": {},
   "source": [
    "[3, 4, 2, 1]\n",
    "\n",
    "j move from 0 to -1\n",
    "j move from -1 to -2\n",
    "\n",
    "arr[j] and arr[i] swap\n",
    "\n",
    "[2, 4, 3, 1]\n",
    "\n"
   ]
  },
  {
   "cell_type": "code",
   "execution_count": null,
   "metadata": {},
   "outputs": [],
   "source": [
    "list.reve"
   ]
  },
  {
   "cell_type": "markdown",
   "metadata": {},
   "source": [
    "[3, 2, 1, 6, 8]\n",
    "\n",
    "j = 0\n",
    "i = 0\n",
    "\n",
    "since arr[j] < pivot\n",
    "\n",
    "skip\n",
    "\n",
    "arr[j] remains 3\n",
    "arr[i] becomes 2"
   ]
  },
  {
   "cell_type": "code",
   "execution_count": null,
   "metadata": {},
   "outputs": [
    {
     "data": {
      "text/plain": [
       "2"
      ]
     },
     "execution_count": 98,
     "metadata": {},
     "output_type": "execute_result"
    }
   ],
   "source": [
    "# Task 1.4\n",
    "\n",
    "def task1_4(target, arr):\n",
    "    low = 0\n",
    "    high = len(arr) - 1\n",
    "    def binary_search(target, arr, low, high):\n",
    "        if low < high:\n",
    "            mid = (low + high) // 2\n",
    "            if arr[mid] == target:\n",
    "                return mid\n",
    "            if arr[mid] < target:\n",
    "                return binary_search(target, arr, mid + 1, high)\n",
    "            else:\n",
    "                return binary_search(target, arr, low, mid - 1)\n",
    "        \n",
    "        return -1\n",
    "    \n",
    "    return binary_search(target, arr, low, high)\n",
    "\n",
    "task1_4(3, [1, 2, 3, 4])"
   ]
  },
  {
   "cell_type": "code",
   "execution_count": null,
   "metadata": {},
   "outputs": [],
   "source": [
    "# Task 1.5\n",
    "\n",
    "def task1_5(n, minimum, maximum):\n",
    "    import random\n",
    "    random_lst = []\n",
    "    for i in range(n):\n",
    "        random_lst.append(random.randint(minimum, maximum))\n",
    "\n",
    "    print(random_lst)\n",
    "    return random_lst"
   ]
  },
  {
   "cell_type": "code",
   "execution_count": null,
   "metadata": {},
   "outputs": [],
   "source": [
    "# Task 1.6\n",
    "\n",
    "def main():\n",
    "    if __name__ == '__main__':\n",
    "        task1_1()\n",
    "        random_lst = task1_5(10, 1, 100)\n",
    "        option = int(input(''))\n",
    "        if option not in [1, 2, 3]:\n",
    "            print('The program has ended')\n",
    "        else:\n",
    "            if option == 1:\n",
    "                print(task1_2(random_lst))\n",
    "            elif option == 2:\n",
    "                low = 0\n",
    "                high = len(random_lst) - 1\n",
    "                print(task1_3(random_lst))\n",
    "            elif option == 3:\n",
    "                if sorted(random_lst) != random_lst:\n",
    "                    print('The list is not sorted, sorting...')\n",
    "                    random_lst = task1_2(random_lst)\n",
    "                    target = int(input('What element do you want the index for: '))\n",
    "\n",
    "                    print(task1_4(target, random_lst))\n",
    "\n",
    "main()"
   ]
  }
 ],
 "metadata": {
  "kernelspec": {
   "display_name": "Python 3",
   "language": "python",
   "name": "python3"
  },
  "language_info": {
   "codemirror_mode": {
    "name": "ipython",
    "version": 3
   },
   "file_extension": ".py",
   "mimetype": "text/x-python",
   "name": "python",
   "nbconvert_exporter": "python",
   "pygments_lexer": "ipython3",
   "version": "3.7.7"
  }
 },
 "nbformat": 4,
 "nbformat_minor": 2
}
