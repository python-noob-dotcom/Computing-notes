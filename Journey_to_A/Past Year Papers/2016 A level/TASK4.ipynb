{
 "cells": [
  {
   "cell_type": "code",
   "execution_count": 8,
   "metadata": {},
   "outputs": [],
   "source": [
    "userin = input('Input a hexadecimal number: ')\n",
    "\n",
    "while type(userin) != int:\n",
    "    try:\n",
    "        userin = int(userin, 16)\n",
    "\n",
    "    except ValueError:\n",
    "        print('Invalid Input')\n",
    "        userin = input('Input a hexadecimal number: ')\n",
    "\n",
    "print(userin)"
   ]
  },
  {
   "cell_type": "markdown",
   "metadata": {},
   "source": []
  },
  {
   "cell_type": "code",
   "execution_count": null,
   "metadata": {},
   "outputs": [],
   "source": [
    "while type(userin) != str:\n",
    "    try:\n",
    "        userin = hex(userin)\n",
    "\n",
    "    except ValueError:\n",
    "        print('Invalid Input')\n",
    "        userin = input('Input a hexadecimal number: ')\n",
    "\n",
    "print(userin)"
   ]
  },
  {
   "cell_type": "code",
   "execution_count": 5,
   "metadata": {},
   "outputs": [
    {
     "data": {
      "text/plain": [
       "['a', 'b']"
      ]
     },
     "execution_count": 5,
     "metadata": {},
     "output_type": "execute_result"
    }
   ],
   "source": [
    "dic = {'a': 1, 'b': 2}\n",
    "\n",
    "sorted(dic, key = lambda x: dic[x])"
   ]
  },
  {
   "cell_type": "code",
   "execution_count": null,
   "metadata": {},
   "outputs": [],
   "source": []
  }
 ],
 "metadata": {
  "kernelspec": {
   "display_name": "Python 3",
   "language": "python",
   "name": "python3"
  },
  "language_info": {
   "codemirror_mode": {
    "name": "ipython",
    "version": 3
   },
   "file_extension": ".py",
   "mimetype": "text/x-python",
   "name": "python",
   "nbconvert_exporter": "python",
   "pygments_lexer": "ipython3",
   "version": "3.7.7"
  }
 },
 "nbformat": 4,
 "nbformat_minor": 2
}
