{
 "cells": [
  {
   "cell_type": "code",
   "execution_count": 1,
   "metadata": {},
   "outputs": [
    {
     "name": "stdout",
     "output_type": "stream",
     "text": [
      "272\n"
     ]
    }
   ],
   "source": [
    "# Task 1.1\n",
    "import csv\n",
    "\n",
    "with open(r'D:\\computing-notes\\Computing-notes\\Computing_notes\\Chapter-06-FIle-Handling\\file-handling-practice\\COURSE_INTAKE_BY_YEAR.csv', 'r') as file:\n",
    "    file_reader = csv.reader(file)\n",
    "\n",
    "    intake_data = []\n",
    "\n",
    "    header = next(file_reader)\n",
    "\n",
    "    for line in file_reader:\n",
    "        intake_data.append(line)\n",
    "\n",
    "print(len(intake_data))"
   ]
  },
  {
   "cell_type": "code",
   "execution_count": 2,
   "metadata": {},
   "outputs": [
    {
     "name": "stdout",
     "output_type": "stream",
     "text": [
      "['DIPLOMA IN SPORT & WELLNESS MANAGEMENT', 'DIPLOMA IN FOOD & BEVERAGE BUSINESS', 'DIPLOMA IN TELEMATICS & MEDIA TECHNOLOGY', 'DIPLOMA IN ORAL HEALTH THERAPY', 'DIPLOMA IN INDUSTRIAL DESIGN', 'DIPLOMA IN ELECTRICAL ENGINEERING WITH ECO-DESIGN', 'DIPLOMA IN ANIMATION & VISUAL EFFECTS', 'AEROSPACE/ ELECTRICAL/ ELECTRONICS PROGRAMME', 'AEROSPACE/MECHATRONICS PROGRAMME', 'DIPLOMA IN CYBERSECURITY & DIGITAL FORENSICS', 'DIPLOMA IN BIOMEDICAL ENGINEERING', 'DIPLOMA IN MARKETING', 'DIPLOMA IN NANOTECHNOLOGY & MATERIALS SCIENCE', 'DIPLOMA IN SOCIAL WORK', 'DIPLOMA IN SPATIAL DESIGN', 'AEROSPACE / ELECTRICAL / ELECTRONICS PROGRAMME', 'DIPLOMA IN BIOLOGICS & PROCESS TECHNOLOGY', 'DIPLOMA IN NURSING', 'DIPLOMA IN FOOD SCIENCE & NUTRITION', 'COMMON BUSINESS PROGRAMME', 'DIPLOMA IN ARCHITECTURE', 'DIPLOMA IN BUSINESS INTELLIGENCE & ANALYTICS', 'DIPLOMA IN BUSINESS & FINANCIAL TECHNOLOGY', 'DIPLOMA IN ANIMATION', 'DIPLOMA IN DIGITAL GAME ART & DESIGN', 'DIPLOMA IN PHARMACEUTICAL SCIENCE', 'DIPLOMA IN ADVANCED & DIGITAL MANUFACTURING', 'DIPLOMA IN MOLECULAR BIOTECHNOLOGY', 'DIPLOMA IN INFORMATION TECHNOLOGY', 'DIPLOMA IN PHARMACEUTICAL SCIENCES', 'DIPLOMA IN ELECTRONIC SYSTEMS', 'DIPLOMA IN INTERACTION DESIGN', 'DIPLOMA IN DENTAL HYGIENE & THERAPY', 'DIPLOMA IN INFOCOMM & SECURITY', 'DIPLOMA IN MASS MEDIA MANAGEMENT', 'DIPLOMA IN GAME DEVELOPMENT & TECHNOLOGY', 'DIPLOMA IN FINANCIAL INFORMATICS', 'DIPLOMA IN EXPERIENTIAL PRODUCT & INTERIOR DESIGN', 'DIPLOMA IN MOTION GRAPHICS DESIGN', 'DIPLOMA IN MOTION GRAPHICS & BROADCAST DESIGN', 'DIPLOMA IN HOSPITALITY & TOURISM MANAGEMENT', 'DIPLOMA IN SUSTAINABLE ARCHITECTURAL DESIGN', 'DIPLOMA IN \"ELECTRONICS, COMPUTER & COMMUNICATIONS ENGINEERING\"', 'DIPLOMA IN FUND MANAGEMENT & ADMINISTRATION', 'DIPLOMA IN VISUAL COMMUNICATION', 'DIPLOMA IN ELECTRONIC & COMPUTER ENGINEERING', 'DIPLOMA IN BANKING AND FINANCE', 'DIPLOMA IN DIGITAL & PRECISION ENGINEERING', 'DIPLOMA IN ENGINEERING INFORMATICS', 'DIPLOMA IN INFOCOMM & MEDIA ENGINEERING', 'DIPLOMA IN BANKING & FINANCE', 'DIPLOMA IN CHEMICAL & PHARMACEUTICAL TECHNOLOGY', 'DIPLOMA IN DIGITAL VISUAL EFFECTS', 'DIPLOMA IN INFOCOMM AND SECURITY', 'DIPLOMA IN ROBOTICS & MECHATRONICS', 'DIPLOMA IN BUSINESS MANAGEMENT', 'AEROSPACE / MECHATRONICS PROGRAMME', 'DIPLOMA IN MEDICINAL CHEMISTRY', 'DIPLOMA IN CYBER SECURITY & FORENSICS', 'DIPLOMA IN AERONAUTICAL & AEROSPACE TECHNOLOGY', 'COMMON ENGINEERING PROGRAMME', 'DIPLOMA IN ENGINEERING WITH BUSINESS', 'DIPLOMA IN SOCIAL SCIENCES (SOCIAL WORK)', 'DIPLOMA IN BUSINESS ENTERPRISE IT', 'COMMON ICT PROGRAMME', 'DIPLOMA IN CHEMICAL & GREEN TECHNOLOGY', 'DIPLOMA IN MULTIMEDIA & INFOCOMM TECHNOLOGY', 'DIPLOMA IN BUSINESS INFORMATICS', 'DIPLOMA IN ACCOUNTANCY & FINANCE', 'DIPLOMA IN AEROSPACE SYSTEMS & MANAGEMENT', 'DIPLOMA IN APPLIED CHEMISTRY']\n",
      "[('DIPLOMA IN BUSINESS MANAGEMENT', 1864), ('DIPLOMA IN MARKETING', 266), ('DIPLOMA IN BANKING & FINANCE', 424), ('DIPLOMA IN FOOD & BEVERAGE BUSINESS', 407), ('DIPLOMA IN MASS MEDIA MANAGEMENT', 326), ('DIPLOMA IN HOSPITALITY & TOURISM MANAGEMENT', 520), ('DIPLOMA IN FUND MANAGEMENT & ADMINISTRATION', 97), ('DIPLOMA IN ACCOUNTANCY & FINANCE', 619), ('DIPLOMA IN SPORT & WELLNESS MANAGEMENT', 304), ('DIPLOMA IN CHEMICAL & GREEN TECHNOLOGY', 130), ('DIPLOMA IN BIOLOGICS & PROCESS TECHNOLOGY', 270), ('DIPLOMA IN PHARMACEUTICAL SCIENCES', 210), ('DIPLOMA IN CHEMICAL & PHARMACEUTICAL TECHNOLOGY', 655), ('DIPLOMA IN MOLECULAR BIOTECHNOLOGY', 212), ('DIPLOMA IN FOOD SCIENCE & NUTRITION', 346), ('DIPLOMA IN MEDICINAL CHEMISTRY', 228), ('DIPLOMA IN VISUAL COMMUNICATION', 453), ('DIPLOMA IN SPATIAL DESIGN', 359), ('DIPLOMA IN INDUSTRIAL DESIGN', 259), ('COMMON ENGINEERING PROGRAMME', 2218), ('DIPLOMA IN BIOMEDICAL ENGINEERING', 305), ('DIPLOMA IN ELECTRICAL ENGINEERING WITH ECO-DESIGN', 258), ('DIPLOMA IN MULTIMEDIA & INFOCOMM TECHNOLOGY', 799), ('AEROSPACE / ELECTRICAL / ELECTRONICS PROGRAMME', 184), ('AEROSPACE / MECHATRONICS PROGRAMME', 402), ('DIPLOMA IN \"ELECTRONICS, COMPUTER & COMMUNICATIONS ENGINEERING\"', 140), ('DIPLOMA IN ENGINEERING WITH BUSINESS', 418), ('DIPLOMA IN DIGITAL & PRECISION ENGINEERING', 320), ('DIPLOMA IN AERONAUTICAL & AEROSPACE TECHNOLOGY', 264), ('DIPLOMA IN AEROSPACE SYSTEMS & MANAGEMENT', 263), ('DIPLOMA IN NANOTECHNOLOGY & MATERIALS SCIENCE', 258), ('DIPLOMA IN TELEMATICS & MEDIA TECHNOLOGY', 42), ('DIPLOMA IN NURSING', 4744), ('DIPLOMA IN SOCIAL SCIENCES (SOCIAL WORK)', 322), ('DIPLOMA IN DENTAL HYGIENE & THERAPY', 25), ('DIPLOMA IN GAME DEVELOPMENT & TECHNOLOGY', 497), ('DIPLOMA IN DIGITAL VISUAL EFFECTS', 172), ('DIPLOMA IN INTERACTION DESIGN', 376), ('DIPLOMA IN MOTION GRAPHICS & BROADCAST DESIGN', 195), ('DIPLOMA IN ANIMATION', 357), ('DIPLOMA IN DIGITAL GAME ART & DESIGN', 456), ('DIPLOMA IN FINANCIAL INFORMATICS', 185), ('DIPLOMA IN BUSINESS INFORMATICS', 294), ('DIPLOMA IN ENGINEERING INFORMATICS', 116), ('DIPLOMA IN BUSINESS ENTERPRISE IT', 80), ('DIPLOMA IN INFORMATION TECHNOLOGY', 695), ('DIPLOMA IN CYBER SECURITY & FORENSICS', 208), ('DIPLOMA IN BUSINESS INTELLIGENCE & ANALYTICS', 252), ('DIPLOMA IN SUSTAINABLE ARCHITECTURAL DESIGN', 126), ('DIPLOMA IN ELECTRONIC SYSTEMS', 278), ('DIPLOMA IN ORAL HEALTH THERAPY', 124), ('DIPLOMA IN INFOCOMM AND SECURITY', 234), ('AEROSPACE/ ELECTRICAL/ ELECTRONICS PROGRAMME', 160), ('AEROSPACE/MECHATRONICS PROGRAMME', 274), ('DIPLOMA IN ROBOTICS & MECHATRONICS', 247), ('COMMON BUSINESS PROGRAMME', 718), ('DIPLOMA IN PHARMACEUTICAL SCIENCE', 244), ('DIPLOMA IN ARCHITECTURE', 165), ('DIPLOMA IN BUSINESS & FINANCIAL TECHNOLOGY', 274), ('COMMON ICT PROGRAMME', 434), ('DIPLOMA IN CYBERSECURITY & DIGITAL FORENSICS', 194), ('DIPLOMA IN INFOCOMM & SECURITY', 190), ('DIPLOMA IN BANKING AND FINANCE', 133), ('DIPLOMA IN ADVANCED & DIGITAL MANUFACTURING', 128), ('DIPLOMA IN INFOCOMM & MEDIA ENGINEERING', 277), ('DIPLOMA IN ELECTRONIC & COMPUTER ENGINEERING', 171), ('DIPLOMA IN MOTION GRAPHICS DESIGN', 99), ('DIPLOMA IN ANIMATION & VISUAL EFFECTS', 234), ('DIPLOMA IN APPLIED CHEMISTRY', 46), ('DIPLOMA IN EXPERIENTIAL PRODUCT & INTERIOR DESIGN', 107), ('DIPLOMA IN SOCIAL WORK', 49)]\n",
      "71\n"
     ]
    }
   ],
   "source": [
    "# Task 1.2\n",
    "\n",
    "course_offering = []\n",
    "course_total = {}\n",
    "\n",
    "for data in intake_data:\n",
    "    if int(data[0]) <= 2021 and int(data[0]) >= 2016:\n",
    "        course_offering.append(data[2])\n",
    "        if data[2] not in course_total.keys():\n",
    "            course_total[data[2]] = int(data[3])\n",
    "        else:\n",
    "            course_total[data[2]] += int(data[3])\n",
    "\n",
    "\n",
    "\n",
    "course_offering = list(set(course_offering))\n",
    "print(course_offering)\n",
    "course_total = list(course_total.items())\n",
    "print(course_total)\n",
    "\n",
    "print(len(course_total))"
   ]
  },
  {
   "cell_type": "code",
   "execution_count": null,
   "metadata": {},
   "outputs": [
    {
     "ename": "",
     "evalue": "",
     "output_type": "error",
     "traceback": [
      "\u001b[1;31mThe Kernel crashed while executing code in the the current cell or a previous cell. Please review the code in the cell(s) to identify a possible cause of the failure. Click <a href='https://aka.ms/vscodeJupyterKernelCrash'>here</a> for more info. View Jupyter <a href='command:jupyter.viewOutput'>log</a> for further details."
     ]
    }
   ],
   "source": [
    "# Task 1.3\n",
    "\n",
    "def task1_3(array):\n",
    "    \"\"\"\n",
    "    Implements quicksort to sort the data in course total\n",
    "    \"\"\"\n",
    "\n",
    "    def quicksort(array):\n",
    "        if len(array) > 2:\n",
    "            middle = len(array) // 2\n",
    "\n",
    "            left = [element for element in array if element[1] > array[middle][1]]\n",
    "            right = [element for element in array if element[1] < array[middle][1]]\n",
    "            mids = [element for element in array if element[1] == array[middle][1]]\n",
    "\n",
    "            return quicksort(left) + mids + quicksort(right)\n",
    "        else:\n",
    "            return array\n",
    "    \n",
    "\n",
    "    return quicksort(array)\n",
    "\n",
    "task1_3(course_total)"
   ]
  },
  {
   "cell_type": "code",
   "execution_count": null,
   "metadata": {},
   "outputs": [],
   "source": [
    "def task1_4(array):\n",
    "    def merge_sort(array):\n",
    "\n",
    "        middle = len(array) // 2\n",
    "\n",
    "        left = array[:middle]\n",
    "        right = array[middle:]\n",
    "\n",
    "        merge_sort(left)\n",
    "        merge_sort(right)\n",
    "\n",
    "        i = j = k = 0\n",
    "\n",
    "        while i < len(left) and j < len(right):\n",
    "            if left[i][1] > right[i][1]:\n",
    "                array[k] = left[i]\n",
    "                i += 1\n",
    "            else:\n",
    "                array[k] = right[j]\n",
    "                j += 1\n",
    "            \n",
    "            k += 1\n",
    "\n",
    "        while i < len(left):\n",
    "            array[k] = left[i]\n",
    "            i += 1\n",
    "            k += 1\n",
    "        \n",
    "        while j < len(right):\n",
    "            array[k] = right[j]\n",
    "            j += 1\n",
    "            k += 1\n",
    "            "
   ]
  }
 ],
 "metadata": {
  "kernelspec": {
   "display_name": "Python 3",
   "language": "python",
   "name": "python3"
  },
  "language_info": {
   "codemirror_mode": {
    "name": "ipython",
    "version": 3
   },
   "file_extension": ".py",
   "mimetype": "text/x-python",
   "name": "python",
   "nbconvert_exporter": "python",
   "pygments_lexer": "ipython3",
   "version": "3.6.4"
  },
  "orig_nbformat": 4
 },
 "nbformat": 4,
 "nbformat_minor": 2
}
