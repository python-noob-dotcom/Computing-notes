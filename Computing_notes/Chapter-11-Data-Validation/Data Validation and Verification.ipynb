{
 "cells": [
  {
   "cell_type": "markdown",
   "metadata": {},
   "source": [
    "### (A) Data Accuracy and Data Integrity"
   ]
  },
  {
   "cell_type": "markdown",
   "metadata": {},
   "source": [
    "For any application that involves storing, processing, or retrieving data, it is crucial that this data is reliable and trustworthy for as long as the data is needed. You may have heard the phrase \"garbage in, garbage out\" used in computer science. This refers to the idea that poor-quality input data will produce flawed output.\n",
    "\n",
    "Ensuring that data is valid and accurate is a core goal for most organisations, and this should also be a top priority during the design and development stages of your own programs. **Data accuracy** — a term used to describe how valid or invalid the data is, or the processes used to make sure that the data stored is trustworthy — is a key part of this.\n",
    "\n",
    "**Data integrity** refers to the reliability of data in terms of its accuracy, completeness, and consistency over its entire life-cycle. An important step to ensuring data integrity is to use **validation** and **verification** techniques on data that is input or imported into a system, before it is accepted for further processing and/or storage."
   ]
  },
  {
   "cell_type": "markdown",
   "metadata": {},
   "source": [
    "### (B) Data Validation\n",
    "\n",
    "**Data validation** is the process of checking whether data input or imported into a program conform to a predefined set of standards or rules. The goal is to ensure that data is accurate, consistent and suitable for its intended use. \n",
    "\n",
    "Consider a user entering their mobile telephone number. Validation techniques could be used to ensure that the phone number fits a certain format, for instance, checking that a Singapore mobile number starts with `8` or `9` (or with the country code included, `+65`). However, note that no validation technique can check that the mobile number is completely correct; for example, these techniques cannot ensure that the number belongs to the user who entered it if that user's details are not already stored.\n",
    "\n",
    "There are many types of validation that can be applied to ensure that data being input is sensible. Some of the most common are listed in the table below:"
   ]
  },
  {
   "cell_type": "markdown",
   "metadata": {},
   "source": [
    "| **Validation Type** | **Description** | **Example** |\n",
    "|:--------:|:--------:|:--------:|\n",
    "| Data type check | Checks that the value entered is of the required data type. | An age has been input as an integer, e.g. 21. |\n",
    "| Range check | Checks that the data is between an upper limit and a lower limit. | A probability is between 0 and 1. |\n",
    "| Limit check | Used to check either the upper limit or the lower limit. | The price of an item is not below the lower limit of 0.00. |\n",
    "| Length check | Checks that a specific number of characters or digits has been entered. | A passport number is exactly 9 digits long. |\n",
    "| Format check | Used to check that the data is in a specified format. Regular expressions can be useful here to match a string against a pattern. | A date is in the format DD/MM/YYYY. |\n",
    "| Presence check | Checks that something has been entered into a field, and the field has not been left blank. | A 'City' field has not been left blank when a user is entering an address. |\n",
    "| Existence check | Used to check that a piece of data or the name of a file actually exists. | The surname \"Lau\" exists in a customer record. The file name \"Highscores.csv\" exists during file handling. |\n",
    "| Check digit | A digit that helps confirm that a code is correct. | The last digit of a barcode is calculated from all of the numbers before it. |\n",
    "| Consistency check | Checks that pieces of data from two or more fields are compatible with each other. | The number entered for the day of the month is not higher than 28 if the month chosen is February for a non-leap year. |\n",
    "| Uniqueness check | Checks that a value entered is a new and original value. | A username has not already been chosen when a user is creating a new account. |"
   ]
  },
  {
   "cell_type": "markdown",
   "metadata": {},
   "source": [
    "### (C) Data Verification \n",
    "\n",
    "**Data verification** is the process of confirming that data is accurate and correct by cross-referencing it with available source(s) either automatically or through manual inspection. The main goal is to ensure that the data matches the source information or real-world information it represents.\n",
    "\n",
    "The most common approaches for verifying user inputs are:\n",
    "\n",
    "<ul>\n",
    "    <li>Visual check</li>\n",
    "    <li>Double entry</li>\n",
    "</ul>\n",
    "\n",
    "#### Visual Check\n",
    "A **visual check** involves manually inspecting whether the data being entered from one document into another is the same. \n",
    "\n",
    "For example, someone could be inputting information that they hold on the products that their company sells into a new database system. They could be copying this over from a digital document, such as a spreadsheet, or from paper records. To perform a visual check, the person would compare what they have been entering into the new system with the original data to make sure that it is the same.\n",
    "\n",
    "#### Double Entry\n",
    "**Double entry** requires a user to input the same information twice, into two separate fields, and the two values are then compared automatically by the program to check that they are the same. This is commonly used within systems when an important piece of information is required from the user. \n",
    "\n",
    "A common example is when a user is creating a new account on a website or mobile app and they are asked to enter their email address twice to make sure that it is correct."
   ]
  },
  {
   "cell_type": "markdown",
   "metadata": {},
   "source": [
    "### (D) Validated Data vs. Verified Data"
   ]
  },
  {
   "cell_type": "markdown",
   "metadata": {},
   "source": [
    "**Validated data** refers to data that has been checked and confirmed to conform to predefined criteria or rules. The validation process ensures that the data is accurate, consistent, and compliant with the standards set for it. **Verified data**, on the other hand, refers to data that has been confirmed as accurate and correct through external checks against trusted sources or references. Verification ensures that the data in the system matches real-world information or source information (which is presumed to be correct)."
   ]
  }
 ],
 "metadata": {
  "kernelspec": {
   "display_name": "Python 3",
   "language": "python",
   "name": "python3"
  },
  "language_info": {
   "codemirror_mode": {
    "name": "ipython",
    "version": 3
   },
   "file_extension": ".py",
   "mimetype": "text/x-python",
   "name": "python",
   "nbconvert_exporter": "python",
   "pygments_lexer": "ipython3",
   "version": "3.6.4"
  }
 },
 "nbformat": 4,
 "nbformat_minor": 2
}
