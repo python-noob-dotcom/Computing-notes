{
 "cells": [
  {
   "cell_type": "markdown",
   "metadata": {},
   "source": [
    "# Task 3\n",
    "\n",
    "You are tasked to create a simple game which allows players to catch pokemons. Please refer to the question paper for detailed instructions.\n",
    "\n",
    "<div style=\"text-align:right; font-weight:bold\">Marks: [12]</div>"
   ]
  },
  {
   "cell_type": "code",
   "execution_count": null,
   "metadata": {},
   "outputs": [],
   "source": [
    "# Your code for Task 3 here\n",
    "\n"
   ]
  },
  {
   "cell_type": "code",
   "execution_count": null,
   "metadata": {
    "scrolled": true
   },
   "outputs": [],
   "source": [
    "# Test cases for Task 3\n",
    "\n",
    "def test_task3():\n",
    "    player = Player(\"Ash Ketchum\", 100, 100, 20)\n",
    "    pokemon_01 = Pokemon(\"Charmander\", 50, 60, 18, \"Fire\")\n",
    "    pokemon_02 = Pokemon(\"Squirtle\", 55, 60, 15, \"Water\")\n",
    "    pokemon_03 = Pokemon(\"Bulbasaur\", 80, 60, 12, \"Grass\")\n",
    "    pokemon_04 = Pokemon(\"Pikachu\", 60, 60, 15, \"Electric\")\n",
    "    pokemon_05 = Pokemon(\"Ponyta\", 60, 60, 18, \"Fire\")\n",
    "\n",
    "    print(player)\n",
    "\n",
    "    player.display_pokemons()\n",
    "    player.catch_pokemon(pokemon_01)\n",
    "    player.catch_pokemon(pokemon_02)\n",
    "    player.catch_pokemon(pokemon_03)\n",
    "    player.catch_pokemon(pokemon_04)\n",
    "    player.display_pokemons()\n",
    "    player.catch_pokemon(pokemon_05)\n",
    "    player.display_pokemons()\n",
    "\n",
    "\n",
    "test_task3()"
   ]
  }
 ],
 "metadata": {
  "kernelspec": {
   "display_name": "Python 3.8.9 64-bit",
   "language": "python",
   "name": "python3"
  },
  "language_info": {
   "codemirror_mode": {
    "name": "ipython",
    "version": 3
   },
   "file_extension": ".py",
   "mimetype": "text/x-python",
   "name": "python",
   "nbconvert_exporter": "python",
   "pygments_lexer": "ipython3",
   "version": "3.8.9"
  },
  "vscode": {
   "interpreter": {
    "hash": "31f2aee4e71d21fbe5cf8b01ff0e069b9275f58929596ceb00d14d90e3e16cd6"
   }
  }
 },
 "nbformat": 4,
 "nbformat_minor": 2
}
