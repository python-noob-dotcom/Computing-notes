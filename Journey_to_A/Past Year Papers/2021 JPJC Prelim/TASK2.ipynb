{
 "cells": [
  {
   "cell_type": "code",
   "execution_count": 3,
   "metadata": {},
   "outputs": [],
   "source": [
    "import random\n",
    "\n",
    "def initGrid():\n",
    "    global grid\n",
    "    grid = [[0 for i in range(5)] for j in range(4)]\n",
    "    global ship_loc\n",
    "    ship_loc = [random.randint(0, 3), random.randint(0, 4)]\n",
    "\n",
    "    return grid\n",
    "\n",
    "def displayGrid(grid):\n",
    "    for line in grid:\n",
    "        for char in line:\n",
    "            print(char, end='')\n",
    "        print('')\n",
    "\n",
    "def validateRow(row):\n",
    "    if row < 0 or row > 4:\n",
    "        return False\n",
    "    else:\n",
    "        return True\n",
    "    \n",
    "def validateColumn(col):\n",
    "    if  col < 0 or col > 5:\n",
    "        return False\n",
    "    else:\n",
    "        return True\n",
    "    \n",
    "def CheckRes(row, col):\n",
    "    global ship_loc, grid\n",
    "\n",
    "    if row == ship_loc[0] and col == ship_loc[1]:\n",
    "        return True\n",
    "    \n",
    "    else:\n",
    "        grid[row][col] = 'X'\n",
    "        return False"
   ]
  }
 ],
 "metadata": {
  "kernelspec": {
   "display_name": "Python 3",
   "language": "python",
   "name": "python3"
  },
  "language_info": {
   "codemirror_mode": {
    "name": "ipython",
    "version": 3
   },
   "file_extension": ".py",
   "mimetype": "text/x-python",
   "name": "python",
   "nbconvert_exporter": "python",
   "pygments_lexer": "ipython3",
   "version": "3.7.7"
  }
 },
 "nbformat": 4,
 "nbformat_minor": 2
}
