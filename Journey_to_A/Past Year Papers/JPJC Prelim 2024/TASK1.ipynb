{
 "cells": [
  {
   "cell_type": "code",
   "execution_count": 9,
   "metadata": {},
   "outputs": [],
   "source": [
    "# Task 1.1\n",
    "def CharToNum(char):\n",
    "    char = char.upper()\n",
    "    return ord(char) - ord('A')\n"
   ]
  },
  {
   "cell_type": "code",
   "execution_count": 11,
   "metadata": {},
   "outputs": [
    {
     "data": {
      "text/plain": [
       "'HFWPO!HSRMO'"
      ]
     },
     "execution_count": 11,
     "metadata": {},
     "output_type": "execute_result"
    }
   ],
   "source": [
    "# Task 1.2\n",
    "\n",
    "def encrypt(text, key):\n",
    "    encrypted = ''\n",
    "\n",
    "    for i in range(len(text)):\n",
    "        char = text[i]\n",
    "        \n",
    "        if char != ' ':\n",
    "            new_ord = (CharToNum(char) + CharToNum(key[i % len(key)])) % 26 + ord('A')\n",
    "            encrypted += chr(new_ord)\n",
    "        else:\n",
    "            encrypted += '!'\n",
    "\n",
    "    return encrypted\n",
    "\n",
    "encrypt('HELLO WORLD', 'ABLE')"
   ]
  },
  {
   "cell_type": "code",
   "execution_count": 12,
   "metadata": {},
   "outputs": [],
   "source": [
    "with open('TASK1.txt') as f:\n",
    "    data = []\n",
    "    for line in f:\n",
    "        data += [line.strip()]\n",
    "\n",
    "with open('ENCRYPTED.txt', 'w') as f:\n",
    "    for line in data:\n",
    "        f.write(encrypt(line, 'JPJC') + '\\n')"
   ]
  }
 ],
 "metadata": {
  "kernelspec": {
   "display_name": "computing",
   "language": "python",
   "name": "python3"
  },
  "language_info": {
   "codemirror_mode": {
    "name": "ipython",
    "version": 3
   },
   "file_extension": ".py",
   "mimetype": "text/x-python",
   "name": "python",
   "nbconvert_exporter": "python",
   "pygments_lexer": "ipython3",
   "version": "3.6.13"
  }
 },
 "nbformat": 4,
 "nbformat_minor": 2
}
