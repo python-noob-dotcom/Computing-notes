{
 "cells": [
  {
   "cell_type": "code",
   "execution_count": 1,
   "metadata": {},
   "outputs": [],
   "source": [
    "def QuickSort(Scores):\n",
    "    QuickSortHelper(Scores, 0, len(Scores) - 1)\n",
    "    return Scores\n",
    "\n",
    "def QuickSortHelper(scores, first, last):\n",
    "    if first < last:\n",
    "        splitpt = partition(scores, first, last)\n",
    "        QuickSortHelper(scores, first, splitpt - 1)\n",
    "        QuickSortHelper(scores, splitpt + 1, last)\n",
    "    \n",
    "    return scores\n",
    "\n",
    "def partition(scores, first, last):\n",
    "    pivot = scores[first]\n",
    "\n",
    "    left = first + 1\n",
    "    right = last\n",
    "    done = False\n",
    "\n",
    "    while not done:\n",
    "        while left < right and scores[left] <= pivot:\n",
    "            left += 1\n",
    "        while right > left and scores[right] >= pivot:\n",
    "            right -= 1\n",
    "        \n",
    "        if left > right:\n",
    "            done = True\n",
    "        else:\n",
    "            temp = scores[left]\n",
    "            scores[left] = scores[right]\n",
    "            scores[right] = temp\n",
    "    \n",
    "    scores[first] , scores[right] = scores[right], scores[first]\n",
    "\n",
    "    return right\n",
    "\n",
    "QuickSort([3, 2, 1])"
   ]
  }
 ],
 "metadata": {
  "kernelspec": {
   "display_name": "computing",
   "language": "python",
   "name": "python3"
  },
  "language_info": {
   "codemirror_mode": {
    "name": "ipython",
    "version": 3
   },
   "file_extension": ".py",
   "mimetype": "text/x-python",
   "name": "python",
   "nbconvert_exporter": "python",
   "pygments_lexer": "ipython3",
   "version": "3.6.13"
  }
 },
 "nbformat": 4,
 "nbformat_minor": 2
}
