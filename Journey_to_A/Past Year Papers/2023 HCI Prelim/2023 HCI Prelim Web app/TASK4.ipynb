{
 "cells": [
  {
   "cell_type": "code",
   "execution_count": 14,
   "metadata": {},
   "outputs": [],
   "source": [
    "# Task 4.1\n",
    "\n",
    "import sqlite3\n",
    "\n",
    "with sqlite3.connect(r'.\\store.db') as conn:\n",
    "    cursor = conn.cursor()\n",
    "\n",
    "    cursor.execute(\"BEGIN TRANSACTION\")\n",
    "\n",
    "    cursor.execute(\"\"\"\n",
    "    CREATE TABLE IF NOT EXISTS \"Donut\" (\n",
    "\t\"DonutID\"\tINTEGER,\n",
    "\t\"DonutName\"\tTEXT,\n",
    "\t\"UnitPrice\"\tREAL,\n",
    "\tPRIMARY KEY(\"DonutID\")\n",
    "    );\"\"\")\n",
    "\n",
    "    cursor.execute(\"\"\"CREATE TABLE IF NOT EXISTS \"Member\" (\n",
    "\t\"MemberNumber\"\tINTEGER,\n",
    "\t\"MemberName\"\tTEXT,\n",
    "\t\"Phone\"\tINTEGER,\n",
    "\tPRIMARY KEY(\"MemberNumber\")\n",
    "    );\"\"\")\n",
    "\n",
    "    cursor.execute(\"\"\"CREATE TABLE IF NOT EXISTS \"Sale\" (\n",
    "\t\"SaleID\"\tINTEGER,\n",
    "\t\"MemberNumber\"\tINTEGER,\n",
    "\t\"DonutID\"\tINTEGER,\n",
    "\t\"Date\"\tTEXT,\n",
    "\t\"Quantity\"\tINTEGER,\n",
    "\tPRIMARY KEY(\"SaleID\"),\n",
    "\tFOREIGN KEY(\"MemberNumber\") REFERENCES \"Member\"(\"MemberNumber\"),\n",
    "\tFOREIGN KEY(\"DonutID\") REFERENCES \"Donut\"(\"DonutID\")\n",
    "    );\"\"\")\n",
    "    \n",
    "    conn.commit()"
   ]
  },
  {
   "cell_type": "code",
   "execution_count": 16,
   "metadata": {},
   "outputs": [],
   "source": [
    "# Task 4.2\n",
    "\n",
    "with open(r'.\\DONUT.txt') as f:\n",
    "    donuts = []\n",
    "    for donnut in f:\n",
    "        donuts += [donnut.strip().split(',')]\n",
    "    \n",
    "with open(r'.\\MEMBER.txt') as f:\n",
    "    members = []\n",
    "    for member in f:\n",
    "        members += [member.strip().split(',')]\n",
    "\n",
    "with open(r'.\\SALE.txt') as f:\n",
    "    sales = []\n",
    "    for sale in f:\n",
    "        sales += [sale.strip().split(',')]\n",
    "\n",
    "with sqlite3.connect(r'.\\store.db') as conn:\n",
    "    cursor = conn.cursor()\n",
    "    \n",
    "    cursor.execute(\"BEGIN TRANSACTION\")\n",
    "    for donut in donuts:\n",
    "        cursor.execute(\"INSERT INTO Donut VALUES (?, ?, ?)\", (int(donut[0]), donut[1], float(donut[2])))\n",
    "\n",
    "    for member in members:\n",
    "        cursor.execute(\"INSERT INTO Member VALUES (?, ?, ?)\", (int(member[0]), member[1], int(member[2])))\n",
    "\n",
    "    for sale in sales:\n",
    "        cursor.execute(\"INSERT INTO Sale VALUES (?, ?, ?, ?, ?)\", (int(sale[0]), int(sale[1]), int(sale[2]), sale[3], int(sale[4])))\n",
    "\n",
    "    conn.commit()\n",
    "\n"
   ]
  },
  {
   "cell_type": "code",
   "execution_count": 21,
   "metadata": {},
   "outputs": [
    {
     "name": "stdout",
     "output_type": "stream",
     "text": [
      "Name           |Date             |Quantity  |\n",
      "__________________________________________________\n",
      "Ping Straberry |20230720         |3         |\n",
      "__________________________________________________\n",
      "Ping Classic   |20230721         |2         |\n",
      "__________________________________________________\n",
      "Plain Cruller  |20230721         |1         |\n",
      "__________________________________________________\n",
      "Ping Straberry |20230723         |3         |\n",
      "__________________________________________________\n",
      "Sugar Cruller  |20230726         |3         |\n",
      "__________________________________________________\n",
      "Plain Cruller  |20230726         |1         |\n",
      "__________________________________________________\n"
     ]
    }
   ],
   "source": [
    "# Task 4.3\n",
    "\n",
    "id = input(\"Input a members number: \")\n",
    "\n",
    "with sqlite3.connect(r'.\\store.db') as conn:\n",
    "    cursor = conn.cursor()\n",
    "    \n",
    "    try:\n",
    "        res = cursor.execute(\"SELECT DonutName, Date, Quantity FROM Sale INNER JOIN Member ON\\\n",
    "                            Member.MemberNumber = Sale.MemberNumber INNER JOIN Donut ON\\\n",
    "                            Sale.DonutID = Donut.DonutID WHERE Sale.MemberNumber = ?\", (int(id), )).fetchall()\n",
    "        \n",
    "    except sqlite3.Error:\n",
    "        print('Eh bro enter valid number')\n",
    "\n",
    "print(f'{\"Name\":<15}|{\"Date\":<17}|{\"Quantity\":<10}|')\n",
    "print('_'*50)\n",
    "for record in res:\n",
    "    print(f'{record[0]:<15}|{record[1]:<17}|{record[2]:<10}|')\n",
    "    print('_'*50)"
   ]
  }
 ],
 "metadata": {
  "kernelspec": {
   "display_name": "computing",
   "language": "python",
   "name": "python3"
  },
  "language_info": {
   "codemirror_mode": {
    "name": "ipython",
    "version": 3
   },
   "file_extension": ".py",
   "mimetype": "text/x-python",
   "name": "python",
   "nbconvert_exporter": "python",
   "pygments_lexer": "ipython3",
   "version": "3.6.13"
  }
 },
 "nbformat": 4,
 "nbformat_minor": 2
}
