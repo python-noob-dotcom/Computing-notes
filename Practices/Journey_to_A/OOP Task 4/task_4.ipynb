{
 "cells": [
  {
   "cell_type": "code",
   "execution_count": null,
   "metadata": {},
   "outputs": [],
   "source": [
    "class student:\n",
    "    def __init__(self, StudID, Name, StudType, NoOfSub, SkillArea):\n",
    "        self.name = Name\n",
    "        self.id = StudID\n",
    "        if StudType == 'D':\n",
    "            self.type = Diploma(NoOfSub)\n",
    "        else:\n",
    "            self.type = SkillsCert(SkillArea)\n",
    "\n",
    "    \n",
    "\n",
    "\n",
    "class Diploma:\n",
    "    def __init__(self, NoOfSub):\n",
    "        self.subjno = NoOfSub\n",
    "        self.result = []*NoOfSub\n",
    "\n",
    "class SkillsCert:\n",
    "    def __init__(self, SkillArea):\n",
    "        self.skill_area = SkillArea\n",
    "        self.result = ''\n"
   ]
  },
  {
   "cell_type": "code",
   "execution_count": 8,
   "metadata": {},
   "outputs": [
    {
     "name": "stdout",
     "output_type": "stream",
     "text": [
      "['201701', 'Sarbine', 'D', 'Diploma', '10']\n",
      "['201801', 'James May', 'D', 'Diploma', '']\n",
      "['201901', 'Jim Simon', 'S', 'Business']\n"
     ]
    }
   ],
   "source": [
    "def enter_result():\n",
    "    stuid = input('Enter student ID: ')\n",
    "    data = []\n",
    "    with open('./STUDENT.txt', 'r') as f:\n",
    "        flag = False\n",
    "        for line in f:\n",
    "            d = line.strip().split('|')\n",
    "            if d[0] == stuid:\n",
    "                flag = True\n",
    "                print(d)\n",
    "                d += [input('Update their result: ')]       \n",
    "            data.append(d)\n",
    "    if not flag:\n",
    "        print('Student not found')\n",
    "        return -1\n",
    "    \n",
    "    with open('./STUDENT.txt', 'w') as f:\n",
    "        for line in data:\n",
    "            string = ''\n",
    "            for entry in line:\n",
    "                string += entry + '|'\n",
    "\n",
    "            f.write(string[:-1] + '\\n')\n",
    "        \n",
    "\n",
    "\n",
    "enter_result()\n",
    "enter_result()\n",
    "enter_result()"
   ]
  },
  {
   "cell_type": "code",
   "execution_count": 1,
   "metadata": {},
   "outputs": [
    {
     "data": {
      "text/plain": [
       "False"
      ]
     },
     "execution_count": 1,
     "metadata": {},
     "output_type": "execute_result"
    }
   ],
   "source": [
    "'a' in [[], ['a']]"
   ]
  },
  {
   "cell_type": "code",
   "execution_count": 4,
   "metadata": {},
   "outputs": [
    {
     "data": {
      "text/plain": [
       "'b'"
      ]
     },
     "execution_count": 4,
     "metadata": {},
     "output_type": "execute_result"
    }
   ],
   "source": [
    "input('a: ')"
   ]
  }
 ],
 "metadata": {
  "kernelspec": {
   "display_name": "computing",
   "language": "python",
   "name": "python3"
  },
  "language_info": {
   "codemirror_mode": {
    "name": "ipython",
    "version": 3
   },
   "file_extension": ".py",
   "mimetype": "text/x-python",
   "name": "python",
   "nbconvert_exporter": "python",
   "pygments_lexer": "ipython3",
   "version": "3.6.13"
  }
 },
 "nbformat": 4,
 "nbformat_minor": 2
}
