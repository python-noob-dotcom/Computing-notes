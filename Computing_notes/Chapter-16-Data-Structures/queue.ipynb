{
 "cells": [
  {
   "cell_type": "markdown",
   "metadata": {},
   "source": [
    "# Base Linear Queue, using Linked list"
   ]
  },
  {
   "cell_type": "markdown",
   "metadata": {},
   "source": [
    "A Queue data type in CS is almost like a queue in real life.\n",
    "\n",
    "If you are at the front of the queue, order your food, and then leave the queue, you are <b>\"dequeuing\".</b> <br>\n",
    "If you want to buy food from a store, you need to go to the back of the queue and start queuing <b>\"enqueue\"</b>."
   ]
  },
  {
   "cell_type": "markdown",
   "metadata": {},
   "source": [
    "<img src = 'https://media.geeksforgeeks.org/wp-content/cdn-uploads/20230726165642/Queue-Data-structure1.png' alt = 'queue graphical demonstration'>"
   ]
  },
  {
   "cell_type": "code",
   "execution_count": null,
   "metadata": {},
   "outputs": [],
   "source": [
    "class Node:\n",
    "    def __init__(self, data, nxt = None):\n",
    "        self.data = data\n",
    "        self.nxt = nxt\n",
    "\n",
    "class linear_queue:\n",
    "    def __init__(self):\n",
    "        self.front = None\n",
    "\n",
    "    def empty(self):\n",
    "        return self.front == None\n",
    "    \n",
    "    def enqueue(self, data): # Add_back of linked list\n",
    "        new_node = Node(data)\n",
    "\n",
    "        if self.empty():\n",
    "            self.front = new_node\n",
    "        \n",
    "        else:\n",
    "            current = self.front\n",
    "            while current.nxt != None:\n",
    "                current = current.nxt\n",
    "\n",
    "            current.nxt = new_node\n",
    "\n",
    "    def dequeue(self): # Remove front of linked list\n",
    "        \n",
    "        if self.empty():\n",
    "            print('Queue is empty, cannot remove')\n",
    "            return -1\n",
    "        \n",
    "        removed = self.front\n",
    "        self.front = self.front.nxt\n",
    "\n",
    "        return removed\n",
    "\n",
    "    def peek(self): # Return the self.front\n",
    "        \n",
    "        if self.empty():\n",
    "            print('Queue is empty')\n",
    "            return -1\n",
    "        \n",
    "        return self.front\n"
   ]
  },
  {
   "cell_type": "markdown",
   "metadata": {},
   "source": [
    "# Circular Queue\n",
    "\n",
    "In a circular Queue, you connect"
   ]
  }
 ],
 "metadata": {
  "language_info": {
   "name": "python"
  }
 },
 "nbformat": 4,
 "nbformat_minor": 2
}
