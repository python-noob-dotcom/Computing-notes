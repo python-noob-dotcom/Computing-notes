{
 "cells": [
  {
   "cell_type": "code",
   "execution_count": 8,
   "metadata": {},
   "outputs": [
    {
     "data": {
      "text/plain": [
       "'k'"
      ]
     },
     "execution_count": 8,
     "metadata": {},
     "output_type": "execute_result"
    }
   ],
   "source": [
    "# Task 1.1\n",
    "\n",
    "def encryptor(character):\n",
    "\n",
    "    if character.isalpha():\n",
    "        if character.isupper():\n",
    "            encrypted = chr((ord(character) + 10 - 65) % 26 + 65)\n",
    "        else:\n",
    "            encrypted = chr((ord(character) + 10 - 97) % 26 + 97)\n",
    "    elif character == ' ':\n",
    "        encrypted = '!'\n",
    "    else:\n",
    "        encrypted = -1\n",
    "\n",
    "    return encrypted\n",
    "\n",
    "encryptor('a')"
   ]
  },
  {
   "cell_type": "code",
   "execution_count": 9,
   "metadata": {},
   "outputs": [
    {
     "name": "stdout",
     "output_type": "stream",
     "text": [
      "K\n",
      "k\n",
      "Please input a valid character\n",
      "!\n"
     ]
    }
   ],
   "source": [
    "# Task 1.2 \n",
    "\n",
    "def main():\n",
    "    character = input('Please enter a charascter to be encrypted')\n",
    "    print(encryptor(character) if encryptor(character) != -1 else 'Please input a valid character')\n",
    "\n",
    "main()\n",
    "main()\n",
    "main()\n",
    "main()"
   ]
  },
  {
   "cell_type": "code",
   "execution_count": 10,
   "metadata": {},
   "outputs": [
    {
     "name": "stdout",
     "output_type": "stream",
     "text": [
      "Drsc!sc!wi!combod!wocckqo!drkd!S!xoon!dy!oxmbizd\n"
     ]
    }
   ],
   "source": [
    "with open('DATATOENCRYPT.txt', 'r') as message:\n",
    "    encrypted_message = ''\n",
    "    text = next(message)\n",
    "    for char in text:\n",
    "        encrypt = encryptor(char)\n",
    "        if encrypt != -1:\n",
    "            encrypted_message += encrypt\n",
    "\n",
    "with open('ENCRYPTEDMESSAGE.txt', 'w') as encrypted:\n",
    "    encrypted.write(encrypted_message)\n",
    "    print(encrypted_message)        "
   ]
  }
 ],
 "metadata": {
  "kernelspec": {
   "display_name": "Python 3",
   "language": "python",
   "name": "python3"
  },
  "language_info": {
   "codemirror_mode": {
    "name": "ipython",
    "version": 3
   },
   "file_extension": ".py",
   "mimetype": "text/x-python",
   "name": "python",
   "nbconvert_exporter": "python",
   "pygments_lexer": "ipython3",
   "version": "3.6.4"
  }
 },
 "nbformat": 4,
 "nbformat_minor": 2
}
