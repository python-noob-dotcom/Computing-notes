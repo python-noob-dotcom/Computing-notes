{
 "cells": [
  {
   "cell_type": "markdown",
   "metadata": {},
   "source": [
    "# Connecting to SQLite databases in python\n",
    "\n",
    "- `sqlite.connect('filepath')` lets you connect to database specified\n",
    "- `connection.cursor()` lets you creata a database cursor to use SQL statements and fetch results from SQL queries\n",
    "- `cursor.execute('SQL statement')` lets you execute SQL statements. Refer to <i> Database 5 - Structured Query Language </i>\n",
    "    1. When executing statements such as `UPDATE XXXXXXXXXX SET XXXXXXXX = ....` need to make sure the statement is correct, because it will auto-commit changes\n",
    "- `execute_response.fetchall()` fetches all the data that you have selected in SQL statement / fetches status of the SQL statement executed if it is successful or not\n",
    "    1. The fetched response will leave the data response in a list of tuples, with each tuple being a singular row. Need to use indexing to go and filter through the data. If 1 index is left wrong, have to check and redo."
   ]
  },
  {
   "cell_type": "code",
   "execution_count": 4,
   "metadata": {},
   "outputs": [
    {
     "data": {
      "text/plain": [
       "[(2,)]"
      ]
     },
     "execution_count": 4,
     "metadata": {},
     "output_type": "execute_result"
    }
   ],
   "source": [
    "import sqlite3\n",
    "\n",
    "new_con = sqlite3.connect('./poly_db_task/poly.db')\n",
    "cur = new_con.cursor()\n",
    "\n",
    "res = cur.execute(\"SELECT MIN(count) FROM enrolment WHERE enrolment.gender = 'Male' AND enrolment.year = 2016\")\n",
    "res.fetchall()"
   ]
  }
 ],
 "metadata": {
  "kernelspec": {
   "display_name": "Python 3",
   "language": "python",
   "name": "python3"
  },
  "language_info": {
   "codemirror_mode": {
    "name": "ipython",
    "version": 3
   },
   "file_extension": ".py",
   "mimetype": "text/x-python",
   "name": "python",
   "nbconvert_exporter": "python",
   "pygments_lexer": "ipython3",
   "version": "3.7.7"
  }
 },
 "nbformat": 4,
 "nbformat_minor": 2
}
