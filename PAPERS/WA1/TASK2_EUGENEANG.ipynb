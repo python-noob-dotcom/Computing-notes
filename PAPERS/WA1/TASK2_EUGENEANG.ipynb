{
 "cells": [
  {
   "cell_type": "code",
   "execution_count": 14,
   "metadata": {},
   "outputs": [
    {
     "name": "stdout",
     "output_type": "stream",
     "text": [
      "{'Chicken Puff': 4, 'Tuna Puff': 2, 'Curry Puff': 3, 'Cream Puff': 1}\n"
     ]
    }
   ],
   "source": [
    "# Task 2.1\n",
    "\n",
    "def sales(item, quantity):\n",
    "    \"\"\"\n",
    "    Generate a dictionary containing {item: sales number}\n",
    "    \"\"\"\n",
    "    transactions = {}\n",
    "    for stuff in item:\n",
    "        if stuff not in transactions.keys():\n",
    "            transactions[stuff] = quantity[item.index(stuff)]\n",
    "        else:\n",
    "            transactions[stuff] += quantity[item.index(stuff)]\n",
    "    return transactions\n",
    "\n",
    "sl_item = ['Chicken Puff', 'Tuna Puff', 'Curry Puff', 'Cream Puff', 'Tuna Puff', 'Chicken Puff']\n",
    "\n",
    "sl_quantity = [2, 1, 3, 1, 2, 2]\n",
    "\n",
    "sl_sales = sales(sl_item, sl_quantity)\n",
    "\n",
    "print(sl_sales)"
   ]
  },
  {
   "attachments": {},
   "cell_type": "markdown",
   "metadata": {},
   "source": [
    "### <font color = red> .index(returns the first index of occurence) In this case, this will return the index of the first occurence of the chicken puff. Unluckily the number is the same so cannot check, but keep this in mind."
   ]
  },
  {
   "cell_type": "code",
   "execution_count": 106,
   "metadata": {},
   "outputs": [
    {
     "name": "stdout",
     "output_type": "stream",
     "text": [
      "{'Chicken Puff': 2}\n",
      "{'Chicken Puff': 2, 'Tuna Puff': 1}\n",
      "{'Chicken Puff': 2, 'Tuna Puff': 1, 'Curry Puff': 3}\n",
      "{'Chicken Puff': 2, 'Tuna Puff': 1, 'Curry Puff': 3, 'Cream Puff': 1}\n",
      "{'Chicken Puff': 2, 'Tuna Puff': 3, 'Curry Puff': 3, 'Cream Puff': 1}\n",
      "{'Chicken Puff': 4, 'Tuna Puff': 3, 'Curry Puff': 3, 'Cream Puff': 1}\n",
      "{'Chicken Puff': 4, 'Tuna Puff': 3, 'Curry Puff': 3, 'Cream Puff': 1}\n"
     ]
    }
   ],
   "source": [
    "# Task 2.1\n",
    "\n",
    "def sales(item, quantity):\n",
    "    \"\"\"\n",
    "    Generate a dictionary containing {item: sales number}\n",
    "    \"\"\"\n",
    "    transactions = {}\n",
    "    while len(item) > 0:\n",
    "        stuff = item[0]\n",
    "        if stuff not in transactions.keys():\n",
    "            transactions[stuff] = quantity[item.index(stuff)]\n",
    "        else:\n",
    "            transactions[stuff] += quantity[item.index(stuff)]\n",
    "        \n",
    "        quantity.remove(quantity[item.index(stuff)])\n",
    "        item.remove(stuff)\n",
    "        \n",
    "        print(transactions)\n",
    "        \n",
    "       \n",
    "    return transactions\n",
    "\n",
    "sl_item = ['Chicken Puff', 'Tuna Puff', 'Curry Puff', 'Cream Puff', 'Tuna Puff', 'Chicken Puff']\n",
    "\n",
    "sl_quantity = [2, 1, 3, 1, 2, 2]\n",
    "\n",
    "sl_sales = sales(sl_item, sl_quantity)\n",
    "\n",
    "print(sl_sales)"
   ]
  },
  {
   "cell_type": "code",
   "execution_count": 15,
   "metadata": {},
   "outputs": [
    {
     "name": "stdout",
     "output_type": "stream",
     "text": [
      "21.5\n"
     ]
    }
   ],
   "source": [
    "# Task 2.2\n",
    "\n",
    "selling_price = {'Tuna Puff': 4,\n",
    "                'Cream Puff': 3,\n",
    "                'Curry Puff': 2,\n",
    "                'Chicken Puff': 4}\n",
    "\n",
    "item_cost = {'Tuna Puff': 1.5,\n",
    "            'Cream Puff': 1,\n",
    "            'Curry Puff': 0.5,\n",
    "            'Chicken Puff': 1.5}\n",
    "\n",
    "def profit(sales, price, cost):\n",
    "    \"\"\"\n",
    "    Compute the total profits of the sales. Requires 3 parameters, sales dictionary, price_sold dictionary and cost_to_produce dictionary\n",
    "    \"\"\"\n",
    "    total_profit = 0\n",
    "    for key in sales.keys():\n",
    "        profit = (float(price[key]) - cost[key]) * sales[key]\n",
    "        total_profit += profit\n",
    "    return total_profit\n",
    "\n",
    "total_profit = profit(sl_sales, selling_price, item_cost)\n",
    "print(total_profit)"
   ]
  }
 ],
 "metadata": {
  "kernelspec": {
   "display_name": "Python 3",
   "language": "python",
   "name": "python3"
  },
  "language_info": {
   "codemirror_mode": {
    "name": "ipython",
    "version": 3
   },
   "file_extension": ".py",
   "mimetype": "text/x-python",
   "name": "python",
   "nbconvert_exporter": "python",
   "pygments_lexer": "ipython3",
   "version": "3.6.4"
  }
 },
 "nbformat": 4,
 "nbformat_minor": 2
}
