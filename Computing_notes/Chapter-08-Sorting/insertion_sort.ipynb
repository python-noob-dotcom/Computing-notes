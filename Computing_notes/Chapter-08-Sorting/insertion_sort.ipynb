{
 "cells": [
  {
   "cell_type": "markdown",
   "metadata": {},
   "source": [
    "#### Insertion sort\n",
    "- Insertion sort is similar to bubble sort in the sense that we require 2 loops / 1 loop and 1 recursive call to actually implement the algo\n",
    "- This makes the time complexity of insertion sort O(n^2), for all 3 cases\n",
    "##### Below is a graphical representation of insertion sort"
   ]
  },
  {
   "cell_type": "markdown",
   "metadata": {},
   "source": [
    "<img src = 'https://miro.medium.com/v2/resize:fit:802/1*7seGXJi3te9beNfpAvFXEQ.gif'>"
   ]
  },
  {
   "cell_type": "code",
   "execution_count": 1,
   "metadata": {},
   "outputs": [
    {
     "name": "stdout",
     "output_type": "stream",
     "text": [
      "[5, 4, 3, 2, 1]\n",
      "[4, 5, 3, 2, 1]\n",
      "[3, 4, 5, 2, 1]\n",
      "[2, 3, 4, 5, 1]\n"
     ]
    },
    {
     "data": {
      "text/plain": [
       "[1, 2, 3, 4, 5]"
      ]
     },
     "execution_count": 1,
     "metadata": {},
     "output_type": "execute_result"
    }
   ],
   "source": [
    "# insertion sort is also in place sorting --> sorting within the list\n",
    "def insertion_sort(array):\n",
    "\n",
    "    # Pick the second element in the array as the starting element\n",
    "    for i in range(1, len(array)):\n",
    "        curr_element = array[i]\n",
    "\n",
    "        j = i - 1\n",
    "\n",
    "        # If the element at the next position is less than the element at the previous position\n",
    "        # e.g. element 1 is 5, element 2 is 1\n",
    "        # 1 < 5, and so you swap\n",
    "        \n",
    "        while curr_element < array[j] and j + 1 >= 1: # we use j here as i is the outer loop, and in this inner loop, it should be kept constant\n",
    "            array[j + 1] = array[j]\n",
    "            array[j] = curr_element\n",
    "            j -= 1\n",
    "\n",
    "    return array\n",
    "\n",
    "insertion_sort([5, 4, 3, 2, 1])"
   ]
  },
  {
   "cell_type": "markdown",
   "metadata": {},
   "source": [
    "Here is the recursive version of insertion sort! <br> <br>\n",
    "\n",
    "The idea here is just to replace the outer loop with a recursive call <br> <br>\n",
    "--> We use 2 'tracker' values, `low` and `high` to track for the base case, and using the value at `array[low]` to be inserted <br> <br>\n",
    "--> The base case, would be the case when `low` exceeds `high`, which is when all the values would have been sorted\n",
    "- Rmb! you need to sort the last value as well"
   ]
  },
  {
   "cell_type": "code",
   "execution_count": 1,
   "metadata": {},
   "outputs": [
    {
     "data": {
      "text/plain": [
       "[1, 2, 3, 4, 5]"
      ]
     },
     "execution_count": 1,
     "metadata": {},
     "output_type": "execute_result"
    }
   ],
   "source": [
    "def insertion_sort_recursive(array, low, high):\n",
    "    if low <= high:\n",
    "        curr_elem = array[low]\n",
    "\n",
    "        j = low - 1\n",
    "\n",
    "        while curr_elem < array[j] and j + 1 >= 1:\n",
    "            array[j + 1] = array[j]\n",
    "            array[j] = curr_elem\n",
    "            j -= 1\n",
    "        \n",
    "        return insertion_sort_recursive(array, low + 1, high)\n",
    "    else:\n",
    "        return array\n",
    "    \n",
    "insertion_sort_recursive([5, 4, 3, 2, 1], 0, 4)"
   ]
  }
 ],
 "metadata": {
  "kernelspec": {
   "display_name": "Python 3",
   "language": "python",
   "name": "python3"
  },
  "language_info": {
   "codemirror_mode": {
    "name": "ipython",
    "version": 3
   },
   "file_extension": ".py",
   "mimetype": "text/x-python",
   "name": "python",
   "nbconvert_exporter": "python",
   "pygments_lexer": "ipython3",
   "version": "3.6.4"
  },
  "orig_nbformat": 4
 },
 "nbformat": 4,
 "nbformat_minor": 2
}
