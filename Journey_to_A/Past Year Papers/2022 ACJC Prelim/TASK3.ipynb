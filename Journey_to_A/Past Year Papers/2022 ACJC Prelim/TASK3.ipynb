{
 "cells": [
  {
   "cell_type": "code",
   "execution_count": null,
   "metadata": {},
   "outputs": [],
   "source": [
    "def dic(s):\n",
    "    d = {}\n",
    "\n",
    "    last_idx = len(s) - 1\n",
    "\n",
    "    for idx, c in enumerate(s):\n",
    "        if c in d:\n",
    "            d[c].append(idx)\n",
    "        else:\n",
    "            d[c] = [idx]\n",
    "    \n",
    "    return d"
   ]
  },
  {
   "cell_type": "code",
   "execution_count": null,
   "metadata": {},
   "outputs": [],
   "source": [
    "def substring(t, s):\n",
    "    flag = True\n",
    "    for i in range(len(s) - 1, -1, -1):\n",
    "        if t[i] == s[i]:\n",
    "            continue\n",
    "        else:\n",
    "            flag = False\n",
    "            mismatch = dic(t)[t[i]] - dic(s)[s[i]]\n",
    "            break\n",
    "\n",
    "    while flag:\n",
    "        for i in range(len(s) - 1, -1, -1):\n",
    "            if t[i + mismatch] == s[i]:\n",
    "                flag = False\n",
    "                continue\n",
    "            else:\n",
    "\n",
    "                if t[i + mismatch] in s[:i]:\n",
    "                    mismatch = \n",
    "                else:\n",
    "                    mismatch = dic(t)[t[i]] - dic(s)[s[i]]\n",
    "                    flag = True\n",
    "                    break\n",
    "\n",
    "    return True"
   ]
  }
 ],
 "metadata": {
  "language_info": {
   "name": "python"
  }
 },
 "nbformat": 4,
 "nbformat_minor": 2
}
