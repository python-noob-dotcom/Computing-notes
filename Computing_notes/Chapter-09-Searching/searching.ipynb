{
 "cells": [
  {
   "cell_type": "markdown",
   "metadata": {},
   "source": [
    "# <font color = gold> Overview of the different searches\n",
    "1. Linear search\n",
    "2. Binary Search "
   ]
  },
  {
   "cell_type": "code",
   "execution_count": 2,
   "metadata": {},
   "outputs": [
    {
     "name": "stdout",
     "output_type": "stream",
     "text": [
      "The target was found at index: 1\n",
      "The target could not be found, so it returns -1\n"
     ]
    }
   ],
   "source": [
    "def linear_search(array, target):\n",
    "    for i in range(len(array)):\n",
    "        if array[i] == target:\n",
    "            return i\n",
    "    return -1\n",
    "\n",
    "arr = [1, 2, 3, 4, 5]\n",
    "print(f'The target was found at index: {linear_search(arr, 2)}')\n",
    "print(f'The target could not be found, so it returns {linear_search(arr, 10)}')\n",
    "\n",
    "def binary_search(array, target, low, high):\n",
    "    if low < high:\n",
    "        middle_index = (low + high) // 2\n",
    "\n",
    "        if array[middle_index] == target:\n",
    "            return middle_index\n",
    "        \n",
    "        else:\n",
    "            if array[middle_index] > target:\n",
    "                return binary_search(array, target, middle_index + 1, high)\n",
    "            else:\n",
    "                return binary_search(array, target, low, middle_index - 1)\n"
   ]
  },
  {
   "cell_type": "markdown",
   "metadata": {},
   "source": [
    "### The code below is for non unique elements"
   ]
  },
  {
   "cell_type": "code",
   "execution_count": 9,
   "metadata": {},
   "outputs": [
    {
     "data": {
      "text/plain": [
       "[]"
      ]
     },
     "execution_count": 9,
     "metadata": {},
     "output_type": "execute_result"
    }
   ],
   "source": [
    "def binary_search(arr, target, low, high):\n",
    "    mid = (low + high) // 2\n",
    "\n",
    "    # Base case, if 0 < mid, or mid > high\n",
    "    if low > high:\n",
    "        return []\n",
    "    \n",
    "    if arr[mid] == target:\n",
    "        # Continue searching the left portion of the array for any duplicates\n",
    "        left = binary_search(arr, target, low, mid - 1)\n",
    "\n",
    "        # Continue searching the right portion of the array for any duplicates\n",
    "        right = binary_search(arr, target, mid + 1, high)\n",
    "\n",
    "        # At the end, return all the occurences found.\n",
    "        result = left + [mid] + right \n",
    "        return result\n",
    "        \n",
    "    if arr[mid] < target:\n",
    "        return binary_search(arr, target, mid + 1, high)\n",
    "    else:\n",
    "        return binary_search(arr, target, low, mid - 1)\n",
    "    \n",
    "binary_search([1, 2, 2, 2, 2, 3, 4, 5, 6], 9, 0, 8)"
   ]
  }
 ],
 "metadata": {
  "kernelspec": {
   "display_name": "Python 3",
   "language": "python",
   "name": "python3"
  },
  "language_info": {
   "codemirror_mode": {
    "name": "ipython",
    "version": 3
   },
   "file_extension": ".py",
   "mimetype": "text/x-python",
   "name": "python",
   "nbconvert_exporter": "python",
   "pygments_lexer": "ipython3",
   "version": "3.6.4"
  },
  "orig_nbformat": 4
 },
 "nbformat": 4,
 "nbformat_minor": 2
}
