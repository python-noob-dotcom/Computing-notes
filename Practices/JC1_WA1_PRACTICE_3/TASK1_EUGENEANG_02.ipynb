{
 "cells": [
  {
   "cell_type": "code",
   "execution_count": 2,
   "metadata": {},
   "outputs": [
    {
     "data": {
      "text/plain": [
       "[['john', '17', 'M'],\n",
       " ['peter', '17', 'M'],\n",
       " ['mary', '16', 'F'],\n",
       " ['jane', '15', 'F'],\n",
       " ['samuel', '19', 'M'],\n",
       " ['samantha', '21', 'F'],\n",
       " ['joel', '18', 'M'],\n",
       " ['jolene', '17', 'F'],\n",
       " ['mandy', '16', 'F'],\n",
       " ['leon', '17', 'M']]"
      ]
     },
     "execution_count": 2,
     "metadata": {},
     "output_type": "execute_result"
    }
   ],
   "source": [
    "# Task 1.1\n",
    "data = []\n",
    "with open('students.txt', 'r') as f:\n",
    "    for line in f:\n",
    "        data.append(line.strip().split(\",\"))\n",
    "\n",
    "data"
   ]
  },
  {
   "cell_type": "code",
   "execution_count": 4,
   "metadata": {},
   "outputs": [
    {
     "name": "stdout",
     "output_type": "stream",
     "text": [
      "Age: 17 Gender: M\n"
     ]
    }
   ],
   "source": [
    "# Task 1.2\n",
    "userin = input('Input a name: ')\n",
    "\n",
    "for line in data:\n",
    "    if userin in line:\n",
    "        print(f\"Age: {line[1]} Gender: {line[2]}\")\n",
    "    else:\n",
    "        raise NameError('Name not found')"
   ]
  },
  {
   "cell_type": "code",
   "execution_count": 9,
   "metadata": {},
   "outputs": [],
   "source": [
    "# Task 1.3\n",
    "ages = 0\n",
    "m = 0\n",
    "f = 0\n",
    "for line in data:\n",
    "    ages += int(line[1])\n",
    "    if line[2] == 'M':\n",
    "        m += 1\n",
    "    else:\n",
    "        f += 1\n",
    "\n",
    "average_age = ages / len(data)\n",
    "\n"
   ]
  },
  {
   "cell_type": "code",
   "execution_count": 14,
   "metadata": {},
   "outputs": [],
   "source": [
    "# Task 1.4\n",
    "import csv\n",
    "\n",
    "for line in data:\n",
    "    line[0] = line[0].upper()\n",
    "\n",
    "with open('updated_students.csv', 'w', newline='') as f:\n",
    "    writer = csv.writer(f)\n",
    "    writer.writerows(data)"
   ]
  }
 ],
 "metadata": {
  "kernelspec": {
   "display_name": "computing",
   "language": "python",
   "name": "python3"
  },
  "language_info": {
   "codemirror_mode": {
    "name": "ipython",
    "version": 3
   },
   "file_extension": ".py",
   "mimetype": "text/x-python",
   "name": "python",
   "nbconvert_exporter": "python",
   "pygments_lexer": "ipython3",
   "version": "3.6.13"
  },
  "orig_nbformat": 4
 },
 "nbformat": 4,
 "nbformat_minor": 2
}
