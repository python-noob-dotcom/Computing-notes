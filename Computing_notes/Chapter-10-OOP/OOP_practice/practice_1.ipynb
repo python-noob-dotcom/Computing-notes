{
 "cells": [
  {
   "cell_type": "code",
   "execution_count": 18,
   "metadata": {},
   "outputs": [],
   "source": [
    "class LibraryItem:\n",
    "    def __init__(self, item_id, title, due_date, loaned_by = '' ):\n",
    "        self.item_id = item_id\n",
    "        self.title = title\n",
    "        self.loaned_by = loaned_by\n",
    "        self.due_date = due_date\n",
    "\n",
    "    def is_on_loan(self):\n",
    "        if self.loaned_by == '':\n",
    "            return True\n",
    "        else:\n",
    "            return False\n",
    "    \n",
    "    def return_item(self):\n",
    "        self.loaned_by = ''\n",
    "\n",
    "    def loan_to(self, user_id):\n",
    "        if self.is_on_loan():\n",
    "            self.loaned_by = user_id\n",
    "            return True\n",
    "        else:\n",
    "            print('Item has been loaned')\n",
    "            return False\n",
    "    \n",
    "    def print_details(self):\n",
    "        print(f'Title: {self.title}')\n",
    "\n",
    "        if self.loaned_by != '':\n",
    "            print(f'Loaned by: {self.loaned_by}\\n{self.due_date}\\n')\n",
    "    "
   ]
  },
  {
   "cell_type": "code",
   "execution_count": 19,
   "metadata": {},
   "outputs": [],
   "source": [
    "class Book(LibraryItem):\n",
    "    def __init__(self, item_id, title, due_date, author, category, reserved_by = '', loaned_by='' ):\n",
    "        super().__init__(item_id, title, due_date, loaned_by)\n",
    "        self.author = author\n",
    "        self.category = category\n",
    "        self.reserved_by = reserved_by\n",
    "\n",
    "    def is_reserved(self):\n",
    "        if self.reserved_by == '':\n",
    "            return False\n",
    "        else:\n",
    "            return True\n",
    "        \n",
    "    def release(self):\n",
    "        self.reserved_by = ''\n",
    "    \n",
    "    def reserve_for(self, user_id):\n",
    "        if not self.is_reserved():\n",
    "            return False\n",
    "        else:\n",
    "            self.reserved_by = user_id\n",
    "            print(f'Item has been reserved for {user_id}')\n",
    "            return True\n",
    "    \n",
    "    def print_details(self):\n",
    "        print(f'Title: {self.title}\\nAuthor: {self.author}\\nCategory: {self.category}')\n",
    "\n",
    "        if self.loaned_by != '':\n",
    "            print(f'Loaned by: {self.loaned_by}\\n{self.due_date}\\n')\n",
    "        if self.reserved_by():\n",
    "            print(f'Reserved by: {self.reserved_by}')\n",
    "\n",
    "class CompactDisc(LibraryItem):\n",
    "    def __init__(self, item_id, title, due_date, artist, genre, loaned_by=''):\n",
    "        super().__init__(item_id, title, due_date, loaned_by)\n",
    "        self.artist = artist\n",
    "        self.genre = genre\n",
    "    \n",
    "    def print_details(self):\n",
    "        print(f'Title: {self.title}\\nArtist: {self.artist}\\nGenre: {self.genre}')\n",
    "\n",
    "        if self.loaned_by != '':\n",
    "            print(f'Loaned by: {self.loaned_by}\\n{self.due_date}\\n')\n",
    "            "
   ]
  },
  {
   "cell_type": "code",
   "execution_count": 20,
   "metadata": {},
   "outputs": [],
   "source": [
    "# Task 1.3\n",
    "libraryitems = []\n",
    "with open('./libraryitems.txt', 'r') as library_items:\n",
    "    for libraryitem in library_items:\n",
    "        item = libraryitem.strip().split(',')\n",
    "        if item[0].startswith('B'):\n",
    "            book_item = Book(item_id = item[0], title = item[1], author = item[2], category= item[3], due_date='')\n",
    "            libraryitems.append(book_item)\n",
    "\n",
    "        elif item[0][0] == 'C':\n",
    "            cd_item = CompactDisc(item_id= item[0], title = item[1], artist = item[2], genre = item[3], due_date='')\n",
    "            libraryitems.append(cd_item)\n"
   ]
  },
  {
   "cell_type": "code",
   "execution_count": 21,
   "metadata": {},
   "outputs": [
    {
     "name": "stdout",
     "output_type": "stream",
     "text": [
      "Title: Da Vinci Code\n",
      "Author: Dan Brown\n",
      "Category: Fiction\n",
      "Loaned by: S1111111H\n",
      "\n",
      "\n"
     ]
    },
    {
     "ename": "TypeError",
     "evalue": "'str' object is not callable",
     "output_type": "error",
     "traceback": [
      "\u001b[1;31m---------------------------------------------------------------------------\u001b[0m",
      "\u001b[1;31mTypeError\u001b[0m                                 Traceback (most recent call last)",
      "\u001b[1;32m~\\AppData\\Local\\Temp\\ipykernel_11884\\1754857281.py\u001b[0m in \u001b[0;36m<module>\u001b[1;34m\u001b[0m\n\u001b[0;32m     10\u001b[0m         \u001b[0mitem\u001b[0m\u001b[1;33m.\u001b[0m\u001b[0mreserve_for\u001b[0m\u001b[1;33m(\u001b[0m\u001b[0mu_id_2\u001b[0m\u001b[1;33m)\u001b[0m\u001b[1;33m\u001b[0m\u001b[1;33m\u001b[0m\u001b[0m\n\u001b[0;32m     11\u001b[0m \u001b[1;33m\u001b[0m\u001b[0m\n\u001b[1;32m---> 12\u001b[1;33m     \u001b[0mitem\u001b[0m\u001b[1;33m.\u001b[0m\u001b[0mprint_details\u001b[0m\u001b[1;33m(\u001b[0m\u001b[1;33m)\u001b[0m\u001b[1;33m\u001b[0m\u001b[1;33m\u001b[0m\u001b[0m\n\u001b[0m",
      "\u001b[1;32m~\\AppData\\Local\\Temp\\ipykernel_11884\\3234571608.py\u001b[0m in \u001b[0;36mprint_details\u001b[1;34m(self)\u001b[0m\n\u001b[0;32m     28\u001b[0m         \u001b[1;32mif\u001b[0m \u001b[0mself\u001b[0m\u001b[1;33m.\u001b[0m\u001b[0mloaned_by\u001b[0m \u001b[1;33m!=\u001b[0m \u001b[1;34m''\u001b[0m\u001b[1;33m:\u001b[0m\u001b[1;33m\u001b[0m\u001b[1;33m\u001b[0m\u001b[0m\n\u001b[0;32m     29\u001b[0m             \u001b[0mprint\u001b[0m\u001b[1;33m(\u001b[0m\u001b[1;34mf'Loaned by: {self.loaned_by}\\n{self.due_date}\\n'\u001b[0m\u001b[1;33m)\u001b[0m\u001b[1;33m\u001b[0m\u001b[1;33m\u001b[0m\u001b[0m\n\u001b[1;32m---> 30\u001b[1;33m         \u001b[1;32mif\u001b[0m \u001b[0mself\u001b[0m\u001b[1;33m.\u001b[0m\u001b[0mreserved_by\u001b[0m\u001b[1;33m(\u001b[0m\u001b[1;33m)\u001b[0m\u001b[1;33m:\u001b[0m\u001b[1;33m\u001b[0m\u001b[1;33m\u001b[0m\u001b[0m\n\u001b[0m\u001b[0;32m     31\u001b[0m             \u001b[0mprint\u001b[0m\u001b[1;33m(\u001b[0m\u001b[1;34mf'Reserved by: {self.reserved_by}'\u001b[0m\u001b[1;33m)\u001b[0m\u001b[1;33m\u001b[0m\u001b[1;33m\u001b[0m\u001b[0m\n\u001b[0;32m     32\u001b[0m \u001b[1;33m\u001b[0m\u001b[0m\n",
      "\u001b[1;31mTypeError\u001b[0m: 'str' object is not callable"
     ]
    }
   ],
   "source": [
    "# Task 1.4\n",
    "\n",
    "u_id_1 = 'S1111111H'\n",
    "\n",
    "u_id_2 = 'S1222222D'\n",
    "\n",
    "for item in libraryitems:\n",
    "    item.loan_to(u_id_1)\n",
    "    if item.item_id[0] == 'B':\n",
    "        item.reserve_for(u_id_2)\n",
    "\n",
    "    item.print_details()"
   ]
  }
 ],
 "metadata": {
  "kernelspec": {
   "display_name": "Python 3",
   "language": "python",
   "name": "python3"
  },
  "language_info": {
   "codemirror_mode": {
    "name": "ipython",
    "version": 3
   },
   "file_extension": ".py",
   "mimetype": "text/x-python",
   "name": "python",
   "nbconvert_exporter": "python",
   "pygments_lexer": "ipython3",
   "version": "3.7.7"
  }
 },
 "nbformat": 4,
 "nbformat_minor": 2
}
