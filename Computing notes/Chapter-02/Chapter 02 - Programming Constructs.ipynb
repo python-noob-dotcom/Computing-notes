{
 "cells": [
  {
   "cell_type": "markdown",
   "metadata": {
    "id": "PAN_qvA5DilA"
   },
   "source": [
    "# Learning Objectives\n",
    "\n",
    "- 2.2.3 Apply the fundamental programming constructs to control the flow of program execution:\n",
    "     * Sequence\n",
    "     * Selection\n",
    "     * Iteration "
   ]
  },
  {
   "cell_type": "markdown",
   "metadata": {
    "id": "QLSmS9g8DilF"
   },
   "source": [
    "# 2 Programming Constructs\n",
    "\n",
    ">A programming construct is an abstract way of describing a concept in terms of the syntax of programming language. These constructs are building blocks that forms the basis of all programs. \n",
    "\n",
    "These are basic programming constructs that we need to know:\n",
    "\n",
    "- Sequence,\n",
    "- Assignment,\n",
    "- Selection,\n",
    "- Iteration.\n",
    "\n",
    "We will explore the Assignment and Selection Construct in the sections below.\n",
    "\n",
    "## 2.0 Programming Construct : Sequence\n",
    "\n",
    "The most general construct of programming corresponds to the sequence of instructions, or more specifically, the sequence of statements that are specified within the program code.\n",
    "\n",
    "## 2.1 Programming Construct : Assignment\n",
    "\n",
    "In order to process data, we typically need to store it in computer memory. This is done via the use of variables. You might be familiar with variables given their use in mathematics. However, variables in mathematics and computing are different.\n",
    "\n",
    "In computing, a variable corresponds to an identifier that references a unit of data in computer memory.\n",
    "\n",
    "In order to define a variable, we must utilise the first programming construct: an **assignment statement**.\n",
    "\n",
    "To understand how assignment and variables work, let us refer to the following example:\n",
    "\n",
    ">```python\n",
    ">#x is the variable, 100 is the data, ← is the assignment operator\n",
    ">#and the whole line below is the assignment statement\n",
    ">x ← 100\n",
    ">```\n",
    "\n",
    "The above is a typical assignment statement. We are specifying a variable, i.e., an identifier `x`, which will reference some part of the computer’s memory, and in that segment of computer memory, store the integer value `100`.\n",
    "\n",
    "Essentially, the assignment statement does 3 things:\n",
    "\n",
    "1. Stores the variable identifier in an identifier table\n",
    "2. Allocates computer memory for the storage of the data type value specified; the memory allocated will correspond to some specific location in memory - i.e., a memory address\n",
    "3. Links the variable identifier to the computer memory location\n",
    "\n",
    "In this manner, whenever the variable is used, the computer knows that we are referring to the value that is stored in the associated location in computer memory.\n",
    "\n",
    "Assignment also allows programmers to:\n",
    "\n",
    "1. Assign new values to a variable\n",
    "2. Copy variable values\n",
    "3. Swap values between variables\n",
    "\n",
    "It should also be noted that when assigning a value, that value may be computed using expressions consisting of arithmetic, logical, comparison and/or string operations. For example:\n",
    "\n",
    ">```python\n",
    ">x ← 10+20\n",
    ">```\n",
    "\n",
    "Such expressions can, and or course, often do include the specification of other variables. For example:\n",
    "\n",
    ">```python\n",
    ">result ← a*x**2 + b*x + c\n",
    ">```\n",
    "\n",
    "In Python, the assignment operator is `=` , which should not be confused with the equal sign $=$ from mathematics.\n",
    "\n",
    "In Python, we can do multivariable assignment in a single line too. Example:\n",
    ">```python\n",
    "> a,b = 10, 20\n",
    "> a,b = b, a\n",
    ">```\n",
    "\n",
    "### 2.1.1 Python Naming Conventions and some Formatting Standards\n",
    "\n",
    "To prevent conflict and to keep consistency between programs, programming languages normally has some naming conventions for the variables, please check [https://www.python.org/dev/peps/pep-0008/#naming-conventions](https://www.python.org/dev/peps/pep-0008/) for updated style guide for python. For example, never use the characters `l` (lowercase letter el), `O` (uppercase letter oh), or `I` (uppercase letter eye) as single character variable names. In some fonts, these characters are indistinguishable from the numerals one and zero. When tempted to use `l`, use `L` instead.\n",
    "\n",
    "Legal variable names of a variable in Python :\n",
    "- Cannot begin with a digit\n",
    "- Cannot include operator symbols\n",
    "- Cannot be reserved words (e.g., `or`, `and`, `not`, `in`, `is`, `def`, `return`, `pass`, `break`, `continue`)\n",
    "- Should not be built-in function names (e.g., `print`, `input`, `range`, `len`, `min`, `max`, `int`, `str`)\n",
    " "
   ]
  },
  {
   "cell_type": "markdown",
   "metadata": {
    "id": "g0TEFavSDilJ"
   },
   "source": [
    "#### Exercise 2.1\n",
    "\n",
    "What is the output of the following code?\n",
    "\n",
    ">```python\n",
    ">a = 5 \n",
    ">b = a + 7 \n",
    ">a = 10 \n",
    ">print(str(b))\n",
    ">```"
   ]
  },
  {
   "cell_type": "markdown",
   "metadata": {
    "id": "zWhUEPS9DilK"
   },
   "source": [
    "##### Answer"
   ]
  },
  {
   "cell_type": "code",
   "execution_count": null,
   "metadata": {
    "id": "_GzSlQWvDilM"
   },
   "outputs": [],
   "source": [
    "#YOUR ANSWER HERE\n",
    "# 12"
   ]
  },
  {
   "cell_type": "markdown",
   "metadata": {
    "id": "BgyWZxDaDilO"
   },
   "source": [
    "#### Exercise 2.2\n",
    "\n",
    "The Python interpreter has strict rules for variable names. Which of the following are legal Python variable names? If the name is not legal, state the reason.\n",
    "\n",
    "1. `and`\n",
    "2. `_and`\n",
    "3. `Var`\n",
    "4. `var1`\n",
    "5. `1var`\n",
    "6. `my-name`\n",
    "7. `your_name`\n",
    "8. `COLOUR`"
   ]
  },
  {
   "cell_type": "markdown",
   "metadata": {
    "id": "yzG76aOjDilO"
   },
   "source": [
    "##### Answer"
   ]
  },
  {
   "cell_type": "code",
   "execution_count": null,
   "metadata": {
    "id": "nksBi3CTDilP"
   },
   "outputs": [],
   "source": [
    "#YOUR ANSWER HERE\n",
    "#1.  and is not legal, and is a reserved word\n",
    "#2.  Same as 1\n",
    "#3. Var is a valid variable name\n",
    "#4. Same as 3, since python is not c++\n",
    "#5.  No the var starts with a integer\n",
    "# 6. my-name is not, it would think that is it my minus name\n",
    "# 7. your_name is valid\n",
    "# 8. COLOUR is valid"
   ]
  },
  {
   "cell_type": "markdown",
   "metadata": {
    "id": "F6glMpFkDilP"
   },
   "source": [
    "## 2.2 Programming Construct : Selection\n",
    "Often, a program consisting of a sequence of statements is insufficient. This is because it is common to face a problem that requires the execution of different sets of statements dependent upon the current state of the data.\n",
    "\n",
    "To remedy this, we utilise the selection programming construct.\n",
    "\n",
    "With the selection programming construct, a query/condition is evaluated. Depending on its result, the program will take one of two possible courses of action. As such, the selection construct is typically referred to as an `if-else` statement (or `if` statement for short), which selects different sets of statements to execute.\n",
    "\n",
    "For example:\n",
    "\n",
    ">```coffeescript\n",
    ">INPUT x\n",
    ">IF x ≥ 50\n",
    ">    THEN\n",
    ">        OUTPUT “PASS”\n",
    ">        OUTPUT “Well done!”\n",
    ">    ELSE\n",
    ">        OUTPUT “FAIL”\n",
    ">        OUTPUT “Please try harder.”\n",
    ">ENDIF\n",
    ">```\n",
    "\n",
    "It should be noted that it is common practice to indent the statements within the `if` or `else` parts of an `if` statement so that it is easier to read the code.\n",
    "\n",
    "Finally, it should also be noted that `if` statements may be nested, i.e., the statements in the `if` or `else` parts may themselves include another `if` statement.\n",
    "\n",
    "In Python, the `if` block follows the structure below:\n",
    "\n",
    ">```python\n",
    ">if <condition_1>:\n",
    ">    <action_1>\n",
    ">elif <condition_2>: #if statements do not always need to be accompanied by elif and else\n",
    ">    <action_2>\n",
    ">else:\n",
    ">    <action_3>\n",
    ">```"
   ]
  },
  {
   "cell_type": "markdown",
   "metadata": {
    "id": "iQ3Mx2iLDilQ"
   },
   "source": [
    "#### Example 2.3\n",
    "\n",
    "Write a program that helps the user to convert a given integer from 0 to 100 inclusive to a grade. \n",
    " \n",
    "The problem: \n",
    "-\tRequest a quantity from the user. \n",
    "-\tif the input quantity is greater or equal to 70, print `A`,\n",
    "-\tif the input quantity is between 60 and 69 inclusive, print `B`,\n",
    "-\tif the input quantity is between 55 and 59 inclusive, print `C`,\n",
    "-\tif the input quantity is between 50 and 54 inclusive, print `D`,\n",
    "-\tif the input quantity is between 45 and 49 inclusive, print `E`,\n",
    "-\tif the input quantity is between 40 and 44 inclusive, print `S`,\n",
    "-\totherwise, print `U`.\n",
    "\n",
    "Example interaction:\n",
    ">Enter mark: 75 <br>\n",
    ">A"
   ]
  },
  {
   "cell_type": "markdown",
   "metadata": {
    "id": "8YPcvqk-DilQ"
   },
   "source": [
    "##### Answer"
   ]
  },
  {
   "cell_type": "code",
   "execution_count": null,
   "metadata": {
    "id": "xJi5gx5iDilR"
   },
   "outputs": [
    {
     "name": "stdout",
     "output_type": "stream",
     "text": [
      "A\n"
     ]
    }
   ],
   "source": [
    "#YOUR ANSWER HERE\n",
    "x = input('Enter marks')\n",
    "x = int(x)\n",
    "if x >= 70:\n",
    "    print('A')\n",
    "elif x>= 60 and x<= 69:\n",
    "    print('B')\n",
    "elif x>= 55 and x<= 59:\n",
    "    print('C')\n",
    "elif x>= 50 and x<= 54:\n",
    "    print('D')\n",
    "elif x >= 45 and x <= 49:\n",
    "    print('E')\n",
    "elif x >= 40 and x<= 44:\n",
    "    print('S')\n",
    "else:\n",
    "    print('Failure')"
   ]
  },
  {
   "cell_type": "markdown",
   "metadata": {
    "id": "Wpl2wqqNDilR"
   },
   "source": [
    "## 2.3 Programming Constructs : Iteration\n",
    "\n",
    "The last programming construct is the iteration construct, which allows us to specify loops.\n",
    "\n",
    "Often, we will notice that our code requires the execution of similar repeated steps.\n",
    "\n",
    "The iteration, or loop construct allows us to automate repeated steps. More specifically, iteration is the act of repeating a process to achieve a specific end goal. When iteration is used, the sequence/set of instructions within the loop will keep repeating until a certain condition/requirement has been reached, or is no longer satisfied. Each repetition is also known as an iteration. The results of one iteration are used as the starting point for the next iteration.\n",
    "\n",
    "Iteration usually involves the use of loops. Most commonly used loops include:\n",
    "\n",
    "1. **For** loops : Loops with an explicit counter for every iteration. This allows the body of the `for` loop code to know about the sequencing (i.e. index number) of the iteration. \n",
    "2. **While-Do** loops : Loops which continually execute a statement while a particular expression (of a condition/set of conditions) is true. It is executed zero or more times. \n",
    "3. **Do-While** (or Repeat-Until) loops : Similar to while-do loops, except the expression is evaluated at the end. Hence, the block of code is executed at once, then only repeats when the specified condition or set of conditions is met. (Not in Python)\n",
    "\n",
    "In Python, the `for` and `while` loops follow the structure below:\n",
    "\n",
    ">```python\n",
    ">for index in <iterable>:\n",
    ">    <action_here>\n",
    ">\n",
    ">while <condition>:\n",
    ">    <action_here>\n",
    ">```"
   ]
  },
  {
   "cell_type": "markdown",
   "metadata": {
    "id": "hVtbBKOUDilS"
   },
   "source": [
    "An example of an `iterable` object in Python is `range`. The syntax is `range(start,end,step)` and it will give an iterable that starts from `start` with the highest being `end - 1` (*note this*). `step` is an optional argument that specify how much the increment from `start` is. By default, `step = 1`."
   ]
  },
  {
   "cell_type": "markdown",
   "metadata": {
    "id": "5ikskaRsDilS"
   },
   "source": [
    "In Python, we can also use `break` and `continue` statements inside the loops to terminate a loop iteration halfway.\n",
    "- the `break` statement stops the loop iteration **completely**, while\n",
    "- the `continue` statement terminates the current loop iteration but goes back to check the condition if the rest of the iteration could be carried out."
   ]
  },
  {
   "cell_type": "code",
   "execution_count": 1,
   "metadata": {},
   "outputs": [
    {
     "name": "stdout",
     "output_type": "stream",
     "text": [
      "0\n",
      "1\n",
      "2\n",
      "3\n",
      "4\n",
      "5\n",
      "6\n",
      "7\n",
      "8\n",
      "9\n",
      "10\n",
      "0\n",
      "1\n",
      "2\n",
      "3\n",
      "4\n",
      "5\n",
      "6\n",
      "7\n",
      "8\n",
      "9\n",
      "10\n"
     ]
    }
   ],
   "source": [
    "i = 0\n",
    "# while True:\n",
    "#     print(i)\n",
    "#     i += 1\n",
    "#     if i > 10:\n",
    "#         break\n",
    "\n",
    "\n",
    "i = 0\n",
    "while True:\n",
    "    try:\n",
    "        print(i)\n",
    "        i += 1\n",
    "        if i > 10:\n",
    "            raise ValueError\n",
    "    except ValueError:\n",
    "        break"
   ]
  },
  {
   "cell_type": "code",
   "execution_count": null,
   "metadata": {
    "id": "Y7VQoKUVDilS"
   },
   "outputs": [
    {
     "name": "stdout",
     "output_type": "stream",
     "text": [
      "5\n",
      "4\n",
      "3\n",
      "1\n",
      "-----\n",
      "0\n"
     ]
    }
   ],
   "source": [
    "n = 5\n",
    "\n",
    "while n >= 1:\n",
    "    print(n)\n",
    "    if n == 3:\n",
    "        n -= 2\n",
    "        continue\n",
    "    n -= 1\n",
    "\n",
    "print('-----')\n",
    "print(n)\n",
    "\n"
   ]
  },
  {
   "cell_type": "markdown",
   "metadata": {
    "id": "mCRHyuMCDilT"
   },
   "source": [
    "#### Exercise 2.4\n",
    "Show that for any integer $n$, $n^5$ and $n$ always have the same last digit."
   ]
  },
  {
   "cell_type": "markdown",
   "metadata": {
    "id": "vZgUx8LzDilT"
   },
   "source": [
    "##### Answer"
   ]
  },
  {
   "cell_type": "code",
   "execution_count": 63,
   "metadata": {
    "id": "z-pipTUwDilT"
   },
   "outputs": [
    {
     "name": "stdout",
     "output_type": "stream",
     "text": [
      "Last digit of n power 5 is 0 and n is 0 the same\n",
      "Last digit of n power 5 is 1 and n is 1 the same\n",
      "Last digit of n power 5 is 2 and n is 2 the same\n",
      "Last digit of n power 5 is 3 and n is 3 the same\n",
      "Last digit of n power 5 is 4 and n is 4 the same\n",
      "Last digit of n power 5 is 5 and n is 5 the same\n",
      "Last digit of n power 5 is 6 and n is 6 the same\n",
      "Last digit of n power 5 is 7 and n is 7 the same\n",
      "Last digit of n power 5 is 8 and n is 8 the same\n",
      "Last digit of n power 5 is 9 and n is 9 the same\n",
      "Last digit of n power 5 is 0 and n is 0 the same\n"
     ]
    }
   ],
   "source": [
    "#YOUR ANSWER HERE\n",
    "i = 0\n",
    "status = True\n",
    "while status:\n",
    "    x = i ** 5\n",
    "    status = True if i < 10 else False\n",
    "    if str(x)[-1] == str(i)[-1]:\n",
    "        print(f'Last digit of n power 5 is {str(x)[-1]} and n is {str(i)[-1]} the same')\n",
    "        pass\n",
    "    i += 1"
   ]
  },
  {
   "cell_type": "markdown",
   "metadata": {
    "id": "1kG7Sh42DilU"
   },
   "source": [
    "#### Exercise 2.5\n",
    "\n",
    "Consider the following code.\n",
    "\n",
    ">```python\n",
    ">x = input(\"Enter a positive integer value for x: \") \n",
    ">\n",
    ">if x > 10 and x % 6 == 3:\n",
    ">   print(\"a\", end = \"\")\n",
    ">elif x > 10 and x < 20:\n",
    ">   print(\"b\", end = \"\")\n",
    ">else:\n",
    ">   print(\"c\", end = \"\")\n",
    ">print(\"\")\n",
    ">```\n",
    "\n",
    "Given the following outputs, determine the corresponding value(s) for `x` that would have generated that output. If no values of a can produce the listed output, write none.\n",
    "\n",
    "1. `ab`\n",
    "2. `a`\n",
    "3. `b`\n",
    "4. `c`"
   ]
  },
  {
   "cell_type": "code",
   "execution_count": null,
   "metadata": {
    "id": "8xeliDPKDilU"
   },
   "outputs": [],
   "source": [
    "#YOUR ANSWER HERE"
   ]
  },
  {
   "cell_type": "markdown",
   "metadata": {
    "id": "rlyWEDqBDilU"
   },
   "source": [
    "##### Answer"
   ]
  },
  {
   "cell_type": "markdown",
   "metadata": {
    "id": "Wgh8GiZUDilV"
   },
   "source": [
    "#### Example 2.6\n",
    "\n",
    "\n",
    "Write a program that helps the user to convert a given integer from 0 to 100 inclusive to a grade repeatedly until a noninteger is entered.\n",
    " \n",
    "The problem: \n",
    "-\tRequest a quantity from the user. \n",
    "-\tif the input quantity is greater or equal to 70, print `A`,\n",
    "-\tif the input quantity is between 60 and 69 inclusive, print `B`,\n",
    "-\tif the input quantity is between 55 and 59 inclusive, print `C`,\n",
    "-\tif the input quantity is between 50 and 54 inclusive, print `D`,\n",
    "-\tif the input quantity is between 45 and 49 inclusive, print `E`,\n",
    "-\tif the input quantity is between 40 and 44 inclusive, print `S`,\n",
    "-\totherwise, print `U`.\n",
    "\n",
    "Example interaction:\n",
    ">Enter mark: 75 <br>\n",
    ">A<br>\n",
    ">Enter mark again: 75 <br>\n",
    ">B<br>\n",
    ">Enter mark again: * <br>\n"
   ]
  },
  {
   "cell_type": "markdown",
   "metadata": {
    "id": "LJBIQtFxDilV"
   },
   "source": [
    "##### Answer"
   ]
  },
  {
   "cell_type": "code",
   "execution_count": null,
   "metadata": {
    "id": "HN5onJTiDilV"
   },
   "outputs": [],
   "source": [
    "#YOUR ANSWER HERE"
   ]
  },
  {
   "cell_type": "markdown",
   "metadata": {
    "id": "NvEbI2o0DilW"
   },
   "source": [
    "#### Example 2.7 \n",
    "\n",
    "Write a program that helps the user to print each character in a given string.\n",
    "\n",
    "Example interaction:\n",
    ">Please enter a string: abcdef <br>\n",
    ">a<br>\n",
    ">b<br>\n",
    ">c<br>\n",
    ">d<br>\n",
    ">e<br>\n",
    ">f<br>"
   ]
  },
  {
   "cell_type": "markdown",
   "metadata": {
    "id": "KH40sU1JDilW"
   },
   "source": [
    "##### Answer"
   ]
  },
  {
   "cell_type": "code",
   "execution_count": null,
   "metadata": {
    "id": "ETTfzr-zDilW"
   },
   "outputs": [],
   "source": [
    "#YOUR ANSWER HERE"
   ]
  },
  {
   "cell_type": "markdown",
   "metadata": {
    "id": "ZIsfHP7dDilW"
   },
   "source": [
    "#### Example 2.8 \n",
    "Write a program that helps the user to extracting digits from a given integer input and print them out in the reverse order.\n",
    "\n",
    "Example interaction:\n",
    ">Enter a number: 123 <br>\n",
    ">3<br>\n",
    ">2<br>\n",
    ">1<br>"
   ]
  },
  {
   "cell_type": "markdown",
   "metadata": {
    "id": "0gWS6MyZDilX"
   },
   "source": [
    "##### Answer"
   ]
  },
  {
   "cell_type": "code",
   "execution_count": null,
   "metadata": {
    "id": "vvRGDF2hDilX"
   },
   "outputs": [],
   "source": [
    "# YOUR ANSWER HERE"
   ]
  },
  {
   "cell_type": "markdown",
   "metadata": {
    "id": "8S7C5LGHDilX"
   },
   "source": [
    "#### Example 2.9 \n",
    "Write a program that helps the user to prints out all the positive factors of a positive integer $n$.\n",
    "\n",
    "Example interaction:\n",
    ">Please enter a positive integer: 225 <br>\n",
    ">1<br>\n",
    ">3<br>\n",
    ">5<br>\n",
    ">9<br>\n",
    ">15<br>\n",
    ">25<br>\n",
    ">45<br>\n",
    ">75<br>\n",
    ">225<br>"
   ]
  },
  {
   "cell_type": "markdown",
   "metadata": {
    "id": "A-eZI-2GDilY"
   },
   "source": [
    "##### Answer"
   ]
  },
  {
   "cell_type": "code",
   "execution_count": null,
   "metadata": {
    "id": "ICbcwU82DilY"
   },
   "outputs": [],
   "source": [
    "#YOUR ANSWER HERE"
   ]
  },
  {
   "cell_type": "markdown",
   "metadata": {
    "id": "edj0aHkRDilY"
   },
   "source": [
    "#### Exercise 2.10\n",
    "\n",
    "What is the output for each of the following pieces of code?\n",
    "\n",
    "Note: if the code does not terminate, write infinite loop.\n",
    "\n",
    "1. Code 1\n",
    "\n",
    "    >```python\n",
    "    >a = 5  \t\n",
    "    >while a < 8:  \t \n",
    "    >   print(\"X\", end = \"\") \n",
    "    >print(\"\")\n",
    "    >```\n",
    "\n",
    "2. Code 2\n",
    "\n",
    "    >```python\n",
    "    >a = -1  \t\n",
    "    >while a < 3:  \t \t\n",
    "    >   print(\"X\" , end = \"\") \n",
    "    >a = a + 1 \n",
    "    >print(\"\")\n",
    "    >```\n",
    "\n",
    "3. Code 3\n",
    "\n",
    "    >```python\n",
    "    >a = 1\n",
    "    >while a % 7 != 0:  \t \t\n",
    "    >   if a % 2 == 0: \n",
    "    >       print(\"O\" , end = \"\")  \t \t\n",
    "    >   if a == 2:  \t \t \t\n",
    "    >       print(\"X\" , end = \"\")  \t \t\n",
    "    >   a = a + 1 \n",
    "    >print(\"\")\n",
    "    >```"
   ]
  },
  {
   "cell_type": "markdown",
   "metadata": {
    "id": "TfxKvnzaDilZ"
   },
   "source": [
    "##### Answer"
   ]
  },
  {
   "cell_type": "code",
   "execution_count": null,
   "metadata": {
    "id": "nP7yluk9DilZ"
   },
   "outputs": [],
   "source": [
    "#YOUR ANSWER HERE"
   ]
  },
  {
   "cell_type": "markdown",
   "metadata": {
    "id": "wORpAb1VDila"
   },
   "source": [
    "#### Exercise 2.11\n",
    "\n",
    "What is the output for each of the following pieces of code?\n",
    "\n",
    "1. Code 1\n",
    "\n",
    "    >```python\n",
    "    >num = 10  \t\n",
    "    >while num > 3:\n",
    "    >   print(num) \n",
    "    >   num = num – 1\n",
    "    >```\n",
    "\n",
    "2. Code 2\n",
    "\n",
    "    >```python\n",
    "    >divisor = 2  \t\n",
    "    >for i in range(0, 10, 2):  \t \t\n",
    "    >   print(i // divisor)\n",
    "    >```\n",
    "\n",
    "3. Code 3\n",
    "\n",
    "    >```python\n",
    "    >num = 10  \t\n",
    "    >while True:  \t\t\n",
    "    >   if num < 7: \n",
    "    >       break  \t \t\t\n",
    "    >   print(num) \n",
    "    >   num -= 1\n",
    "    >```\n",
    "\n",
    "4. Code 4\n",
    "\n",
    "    >```python\n",
    "    >count = 0  \t\n",
    "    >for letter in \"Snow!\": \n",
    "    >   print(\"Letter #\" + str(count), \" is \", letter)\n",
    "    >   count += 1\n",
    "    >```"
   ]
  },
  {
   "cell_type": "markdown",
   "metadata": {
    "id": "0v-8WkEPDilb"
   },
   "source": [
    "##### Answer"
   ]
  },
  {
   "cell_type": "code",
   "execution_count": null,
   "metadata": {
    "id": "ZvtLj4wfDilc"
   },
   "outputs": [],
   "source": [
    "#YOUR ANSWER HERE"
   ]
  },
  {
   "cell_type": "markdown",
   "metadata": {
    "id": "BE36xEsoDilc"
   },
   "source": [
    "#### Exercise 2.12\n",
    "\n",
    "What is the output for each of the following pieces of code?\n",
    "\n",
    "1. Code 1\n",
    "\n",
    "    >```python\n",
    "    >keep_going = True \n",
    "    >a = 0  \t\n",
    "    >b = 0  \t\n",
    "    >while keep_going:  \t \t\n",
    "    >   print(\"O\", end = \"\")  \t \t\n",
    "    >   a = a + 5  \t \t\n",
    "    >   b = b + 7  \t \t\n",
    "    >   if a + b >= 24: \n",
    "    >       |keep_going = False  \t\n",
    "    >print(\"\")\n",
    "    >```\n",
    "\n",
    "2. Code 2\n",
    "\n",
    "    >```python\n",
    "    >keep_going = True \n",
    "    >a = 0  \t\n",
    "    >b = 0  \t\n",
    "    >while keep_going: \n",
    "    >   print(\"O\" , end = \"\")  \t \t\n",
    "    >   if a + b >= 24: \n",
    "    >       keep_going = False  \t \t\n",
    "    >   a = a + 5  \t \t\n",
    "    >   b = b + 7 \n",
    "    >print(\"\")\n",
    "    >```\n",
    "\n",
    "3. Code 3\n",
    "\n",
    "    >```python\n",
    "    >keep_going = True  \t\n",
    "    >a = 0  \t\n",
    "    >b = 0  \t\n",
    "    >while keep_going:  \t \t\n",
    "    >   print(\"O\" , end = \"\")  \t \t\n",
    "    >   a = a + 5  \t \t\n",
    "    >   b = b + 7 \n",
    "    >   if a + b > 24:  # note that \">\" is used here … vs \">=\" in (i)\n",
    "    >       keep_going = False  \t\n",
    "    >print(\"\")\n",
    "    >```\n",
    "\n",
    "4. Code 4\n",
    "\n",
    "    >```python\n",
    "    >keep_going = True \n",
    "    >a = 0  \t\n",
    "    >b = 0  \t\n",
    "    >while keep_going: \n",
    "    >   print(\"O\" , end = \"\")  \t \t\n",
    "    >   if a + b > 24:  \n",
    "    >       keep_going = False  # note that \">\" is used here … vs \">=\" in (ii)  \t \t\n",
    "    >   a = a + 5  \t \t\n",
    "    >   b = b + 7 \n",
    "    >print(\"\")\n",
    "    >```"
   ]
  },
  {
   "cell_type": "markdown",
   "metadata": {
    "id": "SdxgT3aTDilc"
   },
   "source": [
    "##### Answer"
   ]
  },
  {
   "cell_type": "code",
   "execution_count": null,
   "metadata": {
    "id": "Ql_fn2svDild"
   },
   "outputs": [],
   "source": [
    "#YOUR ANSWER HERE"
   ]
  },
  {
   "cell_type": "markdown",
   "metadata": {
    "id": "PVl7P42aDild"
   },
   "source": [
    "#### Exercise 2.13\n",
    "\n",
    "What is the output for each of the following pieces of code? Note: if the code does not terminate, write infinite loop.\n",
    "\n",
    "1. Code 1\n",
    "\n",
    "    >```python\n",
    "    >a = 0  \t\n",
    "    >while a < 3:  \t \t\n",
    "    >   while True:  \t \t \t\n",
    "    >       print(\"X\", end = \"\") \n",
    "    >       break \n",
    "    >   print(\"O\", end = \"\")  \t \t\n",
    "    >   a = a + 1 \n",
    "    >print(\"\")\n",
    "    >```\n",
    "\n",
    "2. Code 2\n",
    "\n",
    "    >```python\n",
    "    >a = 1 \n",
    "    >while a < 3: \n",
    "    >   while a < 3:  \t \t \t\n",
    "    >       print(\"O\", end  = \"\") \n",
    "    >   a = a + 1 \n",
    "    >print(\"\")\n",
    "    >```\n",
    "\n",
    "3. Code 3\n",
    "\n",
    "    >```python\n",
    "    >a = 1 \n",
    "    >while a < 3:  \t \t\n",
    "    >   if a % 2 == 0: \n",
    "    >       b = 1  \t \t \t\n",
    "    >       while b < 3:  \t \t \t \t\n",
    "    >           print(\"X\", end = \"\")  \t \t \t \t\n",
    "    >           b = b + 1 \n",
    "    >           print(\"O\", end = \"\") \n",
    "    >   a = a + 1 \n",
    "    >print(\"\")\n",
    "    >```"
   ]
  },
  {
   "cell_type": "markdown",
   "metadata": {
    "id": "2E3tF466Dile"
   },
   "source": [
    "##### Answer"
   ]
  },
  {
   "cell_type": "code",
   "execution_count": null,
   "metadata": {
    "id": "tDe-s6cBDile"
   },
   "outputs": [],
   "source": [
    "#YOUR ANSWER HERE"
   ]
  },
  {
   "cell_type": "markdown",
   "metadata": {
    "id": "TlKlg8wNDilf"
   },
   "source": [
    "#### Exercise 2.14\n",
    "\n",
    "The following code loops infinitely when run, fix the code so that its output is `OOOXOXOO`.\n",
    "\n",
    ">```python\n",
    ">a = 1 \n",
    ">while a < 3: \n",
    ">   b = 1  \t\n",
    ">   while b < 3:  \t \t\n",
    ">       if a == 2:  \t \t \t\n",
    ">           print(\"X\", end = \"\")  \t \t\n",
    ">       print \"O\",  \t \t\n",
    ">       b = b + 1 \n",
    ">   print(\"O\", end = \"\") \n",
    ">print(\"\")\n",
    ">```"
   ]
  },
  {
   "cell_type": "markdown",
   "metadata": {
    "id": "2nNKH4XtDilf"
   },
   "source": [
    "##### Answer"
   ]
  },
  {
   "cell_type": "code",
   "execution_count": null,
   "metadata": {
    "id": "WBGa9TtODilg"
   },
   "outputs": [],
   "source": [
    "#YOUR ANSWER HERE"
   ]
  },
  {
   "cell_type": "markdown",
   "metadata": {
    "id": "OT5n8gbQDilg"
   },
   "source": [
    "#### Exercise 2.15\n",
    "\n",
    "Carl Friedrich Gauss (1777-1855) was one of those remarkable infant prodigies whose natural aptitude for mathematics soon becomes apparent. As a child of three, according to a well-authenticated story, he corrected an error in his father's payroll calculations. His arithmetical powers so overwhelmed his schoolmasters that, by the time Gauss was 10 years old, they admitted that there was nothing more they could teach the boy. It is said that in his first arithmetic class Gauss astonished his teacher by instantly solving what was intended to be a \"busy work\" problem: Find the sum of all the numbers from 1 to 100. \n",
    "\n",
    "How would you find this sum yourself? No Googling for answer kthx."
   ]
  },
  {
   "cell_type": "markdown",
   "metadata": {
    "id": "HmD_2_71Dilh"
   },
   "source": [
    "##### Answer"
   ]
  },
  {
   "cell_type": "code",
   "execution_count": null,
   "metadata": {
    "id": "7FkvqmduDilh"
   },
   "outputs": [],
   "source": [
    "#YOUR ANSWER HERE"
   ]
  }
 ],
 "metadata": {
  "colab": {
   "provenance": []
  },
  "file_extension": ".py",
  "kernelspec": {
   "display_name": "Python 3",
   "language": "python",
   "name": "python3"
  },
  "language_info": {
   "codemirror_mode": {
    "name": "ipython",
    "version": 3
   },
   "file_extension": ".py",
   "mimetype": "text/x-python",
   "name": "python",
   "nbconvert_exporter": "python",
   "pygments_lexer": "ipython3",
   "version": "3.6.4"
  },
  "mimetype": "text/x-python",
  "name": "python",
  "npconvert_exporter": "python",
  "pygments_lexer": "ipython3",
  "version": 3,
  "vscode": {
   "interpreter": {
    "hash": "f4e9cda46bb2d9d7fe6ecdff0f8336a934348bf06cb492f2f42f60739b3403b4"
   }
  }
 },
 "nbformat": 4,
 "nbformat_minor": 1
}
