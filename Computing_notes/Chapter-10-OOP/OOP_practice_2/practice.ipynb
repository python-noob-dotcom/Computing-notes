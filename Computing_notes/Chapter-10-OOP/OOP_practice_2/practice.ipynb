{
 "cells": [
  {
   "cell_type": "code",
   "execution_count": 1,
   "metadata": {},
   "outputs": [],
   "source": [
    "# Task 1.1 \n",
    "\n",
    "class TreasureChest:\n",
    "    def __init__(self, question, answer, points):\n",
    "        self.Question = question\n",
    "        self.Answer = answer\n",
    "        self.Points = points\n",
    "\n",
    "    def getQuestion(self):\n",
    "        return self.Question\n",
    "    \n",
    "    def checkAnswer(self, answer):\n",
    "        if answer == self.Answer:\n",
    "            return True\n",
    "        else:\n",
    "            return False\n",
    "        \n",
    "    def getPoints(self, no_of_attempts):\n",
    "        if no_of_attempts == 1:\n",
    "            return self.Points\n",
    "        elif no_of_attempts == 2:\n",
    "            return self.Points // 2\n",
    "        elif no_of_attempts == 3 or no_of_attempts == 4:\n",
    "            return self.Points // 4\n",
    "        else:\n",
    "            return 0\n",
    "        "
   ]
  },
  {
   "cell_type": "code",
   "execution_count": null,
   "metadata": {},
   "outputs": [],
   "source": [
    "# Task 1.2\n",
    "\n",
    "with open('./TreasureChestData.txt', 'r') as chest_data:\n",
    "    for i in range(len(chest_data)):\n",
    "        "
   ]
  }
 ],
 "metadata": {
  "kernelspec": {
   "display_name": "Python 3",
   "language": "python",
   "name": "python3"
  },
  "language_info": {
   "codemirror_mode": {
    "name": "ipython",
    "version": 3
   },
   "file_extension": ".py",
   "mimetype": "text/x-python",
   "name": "python",
   "nbconvert_exporter": "python",
   "pygments_lexer": "ipython3",
   "version": "3.7.7"
  }
 },
 "nbformat": 4,
 "nbformat_minor": 2
}
