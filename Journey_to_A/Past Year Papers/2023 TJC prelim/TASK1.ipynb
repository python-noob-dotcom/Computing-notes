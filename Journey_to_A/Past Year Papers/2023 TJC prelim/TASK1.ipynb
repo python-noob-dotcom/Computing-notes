{
 "cells": [
  {
   "cell_type": "code",
   "execution_count": 2,
   "metadata": {},
   "outputs": [],
   "source": [
    "# Task 1.1\n",
    "\n",
    "def task1_1(input_value):\n",
    "    return True if input_value[:4].isalpha() and input_value[4:].isdecimal() and len(input_value[4:]) == 7 else False"
   ]
  },
  {
   "cell_type": "code",
   "execution_count": 7,
   "metadata": {},
   "outputs": [
    {
     "name": "stdout",
     "output_type": "stream",
     "text": [
      "False\n",
      "False\n",
      "True\n",
      "False\n"
     ]
    }
   ],
   "source": [
    "# Task 1.2\n",
    "\n",
    "print(task1_1('122302923'))\n",
    "print(task1_1('yourmom'))\n",
    "print(task1_1('your1234567'))\n",
    "print(task1_1('your123'))"
   ]
  },
  {
   "cell_type": "code",
   "execution_count": 17,
   "metadata": {},
   "outputs": [
    {
     "data": {
      "text/plain": [
       "7"
      ]
     },
     "execution_count": 17,
     "metadata": {},
     "output_type": "execute_result"
    }
   ],
   "source": [
    "# Task 1.3\n",
    "\n",
    "def task1_3(input_value):\n",
    "    values = {}\n",
    "    initial = 10\n",
    "    for char in 'abcdefghijklmnopqrstuvwxyz'.upper():\n",
    "\n",
    "        if initial > 10:\n",
    "            initial += 1\n",
    "            if initial % 11 == 0:\n",
    "                initial += 1\n",
    "            values[char] = initial\n",
    "        else:\n",
    "            values[char] = initial\n",
    "            initial += 1\n",
    "\n",
    "    i = 0\n",
    "    total = 0\n",
    "    for char in input_value[:4]:\n",
    "        total += values[char] * (2 ** i)\n",
    "        i += 1\n",
    "    i = 4\n",
    "    for char in input_value[4:]:\n",
    "        total += int(char) * (2 ** i)\n",
    "        i += 1\n",
    "\n",
    "    return total % 11\n",
    "\n",
    "task1_3('MSKU388110')"
   ]
  },
  {
   "cell_type": "code",
   "execution_count": 21,
   "metadata": {},
   "outputs": [
    {
     "name": "stdout",
     "output_type": "stream",
     "text": [
      "True\n",
      "False\n"
     ]
    }
   ],
   "source": [
    "def task1_4(input_value):\n",
    "    if task1_1(input_value):\n",
    "        check_digit = input_value[-1]\n",
    "        if task1_3(input_value[:-1]) == int(check_digit):\n",
    "            return True\n",
    "        else:\n",
    "            return False\n",
    "    else:\n",
    "        return False\n",
    "    \n",
    "print(task1_4('PONU2079674'))\n",
    "print(task1_4('XONU2079674'))"
   ]
  },
  {
   "cell_type": "code",
   "execution_count": 25,
   "metadata": {},
   "outputs": [
    {
     "name": "stdout",
     "output_type": "stream",
     "text": [
      "True\n",
      "True\n"
     ]
    }
   ],
   "source": [
    "print(task1_4('NPNU2079674'))\n",
    "print(task1_4('PONU2079674'))"
   ]
  }
 ],
 "metadata": {
  "kernelspec": {
   "display_name": "computing",
   "language": "python",
   "name": "python3"
  },
  "language_info": {
   "codemirror_mode": {
    "name": "ipython",
    "version": 3
   },
   "file_extension": ".py",
   "mimetype": "text/x-python",
   "name": "python",
   "nbconvert_exporter": "python",
   "pygments_lexer": "ipython3",
   "version": "3.6.13"
  }
 },
 "nbformat": 4,
 "nbformat_minor": 2
}
