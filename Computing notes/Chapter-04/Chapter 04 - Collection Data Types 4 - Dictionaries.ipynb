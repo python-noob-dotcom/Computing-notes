{
 "cells": [
  {
   "cell_type": "markdown",
   "metadata": {},
   "source": [
    "# <div class = \"alert alert-info\"> <font color = purple> Chapter 04 - Collection Data Types 4: Dictionaries"
   ]
  },
  {
   "cell_type": "markdown",
   "metadata": {
    "id": "4L1OSa9Vb2mh"
   },
   "source": [
    "## 4.4 Dictionaries\n",
    "\n",
    "Dictionaries (often known as maps, associative arrays, or hashmaps) allow you to associate pairs of values together. In Python, dictionaries are referred to as the `dict` data type.\n",
    "\n",
    "* Each element stored in a dictionary is a key-value pair of the form `key:value` \n",
    "* Each key in a dictionary must be **unique** and **immutable**.\n",
    "* A dictionary itself is however **mutable**, i.e. you can add and remove items in-place. \n",
    "* In addition, you can also change the value associated to a key.\n",
    "* A dictionary is however **unordered**."
   ]
  },
  {
   "cell_type": "markdown",
   "metadata": {},
   "source": [
    "### 4.4.1 Creating a dictionary\n",
    "\n",
    "A dictionary is created with a collection of key-value pairs surrounded by curly brackets `{}`, with each key-value pair seperated by a comma `,`.\n",
    "\n",
    "* To create an empty dictionary, simply use `{}`\n",
    "* Each key and its corresponding value is separated by a colon `:`\n",
    "* The key needs to be an **immutable** data type, e.g. string, integer, tuple"
   ]
  },
  {
   "cell_type": "markdown",
   "metadata": {
    "id": "Z8c-PqJ9b2mi"
   },
   "source": [
    "**Try it yourself**\n",
    "\n",
    "```Python\n",
    "# empty dictionary\n",
    "d0 = {}\n",
    "print(type(d0))\n",
    "```\n",
    "```Python\n",
    "# dictionary with mixed data type\n",
    "d1 = {'name': 'John', 1: [2, 4, 3]}\n",
    "print(d1, type(d1))\n",
    "```"
   ]
  },
  {
   "cell_type": "code",
   "execution_count": 3,
   "metadata": {},
   "outputs": [
    {
     "name": "stdout",
     "output_type": "stream",
     "text": [
      "<class 'dict'>\n",
      "3\n"
     ]
    }
   ],
   "source": [
    "# Your code here\n",
    "d0 = {}\n",
    "print(type(d0))\n",
    "\n",
    "d1 = {'name': 'John', 1: [2, 4, 3]}\n",
    "print(d1['name'])"
   ]
  },
  {
   "cell_type": "markdown",
   "metadata": {
    "id": "3dA3Euw4b2mi"
   },
   "source": [
    "**Try it yourself**\n",
    "\n",
    "Create a dictionary `fruits`, which has following keys and values.\n",
    "\n",
    "| Key | Value    |\n",
    "|-----|----------|\n",
    "| a   | Apple    |\n",
    "| b   | Banana   |\n",
    "| c   | Cherries |\n",
    "| d   | Durian   |"
   ]
  },
  {
   "cell_type": "code",
   "execution_count": 16,
   "metadata": {
    "id": "n0I4INVVb2mi"
   },
   "outputs": [],
   "source": [
    "# Your code here\n",
    "fruits = {'a': 'Apple',\n",
    "          'b': 'Banana',\n",
    "          'c': 'Cherries',\n",
    "          'd': 'Durian'}"
   ]
  },
  {
   "cell_type": "markdown",
   "metadata": {
    "id": "2oadyjgCb2mj"
   },
   "source": [
    "A new dictionary can be created from a list of tuples too using the `dict()` constructor function, where each tuple contains a key and a value. The syntax is as follows:\n",
    "\n",
    "```Python\n",
    "dict(list_of_tuples)\n",
    "```"
   ]
  },
  {
   "cell_type": "markdown",
   "metadata": {},
   "source": [
    "**Try it yourself**\n",
    "\n",
    "Construct a dictionary `f3` using list of tuples `[('a','Apple'), ('b','Banana'), ('c','Cherries'), ('d','Durian')]`. "
   ]
  },
  {
   "cell_type": "code",
   "execution_count": 7,
   "metadata": {
    "id": "ZKSn8zy2b2mj"
   },
   "outputs": [
    {
     "data": {
      "text/plain": [
       "True"
      ]
     },
     "execution_count": 7,
     "metadata": {},
     "output_type": "execute_result"
    }
   ],
   "source": [
    "# Your code here\n",
    "f3 = dict([('a', 'Apple'), ('b','Banana'), ('c','Cherries'), ('d','Durian')])\n",
    "fruits == f3"
   ]
  },
  {
   "cell_type": "markdown",
   "metadata": {
    "id": "Amq_M9YUb2mj"
   },
   "source": [
    "### 4.4.2 Accessing an element in a dictionary by its key.\n",
    "\n",
    "An item in a dictionary can be accessed via its key used inside brackets (similar to the idea of indexing), \n",
    "\n",
    "**Try it yourself**\n",
    "\n",
    "```Python\n",
    "print(fruits)\n",
    "print(fruits['a'])\n",
    "print(fruits['b'])\n",
    "print(fruits['z'])\n",
    "```\n",
    "\n",
    "What happens when you try to use a non-existent key?"
   ]
  },
  {
   "cell_type": "code",
   "execution_count": 8,
   "metadata": {},
   "outputs": [
    {
     "name": "stdout",
     "output_type": "stream",
     "text": [
      "{'a': 'Apple', 'b': 'Banana', 'c': 'Cherries', 'd': 'Durian'}\n",
      "Apple\n",
      "Banana\n"
     ]
    },
    {
     "ename": "KeyError",
     "evalue": "'z'",
     "output_type": "error",
     "traceback": [
      "\u001b[1;31m---------------------------------------------------------------------------\u001b[0m",
      "\u001b[1;31mKeyError\u001b[0m                                  Traceback (most recent call last)",
      "\u001b[1;32m<ipython-input-8-cf2e947c5003>\u001b[0m in \u001b[0;36m<module>\u001b[1;34m()\u001b[0m\n\u001b[0;32m      3\u001b[0m \u001b[0mprint\u001b[0m\u001b[1;33m(\u001b[0m\u001b[0mfruits\u001b[0m\u001b[1;33m[\u001b[0m\u001b[1;34m'a'\u001b[0m\u001b[1;33m]\u001b[0m\u001b[1;33m)\u001b[0m\u001b[1;33m\u001b[0m\u001b[0m\n\u001b[0;32m      4\u001b[0m \u001b[0mprint\u001b[0m\u001b[1;33m(\u001b[0m\u001b[0mfruits\u001b[0m\u001b[1;33m[\u001b[0m\u001b[1;34m'b'\u001b[0m\u001b[1;33m]\u001b[0m\u001b[1;33m)\u001b[0m\u001b[1;33m\u001b[0m\u001b[0m\n\u001b[1;32m----> 5\u001b[1;33m \u001b[0mprint\u001b[0m\u001b[1;33m(\u001b[0m\u001b[0mfruits\u001b[0m\u001b[1;33m[\u001b[0m\u001b[1;34m'z'\u001b[0m\u001b[1;33m]\u001b[0m\u001b[1;33m)\u001b[0m\u001b[1;33m\u001b[0m\u001b[0m\n\u001b[0m",
      "\u001b[1;31mKeyError\u001b[0m: 'z'"
     ]
    }
   ],
   "source": [
    "# Your code here\n",
    "print(fruits)\n",
    "print(fruits['a'])\n",
    "print(fruits['b'])\n",
    "print(fruits['z']) # Tells u the key doesnt exist"
   ]
  },
  {
   "cell_type": "markdown",
   "metadata": {},
   "source": [
    "An item in a dictionary can also be accessed using the `.get()` method.  \n",
    "\n",
    "A `.get()` method can take in a default value argument, which will be returned if the key is not found.\n",
    "\n",
    "The syntax is as follows:\n",
    "\n",
    "```Python\n",
    "sample_dictionary.get(key,message_if_unavailable)\n",
    "```\n",
    "**Try it yourself**\n",
    "\n",
    "```Python\n",
    "print(fruits)\n",
    "print(fruits.get('a'))\n",
    "print(fruits.get('a', 'Not available'))\n",
    "print(fruits.get('z'))\n",
    "print(fruits.get('z', 'Not available'))\n",
    "```\n",
    "What happens when you use a non-existent key with `.get()`?"
   ]
  },
  {
   "cell_type": "code",
   "execution_count": 9,
   "metadata": {
    "id": "k730apPUb2ml"
   },
   "outputs": [
    {
     "name": "stdout",
     "output_type": "stream",
     "text": [
      "{'a': 'Apple', 'b': 'Banana', 'c': 'Cherries', 'd': 'Durian'}\n",
      "Apple\n",
      "Apple\n",
      "None\n",
      "Not available\n"
     ]
    }
   ],
   "source": [
    "# Your code here\n",
    "print(fruits)\n",
    "print(fruits.get('a'))\n",
    "print(fruits.get('a', 'Not available'))\n",
    "print(fruits.get('z'))\n",
    "print(fruits.get('z', 'Not available'))"
   ]
  },
  {
   "cell_type": "markdown",
   "metadata": {
    "id": "o0VZ0OGVb2ml"
   },
   "source": [
    "### 4.4.3 Finding number of elements in a dictionary with the `len()` function\n",
    "\n",
    "To find the number of elements in a dictionary, the `len()` function is used. The syntax is as follows:\n",
    "```Python\n",
    "len(sample_dictionary)\n",
    "```"
   ]
  },
  {
   "cell_type": "code",
   "execution_count": 10,
   "metadata": {
    "id": "jV7EyeGHb2mm"
   },
   "outputs": [
    {
     "data": {
      "text/plain": [
       "4"
      ]
     },
     "execution_count": 10,
     "metadata": {},
     "output_type": "execute_result"
    }
   ],
   "source": [
    "# Your code here\n",
    "len(fruits)"
   ]
  },
  {
   "cell_type": "markdown",
   "metadata": {
    "id": "IrgmkjGbb2mm"
   },
   "source": [
    "### 4.4.4 Built-in methods `dict.keys()`, `dict.values()`, `dict.items()`\n",
    "\n",
    "The `keys()` method returns the dictionary's keys as `dict_keys` object.\n",
    "\n",
    "\n",
    "The `values()` method return the dictionary's values as `dict_values` object.\n",
    "\n",
    "\n",
    "The `items()` return  the dictionary's key-value pairs as `dict_items` object. \n",
    "\n",
    "\n",
    "If you want the various collections as a list, typecast the objects using the `list` constructor function."
   ]
  },
  {
   "attachments": {},
   "cell_type": "markdown",
   "metadata": {
    "id": "dpx1Qwr4b2mn"
   },
   "source": [
    "**Try it yourself**\n",
    "\n",
    "Print out the keys, values and key-value pairs of the dictionary `fruits`.\n",
    "\n",
    "```Python\n",
    "print(fruits.keys())\n",
    "print(list(fruits.keys()))\n",
    "print('')\n",
    "print(fruits.values())\n",
    "print(list(fruits.values()))\n",
    "print('')\n",
    "print(fruits.items())\n",
    "print(list(fruits.items()))\n",
    "```"
   ]
  },
  {
   "cell_type": "code",
   "execution_count": 12,
   "metadata": {},
   "outputs": [
    {
     "name": "stdout",
     "output_type": "stream",
     "text": [
      "dict_keys(['a', 'b', 'c', 'd'])\n",
      "['a', 'b', 'c', 'd']\n",
      "\n",
      "dict_values(['Apple', 'Banana', 'Cherries', 'Durian'])\n",
      "['Apple', 'Banana', 'Cherries', 'Durian']\n",
      "\n",
      "dict_items([('a', 'Apple'), ('b', 'Banana'), ('c', 'Cherries'), ('d', 'Durian')])\n",
      "[('a', 'Apple'), ('b', 'Banana'), ('c', 'Cherries'), ('d', 'Durian')]\n"
     ]
    }
   ],
   "source": [
    "# Your code here\\\n",
    "print(fruits.keys())\n",
    "keys = list(fruits.keys()) # To extract out the keys a, b, c, d as a list\n",
    "print(keys)\n",
    "print('')\n",
    "print(fruits.values())\n",
    "values = list(fruits.values()) # To extract out the values, Apple, Banana, Cherries, Durian as a list\n",
    "print(values)\n",
    "print('')\n",
    "print(fruits.items())\n",
    "items = list(fruits.items()) # Same thing, now that is a tuple with the key and the value\n",
    "print(items)"
   ]
  },
  {
   "cell_type": "markdown",
   "metadata": {
    "id": "oOw1qeeub2mn"
   },
   "source": [
    "### 4.4.5 Modifying and updating a dictionary\n",
    "\n",
    "Similar to a list, a dictionary is a **mutable** collection, i.e. a dictionary can be modified and the values of the existing items can be updated. The syntax is as follows:\n",
    "\n",
    "```Python\n",
    "sample_dictionary[key] = value\n",
    "```\n",
    "\n",
    "* If the key exists in the dictionary, the existing value will be updated. \n",
    "* If the key doesn't exists in the dictionary, a new key-value pair is added to dictionary.\n",
    "\n",
    "**Try it yourself**\n",
    "\n",
    "Using the `fruits` dictionary defined earlier.\n",
    "- Update the value mapped to the key `a` to `['Apple', 'Apricots', 'Avocado']`\n",
    "- Add another key-value pair `{'f': 'Fig'}` to `fruits` dictionary."
   ]
  },
  {
   "cell_type": "code",
   "execution_count": 15,
   "metadata": {
    "id": "Ov_tohA0b2mn"
   },
   "outputs": [
    {
     "data": {
      "text/plain": [
       "{'a': ['Apple', 'Apricots', 'Avocado'],\n",
       " 'b': 'Banana',\n",
       " 'c': 'Cherries',\n",
       " 'd': 'Durian',\n",
       " 'f': 'Fig'}"
      ]
     },
     "execution_count": 15,
     "metadata": {},
     "output_type": "execute_result"
    }
   ],
   "source": [
    "# Your code here\n",
    "fruits['a'] = ['Apple', 'Apricots', 'Avocado'] # Change value by calling the key and reassigning the value\n",
    "fruits['f'] = 'Fig' # Since the key doesnt exist, when ran, the key would be added to the dictionary\n",
    "fruits"
   ]
  },
  {
   "cell_type": "markdown",
   "metadata": {
    "id": "AKHxrYVyb2mn"
   },
   "source": [
    "### 4.4.6 Merging dictionaries with `.update()`\n",
    "\n",
    "The `.update()` method is used to merge items from another dictionary.\n",
    "* Adds element(s) to the dictionary if the key is not in the dictionary.\n",
    "* If the key is in the dictionary, it updates the key with the new value.\n",
    "\n",
    "**Try it yourself**\n",
    "* Create another dictionary `fruits_too` as follows: `{'d':'Dates', 'e':'Eldercherry', 'f':'Fig', 'g':'Grape'}`.\n",
    "* Merge items from `fruits_too` to `fruits`."
   ]
  },
  {
   "cell_type": "code",
   "execution_count": 18,
   "metadata": {
    "id": "cb-K3Gtgb2mo"
   },
   "outputs": [
    {
     "data": {
      "text/plain": [
       "{'a': 'Apple',\n",
       " 'b': 'Banana',\n",
       " 'c': 'Cherries',\n",
       " 'd': 'Dates',\n",
       " 'e': 'Elderberry',\n",
       " 'f': 'Fig',\n",
       " 'g': 'Grape'}"
      ]
     },
     "execution_count": 18,
     "metadata": {},
     "output_type": "execute_result"
    }
   ],
   "source": [
    "# YOUR CODE HERE\n",
    "fruits_too = {'d': 'Dates',\n",
    "              'e': 'Elderberry',\n",
    "              'f': 'Fig',\n",
    "              'g': 'Grape'}\n",
    "\n",
    "# fruits += fruits_too !!! Doesnt work since both are dictionaries, there may be duplicate keys and the updating will not be well good\n",
    "\n",
    "fruits.update(fruits_too)\n",
    "fruits"
   ]
  },
  {
   "attachments": {},
   "cell_type": "markdown",
   "metadata": {
    "id": "8KQ8Q6iob2mo"
   },
   "source": [
    "### 4.4.7 Removing items with `.pop()`, `.popitem()`, `.clear()`\n",
    "\n",
    "The `.pop()` method is used to remove an item via its key. A value of the removed item is returned. The syntax is as follows:\n",
    "\n",
    "```Python\n",
    "my_dictionary.pop(key)\n",
    "```\n",
    "The `.pop()` method raises a `KeyError` exception if a non-existent key is used.\n",
    "\n",
    "**Try it yourself**\n",
    "\n",
    "```Python\n",
    "fruits = {'a': 'captain', 'b': 'Banana', 'c': 'Cherry', 'd': 'Durian', 'f': 'Fig'}\n",
    "print(fruits)\n",
    "\n",
    "popped_1 = fruits.pop('b')\n",
    "print(fruits)\n",
    "print(popped_1)\n",
    "\n",
    "popped_2 = fruits.pop('e')\n",
    "```"
   ]
  },
  {
   "cell_type": "code",
   "execution_count": 20,
   "metadata": {},
   "outputs": [
    {
     "name": "stdout",
     "output_type": "stream",
     "text": [
      "{'a': 'captain', 'b': 'Banana', 'c': 'Cherry', 'd': 'Durian', 'f': 'Fig'}\n",
      "Banana\n",
      "{'a': 'captain', 'c': 'Cherry', 'd': 'Durian', 'f': 'Fig'}\n"
     ]
    }
   ],
   "source": [
    "# Your code here\n",
    "fruits = {'a': 'captain', 'b': 'Banana', 'c': 'Cherry', 'd': 'Durian', 'f': 'Fig'}\n",
    "print(fruits)\n",
    "\n",
    "popped_1 = fruits.pop('b')\n",
    "print(popped_1)\n",
    "print(fruits)"
   ]
  },
  {
   "cell_type": "markdown",
   "metadata": {},
   "source": [
    "The `.popitem()` method is used to remove an arbitrary item. The removed item is returned as a tuple containing the key and value. The syntax is as follows:\n",
    "\n",
    "```Python\n",
    "my_dictionary.popitem()\n",
    "```\n",
    "**Try it yourself**\n",
    "\n",
    "```Python\n",
    "fruits = {'a': 'captain', 'b': 'Banana', 'c': 'Cherry', 'd': 'Durian', 'f': 'Fig'}\n",
    "print(fruits)\n",
    "\n",
    "b = fruits.popitem()\n",
    "print(fruits)\n",
    "print(b)\n",
    "```"
   ]
  },
  {
   "cell_type": "code",
   "execution_count": null,
   "metadata": {},
   "outputs": [],
   "source": [
    "# Your code here\n",
    "fruits = {'a': 'captain', 'b': 'Banana', 'c': 'Cherry', 'd': 'Durian', 'f': 'Fig'}\n",
    "print(fruits)\n",
    "\n",
    "b = fruits.popitem()\n",
    "print(fruits)\n",
    "print(b)"
   ]
  },
  {
   "cell_type": "markdown",
   "metadata": {
    "id": "Xt6_eOHGb2mo"
   },
   "source": [
    "The `.clear()` method clears all items in a dictionary.\n",
    "\n",
    "**Try it yourself**\n",
    "\n",
    "```Python\n",
    "fruits = {'a': 'captain', 'b': 'Banana', 'c': 'Cherry', 'd': 'Durian', 'f': 'Fig'}\n",
    "print(fruits)\n",
    "\n",
    "# fruits.clear()\n",
    "# print(fruits)\n",
    "```"
   ]
  },
  {
   "cell_type": "code",
   "execution_count": 21,
   "metadata": {},
   "outputs": [
    {
     "name": "stdout",
     "output_type": "stream",
     "text": [
      "{'a': 'captain', 'b': 'Banana', 'c': 'Cherry', 'd': 'Durian', 'f': 'Fig'}\n",
      "{}\n"
     ]
    }
   ],
   "source": [
    "# Your code here\n",
    "fruits = {'a': 'captain', 'b': 'Banana', 'c': 'Cherry', 'd': 'Durian', 'f': 'Fig'}\n",
    "print(fruits)\n",
    "\n",
    "fruits.clear()\n",
    "print(fruits)"
   ]
  },
  {
   "cell_type": "markdown",
   "metadata": {
    "id": "_CAo6f-Jb2mp"
   },
   "source": [
    "### 4.4.8 Iterating through a dictionary\n",
    "\n",
    "To iterate through a dictionary, use a for-loop. By default, the iteration is done ONLY on the **keys** of the dictionary.\n",
    "\n",
    "**Try it yourself**\n",
    "\n",
    "```Python\n",
    "fruits = {'a': 'captain', 'b': 'Banana', 'c': 'Cherry', 'd': 'Durian', 'f': 'Fig'}\n",
    "\n",
    "for element in fruits:\n",
    "    print(element)\n",
    "```"
   ]
  },
  {
   "cell_type": "code",
   "execution_count": 23,
   "metadata": {
    "id": "ZMuo3o6Ub2mp"
   },
   "outputs": [
    {
     "name": "stdout",
     "output_type": "stream",
     "text": [
      "captain\n",
      "captain\n",
      "Banana\n",
      "Banana\n",
      "Cherry\n",
      "Cherry\n",
      "Durian\n",
      "Durian\n",
      "Fig\n",
      "Fig\n"
     ]
    }
   ],
   "source": [
    "# Your code here\n",
    "fruits = {'a': 'captain', 'b': 'Banana', 'c': 'Cherry', 'd': 'Durian', 'f': 'Fig'}\n",
    "\n",
    "for element in fruits:\n",
    "    print(fruits[element])\n",
    "    print(fruits.get(element))"
   ]
  },
  {
   "cell_type": "markdown",
   "metadata": {
    "id": "R9dz9HFnb2mp"
   },
   "source": [
    "**Try it yourself**\n",
    "\n",
    "1. How can you iterate through the values in a dictionary\n",
    "2. How can you iterate through both the keys and values in a dictionary at the same time."
   ]
  },
  {
   "cell_type": "code",
   "execution_count": 35,
   "metadata": {},
   "outputs": [
    {
     "name": "stdout",
     "output_type": "stream",
     "text": [
      "a captain\n",
      "b Banana\n",
      "c Cherry\n",
      "d Durian\n",
      "f Fig\n"
     ]
    }
   ],
   "source": [
    "# Your code here\n",
    "for key, element in fruits.items():\n",
    "    print(key, element)"
   ]
  },
  {
   "cell_type": "markdown",
   "metadata": {
    "id": "rLIVw9Tab2mp"
   },
   "source": [
    "### 4.4.9 Membership in a dictionary\n",
    "\n",
    "By default, membership testing is again done on keys.\n",
    "\n",
    "We can use the `in` operator to check for the existence of a key in a dictionary.\n",
    "\n",
    "**Try it yourself**\n",
    "\n",
    "Check whether the keys `a` and `z` are in the `fruits` dictionary."
   ]
  },
  {
   "cell_type": "code",
   "execution_count": 37,
   "metadata": {
    "id": "u8TM5R8db2mq"
   },
   "outputs": [
    {
     "name": "stdout",
     "output_type": "stream",
     "text": [
      "True\n",
      "False\n"
     ]
    }
   ],
   "source": [
    "# Your code here\n",
    "print('a' in fruits)\n",
    "print('z' in fruits)"
   ]
  },
  {
   "cell_type": "markdown",
   "metadata": {
    "id": "GwNnH0vGb2mq"
   },
   "source": [
    "**Try it yourself**\n",
    "\n",
    "1. How can you test if a value `Apple` is in a dictionary?\n",
    "2. How can you test if a key-value pair `{'a':'Apple'}` is in the dictionary?\n",
    "3. Let `d1 = {'a':'Apple', 'c':'Cherries'}`. How can you check if all key-value pairs in one dictionary `d1` are in the dictionary `fruits`?"
   ]
  },
  {
   "cell_type": "code",
   "execution_count": 44,
   "metadata": {
    "id": "-8EzhRIcb2mq"
   },
   "outputs": [
    {
     "name": "stdout",
     "output_type": "stream",
     "text": [
      "False\n",
      "False\n",
      "False\n",
      "False\n"
     ]
    }
   ],
   "source": [
    "# Your code here\n",
    "print('Apple' in fruits.values())\n",
    "print(('a', 'Apple') in fruits.items())\n",
    "\n",
    "d1 = {'a': 'Apple', 'c': 'Cherries'}\n",
    "\n",
    "for pair in d1.items():\n",
    "    print(pair in fruits.items())"
   ]
  },
  {
   "cell_type": "markdown",
   "metadata": {
    "id": "NNz34NOnb2mq"
   },
   "source": [
    "In a dictionary, to find the key by matching its value, we can either use:\n",
    "* Option 1: for-loop\n",
    "* Option 2: `.index()` method\n",
    "\n",
    "** Try it yourself**\n",
    "\n",
    "```Python\n",
    "x = 'Cherry'\n",
    "s = list(fruits.values())\n",
    "print(s)\n",
    "\n",
    "i = s.index(x)\n",
    "print(i)\n",
    "\n",
    "k = list(fruits.keys())\n",
    "print(k[i])\n",
    "```"
   ]
  },
  {
   "cell_type": "code",
   "execution_count": 45,
   "metadata": {
    "id": "yzREtMCob2mq"
   },
   "outputs": [
    {
     "name": "stdout",
     "output_type": "stream",
     "text": [
      "['captain', 'Banana', 'Cherry', 'Durian', 'Fig']\n",
      "2\n",
      "c\n"
     ]
    }
   ],
   "source": [
    "# Your code here\n",
    "\n",
    "x = 'Cherry'\n",
    "s = list(fruits.values())\n",
    "print(s)\n",
    "\n",
    "i = s.index(x)\n",
    "print(i)\n",
    "\n",
    "k = list(fruits.keys())\n",
    "print(k[i])"
   ]
  }
 ],
 "metadata": {
  "colab": {
   "provenance": []
  },
  "kernelspec": {
   "display_name": "Python 3",
   "language": "python",
   "name": "python3"
  },
  "language_info": {
   "codemirror_mode": {
    "name": "ipython",
    "version": 3
   },
   "file_extension": ".py",
   "mimetype": "text/x-python",
   "name": "python",
   "nbconvert_exporter": "python",
   "pygments_lexer": "ipython3",
   "version": "3.6.4"
  },
  "vscode": {
   "interpreter": {
    "hash": "d4abd50234137fb60a8e52bcd12c63c8cbc1f26b32bc51c54dab6a2ee6deb43f"
   }
  }
 },
 "nbformat": 4,
 "nbformat_minor": 1
}
