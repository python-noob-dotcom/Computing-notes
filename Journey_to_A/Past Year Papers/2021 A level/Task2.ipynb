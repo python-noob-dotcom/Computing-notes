{
 "cells": [
  {
   "cell_type": "code",
   "execution_count": 10,
   "metadata": {},
   "outputs": [
    {
     "name": "stdout",
     "output_type": "stream",
     "text": [
      "[1636, 3555, 3006, 653, 1665, 3865, 1447, 2568, 619, 2029]\n",
      "10\n"
     ]
    }
   ],
   "source": [
    "def task2_1(filename):\n",
    "    with open(filename) as f:\n",
    "        data = []\n",
    "        for line in f:\n",
    "            data += [int(line.strip())]\n",
    "\n",
    "    return data\n",
    "\n",
    "result = task2_1('TEN.txt') \n",
    "print(result) \n",
    "print(len(result))"
   ]
  },
  {
   "cell_type": "code",
   "execution_count": 11,
   "metadata": {},
   "outputs": [
    {
     "name": "stdout",
     "output_type": "stream",
     "text": [
      "[619, 653, 1447, 1636, 1665, 2029, 2568, 3006, 3555, 3865]\n"
     ]
    }
   ],
   "source": [
    "def task2_2(list_of_integers):\n",
    "    for i in range(1, len(list_of_integers)):\n",
    "        curr = list_of_integers[i]\n",
    "\n",
    "        j = i - 1\n",
    "\n",
    "        while list_of_integers[j] > list_of_integers[j + 1] and j > -1:\n",
    "            list_of_integers[j + 1] = list_of_integers[j]\n",
    "            list_of_integers[j] = curr\n",
    "            j -= 1\n",
    "\n",
    "    return list_of_integers\n",
    "\n",
    "print(task2_2(task2_1('TEN.txt'))) "
   ]
  },
  {
   "cell_type": "code",
   "execution_count": 14,
   "metadata": {},
   "outputs": [
    {
     "name": "stdout",
     "output_type": "stream",
     "text": [
      "[619, 653, 1447, 1636, 1665, 2029, 2568, 3006, 3555, 3865]\n"
     ]
    }
   ],
   "source": [
    "def task2_3(list_of_integers):\n",
    "    if len(list_of_integers) > 1:\n",
    "        mid = len(list_of_integers) // 2\n",
    "        left = []\n",
    "        right = []\n",
    "        mids = []\n",
    "\n",
    "        for char in list_of_integers:\n",
    "            if char == list_of_integers[mid]:\n",
    "                mids += [char]\n",
    "            elif char > list_of_integers[mid]:\n",
    "                right += [char]\n",
    "            else:\n",
    "                left += [char]\n",
    "\n",
    "        return task2_3(left) + mids + task2_3(right)\n",
    "    \n",
    "    return list_of_integers\n",
    "\n",
    "print(task2_2(task2_1('TEN.txt')))"
   ]
  },
  {
   "cell_type": "code",
   "execution_count": 15,
   "metadata": {},
   "outputs": [
    {
     "name": "stdout",
     "output_type": "stream",
     "text": [
      "Method                   |no of integers      |time taken          \n",
      "Insertion Sort           |10                  |5.600000000001437e-06\n",
      "Insertion Sort           |100                 |0.0002747000000000027\n",
      "Insertion Sort           |1000                |0.0315019           \n",
      "Quick Sort               |10                  |8.700000000000374e-06\n",
      "Quick Sort               |100                 |7.010000000000349e-05\n",
      "Quick Sort               |1000                |0.0008693000000000034\n"
     ]
    }
   ],
   "source": [
    "# import the built-in library timeit \n",
    "import timeit \n",
    "# use the function from Task 1.1 to read in 1000 integers from the file THOUSAND.txt \n",
    "t1000 = task2_1('THOUSAND.txt')\n",
    "t10 = task2_1('TEN.txt')\n",
    "t100 = task2_1('HUNDRED.txt')\n",
    "# use the timeit function to call the task2_2(li) function with the 1000 integer list, run this just once \n",
    "is1000 = timeit.timeit(lambda: task2_2(t1000), number=1)\n",
    "is100 = timeit.timeit(lambda: task2_2(t100), number=1)\n",
    "is10 = timeit.timeit(lambda: task2_2(t10), number=1)\n",
    "\n",
    "qs1000 = timeit.timeit(lambda: task2_3(t1000), number=1)\n",
    "qs100 = timeit.timeit(lambda: task2_3(t100), number=1)\n",
    "qs10 = timeit.timeit(lambda: task2_3(t10), number=1)\n",
    "\n",
    "print(f'{\"Method\":<25}|{\"no of integers\":<20}|{\"time taken\":<20}')\n",
    "print(f'{\"Insertion Sort\":<25}|{\"10\":<20}|{is10:<20}')\n",
    "print(f'{\"Insertion Sort\":<25}|{\"100\":<20}|{is100:<20}')\n",
    "print(f'{\"Insertion Sort\":<25}|{\"1000\":<20}|{is1000:<20}')\n",
    "print(f'{\"Quick Sort\":<25}|{\"10\":<20}|{qs10:<20}')\n",
    "print(f'{\"Quick Sort\":<25}|{\"100\":<20}|{qs100:<20}')\n",
    "print(f'{\"Quick Sort\":<25}|{\"1000\":<20}|{qs1000:<20}')"
   ]
  },
  {
   "cell_type": "markdown",
   "metadata": {},
   "source": [
    "Since the insertion sort has 2 inner loops, it has a average time complexity of O(n^2), which can be seen in the growth of time taken\n",
    "\n",
    "whereas quicksort in this case has a time complexity of O(nlogn) as the pivot chosen is the middle element, which is the most optimal."
   ]
  }
 ],
 "metadata": {
  "kernelspec": {
   "display_name": "computing",
   "language": "python",
   "name": "python3"
  },
  "language_info": {
   "codemirror_mode": {
    "name": "ipython",
    "version": 3
   },
   "file_extension": ".py",
   "mimetype": "text/x-python",
   "name": "python",
   "nbconvert_exporter": "python",
   "pygments_lexer": "ipython3",
   "version": "3.6.13"
  }
 },
 "nbformat": 4,
 "nbformat_minor": 2
}
