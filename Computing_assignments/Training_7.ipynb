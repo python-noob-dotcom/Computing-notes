{
 "cells": [
  {
   "attachments": {},
   "cell_type": "markdown",
   "metadata": {},
   "source": [
    "### Task 1\n",
    "\n",
    "Write program code to implement a recursive function:\n",
    "\n",
    "- that reads values from the user until a blank line is entered\n",
    "- display the total of all of the values entered by the user or 0 if the first value entered is a blank. "
   ]
  },
  {
   "cell_type": "code",
   "execution_count": 6,
   "metadata": {},
   "outputs": [
    {
     "name": "stdout",
     "output_type": "stream",
     "text": [
      "1\n",
      "2\n",
      "3\n"
     ]
    },
    {
     "data": {
      "text/plain": [
       "10"
      ]
     },
     "execution_count": 6,
     "metadata": {},
     "output_type": "execute_result"
    }
   ],
   "source": [
    "def userin_recur():\n",
    "    def total(userin):\n",
    "        if len(userin) == 1:\n",
    "            return userin[0]\n",
    "        else:\n",
    "            tot = 0\n",
    "            tot += userin[0]\n",
    "            return tot + total(userin[1:])\n",
    "\n",
    "\n",
    "    list_userin = []\n",
    "    userin = input('Please input a numerical value, enter a blank line if you do not want to continue: ')\n",
    "\n",
    "    list_userin += [int(userin)]\n",
    "\n",
    "    while True:\n",
    "        userin = input('Please input a numerical value, enter a blank line if you do not want to continue')\n",
    "        if userin != '':\n",
    "            list_userin += [int(userin)]\n",
    "        else:\n",
    "            break\n",
    "\n",
    "    return total(list_userin)\n",
    "    \n",
    "    \n",
    "\n",
    "userin_recur()\n"
   ]
  },
  {
   "attachments": {},
   "cell_type": "markdown",
   "metadata": {},
   "source": [
    "### Task 2 - The NATO Phonetic Alphabet\n",
    "\n",
    "- A spelling alphabet is a set of words, each of which stands for one of the 26 letters in the alphabet. \n",
    "\n",
    "- While many letters are easily misheard over a low quality or noisy communication channel, the words used to represent the letters in a spelling alphabet are generally chosen so that each sounds distinct and is difficult to confuse with any other. \n",
    "\n",
    "- The NATO phonetic alphabet is a widely used spelling alphabet. Each letter and its associated word is shown in the table below:"
   ]
  },
  {
   "cell_type": "code",
   "execution_count": 8,
   "metadata": {},
   "outputs": [
    {
     "data": {
      "text/plain": [
       "'Ligma Balls'"
      ]
     },
     "execution_count": 8,
     "metadata": {},
     "output_type": "execute_result"
    }
   ],
   "source": [
    "def phoenetic_spelling(word):\n",
    "    word = word.upper()\n",
    "\n",
    "    phoenetics = {'A': 'Alpha', 'B': 'Balls', 'C': 'Charlie', 'D': 'Delta', 'E': 'Echo', 'F': 'Foxtrot', 'G': 'Golf', 'H': 'Hotel', 'I': 'India', 'J': 'Juliet',\n",
    "                  'K': 'Kilo', 'L': 'Ligma', 'M': 'Mike', 'N': 'November', 'O': 'Oscar', 'P': 'Papa', 'Q': 'Quebec', 'R': 'Romeo', 'S': 'Sierra', 'T': 'Tango',\n",
    "                  'U': 'Uniform', 'V': 'Victor', 'W': 'Whiskey', 'X': 'Xray', 'Y': 'Yankee', 'Z': 'Zulu'}\n",
    "    \n",
    "    if len(word) == 1:\n",
    "        return phoenetics[word[0]]\n",
    "    else:\n",
    "        return phoenetics[word[0]] + ' ' + phoenetic_spelling(word[1:])\n",
    "    \n",
    "phoenetic_spelling('lb')"
   ]
  },
  {
   "attachments": {},
   "cell_type": "markdown",
   "metadata": {},
   "source": [
    "### Task 3 - Roman Numerals\n",
    "\n",
    "Roman numerals are constructed from the letters M, D, C, L, X, V and I which represent 1000, 500, 100, 50, 10, 5 and 1 respectively. \n",
    "\n",
    "The numerals are generally written from largest value to smallest value. When this occurs the value of the number is the sum of the values of all of its numerals e.g. VI = V + I = 5 + 1 = 6. \n",
    "\n",
    "If a smaller value precedes a larger value then the smaller value is subtracted from the larger value that it immediately precedes, and that difference is added to the value of the number e.g. IV = V - I = 5 - 1 = 4. \n",
    "\n",
    "Write program code to implement a recursive function that that converts a Roman numeral to an integer. The function should:\n",
    "\n",
    "process one or two characters at the beginning of the string\n",
    "then call itself recursively on all of the unprocessed characters\n",
    "use an empty string, which has the value 0, for the base case. \n",
    "Write further program code to implement a main program that \n",
    "\n",
    "reads a Roman numeral from the user \n",
    "displays the value of the Roman numeral using digits. "
   ]
  },
  {
   "cell_type": "code",
   "execution_count": 4,
   "metadata": {},
   "outputs": [
    {
     "data": {
      "text/plain": [
       "1999"
      ]
     },
     "execution_count": 4,
     "metadata": {},
     "output_type": "execute_result"
    }
   ],
   "source": [
    "def roman_numerals(numeral):\n",
    "    numerics = ['M', 'D', 'C', 'L', 'X', 'V', 'I']\n",
    "    digits = [1000, 500, 100, 50, 10, 5, 1]\n",
    "    if len(numeral) == 0:\n",
    "        return 0\n",
    "    else:\n",
    "        if len(numeral) > 1:\n",
    "            if numerics.index(numeral[0]) > numerics.index(numeral[1]):\n",
    "                return roman_numerals(numeral[1:]) - digits[numerics.index(numeral[0])]\n",
    "            else:\n",
    "                return digits[numerics.index(numeral[0])] + roman_numerals(numeral[1:])\n",
    "        else:\n",
    "            return digits[numerics.index(numeral[0])]\n",
    "        \n",
    "roman_numerals('IMM')"
   ]
  },
  {
   "cell_type": "code",
   "execution_count": 6,
   "metadata": {},
   "outputs": [
    {
     "data": {
      "text/plain": [
       "1999"
      ]
     },
     "execution_count": 6,
     "metadata": {},
     "output_type": "execute_result"
    }
   ],
   "source": [
    "def roman_numerals(numeral):\n",
    "    num_dick = {'M': 1000, 'D': 500, 'C': 100, 'L': 50, 'X': 10, 'V': 5, 'I': 1}\n",
    "    if len(numeral) == 0:\n",
    "        return 0\n",
    "    else:\n",
    "        if len(numeral) > 1:\n",
    "\n",
    "            numerics = list(num_dick.keys())\n",
    "            if numerics.index(numeral[0]) > numerics.index(numeral[1]):\n",
    "                return roman_numerals(numeral[1:]) - num_dick[numeral[0]]\n",
    "            else:\n",
    "                return num_dick[numeral[0]] + roman_numerals(numeral[1:])\n",
    "        else:\n",
    "            return num_dick[numeral[0]]\n",
    "        \n",
    "roman_numerals('IMM')"
   ]
  }
 ],
 "metadata": {
  "kernelspec": {
   "display_name": "Python 3",
   "language": "python",
   "name": "python3"
  },
  "language_info": {
   "codemirror_mode": {
    "name": "ipython",
    "version": 3
   },
   "file_extension": ".py",
   "mimetype": "text/x-python",
   "name": "python",
   "nbconvert_exporter": "python",
   "pygments_lexer": "ipython3",
   "version": "3.6.4"
  },
  "orig_nbformat": 4
 },
 "nbformat": 4,
 "nbformat_minor": 2
}
