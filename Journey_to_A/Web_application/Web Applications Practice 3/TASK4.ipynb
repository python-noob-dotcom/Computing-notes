{
 "cells": [
  {
   "cell_type": "code",
   "execution_count": 35,
   "metadata": {},
   "outputs": [
    {
     "name": "stdout",
     "output_type": "stream",
     "text": [
      "Collecting flask\n",
      "  Downloading Flask-2.0.3-py3-none-any.whl (95 kB)\n",
      "Collecting itsdangerous>=2.0\n",
      "  Downloading itsdangerous-2.0.1-py3-none-any.whl (18 kB)\n",
      "Collecting Jinja2>=3.0\n",
      "  Downloading Jinja2-3.0.3-py3-none-any.whl (133 kB)\n",
      "Collecting click>=7.1.2\n",
      "  Downloading click-8.0.4-py3-none-any.whl (97 kB)\n",
      "Requirement already satisfied: Werkzeug>=2.0 in c:\\users\\eugen\\anaconda3\\envs\\computing\\lib\\site-packages (from flask) (2.0.3)\n",
      "Requirement already satisfied: colorama in c:\\users\\eugen\\anaconda3\\envs\\computing\\lib\\site-packages (from click>=7.1.2->flask) (0.4.4)\n",
      "Requirement already satisfied: importlib-metadata in c:\\users\\eugen\\anaconda3\\envs\\computing\\lib\\site-packages (from click>=7.1.2->flask) (4.8.3)\n",
      "Collecting MarkupSafe>=2.0\n",
      "  Downloading MarkupSafe-2.0.1-cp36-cp36m-win_amd64.whl (14 kB)\n",
      "Requirement already satisfied: dataclasses in c:\\users\\eugen\\anaconda3\\envs\\computing\\lib\\site-packages (from Werkzeug>=2.0->flask) (0.8)\n",
      "Requirement already satisfied: zipp>=0.5 in c:\\users\\eugen\\anaconda3\\envs\\computing\\lib\\site-packages (from importlib-metadata->click>=7.1.2->flask) (3.6.0)\n",
      "Requirement already satisfied: typing-extensions>=3.6.4 in c:\\users\\eugen\\anaconda3\\envs\\computing\\lib\\site-packages (from importlib-metadata->click>=7.1.2->flask) (3.7.4.3)\n",
      "Installing collected packages: MarkupSafe, Jinja2, itsdangerous, click, flask\n",
      "Successfully installed Jinja2-3.0.3 MarkupSafe-2.0.1 click-8.0.4 flask-2.0.3 itsdangerous-2.0.1\n"
     ]
    }
   ],
   "source": [
    "!pip install flask"
   ]
  },
  {
   "cell_type": "code",
   "execution_count": null,
   "metadata": {},
   "outputs": [],
   "source": [
    "import sqlite3 \n",
    "\n",
    "creation = \"\"\"CREATE TABLE IF NOT EXISTS \"guardians\" (\n",
    "\t\"guardian_id\"\tINTEGER UNIQUE,\n",
    "\t\"guardian_name\"\tTEXT,\n",
    "\t\"guardian_contact\"\tINTEGER,\n",
    "\tPRIMARY KEY(\"guardian_id\")\n",
    ");\n",
    "\n",
    "CREATE TABLE IF NOT EXISTS \"students\" (\n",
    "\t\"student_id\"\tINTEGER UNIQUE,\n",
    "\t\"stu_name\"\tTEXT,\n",
    "\t\"gender\"\tTEXT CHECK('male' OR 'female'),\n",
    "\t\"primary_sch\"\tTEXT,\n",
    "\t\"guardian_id\"\tINTEGER,\n",
    "\tFOREIGN KEY(\"guardian_id\") REFERENCES \"guardians\"(\"guardian_id\"),\n",
    "\tPRIMARY KEY(\"student_id\")\n",
    "\t\n",
    "CREATE TABLE IF NOT EXISTS \"results\" (\n",
    "\t\"student_id\"\tINTEGER,\n",
    "\t\"subject\"\tTEXT,\n",
    "\t\"al\"\tINTEGER CHECK(\"al\" BETWEEN 1 AND 8),\n",
    "\tFOREIGN KEY(\"student_id\") REFERENCES \"students\"(\"student_id\"),\n",
    "\tPRIMARY KEY(\"student_id\",\"subject\")\n",
    ");\"\"\"\n",
    "\n",
    "with sqlite3.connect('ENROLMENT.db') as conn:\n",
    "    cursor = conn.cursor()\n",
    "    cursor.execute(\"BEGIN TRANSACTION\")\n",
    "    cursor.execute(creation)\n",
    "    conn.commit()"
   ]
  },
  {
   "cell_type": "code",
   "execution_count": 12,
   "metadata": {},
   "outputs": [],
   "source": [
    "import csv\n",
    "import sqlite3\n",
    "\n",
    "with open('GUARDIAN.csv') as f:\n",
    "    reader = csv.reader(f)\n",
    "    headers = next(reader)\n",
    "\n",
    "    guardians = []\n",
    "    for guardian in reader:\n",
    "        guardians += (guardian, )\n",
    "\n",
    "with open('RESULT.csv') as f:\n",
    "    reader = csv.reader(f)\n",
    "    headers = next(reader)\n",
    "\n",
    "    results = []\n",
    "    for result in reader:\n",
    "        results += (result, )\n",
    "\n",
    "with open('STUDENT.csv') as f:\n",
    "    reader = csv.reader(f)\n",
    "    headers = next(reader)\n",
    "\n",
    "    students = []\n",
    "    for student in reader:\n",
    "        students += (student, )\n",
    "\n",
    "insert_guardian = \"INSERT INTO guardians VALUES (?, ?, ?)\"\n",
    "insert_result = \"INSERT INTO results VALUES (?, ?, ?)\"\n",
    "insert_students = \"INSERT INTO students VALUES (?, ?, ?, ?, ?)\"\n",
    "\n",
    "with sqlite3.connect('ENROLMENT.db') as conn:\n",
    "    cursor = conn.cursor()\n",
    "    cursor.execute(\"BEGIN TRANSACTION\")\n",
    "\n",
    "    for guardian in guardians:\n",
    "        cursor.execute(insert_guardian, guardian)\n",
    "    \n",
    "    for result in results:\n",
    "        cursor.execute(insert_result, result)\n",
    "    \n",
    "    for student in students:\n",
    "        cursor.execute(insert_students, student)\n",
    "\n",
    "    conn.commit()"
   ]
  },
  {
   "cell_type": "code",
   "execution_count": 13,
   "metadata": {},
   "outputs": [],
   "source": [
    "with sqlite3.connect('ENROLMENT.db') as conn:\n",
    "    cursor = conn.cursor()\n",
    "\n",
    "    cursor.execute(\"UPDATE guardians SET guardian_contact = 'see@see.com' WHERE guardian_id = 900005\")\n",
    "\n",
    "    conn.commit()"
   ]
  },
  {
   "cell_type": "code",
   "execution_count": 44,
   "metadata": {},
   "outputs": [
    {
     "data": {
      "text/plain": [
       "[('Boon Day Park Primary', 4, 9.25),\n",
       " ('Lurang Primary', 4, 10.75),\n",
       " ('Shuqu Primary', 3, 8.333333333333334)]"
      ]
     },
     "execution_count": 44,
     "metadata": {},
     "output_type": "execute_result"
    }
   ],
   "source": [
    "import flask, sqlite3\n",
    "\n",
    "query = \" SELECT primary_sch, ?, SUM(al) / ? FROM results INNER JOIN students \\\n",
    "    ON results.student_id = students.student_id WHERE primary_sch = ?\"\n",
    "\n",
    "with sqlite3.connect(r'C:\\Users\\eugen\\Desktop\\Computing_notes\\Computing-notes\\Journey_to_A\\Web_application\\Web Applications Practice 3\\ENROLMENT.db') as conn:\n",
    "    cursor = conn.cursor()\n",
    "    schools = list(set(\\\n",
    "        cursor.execute(\"SELECT primary_sch FROM students\").fetchall()))\n",
    "    data = []\n",
    "    for school in schools:\n",
    "        number_students = cursor.execute(\"SELECT COUNT(student_id) FROM students WHERE primary_sch = ?\", school).fetchall()[0][0]\n",
    "        data += cursor.execute(query, (int(number_students), int(number_students), school[0])).fetchall()\n",
    "    data.sort(key= lambda x: x[0], reverse= False)\n",
    "\n",
    "data"
   ]
  }
 ],
 "metadata": {
  "kernelspec": {
   "display_name": "computing",
   "language": "python",
   "name": "python3"
  },
  "language_info": {
   "codemirror_mode": {
    "name": "ipython",
    "version": 3
   },
   "file_extension": ".py",
   "mimetype": "text/x-python",
   "name": "python",
   "nbconvert_exporter": "python",
   "pygments_lexer": "ipython3",
   "version": "3.6.13"
  }
 },
 "nbformat": 4,
 "nbformat_minor": 2
}
