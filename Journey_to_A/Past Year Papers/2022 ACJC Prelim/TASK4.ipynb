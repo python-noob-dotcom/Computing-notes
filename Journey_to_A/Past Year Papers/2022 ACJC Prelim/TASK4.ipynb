{
 "cells": [
  {
   "cell_type": "code",
   "execution_count": 2,
   "metadata": {},
   "outputs": [],
   "source": [
    "import sqlite3\n",
    "\n",
    "add_book = 'INSERT INTO books VALUES (?, ?, ?)'\n",
    "add_copy = 'INSERT INTO copies VALUES (?, ?)'\n",
    "\n",
    "with sqlite3.connect('Task4.db') as conn:\n",
    "    cursor = conn.cursor()\n",
    "\n",
    "    cursor.execute('BEGIN TRANSACTION')\n",
    "\n",
    "    with open('books_data.txt') as f:\n",
    "        for line in f:\n",
    "            cursor.execute(add_book, line.strip().split(','))\n",
    "\n",
    "    with open('copies_data.txt') as f:\n",
    "        for line in f:\n",
    "            cursor.execute(add_copy, [line.strip().split(',')[0], line.strip().split(',')[1]])\n",
    "\n",
    "    conn.commit()"
   ]
  }
 ],
 "metadata": {
  "kernelspec": {
   "display_name": "Python 3",
   "language": "python",
   "name": "python3"
  },
  "language_info": {
   "codemirror_mode": {
    "name": "ipython",
    "version": 3
   },
   "file_extension": ".py",
   "mimetype": "text/x-python",
   "name": "python",
   "nbconvert_exporter": "python",
   "pygments_lexer": "ipython3",
   "version": "3.7.7"
  }
 },
 "nbformat": 4,
 "nbformat_minor": 2
}
