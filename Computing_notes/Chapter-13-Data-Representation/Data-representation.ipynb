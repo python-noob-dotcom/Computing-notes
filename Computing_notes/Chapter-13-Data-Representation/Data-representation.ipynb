{
 "cells": [
  {
   "cell_type": "markdown",
   "metadata": {},
   "source": [
    "# Data Representation"
   ]
  },
  {
   "cell_type": "markdown",
   "metadata": {},
   "source": [
    "##### Data representation using builtin functions\n"
   ]
  },
  {
   "cell_type": "code",
   "execution_count": 1,
   "metadata": {},
   "outputs": [
    {
     "data": {
      "text/plain": [
       "'0b10011100001111'"
      ]
     },
     "execution_count": 1,
     "metadata": {},
     "output_type": "execute_result"
    }
   ],
   "source": [
    "# Built-in denary to binary\n",
    "\n",
    "bin(9999) # bin(denary value)\n",
    "          # 0b is like padding i.e. resultant string after b gives binary value"
   ]
  },
  {
   "cell_type": "code",
   "execution_count": 2,
   "metadata": {},
   "outputs": [
    {
     "data": {
      "text/plain": [
       "'0x270f'"
      ]
     },
     "execution_count": 2,
     "metadata": {},
     "output_type": "execute_result"
    }
   ],
   "source": [
    "# Buili-in Denary to Hex\n",
    "\n",
    "hex(9999) # hex(denary value)\n",
    "          # 0x dont need to read i.e. resultant string after x gives hex value"
   ]
  },
  {
   "cell_type": "markdown",
   "metadata": {},
   "source": [
    "#### Coding your own algorithms to convert denary to binary / hex"
   ]
  },
  {
   "cell_type": "code",
   "execution_count": 48,
   "metadata": {},
   "outputs": [
    {
     "data": {
      "text/plain": [
       "3"
      ]
     },
     "execution_count": 48,
     "metadata": {},
     "output_type": "execute_result"
    }
   ],
   "source": [
    "def binary_to_denary(value):\n",
    "    value_temp = str(value) # To get the index of the inidivdual digits\n",
    "    slots = len(value_temp) \n",
    "    power = slots - 1\n",
    "    denary = 0\n",
    "    index = 0\n",
    "    while power >= 0: # Iterate through until the power is 0\n",
    "        denary += int(value_temp[index]) * 2 ** power\n",
    "        index += 1\n",
    "        power -= 1\n",
    "\n",
    "    return denary\n",
    "binary_to_denary(11)"
   ]
  },
  {
   "cell_type": "code",
   "execution_count": 18,
   "metadata": {},
   "outputs": [
    {
     "data": {
      "text/plain": [
       "3"
      ]
     },
     "execution_count": 18,
     "metadata": {},
     "output_type": "execute_result"
    }
   ],
   "source": [
    "def binary_to_denary(value):\n",
    "    value_temp = str(value)\n",
    "    slots = len(value_temp)\n",
    "    power = slots - 1\n",
    "    denary = 0\n",
    "    for char in value_temp: #Iterate through the value itself\n",
    "        denary += int(char) * 2 ** power\n",
    "        power -= 1\n",
    "\n",
    "    return denary\n",
    "\n",
    "\n",
    "binary_to_denary(11)"
   ]
  },
  {
   "cell_type": "code",
   "execution_count": 24,
   "metadata": {},
   "outputs": [
    {
     "data": {
      "text/plain": [
       "3"
      ]
     },
     "execution_count": 24,
     "metadata": {},
     "output_type": "execute_result"
    }
   ],
   "source": [
    "def binary_to_denary_recursive(value):\n",
    "    if len(str(value)) > 1:\n",
    "        denary = int(str(value)[0]) * 2 ** (len(str(value)) - 1) + binary_to_denary_recursive(str(value)[1:])\n",
    "        return denary\n",
    "    else:\n",
    "        return int(value)\n",
    "    \n",
    "binary_to_denary_recursive(11)"
   ]
  },
  {
   "cell_type": "code",
   "execution_count": 50,
   "metadata": {},
   "outputs": [
    {
     "data": {
      "text/plain": [
       "175"
      ]
     },
     "execution_count": 50,
     "metadata": {},
     "output_type": "execute_result"
    }
   ],
   "source": [
    "def hex_to_denary(value):\n",
    "    value_temp = str(value)\n",
    "    value_temp = value_temp.upper()\n",
    "    hex_dict = {'1': 1, '2': 2, '3': 3, '4': 4, '5': 5, '6': 6, '7': 7, '8': 8, '9': 9, 'A': 10, 'B': 11, 'C': 12, 'D': 13, 'E': 14, 'F': 15}\n",
    "    power = len(value_temp) - 1\n",
    "    denary = 0\n",
    "    index = 0\n",
    "\n",
    "    while power >= 0:\n",
    "        denary = denary + hex_dict[value_temp[index]] * (16 ** power) \n",
    "\n",
    "        power -= 1\n",
    "        index += 1\n",
    "\n",
    "    return denary\n",
    "\n",
    "hex_to_denary('AF')"
   ]
  },
  {
   "cell_type": "code",
   "execution_count": null,
   "metadata": {},
   "outputs": [],
   "source": [
    "def denary_to_bin_iterative(value):\n",
    "\n",
    "    \"\"\"\n",
    "    Using iteration instead of using recursion\n",
    "    \"\"\"\n",
    "    binary_string_flipped = ''\n",
    "    quotient = value\n",
    "\n",
    "    remainder = 0\n",
    "\n",
    "    while quotient != 0:\n",
    "        remainder = quotient % 2\n",
    "        quotient = quotient // 2\n",
    "        binary_string_flipped += remainder\n",
    "        \n",
    "    binary_string = binary_string_flipped[::-1]\n",
    "\n",
    "\n",
    "    return binary_string"
   ]
  },
  {
   "cell_type": "code",
   "execution_count": 12,
   "metadata": {},
   "outputs": [
    {
     "data": {
      "text/plain": [
       "'11'"
      ]
     },
     "execution_count": 12,
     "metadata": {},
     "output_type": "execute_result"
    }
   ],
   "source": [
    "def denary_to_bin_recursion(value):\n",
    "\n",
    "    \"\"\"\n",
    "    Algorithm uses recursion\n",
    "    \"\"\"\n",
    "    value = int(value)\n",
    "    if value > 0:\n",
    "        remainder = value % 2\n",
    "        quotient = value // 2\n",
    "\n",
    "        return denary_to_bin_recursion(quotient) + str(remainder)\n",
    "    else:\n",
    "        return ''\n",
    "\n",
    "denary_to_bin_recursion(3)\n"
   ]
  },
  {
   "cell_type": "code",
   "execution_count": 15,
   "metadata": {},
   "outputs": [
    {
     "data": {
      "text/plain": [
       "'AF'"
      ]
     },
     "execution_count": 15,
     "metadata": {},
     "output_type": "execute_result"
    }
   ],
   "source": [
    "def denary_to_hex_iterative(value):\n",
    "    quotient = value\n",
    "    remainder = 0\n",
    "    hex_dict = {1: '1', 2: '2', 3:'3', 4:'4', 5:'5', 6:'6', 7:'7', 8:'8', 9:'9', 10:'A', 11:'B', 12: 'C', 13:'D', 14:'E', 15:'F'}\n",
    "    hex_string = ''\n",
    "\n",
    "    while quotient > 0:\n",
    "        remainder = quotient % 16\n",
    "        quotient = quotient // 16\n",
    "        hex_string += hex_dict[remainder]\n",
    "\n",
    "    hex_string = hex_string[::-1]\n",
    "    return hex_string\n",
    "\n",
    "denary_to_hex_iterative(175)"
   ]
  },
  {
   "cell_type": "code",
   "execution_count": 13,
   "metadata": {},
   "outputs": [
    {
     "data": {
      "text/plain": [
       "'AF'"
      ]
     },
     "execution_count": 13,
     "metadata": {},
     "output_type": "execute_result"
    }
   ],
   "source": [
    "def denary_to_hex_recursion(value):\n",
    "    if value > 0:\n",
    "        remainder = value % 16\n",
    "        quotient = value // 16\n",
    "\n",
    "        hex_dict = {1: '1', 2: '2', 3:'3', 4:'4', 5:'5', 6:'6', 7:'7', 8:'8', 9:'9', 10:'A', 11:'B', 12: 'C', 13:'D', 14:'E', 15:'F'}\n",
    "\n",
    "        return denary_to_hex_recursion(quotient) + str(hex_dict[remainder])\n",
    "    \n",
    "    else:\n",
    "        return ''\n",
    "    \n",
    "\n",
    "denary_to_hex_recursion(175)"
   ]
  },
  {
   "cell_type": "code",
   "execution_count": null,
   "metadata": {},
   "outputs": [],
   "source": [
    "def base_m_to_n(value, m, n):\n",
    "\n",
    "    def base_m_denary(value, m):\n",
    "        "
   ]
  }
 ],
 "metadata": {
  "kernelspec": {
   "display_name": "Python 3",
   "language": "python",
   "name": "python3"
  },
  "language_info": {
   "codemirror_mode": {
    "name": "ipython",
    "version": 3
   },
   "file_extension": ".py",
   "mimetype": "text/x-python",
   "name": "python",
   "nbconvert_exporter": "python",
   "pygments_lexer": "ipython3",
   "version": "3.6.4"
  }
 },
 "nbformat": 4,
 "nbformat_minor": 2
}
