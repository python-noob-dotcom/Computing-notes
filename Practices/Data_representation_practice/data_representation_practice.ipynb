{
 "cells": [
  {
   "cell_type": "code",
   "execution_count": 5,
   "metadata": {},
   "outputs": [
    {
     "name": "stdout",
     "output_type": "stream",
     "text": [
      "8000\n",
      "8000000\n",
      "8000000000\n",
      "8000000000000\n"
     ]
    }
   ],
   "source": [
    "# Task 3.1\n",
    "\n",
    "def task3_1(quantity_of_data):\n",
    "    \"\"\"\n",
    "    Takes in string quantity of data, and displays the number of bytes or error message\n",
    "    \"\"\"\n",
    "    digits = ''\n",
    "    unit = ''\n",
    "    for char in quantity_of_data:\n",
    "        if char.isdecimal():\n",
    "            digits += char\n",
    "        else:\n",
    "            unit += char\n",
    "\n",
    "    if unit[0] == 'K':\n",
    "        return int(digits) * 10**3\n",
    "    elif unit[0] == 'M':\n",
    "        return int(digits) * 10 ** 6\n",
    "    elif unit[0] == 'G':\n",
    "        return int(digits) * 10 ** 9\n",
    "    elif unit[0] == 'T':\n",
    "        return int(digits ) * 10 ** 12\n",
    "    else:\n",
    "        raise ValueError('Invalid Data')\n",
    "    \n",
    "print(task3_1('8KB'))\n",
    "print(task3_1('8MB'))\n",
    "print(task3_1('8GB'))\n",
    "print(task3_1('8TB'))"
   ]
  },
  {
   "cell_type": "code",
   "execution_count": 20,
   "metadata": {},
   "outputs": [
    {
     "name": "stdout",
     "output_type": "stream",
     "text": [
      "2097152\n",
      "8000\n",
      "8000000\n",
      "8000000000\n",
      "8000000000000\n",
      "2048\n",
      "2147483648\n",
      "2199023255552\n"
     ]
    }
   ],
   "source": [
    "# Task 3.2\n",
    "\n",
    "def task3_2(quantity_of_data):\n",
    "    \"\"\"\n",
    "    Takes in string quantity of data, and displays the number of bytes or error message\n",
    "    \"\"\"\n",
    "    digits = ''\n",
    "    unit = ''\n",
    "    for char in quantity_of_data:\n",
    "        if char.isdecimal():\n",
    "            digits += char\n",
    "        else:\n",
    "            unit += char\n",
    "    if len(unit) == 2 or len(unit) == 3:\n",
    "        if unit[0] == 'K' and unit[-1] == 'B':\n",
    "            if unit[1] != 'i':\n",
    "                return int(digits) * 10**3\n",
    "            else:\n",
    "                return int(digits) * 2 ** 10\n",
    "        elif unit[0] == 'M' and unit[-1] == 'B':\n",
    "            if unit[1] != 'i':\n",
    "                return int(digits) * 10 ** 6\n",
    "            else:\n",
    "                return int(digits) * 2 ** 20\n",
    "        elif unit[0] == 'G' and unit[-1] == 'B':\n",
    "            if unit[1] != 'i':\n",
    "                return int(digits) * 10 ** 9\n",
    "            else:\n",
    "                return int(digits) * 2 ** 30\n",
    "        elif unit[0] == 'T' and unit[-1] == 'B':\n",
    "            if unit[1] != 'i':\n",
    "                return int(digits ) * 10 ** 12\n",
    "            else:\n",
    "                return int(digits) * 2 ** 40\n",
    "        else:\n",
    "            raise ValueError('Invalid Data')\n",
    "    else:\n",
    "        raise ValueError('Invalid Data')\n",
    "    \n",
    "print(task3_2('2MiB'))\n",
    "print(task3_2('8KB'))\n",
    "print(task3_2('8MB'))\n",
    "print(task3_2('8GB'))\n",
    "print(task3_2('8TB'))\n",
    "print(task3_2('2KiB'))\n",
    "print(task3_2('2GiB'))\n",
    "print(task3_2('2TiB'))"
   ]
  },
  {
   "cell_type": "code",
   "execution_count": 19,
   "metadata": {},
   "outputs": [
    {
     "name": "stdout",
     "output_type": "stream",
     "text": [
      "0.5GiB\n",
      "1000.0MB\n",
      "1000.0GB\n"
     ]
    }
   ],
   "source": [
    "# Task 3.2\n",
    "\n",
    "def task3_3(quantity_of_data, target_unit):\n",
    "\n",
    "    \"\"\"\n",
    "    Takes 2 srings, quantity of data and tagret unit\n",
    "    tests that the target unit is one of the eight approved units from task 3.2\n",
    "    generate the actual number of bytes represented\n",
    "    convers the generated number into target unit\n",
    "    \"\"\"\n",
    "    approved_units = {'KB': 10**3, 'KiB': 2**10, 'MB': 10 ** 6, 'MiB': 2 ** 20, 'GB': 10 ** 9, 'GiB': 2 ** 30, 'TB': 10 ** 12, 'TiB': 2 ** 40}\n",
    "\n",
    "    if target_unit not in approved_units.keys():\n",
    "        raise ValueError('Invalid Data')\n",
    "    \n",
    "    else:\n",
    "        quantity_of_data = task3_2(quantity_of_data)\n",
    "        return str(quantity_of_data / approved_units[target_unit]) + target_unit\n",
    "            \n",
    "print(task3_3('512MiB', 'GiB'))\n",
    "print(task3_3('1GB', 'MB'))\n",
    "print(task3_3('1TB', 'GB'))"
   ]
  }
 ],
 "metadata": {
  "kernelspec": {
   "display_name": "Python 3",
   "language": "python",
   "name": "python3"
  },
  "language_info": {
   "codemirror_mode": {
    "name": "ipython",
    "version": 3
   },
   "file_extension": ".py",
   "mimetype": "text/x-python",
   "name": "python",
   "nbconvert_exporter": "python",
   "pygments_lexer": "ipython3",
   "version": "3.6.4"
  }
 },
 "nbformat": 4,
 "nbformat_minor": 2
}
