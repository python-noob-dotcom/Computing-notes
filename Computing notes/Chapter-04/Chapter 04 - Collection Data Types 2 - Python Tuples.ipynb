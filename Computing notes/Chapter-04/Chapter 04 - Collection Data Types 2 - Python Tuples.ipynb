{
 "cells": [
  {
   "cell_type": "markdown",
   "metadata": {},
   "source": [
    "# <div class = \"alert alert-info\"> <font color = purple> Chapter 04 - Collection Data Types 2: Tuples"
   ]
  },
  {
   "cell_type": "markdown",
   "metadata": {},
   "source": [
    "## 4.2 Tuples"
   ]
  },
  {
   "cell_type": "markdown",
   "metadata": {},
   "source": [
    "A Tuple is a collection of Python objects which is **immutable**, i.e. not modifiable after creation."
   ]
  },
  {
   "cell_type": "markdown",
   "metadata": {},
   "source": [
    "### 4.2.1 Mutability\n",
    "\n",
    "In Python, mutability refers to the ability of an object to be changed after it has been created. \n",
    "\n",
    "Objects that are mutable can be modified in-place, meaning that their values can be updated without creating a new object. Conversely, objects that are immutable cannot be changed once they are created.\n",
    "\n",
    "\n",
    "Mutable objects include lists, dictionaries, sets, and some custom-defined objects. Immutable objects include strings, tuples, and numbers (integers, floats, and complex numbers)"
   ]
  },
  {
   "cell_type": "code",
   "execution_count": null,
   "metadata": {},
   "outputs": [],
   "source": [
    "# Lists are mutable\n",
    "\n",
    "my_list = [1, 2, 3]\n",
    "print(my_list)  # prints [1, 2, 3]\n",
    "\n",
    "my_list[0] = 4\n",
    "print(my_list)  # prints [4, 2, 3]\n",
    "\n",
    "my_list[2] = 8\n",
    "print(my_list)  # prints [4, 2, 8]"
   ]
  },
  {
   "cell_type": "markdown",
   "metadata": {},
   "source": [
    "- In the above example, observe that the elements in `my_list` can be changed internally by assigning a new value to the element by locating the existing value using list-indexing.\n",
    "\n",
    "\n",
    "- Here `my_list` has been modified and no new list is created. \n",
    "\n",
    "\n",
    "- This is an example of modifying in-place without creating a new object"
   ]
  },
  {
   "cell_type": "code",
   "execution_count": null,
   "metadata": {},
   "outputs": [],
   "source": [
    "# Strings are immutable\n",
    "\n",
    "my_string = \"hello\"\n",
    "my_string[0] = \"H\"  # Raises TypeError: 'str' object does not support item assignment"
   ]
  },
  {
   "cell_type": "markdown",
   "metadata": {},
   "source": [
    "- In the above example, attempting to replace the lower case `h` with an upper case `H` results in an error.\n",
    "\n",
    "\n",
    "- This is an example of an object that cannot be modified after creation.\n",
    "\n",
    "\n",
    "- The only way to create the word `Hello` is to create a new string object e.g. `my_string_2 = Hello`."
   ]
  },
  {
   "cell_type": "markdown",
   "metadata": {},
   "source": [
    "It's important to understand mutability in Python because it affects how you can manipulate objects and how they behave when passed to functions or assigned to variables. If you pass a mutable object to a function, any changes made to the object within the function will also affect the object outside the function, whereas immutable objects will not be affected."
   ]
  },
  {
   "cell_type": "markdown",
   "metadata": {},
   "source": [
    "### 4.2.2. Creating a Tuple\n",
    "\n",
    "A tuple can be created with a collection of items by surrounding it with parentheses **\"( )\"**, seperating each item in the collection with a comma **\",\"**.\n",
    "\n",
    "* To create an empty tuple, use `()`\n",
    "* To create a single-item tuple, it is mandatory to add **comma `,`** behind the element. E.g. `tup = (3,)`"
   ]
  },
  {
   "cell_type": "code",
   "execution_count": 2,
   "metadata": {},
   "outputs": [
    {
     "name": "stdout",
     "output_type": "stream",
     "text": [
      "(1, 2, 3, 4) <class 'tuple'>\n"
     ]
    }
   ],
   "source": [
    "# Create a tuple t with values 1, 2, 3, 4.\n",
    "# Print the tuple and its data type.\n",
    "\n",
    "t = (1, 2, 3, 4)\n",
    "print(t, type(t))"
   ]
  },
  {
   "cell_type": "code",
   "execution_count": 6,
   "metadata": {},
   "outputs": [
    {
     "data": {
      "text/plain": [
       "tuple"
      ]
     },
     "execution_count": 6,
     "metadata": {},
     "output_type": "execute_result"
    }
   ],
   "source": [
    "l1 = [1]\n",
    "t1 = (1, ) #Without the comma, python think u are referring to the outer bracket for maths\n",
    "type(t1)"
   ]
  },
  {
   "cell_type": "code",
   "execution_count": 3,
   "metadata": {},
   "outputs": [
    {
     "data": {
      "text/plain": [
       "tuple"
      ]
     },
     "execution_count": 3,
     "metadata": {},
     "output_type": "execute_result"
    }
   ],
   "source": [
    "# Parentheses is optional unless it is to create an empty tuple.\n",
    "t1 = 1, 2, 3, 4\n",
    "type(t1)"
   ]
  },
  {
   "cell_type": "markdown",
   "metadata": {},
   "source": [
    "A tuple can also be created using from a list data type using the `tuple()` constructor function. The same applies for a string."
   ]
  },
  {
   "cell_type": "code",
   "execution_count": 8,
   "metadata": {},
   "outputs": [
    {
     "data": {
      "text/plain": [
       "(1, 2, 3)"
      ]
     },
     "execution_count": 8,
     "metadata": {},
     "output_type": "execute_result"
    }
   ],
   "source": [
    "# Create a tuple from the list [1,2,3].\n",
    "t2 = tuple([1, 2, 3])\n",
    "t2"
   ]
  },
  {
   "cell_type": "code",
   "execution_count": null,
   "metadata": {},
   "outputs": [],
   "source": [
    "# What happens if you apply the tuple() constructor function on a string 'Good day!'\n",
    "my_string = 'Good Day!'\n",
    "t3 = tuple(my_string)"
   ]
  },
  {
   "cell_type": "markdown",
   "metadata": {},
   "source": [
    "Python collection data types allow mix data types in the same collection. \n",
    "Just like a list data type, we can also create a tuple with items of different data types, although this is not commonly used."
   ]
  },
  {
   "cell_type": "code",
   "execution_count": 10,
   "metadata": {},
   "outputs": [
    {
     "data": {
      "text/plain": [
       "('apple', 3.0, 'banana', 4)"
      ]
     },
     "execution_count": 10,
     "metadata": {},
     "output_type": "execute_result"
    }
   ],
   "source": [
    "# Create a tuple with the items 'apple', 3.0, 'banana', 4\n",
    "t4 = ('apple', 3.0, 'banana', 4)\n",
    "t4"
   ]
  },
  {
   "cell_type": "markdown",
   "metadata": {},
   "source": [
    "Just like a list, a tuple can contain other tuples as its elements. Such tuples are called nested tuples."
   ]
  },
  {
   "cell_type": "code",
   "execution_count": 14,
   "metadata": {},
   "outputs": [
    {
     "data": {
      "text/plain": [
       "4"
      ]
     },
     "execution_count": 14,
     "metadata": {},
     "output_type": "execute_result"
    }
   ],
   "source": [
    "# Create a tuple nested with items 0, 1, (2, 3, 4), (5, 6)\n",
    "# What is the length of the above tuple?\n",
    "t5 = (0, 1, (2, 3, 4), (5, 6))\n",
    "len(t5)"
   ]
  },
  {
   "cell_type": "markdown",
   "metadata": {},
   "source": [
    "### 4.2.3 Accessing Elements"
   ]
  },
  {
   "cell_type": "markdown",
   "metadata": {},
   "source": [
    "Just like strings and lists, indexing can be used to access items in a tuple."
   ]
  },
  {
   "cell_type": "code",
   "execution_count": 16,
   "metadata": {},
   "outputs": [
    {
     "name": "stdout",
     "output_type": "stream",
     "text": [
      "banana durian\n",
      "banana durian\n"
     ]
    }
   ],
   "source": [
    "# Create a tuple ('apple', 'banana', 'cherry', 'durian') and assign it to the variable fruits\n",
    "# Print out 2nd and 4th item in the tuple using positive indexing\n",
    "# Repeat the process using negative indexing\n",
    "fruits = ('apple', 'banana', 'cherry', 'durian')\n",
    "\n",
    "print(fruits[1], fruits[3])\n",
    "print(fruits[-3], fruits[-1])"
   ]
  },
  {
   "cell_type": "markdown",
   "metadata": {},
   "source": [
    "For nested tuples, we can access items by multi-level indexing as well."
   ]
  },
  {
   "cell_type": "code",
   "execution_count": 21,
   "metadata": {},
   "outputs": [
    {
     "name": "stdout",
     "output_type": "stream",
     "text": [
      "4 , 5\n"
     ]
    }
   ],
   "source": [
    "# Create a tuple nested with items 0, 1, (2, 3, 4), (5, 6).\n",
    "# How do you access value 4 and 5?\n",
    "tuple__ = (0, 1, (2, 3, 4), (5, 6))\n",
    "print(tuple__[2][2], ',', tuple__[3][0])"
   ]
  },
  {
   "cell_type": "code",
   "execution_count": 24,
   "metadata": {},
   "outputs": [
    {
     "data": {
      "text/plain": [
       "5"
      ]
     },
     "execution_count": 24,
     "metadata": {},
     "output_type": "execute_result"
    }
   ],
   "source": [
    "# Can the above be applied for nested lists?\n",
    "# What about a tuple containing lists?\n",
    "# What then about a list containing tuples?\n",
    "nested_list = [1, 2, [3, 4, 5, [10, 11, 12]], [6, 7, 8]]\n",
    "nested_list[2][3][2] #Yay it works!\n",
    "\n",
    "tuple_with_list = (1, 2, [3, 4, 5])\n",
    "tuple_with_list[2][2] #Yay it works!"
   ]
  },
  {
   "cell_type": "markdown",
   "metadata": {},
   "source": [
    "### 4.2.4 Slicing"
   ]
  },
  {
   "cell_type": "code",
   "execution_count": 25,
   "metadata": {},
   "outputs": [
    {
     "name": "stdout",
     "output_type": "stream",
     "text": [
      "(0, 1, 2, 3, 4, 5, 6, 7, 8, 9)\n",
      "(1, 2, 3)\n",
      "(0, 1, 2, 3, 4)\n",
      "(5, 6, 7, 8, 9)\n"
     ]
    }
   ],
   "source": [
    "# Try out following code.\n",
    "\n",
    "num = tuple(range(10))\n",
    "print(num)\n",
    "\n",
    "# Get item with index 2 to 4\n",
    "print(num[1:4])\n",
    "\n",
    "# Get first 5 items\n",
    "print(num[:5])\n",
    "\n",
    "\n",
    "# Get from item with index = 5 onwards\n",
    "print(num[5:])\n"
   ]
  },
  {
   "cell_type": "code",
   "execution_count": 28,
   "metadata": {},
   "outputs": [
    {
     "name": "stdout",
     "output_type": "stream",
     "text": [
      "(1, 2, 3)\n",
      "(0, 1, 2, 3, 4)\n",
      "(5, 6, 7, 8, 9)\n"
     ]
    }
   ],
   "source": [
    "# Repeat the above processes with negative indices for the upper limit where appropriate\n",
    "\n",
    "# Get item with index 2 to 4\n",
    "print(num[1-10:4-10])\n",
    "\n",
    "# Get first 5 items\n",
    "print(num[:-5])\n",
    "\n",
    "# Get from item wit index = 5 onwards\n",
    "print(num[-5:])"
   ]
  },
  {
   "cell_type": "code",
   "execution_count": 38,
   "metadata": {},
   "outputs": [
    {
     "name": "stdout",
     "output_type": "stream",
     "text": [
      "(7, 8, 9)\n",
      "(0, 1, 2, 3, 4, 5, 6)\n",
      "(1, 2, 3, 4, 5, 6, 7, 8)\n"
     ]
    }
   ],
   "source": [
    "# Consider the tuple num = (0,1,2,3,4,5,6,7,8,9)\n",
    "\n",
    "# Get the last 3 items\n",
    "print(num[-3:])\n",
    "\n",
    "# Ignore the last 3 items\n",
    "print(num[:-3])\n",
    "\n",
    "\n",
    "# Strip first and last items from a tuple\n",
    "print(num[1:-1])"
   ]
  },
  {
   "cell_type": "markdown",
   "metadata": {},
   "source": [
    "### 4.2.4 Tuple Operations"
   ]
  },
  {
   "cell_type": "markdown",
   "metadata": {},
   "source": [
    "Consider the tuple num = (0,1,2,3,4,5,6,7,8,9)"
   ]
  },
  {
   "cell_type": "code",
   "execution_count": null,
   "metadata": {},
   "outputs": [],
   "source": [
    "# Find the length\n",
    "print(len(num))\n",
    "\n",
    "\n",
    "# Find the minimum\n",
    "print(min(num))\n",
    "\n",
    "# Find the maximum\n",
    "print(max(num))\n",
    "\n",
    "# Find the sum\n",
    "print(sum(num))\n"
   ]
  },
  {
   "cell_type": "code",
   "execution_count": 41,
   "metadata": {},
   "outputs": [
    {
     "name": "stdout",
     "output_type": "stream",
     "text": [
      "<list_reverseiterator object at 0x000001CA7EE9C7F0>\n",
      "<reversed object at 0x000001CA7EE9CCF8>\n"
     ]
    }
   ],
   "source": [
    "# Can you reverse a tuple directly? \n",
    "l1 = [1, 2, 3, 4, 5]\n",
    "l2 = reversed(l1)\n",
    "print(l2)\n",
    "\n",
    "t1 = (1, 2, 3 , 4, 5)\n",
    "t2 = reversed(t1)\n",
    "print(t2)"
   ]
  },
  {
   "cell_type": "code",
   "execution_count": null,
   "metadata": {},
   "outputs": [],
   "source": [
    "# How can you obtain a reversed tuple?"
   ]
  },
  {
   "cell_type": "code",
   "execution_count": 42,
   "metadata": {},
   "outputs": [
    {
     "data": {
      "text/plain": [
       "[1, 2, 3, 4, 5]"
      ]
     },
     "execution_count": 42,
     "metadata": {},
     "output_type": "execute_result"
    }
   ],
   "source": [
    "# Can you sort a tuple directly?\n",
    "t1 = (5, 2, 3, 4, 1)\n",
    "t2 = tuple(sorted(t1))\n",
    "t2"
   ]
  },
  {
   "cell_type": "code",
   "execution_count": null,
   "metadata": {},
   "outputs": [],
   "source": [
    "# How can you obtain a sorted tuple?"
   ]
  },
  {
   "cell_type": "markdown",
   "metadata": {},
   "source": [
    "What's the minimum and the maximum value of tuple poly = ('np', 'sp', 'tp', 'rp', 'nyp')?"
   ]
  },
  {
   "cell_type": "code",
   "execution_count": null,
   "metadata": {},
   "outputs": [],
   "source": []
  },
  {
   "cell_type": "markdown",
   "metadata": {},
   "source": [
    "Sort the items in ('duck', 'chicken', 'goose') by length of element"
   ]
  },
  {
   "cell_type": "code",
   "execution_count": 9,
   "metadata": {},
   "outputs": [],
   "source": [
    "# Checking Values in the tuple with any() and all() function\n",
    "\n",
    "# any() function returns True if any item in tuple (collection) is evaluated True.\n",
    "\n",
    "# all() function returns True if all items in tuple (collection) is evaluated True.\n",
    "\n",
    "# Python evaluates following values as False\n",
    "# (a) False\n",
    "# (b) None\n",
    "# (c) Numeric zero of all types\n",
    "# Empty strings and containers (including strings, tuples, lists, dictionaries, sets and frozensets)"
   ]
  },
  {
   "cell_type": "code",
   "execution_count": null,
   "metadata": {},
   "outputs": [],
   "source": [
    "# How to concatenate 2 tuples?\n",
    "\n",
    "\n",
    "# How to concatenate repetitions of a tuple?"
   ]
  },
  {
   "cell_type": "code",
   "execution_count": null,
   "metadata": {},
   "outputs": [],
   "source": [
    "# How to obtain the index of an item in a tuple?\n",
    "\n",
    "\n",
    "# What happens if there is more than one item?"
   ]
  },
  {
   "cell_type": "code",
   "execution_count": null,
   "metadata": {},
   "outputs": [],
   "source": [
    "# Using enumerate()"
   ]
  },
  {
   "cell_type": "code",
   "execution_count": null,
   "metadata": {},
   "outputs": [],
   "source": [
    "# Tuple assignment, unpacking and swapping\n",
    "\n",
    "\n",
    "# Assignment\n",
    "x, y, z = 1, 2, 3\n",
    "print(x, y, z)\n",
    "\n",
    "\n",
    "# Unpacking\n",
    "times = '9am to 5pm to 6pm to 8pm'.split('to')\n",
    "print(times)\n",
    "start, _, end, _ = tuple(times)\n",
    "print(start, end)\n",
    "\n",
    "\n",
    "# Swapping\n",
    "x = 10\n",
    "y = 20\n",
    "print(f'x = {x}, y = {y}')\n",
    "x,y = y,x\n",
    "print(f'x = {x}, y = {y}')"
   ]
  },
  {
   "cell_type": "code",
   "execution_count": null,
   "metadata": {},
   "outputs": [],
   "source": [
    "# Use * to hold any number of unpacked values.\n",
    "\n",
    "# For example, from a tuple, you would like to get its last item, and put all other items in a list.\n",
    "\n",
    "t = (1,2,3,4,5)\n",
    "# a,b =t\n",
    "*a, b = t\n",
    "print(a, b)\n",
    "\n",
    "# How to extract only first and last items from a tuple (1,2,3,4,5).\n",
    "t = (1,2,3,4,5)\n",
    "\n",
    "a,*b,c=t\n",
    "print(a, b, c)"
   ]
  }
 ],
 "metadata": {
  "kernelspec": {
   "display_name": "Python 3",
   "language": "python",
   "name": "python3"
  },
  "language_info": {
   "codemirror_mode": {
    "name": "ipython",
    "version": 3
   },
   "file_extension": ".py",
   "mimetype": "text/x-python",
   "name": "python",
   "nbconvert_exporter": "python",
   "pygments_lexer": "ipython3",
   "version": "3.6.4"
  }
 },
 "nbformat": 4,
 "nbformat_minor": 2
}
