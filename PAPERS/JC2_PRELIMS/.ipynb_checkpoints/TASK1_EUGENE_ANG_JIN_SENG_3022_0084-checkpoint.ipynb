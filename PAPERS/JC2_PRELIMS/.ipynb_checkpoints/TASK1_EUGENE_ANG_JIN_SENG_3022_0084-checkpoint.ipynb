{
 "cells": [
  {
   "cell_type": "code",
   "execution_count": 1,
   "id": "0b30e5e8",
   "metadata": {},
   "outputs": [],
   "source": [
    "# Task 1.1\n",
    "\n",
    "def task1_1(input_value):\n",
    "    return True if input_value.isdigit() and len(input_value) == 16 else False"
   ]
  },
  {
   "cell_type": "code",
   "execution_count": 10,
   "id": "49c84ceb",
   "metadata": {},
   "outputs": [
    {
     "name": "stdout",
     "output_type": "stream",
     "text": [
      "80\n"
     ]
    },
    {
     "data": {
      "text/plain": [
       "True"
      ]
     },
     "execution_count": 10,
     "metadata": {},
     "output_type": "execute_result"
    }
   ],
   "source": [
    "# Task 1.2\n",
    "\n",
    "def task1_2(input_value):\n",
    "    if task1_1(input_value):\n",
    "        total = 0\n",
    "        for i in range(len(input_value) - 1, -1, -1):\n",
    "            if i % 2 == 0:\n",
    "                if int(input_value[i]) * 2 > 9:\n",
    "                    total += int(input_value[i]) * 2 - 9\n",
    "                else:\n",
    "                    total += int(input_value[i]) * 2\n",
    "            else:\n",
    "                total += int(input_value[i])\n",
    "                \n",
    "        print(total)\n",
    "                \n",
    "        return True if total % 8 == 0 else False\n",
    "    else:\n",
    "        return False\n",
    "    \n",
    "task1_2('4539148803436467')"
   ]
  },
  {
   "cell_type": "code",
   "execution_count": 11,
   "id": "e0c9f9fc",
   "metadata": {},
   "outputs": [
    {
     "name": "stdout",
     "output_type": "stream",
     "text": [
      "50\n",
      "40\n"
     ]
    }
   ],
   "source": [
    "# Task 1.3\n",
    "\n",
    "import sqlite3\n",
    "\n",
    "with sqlite3.connect('./Submission/Task1.db') as conn:\n",
    "    cursor = conn.cursor()\n",
    "    \n",
    "    data = cursor.execute(\"SELECT UserID, Credit_Card_Number FROM Users\").fetchall()\n",
    "    \n",
    "    for user in data:\n",
    "        if task1_2(user[1]):\n",
    "            cursor.execute(\"UPDATE Users SET Credit_Card_Validity = 'True' WHERE UserID = ?\", (user[0], ))\n",
    "        else:\n",
    "            cursor.execute(\"UPDATE Users SET Credit_Card_Validity = 'False' WHERE UserID = ?\", (user[0], ))\n",
    "            \n",
    "    conn.commit()"
   ]
  },
  {
   "cell_type": "code",
   "execution_count": 15,
   "id": "cf1bc026",
   "metadata": {},
   "outputs": [],
   "source": [
    "# Task 1.4\n",
    "\n",
    "with sqlite3.connect('./Submission/Task1.db') as conn:\n",
    "    cursor = conn.cursor()\n",
    "    \n",
    "    res = cursor.execute(\"SELECT Users.Name, Categories.Category_Name, Transactions.Amount FROM Users INNER JOIN \\\n",
    "    (Categories INNER JOIN Transactions ON Categories.CategoryID = Transactions.CategoryID)\\\n",
    "    ON Users.UserID = Transactions.UserID\").fetchall()\n",
    "    \n",
    "    with open('./Submission/transactions.txt', 'w') as f:\n",
    "        f.write(f'{\"Name\"},{\"Category\"},{\"Amount\"}\\n')\n",
    "                \n",
    "        for data in res:\n",
    "                f.write(f'{data[0]},{data[1]},{data[2]}\\n')\n",
    "    \n",
    "    "
   ]
  }
 ],
 "metadata": {
  "kernelspec": {
   "display_name": "Python 3 (ipykernel)",
   "language": "python",
   "name": "python3"
  },
  "language_info": {
   "codemirror_mode": {
    "name": "ipython",
    "version": 3
   },
   "file_extension": ".py",
   "mimetype": "text/x-python",
   "name": "python",
   "nbconvert_exporter": "python",
   "pygments_lexer": "ipython3",
   "version": "3.7.7"
  }
 },
 "nbformat": 4,
 "nbformat_minor": 5
}
