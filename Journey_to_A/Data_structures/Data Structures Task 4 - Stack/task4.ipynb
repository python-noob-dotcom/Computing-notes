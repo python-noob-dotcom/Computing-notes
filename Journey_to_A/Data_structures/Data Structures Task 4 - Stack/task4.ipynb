{
 "cells": [
  {
   "cell_type": "code",
   "execution_count": 5,
   "metadata": {},
   "outputs": [],
   "source": [
    "# Task 4.1\n",
    "\n",
    "class myStack:\n",
    "    def __init__(self, maxSize):\n",
    "        self.stk = [[None] for i in range(maxSize)]\n",
    "        self.top = -1\n",
    "        self.maxSize = maxSize\n",
    "\n",
    "    def push(self, value):\n",
    "        if self.top == -1:\n",
    "            self.top += 1\n",
    "            self.stk[self.top] = value\n",
    "        else:\n",
    "            if self.top + 1 < self.maxSize:\n",
    "                self.top += 1\n",
    "                self.stk[self.top] = value\n",
    "        return\n",
    "    \n",
    "    def pop(self):\n",
    "        if self.top == -1:\n",
    "            return None\n",
    "        else:\n",
    "            val = self.stk[self.top]\n",
    "            self.stk[self.top] = None\n",
    "            self.top -= 1\n",
    "            return val\n",
    "        \n",
    "    def peek(self):\n",
    "        return self.stk[self.top] if self.top > -1 else None\n",
    "    \n",
    "    def isEmpty(self):\n",
    "        if self.top == -1:\n",
    "            return True\n",
    "        else:\n",
    "            return False\n"
   ]
  },
  {
   "cell_type": "code",
   "execution_count": null,
   "metadata": {},
   "outputs": [],
   "source": [
    "# Task 4.2\n",
    "\n",
    "stack = myStack(5)\n",
    "\n",
    "# Test case 1, push more than 5 elems\n",
    "for i in range(6):\n",
    "    stack.push(i)\n",
    "\n",
    "# Test case 2, pop from empty\n",
    "\n",
    "# Test case 3, push 5 elems, pop 5 elems"
   ]
  }
 ],
 "metadata": {
  "kernelspec": {
   "display_name": "Python 3",
   "language": "python",
   "name": "python3"
  },
  "language_info": {
   "codemirror_mode": {
    "name": "ipython",
    "version": 3
   },
   "file_extension": ".py",
   "mimetype": "text/x-python",
   "name": "python",
   "nbconvert_exporter": "python",
   "pygments_lexer": "ipython3",
   "version": "3.7.7"
  }
 },
 "nbformat": 4,
 "nbformat_minor": 2
}
