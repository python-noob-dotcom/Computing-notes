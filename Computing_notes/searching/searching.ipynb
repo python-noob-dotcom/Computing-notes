{
 "cells": [
  {
   "cell_type": "markdown",
   "metadata": {},
   "source": [
    "# <font color = gold> Overview of the different searches\n",
    "1. Linear search\n",
    "2. Binary Search "
   ]
  },
  {
   "cell_type": "markdown",
   "metadata": {},
   "source": [
    "## <font color = white> Linear Search"
   ]
  },
  {
   "cell_type": "code",
   "execution_count": null,
   "metadata": {},
   "outputs": [],
   "source": [
    "# Linear search for array of unique elements\n",
    "def linear_search(target, arr):\n",
    "    \"\"\"\n",
    "    Returns the index of the target to be found in the array\n",
    "    \"\"\"\n",
    "    for i in range(len(arr)):\n",
    "        if arr[i] == target:\n",
    "            return i\n",
    "    \n",
    "    return f'{target} is not in the array'"
   ]
  },
  {
   "cell_type": "code",
   "execution_count": null,
   "metadata": {},
   "outputs": [],
   "source": [
    "def linear_search_repeated(target, array):\n",
    "    locations = []\n",
    "\n",
    "    for i in range(len(array)):\n",
    "        if array[i] == target:\n",
    "            locations.append(i) \n",
    "\n",
    "    return locations if len(locations) > 0 else f'Target {target} not found in array'\n"
   ]
  },
  {
   "cell_type": "markdown",
   "metadata": {},
   "source": [
    "## <font color = white> Binary Search\n",
    "- Note: the array must be a sorted array"
   ]
  },
  {
   "cell_type": "code",
   "execution_count": 28,
   "metadata": {},
   "outputs": [
    {
     "data": {
      "text/plain": [
       "[1, 2, 3, 4]"
      ]
     },
     "execution_count": 28,
     "metadata": {},
     "output_type": "execute_result"
    }
   ],
   "source": [
    "sorted([2, 3, 4, 1])"
   ]
  },
  {
   "cell_type": "code",
   "execution_count": 62,
   "metadata": {},
   "outputs": [
    {
     "data": {
      "text/plain": [
       "[3]"
      ]
     },
     "execution_count": 62,
     "metadata": {},
     "output_type": "execute_result"
    }
   ],
   "source": [
    "def binary_search(array, low, high, target, locations = []):\n",
    "    if array == sorted(array):\n",
    "        \n",
    "        mid =  (low + high) // 2\n",
    "\n",
    "\n",
    "        if high >= low:\n",
    "            if array[mid] == target:\n",
    "                locations += [mid]\n",
    "                return locations\n",
    "                \n",
    "            \n",
    "            else:\n",
    "                if array[mid - 1] == target:\n",
    "                    locations.append(mid - 1)\n",
    "                    return binary_search(array, 0, mid - 1, target, locations)\n",
    "                \n",
    "                if array[mid + 1] == target:\n",
    "                    locations.append(mid + 1)\n",
    "                    return binary_search(array, mid + 1, len(array) - 1, target, locations)\n",
    "\n",
    "                if array[mid] < target:\n",
    "                    return binary_search(array, mid + 1, len(array) - 1, target, locations)\n",
    "                \n",
    "                else:\n",
    "                    return binary_search(array, 0, mid - 1, target, locations)\n",
    "                \n",
    "        return locations if len(locations) > 0 else f'{target} not in the array / not in the specific range of the array that you are searching in' \n",
    "\n",
    "stuff = [1, 2, 2, 3, 3, 4, 5]\n",
    "binary_search(stuff, 0, len(stuff) - 1, 3)\n"
   ]
  }
 ],
 "metadata": {
  "kernelspec": {
   "display_name": "Python 3",
   "language": "python",
   "name": "python3"
  },
  "language_info": {
   "codemirror_mode": {
    "name": "ipython",
    "version": 3
   },
   "file_extension": ".py",
   "mimetype": "text/x-python",
   "name": "python",
   "nbconvert_exporter": "python",
   "pygments_lexer": "ipython3",
   "version": "3.6.4"
  },
  "orig_nbformat": 4
 },
 "nbformat": 4,
 "nbformat_minor": 2
}
