{
 "cells": [
  {
   "cell_type": "markdown",
   "metadata": {
    "id": "tZbY3fKE3iE0"
   },
   "source": [
    "# Training 5"
   ]
  },
  {
   "cell_type": "markdown",
   "metadata": {
    "id": "6d_yGSRx3iE4"
   },
   "source": [
    "## <font color = blue>  Task 1 - Swapping\n",
    "\n",
    "Write a program that:\n",
    "- Asks the user to input 3 integer values, `x`, `y` and `z` one by one.\n",
    "- Prints out the values of `x`, `y` and `z` before swapping\n",
    "- Performs a swapping operation such that `x` will hold the value of `y`, `y` will hold the value of `z`, and `z` will hold value of x after the operation is completed.\n",
    "- Prints out the values of `x`, `y` and `z` after swapping."
   ]
  },
  {
   "cell_type": "code",
   "execution_count": 2,
   "metadata": {},
   "outputs": [
    {
     "data": {
      "text/plain": [
       "('2', '3', '1')"
      ]
     },
     "execution_count": 2,
     "metadata": {},
     "output_type": "execute_result"
    }
   ],
   "source": [
    "# Your code here\n",
    "def swap():\n",
    "    x, y, z = input('Please input 3 integer values in the format (x y z): ').split(' ')\n",
    "    x, y, z = y, z, x\n",
    "    return x, y, z\n",
    "\n",
    "swap()"
   ]
  },
  {
   "cell_type": "markdown",
   "metadata": {
    "id": "yBWXxSsZ3iE4"
   },
   "source": [
    "## <font color = blue>  Task 2 - Dots in a Square\n",
    "\n",
    "In Python, we can generate random values between -1 and 1 by using the `.uniform()` method from the `random` module. The syntax is as follows: \n",
    "\n",
    "```Python\n",
    "random.uniform(-1,1)\n",
    "```\n",
    "\n",
    "Write a program that:\n",
    "\n",
    "- Sets a variable `n` to be 100\n",
    "- Creates a list called `coordinates` which contains `n` tuples with 2 elements each\n",
    "    - Each element in the tuple is a randomly generated real number between -1 inclusive and 1 inclusive, \n",
    "    - Each element in `coordinates` is of the form `(element_1, element_2)`. \n",
    "    - The list will contain `n` random points in the cartesian plane ($xy$-plane) where the $x$-coordinates and $y$-coordinates are between -1 inclusive and 1 inclusive.\n",
    "- Prints out the number of points (i.e., elements in `coordinates`) that has a distance of at most 1 unit away from the origin. (***Hint: Distance Formula***)\n",
    "- Prints out also the value of `frac`, the fraction of the number of such points out of `n` points.\n",
    "- Prints out the value of `frac*4`.\n",
    "- Repeats the process with `n` set to be 1000, 10000, 100000. \n",
    "\n",
    "What can you observe about the values of `frac*4` as the `n` increases?"
   ]
  },
  {
   "cell_type": "code",
   "execution_count": 2,
   "metadata": {
    "id": "dlbh_zL33iE5"
   },
   "outputs": [
    {
     "name": "stdout",
     "output_type": "stream",
     "text": [
      "81 0.81 3.24\n",
      "782 0.782 3.128\n",
      "7840 0.784 3.136\n",
      "78384 0.78384 3.13536\n",
      "7855447 0.7855447 3.1421788\n"
     ]
    }
   ],
   "source": [
    "# Your code here\n",
    "from random import uniform\n",
    "from math import sqrt\n",
    "def yes(n=[]):\n",
    "    def generator(n=100):\n",
    "        n = n\n",
    "        coordinates = []\n",
    "        for i in range(n):\n",
    "            coordinates.append((uniform(-1, 1), uniform(-1, 1)))\n",
    "        \n",
    "        count = 0\n",
    "        for coordinate in coordinates:\n",
    "            if sqrt(coordinate[0]**2 + coordinate[1]**2) <= 1:\n",
    "                count += 1\n",
    "        frac = count/n\n",
    "        return count, frac, frac*4\n",
    "    for i in n:\n",
    "        count, frac, frac2 = generator(i)\n",
    "        print(count, frac, frac2)\n",
    "\n",
    "\n",
    "\n",
    "yes([100, 1000, 10000, 100000, 10000000])"
   ]
  },
  {
   "attachments": {},
   "cell_type": "markdown",
   "metadata": {
    "id": "03VoL0l33iE6"
   },
   "source": [
    "## <font color = white> Task 3 - Vector Operations\n",
    "\n",
    "A 3-dimensional vector can be written as $\\left(\\begin{array}{c}\n",
    "a_{1}\\\\\n",
    "a_{2}\\\\\n",
    "a_{3}\n",
    "\\end{array}\\right)$, where $a_1,a_2,a_3 \\in \\mathbb{R}$.\n",
    "\n",
    "The following operations between 3-dimensional vectors are defined as such:\n",
    "- addition $+$, which operates between 2 vectors and returns a vector, $\\left(\\begin{array}{c}\n",
    "a_{1}\\\\\n",
    "a_{2}\\\\\n",
    "a_{3}\n",
    "\\end{array}\\right)+\\left(\\begin{array}{c}\n",
    "b_{1}\\\\\n",
    "b_{2}\\\\\n",
    "b_{3}\n",
    "\\end{array}\\right)=\\left(\\begin{array}{c}\n",
    "a_{1}+b_{1}\\\\\n",
    "a_{2}+b_{2}\\\\\n",
    "a_{3}+b_{3}\n",
    "\\end{array}\\right)$,\n",
    "- dot product $\\cdot$, which operates between 2 vectors and returns a real number, $\\left(\\begin{array}{c}\n",
    "a_{1}\\\\\n",
    "a_{2}\\\\\n",
    "a_{3}\n",
    "\\end{array}\\right)\\cdot\\left(\\begin{array}{c}\n",
    "b_{1}\\\\\n",
    "b_{2}\\\\\n",
    "b_{3}\n",
    "\\end{array}\\right)=a_{1}b_{1}+a_{2}b_{2}+a_{3}b_{3}$,\n",
    "- cross product $\\times$, which operates between 2 vectors and returns yet another vector, $\\left(\\begin{array}{c}\n",
    "a_{1}\\\\\n",
    "a_{2}\\\\\n",
    "a_{3}\n",
    "\\end{array}\\right)\\times\\left(\\begin{array}{c}\n",
    "b_{1}\\\\\n",
    "b_{2}\\\\\n",
    "b_{3}\n",
    "\\end{array}\\right)=\\left(\\begin{array}{c}\n",
    "a_{2}b_{3}-a_{3}b_{2}\\\\\n",
    "-\\left(a_{1}b_{3}-a_{3}b_{1}\\right)\\\\\n",
    "a_{1}b_{2}-a_{2}b_{1}\n",
    "\\end{array}\\right)$.\n",
    "\n",
    "Write a program that:\n",
    "- Ask user to input 6 float values `x1`, `y1`, `z1`, `x2`, `y2`, `z2`\n",
    "- Stores the 6 values above in a list called `vectors` that contained the tuples `(x1,y1,z1)` and `(x2,y2,z2)`. We will use each of these tuples to represent a 3-dimensional vector.\n",
    "- Print out the list `vectors`.\n",
    "- Implement the 3 vector operations defined above and print out the result. Refer to the example interaction below for the format."
   ]
  },
  {
   "cell_type": "code",
   "execution_count": 24,
   "metadata": {
    "id": "AHeECXUZ3iE7"
   },
   "outputs": [
    {
     "name": "stdout",
     "output_type": "stream",
     "text": [
      "list of vectors: [(1, 2, 3), (4, 5, 6)]\n",
      "Addition of the vectors: (5, 7, 9)\n",
      "Dot product of the vectors: 32 \n",
      "Cross product of the vectors: (-3, 6, -3)\n"
     ]
    },
    {
     "ename": "",
     "evalue": "",
     "output_type": "error",
     "traceback": [
      "\u001b[1;31mThe Kernel crashed while executing code in the the current cell or a previous cell. Please review the code in the cell(s) to identify a possible cause of the failure. Click <a href='https://aka.ms/vscodeJupyterKernelCrash'>here</a> for more info. View Jupyter <a href='command:jupyter.viewOutput'>log</a> for further details."
     ]
    }
   ],
   "source": [
    "#YOUR CODE HERE\n",
    "class _3D_vectors:\n",
    "    def __init__(self) -> None:\n",
    "        x1, y1, z1, x2, y2, z2 = input('Please input 6 float values for a 1x3 matrix in the format (x1 y1 z2 x2 y2 z2): ').split(' ')\n",
    "        self.vector1 = (int(x1), int(y1), int(z1))\n",
    "        self.vector2 = (int(x2), int(y2), int(z2))\n",
    "        self.vectorss = [self.vector1, self.vector2]\n",
    "        print(f'list of vectors: {self.vectorss}')\n",
    "        \n",
    "    \n",
    "    def addition(self):\n",
    "        vector = []\n",
    "        for i in range(len(self.vector1)):\n",
    "            net = self.vector1[i] + self.vector2[i]\n",
    "            vector.append(net)\n",
    "        vector = tuple(vector)\n",
    "        return vector\n",
    "    def dot_product(self):\n",
    "        product = 0\n",
    "        for i in range(len(self.vector1)):\n",
    "            product += self.vector1[i] * self.vector2[i]\n",
    "        return product\n",
    "    def cross_product(self):\n",
    "        x1 = 0\n",
    "        x2 = 0\n",
    "        x3 = 0\n",
    "        x1 += self.vector1[1] * self.vector2[2] - self.vector1[2] * self.vector2[1]\n",
    "        x2 += self.vector1[2]  * self.vector2[0] - self.vector1[0] * self.vector2[2]\n",
    "        x3 += self.vector1[0] * self.vector2[1] - self.vector1[1] * self.vector2[0]\n",
    "        return (x1, x2, x3)\n",
    "\n",
    "\n",
    "vectors = _3D_vectors()\n",
    "print(f\"\"\"Addition of the vectors: {vectors.addition()}\n",
    "Dot product of the vectors: {vectors.dot_product()} \n",
    "Cross product of the vectors: {vectors.cross_product()}\"\"\")\n"
   ]
  }
 ],
 "metadata": {
  "colab": {
   "provenance": []
  },
  "kernelspec": {
   "display_name": "Python 3",
   "language": "python",
   "name": "python3"
  },
  "language_info": {
   "codemirror_mode": {
    "name": "ipython",
    "version": 3
   },
   "file_extension": ".py",
   "mimetype": "text/x-python",
   "name": "python",
   "nbconvert_exporter": "python",
   "pygments_lexer": "ipython3",
   "version": "3.6.13"
  },
  "vscode": {
   "interpreter": {
    "hash": "a42ccb73e7d9bfdf27e036f1d2b8b681e55fc0743cc5586bc2474d4a60f4b886"
   }
  }
 },
 "nbformat": 4,
 "nbformat_minor": 1
}
