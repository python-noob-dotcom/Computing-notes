{
 "cells": [
  {
   "cell_type": "code",
   "execution_count": 1,
   "metadata": {},
   "outputs": [],
   "source": [
    "import datetime\n",
    "\n",
    "class Student:\n",
    "    def __init__(self, name, gender, date_of_birth):\n",
    "        self.__name = name\n",
    "        self.__gender = gender\n",
    "        self.__dob = date_of_birth\n",
    "\n",
    "    def get_name(self):\n",
    "        return self.__name\n",
    "    \n",
    "    def get_gender(self):\n",
    "        return self.__gender\n",
    "\n",
    "    def get_dob(self):\n",
    "        return self.__dob\n",
    "    \n",
    "    def get_age(self):\n",
    "        return datetime.datetime.now().year - int(self.__dob[:4])"
   ]
  },
  {
   "cell_type": "code",
   "execution_count": 39,
   "metadata": {},
   "outputs": [],
   "source": [
    "import re\n",
    "\n",
    "class JuniorHigh(Student):\n",
    "    def __init__(self, name, gender, dob):\n",
    "        super().__init__(name, gender, dob)\n",
    "\n",
    "    def get_zoom_name(self):\n",
    "        name = re.sub(r\"[^a-zA-z]\", '', self.get_name())\n",
    "        return '[JH]' + name.replace(' ', '') + str(self.get_age())\n",
    "    \n",
    "class SeniorHigh(Student):\n",
    "    def __init__(self, name, gender, dob, house):\n",
    "        super().__init__(name, gender, dob)\n",
    "        self.__house = house\n",
    "\n",
    "    def get_zoom_name(self):\n",
    "        name = re.sub(r\"[^a-zA-z]\", '', self.get_name())\n",
    "        return '[SH]' + name.replace(' ', '') + str(self.get_age())\n",
    "    "
   ]
  },
  {
   "cell_type": "code",
   "execution_count": 40,
   "metadata": {},
   "outputs": [
    {
     "name": "stdout",
     "output_type": "stream",
     "text": [
      "[JH]PhoonYongChang14\n",
      "[JH]ShenSiYing15\n",
      "[JH]GohZiRui15\n",
      "[JH]PoonZiRui15\n",
      "[JH]HaoYiMin15\n",
      "[JH]LawDeMing16\n",
      "[JH]ChooSiYing16\n",
      "[JH]YeungYongRui17\n",
      "[JH]OonJiaYu17\n",
      "[JH]FangJiaSheng17\n",
      "[SH]EngJunCheng18\n",
      "[SH]ChuaJunMing19\n",
      "[SH]LiKaiFeng19\n",
      "[SH]TeeXinLing19\n",
      "[SH]ChuaJunMing19\n"
     ]
    }
   ],
   "source": [
    "import csv\n",
    "\n",
    "with open('STUDENTS.csv') as f:\n",
    "    reader = csv.reader(f)\n",
    "    student_list = []\n",
    "    for record in reader:\n",
    "        if len(record) > 3:\n",
    "            student_list += [SeniorHigh(record[0], record[1], record[2], record[3])]\n",
    "        else:\n",
    "            student_list += [JuniorHigh(record[0], record[1], record[2])]\n",
    "\n",
    "student_list.sort(key = lambda x: x.get_age())\n",
    "for student in student_list:\n",
    "    print(student.get_zoom_name())"
   ]
  }
 ],
 "metadata": {
  "kernelspec": {
   "display_name": "computing",
   "language": "python",
   "name": "python3"
  },
  "language_info": {
   "codemirror_mode": {
    "name": "ipython",
    "version": 3
   },
   "file_extension": ".py",
   "mimetype": "text/x-python",
   "name": "python",
   "nbconvert_exporter": "python",
   "pygments_lexer": "ipython3",
   "version": "3.6.13"
  }
 },
 "nbformat": 4,
 "nbformat_minor": 2
}
