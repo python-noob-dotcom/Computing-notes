{
 "cells": [
  {
   "cell_type": "markdown",
   "metadata": {},
   "source": [
    "# Socket Programming in Python\n",
    "\n",
    "## Introduction\n",
    "Socket programming is a way of connecting two nodes on a network to communicate with each other. One socket (node) listens on a particular port at an IP, while the other socket reaches out to the other to form a connection. Server forms the listener socket while the client reaches out to the server.\n",
    "\n",
    "## Example server code\n",
    "\n",
    "```python\n",
    "import socket\n",
    "\n",
    "# Create a socket object\n",
    "my_socket = socket.socket()\n",
    "\n",
    "# Bind the socket to an address and port\n",
    "my_socket.bind(('127.0.0.1', 12345))  # this is a tuple consisting of the IP address string and the port number\n",
    "\n",
    "# Put the socket into listening mode\n",
    "my_socket.listen()  # after binding, start listening so that you can take in connections\n",
    "\n",
    "# Accept a connection\n",
    "new_socket, addr = my_socket.accept()\n",
    "print(f'Connected to {str(addr)}')\n",
    "\n",
    "# Send data to the client\n",
    "new_socket.sendall(b'Hello from server\\n')  # b'' is converting string to raw bytes"
   ]
  },
  {
   "cell_type": "markdown",
   "metadata": {},
   "source": [
    "# Client side example\n",
    "\n",
    "```python\n",
    "\n",
    "import socket\n",
    "\n",
    "# Create a socket object\n",
    "server_socket = socket.socket(socket.AF_INET, socket.SOCK_STREAM)\n",
    "\n",
    "# Bind the socket to an address and port\n",
    "server_socket.bind(('localhost', 8080))\n",
    "\n",
    "# Listen for incoming connections\n",
    "server_socket.listen(5)\n",
    "print(\"Server is listening on port 8080...\")\n",
    "\n",
    "# Accept a connection\n",
    "client_socket, client_address = server_socket.accept()\n",
    "print(f\"Connection from {client_address} has been established.\")\n",
    "\n",
    "# Send data to the client\n",
    "client_socket.send(b\"Hello, Client!\")\n",
    "\n",
    "# Receive data from the client\n",
    "data = client_socket.recv(1024)\n",
    "print(f\"Received data from client: {data.decode('utf-8')}\")\n",
    "\n",
    "# Set socket options\n",
    "server_socket.setsockopt(socket.SOL_SOCKET, socket.SO_REUSEADDR, 1)\n",
    "\n",
    "# Get socket options\n",
    "reuse_addr = server_socket.getsockopt(socket.SOL_SOCKET, socket.SO_REUSEADDR)\n",
    "print(f\"SO_REUSEADDR is set to: {reuse_addr}\")\n",
    "\n",
    "# Set a timeout on blocking socket operations\n",
    "server_socket.settimeout(10.0)\n",
    "\n",
    "# Get the timeout value\n",
    "timeout = server_socket.gettimeout()\n",
    "print(f\"Socket timeout is set to: {timeout} seconds\")\n",
    "\n",
    "# Shutdown the connection\n",
    "client_socket.shutdown(socket.SHUT_RDWR)\n",
    "\n",
    "# Close the sockets\n",
    "client_socket.close()\n",
    "server_socket.close()\n",
    "```"
   ]
  },
  {
   "cell_type": "code",
   "execution_count": null,
   "metadata": {},
   "outputs": [],
   "source": [
    "import socket"
   ]
  },
  {
   "cell_type": "markdown",
   "metadata": {},
   "source": [
    "# Socket Programming Methods in Python\n",
    "\n",
    "| Method                  | Description                                                                 |\n",
    "|-------------------------|-----------------------------------------------------------------------------|\n",
    "| `socket()`              | Creates a new socket object.                                                |\n",
    "| `bind(address)`         | Binds the socket to an address (host, port).                                |\n",
    "| `listen(backlog)`       | Enables the server to accept connections. `backlog` specifies the number of unaccepted connections that the system will allow before refusing new connections. |\n",
    "| `accept()`              | Accepts a connection. The socket must be bound to an address and listening for connections. Returns a new socket object and the address of the client. |\n",
    "| `connect(address)`      | Connects the socket to a remote address.                                    |\n",
    "| `send(bytes)`           | Sends data to the socket.                                                   |\n",
    "| `recv(bufsize)`         | Receives data from the socket. `bufsize` specifies the maximum amount of data to be received at once. |\n",
    "| `close()`               | Closes the socket.                                                          |\n",
    "| `setsockopt(level, optname, value)` | Sets the value of the given socket option.                       |\n",
    "| `getsockopt(level, optname, buflen)` | Returns the value of the given socket option.                  |\n",
    "| `settimeout(value)`     | Sets a timeout on blocking socket operations.                               |\n",
    "| `gettimeout()`          | Returns the timeout in seconds (float) associated with socket operations.   |\n",
    "| `shutdown(how)`         | Shuts down the reading, writing, or both halves of the connection. `how` can be `SHUT_RD`, `SHUT_WR`, or `SHUT_RDWR`. |"
   ]
  }
 ],
 "metadata": {
  "language_info": {
   "name": "python"
  }
 },
 "nbformat": 4,
 "nbformat_minor": 2
}
