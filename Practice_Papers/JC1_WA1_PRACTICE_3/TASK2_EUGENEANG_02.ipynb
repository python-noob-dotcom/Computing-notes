{
 "cells": [
  {
   "cell_type": "code",
   "execution_count": 21,
   "metadata": {},
   "outputs": [
    {
     "data": {
      "text/plain": [
       "'banana'"
      ]
     },
     "execution_count": 21,
     "metadata": {},
     "output_type": "execute_result"
    }
   ],
   "source": [
    "# Task 2.1\n",
    "\n",
    "def generate_word():\n",
    "    import random\n",
    "    words = ['apple', 'pear', 'banana', 'Minion', 'OMG']\n",
    "    return random.choice(words)\n",
    "\n",
    "\n",
    "generate_word()"
   ]
  },
  {
   "cell_type": "code",
   "execution_count": 20,
   "metadata": {},
   "outputs": [],
   "source": [
    "# Task 2.2\n",
    "def letter_guess(word, letterList, letter):\n",
    "    letterList.append(letter)\n",
    "    print(letterList)\n",
    "    guessedWord = ['_' for i in range(len(word))]\n",
    "    guessedWord_ = ''\n",
    "    word2 = list(word)\n",
    "    count = 0\n",
    "    for letter_ in letterList:\n",
    "        for char in word2:\n",
    "            if letter_ == char:\n",
    "                guessedWord[word2.index(char) + count] = letter_\n",
    "                word2.pop(word2.index(char))\n",
    "                count += 1\n",
    "    for char in guessedWord:\n",
    "        guessedWord_ += char\n",
    "    print(guessedWord_)                \n",
    "    return guessedWord_, letterList"
   ]
  },
  {
   "cell_type": "code",
   "execution_count": 22,
   "metadata": {},
   "outputs": [
    {
     "name": "stdout",
     "output_type": "stream",
     "text": [
      "pear\n",
      "The word has 4 letters\n",
      "['p']\n",
      "p___\n",
      "['p', 'a']\n",
      "p_a_\n",
      "['p', 'a', 'e']\n",
      "p_e_\n",
      "['p', 'a', 'e', 'r']\n",
      "p_er\n",
      "['p', 'a', 'e', 'r', 'p']\n",
      "p_er\n",
      "['p', 'a', 'e', 'r', 'p', 'e']\n",
      "p_er\n",
      "['p', 'a', 'e', 'r', 'p', 'e', 'a']\n",
      "p_er\n",
      "['p', 'a', 'e', 'r', 'p', 'e', 'a', 'r']\n",
      "p_er\n",
      "Incorrect! Try again\n",
      "['p', 'a', 'e', 'r', 'p', 'e', 'a', 'r', 'p']\n",
      "p_er\n",
      "['p', 'a', 'e', 'r', 'p', 'e', 'a', 'r', 'p', 'e']\n",
      "p_er\n"
     ]
    }
   ],
   "source": [
    "# Task 2.3\n",
    "\n",
    "word = generate_word()\n",
    "print(word)\n",
    "print(f'The word has {len(word)} letters')\n",
    "guess = input('Input your guess: ')\n",
    "\n",
    "letterList = []\n",
    "guessedWord = ''\n",
    "\n",
    "count = 0\n",
    "\n",
    "while count <= 6:\n",
    "    if len(guess) == 1:\n",
    "        guessedWord, letterList = letter_guess(word, letterList, guess)\n",
    "    elif len(guess) != 2:\n",
    "        for char in guess:\n",
    "            guessedWord, letterList = letter_guess(word, letterList, char)\n",
    "        if guessedWord != word:\n",
    "            print('Incorrect! Try again')\n",
    "    guess = input('Input the next guess: ')\n",
    "\n",
    "    count += 1\n",
    "\n",
    "# print(f\"Correct! The word is: '{word}'. Number of Tries: {count}\")"
   ]
  },
  {
   "cell_type": "code",
   "execution_count": 19,
   "metadata": {},
   "outputs": [
    {
     "data": {
      "text/plain": [
       "['__add__',\n",
       " '__class__',\n",
       " '__contains__',\n",
       " '__delattr__',\n",
       " '__delitem__',\n",
       " '__dir__',\n",
       " '__doc__',\n",
       " '__eq__',\n",
       " '__format__',\n",
       " '__ge__',\n",
       " '__getattribute__',\n",
       " '__getitem__',\n",
       " '__gt__',\n",
       " '__hash__',\n",
       " '__iadd__',\n",
       " '__imul__',\n",
       " '__init__',\n",
       " '__init_subclass__',\n",
       " '__iter__',\n",
       " '__le__',\n",
       " '__len__',\n",
       " '__lt__',\n",
       " '__mul__',\n",
       " '__ne__',\n",
       " '__new__',\n",
       " '__reduce__',\n",
       " '__reduce_ex__',\n",
       " '__repr__',\n",
       " '__reversed__',\n",
       " '__rmul__',\n",
       " '__setattr__',\n",
       " '__setitem__',\n",
       " '__sizeof__',\n",
       " '__str__',\n",
       " '__subclasshook__',\n",
       " 'append',\n",
       " 'clear',\n",
       " 'copy',\n",
       " 'count',\n",
       " 'extend',\n",
       " 'index',\n",
       " 'insert',\n",
       " 'pop',\n",
       " 'remove',\n",
       " 'reverse',\n",
       " 'sort']"
      ]
     },
     "execution_count": 19,
     "metadata": {},
     "output_type": "execute_result"
    }
   ],
   "source": [
    "a = []\n",
    "dir(a)"
   ]
  }
 ],
 "metadata": {
  "kernelspec": {
   "display_name": "computing",
   "language": "python",
   "name": "python3"
  },
  "language_info": {
   "codemirror_mode": {
    "name": "ipython",
    "version": 3
   },
   "file_extension": ".py",
   "mimetype": "text/x-python",
   "name": "python",
   "nbconvert_exporter": "python",
   "pygments_lexer": "ipython3",
   "version": "3.6.13"
  },
  "orig_nbformat": 4
 },
 "nbformat": 4,
 "nbformat_minor": 2
}
