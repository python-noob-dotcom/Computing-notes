{
 "cells": [
  {
   "cell_type": "markdown",
   "metadata": {},
   "source": [
    "A: CheckDigit <- CALL CalCheckDigit()\n",
    "B: RETURN 'X'\n",
    "C: "
   ]
  },
  {
   "cell_type": "code",
   "execution_count": null,
   "metadata": {},
   "outputs": [],
   "source": [
    "def CalcCheckDigit(isbn):\n",
    "    sum = 00\n",
    "\n",
    "    if len(isbn) > 1:\n",
    "        digit = int(isbn[0])\n",
    "        sum += digit * len(isbn) + 1\n",
    "        new_isbn = isbn[1:]\n",
    "        return "
   ]
  }
 ],
 "metadata": {
  "language_info": {
   "name": "python"
  }
 },
 "nbformat": 4,
 "nbformat_minor": 2
}
