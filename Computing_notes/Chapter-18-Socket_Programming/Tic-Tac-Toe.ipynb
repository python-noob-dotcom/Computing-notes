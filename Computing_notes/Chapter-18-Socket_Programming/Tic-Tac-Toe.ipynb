{
 "cells": [
  {
   "cell_type": "code",
   "execution_count": 1,
   "metadata": {},
   "outputs": [],
   "source": [
    "N = 3                       # Size of grid\n",
    "WIDTH = len(str(N ** 2))    # Width for each cell\n",
    "PLAYERS = ('O', 'X')        # Player symbols\n",
    "\n",
    "class TicTacToe:\n",
    "\n",
    "    def __init__(self):\n",
    "        self.board = []\n",
    "        for i in range(N):\n",
    "            self.board.append([None] * N)\n",
    "\n",
    "    def render_row(self, row_index):\n",
    "        start = row_index * N + 1\n",
    "        row = self.board[row_index].copy()\n",
    "        for column_index in range(N):\n",
    "            if row[column_index] is None:\n",
    "                cell = str(start + column_index)\n",
    "            else:\n",
    "                cell = PLAYERS[row[column_index]]\n",
    "            if len(cell) < WIDTH:\n",
    "                cell += ' ' * (WIDTH - len(cell))\n",
    "            row[column_index] = ' ' + cell + ' '\n",
    "        return '|'.join(row) + '\\n'\n",
    "\n",
    "    def render_board(self):\n",
    "        rows = []\n",
    "        for row_index in range(N):\n",
    "            rows.append(self.render_row(row_index))\n",
    "        divider = '-' * ((WIDTH + 3) * N - 1) + '\\n'\n",
    "        return divider.join(rows)\n",
    "\n",
    "    def make_move(self, player_index, cell_index):\n",
    "        cell_index -= 1\n",
    "        self.board[cell_index // N][\n",
    "            cell_index % N] = player_index\n",
    "\n",
    "    def is_valid_move(self, cell_index):\n",
    "        if cell_index < 1 or cell_index > N ** 2:\n",
    "            return False\n",
    "        cell_index -= 1\n",
    "        return self.board[cell_index // N][\n",
    "            cell_index % N] is None\n",
    "\n",
    "    def is_full(self):\n",
    "        for row_index in range(N):\n",
    "            for column_index in range(N):\n",
    "                if self.board[row_index][\n",
    "                        column_index] is None:\n",
    "                    return False\n",
    "        return True\n",
    "\n",
    "    def get_winner(self):\n",
    "        # Check diagonals\n",
    "        if self.board[0][0] is not None:\n",
    "            found = True\n",
    "            for i in range(N):\n",
    "                if self.board[0][0] != self.board[i][i]:\n",
    "                    found = False\n",
    "                    break\n",
    "            if found:\n",
    "                return self.board[0][0]\n",
    "        if self.board[0][N - 1] is not None:\n",
    "            found = True\n",
    "            for i in range(N):\n",
    "                if self.board[0][N - 1] != self.board[i][\n",
    "                        N - i - 1]:\n",
    "                    found = False\n",
    "                    break\n",
    "            if found:\n",
    "                return self.board[0][N - 1]\n",
    "\n",
    "        # Check rows and columns\n",
    "        for i in range(N):\n",
    "            if self.board[i][0] is not None:\n",
    "                found = True\n",
    "                for j in range(N):\n",
    "                    if self.board[i][0] != self.board[i][j]:\n",
    "                        found = False\n",
    "                        break\n",
    "                if found:\n",
    "                    return self.board[i][0]\n",
    "            if self.board[0][i] is not None:\n",
    "                found = True\n",
    "                for j in range(N):\n",
    "                    if self.board[0][i] != self.board[j][i]:\n",
    "                        found = False\n",
    "                        break\n",
    "                if found:\n",
    "                    return self.board[0][i]\n",
    "\n",
    "        # No matching lines were found, so no winner\n",
    "        return None\n"
   ]
  },
  {
   "cell_type": "code",
   "execution_count": 6,
   "metadata": {},
   "outputs": [
    {
     "data": {
      "text/plain": [
       "' 1 | 2 | 3 \\n-----------\\n 4 | 5 | 6 \\n-----------\\n 7 | 8 | 9 \\n'"
      ]
     },
     "execution_count": 6,
     "metadata": {},
     "output_type": "execute_result"
    }
   ],
   "source": [
    "game = TicTacToe()\n",
    "print(game.render_board())"
   ]
  },
  {
   "cell_type": "code",
   "execution_count": null,
   "metadata": {},
   "outputs": [],
   "source": [
    "# server side\n",
    "\n",
    "import socket\n",
    "\n",
    "listen_socket = socket.socket()\n",
    "listen_socket.bind(('127.0.0.1', 3456))\n",
    "listen_socket.listen()\n",
    "\n",
    "game_socket, addr = listen_socket.accept()\n",
    "game = TicTacToe()\n",
    "\n",
    "while True:\n",
    "    # Display current tic tac toe board\n",
    "    game_socket.sentall(game.render_board().encode())"
   ]
  },
  {
   "cell_type": "code",
   "execution_count": null,
   "metadata": {},
   "outputs": [],
   "source": [
    "# client side\n",
    "\n",
    "import socket\n",
    "\n",
    "game_socket = socket.socket()\n",
    "game_socket.connect(('127.0.0.1', 3456))\n",
    "\n"
   ]
  }
 ],
 "metadata": {
  "kernelspec": {
   "display_name": "Python 3",
   "language": "python",
   "name": "python3"
  },
  "language_info": {
   "codemirror_mode": {
    "name": "ipython",
    "version": 3
   },
   "file_extension": ".py",
   "mimetype": "text/x-python",
   "name": "python",
   "nbconvert_exporter": "python",
   "pygments_lexer": "ipython3",
   "version": "3.6.4"
  }
 },
 "nbformat": 4,
 "nbformat_minor": 2
}
