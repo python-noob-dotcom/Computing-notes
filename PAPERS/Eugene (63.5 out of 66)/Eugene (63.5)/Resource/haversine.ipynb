{
 "cells": [
  {
   "cell_type": "markdown",
   "metadata": {},
   "source": [
    "<font color=blue>The following function implements the Haversine formula. You will need to know how to use the function to determine the distance between two locations.<br><br><b><u>Instructions for use</u></b><br><br>Copy and past the cell containing the Haversine function into your Jupyter Notebook for Task 3. <br><br>Run the function before proceeding to use it.</font>\n",
    "\n"
   ]
  },
  {
   "cell_type": "code",
   "execution_count": 1,
   "metadata": {},
   "outputs": [],
   "source": [
    "from math import *\n",
    "\n",
    "def Haversine(coord1,coord2):\n",
    "    \n",
    "    '''For calculating the distance between 2 points'''\n",
    "\n",
    "    long1, lat1 = coord1\n",
    "    long2, lat2 = coord2\n",
    "\n",
    "    R = 6371000                               # radius of Earth in meters\n",
    "    phi_1 = radians(lat1)\n",
    "    phi_2 = radians(lat2)\n",
    "\n",
    "    delta_phi = radians(lat2-lat1)\n",
    "    delta_lambda = radians(long2-long1)\n",
    "\n",
    "    a = sin(delta_phi/2.0)**2 + cos(phi_1) * cos(phi_2) * sin(delta_lambda/2.0)**2\n",
    "    c = 2 * atan2(sqrt(a), sqrt(1-a))\n",
    "\n",
    "    return R * c/1000.0"
   ]
  },
  {
   "cell_type": "code",
   "execution_count": 2,
   "metadata": {},
   "outputs": [
    {
     "data": {
      "text/plain": [
       "1.9424884884648699"
      ]
     },
     "execution_count": 2,
     "metadata": {},
     "output_type": "execute_result"
    }
   ],
   "source": [
    "# Test case\n",
    "pt1 = [103.7423112,1.33315262] # Longitude of pt1 , Latitude of pt2\n",
    "pt2 = [103.74959,1.349034109] # Longitude of pt2, Latitude of pt2\n",
    "\n",
    "Haversine(pt1, pt2)"
   ]
  }
 ],
 "metadata": {
  "kernelspec": {
   "display_name": "Python 3",
   "language": "python",
   "name": "python3"
  },
  "language_info": {
   "codemirror_mode": {
    "name": "ipython",
    "version": 3
   },
   "file_extension": ".py",
   "mimetype": "text/x-python",
   "name": "python",
   "nbconvert_exporter": "python",
   "pygments_lexer": "ipython3",
   "version": "3.6.4"
  }
 },
 "nbformat": 4,
 "nbformat_minor": 2
}
