{
 "cells": [
  {
   "cell_type": "code",
   "execution_count": 3,
   "metadata": {},
   "outputs": [
    {
     "data": {
      "text/plain": [
       "'OMG'"
      ]
     },
     "execution_count": 3,
     "metadata": {},
     "output_type": "execute_result"
    }
   ],
   "source": [
    "# Task 2.1\n",
    "\n",
    "def generate_word():\n",
    "    import random\n",
    "    words = ['apple', 'pear', 'banana', 'Minion', 'OMG']\n",
    "    return random.choice(words).upper()\n",
    "\n",
    "\n",
    "generate_word()"
   ]
  },
  {
   "cell_type": "code",
   "execution_count": 2,
   "metadata": {},
   "outputs": [],
   "source": [
    "# Task 2.2\n",
    "def letter_guess(word, letterList, letter):\n",
    "    guessed_word = [\"_\" for i in range(len(word))]\n",
    "    letterList.append(letter.upper())\n",
    "\n",
    "    for letter in letterList:\n",
    "        for index, char in enumerate(word):\n",
    "            if letter == char:\n",
    "                guessed_word[index] = char\n",
    "                \n",
    "    if letter not in word:\n",
    "        print(f'Sorry the word does not contain the letter {letter}')\n",
    "\n",
    "    guessedWord = ''\n",
    "    for char in guessed_word:\n",
    "        guessedWord += char\n",
    "    \n",
    "    return guessedWord, letterList"
   ]
  },
  {
   "cell_type": "code",
   "execution_count": 4,
   "metadata": {},
   "outputs": [
    {
     "name": "stdout",
     "output_type": "stream",
     "text": [
      "PEAR\n",
      "The word has 4 letters\n",
      "Correct! The word is: 'PEAR'. Number of Tries: 4\n"
     ]
    }
   ],
   "source": [
    "# Task 2.3\n",
    "\n",
    "# Main code\n",
    "word = generate_word()\n",
    "print(word)\n",
    "print(f'The word has {len(word)} letters')\n",
    "letterList = []\n",
    "guessedWord = ''\n",
    "\n",
    "count = 0\n",
    "\n",
    "while guessedWord != word:\n",
    "    guess = input('Input your guess: ').upper()\n",
    "    if guess not in letterList:\n",
    "        pass\n",
    "    else:\n",
    "        guess = input('You have already guessed that alphabet, guess another: ')\n",
    "\n",
    "# /////////////////////////////////////////////////////////////////////////////\n",
    "    if len(guess) == 1:\n",
    "        guessedWord, letterList = letter_guess(word, letterList, guess)\n",
    "    elif len(guess) != 2:\n",
    "        for char in guess:\n",
    "            guessedWord, letterList = letter_guess(word, letterList, char)\n",
    "        if guessedWord != word:\n",
    "            print('Incorrect! Try again')\n",
    "    \n",
    "\n",
    "    count += 1\n",
    "\n",
    "print(f\"Correct! The word is: '{word}'. Number of Tries: {count}\")"
   ]
  }
 ],
 "metadata": {
  "kernelspec": {
   "display_name": "computing",
   "language": "python",
   "name": "python3"
  },
  "language_info": {
   "codemirror_mode": {
    "name": "ipython",
    "version": 3
   },
   "file_extension": ".py",
   "mimetype": "text/x-python",
   "name": "python",
   "nbconvert_exporter": "python",
   "pygments_lexer": "ipython3",
   "version": "3.6.4"
  },
  "orig_nbformat": 4
 },
 "nbformat": 4,
 "nbformat_minor": 2
}
