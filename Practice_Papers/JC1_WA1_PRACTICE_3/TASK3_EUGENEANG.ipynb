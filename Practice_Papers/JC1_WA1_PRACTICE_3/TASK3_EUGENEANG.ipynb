{
 "cells": [
  {
   "cell_type": "code",
   "execution_count": 5,
   "metadata": {},
   "outputs": [
    {
     "name": "stdout",
     "output_type": "stream",
     "text": [
      "['2017-08-23', '03:38', 'HIGH', '7.4']\n",
      "['2017-08-22', '22:11', 'LOW', '0.1']\n"
     ]
    }
   ],
   "source": [
    "# Task 3.1\n",
    "data = []\n",
    "with open('TIDES.txt', 'r') as f:\n",
    "    for line in f:\n",
    "        data.append(line.strip().split('\\t'))\n",
    "\n",
    "high_data = []\n",
    "low_data = []\n",
    "for line in data:\n",
    "    if line[2] == 'LOW':\n",
    "        low_data.append(line)\n",
    "    elif line[2] == 'HIGH':\n",
    "        high_data.append(line)\n",
    "high_data.sort(key= lambda x: float(x[3]), reverse=True)\n",
    "low_data.sort(key= lambda x: float(x[3]))\n",
    "\n",
    "print(high_data[0])\n",
    "print(low_data[0])"
   ]
  },
  {
   "cell_type": "code",
   "execution_count": null,
   "metadata": {},
   "outputs": [],
   "source": [
    "# Task 3.2\n",
    "\n",
    "tide_differences = []\n",
    "for line in data:\n",
    "    tide_differences.append(lambda x: )"
   ]
  }
 ],
 "metadata": {
  "kernelspec": {
   "display_name": "computing",
   "language": "python",
   "name": "python3"
  },
  "language_info": {
   "codemirror_mode": {
    "name": "ipython",
    "version": 3
   },
   "file_extension": ".py",
   "mimetype": "text/x-python",
   "name": "python",
   "nbconvert_exporter": "python",
   "pygments_lexer": "ipython3",
   "version": "3.6.13"
  },
  "orig_nbformat": 4
 },
 "nbformat": 4,
 "nbformat_minor": 2
}
