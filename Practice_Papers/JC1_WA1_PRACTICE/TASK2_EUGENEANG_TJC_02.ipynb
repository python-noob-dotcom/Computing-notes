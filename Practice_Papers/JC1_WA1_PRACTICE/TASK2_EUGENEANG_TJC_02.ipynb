{
 "cells": [
  {
   "cell_type": "code",
   "execution_count": 2,
   "metadata": {},
   "outputs": [],
   "source": [
    "# Task 2.1\n",
    "suits = ['c', 'd', 'h', 's']\n",
    "cards_1 = ['J', 'Q', 'K', 'A']\n",
    "\n"
   ]
  },
  {
   "cell_type": "code",
   "execution_count": 3,
   "metadata": {},
   "outputs": [],
   "source": [
    "# Task 2.2\n",
    "cards_2 = [str(i) for i in range(2, 11)]"
   ]
  },
  {
   "cell_type": "code",
   "execution_count": 12,
   "metadata": {},
   "outputs": [
    {
     "name": "stdout",
     "output_type": "stream",
     "text": [
      "['cJ', 'cQ', 'cK', 'cA', 'c2', 'c3', 'c4', 'c5', 'c6', 'c7', 'c8', 'c9', 'c10', 'dJ', 'dQ', 'dK', 'dA', 'd2', 'd3', 'd4', 'd5', 'd6', 'd7', 'd8', 'd9', 'd10', 'hJ', 'hQ', 'hK', 'hA', 'h2', 'h3', 'h4', 'h5', 'h6', 'h7', 'h8', 'h9', 'h10', 'sJ', 'sQ', 'sK', 'sA', 's2', 's3', 's4', 's5', 's6', 's7', 's8', 's9', 's10']\n"
     ]
    }
   ],
   "source": [
    "# Task 2.3\n",
    "deck = []\n",
    "for suit in suits:\n",
    "    for card in cards_1:\n",
    "        deck.append(suit + card)\n",
    "    for card_2 in cards_2:\n",
    "        deck.append(suit + card_2)\n",
    "\n",
    "print(deck)\n"
   ]
  },
  {
   "cell_type": "code",
   "execution_count": 15,
   "metadata": {},
   "outputs": [
    {
     "data": {
      "text/plain": [
       "['__add__',\n",
       " '__class__',\n",
       " '__contains__',\n",
       " '__delattr__',\n",
       " '__delitem__',\n",
       " '__dir__',\n",
       " '__doc__',\n",
       " '__eq__',\n",
       " '__format__',\n",
       " '__ge__',\n",
       " '__getattribute__',\n",
       " '__getitem__',\n",
       " '__gt__',\n",
       " '__hash__',\n",
       " '__iadd__',\n",
       " '__imul__',\n",
       " '__init__',\n",
       " '__init_subclass__',\n",
       " '__iter__',\n",
       " '__le__',\n",
       " '__len__',\n",
       " '__lt__',\n",
       " '__mul__',\n",
       " '__ne__',\n",
       " '__new__',\n",
       " '__reduce__',\n",
       " '__reduce_ex__',\n",
       " '__repr__',\n",
       " '__reversed__',\n",
       " '__rmul__',\n",
       " '__setattr__',\n",
       " '__setitem__',\n",
       " '__sizeof__',\n",
       " '__str__',\n",
       " '__subclasshook__',\n",
       " 'append',\n",
       " 'clear',\n",
       " 'copy',\n",
       " 'count',\n",
       " 'extend',\n",
       " 'index',\n",
       " 'insert',\n",
       " 'pop',\n",
       " 'remove',\n",
       " 'reverse',\n",
       " 'sort']"
      ]
     },
     "execution_count": 15,
     "metadata": {},
     "output_type": "execute_result"
    }
   ],
   "source": [
    "dir(deck)"
   ]
  },
  {
   "cell_type": "code",
   "execution_count": 13,
   "metadata": {},
   "outputs": [
    {
     "name": "stdout",
     "output_type": "stream",
     "text": [
      "['cJ', 's10', 'c6', 'h10', 'h7', 'd3', 'h6', 'd8', 'h4', 'sJ', 'hA', 'c3', 'cA', 'hQ', 'hJ', 'h5', 'h8', 's5', 'cK', 'dJ', 's4', 's3', 'dQ', 's8', 'd6', 'c2', 's7', 'sK', 'h2', 'c8', 'c4', 'd9', 'sQ', 'cQ', 'dK', 'd4', 's2', 'd10', 'c5', 's6', 'c9', 'dA', 'c7', 'd5', 'd2', 'h9', 'c10', 'h3', 's9', 'd7', 'sA', 'hK']\n"
     ]
    }
   ],
   "source": [
    "# Task 2.4\n",
    "import random\n",
    "\n",
    "random.shuffle(deck)\n",
    "\n",
    "print(deck)"
   ]
  },
  {
   "cell_type": "code",
   "execution_count": null,
   "metadata": {},
   "outputs": [],
   "source": [
    "# Task 2.5\n",
    "def deal(players, shuffled_deck):\n",
    "    x, y = divmod(len(shuffled_deck), players)\n",
    "    # Step 1\n",
    "    if y != 0:\n",
    "        new_len = x * players\n",
    "    else:\n",
    "        new_len = len(shuffled_deck)\n",
    "\n",
    "    # Step 2\n",
    "    for i in range(new_len):\n",
    "        shuffled_deck.pop()\n",
    "    \n",
    "    # Step 3.1 create the dealt nested list\n",
    "    dealt = []\n",
    "    for i in range(players):\n",
    "        dealt.append([])\n",
    "    \n",
    "    # Step 3.2, 4 and 5 distribute the cards\n",
    "    import random\n",
    "    count = 0\n",
    "    while count <= new_len:\n",
    "        for i in range(players):\n",
    "            card_dealt = random.choice(shuffled_deck)\n",
    "            dealt[i].append(card_dealt)\n",
    "            shuffled_deck.remove(card_dealt)\n",
    "            count += 1\n",
    "    \n",
    "    return dealt\n",
    "    \n",
    "\n",
    "    \n",
    "\n",
    "    "
   ]
  }
 ],
 "metadata": {
  "kernelspec": {
   "display_name": "Python 3",
   "language": "python",
   "name": "python3"
  },
  "language_info": {
   "codemirror_mode": {
    "name": "ipython",
    "version": 3
   },
   "file_extension": ".py",
   "mimetype": "text/x-python",
   "name": "python",
   "nbconvert_exporter": "python",
   "pygments_lexer": "ipython3",
   "version": "3.6.4"
  },
  "orig_nbformat": 4
 },
 "nbformat": 4,
 "nbformat_minor": 2
}
