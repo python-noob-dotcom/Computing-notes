{
 "cells": [
  {
   "cell_type": "code",
   "execution_count": 4,
   "metadata": {},
   "outputs": [
    {
     "name": "stdout",
     "output_type": "stream",
     "text": [
      "30\n"
     ]
    }
   ],
   "source": [
    "def sum_even_while(num1, num2):\n",
    "    total = 0\n",
    "\n",
    "    while num1 <= num2:\n",
    "        if num1 % 2 == 0:\n",
    "            total += num1\n",
    "\n",
    "        else:\n",
    "            num1 += 1\n",
    "            total += num1\n",
    "        num1 += 2  \n",
    "\n",
    "    return total\n",
    "\n",
    "print(sum_even_while(0, 10))"
   ]
  },
  {
   "cell_type": "code",
   "execution_count": 11,
   "metadata": {},
   "outputs": [
    {
     "name": "stdout",
     "output_type": "stream",
     "text": [
      "True\n"
     ]
    }
   ],
   "source": [
    "def sum_even_r(num1, num2):\n",
    "    if num1 > num2:\n",
    "        return 0\n",
    "    \n",
    "    if num1 % 2 == 0:\n",
    "        return num1 + sum_even_r(num1 + 2, num2)\n",
    "    \n",
    "    else:\n",
    "        return num1 + 1 + sum_even_r(num1 + 3, num2)\n",
    "    \n",
    "print(sum_even_r(0, 10) == sum_even_while(0, 10))"
   ]
  },
  {
   "cell_type": "code",
   "execution_count": 13,
   "metadata": {},
   "outputs": [
    {
     "name": "stdout",
     "output_type": "stream",
     "text": [
      "29\n",
      "30\n"
     ]
    }
   ],
   "source": [
    "def sum_all(num1, num2, odd_even):\n",
    "    \"\"\"\n",
    "    takes in two non-negative integers num1 and num2 and a third integer odd_even, \n",
    "    which  takes  on  an  integer  value  of  either  0  or  1,  representing  odd  or  even \n",
    "    respectively \n",
    "    1.  computes the sum of all even or odd numbers from num1 to num2 inclusive  \n",
    "    2.  returns the result.  \n",
    "    \"\"\"\n",
    "    if num1 <= num2:\n",
    "        if odd_even == 0:\n",
    "            if num1 % 2 != 0:\n",
    "                return num1 + sum_even_r(num1 + 2, num2)\n",
    "            else:\n",
    "                return num1 + 1 + sum_even_r(num1 + 3, num2)\n",
    "        if odd_even == 1:\n",
    "            if num1 % 2 == 0:\n",
    "                return num1 + sum_even_r(num1 + 2, num2)\n",
    "            else:\n",
    "                return num1 + 1 + sum_even_r(num1 + 3, num2)\n",
    "    return 0\n",
    "\n",
    "print(sum_all(0, 10, 0))  \n",
    "print(sum_all(0, 10, 1))"
   ]
  }
 ],
 "metadata": {
  "kernelspec": {
   "display_name": "Python 3",
   "language": "python",
   "name": "python3"
  },
  "language_info": {
   "codemirror_mode": {
    "name": "ipython",
    "version": 3
   },
   "file_extension": ".py",
   "mimetype": "text/x-python",
   "name": "python",
   "nbconvert_exporter": "python",
   "pygments_lexer": "ipython3",
   "version": "3.6.4"
  },
  "orig_nbformat": 4
 },
 "nbformat": 4,
 "nbformat_minor": 2
}
