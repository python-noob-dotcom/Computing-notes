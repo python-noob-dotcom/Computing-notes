{
 "cells": [
  {
   "cell_type": "code",
   "execution_count": 27,
   "metadata": {},
   "outputs": [
    {
     "data": {
      "text/plain": [
       "[1, 2, 3]"
      ]
     },
     "execution_count": 27,
     "metadata": {},
     "output_type": "execute_result"
    }
   ],
   "source": [
    "def insertion_sort(lis):\n",
    "    for i in range(1, len(lis)):\n",
    "\n",
    "        key = lis[i]\n",
    "        j = i - 1\n",
    "\n",
    "        while j > -1 and lis[j] > lis[j + 1]:\n",
    "            lis[j + 1] , lis[j] = lis[j], lis[j + 1]\n",
    "            j -= 1\n",
    "        \n",
    "        lis[j + 1] = key\n",
    "\n",
    "    return lis\n"
   ]
  },
  {
   "cell_type": "code",
   "execution_count": 32,
   "metadata": {},
   "outputs": [],
   "source": [
    "with open('numbers.txt') as f:\n",
    "    data = []\n",
    "    for line in f:\n",
    "        data += [int(line.strip())]\n",
    "\n",
    "with open('sorted.txt', 'w') as f:\n",
    "    data = insertion_sort(data)\n",
    "\n",
    "    for char in data:\n",
    "        f.write(str(char) + '\\n')"
   ]
  },
  {
   "cell_type": "code",
   "execution_count": 37,
   "metadata": {},
   "outputs": [
    {
     "name": "stdout",
     "output_type": "stream",
     "text": [
      "8: 𓐁\n",
      "729: 𓍨𓎇𓐂\n",
      "1835: 𓆼𓍩𓎈𓏾\n",
      "4000: 𓆿\n",
      "30210: 𓂯𓍣𓎆\n",
      "60802: 𓂲𓍩𓏻\n"
     ]
    }
   ],
   "source": [
    "with open('sorted.txt', 'r') as f:\n",
    "    data = []\n",
    "    for line in f:\n",
    "        data += [int(line.strip())]\n",
    "\n",
    "def conversion(num):\n",
    "    ret = ''\n",
    "    symbols = {10000: 77997, 1000: 78268, 100: 78690, 10: 78726, 1: 78842}\n",
    "\n",
    "    for base in [10000, 1000, 100, 10, 1]:\n",
    "        quotient = num // base\n",
    "        remainder = num % base\n",
    "        if quotient > 0:\n",
    "            ret += chr(symbols[base] + quotient - 1)\n",
    "        \n",
    "        num = remainder\n",
    "\n",
    "    return ret\n",
    "\n",
    "for integer in data:\n",
    "    print(f'{integer}: {conversion(integer)}')"
   ]
  }
 ],
 "metadata": {
  "kernelspec": {
   "display_name": "computing",
   "language": "python",
   "name": "python3"
  },
  "language_info": {
   "codemirror_mode": {
    "name": "ipython",
    "version": 3
   },
   "file_extension": ".py",
   "mimetype": "text/x-python",
   "name": "python",
   "nbconvert_exporter": "python",
   "pygments_lexer": "ipython3",
   "version": "3.6.13"
  }
 },
 "nbformat": 4,
 "nbformat_minor": 2
}
