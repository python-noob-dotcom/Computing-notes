{
 "cells": [
  {
   "cell_type": "code",
   "execution_count": 2,
   "metadata": {},
   "outputs": [
    {
     "ename": "Warning",
     "evalue": "You can only execute one statement at a time.",
     "output_type": "error",
     "traceback": [
      "\u001b[1;31m---------------------------------------------------------------------------\u001b[0m",
      "\u001b[1;31mWarning\u001b[0m                                   Traceback (most recent call last)",
      "\u001b[1;32m~\\AppData\\Local\\Temp\\ipykernel_23828\\2011707258.py\u001b[0m in \u001b[0;36m<module>\u001b[1;34m\u001b[0m\n\u001b[0;32m     31\u001b[0m     \u001b[0mcursor\u001b[0m \u001b[1;33m=\u001b[0m \u001b[0mconn\u001b[0m\u001b[1;33m.\u001b[0m\u001b[0mcursor\u001b[0m\u001b[1;33m(\u001b[0m\u001b[1;33m)\u001b[0m\u001b[1;33m\u001b[0m\u001b[1;33m\u001b[0m\u001b[0m\n\u001b[0;32m     32\u001b[0m \u001b[1;33m\u001b[0m\u001b[0m\n\u001b[1;32m---> 33\u001b[1;33m     \u001b[0mcursor\u001b[0m\u001b[1;33m.\u001b[0m\u001b[0mexecute\u001b[0m\u001b[1;33m(\u001b[0m\u001b[0mquery\u001b[0m\u001b[1;33m)\u001b[0m\u001b[1;33m\u001b[0m\u001b[1;33m\u001b[0m\u001b[0m\n\u001b[0m\u001b[0;32m     34\u001b[0m \u001b[1;33m\u001b[0m\u001b[0m\n\u001b[0;32m     35\u001b[0m     \u001b[0mconn\u001b[0m\u001b[1;33m.\u001b[0m\u001b[0mcommit\u001b[0m\u001b[1;33m(\u001b[0m\u001b[1;33m)\u001b[0m\u001b[1;33m\u001b[0m\u001b[1;33m\u001b[0m\u001b[0m\n",
      "\u001b[1;31mWarning\u001b[0m: You can only execute one statement at a time."
     ]
    }
   ],
   "source": [
    "import sqlite3\n",
    "\n",
    "query = \"\"\"BEGIN TRANSACTION;\n",
    "\n",
    "CREATE TABLE IF NOT EXISTS `guardians` (\n",
    "\t`guardian_id`\tINTEGER,\n",
    "\t`guardian_name`\tTEXT,\n",
    "\t`guardian_email`\tTEXT,\n",
    "\tPRIMARY KEY(`guardian_id`)\n",
    ");\n",
    "\n",
    "CREATE TABLE IF NOT EXISTS `students` (\n",
    "\t`student_id`\tINTEGER,\n",
    "\t`stu_name`\tTEXT,\n",
    "\t`gender`\tTEXT,\n",
    "\t`primary_sch`\tINTEGER,\n",
    "\t`guardian_id`\tINTEGER,\n",
    "\tPRIMARY KEY(`student_id`),\n",
    "\tFOREIGN KEY(`guardian_id`) REFERENCES `guardians`(`guardian_id`)\n",
    ");\n",
    "\n",
    "CREATE TABLE IF NOT EXISTS `results` (\n",
    "\t`student_id`\tINTEGER,\n",
    "\t`subject`\tTEXT,\n",
    "\t`al`\tNUMERIC,\n",
    "\tPRIMARY KEY(`student_id`,`subject`),\n",
    "\tFOREIGN KEY(`student_id`) REFERENCES `students`(`student_id`)\n",
    ");\"\"\"\n",
    "\n",
    "with sqlite3.connect('ENROLMENT.db') as conn:\n",
    "    cursor = conn.cursor()\n",
    "\n",
    "    cursor.execute(query)\n",
    "\n",
    "    conn.commit()"
   ]
  },
  {
   "cell_type": "code",
   "execution_count": 15,
   "metadata": {},
   "outputs": [],
   "source": [
    "import csv\n",
    "\n",
    "with open('GUARDIAN.csv') as f:\n",
    "    reader = csv.reader(f)\n",
    "\n",
    "    header = next(reader)\n",
    "    guard = []\n",
    "\n",
    "    for line in reader:\n",
    "        guard += [line]\n",
    "\n",
    "with open('STUDENT.csv') as f:\n",
    "    reader = csv.reader(f)\n",
    "\n",
    "    header = next(reader)\n",
    "    stu = []\n",
    "\n",
    "    for line in reader:\n",
    "        stu += [line]\n",
    "\n",
    "with open('RESULT.csv') as f:\n",
    "    reader = csv.reader(f)\n",
    "\n",
    "    header = next(reader)\n",
    "    res = []\n",
    "\n",
    "    for line in reader:\n",
    "        res += [line]\n",
    "\n",
    "with sqlite3.connect('ENROLMENT.db') as conn:\n",
    "    cursor = conn.cursor()\n",
    "\n",
    "    cursor.execute('BEGIN TRANSACTION')\n",
    "\n",
    "    query_guard = 'INSERT INTO guardians VALUES (?, ?, ?)'\n",
    "    query_stu = 'INSERT INTO students VALUES (?, ?, ?, ?, ?)'\n",
    "    query_res = 'INSERT INTO results VALUES (?, ?, ?)'\n",
    "\n",
    "    for rec in guard:\n",
    "        cursor.execute(query_guard, (rec[0], rec[1], rec[2]))\n",
    "\n",
    "    for rec in stu:\n",
    "        cursor.execute(query_stu, (rec[0], rec[1], rec[2], rec[3], rec[4]))\n",
    "    \n",
    "    for rec in res:\n",
    "        cursor.execute(query_res, (rec[0], rec[1], rec[2]))\n",
    "\n",
    "    conn.commit()\n"
   ]
  },
  {
   "cell_type": "code",
   "execution_count": 17,
   "metadata": {},
   "outputs": [],
   "source": [
    "with sqlite3.connect('ENROLMENT.db') as conn:\n",
    "    cursor = conn.cursor()\n",
    "\n",
    "    cursor.execute(\"UPDATE guardians SET guardian_email = 'see@see.com' WHERE guardian_id = ?\", (900005, ))\n",
    "\n",
    "    conn.commit()"
   ]
  }
 ],
 "metadata": {
  "kernelspec": {
   "display_name": "Python 3",
   "language": "python",
   "name": "python3"
  },
  "language_info": {
   "codemirror_mode": {
    "name": "ipython",
    "version": 3
   },
   "file_extension": ".py",
   "mimetype": "text/x-python",
   "name": "python",
   "nbconvert_exporter": "python",
   "pygments_lexer": "ipython3",
   "version": "3.7.7"
  }
 },
 "nbformat": 4,
 "nbformat_minor": 2
}
