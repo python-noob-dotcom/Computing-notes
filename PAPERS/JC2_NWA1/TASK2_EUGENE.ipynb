{
 "cells": [
  {
   "cell_type": "code",
   "execution_count": 2,
   "metadata": {},
   "outputs": [],
   "source": [
    "# Task 2.1\n",
    "\n",
    "def GenerateKeyOrder(CipherKey):\n",
    "    \n",
    "    if CipherKey.isupper():\n",
    "        base = ord('A')\n",
    "        order = []\n",
    "        for char in CipherKey:\n",
    "            order.append(ord(char) - base)\n",
    "\n",
    "        lowest_index = 1\n",
    "        highest_index = len(CipherKey)\n",
    "        new_order = ''\n",
    "        for number in order:\n",
    "            order_sorted = sorted(order)\n",
    "            new_order += str(order_sorted.index(number) + 1)\n",
    "            new_order += ' '\n",
    "            \n",
    "\n",
    "\n",
    "    return new_order\n",
    "\n"
   ]
  },
  {
   "cell_type": "code",
   "execution_count": 3,
   "metadata": {},
   "outputs": [
    {
     "data": {
      "text/plain": [
       "False"
      ]
     },
     "execution_count": 3,
     "metadata": {},
     "output_type": "execute_result"
    }
   ],
   "source": [
    "'abC'.islower()"
   ]
  },
  {
   "cell_type": "code",
   "execution_count": 4,
   "metadata": {},
   "outputs": [
    {
     "name": "stdout",
     "output_type": "stream",
     "text": [
      "6 3 2 4 1 5 \n"
     ]
    }
   ],
   "source": [
    "# Task 2.2\n",
    "\n",
    "txt = input('Please input a text string of 10 unique letters')\n",
    "\n",
    "while txt.islower() == False and txt.isupper() == False:\n",
    "    txt = input('Please input these letters in either all uppercase or all lowercase')\n",
    "\n",
    "perm = GenerateKeyOrder(txt)\n",
    "print(perm)"
   ]
  },
  {
   "cell_type": "code",
   "execution_count": 30,
   "metadata": {},
   "outputs": [
    {
     "name": "stdout",
     "output_type": "stream",
     "text": [
      "632415\n",
      "[None, None, None, None, None, 'WIREE ']\n",
      "[None, None, 'ROFO! ', None, None, 'WIREE ']\n",
      "[None, 'ACDT! ', 'ROFO! ', None, None, 'WIREE ']\n",
      "[None, 'ACDT! ', 'ROFO! ', 'EVLN! ', None, 'WIREE ']\n",
      "['ESEA! ', 'ACDT! ', 'ROFO! ', 'EVLN! ', None, 'WIREE ']\n",
      "['ESEA! ', 'ACDT! ', 'ROFO! ', 'EVLN! ', 'DEEC! ', 'WIREE ']\n",
      "['ESEA! ', 'ACDT! ', 'ROFO! ', 'EVLN! ', 'DEEC! ', 'WIREE ']\n"
     ]
    }
   ],
   "source": [
    "# Task 2.3\n",
    "\n",
    "with open('./Message.txt', 'r') as message:\n",
    "    msg = message.readline().strip()\n",
    "    \n",
    "new_msg = ''\n",
    "for char in msg.upper():\n",
    "    if not char.isalpha():\n",
    "        pass\n",
    "    else:\n",
    "        new_msg += char\n",
    "\n",
    "no_columns = len(new_msg)\n",
    "legit = ''\n",
    "\n",
    "perm = GenerateKeyOrder('ZEBRAS')\n",
    "for char in perm:\n",
    "    if char == ' ':\n",
    "        pass\n",
    "    else:\n",
    "        legit += char\n",
    "\n",
    "print(legit)\n",
    "\n",
    "if no_columns % len(legit) != 0:\n",
    "    no_columns = no_columns // len(legit) + 1\n",
    "\n",
    "else:\n",
    "    no_columns = no_columns / len(legit)\n",
    "\n",
    "table = [[None for i in range(len(legit))] for i in range(no_columns)]\n",
    "for i in range(len(new_msg)):\n",
    "    row = i // len(legit)\n",
    "    column = i % len(legit)\n",
    "\n",
    "    table[row][column] = new_msg[i]\n",
    "\n",
    "encrypted_message = [None for i in range(len(legit))]\n",
    "\n",
    "for number in legit:\n",
    "    encrypt = ''\n",
    "    number = int(number)\n",
    "    for row in table:\n",
    "        if str(row[number - 6]) == 'None':\n",
    "            encrypt += '!'\n",
    "        else:\n",
    "            encrypt += str(row[number - 6])\n",
    "    \n",
    "    encrypted_message[number - 1] = encrypt + ' '\n",
    "    print(encrypted_message)\n",
    "\n",
    "ordered = [None for i in range(len(legit))]\n",
    "print(encrypted_message)\n"
   ]
  },
  {
   "cell_type": "code",
   "execution_count": 19,
   "metadata": {},
   "outputs": [
    {
     "name": "stdout",
     "output_type": "stream",
     "text": [
      "['W', 'E', 'A', 'R', 'E', 'D']\n",
      "['I', 'S', 'C', 'O', 'V', 'E']\n",
      "['R', 'E', 'D', 'F', 'L', 'E']\n",
      "['E', 'A', 'T', 'O', 'N', 'C']\n",
      "['E', None, None, None, None, None]\n"
     ]
    }
   ],
   "source": [
    "for row in table:\n",
    "    print(row)"
   ]
  },
  {
   "cell_type": "code",
   "execution_count": 6,
   "metadata": {},
   "outputs": [
    {
     "ename": "SyntaxError",
     "evalue": "unexpected EOF while parsing (1947599714.py, line 4)",
     "output_type": "error",
     "traceback": [
      "\u001b[1;36m  File \u001b[1;32m\"C:\\Users\\eapar\\AppData\\Local\\Temp\\ipykernel_18504\\1947599714.py\"\u001b[1;36m, line \u001b[1;32m4\u001b[0m\n\u001b[1;33m    \u001b[0m\n\u001b[1;37m    ^\u001b[0m\n\u001b[1;31mSyntaxError\u001b[0m\u001b[1;31m:\u001b[0m unexpected EOF while parsing\n"
     ]
    }
   ],
   "source": [
    "# Task 2.4\n",
    "\n",
    "def Decode(EncodedMessage, Key):\n",
    "    "
   ]
  }
 ],
 "metadata": {
  "kernelspec": {
   "display_name": "Python 3",
   "language": "python",
   "name": "python3"
  },
  "language_info": {
   "codemirror_mode": {
    "name": "ipython",
    "version": 3
   },
   "file_extension": ".py",
   "mimetype": "text/x-python",
   "name": "python",
   "nbconvert_exporter": "python",
   "pygments_lexer": "ipython3",
   "version": "3.7.7"
  }
 },
 "nbformat": 4,
 "nbformat_minor": 2
}
