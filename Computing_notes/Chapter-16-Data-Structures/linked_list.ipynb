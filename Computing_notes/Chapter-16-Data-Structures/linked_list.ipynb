{
 "cells": [
  {
   "cell_type": "code",
   "execution_count": null,
   "metadata": {},
   "outputs": [],
   "source": [
    "class Node:\n",
    "    def __init__(self, data, nxt= None):\n",
    "        self.data = data # holds the data of the node object\n",
    "        self.nxt = nxt # points to where the linked list element before is\n",
    "                        # nxt works as sort of an address thing\n",
    "\n",
    "class LinkedList:\n",
    "    def __init__(self):\n",
    "        self.head = None # self.head is pointer to point to the \"leftmost\" node object in the linked list\n",
    "        self.tail = None # NOT ALLOWED IN A LEVELS BECAUSE CAMBRIDGE DOESNT WANT US TO USE THE TAIL POINTER\n",
    "\n",
    "    def add_front(self, data):\n",
    "        new_node = Node(data)\n",
    "\n",
    "        if self.head == None:\n",
    "            self.head = new_node # if the linked list is empty, let the self.head point to the entire newly created node since it is the first node\n",
    "        else:\n",
    "            new_node.nxt = self.head # the nxt pointer now points to the original node\n",
    "            self.head = new_node # self.head will now point to the newly created node\n",
    "        \n",
    "        return 1\n",
    "    \n",
    "    # THIS add_behind uses A TAIL POINTER! ILLEGAL FOR CAMBRIDGE\n",
    "    def illegal_add_behind(self, data):\n",
    "        new_node = Node(data)\n",
    "\n",
    "        if self.tail == None:\n",
    "            self.tail = new_node\n",
    "        else:\n",
    "            new_node.nxt = self.tail\n",
    "            self.tail = new_node\n",
    "\n",
    "        return 1\n",
    "    \n",
    "    def legal_add_behind(self, data):\n",
    "        new_node = Node(data) # create a new node object \n",
    "        \n",
    "        if self.head == None:\n",
    "            self.head = new_node\n",
    "        else:\n",
    "            current = self.head # to create a new iterative pointer because we need to traverse through the entire linked list to \n",
    "                                # get to the first element\n",
    "\n",
    "            \n",
    "            while current.nxt != None: # loop to traverse through the linked list to get to the final node object\n",
    "                previous = current\n",
    "                current = previous.nxt\n",
    "\n",
    "            current.nxt = new_node # final node object.nxt now points to the node that you want to add to the back\n",
    "        \n",
    "        return 1"
   ]
  },
  {
   "cell_type": "code",
   "execution_count": null,
   "metadata": {},
   "outputs": [],
   "source": [
    "linked_list1 = LinkedList()"
   ]
  }
 ],
 "metadata": {
  "language_info": {
   "name": "python"
  }
 },
 "nbformat": 4,
 "nbformat_minor": 2
}
