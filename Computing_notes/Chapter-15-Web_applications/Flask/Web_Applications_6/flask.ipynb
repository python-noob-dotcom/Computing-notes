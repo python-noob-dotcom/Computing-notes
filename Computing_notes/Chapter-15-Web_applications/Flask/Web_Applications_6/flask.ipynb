{
 "cells": [
  {
   "cell_type": "code",
   "execution_count": 2,
   "metadata": {},
   "outputs": [
    {
     "name": "stdout",
     "output_type": "stream",
     "text": [
      " * Serving Flask app \"__main__\" (lazy loading)\n",
      " * Environment: production\n",
      "\u001b[31m   WARNING: This is a development server. Do not use it in a production deployment.\u001b[0m\n",
      "\u001b[2m   Use a production WSGI server instead.\u001b[0m\n",
      " * Debug mode: off\n"
     ]
    },
    {
     "name": "stderr",
     "output_type": "stream",
     "text": [
      " * Running on http://127.0.0.1:5000/ (Press CTRL+C to quit)\n",
      "127.0.0.1 - - [26/Jun/2024 18:10:28] \"GET / HTTP/1.1\" 200 -\n",
      "127.0.0.1 - - [26/Jun/2024 18:10:28] \"GET /favicon.ico HTTP/1.1\" 404 -\n"
     ]
    },
    {
     "name": "stdout",
     "output_type": "stream",
     "text": [
      "/fixed/\n",
      "/string/example\n",
      "/integer/2020\n"
     ]
    }
   ],
   "source": [
    "import flask \n",
    "from flask import url_for \n",
    " \n",
    "app = flask.Flask(__name__) \n",
    " \n",
    "@app.route('/') \n",
    "def home(): \n",
    "  url1 = url_for('fixed_route') \n",
    "  url2 = url_for('string_variable', s='example') \n",
    "  url3 = url_for('integer_variable', i=2020) \n",
    "  print(url1) \n",
    "  print(url2) \n",
    "  print(url3)\n",
    "  return 'Check your shell or command prompt window' \n",
    " \n",
    "@app.route('/fixed/') \n",
    "def fixed_route(): \n",
    "  return 'Routed to fixed()' \n",
    " \n",
    "@app.route('/string/<s>') \n",
    "def string_variable(s): \n",
    "  return f'Routed to string_variable(), s = {s}' \n",
    " \n",
    "@app.route('/integer/<int:i>') \n",
    "def integer_variable(i): \n",
    "  return f'Routed to integer_variable(), i = {i}' \n",
    " \n",
    "if __name__ == '__main__': \n",
    "  app.run()"
   ]
  },
  {
   "cell_type": "code",
   "execution_count": 4,
   "metadata": {},
   "outputs": [
    {
     "name": "stdout",
     "output_type": "stream",
     "text": [
      " * Serving Flask app \"__main__\" (lazy loading)\n",
      " * Environment: production\n",
      "\u001b[31m   WARNING: This is a development server. Do not use it in a production deployment.\u001b[0m\n",
      "\u001b[2m   Use a production WSGI server instead.\u001b[0m\n",
      " * Debug mode: on\n"
     ]
    },
    {
     "name": "stderr",
     "output_type": "stream",
     "text": [
      " * Restarting with watchdog (windowsapi)\n"
     ]
    },
    {
     "ename": "SystemExit",
     "evalue": "1",
     "output_type": "error",
     "traceback": [
      "An exception has occurred, use %tb to see the full traceback.\n",
      "\u001b[1;31mSystemExit\u001b[0m\u001b[1;31m:\u001b[0m 1\n"
     ]
    },
    {
     "name": "stderr",
     "output_type": "stream",
     "text": [
      "C:\\Users\\eugen\\AppData\\Roaming\\Python\\Python39\\site-packages\\IPython\\core\\interactiveshell.py:3468: UserWarning: To exit: use 'exit', 'quit', or Ctrl-D.\n",
      "  warn(\"To exit: use 'exit', 'quit', or Ctrl-D.\", stacklevel=1)\n"
     ]
    }
   ],
   "source": [
    "import flask\n",
    "\n",
    "\n",
    "app = flask.Flask(__name__)\n",
    "\n",
    "@app.route('/<name>') # decoration, lowest level\n",
    "\n",
    "def home(name):\n",
    "    return 'Welcome to the home page, ' + name\n",
    "\n",
    "@app.route('/readme.txt')\n",
    "def home_2():\n",
    "    lines = []\n",
    "    with open('./readme.txt') as f:\n",
    "        lines = f.readlines()\n",
    "\n",
    "    return lines\n",
    "\n",
    "@app.route('/report')\n",
    "def report():\n",
    "    return 'This is a report'\n",
    "\n",
    "@app.route('/render', methods = ['GET', 'POST'])\n",
    "\n",
    "def render():\n",
    "    if flask.request.method == 'POST':\n",
    "        file = flask.request.form['filename']\n",
    "\n",
    "        with open(file) as f:\n",
    "            return f.readlines()\n",
    "        \n",
    "    return flask.render_template('test_render.html')\n",
    "\n",
    "@app.route('/variable_routing/<s>')\n",
    "\n",
    "def variable_routing(s):\n",
    "    return 'You entered: ' + s\n",
    "\n",
    "@app.route('/variable_routing/integer/<int:n>')\n",
    "\n",
    "def var_routing_int(n):\n",
    "    return 'You entered: ' + str(n)\n",
    "\n",
    "if __name__ == '__main__':\n",
    "    app.run(port = 5000, debug = True)\n",
    "\n",
    "\n"
   ]
  }
 ],
 "metadata": {
  "kernelspec": {
   "display_name": "Python 3",
   "language": "python",
   "name": "python3"
  },
  "language_info": {
   "codemirror_mode": {
    "name": "ipython",
    "version": 3
   },
   "file_extension": ".py",
   "mimetype": "text/x-python",
   "name": "python",
   "nbconvert_exporter": "python",
   "pygments_lexer": "ipython3",
   "version": "3.9.13"
  }
 },
 "nbformat": 4,
 "nbformat_minor": 2
}
