{
 "cells": [
  {
   "cell_type": "code",
   "execution_count": 21,
   "metadata": {},
   "outputs": [
    {
     "data": {
      "text/plain": [
       "'banana'"
      ]
     },
     "execution_count": 21,
     "metadata": {},
     "output_type": "execute_result"
    }
   ],
   "source": [
    "# Task 2.1\n",
    "\n",
    "def generate_word():\n",
    "    import random\n",
    "    words = ['apple', 'pear', 'banana', 'Minion', 'OMG']\n",
    "    return random.choice(words)\n",
    "\n",
    "\n",
    "generate_word()"
   ]
  },
  {
   "cell_type": "code",
   "execution_count": 33,
   "metadata": {},
   "outputs": [],
   "source": [
    "# Task 2.2\n",
    "def letter_guess(word, letterList, letter):\n",
    "    guessed_word = [\"_\" for i in range(len(word))]\n",
    "    if letter in word:\n",
    "        letterList.append(letter)\n",
    "    for letter in letterList:\n",
    "        for index, char in enumerate(word):\n",
    "            if letter == char:\n",
    "                guessed_word[index] = char\n",
    "\n",
    "    print(letterList)\n",
    "    guessedWord = ''\n",
    "    print(guessed_word)\n",
    "    for char in guessed_word:\n",
    "        guessedWord += char\n",
    "    \n",
    "    print(guessedWord)\n",
    "    return guessedWord, letterList"
   ]
  },
  {
   "cell_type": "code",
   "execution_count": 37,
   "metadata": {},
   "outputs": [
    {
     "name": "stdout",
     "output_type": "stream",
     "text": [
      "banana\n",
      "The word has 6 letters\n",
      "['b', '_', '_', '_', '_', '_']\n",
      "b_____\n",
      "['b', 'a', '_', 'a', '_', 'a']\n",
      "ba_a_a\n",
      "['b', 'a', 'n', 'a', 'n', 'a']\n",
      "banana\n",
      "Correct! The word is: 'banana'. Number of Tries: 3\n"
     ]
    }
   ],
   "source": [
    "# Task 2.3\n",
    "\n",
    "word = generate_word()\n",
    "print(word)\n",
    "print(f'The word has {len(word)} letters')\n",
    "letterList = []\n",
    "guessedWord = ''\n",
    "\n",
    "count = 0\n",
    "\n",
    "while guessedWord != word:\n",
    "    guess = input('Input your guess: ')\n",
    "    if len(guess) == 1:\n",
    "        guessedWord, letterList = letter_guess(word, letterList, guess)\n",
    "    elif len(guess) != 2:\n",
    "        for char in guess:\n",
    "            guessedWord, letterList = letter_guess(word, letterList, char)\n",
    "        if guessedWord != word:\n",
    "            print('Incorrect! Try again')\n",
    "    \n",
    "\n",
    "    count += 1\n",
    "\n",
    "print(f\"Correct! The word is: '{word}'. Number of Tries: {count}\")"
   ]
  }
 ],
 "metadata": {
  "kernelspec": {
   "display_name": "computing",
   "language": "python",
   "name": "python3"
  },
  "language_info": {
   "codemirror_mode": {
    "name": "ipython",
    "version": 3
   },
   "file_extension": ".py",
   "mimetype": "text/x-python",
   "name": "python",
   "nbconvert_exporter": "python",
   "pygments_lexer": "ipython3",
   "version": "3.6.13"
  },
  "orig_nbformat": 4
 },
 "nbformat": 4,
 "nbformat_minor": 2
}
