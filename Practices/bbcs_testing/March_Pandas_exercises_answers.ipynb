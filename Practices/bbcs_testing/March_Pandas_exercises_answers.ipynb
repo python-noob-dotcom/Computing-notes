{
 "cells": [
  {
   "cell_type": "markdown",
   "metadata": {},
   "source": [
    "# Manipulating Data with Pandas! <br><img src = 'https://files.worldwildlife.org/wwfcmsprod/images/Panda_in_Tree/hero_small/99i33zyc0l_Large_WW170579.jpg'>\n",
    "<h3> <a href= 'https://www.example.com'>Please refer to this dataset</a> as we will be using this dataset for the exercises below </h3>"
   ]
  },
  {
   "cell_type": "markdown",
   "metadata": {},
   "source": [
    "<h3> Exercise 1. </h3>\n",
    "<p> When you open up the dataset, it looks quite dirty, with many rows having the order number replaced by \"Imagine having no order number\" etc. </p> \n",
    "\n",
    "1. Your first task would be to clear all rows with empty values in ```'PRODUCTCODE', 'ADDRESSLINE1'```,\n",
    "2. avoid clearing the rows with empty values in ```'STATE'```,\n",
    "3. and replace all the ```\"Imagine having no order number\"``` under ```'ORDERNUMBER'``` with ```10000```,\n",
    "4. replace all the empty values under ```'STATUS'``` with ```'To check'```\n",
    "5. Lastly, save into a new file called ```'sales_data_cleaned.csv'```</p>"
   ]
  },
  {
   "cell_type": "code",
   "execution_count": 45,
   "metadata": {},
   "outputs": [],
   "source": [
    "# Your code here\n",
    "\n",
    "import pandas as pd\n",
    "\n",
    "\n",
    "sales_data_dirty = pd.read_csv('./sales_data_dirty.csv')\n",
    "\n",
    "\n",
    "sales_data_dirty.dropna(subset = ['PRODUCTCODE', 'ADDRESSLINE1'], axis= 0, inplace=True)\n",
    "sales_data_dirty['STATUS'].fillna('To check', inplace=True)\n",
    "\n",
    "sales_data_dirty['ORDERLINENUMBER'].str.replace('Imagine having no order number', '10000')\n",
    "\n",
    "\n",
    "sales_data_dirty.drop('Unnamed: 0', axis= 1).to_csv('./sales_data_cleaned.csv')"
   ]
  },
  {
   "cell_type": "markdown",
   "metadata": {},
   "source": [
    "<h3> Congratulations on finishing your first task! </h3>\n",
    "<h4> Your csv file should look like this: </h4>\n",
    "\n",
    "<img src='https://github.com/python-noob-dotcom/Computing-notes/raw/8c1416fd57990ed35931c7db361b3036f75810df/Practices/bbcs_testing/dataset_exercise_1.png'>\n",
    "\n",
    "<h4> as the values are clean now </h4>"
   ]
  },
  {
   "cell_type": "markdown",
   "metadata": {},
   "source": [
    "While cleaning the data, you noticed that there are some roews with a missing price each value\n",
    "\n",
    "### Exercise 2:\n",
    "1. Using the ```.agg()``` method, retrieve the mean ```'PRICEEACH'```,\n",
    "2. and replace the empty values in the row with the mean"
   ]
  },
  {
   "cell_type": "code",
   "execution_count": 42,
   "metadata": {},
   "outputs": [],
   "source": [
    "# Your code here\n",
    "\n",
    "sales_data = pd.read_csv('./sales_data_cleaned.csv', encoding= 'utf-8')\n",
    "\n",
    "sales_data['PRICEEACH'].fillna(sales_data['PRICEEACH'].mean(), inplace=True)\n",
    "\n",
    "sales_data.to_csv('./sales_data_cleaned.csv')\n"
   ]
  },
  {
   "cell_type": "markdown",
   "metadata": {},
   "source": [
    "<h3> Exercise 2.</h3>\n",
    "<p> Your boss then asks you to group the rows with the same STATUS together</p>\n",
    "Group the rows with the status\n",
    "\n",
    "```'Shipped', 'Disputed', etc together.```"
   ]
  },
  {
   "cell_type": "code",
   "execution_count": null,
   "metadata": {},
   "outputs": [],
   "source": [
    "# Your code here\n",
    "\n",
    "import pandas as pd\n",
    "\n"
   ]
  },
  {
   "cell_type": "markdown",
   "metadata": {},
   "source": [
    "### Congratulations on completing your second exercise! Your dataset should look like this:\n",
    "\n",
    "<image src = ''>"
   ]
  }
 ],
 "metadata": {
  "kernelspec": {
   "display_name": "computing",
   "language": "python",
   "name": "python3"
  },
  "language_info": {
   "codemirror_mode": {
    "name": "ipython",
    "version": 3
   },
   "file_extension": ".py",
   "mimetype": "text/x-python",
   "name": "python",
   "nbconvert_exporter": "python",
   "pygments_lexer": "ipython3",
   "version": "3.6.13"
  }
 },
 "nbformat": 4,
 "nbformat_minor": 2
}
