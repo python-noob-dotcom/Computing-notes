{
 "cells": [
  {
   "cell_type": "code",
   "execution_count": 1,
   "id": "d3e87120",
   "metadata": {},
   "outputs": [
    {
     "name": "stdout",
     "output_type": "stream",
     "text": [
      "Plan project schedule\n",
      "Delegate tasks to members\n",
      "Schedule date for first meeting\n",
      "Total jobs: 3\n"
     ]
    }
   ],
   "source": [
    "# Task 3.1\n",
    "\n",
    "class Node:\n",
    "    def __init__(self, priority, job, nextNode= None):\n",
    "        self.priority = priority\n",
    "        self.job = job\n",
    "        self.nextNode = nextNode\n",
    "\n",
    "class LinkedList:\n",
    "    def __init__(self):\n",
    "        self.head = None\n",
    "        \n",
    "    def is_empty(self):\n",
    "        return self.head == None\n",
    "    \n",
    "    def insert(self, priority, job):\n",
    "#         add to the head\n",
    "        node = Node(priority, job)\n",
    "#     link the node.nxt to the self.head because it is the new head\n",
    "        node.nextNode = self.head\n",
    "        self.head = node\n",
    "        \n",
    "    def count(self):\n",
    "        counter = 0\n",
    "        current = self.head\n",
    "\n",
    "#         iterate until end of the linked list\n",
    "        while current.nextNode != None:\n",
    "#         increment counter\n",
    "            counter += 1\n",
    "            current = current.nextNode\n",
    "# cos end before the last node, must add 1 more\n",
    "        return counter + 1\n",
    "\n",
    "    def displayJobs(self):\n",
    "        current = self.head\n",
    "\n",
    "#         same thing iterate and display the data from the node until the end of the linked list\n",
    "        while current != None:\n",
    "            print(current.job)\n",
    "            current = current.nextNode\n",
    "        print(f'Total jobs: {self.count()}')\n",
    "            \n",
    "\n",
    "ll = LinkedList()\n",
    "ll.insert(2, 'Schedule date for first meeting')\n",
    "ll.insert(1, 'Delegate tasks to members')\n",
    "ll.insert(3, 'Plan project schedule')\n",
    "ll.displayJobs()"
   ]
  },
  {
   "cell_type": "code",
   "execution_count": 2,
   "id": "5808008c",
   "metadata": {},
   "outputs": [
    {
     "name": "stdout",
     "output_type": "stream",
     "text": [
      "Plan project schedule\n",
      "Delegate tasks to members\n",
      "Schedule date for first meeting\n"
     ]
    }
   ],
   "source": [
    "# Task 3.2\n",
    "\n",
    "class Stack(LinkedList):\n",
    "    def __init__(self):\n",
    "        super().__init__()\n",
    "    \n",
    "    def push(self, priority, job):\n",
    "#         push to the top of the stack\n",
    "        node = Node(priority, job)\n",
    "        node.nextNode = self.head\n",
    "        self.head = node\n",
    "    \n",
    "    def pop(self):\n",
    "#         pop from the top of the stack\n",
    "#         if empty, then dont do shit\n",
    "        if self.is_empty() == None:\n",
    "            return None\n",
    "        else:\n",
    "            ret = self.head\n",
    "            self.head = self.head.nextNode\n",
    "            return ret.job\n",
    "        \n",
    "stack = Stack()\n",
    "stack.push(2, 'Schedule date for first meeting')\n",
    "stack.push(1, 'Delegate tasks to members')\n",
    "stack.push(3, 'Plan project schedule')\n",
    "\n",
    "for i in range(3):\n",
    "    print(stack.pop())"
   ]
  },
  {
   "cell_type": "code",
   "execution_count": 8,
   "id": "576f8612",
   "metadata": {},
   "outputs": [
    {
     "name": "stdout",
     "output_type": "stream",
     "text": [
      "Plan project schedule\n",
      "Schedule date for first meeting\n",
      "Delegate tasks to members\n"
     ]
    }
   ],
   "source": [
    "# Task 3.3\n",
    "\n",
    "class PriorityList(Stack):\n",
    "    def __init__(self):\n",
    "        super().__init__()\n",
    "        \n",
    "#     insertion\n",
    "    def insert(self, priority, job):\n",
    "#         check if empty\n",
    "        if self.is_empty():\n",
    "            self.head = Node(priority, job)\n",
    "#             if priority is higher priority than the head, add before the head and make it the new head\n",
    "        elif priority > self.head.priority:\n",
    "            node = Node(priority, job)\n",
    "            node.nextNode = self.head\n",
    "            self.head = node\n",
    "        else:\n",
    "            current = self.head\n",
    "            previous = current\n",
    "            \n",
    "#             iterate through the linked list until a suitable placing is found for the priority\n",
    "            while current.priority < priority and current != None:\n",
    "                previous = current\n",
    "                current = current.nextNode\n",
    "                \n",
    "            node = Node(priority, job)\n",
    "#           link the nodes together\n",
    "            node.nextNode = previous.nextNode\n",
    "            previous.nextNode = node\n",
    "            \n",
    "ll = PriorityList()\n",
    "ll.insert(2, 'Schedule date for first meeting')\n",
    "ll.insert(1, 'Delegate tasks to members')\n",
    "ll.insert(3, 'Plan project schedule')\n",
    "for i in range(3):\n",
    "    print(ll.pop())"
   ]
  }
 ],
 "metadata": {
  "kernelspec": {
   "display_name": "Python 3 (ipykernel)",
   "language": "python",
   "name": "python3"
  },
  "language_info": {
   "codemirror_mode": {
    "name": "ipython",
    "version": 3
   },
   "file_extension": ".py",
   "mimetype": "text/x-python",
   "name": "python",
   "nbconvert_exporter": "python",
   "pygments_lexer": "ipython3",
   "version": "3.7.7"
  }
 },
 "nbformat": 4,
 "nbformat_minor": 5
}
