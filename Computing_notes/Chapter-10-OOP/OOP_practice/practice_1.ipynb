{
 "cells": [
  {
   "cell_type": "code",
   "execution_count": 1,
   "metadata": {},
   "outputs": [],
   "source": [
    "class LibraryItem:\n",
    "    def __init__(self, item_id, title, due_date, loaned_by = '' ):\n",
    "        self.item_id = item_id\n",
    "        self.title = title\n",
    "        self.loaned_by = loaned_by\n",
    "        self.due_date = due_date\n",
    "\n",
    "    def is_on_loan(self):\n",
    "        if self.loaned_by == '':\n",
    "            return True\n",
    "        else:\n",
    "            return False\n",
    "    \n",
    "    def return_item(self):\n",
    "        self.loaned_by = ''\n",
    "\n",
    "    def loan_to(self, user_id):\n",
    "        if self.is_on_loan():\n",
    "            self.loaned_by = user_id\n",
    "            return True\n",
    "        else:\n",
    "            print('Item has been loaned')\n",
    "            return False\n",
    "    \n",
    "    def print_details(self):\n",
    "        print(f'Title: {self.title}')\n",
    "\n",
    "        if self.loaned_by != '':\n",
    "            print(f'Loaned by: {self.loaned_by}\\n{self.due_date}\\n')\n",
    "    "
   ]
  },
  {
   "cell_type": "code",
   "execution_count": 3,
   "metadata": {},
   "outputs": [],
   "source": [
    "class Book(LibraryItem):\n",
    "    def __init__(self, item_id, title, due_date, author, category, reserved_by = '', loaned_by='' ):\n",
    "        super().__init__(item_id, title, due_date, loaned_by)\n",
    "        self.author = author\n",
    "        self.category = category\n",
    "        self.reserved_by = reserved_by\n",
    "\n",
    "    def is_reserved(self):\n",
    "        if self.reserved_by == '':\n",
    "            return False\n",
    "        else:\n",
    "            return True\n",
    "        \n",
    "    def release(self):\n",
    "        self.reserved_by = ''\n",
    "    \n",
    "    def reserve_for(self, user_id):\n",
    "        if self.is_reserved():\n",
    "            return False\n",
    "        else:\n",
    "            self.reserved_by = user_id\n",
    "            return True\n",
    "    \n",
    "    def print_details(self):\n",
    "        print(f'Title: {self.title}\\nAuthor: {self.author}\\nCategory: {self.category}')\n",
    "\n",
    "        if self.loaned_by != '':\n",
    "            print(f'Loaned by: {self.loaned_by}\\n{self.due_date}\\n')\n",
    "        if self.reserved_by():\n",
    "            print(f'Reserved by: {self.reserved_by}')\n"
   ]
  },
  {
   "cell_type": "code",
   "execution_count": 5,
   "metadata": {},
   "outputs": [],
   "source": [
    "class CompactDisc(LibraryItem):\n",
    "    def __init__(self, item_id, title, due_date, artist, genre, loaned_by=''):\n",
    "        super().__init__(item_id, title, due_date, loaned_by)\n",
    "        self.artist = artist\n",
    "        self.genre = genre\n",
    "    \n",
    "    def print_details(self):\n",
    "        print(f'Title: {self.title}\\nArtist: {self.artist}\\nGenre: {self.genre}')\n",
    "\n",
    "        if self.loaned_by != '':\n",
    "            print(f'Loaned by: {self.loaned_by}\\n{self.due_date}\\n')\n",
    "            "
   ]
  },
  {
   "cell_type": "code",
   "execution_count": null,
   "metadata": {},
   "outputs": [],
   "source": []
  }
 ],
 "metadata": {
  "kernelspec": {
   "display_name": "Python 3",
   "language": "python",
   "name": "python3"
  },
  "language_info": {
   "codemirror_mode": {
    "name": "ipython",
    "version": 3
   },
   "file_extension": ".py",
   "mimetype": "text/x-python",
   "name": "python",
   "nbconvert_exporter": "python",
   "pygments_lexer": "ipython3",
   "version": "3.7.7"
  }
 },
 "nbformat": 4,
 "nbformat_minor": 2
}
