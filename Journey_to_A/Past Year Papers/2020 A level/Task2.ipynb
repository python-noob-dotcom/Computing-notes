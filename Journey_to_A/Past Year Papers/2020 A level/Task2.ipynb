{
 "cells": [
  {
   "cell_type": "code",
   "execution_count": 5,
   "metadata": {},
   "outputs": [],
   "source": [
    "import random\n",
    "def task2_1(filename, quantity, maximum):\n",
    "    lst = [str(random.randint(0, maximum)) for i in range(quantity)]\n",
    "\n",
    "    with open(filename, 'w') as f:\n",
    "        for char in lst:\n",
    "            f.write(char + '\\n')\n",
    "\n",
    "task2_1('randomnumbers_index_centre.txt', 1000, 5000)"
   ]
  },
  {
   "cell_type": "code",
   "execution_count": 6,
   "metadata": {},
   "outputs": [
    {
     "data": {
      "text/plain": [
       "[0, 0, 4, 4, 5, 7, 18, 25, 56, 98]"
      ]
     },
     "execution_count": 6,
     "metadata": {},
     "output_type": "execute_result"
    }
   ],
   "source": [
    "def task2_2(list_of_integers):\n",
    "    if len(list_of_integers) > 1:\n",
    "        mid = len(list_of_integers) // 2\n",
    "\n",
    "        left = list_of_integers[:mid]\n",
    "        right = list_of_integers[mid:]\n",
    "\n",
    "        task2_2(left)\n",
    "        task2_2(right)\n",
    "\n",
    "        i = j = k = 0\n",
    "\n",
    "        while i < len(left) and j < len(right):\n",
    "            if left[i] > right[j]:\n",
    "                list_of_integers[k] = right[j]\n",
    "                j += 1\n",
    "            else:\n",
    "                list_of_integers[k] = left[i]\n",
    "                i += 1\n",
    "\n",
    "            k += 1\n",
    "\n",
    "        while i < len(left):\n",
    "            list_of_integers[k] = left[i]\n",
    "            i += 1\n",
    "            k += 1\n",
    "        \n",
    "        while j < len(right):\n",
    "            list_of_integers[k] = right[j]\n",
    "            j += 1\n",
    "            k += 1\n",
    "\n",
    "    return list_of_integers\n",
    "\n",
    "task2_2([56, 25, 4, 98, 0, 18, 4, 5, 7, 0])"
   ]
  },
  {
   "cell_type": "code",
   "execution_count": 7,
   "metadata": {},
   "outputs": [],
   "source": [
    "# Task 2.3\n",
    "\n",
    "def task2_3(filename_in, filename_out):\n",
    "    with open(filename_in) as f:\n",
    "        data = []\n",
    "        for line in f:\n",
    "            data += [int(line.strip())]\n",
    "        \n",
    "    with open(filename_out, 'w') as f:\n",
    "        for char in task2_2(data):\n",
    "            char = str(char)\n",
    "            f.write(char + '\\n')\n",
    "\n",
    "task2_3('randomnumbers_index_centre.txt', 'sortednumbers_index_centre.txt')"
   ]
  }
 ],
 "metadata": {
  "kernelspec": {
   "display_name": "computing",
   "language": "python",
   "name": "python3"
  },
  "language_info": {
   "codemirror_mode": {
    "name": "ipython",
    "version": 3
   },
   "file_extension": ".py",
   "mimetype": "text/x-python",
   "name": "python",
   "nbconvert_exporter": "python",
   "pygments_lexer": "ipython3",
   "version": "3.6.13"
  }
 },
 "nbformat": 4,
 "nbformat_minor": 2
}
