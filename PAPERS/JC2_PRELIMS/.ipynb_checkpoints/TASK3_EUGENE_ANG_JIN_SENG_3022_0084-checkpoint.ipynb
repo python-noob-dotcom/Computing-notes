{
 "cells": [
  {
   "cell_type": "code",
   "execution_count": 17,
   "id": "d3e87120",
   "metadata": {},
   "outputs": [
    {
     "name": "stdout",
     "output_type": "stream",
     "text": [
      "Plan project schedule\n",
      "Total jobs: 1\n"
     ]
    }
   ],
   "source": [
    "# Task 3.1\n",
    "\n",
    "class Node:\n",
    "    def __init__(self, priority, job, nextNode= None):\n",
    "        self.priority = priority\n",
    "        self.job = job\n",
    "        self.nextNode = nextNode\n",
    "\n",
    "class LinkedList:\n",
    "    def __init__(self):\n",
    "        self.head = None\n",
    "        \n",
    "    def is_empty():\n",
    "        return self.head == None\n",
    "    \n",
    "    def insert(self, priority, job):\n",
    "        if self.is_empty:\n",
    "            self.head = Node(priority, job)\n",
    "            return 1\n",
    "        if priority < self.head.priority:\n",
    "            node = Node(priority, job)\n",
    "            node.nextNode = self.head\n",
    "            self.head = node\n",
    "            print(node.nextNode.job)\n",
    "            return 1\n",
    "        else:\n",
    "            current = self.head\n",
    "            \n",
    "            while current.priority > priority and current != None:\n",
    "                previous = current\n",
    "                current = current.nextNode\n",
    "            \n",
    "            node = Node(priority, job)\n",
    "            \n",
    "            node.nextNode = current\n",
    "            previous.nextNode = node\n",
    "            \n",
    "            return 1\n",
    "        \n",
    "    def count(self):\n",
    "        counter = 0\n",
    "        current = self.head\n",
    "\n",
    "        while current.nextNode != None:\n",
    "            counter += 1\n",
    "            current = current.nextNode\n",
    "\n",
    "        return counter + 1\n",
    "\n",
    "    def displayJobs(self):\n",
    "        current = self.head\n",
    "\n",
    "        while current != None:\n",
    "            print(current.job)\n",
    "            print(f'Total jobs: {self.count()}')\n",
    "            current = current.nextNode\n",
    "            \n",
    "ll = LinkedList()\n",
    "ll.insert(2, 'Schedule date for first meeting')\n",
    "# ll.insert(1, 'Delegate tasks to members')\n",
    "ll.insert(3, 'Plan project schedule')\n",
    "ll.displayJobs()"
   ]
  }
 ],
 "metadata": {
  "kernelspec": {
   "display_name": "Python 3 (ipykernel)",
   "language": "python",
   "name": "python3"
  },
  "language_info": {
   "codemirror_mode": {
    "name": "ipython",
    "version": 3
   },
   "file_extension": ".py",
   "mimetype": "text/x-python",
   "name": "python",
   "nbconvert_exporter": "python",
   "pygments_lexer": "ipython3",
   "version": "3.7.7"
  }
 },
 "nbformat": 4,
 "nbformat_minor": 5
}
