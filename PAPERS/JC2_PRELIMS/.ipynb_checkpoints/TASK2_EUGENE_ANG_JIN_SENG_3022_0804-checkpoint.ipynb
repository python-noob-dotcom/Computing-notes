{
 "cells": [
  {
   "cell_type": "code",
   "execution_count": 1,
   "id": "cf1941da",
   "metadata": {},
   "outputs": [],
   "source": [
    "# Task 2.1\n",
    "\n",
    "import random\n",
    "\n",
    "def task2_1(n):\n",
    "    lst = []\n",
    "    \n",
    "    while len(lst) < n + 1:\n",
    "        number = random.randint(0, 1000)\n",
    "        lst += [number]\n",
    "        \n",
    "    return lst"
   ]
  },
  {
   "cell_type": "code",
   "execution_count": 2,
   "id": "eaa77a07",
   "metadata": {},
   "outputs": [
    {
     "data": {
      "text/plain": [
       "[1, 2, 3]"
      ]
     },
     "execution_count": 2,
     "metadata": {},
     "output_type": "execute_result"
    }
   ],
   "source": [
    "# Task 2.2\n",
    "\n",
    "def task2_2(list_of_integers):\n",
    "    if len(list_of_integers) > 1:\n",
    "        mid = len(list_of_integers) // 2\n",
    "        left = list_of_integers[:mid]\n",
    "        right = list_of_integers[mid:]\n",
    "        \n",
    "        task2_2(left)\n",
    "        task2_2(right)\n",
    "        \n",
    "        i = j = k = 0\n",
    "        \n",
    "        while i < len(left) and j < len(right):\n",
    "            if left[i] < right[j]:\n",
    "                list_of_integers[k] = left[i]\n",
    "                i += 1\n",
    "            else:\n",
    "                list_of_integers[k] = right[j]\n",
    "                j += 1\n",
    "            k += 1\n",
    "            \n",
    "        while i < len(left):\n",
    "            list_of_integers[k] = left[i]\n",
    "            i += 1\n",
    "            k += 1\n",
    "            \n",
    "        while j < len(right):\n",
    "            list_of_integers[k] = right[j]\n",
    "            j += 1\n",
    "            k += 1\n",
    "            \n",
    "    return list_of_integers\n",
    "\n",
    "task2_2([3, 2, 1])"
   ]
  },
  {
   "cell_type": "code",
   "execution_count": 3,
   "id": "8cfdf755",
   "metadata": {},
   "outputs": [],
   "source": [
    "# Task 2.3\n",
    "\n",
    "def task2_3(list_of_integers, value):\n",
    "    occurences = []\n",
    "    \n",
    "    for i in range(len(list_of_integers)):\n",
    "        integer = list_of_integers[i]\n",
    "        if integer == value:\n",
    "            occurences += [i]\n",
    "    \n",
    "    if len(occurences) < 1:\n",
    "        return -1\n",
    "    \n",
    "    else:\n",
    "        return occurences\n",
    "    "
   ]
  },
  {
   "cell_type": "code",
   "execution_count": null,
   "id": "0f1d569a",
   "metadata": {},
   "outputs": [],
   "source": [
    "# Task 2.4\n",
    "\n",
    "def task2_4(list_of_integers, value):\n",
    "    def binary_helper(list_of_integers, value, low, high):\n",
    "        occurences = []\n",
    "        if low < high:\n",
    "            mid = len(list_of_integers) // 2\n",
    "            val = list_of_integers[mid]\n",
    "            print(list_of_integers)\n",
    "            if val == value:\n",
    "                occurences += [mid]\n",
    "                occurences += binary_helper(list_of_integers, value, low, mid -1)\n",
    "                occurences += binary_helper(list_of_integers, value, mid + 1, high)\n",
    "                \n",
    "            else:\n",
    "                if val > value:\n",
    "                    occurences += binary_helper(list_of_integers, value, low, mid -1)\n",
    "                else:\n",
    "                    occurences += binary_helper(list_of_integers, value, mid + 1, high)\n",
    "                    \n",
    "                    \n",
    "                    \n",
    "            return occurences\n",
    "        \n",
    "        return []\n",
    "        \n",
    "    result = binary_helper(list_of_integers, value, 0, len(list_of_integers) - 1)\n",
    "\n",
    "    return result if len(result) > 0 else -1\n",
    "    \n",
    "task2_4([1, 1, 2, 3, 4], 1)"
   ]
  },
  {
   "cell_type": "code",
   "execution_count": null,
   "id": "b18bd3b6",
   "metadata": {},
   "outputs": [],
   "source": [
    "def binary_helper(list_of_integers, value, low, high):\n",
    "    occurences = []\n",
    "    if low < high:\n",
    "        mid = len(list_of_integers) // 2\n",
    "        val = list_of_integers[mid]\n",
    "        if val == value:\n",
    "            occurences += [mid]\n",
    "            occurences += binary_helper(list_of_integers, value, low, mid - 1)\n",
    "            occurences += binary_helper(list_of_integers, value, mid + 1, high)\n",
    "\n",
    "        else:\n",
    "            if val > value:\n",
    "                occurences += binary_helper(list_of_integers, value, low, mid - 1)\n",
    "            else:\n",
    "                occurences += binary_helper(list_of_integers, value, mid + 1, high)\n",
    "            print(occurences)\n",
    "\n",
    "    return occurences\n",
    "\n",
    "binary_helper([1, 1, 1, 2], 1, 0, 3)"
   ]
  }
 ],
 "metadata": {
  "kernelspec": {
   "display_name": "Python 3 (ipykernel)",
   "language": "python",
   "name": "python3"
  },
  "language_info": {
   "codemirror_mode": {
    "name": "ipython",
    "version": 3
   },
   "file_extension": ".py",
   "mimetype": "text/x-python",
   "name": "python",
   "nbconvert_exporter": "python",
   "pygments_lexer": "ipython3",
   "version": "3.7.7"
  }
 },
 "nbformat": 4,
 "nbformat_minor": 5
}
