{
 "cells": [
  {
   "cell_type": "code",
   "execution_count": 36,
   "metadata": {},
   "outputs": [],
   "source": [
    "import pymongo\n",
    "import csv\n",
    "\n",
    "client = pymongo.MongoClient('127.0.0.1', 27017)\n",
    "db = client['GovTech']\n",
    "coll = db['Datasets']\n",
    "\n",
    "with open('data-gov-sg-dataset-listing.csv', 'r') as f:\n",
    "    reader = csv.reader(f)\n",
    "    data = []\n",
    "    header = next(reader)\n",
    "    for row in reader:\n",
    "        data.append(dict(zip(header, row)))\n",
    "\n",
    "coll.insert_many(data)\n",
    "client.close()"
   ]
  },
  {
   "cell_type": "code",
   "execution_count": 37,
   "metadata": {},
   "outputs": [
    {
     "name": "stdout",
     "output_type": "stream",
     "text": [
      "['2', '3G Public Cellular Mobile Telephone Services - Average Success Rate Across All Cells', '3', '3G Public Cellular Mobile Telephone Services - Average Success Rate Across All Cells', '4', '3G Public Cellular Mobile Telephone Services - Average Success Rate Across All Cells', '5', '3G Public Cellular Mobile Telephone Services - Average Drop Call Rate', '6', '3G Public Cellular Mobile Telephone Services  - Nation-wide Service Coverage', '142', 'Arts Classification Database']\n"
     ]
    }
   ],
   "source": [
    "# Task 1.3\n",
    "\n",
    "client = pymongo.MongoClient('127.0.0.1', 27017)\n",
    "coll =  client['GovTech']['Datasets']\n",
    "\n",
    "query = {'organisation': 'Infocomm Media Development Authority'}\n",
    "res = coll.find(query)\n",
    "datasets = []\n",
    "for row in res:\n",
    "    datasets += (row.get('_id'), row.get('dataset_name'))\n",
    "\n",
    "print(datasets)\n",
    "client.close()"
   ]
  },
  {
   "cell_type": "code",
   "execution_count": 38,
   "metadata": {},
   "outputs": [
    {
     "name": "stdout",
     "output_type": "stream",
     "text": [
      "37\n"
     ]
    }
   ],
   "source": [
    "client = pymongo.MongoClient('127.0.0.1', 27017)\n",
    "coll = client['GovTech']['Datasets']\n",
    "\n",
    "query = {'resource_format': {'$in': ['KML', 'GeoJSON', 'SHP']}}\n",
    "count = coll.count_documents(query)\n",
    "print(count)\n",
    "client.close()"
   ]
  },
  {
   "cell_type": "code",
   "execution_count": 35,
   "metadata": {},
   "outputs": [
    {
     "name": "stdout",
     "output_type": "stream",
     "text": [
      "['51', '52', '182', '183', '184', '185', '186', '187', '188', '189', '190', '191', '192', '193', '194', '195', '196', '197', '198', '199', '200']\n"
     ]
    }
   ],
   "source": [
    "client = pymongo.MongoClient('127.0.0.1', 27017)\n",
    "coll = client['GovTech']['Datasets']\n",
    "\n",
    "query = {'$and': [{'frequency': 'Adhoc'}, {'coverage_start': 'na'}]}\n",
    "res = coll.find(query)\n",
    "id = []\n",
    "\n",
    "for row in res:\n",
    "    id.append(row.get('_id'))\n",
    "\n",
    "print(id)\n",
    "client.close()"
   ]
  }
 ],
 "metadata": {
  "kernelspec": {
   "display_name": "Python 3",
   "language": "python",
   "name": "python3"
  },
  "language_info": {
   "codemirror_mode": {
    "name": "ipython",
    "version": 3
   },
   "file_extension": ".py",
   "mimetype": "text/x-python",
   "name": "python",
   "nbconvert_exporter": "python",
   "pygments_lexer": "ipython3",
   "version": "3.7.7"
  }
 },
 "nbformat": 4,
 "nbformat_minor": 2
}
