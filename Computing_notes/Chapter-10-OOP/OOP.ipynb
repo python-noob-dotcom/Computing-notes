{
 "cells": [
  {
   "cell_type": "code",
   "execution_count": 38,
   "metadata": {},
   "outputs": [],
   "source": [
    "# Class definition\n",
    "class Pokemon:\n",
    "\n",
    "    # Constructor method -- all functions and procedures are methods\n",
    "    def __init__(self, common_name, level, health, atk, defense, speed): # Dunder init\n",
    "        self.__common_name = common_name # Private variable since you should not be able to access it outside of the class instantiation\n",
    "        self.nickname = common_name\n",
    "        self.__level = level # Private variable since you should not be able to access it outside of the class instantiation\n",
    "        self.__health = health # Private variable since you should not be able to access it outside of the class instantiation\n",
    "        self.__atk = atk # Private variable since you should not be able to access it outside of the class instantiation\n",
    "        self.__defense = defense # Private variable since you should not be able to access it outside of the class instantiation\n",
    "        self.__speed = speed # Private variable since you should not be able to access it outside of the class instantiation\n",
    "\n",
    "    # Accessor methods or Getter methods\n",
    "    def get_common_name(self):\n",
    "        return self.__common_name\n",
    "    def get_nickname(self):\n",
    "        return self.nickname\n",
    "    def get_pokemon_level(self):\n",
    "        return self.__level\n",
    "    def get_pokemon_stats(self):\n",
    "        return {'Health': self.__health, 'Attack': self.__atk, 'Speed': self.__speed, 'Defense': self.__defense}\n",
    "    \n",
    "    # Public Setter methods\n",
    "    def set_name(self, new_name):\n",
    "        self.common_name = new_name\n",
    "    def set_nickname(self):\n",
    "        self.nickname = input(f'Enter new nickname for {self.__common_name}')\n",
    "\n",
    "    # Private methods modifying the internal data, without making it accessible to people outside -- Encapsulation\n",
    "    # (these setter methods are not supposed to be avaliable to the users)\n",
    "    def __set_level(self, new_level): # Double underscore makes the method private\n",
    "        self.level = new_level \n",
    "    def __set_health(self, new_health):\n",
    "        self.health = new_health\n",
    "    def __set_atk(self, new_atk):\n",
    "        self.atk = new_atk\n",
    "    def __set_defense(self, new_defense):\n",
    "        self.defense = new_defense\n",
    "    def __set_speed(self, new_speed):\n",
    "        self.speed = new_speed"
   ]
  },
  {
   "cell_type": "code",
   "execution_count": 39,
   "metadata": {},
   "outputs": [],
   "source": [
    "# Object instantiation\n",
    "\n",
    "Mew_1 = Pokemon('Mew', 100, 1000, 9000, 9000, 9000)\n",
    "Mew_2 = Pokemon('Mew', 9000, 900000, 900000, 90000, 90000)"
   ]
  },
  {
   "cell_type": "code",
   "execution_count": 40,
   "metadata": {},
   "outputs": [],
   "source": [
    "Mew_3 = {'common_name': 'Mew',\n",
    "        'level': 100,\n",
    "        'health': 1000,\n",
    "        'atk' : 10000,\n",
    "        'defense': 10000,\n",
    "        'speed': 10000}\n"
   ]
  },
  {
   "cell_type": "code",
   "execution_count": 41,
   "metadata": {},
   "outputs": [
    {
     "ename": "AttributeError",
     "evalue": "'Pokemon' object has no attribute 'common_name'",
     "output_type": "error",
     "traceback": [
      "\u001b[1;31m---------------------------------------------------------------------------\u001b[0m",
      "\u001b[1;31mAttributeError\u001b[0m                            Traceback (most recent call last)",
      "\u001b[1;32m<ipython-input-41-1719f0fe8d50>\u001b[0m in \u001b[0;36m<module>\u001b[1;34m()\u001b[0m\n\u001b[0;32m      1\u001b[0m \u001b[1;31m# Python OOP - access as attricutes, Python specific\u001b[0m\u001b[1;33m\u001b[0m\u001b[1;33m\u001b[0m\u001b[0m\n\u001b[1;32m----> 2\u001b[1;33m \u001b[0mprint\u001b[0m\u001b[1;33m(\u001b[0m\u001b[1;34mf'{Mew_1.common_name}, {Mew_1.level}, {Mew_1.health}, {Mew_1.atk}, {Mew_1.defense}, {Mew_1.speed}'\u001b[0m\u001b[1;33m)\u001b[0m\u001b[1;33m\u001b[0m\u001b[0m\n\u001b[0m\u001b[0;32m      3\u001b[0m \u001b[0mprint\u001b[0m\u001b[1;33m(\u001b[0m\u001b[1;34mf'{Mew_1.common_name}, {Mew_1.level}, {Mew_1.health}, {Mew_1.atk}, {Mew_1.defense}, {Mew_1.speed}'\u001b[0m\u001b[1;33m)\u001b[0m\u001b[1;33m\u001b[0m\u001b[0m\n\u001b[0;32m      4\u001b[0m \u001b[1;33m\u001b[0m\u001b[0m\n\u001b[0;32m      5\u001b[0m \u001b[1;31m# Why does it not work? Because the attributes are private within the class, and can only be accessed by methods / code predefined in the class\u001b[0m\u001b[1;33m\u001b[0m\u001b[1;33m\u001b[0m\u001b[0m\n",
      "\u001b[1;31mAttributeError\u001b[0m: 'Pokemon' object has no attribute 'common_name'"
     ]
    }
   ],
   "source": [
    "# Python OOP - access as attricutes, Python specific\n",
    "print(f'{Mew_1.common_name}, {Mew_1.level}, {Mew_1.health}, {Mew_1.atk}, {Mew_1.defense}, {Mew_1.speed}')\n",
    "print(f'{Mew_1.common_name}, {Mew_1.level}, {Mew_1.health}, {Mew_1.atk}, {Mew_1.defense}, {Mew_1.speed}')\n",
    "\n",
    "# Why does it not work? Because the attributes are private within the class, and can only be accessed by methods / code predefined in the class"
   ]
  },
  {
   "cell_type": "code",
   "execution_count": 43,
   "metadata": {},
   "outputs": [
    {
     "name": "stdout",
     "output_type": "stream",
     "text": [
      "Mew, Level = 9000, {'Health': 900000, 'Attack': 900000, 'Speed': 90000, 'Defense': 90000}\n",
      "Mew, Level = 9000, {'Health': 900000, 'Attack': 900000, 'Speed': 90000, 'Defense': 90000}\n",
      "mewmew\n"
     ]
    }
   ],
   "source": [
    "# Traditional OOP\n",
    "# Use getter methods for traditional OOP or when question specifies and requires\n",
    "print(f'{Mew_2.get_common_name()}, Level = {Mew_2.get_pokemon_level()}, {Mew_2.get_pokemon_stats()}')\n",
    "print(f'{Mew_2.get_common_name()}, Level = {Mew_2.get_pokemon_level()}, {Mew_2.get_pokemon_stats()}')\n",
    "\n",
    "Mew_2.set_nickname()\n",
    "print(Mew_2.get_nickname())"
   ]
  },
  {
   "cell_type": "code",
   "execution_count": 46,
   "metadata": {},
   "outputs": [],
   "source": [
    "# Pokemon class is the base class / super class / parent class\n",
    "# Pokemon_w_type is inherited class / subclass / child class / derived class\n",
    "\n",
    "class Pokemon_w_type(Pokemon): #inheritance\n",
    "\n",
    "    def __init__(self, common_name, level, health, atk, defense, speed, typ):\n",
    "        super().__init__(common_name, level, health, atk, defense, speed)\n",
    "        self.__typ = typ\n",
    "\n",
    "        # Notice you do not need to retype all the attributes\n",
    "    def get_type(self):\n",
    "        return self.__typ"
   ]
  },
  {
   "cell_type": "code",
   "execution_count": 48,
   "metadata": {},
   "outputs": [
    {
     "data": {
      "text/plain": [
       "'psychic'"
      ]
     },
     "execution_count": 48,
     "metadata": {},
     "output_type": "execute_result"
    }
   ],
   "source": [
    "Mew_3 = Pokemon_w_type('Mew', 9000, 900000, 900000, 90000, 90000, 'psychic')\n",
    "Mew_3.get_type()"
   ]
  }
 ],
 "metadata": {
  "kernelspec": {
   "display_name": "Python 3",
   "language": "python",
   "name": "python3"
  },
  "language_info": {
   "codemirror_mode": {
    "name": "ipython",
    "version": 3
   },
   "file_extension": ".py",
   "mimetype": "text/x-python",
   "name": "python",
   "nbconvert_exporter": "python",
   "pygments_lexer": "ipython3",
   "version": "3.6.4"
  }
 },
 "nbformat": 4,
 "nbformat_minor": 2
}
