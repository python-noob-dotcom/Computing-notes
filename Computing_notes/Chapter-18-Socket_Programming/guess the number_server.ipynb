{
 "cells": [
  {
   "cell_type": "code",
   "execution_count": 1,
   "metadata": {},
   "outputs": [
    {
     "name": "stdout",
     "output_type": "stream",
     "text": [
      "Waiting for connection...\n"
     ]
    }
   ],
   "source": [
    "import socket, random\n",
    "\n",
    "number = str(random.randint(1, 100))\n",
    "tries = 10\n",
    "tried = 0\n",
    "s = socket.socket()\n",
    "s.bind(('127.0.0.1', 9999))\n",
    "\n",
    "s.listen()\n",
    "\n",
    "print('Waiting for connection...')\n",
    "conn, addr = s.accept()\n",
    "\n",
    "data = b''\n",
    "while True:\n",
    "    tried += 1\n",
    "    conn.sendall(b'GUESS\\n')\n",
    "    while b'\\n' not in data:\n",
    "        data += conn.recv(1024)\n",
    "    received = data[:data.find(b'\\n')].decode()\n",
    "    if received < number:\n",
    "        conn.sendall(b'LOW\\n')\n",
    "    elif received > number:\n",
    "        conn.sendall(b'HIGH\\n')\n",
    "    elif received == number:\n",
    "        conn.sendall(b'WIN\\n')\n",
    "        break\n",
    "    elif tried >= tries:\n",
    "        conn.sendall(b'GAMEOVER\\n')\n",
    "        break\n",
    "\n",
    "    \n",
    "\n",
    "s.close()"
   ]
  }
 ],
 "metadata": {
  "kernelspec": {
   "display_name": "Python 3",
   "language": "python",
   "name": "python3"
  },
  "language_info": {
   "codemirror_mode": {
    "name": "ipython",
    "version": 3
   },
   "file_extension": ".py",
   "mimetype": "text/x-python",
   "name": "python",
   "nbconvert_exporter": "python",
   "pygments_lexer": "ipython3",
   "version": "3.7.7"
  }
 },
 "nbformat": 4,
 "nbformat_minor": 2
}
