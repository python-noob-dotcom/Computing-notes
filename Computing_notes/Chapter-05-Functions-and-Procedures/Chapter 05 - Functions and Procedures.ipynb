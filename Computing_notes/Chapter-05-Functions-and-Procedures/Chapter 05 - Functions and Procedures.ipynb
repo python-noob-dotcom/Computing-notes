{
 "cells": [
  {
   "cell_type": "markdown",
   "metadata": {},
   "source": [
    "# <div class = \"alert alert-info\"> <font color = purple> Chapter 05 - Functions and Procedures"
   ]
  },
  {
   "cell_type": "markdown",
   "metadata": {
    "id": "6xoUhwiLM9pn",
    "nbgrader": {
     "cell_type": "markdown",
     "checksum": "f2bf941d6d2584f809c372de7b8d5b8d",
     "grade": false,
     "grade_id": "cell-8dd8af14517735ca",
     "locked": true,
     "schema_version": 3,
     "solution": false,
     "task": false
    }
   },
   "source": [
    "## 5.1 Introduction\n",
    "\n",
    "Many of the work done in Chapters 01 to 04 can only be used once.\n",
    "\n",
    "If we need to use them again, we will have to copy all the code and paste it where we need it. Also, if we change any part of the code, we will have to change it in **all** the places where it is used. This becomes very cumbersome.\n",
    "\n",
    "Once you find yourself using the same chunk of code more than twice, you should consider how to write it in a way that you only need to declare it once and then reuse it again afterwards.\n",
    "\n",
    "We can do so using **functions** and **procedures**. A in depth discussion of **functions** and **procedures** will be covered in the theoretical segment. For now, we shall focus on how they can be implemented in Python."
   ]
  },
  {
   "cell_type": "markdown",
   "metadata": {},
   "source": [
    "## 5.2 Declaring Functions and Procedures in Python\n",
    "\n",
    "\n",
    "### 5.2.1 Declaring Functions\n",
    "In Python, a **function** is declared using the `def` keywords as follows:\n",
    "\n",
    "```Python\n",
    "def func(zero_or_more_parameters):  \n",
    "    # Your code here\n",
    "    return zero_or_more_values\n",
    "```\n",
    "In the **return statement**:\n",
    "- If more than 1 value is specified, a single tuple containing all the values specified will be returned\n",
    "- If no value is specified, the `None` type is returned by default\n",
    "- If 1 value is specified, the value itself is returned. \n",
    "\n",
    "### 5.2.2 Declaring Procedures\n",
    "Python does not make any distinction between functions and procedures. \n",
    "\n",
    "For the purpose of satisfying the theoretical definition of a procedure to fulfil the 9569 H2 Computing syllabus requirements, we can do the following:\n",
    "- Declare a **procedure** as you would for a function\n",
    "- Omit the **return** statement (In Python, a `None` type is returned as default. Visually, it will satisfy the definition of a procedure, since there is \"no\" return.)"
   ]
  },
  {
   "cell_type": "markdown",
   "metadata": {
    "id": "4955gOidM9po",
    "nbgrader": {
     "cell_type": "markdown",
     "checksum": "2b98d71b8a15d70442571b72dad045ad",
     "grade": false,
     "grade_id": "cell-ece179531c973f0c",
     "locked": true,
     "schema_version": 3,
     "solution": false,
     "task": false
    }
   },
   "source": [
    "#### Exercise 1.1\n",
    "Write a function that determines if a given `string` can be converted to a `float`. If the conversion is possible, return `True`. Otherwise, return `False`.\n",
    "\n",
    "Test your code with 2 different values\n",
    "- Value 1: can be converted to float\n",
    "- Value 2: cannot be converted to float"
   ]
  },
  {
   "cell_type": "code",
   "execution_count": null,
   "metadata": {
    "id": "vFKvMuecM9pp"
   },
   "outputs": [],
   "source": [
    "# Function here\n",
    "def isfloat(string):\n",
    "    # Your code here"
   ]
  },
  {
   "cell_type": "code",
   "execution_count": null,
   "metadata": {},
   "outputs": [],
   "source": [
    "# Test your function here \n",
    "val_1 = \"1.0\"\n",
    "isfloat(val_1)"
   ]
  },
  {
   "cell_type": "markdown",
   "metadata": {},
   "source": [
    "#### Exercise 1.2\n",
    "\n",
    "Write a procedure that converts a given string to a float if it can be done so. You may make use of the function in **Exercise 1.1** to determine if the given string is a float.\n",
    "\n",
    "Test your code with 2 different values. If the conversion is possible, output the converted value. Otherwise, output and error message."
   ]
  },
  {
   "cell_type": "code",
   "execution_count": null,
   "metadata": {},
   "outputs": [],
   "source": [
    "# Procedure here\n",
    "def converter(string):\n",
    "    # Your code here"
   ]
  },
  {
   "cell_type": "code",
   "execution_count": null,
   "metadata": {},
   "outputs": [],
   "source": [
    "# Test your procedure here"
   ]
  },
  {
   "cell_type": "markdown",
   "metadata": {
    "id": "VcnFZ1LLM9pq",
    "nbgrader": {
     "cell_type": "markdown",
     "checksum": "805e8c688a667d046bcb1c6892bcbbb8",
     "grade": false,
     "grade_id": "cell-080313d62296a01a",
     "locked": true,
     "schema_version": 3,
     "solution": false,
     "task": false
    }
   },
   "source": [
    "### 5.2.3 Parameters\n",
    "\n",
    "A function / procedure will often need to work on some input variables. These input variables are known as **parameters**. \n",
    "\n",
    "Parameters are declared for use by through `(` parentheses `)` in the definition line.\n",
    "\n",
    "In **Exercise 1.1**, the parameter `string` is declared in the function `isfloat()` and is available for use within the function. If more than one parameter needs to be declared, these parameters should be separated by commas.\n",
    "\n",
    "Values that are passed to a function are called **arguments**.\n",
    "\n",
    "When the function `isfloat()` is called, `val_1` which has a value of `'1.0'` is passed to the function. Hence the argument `num` is passed to the function `isfloat()`, and becomes available in the function as the **parameter** `string`."
   ]
  },
  {
   "cell_type": "markdown",
   "metadata": {
    "id": "MtQXV5-1M9pr",
    "nbgrader": {
     "cell_type": "markdown",
     "checksum": "bf436de421ddabd545739f3f09300784",
     "grade": false,
     "grade_id": "cell-68024493341211ef",
     "locked": true,
     "schema_version": 3,
     "solution": false,
     "task": false
    }
   },
   "source": [
    "### 5.2.4 Output\n",
    "\n",
    "For some functions, an explicit **return value** is required. \n",
    "\n",
    "The above function needs to return a `True` value if the `string` can be converted to a `float`, and to return a `False` value if it cannot be converted to a `float`.\n",
    "\n",
    "We return a value from a function using the `return` keyword. When the `return` keyword is invoked, Python **halts execution** of the function and returns the specified value to the originating statement. \n",
    "\n",
    "In the above case, the originating statement is the `if` statement."
   ]
  },
  {
   "cell_type": "markdown",
   "metadata": {
    "id": "18zN6T8SM9pr",
    "nbgrader": {
     "cell_type": "markdown",
     "checksum": "04aec095fcb14dfbcc2285f4e8bfa36a",
     "grade": false,
     "grade_id": "cell-6c41243ba697fde7",
     "locked": true,
     "schema_version": 3,
     "solution": false,
     "task": false
    }
   },
   "source": [
    "#### Exercise 2\n",
    "\n",
    "Rearrange the following lines of code to produce a valid function declaration for the function `add(a, b)` which takes in two integer arguments `a` and `b`, and return the sum `a + b`.\n",
    "\n",
    "1.  ```\n",
    "    else:\n",
    "    ```\n",
    "2.  ```\n",
    "    def add(a, b):\n",
    "    ```\n",
    "3.  ```\n",
    "    if type(a) == int and type(b) == int:\n",
    "    ```\n",
    "4.  ```\n",
    "    return (a + b)\n",
    "    ```\n",
    "5.  ```\n",
    "    raise TypeError(\"arguments must be int\")\n",
    "    ```\n",
    "\n",
    "Test your code with two sets of values. \n",
    "\n",
    "- Set A: Both `a` and `b` are integers\n",
    "\n",
    "- Set B: At least one of `a` and `b` is not an integer"
   ]
  },
  {
   "cell_type": "code",
   "execution_count": null,
   "metadata": {
    "id": "rhJV8CGBM9ps",
    "nbgrader": {
     "cell_type": "code",
     "checksum": "23fb360abf0133bac526eac574acdaae",
     "grade": false,
     "grade_id": "cell-ad62110c33dd74fc",
     "locked": false,
     "schema_version": 3,
     "solution": true,
     "task": false
    }
   },
   "outputs": [],
   "source": [
    "# Your code here\n"
   ]
  },
  {
   "cell_type": "code",
   "execution_count": null,
   "metadata": {},
   "outputs": [],
   "source": [
    "# Test your code here"
   ]
  },
  {
   "cell_type": "markdown",
   "metadata": {
    "id": "6xmKQ7ceM9ps",
    "nbgrader": {
     "cell_type": "markdown",
     "checksum": "c80735c841666bfacb7fb9eb0e1c343d",
     "grade": false,
     "grade_id": "cell-eb82726376a859a4",
     "locked": true,
     "schema_version": 3,
     "solution": false,
     "task": false
    }
   },
   "source": [
    "#### Exercise 3\n",
    "\n",
    "In the code cell below, replace the underscores (`_____`) with appropriate expressions to declare a function `getnum(expr)` that takes in one string parameter `expr` and returns the first continuous sequence of digits (`0-9`).\n",
    "\n",
    "#### Example output\n",
    "\n",
    "```\n",
    ">>> getnum('56 + 7')\n",
    "56\n",
    ">>> getnum('23 + 3')\n",
    "23\n",
    ">>> getnum('43+9')\n",
    "43\n",
    ">>> getnum('    99')\n",
    "99\n",
    ">>> getnum(79)\n",
    "TypeError\n",
    ">>> getnum('456.1')\n",
    "456\n",
    "```"
   ]
  },
  {
   "cell_type": "code",
   "execution_count": null,
   "metadata": {
    "id": "7X238EdSM9pt",
    "nbgrader": {
     "cell_type": "code",
     "checksum": "cc334e5d76d4314b1b4088558f2c95cb",
     "grade": true,
     "grade_id": "cell-67d4acf84d60f215",
     "locked": false,
     "points": 1,
     "schema_version": 3,
     "solution": true,
     "task": false
    }
   },
   "outputs": [],
   "source": [
    "# Complete the code here\n",
    "\n",
    "_____ getnum(_____):\n",
    "    if type(expr) != str:  # check if the parameter expr is of string type\n",
    "        raise TypeError(\"expr must be a string\")\n",
    "    else:\n",
    "        output = ''\n",
    "        for char in expr:\n",
    "            if char in _____:  # check if char is a digit (0-9)\n",
    "                output _____ char  # concatenate char to output\n",
    "            elif char == ' ':\n",
    "                pass  # ignore spaces\n",
    "            else:\n",
    "                # If invalid char encountered, terminate and return\n",
    "                _____ output"
   ]
  },
  {
   "cell_type": "code",
   "execution_count": null,
   "metadata": {},
   "outputs": [],
   "source": [
    "# Test you code here with the sets of arguments in the example output"
   ]
  },
  {
   "cell_type": "markdown",
   "metadata": {
    "id": "JVOB5o6hM9pt",
    "nbgrader": {
     "cell_type": "markdown",
     "checksum": "1d86d3723d81d9056b967e4bb21c44e2",
     "grade": false,
     "grade_id": "cell-fd81df8b8986ce94",
     "locked": true,
     "schema_version": 3,
     "solution": false,
     "task": false
    }
   },
   "source": [
    "### 5.5.5 Implicit `return` value\n",
    "\n",
    "In functions where there is no `return` statement, a default value of `None` is returned.\n",
    "\n",
    "Run the code cell below to see how a function without a `return` statement still returns a value (of `None`):"
   ]
  },
  {
   "cell_type": "code",
   "execution_count": 2,
   "metadata": {
    "id": "gQwx3IbwM9pu"
   },
   "outputs": [
    {
     "name": "stdout",
     "output_type": "stream",
     "text": [
      "1 minute and 1 second\n",
      "None\n"
     ]
    },
    {
     "data": {
      "text/plain": [
       "NoneType"
      ]
     },
     "execution_count": 2,
     "metadata": {},
     "output_type": "execute_result"
    }
   ],
   "source": [
    "def print_minutes(seconds):\n",
    "    mins, sec = divmod(seconds, 60)\n",
    "    if mins == 1:\n",
    "        s_min = ''\n",
    "    else:\n",
    "        s_min = 's'\n",
    "    if sec == 1:\n",
    "        s_sec = ''\n",
    "    else:\n",
    "        s_sec = 's'\n",
    "    print(f'{mins} minute{s_min} and {sec} second{s_sec}')\n",
    "    \n",
    "return_value = print_minutes(61) #This assigns the return value from print_minutes() to return_value\n",
    "print(return_value) # Remember when nothing is specified to return, it just returns None\n",
    "type(return_value)"
   ]
  },
  {
   "cell_type": "markdown",
   "metadata": {
    "id": "8iOuYurNM9pu",
    "nbgrader": {
     "cell_type": "markdown",
     "checksum": "9041f788dc41847e3f3df85b867d16bc",
     "grade": false,
     "grade_id": "cell-bb5267e397b63d33",
     "locked": true,
     "schema_version": 3,
     "solution": false,
     "task": false
    }
   },
   "source": [
    "## 5.3 Challenges in Modularising Code into Subroutines\n",
    "\n",
    "A commonly quoted principle in Python programming is **Don’t Repeat Yourself**. \n",
    "\n",
    "While it is just a guideline and not to be religiously followed, often we find ourselves repeating chunks of code in multiple places in a large programming project. This makes updating the code difficult; each change we make to this chunk of code needs to be repeated in multiple places. Missing out even one occurrence can lead to a difficult-to-trace bug!\n",
    "\n",
    "In the above code cell, there was a chunk of code that decides whether to use the plural form for units of time. This chunk of code was repeated twice to check if plural form was needed for minutes, and for seconds.\n",
    "\n",
    "We can make the code shorter and easier to read by putting this chunk of code into another function, `suffix_for()`."
   ]
  },
  {
   "cell_type": "code",
   "execution_count": null,
   "metadata": {
    "id": "_aF4OTXzM9pv"
   },
   "outputs": [],
   "source": [
    "def suffix_for(num):\n",
    "    if num == 1:\n",
    "        s = ''\n",
    "    else:\n",
    "        s = 's'\n",
    "    return s\n",
    "\n",
    "def print_minutes(seconds):\n",
    "    mins, sec = divmod(seconds, 60)\n",
    "    s_min = suffix_for(mins)\n",
    "    s_sec = suffix_for(sec)\n",
    "        \n",
    "    print(f'{mins} minute{s_min} and {sec} second{s_sec}')\n",
    "    \n",
    "print_minutes(62)"
   ]
  },
  {
   "cell_type": "markdown",
   "metadata": {
    "id": "RzqfPUstM9pv"
   },
   "source": [
    "**<u>Question</u>**\n",
    "\n",
    "Can we use the variable name `min` instead of `mins` on line 9?"
   ]
  },
  {
   "cell_type": "markdown",
   "metadata": {
    "id": "_xVXpKDbM9pw",
    "nbgrader": {
     "cell_type": "markdown",
     "checksum": "750d8269fd2c3601e79c1dcede6decd6",
     "grade": false,
     "grade_id": "cell-572169217a10474c",
     "locked": true,
     "schema_version": 3,
     "solution": false,
     "task": false
    }
   },
   "source": [
    "In the function `suffix_for()`, notice that the variable `s` is only used as a **temporary** holder that is immediately returned. We could simplify the code further by just returning the values `''` or `'s'` directly.\n",
    "\n",
    "In the function `print_minutes()`, the variables `s_min` and `s_sec` function similarly as **temporary** holders that are immediately `print`ed. We could simply substitute the expressions into the f-string directly.\n",
    "\n",
    "The following code illustrates these changes:"
   ]
  },
  {
   "cell_type": "code",
   "execution_count": null,
   "metadata": {
    "id": "ESCrkwQHM9pw"
   },
   "outputs": [],
   "source": [
    "#Improved code\n",
    "\n",
    "def suffix_for(num):\n",
    "    if num == 1:\n",
    "        return ''\n",
    "    else:\n",
    "        return 's'\n",
    "\n",
    "def print_minutes(seconds):\n",
    "    mins, sec = divmod(seconds, 60)\n",
    "    print(f'{mins} minute{suffix_for(mins)} and {sec} second{suffix_for(sec)}')\n",
    "    \n",
    "print_minutes(121)"
   ]
  },
  {
   "cell_type": "markdown",
   "metadata": {
    "id": "gewaxoC7M9pw",
    "nbgrader": {
     "cell_type": "markdown",
     "checksum": "5d3ec7fb15349cdc8a39dbe3e11cb017",
     "grade": false,
     "grade_id": "cell-8a44aaccbbd1abfc",
     "locked": true,
     "schema_version": 3,
     "solution": false,
     "task": false
    }
   },
   "source": [
    "### 5.3.1 Readability\n",
    "\n",
    "In compressing code into functions and procedures, a balance has to be struck for best readability. Unnecessarily long code is tedious to read and difficult to follow, but over-compressed code can also be difficult to read.\n",
    "\n",
    "Can you understand this code immediately or do you need a bit of time to figure this?\n",
    "\n",
    "```python\n",
    "def getnum(expr):\n",
    "    return expr.lstrip(' ').replace(expr.lstrip('0123456789 '), '')\n",
    "```\n",
    "\n",
    "Code that is hard to understand at a glance can slow down an entire programming team. This is bad, especially during crunch time, when it is important to be able to quickly understand what a chunk of code is supposed to do.\n",
    "\n",
    "Your skill at writing readable code will improve with experience. The best way to know if your code is readable is to show it to other programmers and see if they can understand it quickly and easily."
   ]
  },
  {
   "cell_type": "markdown",
   "metadata": {},
   "source": [
    "### 5.3.2 Writing readable code\n",
    "\n",
    "PEP 8 is a style guide; that means it contains suggestions and tips on writing Python code that is readable to other Python programmers.\n",
    "\n",
    "One of the key insights behind the Python programming language is that code is frequently read by people. A programming team is slowed down when it take a long time to read and understand code.\n",
    "\n",
    "[Have a read through PEP 8](https://www.python.org/dev/peps/pep-0008) and take note of its recommendations. Following this style guide will make you a better programmer and team member as you write code with others.\n",
    "\n",
    "It has the additional benefit of making you write readable code that is easier for your A Level examiners to understand and grade!"
   ]
  },
  {
   "cell_type": "markdown",
   "metadata": {
    "id": "pTyHQLDhM9px",
    "nbgrader": {
     "cell_type": "markdown",
     "checksum": "b831ce47c84fcc23684fac01bc78be9b",
     "grade": false,
     "grade_id": "cell-4564950a3fa3ca06",
     "locked": true,
     "schema_version": 3,
     "solution": false,
     "task": false
    }
   },
   "source": [
    "## 5.4 Sequencing your Code\n",
    "\n",
    "In the menu bar above, click on <kbd>Kernel</kbd> → <kbd>Restart & Clear Output</kbd> before you proceed.\n",
    "\n",
    "Will the following code return an error? Why?"
   ]
  },
  {
   "cell_type": "code",
   "execution_count": 4,
   "metadata": {
    "id": "q1bQZk8PM9px"
   },
   "outputs": [],
   "source": [
    "# print_minutes(121)\n",
    "\n",
    "def print_minutes(seconds):\n",
    "    mins, sec = divmod(seconds, 60)\n",
    "    print(f'{mins} minute{new_suffix(mins)} and {sec} second{new_suffix(sec)}')\n",
    "    \n",
    "def new_suffix(num):\n",
    "    if num == 1:\n",
    "        return ''\n",
    "    else:\n",
    "        return 's'"
   ]
  },
  {
   "cell_type": "markdown",
   "metadata": {
    "id": "UxAjLjM7M9px",
    "nbgrader": {
     "cell_type": "markdown",
     "checksum": "13cab690c81cb86a8d4da7eba17d668d",
     "grade": false,
     "grade_id": "cell-c452ff424bc97a02",
     "locked": true,
     "schema_version": 3,
     "solution": false,
     "task": false
    }
   },
   "source": [
    "Functions must be declared before they are used. The Python interpreter reads the code line by line, and functions are only added for use when the interpreter first encounters the function declaration and **parses** it.\n",
    "\n",
    "If you attempt to use the function `print_minutes()` before it is declared, Python checks in its memory for available functions named `print_minutes`, finds nothing, and raises a `NameError`."
   ]
  },
  {
   "cell_type": "markdown",
   "metadata": {},
   "source": [
    "## 5.5 Function as a Python Object\n",
    "\n",
    "Python treats a function as just another object. That means you can examine it with the built-in helper functions `dir()`, `help()`, and `type()`.\n",
    "\n",
    "Try this in the code cell below and observe the output produced by the helper functions."
   ]
  },
  {
   "cell_type": "code",
   "execution_count": 5,
   "metadata": {
    "id": "xQnr50sHM9py",
    "nbgrader": {
     "cell_type": "code",
     "checksum": "b1cd60d8c22beb986aa2f4305b4d986e",
     "grade": true,
     "grade_id": "cell-4beb3675e2d73f17",
     "locked": false,
     "points": 1,
     "schema_version": 3,
     "solution": true,
     "task": false
    }
   },
   "outputs": [
    {
     "name": "stdout",
     "output_type": "stream",
     "text": [
      "Help on function print_minutes in module __main__:\n",
      "\n",
      "print_minutes(seconds)\n",
      "    Converts seconds to minutes & seconds and prints the output.\n",
      "    \n",
      "    Example:\n",
      "    >>> print_minutes(61)\n",
      "    1 minute and 1 second\n",
      "\n"
     ]
    }
   ],
   "source": [
    "def print_minutes(seconds):\n",
    "    \"\"\"\n",
    "    Converts seconds to minutes & seconds and prints the output.\n",
    "    \n",
    "    Example:\n",
    "    >>> print_minutes(61)\n",
    "    1 minute and 1 second\n",
    "    \"\"\"\n",
    "    mins, sec = divmod(seconds, 60)\n",
    "    print(f'{mins} minute{new_suffix(mins)} and {sec} second{new_suffix(sec)}')\n",
    "\n",
    "#Type your code below to examine the function print_minutes() with the built-in helper functions\n",
    "help(print_minutes)"
   ]
  },
  {
   "cell_type": "markdown",
   "metadata": {
    "id": "qgdfi_cdM9py",
    "nbgrader": {
     "cell_type": "markdown",
     "checksum": "79c960b98b73ff52550c1ba3c01c29e1",
     "grade": false,
     "grade_id": "cell-c3a994bf77da96ae",
     "locked": true,
     "schema_version": 3,
     "solution": false,
     "task": false
    }
   },
   "source": [
    "### 5.5.1 Docstrings\n",
    "\n",
    "The multiline comment (starting and ending with `\"\"\"`) you see in the previous cell, immediately below the `def` statement, is known as a **docstring**, short for **documentation string**. This docstring helps other programmers understand how to use the function. It is also returned by the `help()` function, so that programmers do not have to read the source code to know how to use it in Python.\n",
    "\n",
    "It is standard programming practice to include docstrings in **all** functions that you write.\n",
    "\n",
    "### 5.5.2 Function type\n",
    "\n",
    "Python treats functions as a special type of object. You can even write functions that take in other functions as input values!\n",
    "\n",
    "Notice that a function has many special (dunder) methods and attributes. Almost all Python objects have special methods and attributes associated with them. We will explore special methods and attributes in future lessons."
   ]
  },
  {
   "cell_type": "markdown",
   "metadata": {
    "id": "rtcoTQ9UM9py",
    "nbgrader": {
     "cell_type": "markdown",
     "checksum": "73e45393b727d16367814952fcfd0e72",
     "grade": false,
     "grade_id": "cell-ee767a8e6691485d",
     "locked": true,
     "schema_version": 3,
     "solution": false,
     "task": false
    }
   },
   "source": [
    "## 5.6 Variable Scoping\n",
    "\n",
    "Variables work differently inside a function and outside of the function. That is because the Python code \"space\" inside the function and outside is different. We refer to these different spaces as the **scope**.\n",
    "\n",
    "Run the code cell below and see what happens."
   ]
  },
  {
   "cell_type": "code",
   "execution_count": 28,
   "metadata": {
    "id": "4G_516SWM9pz"
   },
   "outputs": [
    {
     "name": "stdout",
     "output_type": "stream",
     "text": [
      "In function fn(), after declaring var2:\n",
      "var1 is 2\n",
      "var2 is 2\n",
      "2\n"
     ]
    }
   ],
   "source": [
    "var1 = 1\n",
    "\n",
    "def fn():\n",
    "    \"\"\"A test function to examine local vs global scoping.\"\"\"\n",
    "    global var1\n",
    "    var1 = 2\n",
    "    var2 = 2\n",
    "    print('In function fn(), after declaring var2:')\n",
    "    print(f'var1 is {var1}')\n",
    "    print(f'var2 is {var2}')\n",
    "    \n",
    "fn()\n",
    "print(var1)"
   ]
  },
  {
   "cell_type": "markdown",
   "metadata": {
    "id": "BC55cxsLM9pz",
    "nbgrader": {
     "cell_type": "markdown",
     "checksum": "dff5d6d9004819d40e02346717d87c2b",
     "grade": false,
     "grade_id": "cell-d220ad8314638d34",
     "locked": true,
     "schema_version": 3,
     "solution": false,
     "task": false
    }
   },
   "source": [
    "In the above code cell, `var1` was defined first and assigned to the value `1`, outside of any functions or objects. We refer to such variables as **global** variables. Global variables exist in the global scope.\n",
    "\n",
    "Inside the function `fn()`, the variable `var1` is assigned to the value `2`. This space is known as the **local** scope. We say that the variable `var1` has a value of `2` in the local scope and a value of `1` in the global scope.\n",
    "\n",
    "This means that when we access `var1` in the local scope, it will return a value of `2`, and when we access `var1` in the global scope, it will return a value of `1`. You can see this happening in the code cell below, when we evaluate `var1` in the **global** scope:"
   ]
  },
  {
   "cell_type": "code",
   "execution_count": null,
   "metadata": {
    "id": "M1TpFMhpM9pz"
   },
   "outputs": [],
   "source": [
    "var1 = 1\n",
    "def fn():\n",
    "    '''A test function to examine local vs global scoping.'''\n",
    "    var1 = 2\n",
    "    global var2\n",
    "    var2 = 2\n",
    "    print('In function fn(), after declaring var2:')\n",
    "    print(f'var1 is {var1}')\n",
    "    print(f'var2 is {var2}')\n",
    "    \n",
    "fn()\n",
    "print('Outside function fn():')\n",
    "print(f'var1 is {var1}')\n",
    "print(f'var2 is {var2}')"
   ]
  },
  {
   "cell_type": "markdown",
   "metadata": {
    "id": "iQT0i1KuM9p0",
    "nbgrader": {
     "cell_type": "markdown",
     "checksum": "a279fe37089d2eaf836d11fc305359a8",
     "grade": false,
     "grade_id": "cell-5aa365275cb6386d",
     "locked": true,
     "schema_version": 3,
     "solution": false,
     "task": false
    }
   },
   "source": [
    "Notice that `var2` was defined within the function, in the local scope. After the function exits and we are back in the global scope, `var2` is no longer accessible. Attempting to access `var2` in the global scope results in a `NameError` being raised."
   ]
  },
  {
   "cell_type": "markdown",
   "metadata": {},
   "source": [
    "### 5.6.1 Avoid using Python built-in names as variable names\n",
    "\n",
    "You already know that Python keywords (such as `def`, `if`, `for`, ...) cannot be used as variable names; doing so will result in a `SyntaxError`.\n",
    "\n",
    "Some other words, such as `print`, `list`, `int`, `float`, `str`, ... *can* be used as variable names. That does not mean that doing so is a good idea. You may end up overwriting important functions or keywords and not be able to use them!\n",
    "\n",
    "In the example below, I *naively* define a variable `int` and assign it a value of `2`. This results in two `int`s existing in the global scope. Calling `int` will return the **variable** instead of the **integer** object."
   ]
  },
  {
   "cell_type": "code",
   "execution_count": null,
   "metadata": {
    "id": "o7-oTWwdM9p0"
   },
   "outputs": [],
   "source": [
    "# This line removes any old `int` variables so that the below code cells\n",
    "# do not screw up\n",
    "if 'int' in globals():\n",
    "    del globals()['int']\n",
    "\n",
    "# At this point, int is a function object\n",
    "print(f'int is {int}')\n",
    "\n",
    "# Before defining an int variable, let's assign the int function to\n",
    "# another object named int_fn first:\n",
    "int_fn = int\n",
    "\n",
    "# Now let's define an int variable and assign it the value 2\n",
    "int = 2\n",
    "\n",
    "# If we attempt to access the int object, we now get the int variable\n",
    "# instead of the function:\n",
    "print(f'int is {int}')\n",
    "\n",
    "# fortunately, the original function is still available as int_fn:\n",
    "print(f'int_fn is {int_fn}')"
   ]
  },
  {
   "cell_type": "markdown",
   "metadata": {
    "id": "T2_coiLyM9p0",
    "nbgrader": {
     "cell_type": "markdown",
     "checksum": "3a4a612e60f8be0a027badadb417294d",
     "grade": false,
     "grade_id": "cell-eac341220c86ff9c",
     "locked": true,
     "schema_version": 3,
     "solution": false,
     "task": false
    }
   },
   "source": [
    "If I try to use `int()` to cast a string to an integer, that will not longer work!"
   ]
  },
  {
   "cell_type": "code",
   "execution_count": null,
   "metadata": {
    "id": "3GpbRAQjM9p0"
   },
   "outputs": [],
   "source": [
    "int('1')"
   ]
  },
  {
   "cell_type": "markdown",
   "metadata": {
    "id": "A_6hAQCjM9p0",
    "nbgrader": {
     "cell_type": "markdown",
     "checksum": "546d5f4e6736e8ea4ee073d5c7949890",
     "grade": false,
     "grade_id": "cell-f6a26461f6ad9aaa",
     "locked": true,
     "schema_version": 3,
     "solution": false,
     "task": false
    }
   },
   "source": [
    "Luckily, with foresight we had assigned the built-in `int` object to `int_fn`, so we can still use `int_fn()` to perform the casting:"
   ]
  },
  {
   "cell_type": "code",
   "execution_count": null,
   "metadata": {
    "id": "53cxLs73M9p1"
   },
   "outputs": [],
   "source": [
    "int_fn('1')"
   ]
  },
  {
   "cell_type": "markdown",
   "metadata": {
    "id": "oZB2y2DEM9p1",
    "nbgrader": {
     "cell_type": "markdown",
     "checksum": "45b378b709a913d5831d4223c5e6e8b2",
     "grade": false,
     "grade_id": "cell-d389b6a4fd4faca8",
     "locked": true,
     "schema_version": 3,
     "solution": false,
     "task": false
    }
   },
   "source": [
    "### 5.6.2 Use of Reserved Keyword Under Forced Circumstances\n",
    "\n",
    "PEP 8, the Style Guide for Python Code, [recommends using a trailing underscore_ for variables that will conflict with Python reserved keywords](https://www.python.org/dev/peps/pep-0008/#id36). For instance, to avoid a variable name collision with the reserved `class` keyword:\n",
    "\n",
    "```\n",
    "name = 'Wu Moyan'\n",
    "class_ = '2021'\n",
    "```"
   ]
  }
 ],
 "metadata": {
  "colab": {
   "provenance": []
  },
  "kernelspec": {
   "display_name": "Python 3",
   "language": "python",
   "name": "python3"
  },
  "language_info": {
   "codemirror_mode": {
    "name": "ipython",
    "version": 3
   },
   "file_extension": ".py",
   "mimetype": "text/x-python",
   "name": "python",
   "nbconvert_exporter": "python",
   "pygments_lexer": "ipython3",
   "version": "3.6.4"
  }
 },
 "nbformat": 4,
 "nbformat_minor": 1
}
