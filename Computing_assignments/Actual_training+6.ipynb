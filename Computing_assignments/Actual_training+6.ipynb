{
 "cells": [
  {
   "attachments": {},
   "cell_type": "markdown",
   "metadata": {},
   "source": [
    "## Question 1\n",
    "View Past Answers\n",
    "Task 1 - Is a Number Prime?\n",
    "\n",
    " \n",
    "\n",
    "### Task 1.1\n",
    "\n",
    "Write a function is_prime that takes in a parameter val and checks whether it is a prime number.\n",
    "\n",
    "If val is a prime number, the function returns True. Otherwise, the function returns False. \n",
    "\n",
    " \n",
    "\n",
    "### Task 1.2 \n",
    "\n",
    "Write program code that reads an integer from the user and displays a message indicating whether or not it is prime. \n",
    "\n",
    "Your program should make use of the is_prime function.\n",
    "\n",
    " \n",
    "\n",
    "### Task 1.3\n",
    "\n",
    "Create a function next_prime that takes in a n integer parameter n and finds and returns the first prime number larger than n. \n",
    "\n",
    "Your program should make use of the is_prime function.\n",
    "\n",
    " \n",
    "\n",
    "### Task 1.4\n",
    "\n",
    "Write program code that reads an integer from the user and displays the first prime number larger than the entered value.\n",
    "\n",
    "You program should make use of the next_prime function.\n",
    "\n"
   ]
  },
  {
   "cell_type": "code",
   "execution_count": 12,
   "metadata": {},
   "outputs": [
    {
     "data": {
      "text/plain": [
       "1"
      ]
     },
     "execution_count": 12,
     "metadata": {},
     "output_type": "execute_result"
    }
   ],
   "source": [
    "11 % 2"
   ]
  },
  {
   "cell_type": "code",
   "execution_count": 101,
   "metadata": {},
   "outputs": [
    {
     "data": {
      "text/plain": [
       "False"
      ]
     },
     "execution_count": 101,
     "metadata": {},
     "output_type": "execute_result"
    }
   ],
   "source": [
    "# Your code here\n",
    "# Task 1.1\n",
    "import math\n",
    "def is_prime(n):\n",
    "    \"\"\"\n",
    "    Function checks if a number is a prime number. \n",
    "\n",
    "    If the number is a prime number, it will return True, else return False\n",
    "    \"\"\"\n",
    "    status = False\n",
    "    if n == 1:\n",
    "        return False\n",
    "    for num in range(2, n):\n",
    "        if n % num == 0:\n",
    "            status = True\n",
    "    if status:\n",
    "        return False\n",
    "    else:\n",
    "        return True\n",
    "\n",
    "is_prime(1)"
   ]
  },
  {
   "cell_type": "code",
   "execution_count": 97,
   "metadata": {},
   "outputs": [
    {
     "name": "stdout",
     "output_type": "stream",
     "text": [
      "True\n"
     ]
    }
   ],
   "source": [
    "# Your code here\n",
    "# Task 1.2\n",
    "if __name__ == '__main__':\n",
    "    userin = input('Input a number to check if it is a prime number')\n",
    "    userin = int(userin)\n",
    "    print(is_prime(userin))"
   ]
  },
  {
   "cell_type": "code",
   "execution_count": 102,
   "metadata": {},
   "outputs": [
    {
     "data": {
      "text/plain": [
       "11"
      ]
     },
     "execution_count": 102,
     "metadata": {},
     "output_type": "execute_result"
    }
   ],
   "source": [
    "# Task 1.3\n",
    "def next_prime(number):\n",
    "    \"\"\"\n",
    "    Returns the next closer number that is larger than the input number that is \n",
    "    a prime number\n",
    "\n",
    "    e.g.\n",
    "    next_prime(9)\n",
    "    >>>> 11\n",
    "    \"\"\"\n",
    "    status = True\n",
    "    num = number + 1\n",
    "    while status:\n",
    "        if is_prime(num) == True:\n",
    "            return num\n",
    "            status = False\n",
    "            break\n",
    "        else:\n",
    "            num += 1\n",
    "\n",
    "next_prime(9)"
   ]
  },
  {
   "cell_type": "code",
   "execution_count": 103,
   "metadata": {},
   "outputs": [
    {
     "name": "stdout",
     "output_type": "stream",
     "text": [
      "2\n"
     ]
    }
   ],
   "source": [
    "# Task 1.4\n",
    "\n",
    "if __name__ == '__main__':\n",
    "    userin = input('Input a integer: ')\n",
    "    userin = int(userin)\n",
    "    print(next_prime(userin))"
   ]
  }
 ],
 "metadata": {
  "kernelspec": {
   "display_name": "Python 3",
   "language": "python",
   "name": "python3"
  },
  "language_info": {
   "codemirror_mode": {
    "name": "ipython",
    "version": 3
   },
   "file_extension": ".py",
   "mimetype": "text/x-python",
   "name": "python",
   "nbconvert_exporter": "python",
   "pygments_lexer": "ipython3",
   "version": "3.6.4"
  },
  "orig_nbformat": 4
 },
 "nbformat": 4,
 "nbformat_minor": 2
}
