{
 "cells": [
  {
   "cell_type": "code",
   "execution_count": 1,
   "metadata": {},
   "outputs": [
    {
     "name": "stdout",
     "output_type": "stream",
     "text": [
      "Badminton Bookings    |897381              \n",
      "--------------------------------------------------\n",
      "Table-Tennis Bookings |233425              \n",
      "--------------------------------------------------\n",
      "Tennis Bookings       |206559              \n",
      "--------------------------------------------------\n",
      "Squash Bookings       |66718               \n",
      "--------------------------------------------------\n",
      "Football Bookings     |32022               \n",
      "--------------------------------------------------\n",
      "Basketball Bookings   |16970               \n",
      "--------------------------------------------------\n",
      "Volleyball Bookings   |14733               \n",
      "--------------------------------------------------\n",
      "Netball Bookings      |8700                \n",
      "--------------------------------------------------\n",
      "Hockey Bookings       |6726                \n",
      "--------------------------------------------------\n",
      "Athletics Bookings    |2570                \n",
      "--------------------------------------------------\n",
      "Rugby Bookings        |482                 \n",
      "--------------------------------------------------\n"
     ]
    }
   ],
   "source": [
    "with open('./2023 TJC Prelim Data Files/SPORTS-FACILITIES.txt') as f:\n",
    "    data = []\n",
    "    for line in f:\n",
    "        data += [line.strip().split(',')]\n",
    "\n",
    "def insertion_sort(data):\n",
    "    for i in range(len(data)):\n",
    "\n",
    "        j = i - 1\n",
    "\n",
    "        while j > -1 and int(data[j + 1][1]) > int(data[j][1]):\n",
    "            data[j], data[j + 1] = data[j + 1], data[j]\n",
    "            j -= 1\n",
    "\n",
    "    return data\n",
    "\n",
    "data_2 = insertion_sort(data)\n",
    "\n",
    "for booking in data_2:\n",
    "    print(f'{booking[0]:<22}|{booking[1]:<20}')\n",
    "    print('-'*50)"
   ]
  },
  {
   "cell_type": "code",
   "execution_count": 6,
   "metadata": {},
   "outputs": [
    {
     "name": "stdout",
     "output_type": "stream",
     "text": [
      "Badminton Bookings    |897381              \n",
      "--------------------------------------------------\n",
      "Table-Tennis Bookings |233425              \n",
      "--------------------------------------------------\n",
      "Tennis Bookings       |206559              \n",
      "--------------------------------------------------\n",
      "Squash Bookings       |66718               \n",
      "--------------------------------------------------\n",
      "Football Bookings     |32022               \n",
      "--------------------------------------------------\n",
      "Basketball Bookings   |16970               \n",
      "--------------------------------------------------\n",
      "Volleyball Bookings   |14733               \n",
      "--------------------------------------------------\n",
      "Netball Bookings      |8700                \n",
      "--------------------------------------------------\n",
      "Hockey Bookings       |6726                \n",
      "--------------------------------------------------\n",
      "Athletics Bookings    |2570                \n",
      "--------------------------------------------------\n",
      "Rugby Bookings        |482                 \n",
      "--------------------------------------------------\n"
     ]
    }
   ],
   "source": [
    "def quicksort(data):\n",
    "    if len(data) > 2:\n",
    "        \n",
    "        mid = len(data) // 2\n",
    "        mid_data = data[mid]\n",
    "        left = []\n",
    "        right = []\n",
    "        mid = []\n",
    "        for x in data:\n",
    "            if int(x[1]) > int(mid_data[1]):\n",
    "                left += [x]\n",
    "            elif int(x[1]) < int(mid_data[1]):\n",
    "                right += [x]\n",
    "            else:\n",
    "                mid += [x]\n",
    "\n",
    "        return quicksort(left) + mid + quicksort(right)\n",
    "    else:\n",
    "        return data\n",
    "\n",
    "data_2 = quicksort(data)\n",
    "\n",
    "for booking in data_2:\n",
    "    print(f'{booking[0]:<22}|{booking[1]:<20}')\n",
    "    print('-'*50)"
   ]
  },
  {
   "cell_type": "code",
   "execution_count": 12,
   "metadata": {},
   "outputs": [
    {
     "name": "stdout",
     "output_type": "stream",
     "text": [
      "31\n",
      "11\n"
     ]
    }
   ],
   "source": [
    "with open('./2023 TJC Prelim Data Files/SPORTS-FACILITIES.txt') as f:\n",
    "    data = []\n",
    "    for line in f:\n",
    "        data += (line.strip().split(','), )\n",
    "\n",
    "def insertion_sort(data):\n",
    "    comparisons = 0\n",
    "    for i in range(len(data)):\n",
    "\n",
    "        j = i - 1\n",
    "\n",
    "        while j > -1 and int(data[j + 1][1]) > int(data[j][1]):\n",
    "            data[j], data[j + 1] = data[j + 1], data[j]\n",
    "            j -= 1\n",
    "            comparisons += 1\n",
    "\n",
    "    return data, comparisons\n",
    "\n",
    "data_2, insertion_sort_comparisons = insertion_sort(data)\n",
    "\n",
    "print(insertion_sort_comparisons)\n",
    "\n",
    "def quicksort(data, comparisons = 0):\n",
    "    if len(data) > 2:\n",
    "        \n",
    "        mid = len(data) // 2\n",
    "        mid_data = data[mid]\n",
    "        left = ()\n",
    "        right = ()\n",
    "        mid = ()\n",
    "        for x in data:\n",
    "            if int(x[1]) > int(mid_data[1]):\n",
    "                comparisons += 1\n",
    "                left += (x, )\n",
    "            elif int(x[1]) < int(mid_data[1]):\n",
    "                comparisons += 1\n",
    "                right += (x, )\n",
    "            else:\n",
    "                comparisons += 1\n",
    "                mid += (x, )\n",
    "\n",
    "        return quicksort(left) + mid + quicksort(right), comparisons\n",
    "    else:\n",
    "        return data\n",
    "\n",
    "data_2, quicksort_comparisons = quicksort(data)\n",
    "\n",
    "print(quicksort_comparisons)\n",
    "\n",
    "# Thus quicksort is faster babyyyyyy"
   ]
  }
 ],
 "metadata": {
  "kernelspec": {
   "display_name": "computing",
   "language": "python",
   "name": "python3"
  },
  "language_info": {
   "codemirror_mode": {
    "name": "ipython",
    "version": 3
   },
   "file_extension": ".py",
   "mimetype": "text/x-python",
   "name": "python",
   "nbconvert_exporter": "python",
   "pygments_lexer": "ipython3",
   "version": "3.6.13"
  }
 },
 "nbformat": 4,
 "nbformat_minor": 2
}
