{
 "cells": [
  {
   "cell_type": "code",
   "execution_count": 2,
   "metadata": {},
   "outputs": [],
   "source": [
    "# Task 4.1\n",
    "\n",
    "import sqlite3\n",
    "\n",
    "with sqlite3.connect(r'C:\\Users\\eugen\\Desktop\\Computing_notes\\Computing-notes\\Journey_to_A\\Past Year Papers\\JPJC Prelim 2024\\Flight.db') as conn:\n",
    "    cursor = conn.cursor()\n",
    "\n",
    "    cursor.execute('CREATE TABLE \"Flight\" (\\\n",
    "\t\"flightNum\"\tTEXT,\\\n",
    "\t\"departure\"\tTEXT,\\\n",
    "\t\"destination\"\tTEXT,\\\n",
    "\t\"departureTime\"\tTEXT,\\\n",
    "\t\"arrivalTime\"\tTEXT,\\\n",
    "\tPRIMARY KEY(\"flightNum\")\\\n",
    "    );')\n",
    "\n",
    "    conn.commit()"
   ]
  },
  {
   "cell_type": "code",
   "execution_count": 3,
   "metadata": {},
   "outputs": [],
   "source": [
    "import sqlite3\n",
    "\n",
    "with open('TASK4.txt') as f:\n",
    "    data = []\n",
    "    for row in f:\n",
    "        data += [row.strip().split(',')]\n",
    "\n",
    "    data = data[1:]\n",
    "\n",
    "with sqlite3.connect('Flight.db') as conn:\n",
    "    cursor = conn.cursor()\n",
    "\n",
    "    for record in data:\n",
    "        cursor.execute('INSERT INTO Flight VALUES\\\n",
    "                       (?, ?, ?, ?, ?)',\n",
    "                       (record[0], record[1], record[2], record[3], record[4]))\n",
    "        \n",
    "    conn.commit()"
   ]
  }
 ],
 "metadata": {
  "kernelspec": {
   "display_name": "computing",
   "language": "python",
   "name": "python3"
  },
  "language_info": {
   "codemirror_mode": {
    "name": "ipython",
    "version": 3
   },
   "file_extension": ".py",
   "mimetype": "text/x-python",
   "name": "python",
   "nbconvert_exporter": "python",
   "pygments_lexer": "ipython3",
   "version": "3.6.13"
  }
 },
 "nbformat": 4,
 "nbformat_minor": 2
}
