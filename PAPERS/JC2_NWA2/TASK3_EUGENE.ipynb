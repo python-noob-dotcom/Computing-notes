{
 "cells": [
  {
   "cell_type": "code",
   "execution_count": 28,
   "metadata": {},
   "outputs": [],
   "source": [
    "class Tree:\n",
    "    def __init__(self, value= None):\n",
    "        self.value = value\n",
    "        self.left = None\n",
    "        self.right = None\n",
    "\n",
    "    def insert_recursive(self, value):\n",
    "        \"\"\"\n",
    "        Insert node into tree recursively, returns 1 if there is successful insertion\n",
    "        \"\"\"\n",
    "        # Insert node into BST recursively\n",
    "        def insert_helper(value, subtree):\n",
    "            # if base root tree value is None, change value\n",
    "            if subtree.value == None:\n",
    "                subtree.value = value\n",
    "                return 1\n",
    "\n",
    "            # else traverse\n",
    "            if subtree.left == None and value < subtree.value:\n",
    "                subtree.left = Tree(value)\n",
    "                return 1\n",
    "\n",
    "            elif subtree.right == None and value > subtree.value:\n",
    "                subtree.right = Tree(value)\n",
    "                return 1\n",
    "\n",
    "            elif value < subtree.value:\n",
    "                insert_helper(value, subtree.left)\n",
    "            else:\n",
    "                insert_helper(value, subtree.right)\n",
    "\n",
    "        insert_helper(value, self)\n",
    "\n",
    "    def pre_order(self):\n",
    "        \"\"\"\n",
    "        Implementation of Binary search tree pre order traversal, returns list of values in pre order\n",
    "        \"\"\"\n",
    "        def pre_order_helper(subtree):\n",
    "            if subtree == None:\n",
    "                return []\n",
    "\n",
    "            pre_order_traversal = [subtree.value]\n",
    "            \n",
    "            if subtree.left != None:\n",
    "                pre_order_traversal += pre_order_helper(subtree.left)\n",
    "            if subtree.right != None:\n",
    "                pre_order_traversal += pre_order_helper(subtree.right)\n",
    "\n",
    "            return pre_order_traversal\n",
    "\n",
    "        return pre_order_helper(self)\n",
    "    \n",
    "    def search(self, value):\n",
    "        \"\"\"\n",
    "        Implements a recursive search in a BST, returning the order of nodes that the value is at, from the root\n",
    "        \"\"\"\n",
    "        def search_helper(value, subtree):\n",
    "            if subtree == None:\n",
    "                return ''\n",
    "            \n",
    "            node = ''\n",
    "\n",
    "            if subtree.value < value and subtree.right != None:\n",
    "                # Travel to the right, append R\n",
    "                node += 'R'\n",
    "                node = node + search_helper(value, subtree.right)\n",
    "            elif subtree.value > value and subtree.left != None:\n",
    "                # Travel to the left, append L\n",
    "                node += 'L'\n",
    "                node = node + search_helper(value, subtree.left)\n",
    "\n",
    "            return node\n",
    "\n",
    "        node = search_helper(value, self)\n",
    "\n",
    "        if node == '':\n",
    "            if self.value == None:\n",
    "                return 'BST is empty'\n",
    "            else:\n",
    "                return 'Value found at root'\n",
    "\n",
    "        return f'Found at node with order from root {node}'\n",
    "            \n",
    "\n",
    "        \n",
    "\n",
    "\n",
    "tree = Tree()\n",
    "\n",
    "with open('./timestamps.txt', 'r') as f:\n",
    "    data = f.read().strip().split('\\n')\n",
    "\n",
    "for i in data:\n",
    "    tree.insert_recursive(int(i))    "
   ]
  },
  {
   "cell_type": "code",
   "execution_count": 29,
   "metadata": {},
   "outputs": [
    {
     "name": "stdout",
     "output_type": "stream",
     "text": [
      "[1678955700, 1678945800, 1678942500, 1678939200, 1678952400, 1678949100, 1678965600, 1678962300, 1678959000, 1678968900]\n"
     ]
    }
   ],
   "source": [
    "print(tree.pre_order())"
   ]
  },
  {
   "cell_type": "code",
   "execution_count": 30,
   "metadata": {},
   "outputs": [
    {
     "data": {
      "text/plain": [
       "'Found at node with order from root L'"
      ]
     },
     "execution_count": 30,
     "metadata": {},
     "output_type": "execute_result"
    }
   ],
   "source": [
    "tree.search(1678945800)"
   ]
  }
 ],
 "metadata": {
  "kernelspec": {
   "display_name": "Python 3",
   "language": "python",
   "name": "python3"
  },
  "language_info": {
   "codemirror_mode": {
    "name": "ipython",
    "version": 3
   },
   "file_extension": ".py",
   "mimetype": "text/x-python",
   "name": "python",
   "nbconvert_exporter": "python",
   "pygments_lexer": "ipython3",
   "version": "3.7.7"
  }
 },
 "nbformat": 4,
 "nbformat_minor": 2
}
