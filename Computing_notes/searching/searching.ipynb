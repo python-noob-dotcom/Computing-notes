{
 "cells": [
  {
   "cell_type": "markdown",
   "metadata": {},
   "source": [
    "# <font color = gold> Overview of the different searches\n",
    "1. Linear search\n",
    "2. Binary Search "
   ]
  },
  {
   "cell_type": "markdown",
   "metadata": {},
   "source": [
    "## <font color = white> Linear Search"
   ]
  },
  {
   "cell_type": "code",
   "execution_count": null,
   "metadata": {},
   "outputs": [],
   "source": [
    "# Linear search for array of unique elements\n",
    "def linear_search(target, arr):\n",
    "    \"\"\"\n",
    "    Returns the index of the target to be found in the array\n",
    "    \"\"\"\n",
    "    for i in range(len(arr)):\n",
    "        if arr[i] == target:\n",
    "            return i\n",
    "    \n",
    "    return f'{target} is not in the array'"
   ]
  },
  {
   "cell_type": "code",
   "execution_count": null,
   "metadata": {},
   "outputs": [],
   "source": [
    "def linear_search_repeated(target, array):\n",
    "    locations = []\n",
    "\n",
    "    for i in range(len(array)):\n",
    "        if array[i] == target:\n",
    "            locations.append(i) \n",
    "\n",
    "    return locations if len(locations) > 0 else f'Target {target} not found in array'\n"
   ]
  },
  {
   "cell_type": "markdown",
   "metadata": {},
   "source": [
    "## <font color = white> Binary Search\n",
    "- Note: the array must be a sorted array"
   ]
  },
  {
   "cell_type": "markdown",
   "metadata": {},
   "source": [
    "### The code below is for arrays with unique elements"
   ]
  },
  {
   "cell_type": "code",
   "execution_count": 4,
   "metadata": {},
   "outputs": [
    {
     "data": {
      "text/plain": [
       "3"
      ]
     },
     "execution_count": 4,
     "metadata": {},
     "output_type": "execute_result"
    }
   ],
   "source": [
    "def binary_search(array, low, high, target):\n",
    "        \n",
    "    mid =  round(((low + high) / 2) + 0.1)\n",
    "\n",
    "\n",
    "    if high >= low:\n",
    "            \n",
    "            if array[mid] == target:\n",
    "                return mid\n",
    "        \n",
    "            if array[mid] < target:\n",
    "                return binary_search(array, mid + 1, high, target)\n",
    "            \n",
    "            else:\n",
    "                return binary_search(array, low, mid - 1, target)\n",
    "            \n",
    "    return -1\n",
    "\n",
    "stuff = [1, 2, 2, 3, 3, 4, 5]\n",
    "binary_search(stuff, 0, len(stuff) - 1, 3)\n"
   ]
  },
  {
   "cell_type": "markdown",
   "metadata": {},
   "source": [
    "### The code below is for non unique elements"
   ]
  },
  {
   "cell_type": "code",
   "execution_count": 1,
   "metadata": {},
   "outputs": [
    {
     "data": {
      "text/plain": [
       "[1, 2, 3, 4]"
      ]
     },
     "execution_count": 1,
     "metadata": {},
     "output_type": "execute_result"
    }
   ],
   "source": [
    "def binary_search(arr, target, low, high):\n",
    "    mid = (low + high) // 2\n",
    "\n",
    "    if low > high:\n",
    "        return []\n",
    "    \n",
    "    if arr[mid] == target:\n",
    "        left = binary_search(arr, target, low, mid - 1)\n",
    "        right = binary_search(arr, target, mid + 1, high)\n",
    "        return left + [mid] + right\n",
    "\n",
    "    if arr[mid] < target:\n",
    "        return binary_search(arr, target, mid + 1, high)\n",
    "    else:\n",
    "        return binary_search(arr, target, low, mid - 1)\n",
    "    \n",
    "    return 'Not found'\n",
    "\n",
    "binary_search([1, 2, 2, 2, 2, 3, 4, 5, 6], 2, 0, 5)"
   ]
  }
 ],
 "metadata": {
  "kernelspec": {
   "display_name": "Python 3",
   "language": "python",
   "name": "python3"
  },
  "language_info": {
   "codemirror_mode": {
    "name": "ipython",
    "version": 3
   },
   "file_extension": ".py",
   "mimetype": "text/x-python",
   "name": "python",
   "nbconvert_exporter": "python",
   "pygments_lexer": "ipython3",
   "version": "3.6.4"
  },
  "orig_nbformat": 4
 },
 "nbformat": 4,
 "nbformat_minor": 2
}
