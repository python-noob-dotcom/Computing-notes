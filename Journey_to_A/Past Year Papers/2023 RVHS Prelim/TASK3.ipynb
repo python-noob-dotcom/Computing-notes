{
 "cells": [
  {
   "cell_type": "code",
   "execution_count": 24,
   "metadata": {},
   "outputs": [],
   "source": [
    "import csv, pymongo\n",
    "\n",
    "def task3_1():\n",
    "    connection = pymongo.MongoClient('localhost', 27017)\n",
    "    db = connection['school']\n",
    "    teacher = db['teacher']\n",
    "\n",
    "    with open('Teachers.csv') as f:\n",
    "        data = []\n",
    "        reader = csv.reader(f)\n",
    "        header = next(reader)\n",
    "        for row in reader:\n",
    "            row[0] = int(row[0])\n",
    "            try:\n",
    "                row[3] = int(row[3])\n",
    "                row[5] = int(row[5])\n",
    "            except ValueError:\n",
    "                pass\n",
    "\n",
    "            data += [row]\n",
    "            \n",
    "\n",
    "    for row in data:\n",
    "        insrt = {}\n",
    "        for i in range(len(header)):\n",
    "            if row[i] == '':\n",
    "                continue\n",
    "            else:\n",
    "                insrt[header[i]] = row[i]\n",
    "\n",
    "\n",
    "        teacher.insert_one(insrt)\n",
    "\n",
    "    connection.close()\n",
    "\n",
    "task3_1()"
   ]
  },
  {
   "cell_type": "code",
   "execution_count": 21,
   "metadata": {},
   "outputs": [
    {
     "data": {
      "text/plain": [
       "{'ns': 'school.teacher', 'nIndexesWas': 1, 'ok': 1.0}"
      ]
     },
     "execution_count": 21,
     "metadata": {},
     "output_type": "execute_result"
    }
   ],
   "source": [
    "connection = pymongo.MongoClient('localhost', 27017)\n",
    "db = connection['school']\n",
    "\n",
    "db.drop_collection('teacher')"
   ]
  },
  {
   "cell_type": "code",
   "execution_count": 25,
   "metadata": {},
   "outputs": [
    {
     "name": "stdout",
     "output_type": "stream",
     "text": [
      "dict_items([('_id', 1), ('Name', 'Rufus Schuck'), ('Department', 'English'), ('Contact', 80012010), ('Role', 'PaperCoordinator'), ('Ratings', 3299)])\n",
      "dict_items([('_id', 2), ('Name', 'Ione Wolfe'), ('Department', 'Chemistry'), ('Contact', 80567822), ('Role', 'Invigilator'), ('Ratings', 2639)])\n",
      "dict_items([('_id', 3), ('Name', 'Hillary Curl'), ('Department', 'Maths'), ('Contact', 81123632), ('Role', 'Invigilator'), ('Ratings', 1773)])\n",
      "dict_items([('_id', 4), ('Name', 'Juli Barnhill'), ('Department', 'Computing'), ('Contact', 81671234), ('Ratings', 2696)])\n",
      "dict_items([('_id', 5), ('Name', 'Tashia Bowen'), ('Department', 'English'), ('Contact', 82235254), ('Role', 'Relief'), ('Ratings', 1629)])\n",
      "dict_items([('_id', 6), ('Name', 'Marguerita Mciver'), ('Department', 'Physics'), ('Contact', 82791568), ('Role', 'RestroomDuty'), ('Ratings', 4375)])\n",
      "dict_items([('_id', 7), ('Name', 'Sharie Schall'), ('Department', 'Maths'), ('Contact', 83346876), ('Ratings', 2704)])\n",
      "dict_items([('_id', 8), ('Name', 'Paris Curington'), ('Department', 'Biology'), ('Contact', 83902687), ('Role', 'PaperCoordinator'), ('Ratings', 3709)])\n",
      "dict_items([('_id', 9), ('Name', 'Ashely Faye'), ('Department', 'English'), ('Contact', 84458498), ('Role', 'Invigilator'), ('Ratings', 3707)])\n",
      "dict_items([('_id', 10), ('Name', 'Elvia Dubrey'), ('Department', 'Chemistry'), ('Role', 'Invigilator')])\n",
      "dict_items([('_id', 11), ('Name', 'Terrence Shannon'), ('Department', 'Maths'), ('Role', 'Invigilator'), ('Ratings', '2357')])\n",
      "dict_items([('_id', 12), ('Name', 'Carolann Kintner'), ('Department', 'Chemistry'), ('Contact', 86156875), ('Role', 'Relief'), ('Ratings', 1555)])\n",
      "dict_items([('_id', 13), ('Name', 'So Atkins'), ('Department', 'Maths'), ('Contact', 86681742), ('Role', 'RestroomDuty'), ('Ratings', 2525)])\n",
      "dict_items([('_id', 14), ('Name', 'Kathlene Collar'), ('Department', 'English'), ('Contact', 87237553), ('Role', 'Reserve'), ('Ratings', 1814)])\n",
      "dict_items([('_id', 15), ('Name', 'Luanne Lett'), ('Department', 'Music'), ('Role', 'PaperCoordinator'), ('Ratings', '1962')])\n",
      "dict_items([('_id', 16), ('Name', 'Ola Markell'), ('Department', 'Maths'), ('Contact', 88349175), ('Role', 'Invigilator'), ('Ratings', 3831)])\n",
      "dict_items([('_id', 17), ('Name', 'Claudette Bode'), ('Department', 'Chemistry'), ('Contact', 88904986), ('Role', 'Invigilator'), ('Ratings', 1699)])\n",
      "dict_items([('_id', 18), ('Name', 'Lashawna Meals'), ('Department', 'Maths'), ('Contact', 89460797), ('Role', 'Invigilator'), ('Ratings', 3555)])\n",
      "dict_items([('_id', 19), ('Name', 'Angle Linck'), ('Department', 'English'), ('Role', 'Relief'), ('Ratings', '3485')])\n",
      "dict_items([('_id', 20), ('Name', 'Toney Mcnab'), ('Department', 'Physics'), ('Contact', 90023100), ('Role', 'RestroomDuty'), ('Ratings', 3420)])\n",
      "dict_items([('_id', 21), ('Name', 'Hertha Dossantos'), ('Department', 'Maths'), ('Contact', 90029592), ('Role', 'Reserve'), ('Ratings', 2281)])\n",
      "dict_items([('_id', 22), ('Name', 'Jalisa Stoudemire'), ('Department', 'Biology'), ('Contact', 90036084), ('Ratings', 3388)])\n",
      "dict_items([('_id', 23), ('Name', 'Johnna Lecuyer'), ('Department', 'English'), ('Contact', 90042576), ('Role', 'Invigilator'), ('Ratings', 2640)])\n",
      "dict_items([('_id', 24), ('Name', 'Grazyna Kitzman'), ('Department', 'Maths'), ('Role', 'Invigilator'), ('Ratings', '1804')])\n",
      "dict_items([('_id', 25), ('Name', 'Phyliss Rolen'), ('Department', 'English'), ('Contact', 90055560), ('Ratings', 4011)])\n",
      "dict_items([('_id', 26), ('Name', 'Shaunda Sieg'), ('Department', 'Economics'), ('Contact', 90062052), ('Role', 'RestroomDuty'), ('Ratings', 1755)])\n",
      "dict_items([('_id', 27), ('Name', 'Abdul Boland'), ('Department', 'Chemistry'), ('Contact', 90068544), ('Role', 'Reserve'), ('Ratings', 3743)])\n",
      "dict_items([('_id', 28), ('Name', 'Lai Lazard'), ('Department', 'Maths'), ('Contact', 90075036), ('Ratings', 2018)])\n",
      "dict_items([('_id', 29), ('Name', 'Chadwick Griffin'), ('Department', 'Chemistry'), ('Contact', 90081528), ('Role', 'Invigilator'), ('Ratings', 4139)])\n",
      "dict_items([('_id', 30), ('Name', 'Jaye Galle'), ('Department', 'Maths'), ('Contact', 90088020), ('Ratings', 4042)])\n",
      "dict_items([('_id', 31), ('Name', 'Virgilio Britt'), ('Department', 'Physics'), ('Contact', 90094512), ('Role', 'Relief'), ('Ratings', 4056)])\n",
      "dict_items([('_id', 32), ('Name', 'Lanita Sciortino'), ('Department', 'Maths'), ('Contact', 90420932), ('Role', 'RestroomDuty'), ('Ratings', 3567)])\n",
      "dict_items([('_id', 33), ('Name', 'See Borne'), ('Department', 'Biology'), ('Contact', 90747352), ('Role', 'Reserve'), ('Ratings', 1576)])\n",
      "dict_items([('_id', 34), ('Name', 'Laverna Halpern'), ('Department', 'English'), ('Contact', 91073772), ('Role', 'PaperCoordinator'), ('Ratings', 1545)])\n",
      "dict_items([('_id', 35), ('Name', 'Russell Gillison'), ('Department', 'Music'), ('Role', 'Invigilator'), ('Ratings', '2719')])\n",
      "dict_items([('_id', 36), ('Name', 'Joella Wessner'), ('Department', 'Physics'), ('Contact', 91726612), ('Role', 'Invigilator'), ('Ratings', 3117)])\n",
      "dict_items([('_id', 37), ('Name', 'Fredricka Gormley'), ('Department', 'Maths'), ('Contact', 92053032), ('Role', 'Relief')])\n",
      "dict_items([('_id', 38), ('Name', 'Marg Thorington'), ('Department', 'Chemistry'), ('Contact', 92379452), ('Ratings', 4326)])\n",
      "dict_items([('_id', 39), ('Name', 'Odis Levalley'), ('Department', 'Maths'), ('Contact', 92705872), ('Role', 'Reserve'), ('Ratings', 4498)])\n",
      "dict_items([('_id', 40), ('Name', 'Teodoro Negrin'), ('Department', 'Chemistry'), ('Contact', 93032292), ('Role', 'PaperCoordinator'), ('Ratings', 4466)])\n",
      "dict_items([('_id', 41), ('Name', 'Tobias Kimmer'), ('Department', 'Maths'), ('Contact', 93358712), ('Role', 'Invigilator'), ('Ratings', 3463)])\n",
      "dict_items([('_id', 42), ('Name', 'Maryam Brosius'), ('Department', 'Chemistry')])\n",
      "dict_items([('_id', 43), ('Name', 'Darlena Crimi'), ('Department', 'Maths'), ('Contact', 94011552), ('Role', 'Relief'), ('Ratings', 3521)])\n",
      "dict_items([('_id', 44), ('Name', 'Marcella Daigneault'), ('Department', 'Computing'), ('Contact', 94337972), ('Role', 'RestroomDuty'), ('Ratings', 2301)])\n",
      "dict_items([('_id', 45), ('Name', 'Dannette Raasch'), ('Department', 'English'), ('Contact', 94664392), ('Ratings', 2516)])\n",
      "dict_items([('_id', 46), ('Name', 'Farah Quon'), ('Department', 'Physics'), ('Contact', 94990812), ('Role', 'PaperCoordinator'), ('Ratings', 2565)])\n",
      "dict_items([('_id', 47), ('Name', 'Apryl Soileau'), ('Department', 'Maths'), ('Role', 'Invigilator'), ('Ratings', '2914')])\n",
      "dict_items([('_id', 48), ('Name', 'Reiko Stack'), ('Department', 'Biology'), ('Contact', 95643652), ('Role', 'Relief')])\n",
      "dict_items([('_id', 49), ('Name', 'Terrance Lauterbach'), ('Department', 'Chemistry'), ('Contact', 95970072), ('Role', 'RestroomDuty'), ('Ratings', 1782)])\n",
      "dict_items([('_id', 50), ('Name', 'Carola Tegeler'), ('Department', 'Maths'), ('Contact', 99239291), ('Role', 'Reserve'), ('Ratings', 3988)])\n"
     ]
    }
   ],
   "source": [
    "def task3_2():\n",
    "    connection = pymongo.MongoClient('localhost', 27017)\n",
    "    db = connection['school']\n",
    "    teacher = db['teacher']\n",
    "\n",
    "    for doc in teacher.find():\n",
    "        print(doc.items())\n",
    "\n",
    "    connection.close()\n",
    "\n",
    "task3_2()"
   ]
  },
  {
   "cell_type": "code",
   "execution_count": null,
   "metadata": {},
   "outputs": [],
   "source": [
    "def task3_3():\n",
    "    connection = pymongo.MongoClient('localhost', 27017)\n",
    "    db = connection['school']\n",
    "    teacher = db['teacher']\n",
    "\n",
    "    query = {\"$or\":[{'$and': [{'Contact': {'$'}}]}]}"
   ]
  }
 ],
 "metadata": {
  "kernelspec": {
   "display_name": "Python 3",
   "language": "python",
   "name": "python3"
  },
  "language_info": {
   "codemirror_mode": {
    "name": "ipython",
    "version": 3
   },
   "file_extension": ".py",
   "mimetype": "text/x-python",
   "name": "python",
   "nbconvert_exporter": "python",
   "pygments_lexer": "ipython3",
   "version": "3.7.7"
  }
 },
 "nbformat": 4,
 "nbformat_minor": 2
}
