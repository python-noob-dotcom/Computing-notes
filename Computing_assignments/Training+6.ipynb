{
 "cells": [
  {
   "attachments": {},
   "cell_type": "markdown",
   "metadata": {},
   "source": [
    "### Task 1\n",
    "\n",
    "Write a function named ```reverseLookup```\n",
    "- Takes in a dictionary ```dic``` and a value ```val``` as its parameters\n",
    "- returns a list of all the keys from the dictionary that map to the ```val```\n",
    "- returns an empty list if the value ```val``` does not exist in the dictionary ```dic```"
   ]
  },
  {
   "cell_type": "code",
   "execution_count": 1,
   "metadata": {},
   "outputs": [],
   "source": [
    "# Task 1\n",
    "def reverseLookup(dictionary, val):\n",
    "    if type(dictionary) == dict:        \n",
    "        to_return = []\n",
    "        for key, value in dictionary.items():\n",
    "            if value == val:\n",
    "                to_return.append(key)\n",
    "        return to_return\n",
    "    else:\n",
    "        raise ValueError('Make sure the input is a dictionary!')"
   ]
  },
  {
   "attachments": {},
   "cell_type": "markdown",
   "metadata": {},
   "source": [
    "### Task 2\n",
    "\n",
    "Write a main program that demonstrates the ```reverseLookup``` function.\n",
    "\n",
    "The program should:\n",
    "- create a dictionary\n",
    "- show that the ```reverseLookup``` function works correctly when it returns\n",
    "    - multiple keys\n",
    "    - a single key\n",
    "    - no keys"
   ]
  },
  {
   "cell_type": "code",
   "execution_count": 6,
   "metadata": {},
   "outputs": [
    {
     "name": "stdout",
     "output_type": "stream",
     "text": [
      "['b', 'c']\n",
      "['f']\n",
      "[]\n"
     ]
    }
   ],
   "source": [
    "# Task 2\n",
    "if __name__ == '__main__':\n",
    "    dictionary_1 = {'a': 1, 'b': 2, 'c': 2, 'd': 4, 'e': 1, 'f': 5}\n",
    "    print(reverseLookup(dictionary_1, 2))\n",
    "    print(reverseLookup(dictionary_1, 5))\n",
    "    print(reverseLookup(dictionary_1, 6))"
   ]
  },
  {
   "attachments": {},
   "cell_type": "markdown",
   "metadata": {},
   "source": [
    "### Task 3 \n",
    "\n",
    "While the popularity of cheques as a payment method has diminished in recent years, some companies still issue them to pay employees or vendors. The amount being paid normally appears on a cheque twice, with one occurrence written using digits, and the other occurrence written using English words.\n",
    "\n",
    "Repeating the amount in two different forms makes it much more difficult for an unscrupulous employee or vendor to modify the amount on the cheque before depositing it.\n",
    "\n",
    "Create a function that takes an integer between 0 and 999 as its parameter, and returns a string containing the English words for that number.\n",
    "\n",
    "For example, if the parameter to the function is 142 then your function should return “one hundred forty two”.\n",
    "\n",
    "Use one or more dictionaries to implement your solution rather than conditionals.\n",
    "\n",
    "Include a main program that reads an integer from the user and displays its value in English words."
   ]
  },
  {
   "cell_type": "code",
   "execution_count": 126,
   "metadata": {},
   "outputs": [
    {
     "data": {
      "text/plain": [
       "'nine hundred ninety nine'"
      ]
     },
     "execution_count": 126,
     "metadata": {},
     "output_type": "execute_result"
    }
   ],
   "source": [
    "def integer_to_words(integer):\n",
    "    def dict_creators():\n",
    "        mm_yes = ['one', 'two', 'three', 'four', 'five', 'six', 'seven', 'eight', 'nine']\n",
    "        bruh = ['ten', 'twwnty', 'thirty', 'fourty', 'fifty', 'sixty', 'seventy', 'eighty', 'ninety']\n",
    "        hundreds = {}\n",
    "        tens = {}\n",
    "        ones = {}\n",
    "        for i in range(1, 10):\n",
    "            hundreds[str(i)] = mm_yes[i-1] + ' hundred'\n",
    "            ones[str(i)] = mm_yes[i-1]\n",
    "            tens[str(i)] = bruh[i-1]\n",
    "        return hundreds, tens, ones\n",
    "\n",
    "    if integer<= 999 and integer>= 0:\n",
    "        hundreds, tens, ones = dict_creators()\n",
    "        userin = str(integer)\n",
    "        to_return = ''\n",
    "        for key_1, value_1 in hundreds.items():\n",
    "            for key_2, value_2 in tens.items():\n",
    "                for key_3, value_3 in ones.items():\n",
    "                    if key_1 == userin[0] and key_2 == userin[1] and key_3 == userin[2]:\n",
    "                        to_return += value_1\n",
    "                        to_return += ' '\n",
    "                        to_return += value_2\n",
    "                        to_return += ' '\n",
    "                        to_return += value_3\n",
    "        return to_return\n",
    "    \n",
    "\n",
    "integer_to_words(999)\n"
   ]
  }
 ],
 "metadata": {
  "kernelspec": {
   "display_name": "Python 3",
   "language": "python",
   "name": "python3"
  },
  "language_info": {
   "codemirror_mode": {
    "name": "ipython",
    "version": 3
   },
   "file_extension": ".py",
   "mimetype": "text/x-python",
   "name": "python",
   "nbconvert_exporter": "python",
   "pygments_lexer": "ipython3",
   "version": "3.6.4"
  },
  "orig_nbformat": 4
 },
 "nbformat": 4,
 "nbformat_minor": 2
}
