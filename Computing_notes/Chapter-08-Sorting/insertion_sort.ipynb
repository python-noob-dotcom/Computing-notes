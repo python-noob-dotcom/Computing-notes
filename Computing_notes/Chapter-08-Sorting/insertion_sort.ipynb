{
 "cells": [
  {
   "cell_type": "markdown",
   "metadata": {},
   "source": [
    "#### Insertion sort\n",
    "- Insertion sort is similar to bubble sort in the sense that we require 2 loops / 1 loop and 1 recursive call to actually implement the algo\n",
    "- This makes the time complexity of insertion sort O(n^2), for all 3 cases``"
   ]
  },
  {
   "cell_type": "code",
   "execution_count": null,
   "metadata": {},
   "outputs": [],
   "source": [
    "# insertion sort is also in place sorting --> sorting within the list\n",
    "def insertion_sort(array):\n",
    "\n",
    "    # Pick the second element in the array as the starting element\n",
    "    for i in range(1, len(array)):\n",
    "\n",
    "        curr_element = array[i]\n",
    "\n",
    "        j = i - 1\n",
    "\n",
    "        # If the element at the next position is less than the element at the previous position\n",
    "        # e.g. element 1 is 5, element 2 is 1\n",
    "        # 1 < 5, and so you swap\n",
    "        \n",
    "        while curr_element < array[j] and j + 1 >= 1: # we use j here as i is the outer loop, and in this inner loop, it should be kept constant\n",
    "            array[j + 1] = array[j]\n",
    "            array[j] = curr_element\n",
    "            j -= 1\n",
    "\n",
    "    return array"
   ]
  }
 ],
 "metadata": {
  "language_info": {
   "name": "python"
  },
  "orig_nbformat": 4
 },
 "nbformat": 4,
 "nbformat_minor": 2
}
