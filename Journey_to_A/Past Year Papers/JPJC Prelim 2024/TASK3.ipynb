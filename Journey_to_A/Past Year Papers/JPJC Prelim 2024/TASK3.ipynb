{
 "cells": [
  {
   "cell_type": "code",
   "execution_count": 3,
   "metadata": {},
   "outputs": [],
   "source": [
    "# Task 3.1\n",
    "class Node:\n",
    "    def __init__(self, value = 0, left = None, right = None):\n",
    "        self.value = value\n",
    "        self.left = left\n",
    "        self.right = right\n"
   ]
  },
  {
   "cell_type": "code",
   "execution_count": 4,
   "metadata": {},
   "outputs": [],
   "source": [
    "# Task 3.2\n",
    "\n",
    "class Tree:\n",
    "    def __init__(self, node):\n",
    "        self.root = node\n",
    "\n",
    "    def insert(self, node):\n",
    "        root = self.root\n",
    "        previous = root\n",
    "        while root != None and root != None:\n",
    "            previous = root\n",
    "            if root.value > node.value:\n",
    "                root = root.left\n",
    "            else:\n",
    "                root = root.right\n",
    "\n",
    "        if previous.value > node.value:\n",
    "            previous.left = node\n",
    "        else:\n",
    "            previous.right = node\n",
    "\n",
    "    def in_order_traversal_helper(self, root = None):\n",
    "        if root == None:\n",
    "            return []\n",
    "        \n",
    "        in_order = []\n",
    "\n",
    "        if root.left != None:\n",
    "            in_order += self.in_order_traversal_helper(root.left)\n",
    "        \n",
    "        in_order += [root.value]\n",
    "\n",
    "        if root.right != None:\n",
    "            in_order += self.in_order_traversal_helper(root.right)\n",
    "\n",
    "        return in_order\n",
    "\n",
    "    def flatten(self):\n",
    "        def pre_order_traversal(root):\n",
    "            if root == None:\n",
    "                return []\n",
    "            \n",
    "            pre_order = []\n",
    "\n",
    "            pre_order += [root.value]\n",
    "\n",
    "            if root.left != None:\n",
    "                pre_order += pre_order_traversal(root.left)\n",
    "\n",
    "            if root.right != None:\n",
    "                pre_order += pre_order_traversal(root.right)\n",
    "\n",
    "            return pre_order\n",
    "        \n",
    "        pre_order = pre_order_traversal(self.root)\n",
    "        print(pre_order)\n",
    "\n",
    "        self.root = Node(pre_order[0])\n",
    "        root = self.root\n",
    "\n",
    "        for ordered in pre_order[1:]:\n",
    "            root.right = Node(ordered)\n",
    "            root = root.right\n",
    "\n",
    "        return self.root\n"
   ]
  },
  {
   "cell_type": "code",
   "execution_count": 5,
   "metadata": {},
   "outputs": [
    {
     "name": "stdout",
     "output_type": "stream",
     "text": [
      "[2, 3, 4, 5, 7, 8]\n"
     ]
    }
   ],
   "source": [
    "# Task 3.3\n",
    "\n",
    "BST = Tree(Node(5))\n",
    "BST.insert(Node(3))\n",
    "BST.insert(Node(2))\n",
    "BST.insert(Node(4))\n",
    "BST.insert(Node(7))\n",
    "BST.insert(Node(8))\n",
    "\n",
    "print(BST.in_order_traversal_helper(BST.root))\n",
    "# ll = BST.flatten()"
   ]
  },
  {
   "cell_type": "code",
   "execution_count": 71,
   "metadata": {},
   "outputs": [
    {
     "name": "stdout",
     "output_type": "stream",
     "text": [
      "5\n",
      "3\n",
      "2\n",
      "4\n",
      "7\n",
      "8\n"
     ]
    },
    {
     "ename": "",
     "evalue": "",
     "output_type": "error",
     "traceback": [
      "\u001b[1;31mThe Kernel crashed while executing code in the current cell or a previous cell. \n",
      "\u001b[1;31mPlease review the code in the cell(s) to identify a possible cause of the failure. \n",
      "\u001b[1;31mClick <a href='https://aka.ms/vscodeJupyterKernelCrash'>here</a> for more info. \n",
      "\u001b[1;31mView Jupyter <a href='command:jupyter.viewOutput'>log</a> for further details."
     ]
    }
   ],
   "source": [
    "# Task 3.4\n",
    "\n",
    "while ll != None:\n",
    "    print(ll.value)\n",
    "    ll = ll.right"
   ]
  }
 ],
 "metadata": {
  "kernelspec": {
   "display_name": "computing",
   "language": "python",
   "name": "python3"
  },
  "language_info": {
   "codemirror_mode": {
    "name": "ipython",
    "version": 3
   },
   "file_extension": ".py",
   "mimetype": "text/x-python",
   "name": "python",
   "nbconvert_exporter": "python",
   "pygments_lexer": "ipython3",
   "version": "3.7.7"
  }
 },
 "nbformat": 4,
 "nbformat_minor": 2
}
