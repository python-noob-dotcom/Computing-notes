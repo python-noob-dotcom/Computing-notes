{
 "cells": [
  {
   "cell_type": "code",
   "execution_count": 89,
   "metadata": {},
   "outputs": [],
   "source": [
    "# Task 1.1\n",
    "\n",
    "def task1_1(input_value):\n",
    "    if (str(input_value).isdecimal() or type(input_value) == int) and len(str(input_value)) == 15:\n",
    "        total = 0\n",
    "\n",
    "        # Check the positioning of each value of the credit card\n",
    "        # number\n",
    "        for i in range(len(str(input_value)) - 1):\n",
    "            # If the number is in a odd position, multiply by 2\n",
    "            # and add it to the total\n",
    "            if (i + 1) % 2 != 0:\n",
    "                total += int(str(input_value)[i]) * 2\n",
    "            else:\n",
    "                # else add just the number\n",
    "                total += int(str(input_value)[i])\n",
    "        \n",
    "        # get the next multiple of 10\n",
    "        multiple_10 = (total // 10 + 1) * 10\n",
    "        result = multiple_10 - total\n",
    "        \n",
    "\n",
    "        # return check value\n",
    "        return result\n",
    "    \n",
    "\n",
    "    else:\n",
    "        return -1"
   ]
  },
  {
   "cell_type": "code",
   "execution_count": 90,
   "metadata": {},
   "outputs": [
    {
     "name": "stdout",
     "output_type": "stream",
     "text": [
      "True\n",
      "True\n",
      "True\n",
      "True\n"
     ]
    }
   ],
   "source": [
    "# Task 1.2\n",
    "\n",
    "valid_str = '100000000000008'\n",
    "valid_int = 200000000000006\n",
    "random_string = 'asoijfaojaodaajsjdadoajdoiajdoiasjd'\n",
    "incorrect_length = '12312131231'\n",
    "\n",
    "print(task1_1(valid_str) == 8)\n",
    "print(task1_1(valid_int) == 6)\n",
    "print(task1_1(random_string) == -1)\n",
    "print(task1_1(incorrect_length) == -1)"
   ]
  },
  {
   "cell_type": "code",
   "execution_count": 56,
   "metadata": {},
   "outputs": [
    {
     "data": {
      "text/plain": [
       "0"
      ]
     },
     "execution_count": 56,
     "metadata": {},
     "output_type": "execute_result"
    }
   ],
   "source": [
    "2 // 10"
   ]
  }
 ],
 "metadata": {
  "kernelspec": {
   "display_name": "Python 3",
   "language": "python",
   "name": "python3"
  },
  "language_info": {
   "codemirror_mode": {
    "name": "ipython",
    "version": 3
   },
   "file_extension": ".py",
   "mimetype": "text/x-python",
   "name": "python",
   "nbconvert_exporter": "python",
   "pygments_lexer": "ipython3",
   "version": "3.6.4"
  },
  "orig_nbformat": 4
 },
 "nbformat": 4,
 "nbformat_minor": 2
}
