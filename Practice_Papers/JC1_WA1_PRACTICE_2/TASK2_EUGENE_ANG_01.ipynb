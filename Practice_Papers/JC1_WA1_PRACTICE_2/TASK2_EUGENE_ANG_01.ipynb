{
 "cells": [
  {
   "cell_type": "code",
   "execution_count": 150,
   "metadata": {},
   "outputs": [
    {
     "data": {
      "text/plain": [
       "[('1', 'Beyonce', 'Break My Soul', '8'),\n",
       " ('2', 'Harry Styles', 'As It Was', '19'),\n",
       " ('3', 'Steve Lacy', 'Bad Habit', '6'),\n",
       " ('4', 'Future Featuring Drake & Tems', 'Wait For U', '15'),\n",
       " ('5', 'Nicky Youre & dazy', 'Sunroof', '11'),\n",
       " ('6', 'Jack Harlow', 'First Class', '18'),\n",
       " ('7', 'Bad Bunny & Chencho Corleone', 'Me Porto Bonito', '14'),\n",
       " ('8', 'Harry Styles', 'Late Night Talking', '12'),\n",
       " ('9', 'Post Malone Featuring Doja Cat', 'I Like You (A Happier Song)', '10'),\n",
       " ('10', 'Glass Animals', 'Heat Waves', '82'),\n",
       " ('11', 'Luke Combs', 'The Kind Of Love', '8'),\n",
       " ('12', 'Morgan Wallen', 'Wasted On You', '39'),\n",
       " ('13', 'Morgan Wallen', 'You Proof', '13'),\n",
       " ('14', 'OneRepublic', \"I Ain't Worried\", '9'),\n",
       " ('15', 'The Kid LAROI & Justin Bieber', 'Stay', '57'),\n",
       " ('16', 'Cole Swindell', 'She Had Me At Heads Carolina', '11'),\n",
       " ('17', 'Drake Featuring 21 Savage', 'Jimmy Cooks', '8'),\n",
       " ('18', 'Justin Bieber', 'Ghost', '46'),\n",
       " ('19', 'Bad Bunny', 'Moscow Mule', '14'),\n",
       " ('20', 'Ed Sheeran', 'Shivers', '48')]"
      ]
     },
     "execution_count": 150,
     "metadata": {},
     "output_type": "execute_result"
    }
   ],
   "source": [
    "# Task 2.1\n",
    "\n",
    "data = []\n",
    "with open('TOP20SONG.TXT', 'r') as f:\n",
    "    lines = f.readlines()\n",
    "    for line in lines:\n",
    "        if lines.index(line) == 0:\n",
    "            header = line\n",
    "            continue\n",
    "        else:\n",
    "            # Add tuple of the row's data to list 'data'\n",
    "            data.append(tuple(line.strip().split(',')))\n",
    "\n",
    "data"
   ]
  },
  {
   "cell_type": "code",
   "execution_count": 63,
   "metadata": {},
   "outputs": [
    {
     "name": "stdout",
     "output_type": "stream",
     "text": [
      "Rank           Song_Title                    Weeks_On_Chart \n",
      "============================================================\n",
      "1              Break My Soul                 8              \n",
      "2              As It Was                     19             \n",
      "3              Bad Habit                     6              \n",
      "4              Wait For U                    15             \n",
      "5              Sunroof                       11             \n",
      "6              First Class                   18             \n",
      "7              Me Porto Bonito               14             \n",
      "8              Late Night Talking            12             \n",
      "9              I Like You (A Happier Song)   10             \n",
      "10             Heat Waves                    82             \n",
      "11             The Kind Of Love              8              \n",
      "12             Wasted On You                 39             \n",
      "13             You Proof                     13             \n",
      "14             I Ain't Worried               9              \n",
      "15             Stay                          57             \n",
      "16             She Had Me At Heads Carolina  11             \n",
      "17             Jimmy Cooks                   8              \n",
      "18             Ghost                         46             \n",
      "19             Moscow Mule                   14             \n",
      "20             Shivers                       48             \n"
     ]
    }
   ],
   "source": [
    "# Task 2.2\n",
    "\n",
    "# Output data in a table format\n",
    "print(f\"{'Rank':<15}{'Song_Title':<30}{'Weeks_On_Chart':<15}\")\n",
    "print('='*60)\n",
    "\n",
    "for i in range(1, len(data)):\n",
    "    print(f'{data[i][0]:<15}{data[i][2]:<30}{data[i][3]:<15}')\n"
   ]
  },
  {
   "cell_type": "code",
   "execution_count": 152,
   "metadata": {},
   "outputs": [],
   "source": [
    "# Task 2.3\n",
    "import csv\n",
    "\n",
    "# Sort by weeks on chart\n",
    "data.sort(key= lambda x: int(x[3]), reverse= True)\n",
    "\n",
    "# Create and write to the top20songs.csv\n",
    "with open('top20songs.csv', 'w', newline= '') as f:\n",
    "    writer = csv.writer(f)\n",
    "    writer.writerow(header.strip().split(','))\n",
    "    writer.writerows(data)"
   ]
  }
 ],
 "metadata": {
  "kernelspec": {
   "display_name": "Python 3",
   "language": "python",
   "name": "python3"
  },
  "language_info": {
   "codemirror_mode": {
    "name": "ipython",
    "version": 3
   },
   "file_extension": ".py",
   "mimetype": "text/x-python",
   "name": "python",
   "nbconvert_exporter": "python",
   "pygments_lexer": "ipython3",
   "version": "3.6.4"
  },
  "orig_nbformat": 4
 },
 "nbformat": 4,
 "nbformat_minor": 2
}
