{
 "cells": [
  {
   "cell_type": "code",
   "execution_count": 26,
   "metadata": {},
   "outputs": [
    {
     "name": "stdout",
     "output_type": "stream",
     "text": [
      "141\n"
     ]
    },
    {
     "data": {
      "text/plain": [
       "170"
      ]
     },
     "execution_count": 26,
     "metadata": {},
     "output_type": "execute_result"
    }
   ],
   "source": [
    "Strike = Ten = 'X'\n",
    "\n",
    "def Pins(Throw):\n",
    "    if Throw == Ten:\n",
    "        return 10\n",
    "    else:\n",
    "        return int(Throw)\n",
    "    \n",
    "def Bowling_Score(Throws):\n",
    "    def Bowling_Score_Helper(Throws, Frame_num):\n",
    "        if Frame_num == 10 and len(Throws) == 2:\n",
    "            frame_score = Pins(Throws[0]) + Pins(Throws[1])\n",
    "            return frame_score + Pins(Throws[1])\n",
    "        \n",
    "        elif Frame_num == 10 and len(Throws) == 3:\n",
    "            return Pins(Throws[0]) + Pins(Throws[1]) + Pins(Throws[2])\n",
    "        \n",
    "        elif Throws[0] == Strike and Frame_num < 10:\n",
    "            frame_score = Pins(Throws[0]) + Pins(Throws[1]) + Pins(Throws[2])\n",
    "            return frame_score + Bowling_Score_Helper(Throws[1:], Frame_num + 1)\n",
    "        \n",
    "        frame_score = Pins(Throws[0]) + Pins(Throws[1]) if Throws[1] != Strike else Pins(Throws[0])\n",
    "\n",
    "        if frame_score == 10:\n",
    "            return frame_score + Pins(Throws[2]) + Bowling_Score_Helper(Throws[2:], Frame_num + 1)\n",
    "        \n",
    "        \n",
    "        return frame_score + Bowling_Score_Helper(Throws[2:], Frame_num + 1)\n",
    "    \n",
    "    return Bowling_Score_Helper(Throws, 1)\n",
    "\n",
    "print(Bowling_Score('X2815X91X365452X0X'))\n",
    "Bowling_Score('91739182X90X90X82X') "
   ]
  },
  {
   "cell_type": "code",
   "execution_count": 3,
   "metadata": {},
   "outputs": [
    {
     "data": {
      "text/plain": [
       "18"
      ]
     },
     "execution_count": 3,
     "metadata": {},
     "output_type": "execute_result"
    }
   ],
   "source": [
    "# Task 3.2\n",
    "\n",
    "# Need to account for strike / multiple strikes in the last frame\n",
    "# Need to account for all strikes, since X is only denoted by the first throw\n",
    "\n",
    "print(Bowling_Score('XXXXXXXXXXXX'))\n",
    "print(Bowling_Score('XXXX91X002282XXX'))"
   ]
  },
  {
   "cell_type": "code",
   "execution_count": 41,
   "metadata": {},
   "outputs": [
    {
     "name": "stdout",
     "output_type": "stream",
     "text": [
      "Official Results:\n",
      "______________________________________________________________________\n",
      "|Position| |Register Number     | |Country | |Total_Score    |\n",
      "______________________________________________________________________\n",
      "|1       | |175                 | |SIN     | |1734           |\n",
      "______________________________________________________________________\n",
      "|2       | |299                 | |SIN     | |1724           |\n",
      "______________________________________________________________________\n",
      "|3       | |173                 | |IND     | |1723           |\n",
      "______________________________________________________________________\n",
      "|4       | |168                 | |SIN     | |1678           |\n",
      "______________________________________________________________________\n",
      "|5       | |166                 | |MAS     | |1670           |\n",
      "______________________________________________________________________\n",
      "|6       | |213                 | |SIN     | |1619           |\n",
      "______________________________________________________________________\n",
      "|7       | |193                 | |SIN     | |1568           |\n",
      "______________________________________________________________________\n",
      "|8       | |305                 | |SIN     | |1535           |\n",
      "______________________________________________________________________\n",
      "|9       | |189                 | |KOR     | |1527           |\n",
      "______________________________________________________________________\n",
      "|10      | |102                 | |SIN     | |1499           |\n",
      "______________________________________________________________________\n",
      "|11      | |231                 | |SIN     | |1476           |\n",
      "______________________________________________________________________\n",
      "|12      | |170                 | |SIN     | |1475           |\n",
      "______________________________________________________________________\n",
      "|13      | |233                 | |SIN     | |1455           |\n",
      "______________________________________________________________________\n",
      "|14      | |232                 | |SIN     | |1431           |\n",
      "______________________________________________________________________\n",
      "|15      | |285                 | |TPE     | |1426           |\n",
      "______________________________________________________________________\n",
      "|16      | |287                 | |MAC     | |1400           |\n",
      "______________________________________________________________________\n",
      "|17      | |136                 | |SIN     | |1394           |\n",
      "______________________________________________________________________\n",
      "|18      | |157                 | |MAS     | |1375           |\n",
      "______________________________________________________________________\n",
      "|19      | |113                 | |SIN     | |1362           |\n",
      "______________________________________________________________________\n",
      "|20      | |245                 | |MAS     | |1280           |\n",
      "______________________________________________________________________\n"
     ]
    }
   ],
   "source": [
    "# Task 3.3\n",
    "\n",
    "with open('./SCORES.txt', 'r') as f:\n",
    "    data = []\n",
    "\n",
    "    for line in f:\n",
    "        data += [line.strip().split(' ')]\n",
    "\n",
    "def bubble_sort(data):\n",
    "    for i in range(len(data)):\n",
    "        for j in range(len(data) - 1):\n",
    "            if data[j][2] < data[j + 1][2]:\n",
    "                data[j], data[j + 1] = data[j + 1], data[j]\n",
    "    return data\n",
    "\n",
    "for i in range(len(data)):\n",
    "    record = data[i]\n",
    "    total = 0\n",
    "    for score in record[2:]:\n",
    "        total += Bowling_Score(score)\n",
    "\n",
    "    data[i] = [record[0], record[1], total]\n",
    "\n",
    "srted = bubble_sort(data)\n",
    "print('Official Results:')\n",
    "print('_'*70)\n",
    "print(f'{\"|Position\":<8}| |{\"Register Number\":<20}| |{\"Country\":<8}| |{\"Total_Score\":<15}|')\n",
    "print('_'*70)\n",
    "for i in range(len(srted)):\n",
    "    print(f'|{i + 1:<8}| |{srted[i][0]:<20}| |{srted[i][1]:<8}| |{srted[i][2]:<15}|')\n",
    "    print('_'*70)"
   ]
  }
 ],
 "metadata": {
  "kernelspec": {
   "display_name": "computing",
   "language": "python",
   "name": "python3"
  },
  "language_info": {
   "codemirror_mode": {
    "name": "ipython",
    "version": 3
   },
   "file_extension": ".py",
   "mimetype": "text/x-python",
   "name": "python",
   "nbconvert_exporter": "python",
   "pygments_lexer": "ipython3",
   "version": "3.6.13"
  }
 },
 "nbformat": 4,
 "nbformat_minor": 2
}
