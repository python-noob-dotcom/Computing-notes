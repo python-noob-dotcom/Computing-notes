{
 "cells": [
  {
   "cell_type": "code",
   "execution_count": 1,
   "metadata": {},
   "outputs": [],
   "source": [
    "import sqlite3\n",
    "\n",
    "with sqlite3.connect('./LIBRARY.db') as conn:\n",
    "    cursor = conn.cursor()\n",
    "\n",
    "    cursor.execute('CREATE TABLE IF NOT EXISTS \"Book\" (\\\n",
    "\t\"BookID\"\tINTEGER,\\\n",
    "\t\"Title\"\tTEXT,\\\n",
    "\t\"Genre\"\tTEXT,\\\n",
    "\tPRIMARY KEY(\"BookID\")\\\n",
    "    );\\\n",
    "                   ')\n",
    "    \n",
    "    cursor.execute('CREATE TABLE IF NOT EXISTS \"Member\" (\\\n",
    "\t\"MemberNumber\"\tINTEGER,\\\n",
    "\t\"FamilyName\"\tTEXT,\\\n",
    "\t\"GivenName\"\tTEXT,\\\n",
    "\tPRIMARY KEY(\"MemberNumber\")\\\n",
    "    );')\n",
    "\n",
    "    cursor.execute('CREATE TABLE IF NOT EXISTS \"Loan\" (\\\n",
    "\t\"LoanID\"\tINTEGER,\\\n",
    "\t\"MemberNumber\"\tINTEGER,\\\n",
    "\t\"BookID\"\tINTEGER,\\\n",
    "\t\"DateLoaned\"\tTEXT,\\\n",
    "\t\"Returned\"\tTEXT,\\\n",
    "\tFOREIGN KEY(\"BookID\") REFERENCES \"Book\"(\"BookID\"),\\\n",
    "\tPRIMARY KEY(\"LoanID\"),\\\n",
    "\tFOREIGN KEY(\"MemberNumber\") REFERENCES \"Member\"(\"MemberNumber\")\\\n",
    "    );')\n",
    "\n",
    "    conn.commit()"
   ]
  },
  {
   "cell_type": "code",
   "execution_count": 2,
   "metadata": {},
   "outputs": [],
   "source": [
    "with sqlite3.connect('./LIBRARY.db') as conn:\n",
    "    cursor = conn.cursor()\n",
    "    cursor.execute(\"BEGIN TRANSACTION\")\n",
    "    with open('./BOOK.txt') as f:\n",
    "        query = 'INSERT INTO Book VALUES (?, ?, ?)'\n",
    "        for line in f:\n",
    "            line = line.strip().split(',')\n",
    "            cursor.execute(query, tuple(line))\n",
    "\n",
    "    with open('./MEMBER.txt') as f:\n",
    "        query = 'INSERT INTO Member VALUES (?, ?, ?)'\n",
    "        for line in f:\n",
    "            line = line.strip().split(',')\n",
    "            cursor.execute(query, tuple(line))\n",
    "\n",
    "    with open('./LOAN.txt') as f:\n",
    "        query = 'INSERT INTO Loan VALUES (?, ?, ?, ?, ?)'\n",
    "        for line in f:\n",
    "            line = line.strip().split(',')\n",
    "            cursor.execute(query, tuple(line))\n",
    "\n",
    "    conn.commit()"
   ]
  },
  {
   "cell_type": "code",
   "execution_count": 4,
   "metadata": {},
   "outputs": [
    {
     "name": "stdout",
     "output_type": "stream",
     "text": [
      "[('Monkey puzzle', 'FALSE'), ('Contemplating Camelias', 'FALSE'), ('Sandy shores', 'FALSE'), ('Propogation', 'TRUE')]\n"
     ]
    }
   ],
   "source": [
    "# Task 4.3\n",
    "\n",
    "def main():\n",
    "    userin = input('Enter a member number: ')\n",
    "\n",
    "    while not userin.isdecimal():\n",
    "        userin = input('Enter a member number: ')\n",
    "\n",
    "    with sqlite3.connect('./LIBRARY.db') as conn:\n",
    "        cursor = conn.cursor()\n",
    "\n",
    "        query = 'SELECT Title, Returned FROM Loan INNER JOIN Book on Loan.BookID = Book.BookID WHERE Loan.MemberNumber = ?'\n",
    "        print(cursor.execute(query, (int(userin),)).fetchall())\n",
    "\n",
    "main()  "
   ]
  }
 ],
 "metadata": {
  "kernelspec": {
   "display_name": "computing",
   "language": "python",
   "name": "python3"
  },
  "language_info": {
   "codemirror_mode": {
    "name": "ipython",
    "version": 3
   },
   "file_extension": ".py",
   "mimetype": "text/x-python",
   "name": "python",
   "nbconvert_exporter": "python",
   "pygments_lexer": "ipython3",
   "version": "3.6.13"
  }
 },
 "nbformat": 4,
 "nbformat_minor": 2
}
