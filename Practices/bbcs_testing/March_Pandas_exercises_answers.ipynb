{
 "cells": [
  {
   "cell_type": "markdown",
   "metadata": {},
   "source": [
    "# Manipulating Data with Pandas! <br><img src = 'https://files.worldwildlife.org/wwfcmsprod/images/Panda_in_Tree/hero_small/99i33zyc0l_Large_WW170579.jpg'>\n",
    "<h3> <a href= 'https://www.example.com'>Please refer to this dataset</a> as we will be using this dataset for the exercises below </h3>"
   ]
  },
  {
   "cell_type": "markdown",
   "metadata": {},
   "source": [
    "<h3> Exercise 1. </h3>\n",
    "<p> When you open up the dataset, it looks quite dirty, with many rows having the order number replaced by \"Imagine having no order number\" etc. </p> \n",
    "\n",
    "1. Your first task would be to clear all rows with empty values in ```'STATUS', 'PRODUCTCODE', 'ADDRESSLINE1'```,\n",
    "2. avoid clearing the rows with empty values in ```'PRODUCTLINE'``` and ```'STATE'```,\n",
    "3. and replace all the ```\"Imagine having no order number\"``` under ```'ORDERNUMBER'``` with ```10000```. \n",
    "4. Lastly, save into a new file called ```'sales_data_cleaned.csv'```</p>"
   ]
  },
  {
   "cell_type": "code",
   "execution_count": 9,
   "metadata": {},
   "outputs": [],
   "source": [
    "# Your code here\n",
    "\n",
    "import pandas as pd\n",
    "\n",
    "\n",
    "sales_data_dirty = pd.read_csv('./sales_data_dirty_modified.csv')\n",
    "\n",
    "\n",
    "sales_data_dirty.dropna(subset = ['STATUS', 'PRODUCTCODE', 'ADDRESSLINE1'], axis= 0, inplace=True)\n",
    "\n",
    "\n",
    "for index, row in sales_data_dirty.iterrows():\n",
    "    row = row[1:]\n",
    "    if row['ORDERNUMBER'] == \"Imagine having no order number\":\n",
    "        row['ORDERNUMBER'] = 10000\n",
    "        sales_data_dirty[index] = row[1:]\n",
    "\n",
    "sales_data_dirty.drop('Unnamed: 0', axis= 1).to_csv('./sales_data_cleaned.csv')"
   ]
  },
  {
   "cell_type": "markdown",
   "metadata": {},
   "source": [
    "<h3> Congratulations on finishing your first task! </h3>\n",
    "<h4> Your csv file should look like this: </h4>\n",
    "\n",
    "<p>ORDERNUMBER,QUANTITYORDERED,PRICEEACH,ORDERLINENUMBER,SALES,ORDERDATE,STATUS,QTR_ID,MONTH_ID,YEAR_ID,PRODUCTLINE,MSRP,PRODUCTCODE,CUSTOMERNAME,PHONE,ADDRESSLINE1,ADDRESSLINE2,CITY,STATE,POSTALCODE,COUNTRY,TERRITORY,CONTACTLASTNAME,CONTACTFIRSTNAME,DEALSIZE<br>\n",
    "10107,30,95.7,2,2871,2/24/2003 0:00,Shipped,1,2,2003,Motorcycles,95,S10_1678,Land of Toys Inc.,2125557818,897 Long Airport Avenue,,NYC,NY,10022,USA,NA,Yu,Kwai,Small<br>\n",
    "10121,34,81.35,5,2765.9,5/7/2003 0:00,Shipped,2,5,2003,Motorcycles,95,S10_1678,Reims Collectables,26.47.1555,59 rue de l'Abbaye,,Reims,,51100,France,EMEA,Henriot,Paul,Small<br>\n",
    "10134,41,,2,3884.34,7/1/2003 0:00,Shipped,3,7,2003,Motorcycles,95,S10_1678,Lyon Souveniers,+33 1 46 62 7555,27 rue du Colonel Pierre Avia,,Paris,,75508,France,EMEA,Da Cunha,Daniel,Medium<br>\n",
    "10145,45,83.26,6,3746.7,8/25/2003 0:00,Shipped,3,8,2003,Motorcycles,95,S10_1678,Toys4GrownUps.com,6265557265,78934 Hillside Dr.,,Pasadena,CA,90003,USA,NA,Young,Julie,Medium</p>\n",
    "\n",
    "<h4> as the values are clean now </h4>"
   ]
  },
  {
   "cell_type": "markdown",
   "metadata": {},
   "source": [
    "<h3> Oh no! While cleaning the dataset, you found some rows that are duplicates</h3>\n",
    "\n",
    "Your task: \n",
    "1. Remove all the duplicate rows"
   ]
  },
  {
   "cell_type": "code",
   "execution_count": null,
   "metadata": {},
   "outputs": [],
   "source": [
    "# Your code here\n"
   ]
  },
  {
   "cell_type": "markdown",
   "metadata": {},
   "source": [
    "<h3> Exercise 2.</h3>\n",
    "<p> Your boss then asks you to group the rows with the same STATUS together</p>\n",
    "Group the rows with the status\n",
    "\n",
    "```'Shipped', 'Disputed', etc together.```"
   ]
  },
  {
   "cell_type": "code",
   "execution_count": null,
   "metadata": {},
   "outputs": [],
   "source": [
    "# Your code here\n",
    "\n",
    "import pandas as pd\n",
    "\n"
   ]
  },
  {
   "cell_type": "markdown",
   "metadata": {},
   "source": [
    "### Congratulations on completing your second exercise! Your dataset should look like this:\n",
    "\n",
    "<image src = ''>"
   ]
  }
 ],
 "metadata": {
  "kernelspec": {
   "display_name": "computing",
   "language": "python",
   "name": "python3"
  },
  "language_info": {
   "codemirror_mode": {
    "name": "ipython",
    "version": 3
   },
   "file_extension": ".py",
   "mimetype": "text/x-python",
   "name": "python",
   "nbconvert_exporter": "python",
   "pygments_lexer": "ipython3",
   "version": "3.6.13"
  }
 },
 "nbformat": 4,
 "nbformat_minor": 2
}
