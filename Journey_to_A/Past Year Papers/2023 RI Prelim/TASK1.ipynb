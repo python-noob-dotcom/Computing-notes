{
 "cells": [
  {
   "cell_type": "code",
   "execution_count": 13,
   "metadata": {},
   "outputs": [
    {
     "data": {
      "text/plain": [
       "('sugar', 11)"
      ]
     },
     "execution_count": 13,
     "metadata": {},
     "output_type": "execute_result"
    }
   ],
   "source": [
    "def task1_1(filename):\n",
    "    with open(filename) as f:\n",
    "        ingredients = []\n",
    "        for line in f:\n",
    "            line = line.strip().split(',')\n",
    "\n",
    "            if line != [''] and len(line) > 1:\n",
    "                ingredients += [line[0]]\n",
    "    counts = {}\n",
    "    for ingredient in ingredients:\n",
    "        if ingredient not in counts.keys():\n",
    "            counts[ingredient] = 1\n",
    "        else:\n",
    "            counts[ingredient] += 1\n",
    "\n",
    "    ingredient = sorted(counts, key= lambda x: counts[x], reverse= True)[0]\n",
    "    return ingredient, counts[ingredient]\n",
    "\n",
    "\n",
    "task1_1('RECIPES.txt')"
   ]
  }
 ],
 "metadata": {
  "kernelspec": {
   "display_name": "computing",
   "language": "python",
   "name": "python3"
  },
  "language_info": {
   "codemirror_mode": {
    "name": "ipython",
    "version": 3
   },
   "file_extension": ".py",
   "mimetype": "text/x-python",
   "name": "python",
   "nbconvert_exporter": "python",
   "pygments_lexer": "ipython3",
   "version": "3.6.13"
  }
 },
 "nbformat": 4,
 "nbformat_minor": 2
}
