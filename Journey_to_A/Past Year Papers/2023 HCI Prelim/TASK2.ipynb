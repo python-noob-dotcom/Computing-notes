{
 "cells": [
  {
   "cell_type": "code",
   "execution_count": 2,
   "metadata": {},
   "outputs": [],
   "source": [
    "class Person:\n",
    "    def __init__(self, name, age):\n",
    "        self.name = name\n",
    "        self.age = age\n",
    "\n",
    "    def print(self):\n",
    "        print(f'{self.name},{self.age}')"
   ]
  },
  {
   "cell_type": "code",
   "execution_count": 4,
   "metadata": {},
   "outputs": [
    {
     "name": "stdout",
     "output_type": "stream",
     "text": [
      "Alice,18\n",
      "Bob,20\n",
      "Charlie,17\n",
      "David,16\n",
      "Emily,19\n",
      "Austin,19\n",
      "Cole,20\n",
      "Adam,16\n",
      "Benjamin,16\n",
      "Chloe,19\n",
      "Daniel,19\n",
      "Eva,20\n",
      "Bailey,18\n",
      "Daisy,18\n",
      "Amelia,17\n",
      "Brian,19\n",
      "Catherine,18\n",
      "Dylan,17\n",
      "Eleanor,16\n",
      "Bella,17\n",
      "Caleb,16\n",
      "Delilah,20\n",
      "Ethan,17\n",
      "Ella,18\n",
      "Arthur,20\n"
     ]
    }
   ],
   "source": [
    "def task2_2(filename):\n",
    "    with open(filename) as f:\n",
    "        persons = []\n",
    "\n",
    "        for line in f:\n",
    "            line = line.strip().replace(' ', '').split(',')\n",
    "            persons += [Person(line[0], line[1])]\n",
    "\n",
    "    return persons\n",
    "\n",
    "list_of_person = task2_2('PERSON.txt') \n",
    "\n",
    "for person in list_of_person: \n",
    "    person.print() "
   ]
  },
  {
   "cell_type": "code",
   "execution_count": 5,
   "metadata": {},
   "outputs": [
    {
     "name": "stdout",
     "output_type": "stream",
     "text": [
      "Adam,16\n",
      "Alice,18\n",
      "Amelia,17\n",
      "Austin,19\n",
      "Bailey,18\n",
      "Bella,17\n",
      "Benjamin,16\n",
      "Bob,20\n",
      "Brian,19\n",
      "Caleb,16\n",
      "Catherine,18\n",
      "Charlie,17\n",
      "Chloe,19\n",
      "Cole,20\n",
      "Daisy,18\n",
      "Daniel,19\n",
      "David,16\n",
      "Delilah,20\n",
      "Dylan,17\n",
      "Eleanor,16\n",
      "Ella,18\n",
      "Emily,19\n",
      "Ethan,17\n",
      "Eva,20\n",
      "Arthur,20\n"
     ]
    }
   ],
   "source": [
    "def task2_3(list_of_person, key, order):\n",
    "    for i in range(1, len(list_of_person) - 1):\n",
    "        curr = list_of_person[i]\n",
    "        j = i - 1\n",
    "\n",
    "        if key == 'name':\n",
    "            if order == 'asc':\n",
    "                while list_of_person[j].name > list_of_person[j + 1].name and j > -1:\n",
    "                    list_of_person[j], list_of_person[j + 1] = list_of_person[j + 1], list_of_person[j]\n",
    "                    j -= 1\n",
    "            else:\n",
    "                while list_of_person[j].name < list_of_person[j + 1].name and j > -1:\n",
    "                    list_of_person[j], list_of_person[j + 1] = list_of_person[j + 1], list_of_person[j]\n",
    "                    j -= 1\n",
    "        else:\n",
    "            if order == 'asc':\n",
    "                while list_of_person[j].age > list_of_person[j + 1].age and j > -1:\n",
    "                        list_of_person[j], list_of_person[j + 1] = list_of_person[j + 1], list_of_person[j]\n",
    "                        j -= 1\n",
    "            else:\n",
    "                while list_of_person[j].age < list_of_person[j + 1].age and j > -1:\n",
    "                        list_of_person[j], list_of_person[j + 1] = list_of_person[j + 1], list_of_person[j]\n",
    "                        j -= 1\n",
    "\n",
    "        list_of_person[j + 1] = curr\n",
    "\n",
    "    return list_of_person\n",
    "\n",
    "list_of_person = task2_2('PERSON.txt' ) \n",
    "task2_3(list_of_person, 'name', 'asc') \n",
    "for person in list_of_person:     \n",
    "    person.print()"
   ]
  },
  {
   "cell_type": "code",
   "execution_count": 14,
   "metadata": {},
   "outputs": [
    {
     "name": "stdout",
     "output_type": "stream",
     "text": [
      "Adam,16\n",
      "Alice,18\n",
      "Amelia,17\n",
      "Arthur,20\n",
      "Austin,19\n",
      "Bailey,18\n",
      "Bella,17\n",
      "Benjamin,16\n",
      "Bob,20\n",
      "Brian,19\n",
      "Caleb,16\n",
      "Catherine,18\n",
      "Charlie,17\n",
      "Chloe,19\n",
      "Cole,20\n",
      "Daisy,18\n",
      "Daniel,19\n",
      "David,16\n",
      "Delilah,20\n",
      "Dylan,17\n",
      "Eleanor,16\n",
      "Ella,18\n",
      "Emily,19\n",
      "Ethan,17\n",
      "Eva,20\n"
     ]
    }
   ],
   "source": [
    "def task2_4(list_of_person, key, order):\n",
    "    if len(list_of_person) < 2:\n",
    "        return list_of_person\n",
    "    else:\n",
    "        mid = len(list_of_person) // 2\n",
    "        mid_elem = list_of_person[mid]\n",
    "        mids = []\n",
    "        left = []\n",
    "        right = []\n",
    "        if key == 'name':\n",
    "            for person in list_of_person:\n",
    "                if person.name == mid_elem.name:\n",
    "                    mids.append(person)\n",
    "                elif (person.name < mid_elem.name and order == 'asc') or (person.name > mid_elem.name and order == 'desc'):\n",
    "                    left.append(person)\n",
    "                else:\n",
    "                    right.append(person)\n",
    "        else:  # key == 'age'\n",
    "            for person in list_of_person:\n",
    "                if person.age == mid_elem.age:\n",
    "                    mids.append(person)\n",
    "                elif (person.age < mid_elem.age and order == 'asc') or (person.age > mid_elem.age and order == 'desc'):\n",
    "                    left.append(person)\n",
    "                else:\n",
    "                    right.append(person)\n",
    "\n",
    "        return task2_4(left, key, order) + mids + task2_4(right, key, order)\n",
    "\n",
    "list_of_person = task2_2('PERSON.txt' ) \n",
    "list_of_person = task2_4(list_of_person, 'name', 'asc') \n",
    "for person in list_of_person:     \n",
    "    person.print()"
   ]
  }
 ],
 "metadata": {
  "kernelspec": {
   "display_name": "computing",
   "language": "python",
   "name": "python3"
  },
  "language_info": {
   "codemirror_mode": {
    "name": "ipython",
    "version": 3
   },
   "file_extension": ".py",
   "mimetype": "text/x-python",
   "name": "python",
   "nbconvert_exporter": "python",
   "pygments_lexer": "ipython3",
   "version": "3.6.13"
  }
 },
 "nbformat": 4,
 "nbformat_minor": 2
}
