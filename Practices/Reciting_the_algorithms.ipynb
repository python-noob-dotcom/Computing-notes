{
 "cells": [
  {
   "cell_type": "code",
   "execution_count": 66,
   "metadata": {},
   "outputs": [
    {
     "name": "stdout",
     "output_type": "stream",
     "text": [
      "[1, 2, 3, 4, 5]\n"
     ]
    }
   ],
   "source": [
    "def bubble_sort(array):\n",
    "    for i in range(len(array)):\n",
    "        noSwaps = True\n",
    "\n",
    "        for j in range(len(array) - i - 1):\n",
    "            if array[j] > array[j + 1]:\n",
    "                array[j] , array[j + 1] = array[j + 1], array[j]\n",
    "                noSwaps = False\n",
    "        \n",
    "        if noSwaps:\n",
    "            continue\n",
    "    \n",
    "    return array\n",
    "\n",
    "def bubble_sort_recursive(array, length):\n",
    "    if length < 2:\n",
    "        return array\n",
    "    else:\n",
    "        for j in range(length - 1):\n",
    "            if array[j] > array[j + 1]:\n",
    "                array[j] , array[j + 1] = array[j + 1], array[j]\n",
    "\n",
    "        return bubble_sort_recursive(array, length - 1)\n",
    "    \n",
    "def insertion_sort(array):\n",
    "        \n",
    "    for i in range(1, len(array)):\n",
    "\n",
    "        curr_elem = array[i]\n",
    "\n",
    "        j = i - 1\n",
    "\n",
    "        while curr_elem < array[j] and j + 1 >= 1:\n",
    "            array[j + 1] = array[j]\n",
    "            array[j] = curr_elem\n",
    "            j -= 1\n",
    "\n",
    "    return array\n",
    "\n",
    "def merge_sort(array):\n",
    "    if len(array) > 1:\n",
    "        middle = (len(array)) // 2\n",
    "\n",
    "        left = array[:middle]\n",
    "        right = array[middle:]\n",
    "\n",
    "        merge_sort(left)\n",
    "        merge_sort(right)\n",
    "\n",
    "        i = j = k = 0\n",
    "\n",
    "        while i < len(left) and j < len(right):\n",
    "            if left[i] < right[j]:\n",
    "                array[k] = left[i]\n",
    "                i += 1\n",
    "\n",
    "            else:\n",
    "                array[k] = right[j]\n",
    "                j += 1\n",
    "            k += 1\n",
    "\n",
    "        while i < len(left):\n",
    "            array[k] = left[i]\n",
    "            k += 1\n",
    "            i += 1\n",
    "        \n",
    "        while j < len(right):\n",
    "            array[k] = right[j]\n",
    "            k += 1\n",
    "            j += 1\n",
    "    return array\n",
    "    \n",
    "def quick_sort(array):\n",
    "    if len(array) < 2:\n",
    "        return array\n",
    "\n",
    "    middle = len(array) // 2\n",
    "\n",
    "    left = [elem for elem in array if elem < array[middle]]\n",
    "    right = [elem for elem in array if elem > array[middle]]\n",
    "\n",
    "    mids = [elem for elem in array if elem == array[middle]]\n",
    "\n",
    "    return quick_sort(left) + middle + quick_sort(right)\n",
    "\n",
    "def quick_sort_in_place(array, low, high):\n",
    "    def partition(array, low, high):\n",
    "        pivot = (low + high) // 2\n",
    "        pivot_element = array[pivot]\n",
    "\n",
    "        left = low - 1\n",
    "        right = high + 1\n",
    "        status = True\n",
    "\n",
    "        while status:\n",
    "            left += 1\n",
    "            while array[left] < pivot_element:\n",
    "                left += 1\n",
    "\n",
    "            right -= 1\n",
    "            while array[right] > pivot_element:\n",
    "                right -= 1\n",
    "\n",
    "            if left >= right:\n",
    "                return right\n",
    "            \n",
    "            array[left], array[right] = array[right], array[left]\n",
    "\n",
    "    if low < high:\n",
    "        partition_index = partition(array, low, high)\n",
    "\n",
    "        quick_sort_in_place(array, low, partition_index - 1)\n",
    "        quick_sort_in_place(array, partition_index + 1, high)\n",
    "\n",
    "arr = [5, 4, 3, 2, 1]\n",
    "quick_sort_in_place(arr, 0, 4)\n",
    "print(arr)"
   ]
  },
  {
   "cell_type": "code",
   "execution_count": 68,
   "metadata": {},
   "outputs": [
    {
     "data": {
      "text/plain": [
       "1"
      ]
     },
     "execution_count": 68,
     "metadata": {},
     "output_type": "execute_result"
    }
   ],
   "source": [
    "def linear_search(array, target):\n",
    "    for i in range(len(array)):\n",
    "        if array[i] == target:\n",
    "            return i\n",
    "        \n",
    "def binary_search(array, target, low, high):\n",
    "    if low > high:\n",
    "        return -1\n",
    "    else:\n",
    "        middle_index = (low + high) // 2\n",
    "\n",
    "        if array[middle_index] == target:\n",
    "            return middle_index\n",
    "\n",
    "        if target > array[middle_index]:\n",
    "            return binary_search(array, target, middle_index + 1, high)\n",
    "        else:\n",
    "            return binary_search(array, target, low, middle_index - 1)\n",
    "        \n",
    "binary_search([1, 2, 3, 4, 5], 2, 0, 4)"
   ]
  },
  {
   "cell_type": "code",
   "execution_count": 69,
   "metadata": {},
   "outputs": [
    {
     "name": "stdout",
     "output_type": "stream",
     "text": [
      "[1, 2, 3, 4, 5]\n"
     ]
    }
   ],
   "source": [
    "def quick_sort_in_place(array, low, high):\n",
    "    def partition(array, low, high):\n",
    "        pivot = (low + high) // 2\n",
    "\n",
    "        left = low - 1\n",
    "        right = high + 1\n",
    "\n",
    "        while True:\n",
    "            \n",
    "            left += 1\n",
    "            while array[left] < array[pivot]:\n",
    "                left += 1\n",
    "\n",
    "            right -= 1\n",
    "            while array[right] > array[pivot]:\n",
    "                right -= 1\n",
    "\n",
    "            if left >= right:\n",
    "                return right\n",
    "            \n",
    "            array[left], array[right] = array[right], array[left]\n",
    "\n",
    "    if low < high:\n",
    "        partition_index = partition(array, low, high)\n",
    "\n",
    "        quick_sort_in_place(array, low, partition_index - 1)\n",
    "        quick_sort_in_place(array, partition_index + 1, high)\n",
    "\n",
    "arr = [5, 4, 3, 2, 1]\n",
    "\n",
    "quick_sort_in_place(arr, 0 , 4)\n",
    "\n",
    "print(arr)"
   ]
  },
  {
   "cell_type": "code",
   "execution_count": null,
   "metadata": {},
   "outputs": [],
   "source": [
    "def insertion_sort(array):\n",
    "        \n",
    "    for i in range(1, len(array)):\n",
    "\n",
    "        curr_elem = array[i]\n",
    "\n",
    "        j = i - 1\n",
    "\n",
    "        while curr_elem < array[j] and j + 1 >= 1:\n",
    "            array[j + 1] = array[j]\n",
    "            array[j] = curr_elem\n",
    "            j -= 1\n",
    "\n",
    "    return array\n"
   ]
  },
  {
   "cell_type": "code",
   "execution_count": 72,
   "metadata": {},
   "outputs": [
    {
     "data": {
      "text/plain": [
       "[1, 2, 3, 4, 5]"
      ]
     },
     "execution_count": 72,
     "metadata": {},
     "output_type": "execute_result"
    }
   ],
   "source": [
    "def insertion_sort_recursive(array, low, high):\n",
    "    if low <= high:\n",
    "        curr_elem = array[low]\n",
    "\n",
    "        j = low - 1\n",
    "\n",
    "        while curr_elem < array[j] and j + 1 >= 1:\n",
    "            array[j + 1] = array[j]\n",
    "            array[j] = curr_elem\n",
    "            j -= 1\n",
    "        \n",
    "        return insertion_sort_recursive(array, low + 1, high)\n",
    "    else:\n",
    "        return array\n",
    "    \n",
    "insertion_sort_recursive([5, 4, 3, 2, 1], 0, 4)"
   ]
  }
 ],
 "metadata": {
  "kernelspec": {
   "display_name": "Python 3",
   "language": "python",
   "name": "python3"
  },
  "language_info": {
   "codemirror_mode": {
    "name": "ipython",
    "version": 3
   },
   "file_extension": ".py",
   "mimetype": "text/x-python",
   "name": "python",
   "nbconvert_exporter": "python",
   "pygments_lexer": "ipython3",
   "version": "3.6.4"
  },
  "orig_nbformat": 4
 },
 "nbformat": 4,
 "nbformat_minor": 2
}
