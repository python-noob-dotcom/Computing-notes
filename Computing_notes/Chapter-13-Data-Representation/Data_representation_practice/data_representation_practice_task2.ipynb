{
 "cells": [
  {
   "cell_type": "code",
   "execution_count": 70,
   "metadata": {},
   "outputs": [
    {
     "name": "stdout",
     "output_type": "stream",
     "text": [
      "10 11\n"
     ]
    },
    {
     "data": {
      "text/plain": [
       "'10'"
      ]
     },
     "execution_count": 70,
     "metadata": {},
     "output_type": "execute_result"
    }
   ],
   "source": [
    "def add_bin_iter(s1, s2):\n",
    "    s1 = str(s1)\n",
    "    s2 = str(s2)\n",
    "    \n",
    "    # check if need padding and add padding\n",
    "    if len(s1) < len(s2):\n",
    "        s1 = s1[::-1]\n",
    "        for i in range(len(s2) - len(s1)):\n",
    "            s1 += '0'\n",
    "        s1 = s1[::-1]\n",
    "\n",
    "    elif len(s1) > len(s2):\n",
    "        s2 = s2[::-1]\n",
    "        for i in range(len(s1) - len(s2)):\n",
    "            s2 += '0'\n",
    "        s2 = s2[::-1]\n",
    "\n",
    "    print(s1, s2)\n",
    "    # iteration\n",
    "    result = ''\n",
    "    i = len(s1) - 1\n",
    "    carry = '0'\n",
    "    while i > -1:\n",
    "        if carry == '0':\n",
    "            total = int(s1[i]) + int(s2[i])\n",
    "            if total == 2:\n",
    "                carry == '1'\n",
    "                result += '0'\n",
    "            elif total == 1:\n",
    "                carry == '0'\n",
    "                result += '1'\n",
    "            else:\n",
    "                carry == '0'\n",
    "                result += '0'\n",
    "\n",
    "        elif carry == '1':\n",
    "            total = int(s1[i]) + int(s2[i]) + int(carry)\n",
    "\n",
    "            if total == 3:\n",
    "                carry == '1'\n",
    "                result += '1'\n",
    "            elif total == 2:\n",
    "                carry = '1'\n",
    "                result += '0'\n",
    "            elif total == 1:\n",
    "                carry = '0'\n",
    "                result += '1'\n",
    "\n",
    "        i -= 1\n",
    "\n",
    "    return result\n",
    "\n",
    "add_bin_iter(10, 11)\n"
   ]
  },
  {
   "cell_type": "code",
   "execution_count": 58,
   "metadata": {},
   "outputs": [
    {
     "data": {
      "text/plain": [
       "'010'"
      ]
     },
     "execution_count": 58,
     "metadata": {},
     "output_type": "execute_result"
    }
   ],
   "source": [
    "s1 = '10'\n",
    "s2 = '110'\n",
    "\n",
    "\n",
    "\n",
    "s1 = s1[::-1]\n",
    "for i in range(len(s2) - len(s1)):\n",
    "    s1 += '0'\n",
    "s1 = s1[::-1]\n",
    "\n",
    "s1"
   ]
  }
 ],
 "metadata": {
  "kernelspec": {
   "display_name": "Python 3",
   "language": "python",
   "name": "python3"
  },
  "language_info": {
   "codemirror_mode": {
    "name": "ipython",
    "version": 3
   },
   "file_extension": ".py",
   "mimetype": "text/x-python",
   "name": "python",
   "nbconvert_exporter": "python",
   "pygments_lexer": "ipython3",
   "version": "3.6.4"
  }
 },
 "nbformat": 4,
 "nbformat_minor": 2
}
