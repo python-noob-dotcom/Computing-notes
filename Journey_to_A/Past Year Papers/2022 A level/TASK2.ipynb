{
 "cells": [
  {
   "cell_type": "code",
   "execution_count": 2,
   "metadata": {},
   "outputs": [
    {
     "name": "stdout",
     "output_type": "stream",
     "text": [
      "[85, 79, 95, 7, 42, 45, 35, 74, 93, 63, 77, 54, 53, 27, 75, 49, 85, 74, 98, 65, 99, 86, 44, 24, 65, 56, 14, 76, 4, 8, 19, 21, 14, 34, 32, 51, 29, 81, 92, 15, 35, 64, 60, 37, 3, 61, 40, 85, 70, 49, 16, 84, 84, 42, 67, 30, 56, 52, 86, 21, 81, 45, 20, 37, 98, 30, 36, 16, 57, 28, 9, 83, 1, 46, 89, 38, 75, 19, 97, 89, 38, 14, 54, 26, 64, 46, 58, 62, 88, 5, 81, 55, 81, 36, 10, 73, 33, 16, 39, 61]\n"
     ]
    }
   ],
   "source": [
    "# Task 2.1\n",
    "import random\n",
    "\n",
    "def task2_1():\n",
    "    global lst\n",
    "    lst = [random.randint(1, 100) for i in range(100)]\n",
    "    print(lst)\n",
    "\n",
    "\n",
    "task2_1()    "
   ]
  },
  {
   "cell_type": "code",
   "execution_count": 12,
   "metadata": {},
   "outputs": [
    {
     "name": "stdout",
     "output_type": "stream",
     "text": [
      "[1, 3, 4, 5, 7, 8, 9, 10, 14, 14, 14, 15, 16, 16, 16, 19, 19, 20, 21, 21, 24, 26, 27, 28, 29, 30, 30, 32, 33, 34, 35, 35, 36, 36, 37, 37, 38, 38, 39, 40, 42, 42, 44, 45, 45, 46, 46, 49, 49, 51, 52, 53, 54, 54, 55, 56, 56, 57, 58, 60, 61, 61, 62, 63, 64, 64, 65, 65, 67, 70, 73, 74, 74, 75, 75, 76, 77, 79, 81, 81, 81, 81, 83, 84, 84, 85, 85, 85, 86, 86, 88, 89, 89, 92, 93, 95, 97, 98, 98, 99]\n"
     ]
    }
   ],
   "source": [
    "def bubble_sort(data):\n",
    "    for i in range(len(data)):\n",
    "        swaps = False\n",
    "        for j in range(len(data) - i - 1, len(data) - 1):\n",
    "            if data[j] > data[j + 1]:\n",
    "                data[j], data[j + 1] = data[j + 1], data[j]\n",
    "                swaps = True\n",
    "\n",
    "        if not swaps:\n",
    "            break\n",
    "\n",
    "bubble_sort(lst)\n",
    "print(lst)"
   ]
  },
  {
   "cell_type": "code",
   "execution_count": 19,
   "metadata": {},
   "outputs": [
    {
     "name": "stdout",
     "output_type": "stream",
     "text": [
      "[66, 96, 8, 55, 100, 79, 78, 50, 88, 75, 6, 8, 22, 19, 90, 91, 65, 46, 23, 86, 24, 20, 77, 10, 50, 49, 77, 44, 99, 39, 98, 51, 67, 13, 75, 68, 32, 27, 9, 12, 50, 70, 18, 53, 15, 90, 88, 14, 74, 74, 17, 10, 2, 17, 53, 59, 86, 53, 41, 59, 17, 67, 45, 84, 50, 94, 45, 52, 83, 79, 59, 97, 76, 28, 88, 43, 18, 38, 28, 16, 24, 58, 45, 65, 61, 70, 47, 22, 82, 64, 15, 41, 77, 40, 14, 55, 14, 100, 34, 56]\n",
      "Your previous input: NO\n",
      "[2, 6, 8, 8, 9, 10, 10, 12, 13, 14, 14, 14, 15, 15, 16, 17, 17, 17, 18, 18, 19, 20, 22, 22, 23, 24, 24, 27, 28, 28, 32, 34, 38, 39, 40, 41, 41, 43, 44, 45, 45, 45, 46, 47, 49, 50, 50, 50, 50, 51, 52, 53, 53, 53, 55, 55, 56, 58, 59, 59, 59, 61, 64, 65, 65, 66, 67, 67, 68, 70, 70, 74, 74, 75, 75, 76, 77, 77, 77, 78, 79, 79, 82, 83, 84, 86, 86, 88, 88, 88, 90, 90, 91, 94, 96, 97, 98, 99, 100, 100]\n"
     ]
    }
   ],
   "source": [
    "def merge_sort(arr):\n",
    "    if len(arr) > 1:\n",
    "        mid = len(arr) // 2\n",
    "\n",
    "        left = arr[:mid]\n",
    "        right = arr[mid:]\n",
    "\n",
    "        merge_sort(left)\n",
    "        merge_sort(right)\n",
    "\n",
    "        i = j = k = 0\n",
    "\n",
    "        while i < len(left) and j < len(right):\n",
    "            if left[i] < right[j]:\n",
    "                arr[k] = left[i]\n",
    "                i += 1\n",
    "            else:\n",
    "                arr[k] = right[j]\n",
    "                j += 1\n",
    "\n",
    "            k += 1\n",
    "        \n",
    "        while i < len(left):\n",
    "            arr[k] = left[i]\n",
    "            i += 1\n",
    "            k += 1\n",
    "        \n",
    "        while j < len(right):\n",
    "            arr[k] = right[j]\n",
    "            j += 1\n",
    "            k += 1\n",
    "        \n",
    "    return arr\n",
    "\n",
    "def main():\n",
    "    userin = input('Which sorting algo do u want to use? M for merge, B for bubble: ')\n",
    "    userin = userin.upper()\n",
    "    task2_1()\n",
    "\n",
    "    while userin not in 'MB':\n",
    "        print(f'Your previous input: {userin}')\n",
    "        userin = input('Which sorting algo do u want to use? M for merge, B for bubble: ')\n",
    "        \n",
    "    if userin == 'M':\n",
    "        merge_sort(lst)\n",
    "    else:\n",
    "        bubble_sort(lst)\n",
    "    \n",
    "    print(lst)\n",
    "\n",
    "main()"
   ]
  },
  {
   "cell_type": "code",
   "execution_count": 24,
   "metadata": {},
   "outputs": [
    {
     "name": "stdout",
     "output_type": "stream",
     "text": [
      "The index for 2 is 0\n",
      "Not found\n"
     ]
    }
   ],
   "source": [
    "# Task 2.4\n",
    "\n",
    "def binary_search(arr, target, low, high):\n",
    "    if low < high:\n",
    "        mid = (low + high) // 2\n",
    "\n",
    "        if target == arr[mid]:\n",
    "            return mid\n",
    "        else:\n",
    "            if target > arr[mid]:\n",
    "                return binary_search(arr, target, mid + 1, high)\n",
    "            else:\n",
    "                return binary_search(arr, target, low, mid - 1)\n",
    "    else:\n",
    "        return -1\n",
    "    \n",
    "def main_2():\n",
    "    userin = input('Enter the number you want to search for: ')\n",
    "    res = binary_search(lst, int(userin), 0, len(lst) - 1)\n",
    "    \n",
    "    print(f'The index for {userin} is {res}' if res != -1 else 'Not found')\n",
    "\n",
    "main_2()\n",
    "main_2()"
   ]
  }
 ],
 "metadata": {
  "kernelspec": {
   "display_name": "computing",
   "language": "python",
   "name": "python3"
  },
  "language_info": {
   "codemirror_mode": {
    "name": "ipython",
    "version": 3
   },
   "file_extension": ".py",
   "mimetype": "text/x-python",
   "name": "python",
   "nbconvert_exporter": "python",
   "pygments_lexer": "ipython3",
   "version": "3.6.13"
  }
 },
 "nbformat": 4,
 "nbformat_minor": 2
}
