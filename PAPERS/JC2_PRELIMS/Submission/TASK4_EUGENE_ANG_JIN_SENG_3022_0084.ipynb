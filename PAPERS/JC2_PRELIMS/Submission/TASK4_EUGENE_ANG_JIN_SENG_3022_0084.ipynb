{
 "cells": [
  {
   "cell_type": "code",
   "execution_count": 14,
   "id": "a87998eb",
   "metadata": {},
   "outputs": [],
   "source": [
    "# Task 4.1\n",
    "\n",
    "def init():\n",
    "#     init all values to be global variables\n",
    "    global grid\n",
    "\n",
    "#     list comp to get the final grid nice and look good\n",
    "    grid = [['--' for i in range(3)] for i in range(3)]\n",
    "\n",
    "    global tries\n",
    "    tries = 0\n",
    "\n",
    "    global mine_x\n",
    "    global mine_y"
   ]
  },
  {
   "cell_type": "code",
   "execution_count": 15,
   "id": "56d5d53e",
   "metadata": {},
   "outputs": [
    {
     "name": "stdout",
     "output_type": "stream",
     "text": [
      "[['O', 'O', 'O'], ['O', 'X', '--'], ['O', 'O', '--']]\n"
     ]
    }
   ],
   "source": [
    "# Task 4.2\n",
    "import random\n",
    "\n",
    "def mine_loc():\n",
    "    global mine_x\n",
    "    global mine_y\n",
    "\n",
    "    mine_y = mine_x = random.randint(0, 2)\n",
    "\n",
    "def userin():\n",
    "    x, y = input('Enter the x and y coordinates between 0 and 2 in the format: x,y. ').split(',')\n",
    "\n",
    "#     input validation, check if it is either 0, 1 or 2\n",
    "    while x not in '012' and y not in '012':\n",
    "        x, y = input('Enter the x and y coordinates between 0 and 2 in the format: x,y. ').split(',')\n",
    "\n",
    "    return int(x), int(y)\n",
    "\n",
    "def movement(x, y):\n",
    "    global mine_x\n",
    "    global mine_y\n",
    "    global grid\n",
    "    global tries\n",
    "\n",
    "#     update the grid based on the coordinates\n",
    "    if x == mine_x and y == mine_y:\n",
    "        grid[y][x] = 'X'\n",
    "    else:\n",
    "        grid[y][x] = 'O'\n",
    "\n",
    "#         increment tries\n",
    "    tries += 1\n",
    "\n",
    "mine_loc()\n",
    "movement(0, 1)\n",
    "movement(1, 2)\n",
    "print(grid)"
   ]
  },
  {
   "cell_type": "code",
   "execution_count": 16,
   "id": "e64fa40f",
   "metadata": {},
   "outputs": [
    {
     "name": "stdout",
     "output_type": "stream",
     "text": [
      "['--', '--', '--']\n",
      "['--', '--', '--']\n",
      "['--', '--', '--']\n",
      "Enter the x and y coordinates between 0 and 2 in the format: x,y. 0,1\n",
      "['--', '--', '--']\n",
      "['O', '--', '--']\n",
      "['--', '--', '--']\n",
      "Enter the x and y coordinates between 0 and 2 in the format: x,y. 1,1\n",
      "['--', '--', '--']\n",
      "['O', 'X', '--']\n",
      "['--', '--', '--']\n",
      "You took 2 tries to get the mine\n"
     ]
    }
   ],
   "source": [
    "# Task 4.3\n",
    "\n",
    "def display(grid):\n",
    "#     iterate through each row and display\n",
    "    for row in grid:\n",
    "        print(f'{row}')\n",
    "        \n",
    "def game_end(grid):\n",
    "#     iterate through each elem\n",
    "    for row in grid:\n",
    "        for item in row:\n",
    "#             if mine location found, return True cos game ended\n",
    "            if item == 'X':\n",
    "                return True\n",
    "            \n",
    "# end of loop, means that mine not found, return False\n",
    "    return False\n",
    "\n",
    "def main():\n",
    "    init()\n",
    "#     get global var\n",
    "    global tries\n",
    "    mine_loc()\n",
    "    \n",
    "#     keep running the loop until the game is over\n",
    "    while not game_end(grid):\n",
    "        display(grid)\n",
    "#         get input\n",
    "        x, y = userin()\n",
    "#     move character\n",
    "        movement(x, y)\n",
    "#     show grid\n",
    "    display(grid)\n",
    "    print(f'You took {tries} tries to get the mine')\n",
    "        \n",
    "main()"
   ]
  }
 ],
 "metadata": {
  "kernelspec": {
   "display_name": "Python 3 (ipykernel)",
   "language": "python",
   "name": "python3"
  },
  "language_info": {
   "codemirror_mode": {
    "name": "ipython",
    "version": 3
   },
   "file_extension": ".py",
   "mimetype": "text/x-python",
   "name": "python",
   "nbconvert_exporter": "python",
   "pygments_lexer": "ipython3",
   "version": "3.7.7"
  }
 },
 "nbformat": 4,
 "nbformat_minor": 5
}
