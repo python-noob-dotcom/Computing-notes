{
 "cells": [
  {
   "cell_type": "code",
   "execution_count": 2,
   "metadata": {},
   "outputs": [
    {
     "data": {
      "text/plain": [
       "' {olty%$#\"'"
      ]
     },
     "execution_count": 2,
     "metadata": {},
     "output_type": "execute_result"
    }
   ],
   "source": [
    "def encrypt(plaintext):\n",
    "    msg = ''\n",
    "    j = len(plaintext)\n",
    "    for i in range(len(plaintext)):\n",
    "        num = ord(plaintext[i]) + j\n",
    "        if num > 126:\n",
    "            num = 32\n",
    "\n",
    "        msg += chr(num)\n",
    "        j -= 1\n",
    "\n",
    "    return msg\n",
    "\n",
    "encrypt('urgent!!!!')"
   ]
  },
  {
   "cell_type": "code",
   "execution_count": 4,
   "metadata": {},
   "outputs": [
    {
     "data": {
      "text/plain": [
       "'urgent!!!!'"
      ]
     },
     "execution_count": 4,
     "metadata": {},
     "output_type": "execute_result"
    }
   ],
   "source": [
    "def decrypt(msg):\n",
    "    dec = ''\n",
    "\n",
    "    j = len(msg)\n",
    "\n",
    "    for char in msg:\n",
    "        if ord(char) == 32:\n",
    "            num = 127 - j\n",
    "        else:\n",
    "            num = ord(char) - j\n",
    "\n",
    "        dec += chr(num)\n",
    "        j -= 1\n",
    "\n",
    "    return dec\n",
    "\n",
    "decrypt(' {olty%$#\"')"
   ]
  }
 ],
 "metadata": {
  "kernelspec": {
   "display_name": "computing",
   "language": "python",
   "name": "python3"
  },
  "language_info": {
   "codemirror_mode": {
    "name": "ipython",
    "version": 3
   },
   "file_extension": ".py",
   "mimetype": "text/x-python",
   "name": "python",
   "nbconvert_exporter": "python",
   "pygments_lexer": "ipython3",
   "version": "3.6.13"
  }
 },
 "nbformat": 4,
 "nbformat_minor": 2
}
