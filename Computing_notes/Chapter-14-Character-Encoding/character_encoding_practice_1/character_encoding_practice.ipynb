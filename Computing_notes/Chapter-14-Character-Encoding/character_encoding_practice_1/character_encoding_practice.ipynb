{
 "cells": [
  {
   "cell_type": "code",
   "execution_count": 2,
   "metadata": {},
   "outputs": [],
   "source": [
    "# Task 1.1\n",
    "\n",
    "def substituition(char, key):\n",
    "    char = char.upper()\n",
    "    key = key.upper()\n",
    "    return chr((ord(char) + ord(key) - 65*2) % 26 + 65)\n",
    "\n"
   ]
  },
  {
   "cell_type": "code",
   "execution_count": 6,
   "metadata": {},
   "outputs": [
    {
     "name": "stdout",
     "output_type": "stream",
     "text": [
      "P\n",
      "A\n"
     ]
    }
   ],
   "source": [
    "# Task 1.2 \n",
    "\n",
    "def main():\n",
    "    plaintext_letter = input('Input letter to be encrypted')\n",
    "    key = input('Input key for encryption')\n",
    "\n",
    "    print(substituition(plaintext_letter, key))\n",
    "\n",
    "main()\n",
    "main()"
   ]
  },
  {
   "cell_type": "code",
   "execution_count": 10,
   "metadata": {},
   "outputs": [
    {
     "data": {
      "text/plain": [
       "'WCESCJDPEK'"
      ]
     },
     "execution_count": 10,
     "metadata": {},
     "output_type": "execute_result"
    }
   ],
   "source": [
    "# Task 1.3\n",
    "\n",
    "def vignere_cipher(plaintext, keyword):\n",
    "    encrypted_message = ''\n",
    "\n",
    "    for i in range(len(plaintext)):\n",
    "        encrypted_message += substituition(plaintext[i], keyword[(i % (len(keyword)))])\n",
    "\n",
    "    return encrypted_message\n",
    "\n",
    "vignere_cipher('HELLOWORLD', 'PYTHON')"
   ]
  },
  {
   "cell_type": "code",
   "execution_count": 5,
   "metadata": {},
   "outputs": [
    {
     "name": "stdout",
     "output_type": "stream",
     "text": [
      "OSWXSZXSPBOEYOGDEEDCUEDSSLXZQDHTPCPLECTBNWZXSZXTNYMMRFFLWLYRHWVDVPQHSOALPXORIDZTPXHLHZSYMSSMPGSZMEECIILNVPPODRYEHTBNFFEVVPXPGAIWWGOMXEVHXLNZPIYEAYLTWHVRNFPPXETGJEWWWUKZYHOIXDCVREZGLIVLBLBAWOUEETCUSQEVLWETQRJTRIYIDOFHAYZBALPAOWICQWNYCPGALLEGLIXECYIDPAIPPOOUGTYUTIYHVLRNFPPXELFYMGPGOIPIDSETYGALLEVLLLDPLIYXOYVTPRMSCLPVYELMLECECHCZFBNEXPFPGLYKVQLYVLOYPKSMEEZLEMZIALTDKPJPPZZMPHVLRESSFQPEOUHDSSYIBFSZXPOHOEESSUSELGRLPCOISFEVLVALGAEALGAWSPGHCDDVLAZFZKPTVSASQZFNIESSOEDSCUSCPROICCSXYPDHIYECSJIYEZFWSPGLIXPRXYTESZLLVSUEQESYVPNSPZTYUHPPEHLVQCCTXSPIUMEPRZXLESZWSZFAPJLTAICDVLVPLRHROMIYRPOHOEEWSAXPCHOIOLBJMYRALRSTSYSRWMWLTNGDICPTVYYOKYMEESUMYNVHPVZBALPHWUHZHGPPWNIIMEEKHWSPRALPXCMJMFHUSETQLHSTGDMQPGKMDXOFASPBOIEZZKLPCOISFEHOIXEVLRESSWEAPFALLEVVPXPGOEODVVAYHOAWZYKHWQZIUHZYHOIDFBKMLWWUXSPUHVOPBDLPYQBFTEHMSFYRPXLYRZLZHSKMEECLPDTSZLPAFVQAEZFJLTBAIOSSKSPDBVXHTGOXZGWVPLESOMDAFVQTDSASSTGDMQPOUHLDYDLPEVLVESSZIOLBJMYRALRLCSYIWLHLHEZVLVFYYUSHYDHWEDCOISLGJSXPHVLZWALWQZFOIWAWUYYOSYWELBKMYRHOMDLDWECPBAQJDHLVJTBCSWGWUKESSDSXLBOIWZJLWDZRLECWM\n"
     ]
    }
   ],
   "source": [
    "# Task 1.4\n",
    "\n",
    "def main():\n",
    "    with open('plaintext.txt', 'r') as plaintext:\n",
    "        text = ''\n",
    "        for line in plaintext:\n",
    "            text = line\n",
    "            data = ''\n",
    "            for char in line:\n",
    "                if char.isalpha():\n",
    "                    data += char.upper()\n",
    "    \n",
    "    \n",
    "    keyword = input('Enter the keyword (longer than 2 characters) to be used in the cipher')\n",
    "    while len(keyword) < 2:\n",
    "        keyword = input('Please enter a keyword that is longer than 2 characters')\n",
    "\n",
    "    with open('ciphertext.txt', 'w') as encrypted_message:\n",
    "        encrypted = vignere_cipher(data, keyword)\n",
    "        encrypted_message.write(encrypted)\n",
    "        print(encrypted)\n",
    "            \n",
    "main()"
   ]
  }
 ],
 "metadata": {
  "kernelspec": {
   "display_name": "Python 3",
   "language": "python",
   "name": "python3"
  },
  "language_info": {
   "codemirror_mode": {
    "name": "ipython",
    "version": 3
   },
   "file_extension": ".py",
   "mimetype": "text/x-python",
   "name": "python",
   "nbconvert_exporter": "python",
   "pygments_lexer": "ipython3",
   "version": "3.6.4"
  }
 },
 "nbformat": 4,
 "nbformat_minor": 2
}
