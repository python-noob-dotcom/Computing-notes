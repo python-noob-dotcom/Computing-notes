{
 "cells": [
  {
   "cell_type": "code",
   "execution_count": 34,
   "metadata": {},
   "outputs": [
    {
     "name": "stdout",
     "output_type": "stream",
     "text": [
      "Help on built-in function max in module builtins:\n",
      "\n",
      "max(...)\n",
      "    max(iterable, *[, default=obj, key=func]) -> value\n",
      "    max(arg1, arg2, *args, *[, key=func]) -> value\n",
      "    \n",
      "    With a single iterable argument, return its biggest item. The\n",
      "    default keyword-only argument specifies an object to return if\n",
      "    the provided iterable is empty.\n",
      "    With two or more arguments, return the largest argument.\n",
      "\n"
     ]
    }
   ],
   "source": [
    "help(max)"
   ]
  },
  {
   "cell_type": "code",
   "execution_count": 7,
   "metadata": {},
   "outputs": [
    {
     "name": "stdout",
     "output_type": "stream",
     "text": [
      "['2017-08-23', '03:38', 'HIGH', '7.4']\n",
      "['2017-08-22', '22:11', 'LOW', '0.1']\n"
     ]
    }
   ],
   "source": [
    "# Task 3.1\n",
    "data = []\n",
    "with open('TIDES.txt', 'r') as f:\n",
    "    for line in f:\n",
    "        data.append(line.strip().split('\\t'))\n",
    "\n",
    "high_data = []\n",
    "low_data = []\n",
    "for line in data:\n",
    "    if line[2] == 'LOW':\n",
    "        low_data.append(line)\n",
    "    elif line[2] == 'HIGH':\n",
    "        high_data.append(line)\n",
    "\n",
    "print(max(high_data, key= lambda x: float(x[3])))\n",
    "print(min(low_data, key= lambda x: float(x[3])))\n"
   ]
  },
  {
   "cell_type": "code",
   "execution_count": 54,
   "metadata": {},
   "outputs": [
    {
     "name": "stdout",
     "output_type": "stream",
     "text": [
      "Maximum: \n",
      "Date of second tide: 2017-08-23. Tide difference: 7.300000000000001\n",
      "Minimum: \n",
      "Date of second tide: 2017-08-31. Tide difference: 3.8\n"
     ]
    }
   ],
   "source": [
    "# Task 3.2\n",
    "# Task 3.1\n",
    "data = []\n",
    "with open('TIDES.txt', 'r') as f:\n",
    "    for line in f:\n",
    "        data.append(line.strip().split('\\t'))\n",
    "\n",
    "    tide_differences = []\n",
    "    for i in range(len(data) - 1):\n",
    "        tide_differences.append(abs((float(data[i][3]) - float(data[i + 1][3]))))\n",
    "\n",
    "\n",
    "print(f'Maximum: \\nDate of second tide: {data[tide_differences.index(max(tide_differences)) + 1][0]}. Tide difference: {max(tide_differences)}')\n",
    "print(f'Minimum: \\nDate of second tide: {data[tide_differences.index(min(tide_differences)) + 1][0]}. Tide difference: {min(tide_differences)}')"
   ]
  }
 ],
 "metadata": {
  "kernelspec": {
   "display_name": "computing",
   "language": "python",
   "name": "python3"
  },
  "language_info": {
   "codemirror_mode": {
    "name": "ipython",
    "version": 3
   },
   "file_extension": ".py",
   "mimetype": "text/x-python",
   "name": "python",
   "nbconvert_exporter": "python",
   "pygments_lexer": "ipython3",
   "version": "3.6.4"
  },
  "orig_nbformat": 4
 },
 "nbformat": 4,
 "nbformat_minor": 2
}
