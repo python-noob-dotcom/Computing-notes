{
 "cells": [
  {
   "cell_type": "markdown",
   "metadata": {},
   "source": [
    "# <font color = gold> Overview of the different searches\n",
    "1. Linear search\n",
    "2. Binary Search "
   ]
  },
  {
   "cell_type": "markdown",
   "metadata": {},
   "source": [
    "## <font color = white> Linear Search\n",
    "- The worst case and average case time complexity is O(n), since the function needs to iterate through the entire list / close to the entire\n",
    "list to find the target\n",
    "- The best case, is O(1), where once the algorithm enters the array, we instantly find the target"
   ]
  },
  {
   "cell_type": "code",
   "execution_count": 10,
   "metadata": {},
   "outputs": [
    {
     "data": {
      "text/plain": [
       "1"
      ]
     },
     "execution_count": 10,
     "metadata": {},
     "output_type": "execute_result"
    }
   ],
   "source": [
    "# Linear search for array of unique elements\n",
    "def linear_search(target, arr):\n",
    "    \"\"\"\n",
    "    Returns the index of the target to be found in the array\n",
    "    \"\"\"\n",
    "    for i in range(len(arr)):\n",
    "        if arr[i] == target:\n",
    "            return i\n",
    "    \n",
    "    return f'{target} is not in the array'\n",
    "\n",
    "linear_search(2, [1, 2, 3, 4])"
   ]
  },
  {
   "cell_type": "code",
   "execution_count": null,
   "metadata": {},
   "outputs": [],
   "source": [
    "def linear_search_repeated(target, array):\n",
    "    locations = []\n",
    "\n",
    "    for i in range(len(array)):\n",
    "        if array[i] == target:\n",
    "            locations.append(i) \n",
    "\n",
    "    return locations if len(locations) > 0 else f'Target {target} not found in array'\n"
   ]
  },
  {
   "cell_type": "markdown",
   "metadata": {},
   "source": [
    "## <font color = white> Binary Search\n",
    "- Binary search assumes that the array you feed it is a sorted array\n",
    "- Similar to merge sort, binary search also uses a divide and conquer tactic to search for elements.\n",
    "- This makes the time complexity, for all three cases, best, worst and average case --> O(log n)"
   ]
  },
  {
   "cell_type": "markdown",
   "metadata": {},
   "source": [
    "### The code below is for arrays with unique elements"
   ]
  },
  {
   "cell_type": "code",
   "execution_count": 4,
   "metadata": {},
   "outputs": [
    {
     "data": {
      "text/plain": [
       "3"
      ]
     },
     "execution_count": 4,
     "metadata": {},
     "output_type": "execute_result"
    }
   ],
   "source": [
    "def binary_search(array, low, high, target):\n",
    "        \n",
    "    mid =  round(((low + high) / 2) + 0.1)\n",
    "\n",
    "    # Check if the range to search is valid (continuation case)\n",
    "    # Since we alter the low / high by using mid + 1 and mid - 1 respectively, there will be a point that either mid > high or low > mid\n",
    "    if high >= low:\n",
    "            \n",
    "            # If found, we return the index of the target\n",
    "            if array[mid] == target:\n",
    "                return mid\n",
    "\n",
    "            # Since binary search is implemented with the assumption that the array is sorted, if the middle of the array we\n",
    "            # are searching for is less than the numerical value of the target we are searching for, we search the upper half\n",
    "            # of the array, vice versa\n",
    "            if array[mid] < target:\n",
    "                return binary_search(array, mid + 1, high, target)\n",
    "            \n",
    "            else:\n",
    "                return binary_search(array, low, mid - 1, target)\n",
    "            \n",
    "    return -1\n",
    "\n",
    "stuff = [1, 2, 2, 3, 3, 4, 5]\n",
    "binary_search(stuff, 0, len(stuff) - 1, 3)\n"
   ]
  },
  {
   "cell_type": "markdown",
   "metadata": {},
   "source": [
    "### The code below is for non unique elements"
   ]
  },
  {
   "cell_type": "code",
   "execution_count": 9,
   "metadata": {},
   "outputs": [
    {
     "data": {
      "text/plain": [
       "[]"
      ]
     },
     "execution_count": 9,
     "metadata": {},
     "output_type": "execute_result"
    }
   ],
   "source": [
    "def binary_search(arr, target, low, high):\n",
    "    mid = (low + high) // 2\n",
    "\n",
    "    # Base case, if 0 < mid, or mid > high\n",
    "    if low > high:\n",
    "        return []\n",
    "    \n",
    "    if arr[mid] == target:\n",
    "        # Continue searching the left portion of the array for any duplicates\n",
    "        left = binary_search(arr, target, low, mid - 1)\n",
    "\n",
    "        # Continue searching the right portion of the array for any duplicates\n",
    "        right = binary_search(arr, target, mid + 1, high)\n",
    "\n",
    "        # At the end, return all the occurences found.\n",
    "        result = left + [mid] + right \n",
    "        return result\n",
    "        \n",
    "    if arr[mid] < target:\n",
    "        return binary_search(arr, target, mid + 1, high)\n",
    "    else:\n",
    "        return binary_search(arr, target, low, mid - 1)\n",
    "    \n",
    "binary_search([1, 2, 2, 2, 2, 3, 4, 5, 6], 9, 0, 8)"
   ]
  }
 ],
 "metadata": {
  "kernelspec": {
   "display_name": "Python 3",
   "language": "python",
   "name": "python3"
  },
  "language_info": {
   "codemirror_mode": {
    "name": "ipython",
    "version": 3
   },
   "file_extension": ".py",
   "mimetype": "text/x-python",
   "name": "python",
   "nbconvert_exporter": "python",
   "pygments_lexer": "ipython3",
   "version": "3.6.4"
  },
  "orig_nbformat": 4
 },
 "nbformat": 4,
 "nbformat_minor": 2
}
