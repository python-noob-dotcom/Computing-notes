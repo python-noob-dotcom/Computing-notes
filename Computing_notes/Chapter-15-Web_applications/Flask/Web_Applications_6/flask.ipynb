{
 "cells": [
  {
   "cell_type": "code",
   "execution_count": 5,
   "metadata": {},
   "outputs": [
    {
     "name": "stdout",
     "output_type": "stream",
     "text": [
      " * Serving Flask app '__main__'\n",
      " * Debug mode: off\n"
     ]
    },
    {
     "name": "stderr",
     "output_type": "stream",
     "text": [
      "WARNING: This is a development server. Do not use it in a production deployment. Use a production WSGI server instead.\n",
      " * Running on http://127.0.0.1:5000\n",
      "Press CTRL+C to quit\n",
      "127.0.0.1 - - [17/May/2024 11:25:49] \"GET /fixed HTTP/1.1\" 308 -\n",
      "127.0.0.1 - - [17/May/2024 11:25:49] \"GET /fixed/ HTTP/1.1\" 200 -\n",
      "127.0.0.1 - - [17/May/2024 11:25:49] \"GET /favicon.ico HTTP/1.1\" 404 -\n"
     ]
    }
   ],
   "source": [
    "import flask \n",
    "from flask import url_for \n",
    " \n",
    "app = flask.Flask(__name__) \n",
    " \n",
    "@app.route('/') \n",
    "def home(): \n",
    "  url1 = url_for('fixed_route') \n",
    "  url2 = url_for('string_variable', s='example') \n",
    "  url3 = url_for('integer_variable', i=2020) \n",
    "  print(url1) \n",
    "  print(url2) \n",
    "  print(url3)\n",
    "  return 'Check your shell or command prompt window' \n",
    " \n",
    "@app.route('/fixed/') \n",
    "def fixed_route(): \n",
    "  return 'Routed to fixed()' \n",
    " \n",
    "@app.route('/string/<s>') \n",
    "def string_variable(s): \n",
    "  return f'Routed to string_variable(), s = {s}' \n",
    " \n",
    "@app.route('/integer/<int:i>') \n",
    "def integer_variable(i): \n",
    "  return f'Routed to integer_variable(), i = {i}' \n",
    " \n",
    "if __name__ == '__main__': \n",
    "  app.run()"
   ]
  }
 ],
 "metadata": {
  "kernelspec": {
   "display_name": "Python 3",
   "language": "python",
   "name": "python3"
  },
  "language_info": {
   "codemirror_mode": {
    "name": "ipython",
    "version": 3
   },
   "file_extension": ".py",
   "mimetype": "text/x-python",
   "name": "python",
   "nbconvert_exporter": "python",
   "pygments_lexer": "ipython3",
   "version": "3.7.7"
  }
 },
 "nbformat": 4,
 "nbformat_minor": 2
}
