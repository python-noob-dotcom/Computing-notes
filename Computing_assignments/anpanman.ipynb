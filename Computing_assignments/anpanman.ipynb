{
 "cells": [
  {
   "cell_type": "code",
   "execution_count": 1,
   "metadata": {},
   "outputs": [
    {
     "name": "stdout",
     "output_type": "stream",
     "text": [
      "{'a': 1, 'n': 0, 'm': 2}\n"
     ]
    }
   ],
   "source": [
    "# Task 1\n",
    "\n",
    "def dic(s):\n",
    "    count = 0\n",
    "    dic = {}\n",
    "    while count < len(s):\n",
    "        dic[s[count]] = len(s) - 1 - count\n",
    "        count += 1\n",
    "    return dic\n",
    "\n",
    "print(dic('anman'))"
   ]
  },
  {
   "cell_type": "code",
   "execution_count": 20,
   "metadata": {},
   "outputs": [
    {
     "data": {
      "text/plain": [
       "True"
      ]
     },
     "execution_count": 20,
     "metadata": {},
     "output_type": "execute_result"
    }
   ],
   "source": [
    "# Task 2\n",
    "\n",
    "def check_substring(t, s):\n",
    "    to_check = list(t)\n",
    "    if len(to_check) < len(s):\n",
    "        return False\n",
    "    \n",
    "    substring = []\n",
    "    count = 0\n",
    "    while count <= len(t) - 1 - len(s):\n",
    "        substring.append('_')\n",
    "        count += 1\n",
    "    \n",
    "    count = 0\n",
    "    while count < len(s):\n",
    "        substring.append(s[count])\n",
    "        count += 1\n",
    "\n",
    "    # Check if letters match\n",
    "    \n",
    "\n",
    "    # Helper function to check each case\n",
    "    def check_case(to_check, substring, counter_to_start):\n",
    "        matches = []\n",
    "        count = counter_to_start\n",
    "        while count >= 0:\n",
    "            if to_check[count] == substring[count]:\n",
    "                match = True\n",
    "                if match:\n",
    "                    matches.append(True)\n",
    "            else:\n",
    "                pass\n",
    "            count -= 1\n",
    "        return matches\n",
    "    \n",
    "    # Check each case\n",
    "    def check_all(to_check, substring_list, substring):\n",
    "        is_substring = False\n",
    "        count = 0\n",
    "\n",
    "        while not is_substring:\n",
    "            counter_to_start = len(substring_list) - 1\n",
    "            # Case: substring is a substring of to_check\n",
    "            if len(check_case(to_check, substring_list, counter_to_start)) == (len(substring)):\n",
    "                is_substring = True\n",
    "            \n",
    "            else:\n",
    "            # Case: substring is not a substring of to_check, shift by one\n",
    "                count += 1\n",
    "                if not substring_list.pop(0)[0].isalpha():\n",
    "                    substring_list.append('_')\n",
    "                    \n",
    "                    counter_to_start -= 1\n",
    "                    if len(check_case(to_check, substring_list, counter_to_start)) == (len(substring)):\n",
    "                        is_substring = True\n",
    "                else:\n",
    "                    is_substring = False\n",
    "                    break\n",
    "        return is_substring\n",
    "    \n",
    "    is_substring = check_all(to_check, substring, s)\n",
    "\n",
    "    return is_substring\n",
    "\n",
    "check_substring('anpanman', 'npan')"
   ]
  }
 ],
 "metadata": {
  "kernelspec": {
   "display_name": "Python 3",
   "language": "python",
   "name": "python3"
  },
  "language_info": {
   "codemirror_mode": {
    "name": "ipython",
    "version": 3
   },
   "file_extension": ".py",
   "mimetype": "text/x-python",
   "name": "python",
   "nbconvert_exporter": "python",
   "pygments_lexer": "ipython3",
   "version": "3.6.13"
  },
  "orig_nbformat": 4
 },
 "nbformat": 4,
 "nbformat_minor": 2
}
