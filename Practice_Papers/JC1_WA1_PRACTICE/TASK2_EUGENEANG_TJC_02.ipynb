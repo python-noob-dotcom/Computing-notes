{
 "cells": [
  {
   "cell_type": "code",
   "execution_count": 2,
   "metadata": {},
   "outputs": [],
   "source": [
    "# Task 2.1\n",
    "suits = ['c', 'd', 'h', 's']\n",
    "cards_1 = ['J', 'Q', 'K', 'A']\n",
    "\n"
   ]
  },
  {
   "cell_type": "code",
   "execution_count": 3,
   "metadata": {},
   "outputs": [],
   "source": [
    "# Task 2.2\n",
    "cards_2 = [str(i) for i in range(2, 11)]"
   ]
  },
  {
   "cell_type": "code",
   "execution_count": 195,
   "metadata": {},
   "outputs": [
    {
     "name": "stdout",
     "output_type": "stream",
     "text": [
      "['cJ', 'cQ', 'cK', 'cA', 'c2', 'c3', 'c4', 'c5', 'c6', 'c7', 'c8', 'c9', 'c10', 'dJ', 'dQ', 'dK', 'dA', 'd2', 'd3', 'd4', 'd5', 'd6', 'd7', 'd8', 'd9', 'd10', 'hJ', 'hQ', 'hK', 'hA', 'h2', 'h3', 'h4', 'h5', 'h6', 'h7', 'h8', 'h9', 'h10', 'sJ', 'sQ', 'sK', 'sA', 's2', 's3', 's4', 's5', 's6', 's7', 's8', 's9', 's10']\n"
     ]
    }
   ],
   "source": [
    "# Task 2.3\n",
    "deck = []\n",
    "for suit in suits:\n",
    "    for card in cards_1:\n",
    "        deck.append(suit + card)\n",
    "    for card_2 in cards_2:\n",
    "        deck.append(suit + card_2)\n",
    "\n",
    "print(deck)\n"
   ]
  },
  {
   "cell_type": "code",
   "execution_count": 21,
   "metadata": {},
   "outputs": [
    {
     "name": "stdout",
     "output_type": "stream",
     "text": [
      "['h7', 'hK', 'c2', 's10', 'dK', 'd8', 'dA', 'h4', 'c5', 'd9', 'h8', 'h2', 'cQ', 's3', 'd4', 'd2', 'c10', 'hJ', 'cA', 'd10', 'sK', 'd6', 's7', 'h3', 'h10', 'c8', 'h9', 's9', 'hA', 'hQ', 'c3', 'cK', 'c6', 's5', 'sQ', 'h6', 'd5', 'dJ', 's2', 'c4', 's6', 'sJ', 'c9', 's4', 'sA', 'c7', 's8', 'dQ', 'd3', 'cJ', 'd7', 'h5']\n"
     ]
    }
   ],
   "source": [
    "# Task 2.4\n",
    "import random\n",
    "\n",
    "random.shuffle(deck)\n",
    "\n",
    "print(deck)"
   ]
  },
  {
   "cell_type": "code",
   "execution_count": 201,
   "metadata": {},
   "outputs": [
    {
     "data": {
      "text/plain": [
       "[['sA',\n",
       "  'dJ',\n",
       "  'c4',\n",
       "  'c9',\n",
       "  'hJ',\n",
       "  'dA',\n",
       "  'hK',\n",
       "  'sJ',\n",
       "  'h3',\n",
       "  'c8',\n",
       "  'h6',\n",
       "  'c3',\n",
       "  'dQ'],\n",
       " ['s4',\n",
       "  'c6',\n",
       "  's6',\n",
       "  's5',\n",
       "  'cQ',\n",
       "  'h9',\n",
       "  'h7',\n",
       "  's8',\n",
       "  'd10',\n",
       "  's2',\n",
       "  's10',\n",
       "  'h4',\n",
       "  'hQ'],\n",
       " ['d8',\n",
       "  'h2',\n",
       "  's7',\n",
       "  'd7',\n",
       "  's9',\n",
       "  'c10',\n",
       "  'd2',\n",
       "  'c5',\n",
       "  'dK',\n",
       "  'd6',\n",
       "  'sQ',\n",
       "  'h10',\n",
       "  'c7'],\n",
       " ['c2',\n",
       "  'cK',\n",
       "  'cA',\n",
       "  'd4',\n",
       "  'hA',\n",
       "  'h8',\n",
       "  'sK',\n",
       "  'h5',\n",
       "  's3',\n",
       "  'd5',\n",
       "  'd3',\n",
       "  'd9',\n",
       "  'cJ']]"
      ]
     },
     "execution_count": 201,
     "metadata": {},
     "output_type": "execute_result"
    }
   ],
   "source": [
    "# Task 2.5\n",
    "# Shuffled deck\n",
    "deck = []\n",
    "for suit in suits:\n",
    "    for card in cards_1:\n",
    "        deck.append(suit + card)\n",
    "    for card_2 in cards_2:\n",
    "        deck.append(suit + card_2)\n",
    "\n",
    "import random\n",
    "\n",
    "random.shuffle(deck)\n",
    "\n",
    "def deal(players, shuffled_deck):\n",
    "    x, y = divmod(len(shuffled_deck), players)\n",
    "    deck_2 = shuffled_deck\n",
    "    # Step 3.1 create the dealt nested list\n",
    "    dealt = []\n",
    "    for i in range(players):\n",
    "        dealt.append([])\n",
    "        \n",
    "    # Step 2, 3.2, 4 and 5 distribute the cards\n",
    "    count = 0\n",
    "    for i in range(x):\n",
    "        for i in range(players):\n",
    "            dealt[i].append(deck_2.pop(0))\n",
    "    \n",
    "    return dealt\n",
    "    \n",
    "\n",
    "    \n",
    "deal(4, deck)\n"
   ]
  }
 ],
 "metadata": {
  "kernelspec": {
   "display_name": "Python 3",
   "language": "python",
   "name": "python3"
  },
  "language_info": {
   "codemirror_mode": {
    "name": "ipython",
    "version": 3
   },
   "file_extension": ".py",
   "mimetype": "text/x-python",
   "name": "python",
   "nbconvert_exporter": "python",
   "pygments_lexer": "ipython3",
   "version": "3.6.4"
  },
  "orig_nbformat": 4
 },
 "nbformat": 4,
 "nbformat_minor": 2
}
