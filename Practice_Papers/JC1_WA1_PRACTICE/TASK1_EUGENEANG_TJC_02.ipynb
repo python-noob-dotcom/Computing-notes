{
 "cells": [
  {
   "cell_type": "code",
   "execution_count": 2,
   "metadata": {},
   "outputs": [],
   "source": [
    "# Task 1.1\n",
    "def product_two_integers(x, y):\n",
    "    \"\"\"\n",
    "    The function will return the product of the division of integer x by integer y.\n",
    "\n",
    "    \"\"\"\n",
    "    return x * y\n"
   ]
  },
  {
   "cell_type": "code",
   "execution_count": 3,
   "metadata": {},
   "outputs": [],
   "source": [
    "# Task 1.2\n",
    "def quotient_two_integers(x, y):\n",
    "    \"\"\"\n",
    "    The function will return the quotient of the division of integer x by integer y.\n",
    "\n",
    "    \"\"\"\n",
    "    return x // y"
   ]
  },
  {
   "cell_type": "code",
   "execution_count": 4,
   "metadata": {},
   "outputs": [
    {
     "name": "stdout",
     "output_type": "stream",
     "text": [
      "2476\n"
     ]
    }
   ],
   "source": [
    "def sum_product_quotient(x, y):\n",
    "    \"\"\"\n",
    "    Adds the product of two integers x and y to the quotient of x divided by y. \n",
    "    \"\"\"\n",
    "    return product_two_integers(x, y) + quotient_two_integers(x, y)\n",
    "\n",
    "print(sum_product_quotient(55, 45))"
   ]
  },
  {
   "cell_type": "code",
   "execution_count": 2,
   "metadata": {},
   "outputs": [
    {
     "data": {
      "text/plain": [
       "256"
      ]
     },
     "execution_count": 2,
     "metadata": {},
     "output_type": "execute_result"
    }
   ],
   "source": [
    "def nth_power(base, exponent):\n",
    "    \"\"\"\n",
    "    Return the value of the expression baseexponent, where base and exponent are positive integers. \n",
    "    \"\"\"\n",
    "    base_2 = base\n",
    "    for i in range(1, exponent):\n",
    "        base = base * base_2\n",
    "    return base\n",
    "\n",
    "nth_power(4, 4)"
   ]
  },
  {
   "cell_type": "code",
   "execution_count": null,
   "metadata": {},
   "outputs": [],
   "source": [
    "# Task 1.5\n",
    "def digital_root(n):\n",
    "    \"\"\"\n",
    "    takes in a string value, n which contains only digits as its characters \n",
    "    and returns the digital root.\n",
    "\n",
    "    e.g. \n",
    "    digital_root(105)\n",
    "    >>>> 6\n",
    "    \"\"\"\n",
    "    if type(n) != str or n.isdecimal() == False:\n",
    "        raise TypeError(\"Please input a valid string\")\n",
    "    else:\n",
    "        _digital_root = 0\n",
    "        for char in n:\n",
    "            _digital_root += int(char)\n",
    "\n",
    "    return _digital_root\n"
   ]
  }
 ],
 "metadata": {
  "kernelspec": {
   "display_name": "Python 3",
   "language": "python",
   "name": "python3"
  },
  "language_info": {
   "codemirror_mode": {
    "name": "ipython",
    "version": 3
   },
   "file_extension": ".py",
   "mimetype": "text/x-python",
   "name": "python",
   "nbconvert_exporter": "python",
   "pygments_lexer": "ipython3",
   "version": "3.6.4"
  },
  "orig_nbformat": 4
 },
 "nbformat": 4,
 "nbformat_minor": 2
}
