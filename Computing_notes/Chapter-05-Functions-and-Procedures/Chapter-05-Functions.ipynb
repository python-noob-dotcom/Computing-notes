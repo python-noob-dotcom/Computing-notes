{
 "cells": [
  {
   "attachments": {},
   "cell_type": "markdown",
   "metadata": {},
   "source": [
    "# <div class = \"alert alert-info\"> <font color = purple> Chapter 05 - Functions"
   ]
  },
  {
   "attachments": {},
   "cell_type": "markdown",
   "metadata": {},
   "source": [
    "### Example of NOT a function! Python does not do a distinction between a procedure and a function. A procedure just carries out the code, but does not produce a value that can be further processed. There is no values being stored in the procedure"
   ]
  },
  {
   "cell_type": "code",
   "execution_count": 8,
   "metadata": {},
   "outputs": [
    {
     "ename": "ValueError",
     "evalue": "invalid literal for int() with base 10: ''",
     "output_type": "error",
     "traceback": [
      "\u001b[1;31m---------------------------------------------------------------------------\u001b[0m",
      "\u001b[1;31mValueError\u001b[0m                                Traceback (most recent call last)",
      "\u001b[1;32m<ipython-input-8-22815cd10dcc>\u001b[0m in \u001b[0;36m<module>\u001b[1;34m()\u001b[0m\n\u001b[0;32m      5\u001b[0m \u001b[0mvalue_2\u001b[0m \u001b[1;33m=\u001b[0m \u001b[0minput\u001b[0m\u001b[1;33m(\u001b[0m\u001b[1;34m'Input a integer: '\u001b[0m\u001b[1;33m)\u001b[0m\u001b[1;33m\u001b[0m\u001b[0m\n\u001b[0;32m      6\u001b[0m \u001b[1;33m\u001b[0m\u001b[0m\n\u001b[1;32m----> 7\u001b[1;33m \u001b[0mtotal\u001b[0m \u001b[1;33m=\u001b[0m \u001b[0maddition\u001b[0m\u001b[1;33m(\u001b[0m\u001b[0mint\u001b[0m\u001b[1;33m(\u001b[0m\u001b[0mvalue_1\u001b[0m\u001b[1;33m)\u001b[0m\u001b[1;33m,\u001b[0m \u001b[0mint\u001b[0m\u001b[1;33m(\u001b[0m\u001b[0mvalue_2\u001b[0m\u001b[1;33m)\u001b[0m\u001b[1;33m)\u001b[0m\u001b[1;33m\u001b[0m\u001b[0m\n\u001b[0m\u001b[0;32m      8\u001b[0m \u001b[0mprint\u001b[0m\u001b[1;33m(\u001b[0m\u001b[1;34mf'total is: {total}'\u001b[0m\u001b[1;33m)\u001b[0m\u001b[1;33m\u001b[0m\u001b[0m\n",
      "\u001b[1;31mValueError\u001b[0m: invalid literal for int() with base 10: ''"
     ]
    }
   ],
   "source": [
    "def addition(a, b):\n",
    "    print(a + b)\n",
    "\n",
    "value_1 = input('Input a integer: ')\n",
    "value_2 = input('Input a integer: ')\n",
    "\n",
    "# After the procedure, returns None\n",
    "total = addition(int(value_1), int(value_2))\n",
    "# total is assigned to None. \n",
    "print(f'total is: {total}')"
   ]
  },
  {
   "attachments": {},
   "cell_type": "markdown",
   "metadata": {},
   "source": [
    "### Example of A function. The function creates the value and stores in the memory temporarily, and can be retrieved for further use / further processing"
   ]
  },
  {
   "cell_type": "code",
   "execution_count": 16,
   "metadata": {},
   "outputs": [
    {
     "name": "stdout",
     "output_type": "stream",
     "text": [
      "total is 5\n"
     ]
    }
   ],
   "source": [
    "def addition2(a, b):\n",
    "    return a + b\n",
    "\n",
    "value_1 = input('Input a integer: ')\n",
    "value_2 = input('Input a integer: ')\n",
    "\n",
    "# After the function, returns the number e.g. 7\n",
    "total_2= addition2(int(value_1), int(value_2))\n",
    "# total_2 is a function \n",
    "print(f'total is {total_2}')"
   ]
  },
  {
   "attachments": {},
   "cell_type": "markdown",
   "metadata": {},
   "source": [
    "### <div class = \"alert alert-info\"> <font color = purple> Keep these concepts in mind in the exam, when they ask you to write a procedure, write a procedure and not a function. Vice versa"
   ]
  },
  {
   "cell_type": "code",
   "execution_count": 13,
   "metadata": {},
   "outputs": [
    {
     "ename": "SyntaxError",
     "evalue": "non-default argument follows default argument (<ipython-input-13-ec22fa2db95b>, line 1)",
     "output_type": "error",
     "traceback": [
      "\u001b[1;36m  File \u001b[1;32m\"<ipython-input-13-ec22fa2db95b>\"\u001b[1;36m, line \u001b[1;32m1\u001b[0m\n\u001b[1;33m    def addition4(y= 6, x):\u001b[0m\n\u001b[1;37m                 ^\u001b[0m\n\u001b[1;31mSyntaxError\u001b[0m\u001b[1;31m:\u001b[0m non-default argument follows default argument\n"
     ]
    }
   ],
   "source": [
    "def addition4(y= 6, x):\n",
    "    return x + y\n",
    "\n",
    "total4 = addition4(2)\n",
    "print(f'total is {total4}')"
   ]
  },
  {
   "cell_type": "code",
   "execution_count": null,
   "metadata": {},
   "outputs": [],
   "source": [
    "def addition6():\n",
    "    x= 3\n",
    "    y= 4\n",
    "    return x + y\n",
    "\n",
    "total_6 = addition6()\n",
    "print(f'total is {total}')"
   ]
  },
  {
   "cell_type": "code",
   "execution_count": 156,
   "metadata": {},
   "outputs": [
    {
     "name": "stdout",
     "output_type": "stream",
     "text": [
      "0.75\n"
     ]
    }
   ],
   "source": [
    "def arithmetic_calc(x, y, operation= None):\n",
    "    listofoperations = ['add', 'subtract', 'multiply', 'divide', 'power']\n",
    "\n",
    "    # This is a documentation string, the docstring \n",
    "    '''\n",
    "    Processes the operator to give the result with the given values x,\n",
    "    '''\n",
    "    x, y = float(x), float(y)\n",
    "    if operation in listofoperations:\n",
    "        if operation == 'add':\n",
    "            result = x + y\n",
    "        elif operation == 'subtract':\n",
    "            result = x - y\n",
    "        elif operation == 'multiply':\n",
    "            result = x * y\n",
    "        elif operation == 'divide':\n",
    "            result = x / y\n",
    "        elif operation == 'power':\n",
    "            result = x ** y\n",
    "\n",
    "    else:\n",
    "        raise ValueError('Please call the function with a valid operation')\n",
    "    return result\n",
    "\n",
    "# Main program\n",
    "print(arithmetic_calc(3, 4, operation= 'divide'))\n",
    "\n"
   ]
  },
  {
   "cell_type": "code",
   "execution_count": 37,
   "metadata": {},
   "outputs": [
    {
     "name": "stdout",
     "output_type": "stream",
     "text": [
      "Ultimate total is 20\n"
     ]
    }
   ],
   "source": [
    "ultimate_total = addition2(3, 4) + addition4(7)\n",
    "print(f'Ultimate total is {ultimate_total}')"
   ]
  }
 ],
 "metadata": {
  "kernelspec": {
   "display_name": "Python 3",
   "language": "python",
   "name": "python3"
  },
  "language_info": {
   "codemirror_mode": {
    "name": "ipython",
    "version": 3
   },
   "file_extension": ".py",
   "mimetype": "text/x-python",
   "name": "python",
   "nbconvert_exporter": "python",
   "pygments_lexer": "ipython3",
   "version": "3.6.4"
  },
  "orig_nbformat": 4
 },
 "nbformat": 4,
 "nbformat_minor": 2
}
