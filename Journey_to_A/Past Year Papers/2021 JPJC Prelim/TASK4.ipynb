{
 "cells": [
  {
   "cell_type": "code",
   "execution_count": 3,
   "metadata": {},
   "outputs": [],
   "source": [
    "import json, pymongo\n",
    "\n",
    "with open('items.JSON') as f:\n",
    "    items = json.load(f)\n",
    "\n",
    "connection = pymongo.MongoClient('127.0.0.1', 27017)\n",
    "db = connection['jp_mobile']\n",
    "coll = db['phone']\n",
    "\n",
    "coll.insert_many(items)\n",
    "\n",
    "connection.close()"
   ]
  },
  {
   "cell_type": "code",
   "execution_count": 12,
   "metadata": {},
   "outputs": [],
   "source": [
    "def add():\n",
    "    brand, model, colour, price, quantity, free_gift = input('Enter the brand, model, colour, price, quantity and free gifts: ').split(',')\n",
    "    connection = pymongo.MongoClient('127.0.0.1', 27017)\n",
    "    db = connection['jp_mobile']\n",
    "    coll = db['phone']\n",
    "\n",
    "    res = coll.find({'brand': brand, 'model':model, 'colour': colour})\n",
    "    if len(list(res)) == 0:\n",
    "        userin = {'brand': brand, 'model':model, 'colour': colour, 'price': price, 'quantity':quantity, 'free_gift':free_gift}\n",
    "        coll.insert_one(userin)\n",
    "    \n",
    "    else:\n",
    "        coll.update_one({'brand': brand, 'model':model, 'colour': colour}, {'$set': {'price': int(price), 'free_gift': free_gift}})\n",
    "        coll.update_one({'brand': brand, 'model':model, 'colour': colour}, {'$inc': {'quantity': int(quantity)}})\n",
    "\n",
    "    connection.close()\n",
    "\n",
    "add()\n",
    "add()"
   ]
  },
  {
   "cell_type": "code",
   "execution_count": 14,
   "metadata": {},
   "outputs": [
    {
     "name": "stdout",
     "output_type": "stream",
     "text": [
      "{'_id': ObjectId('66f69304109a43f0534d39fe'), 'brand': 'orange', 'model': '22', 'colour': 'black', 'price': 900, 'quantity': 23, 'free_gift': 'power bank'}\n",
      "{'_id': ObjectId('66f69304109a43f0534d39ff'), 'brand': 'solo', 'model': 'A11', 'colour': 'black', 'price': 699, 'quantity': 8, 'free_gift': None}\n",
      "{'_id': ObjectId('66f69304109a43f0534d3a00'), 'brand': 'yala', 'model': 'M3', 'colour': 'white', 'price': 399, 'quantity': 10, 'free_gift': None}\n",
      "{'_id': ObjectId('66f69304109a43f0534d3a01'), 'brand': 'gaga', 'model': 'Y6', 'colour': 'white', 'price': 333, 'quantity': 10, 'free_gift': None}\n",
      "{'_id': ObjectId('66f69304109a43f0534d3a02'), 'brand': 'solo', 'model': 'A11', 'colour': 'white', 'price': 699, 'warranty': 2, 'quantity': 7, 'free_gift': None}\n",
      "{'_id': ObjectId('66f69304109a43f0534d3a03'), 'brand': 'solo', 'model': 'A22', 'colour': 'gold', 'price': 788, 'quantity': 5, 'free_gift': None}\n",
      "{'_id': ObjectId('66f69304109a43f0534d3a04'), 'brand': 'iron', 'model': 'XY', 'colour': 'gold', 'price': 999, 'quantity': 3, 'free_gift': None}\n",
      "{'_id': ObjectId('66f69304109a43f0534d3a05'), 'brand': 'iron', 'model': 'XY', 'colour': 'black', 'price': 999, 'quantity': 8, 'free_gift': None}\n",
      "{'_id': ObjectId('66f69304109a43f0534d3a06'), 'brand': 'gaga', 'model': 'Y5', 'colour': 'blue', 'price': 444, 'quantity': 6, 'free_gift': None}\n",
      "{'_id': ObjectId('66f69304109a43f0534d3a07'), 'brand': 'orange', 'model': '21', 'colour': 'black', 'price': 777, 'quantity': 9, 'free_gift': None}\n",
      "{'_id': ObjectId('66f69712109a43f0534d3a0f'), 'brand': 'solo', 'model': 'A33', 'colour': 'red', 'price': '1300', 'quantity': '7', 'free_gift': 'power bank ear buds'}\n",
      "Number of docs is 11\n"
     ]
    }
   ],
   "source": [
    "def display_all():\n",
    "    connection = pymongo.MongoClient('127.0.0.1', 27017)\n",
    "    db = connection['jp_mobile']\n",
    "    coll = db['phone']\n",
    "\n",
    "    res = coll.find()\n",
    "\n",
    "    res = list(res)\n",
    "\n",
    "    for rec in res:\n",
    "        if 'free_gift' not in rec.keys():\n",
    "            rec['free_gift'] = None\n",
    "        \n",
    "        print(rec)\n",
    "\n",
    "    print(f'Number of docs is {len(res)}')\n",
    "\n",
    "display_all()"
   ]
  }
 ],
 "metadata": {
  "kernelspec": {
   "display_name": "computing",
   "language": "python",
   "name": "python3"
  },
  "language_info": {
   "codemirror_mode": {
    "name": "ipython",
    "version": 3
   },
   "file_extension": ".py",
   "mimetype": "text/x-python",
   "name": "python",
   "nbconvert_exporter": "python",
   "pygments_lexer": "ipython3",
   "version": "3.6.13"
  }
 },
 "nbformat": 4,
 "nbformat_minor": 2
}
