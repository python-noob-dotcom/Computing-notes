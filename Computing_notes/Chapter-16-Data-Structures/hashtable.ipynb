{
 "cells": [
  {
   "cell_type": "markdown",
   "metadata": {},
   "source": [
    "# Hashtables\n",
    "\n",
    "Hashtables are associative arrays. Basically like a dictionary, there is a record with a key and the values (data) <br>\n",
    "\n",
    "You hash the key using the hash function to get the hash value that acts as the index to insert the new record into.\n",
    "- This can be seen in the exmaple below, where the names of individuals are passed through the hashing function to get the index of the key value pair in the hashtable\n",
    "- e.g. `'John Smith'` is passed through the hashing function, and the resulting index to insert the record into the hash table is 2"
   ]
  },
  {
   "cell_type": "markdown",
   "metadata": {},
   "source": [
    "The hashing function that you use depends on the question, and what the question requirements are. You could be using inbuilt functions, choosing a random index based on some rules etc. "
   ]
  },
  {
   "cell_type": "markdown",
   "metadata": {},
   "source": [
    "<div style = 'background: white; height = auto'>\n",
    "    <img src = 'https://upload.wikimedia.org/wikipedia/commons/thumb/7/7d/Hash_table_3_1_1_0_1_0_0_SP.svg/1200px-Hash_table_3_1_1_0_1_0_0_SP.svg.png' width = '800'>\n",
    "</div>"
   ]
  },
  {
   "cell_type": "markdown",
   "metadata": {},
   "source": [
    "## Hashtable by probing"
   ]
  },
  {
   "cell_type": "markdown",
   "metadata": {},
   "source": [
    "When the hash function returns a hash value that is the same for different keys, what linear probing does is to search for the next avaliable spot next to the hash value index. This is though, prone to clustering where a lot of the records are placed in close proximity to each other"
   ]
  },
  {
   "cell_type": "markdown",
   "metadata": {},
   "source": [
    "<img src = 'https://www.cs.emory.edu/~cheung/Courses/253/Syllabus/Map/FIGS/map44c.gif'>"
   ]
  },
  {
   "cell_type": "markdown",
   "metadata": {},
   "source": [
    "This is a example of linear probing, i.e. if the spot that you want to slot in is full, you check the next slot for avaliability until you find a empty slot\n",
    "- Once you pass the key through the hashing function, if the index that is specified already has a record, we then try to search for the next avaliable spot to fit the new record"
   ]
  },
  {
   "cell_type": "code",
   "execution_count": 1,
   "metadata": {},
   "outputs": [
    {
     "name": "stdout",
     "output_type": "stream",
     "text": [
      "7\n",
      "2\n",
      "3\n",
      "4\n",
      "Index           | Value\n",
      "____________________________________________________________________________________________________\n",
      "0               | None\n",
      "1               | None\n",
      "2               | ('ab', 2)\n",
      "3               | ('abc', 6)\n",
      "4               | ('abcd', 8)\n",
      "5               | None\n",
      "6               | None\n",
      "7               | ('abcdefg', 5)\n",
      "8               | None\n",
      "9               | None\n",
      "10              | None\n",
      "11              | None\n",
      "12              | None\n",
      "13              | None\n",
      "14              | None\n",
      "15              | None\n",
      "16              | None\n",
      "17              | None\n",
      "18              | None\n",
      "19              | None\n",
      "2\n"
     ]
    },
    {
     "data": {
      "text/plain": [
       "'Found at 2, (ab : 2)'"
      ]
     },
     "execution_count": 1,
     "metadata": {},
     "output_type": "execute_result"
    }
   ],
   "source": [
    "class HashTable:\n",
    "\n",
    "    def __init__(self, size):\n",
    "        self.array = [None] * size # Array for hash table\n",
    "        self.size = size\n",
    "\n",
    "    def hash(self, key):\n",
    "        # Depends on what algorithm you design\n",
    "        # This hash algorithm is prone to clustering, where records are recorded in close proximity to each other\n",
    "        hash_val = len(key) % self.size\n",
    "        print(hash_val)\n",
    "\n",
    "        return hash_val\n",
    "\n",
    "    # Insertion algorithm of linear probing (open addressing - if the address is not open, search for another location\n",
    "    # or closed hashing - enclosed within the original table)\n",
    "    def insert(self, key, val):\n",
    "\n",
    "        hash_val = self.hash(key)\n",
    "\n",
    "        if self.array[hash_val] == None:\n",
    "            self.array[hash_val] = (key, val)\n",
    "            return 1\n",
    "        \n",
    "        new_hash_val = hash_val\n",
    "        \n",
    "        while self.array[new_hash_val] != None and new_hash_val != hash_val:\n",
    "            new_hash_val = (hash_val + 1) % self.size\n",
    "\n",
    "        if new_hash_val != hash_val:\n",
    "            self.array[new_hash_val] = (key, val)\n",
    "            return 1\n",
    "        \n",
    "        return -1\n",
    "\n",
    "    # Search Probing\n",
    "\n",
    "    def search(self, key, data):\n",
    "        hash_val = self.hash(key)\n",
    "\n",
    "        if self.array[hash_val][1] == data and self.array[hash_val][0] == key:\n",
    "            return f'Found at {hash_val}, ({key} : {data})'\n",
    "        \n",
    "        probe = (hash_val + 1) % self.size\n",
    "\n",
    "        while probe != hash_val:\n",
    "            if self.array[probe] == data:\n",
    "                return f'Found at {probe} ({key} : {data})'\n",
    "            \n",
    "            probe = (probe + 1) % self.size\n",
    "\n",
    "        return -1\n",
    "    \n",
    "    def display(self):\n",
    "\n",
    "        print(f'{\"Index\":<15} | {\"Value\"}')\n",
    "        print('_'*100)\n",
    "\n",
    "        index = 0\n",
    "        for item in self.array:\n",
    "            print(f'{index:<15} | {item}')\n",
    "            index += 1\n",
    "\n",
    "\n",
    "ht = HashTable(size = 20)\n",
    "ht.insert('abcdefg', 5)\n",
    "ht.insert('ab', 2)\n",
    "ht.insert('abc', 6)\n",
    "ht.insert('abcd', 8)\n",
    "\n",
    "ht.display()\n",
    "\n",
    "ht.search('ab', 2)"
   ]
  },
  {
   "cell_type": "markdown",
   "metadata": {},
   "source": [
    "## Hashtable by Chaining - array implementation"
   ]
  },
  {
   "cell_type": "markdown",
   "metadata": {},
   "source": [
    "<div style= 'height: auto'>\n",
    "    <img src = 'https://encrypted-tbn0.gstatic.com/images?q=tbn:ANd9GcTfv8WNTc-Yuei6RrVKJu4sK_CeM8ILy27WgQhD_W1jsA&s' width = '700px'>\n",
    "</div>"
   ]
  },
  {
   "cell_type": "markdown",
   "metadata": {},
   "source": [
    "For chaining, instead of trying to probe for the next slot for avaliability, you just append it to a linked list / array at the hashtable record index.\n",
    "\n",
    "Chaining addresses the potential collision in the hash table, where the hash function generates the same hash value for a different key. "
   ]
  },
  {
   "cell_type": "code",
   "execution_count": 2,
   "metadata": {},
   "outputs": [],
   "source": [
    "class HashTable: #Chaining using nested list\n",
    "    \n",
    "    def __init__(self, size):\n",
    "        self.array = []\n",
    "        self.size = size\n",
    "        for i in range(size):\n",
    "            self.array.append([])\n",
    "        \n",
    "    #Bad hash function algo, only for demo \n",
    "    #causes clustering, many records will be hashed in close proximity of one another\n",
    "    #collision - 2 or more records are hashed to same location\n",
    "    def hash_func(self, key): #depends on the algorithm designed for the system \n",
    "        hash_val = key % len(str(key))\n",
    "        return hash_val    \n",
    "    \n",
    "    def insert(self, key, val):\n",
    "        \n",
    "        hash_val = self.hash_func(key)\n",
    "        \n",
    "        self.array[hash_val].append((key, val))\n",
    "        \n",
    "        return\n",
    "    \n",
    "    def search(self, key, data):\n",
    "        \n",
    "        hash_val = self.hash_func(key)\n",
    "        \n",
    "        count = 0\n",
    "        for item in self.array[hash_val]:\n",
    "            if item[0] == key and item[1] == data:\n",
    "                return f'Found at {hash_val}, location {count}'\n",
    "            count += 1\n",
    "            \n",
    "        return -1\n",
    "    "
   ]
  },
  {
   "cell_type": "markdown",
   "metadata": {},
   "source": [
    "## Hashtable using chaining - linked list implementation"
   ]
  },
  {
   "cell_type": "code",
   "execution_count": 3,
   "metadata": {},
   "outputs": [
    {
     "name": "stdout",
     "output_type": "stream",
     "text": [
      "Index      | Value\n",
      "0          | \n",
      "1          | \n",
      "2          | (abcdefg : 256) --> (abcdefg: 256)\n",
      "3          | (def : 123) --> (abc : 123) --> (abc: 123)\n",
      "4          | (abcd : 456) --> (abcd: 456)\n"
     ]
    },
    {
     "data": {
      "text/plain": [
       "(2, 123)"
      ]
     },
     "execution_count": 3,
     "metadata": {},
     "output_type": "execute_result"
    }
   ],
   "source": [
    "#Chaining using Linked List\n",
    "class Node:\n",
    "    \n",
    "    def __init__(self, key, val, nxt = None):\n",
    "        self.key = key\n",
    "        self.val = val\n",
    "        self.nxt = nxt\n",
    "        \n",
    "class LinkedList:\n",
    "    \n",
    "    def __init__(self):\n",
    "        self.head = None\n",
    "\n",
    "    def __str__(self):\n",
    "        stuff = ''\n",
    "\n",
    "        current = self.head\n",
    "\n",
    "        while current != None:\n",
    "            stuff += f'({current.key} : {current.val}) --> ' \n",
    "            if current.nxt == None:\n",
    "                stuff += f'({current.key}: {current.val})'\n",
    "            current = current.nxt\n",
    "            \n",
    "        return stuff\n",
    "        \n",
    "    def insert(self, key, data):\n",
    "        new_node = Node(key, data)\n",
    "        \n",
    "        if self.head == None:\n",
    "            self.head = new_node\n",
    "            \n",
    "        else:\n",
    "            new_node.nxt = self.head\n",
    "            self.head = new_node\n",
    "\n",
    "           \n",
    "class HashTable:\n",
    "    \n",
    "    def __init__(self, size):\n",
    "        self.array = []\n",
    "        for i in range(size):\n",
    "            bucket = LinkedList()\n",
    "            self.array.append(bucket)\n",
    "        self.size = size\n",
    "        \n",
    "    #Bad hash function algo, only for demo \n",
    "    #causes clustering, many records will be hashed in close proximity of one another\n",
    "    #collision - 2 or more records are hashed to same location\n",
    "        \n",
    "    def hash_func(self, key): #depends on the algorithm designed for the system \n",
    "        hash_val = len(str(key)) % self.size\n",
    "        return hash_val    \n",
    "     \n",
    "        \n",
    "    def insert(self, key, val):\n",
    "        \n",
    "        hash_val = self.hash_func(key)\n",
    "        \n",
    "        self.array[hash_val].insert(key, val) #Calls the insert of the linked list\n",
    "        return\n",
    "    \n",
    "    def search(self, key):\n",
    "\n",
    "        hash_val = self.hash_func(key)\n",
    "\n",
    "        bucket = self.array[hash_val]\n",
    "\n",
    "        current = bucket.head\n",
    "\n",
    "        location = 0\n",
    "        while current.key != key:\n",
    "            if current.nxt == None:\n",
    "                return -1\n",
    "            \n",
    "            current = current.nxt\n",
    "            location += 1\n",
    "\n",
    "        return (hash_val - 1, current.val)\n",
    "    \n",
    "    def display(self):\n",
    "        print(f'{\"Index\":<10} | {\"Value\"}')\n",
    "        index = 0\n",
    "        for ll in self.array:\n",
    "            print(f'{index:<10} | {ll}')\n",
    "            index += 1\n",
    "\n",
    "hashtable = HashTable(5)\n",
    "hashtable.insert('abc', 123)\n",
    "hashtable.insert('def', 123)\n",
    "hashtable.insert('abcdefg', 256)\n",
    "hashtable.insert('abcd', 456)\n",
    "hashtable.display()\n",
    "hashtable.search('def')"
   ]
  }
 ],
 "metadata": {
  "kernelspec": {
   "display_name": "Python 3",
   "language": "python",
   "name": "python3"
  },
  "language_info": {
   "codemirror_mode": {
    "name": "ipython",
    "version": 3
   },
   "file_extension": ".py",
   "mimetype": "text/x-python",
   "name": "python",
   "nbconvert_exporter": "python",
   "pygments_lexer": "ipython3",
   "version": "3.7.7"
  }
 },
 "nbformat": 4,
 "nbformat_minor": 2
}
