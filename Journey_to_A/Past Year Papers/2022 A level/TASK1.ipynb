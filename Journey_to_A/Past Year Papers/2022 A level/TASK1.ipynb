{
 "cells": [
  {
   "cell_type": "code",
   "execution_count": 12,
   "metadata": {},
   "outputs": [],
   "source": [
    "# Task 1.1\n",
    "def encrypt(char):\n",
    "    if char == ' ':\n",
    "        char = '!'\n",
    "    else:\n",
    "        if char.isalpha():\n",
    "            if char.isupper():\n",
    "                num = ord(char) + 10\n",
    "                if num > 90:\n",
    "                    num = num % 90 + 64\n",
    "            else:\n",
    "                num = ord(char) + 10\n",
    "                if num > 122:\n",
    "                    num = num % 122 + 96\n",
    "\n",
    "            char = chr(num)\n",
    "        else:\n",
    "            return 'Invalid'\n",
    "    \n",
    "\n",
    "    return char\n"
   ]
  },
  {
   "cell_type": "code",
   "execution_count": 13,
   "metadata": {},
   "outputs": [
    {
     "name": "stdout",
     "output_type": "stream",
     "text": [
      "K\n",
      "k\n",
      "Invalid\n",
      "!\n",
      "J\n"
     ]
    }
   ],
   "source": [
    "# Task 1.2\n",
    "print(encrypt('A'))\n",
    "print(encrypt('a'))\n",
    "print(encrypt('#'))\n",
    "print(encrypt(' '))\n",
    "print(encrypt('Z'))"
   ]
  },
  {
   "cell_type": "code",
   "execution_count": 18,
   "metadata": {},
   "outputs": [
    {
     "name": "stdout",
     "output_type": "stream",
     "text": [
      "Drsc!sc!wi!combod!wocckqo!drkd!S!xoon!dy!oxmbizd\n"
     ]
    }
   ],
   "source": [
    "# Task 1.3\n",
    "\n",
    "with open('DATATOENCRYPT.txt') as f:\n",
    "    data = []\n",
    "    for line in f:\n",
    "        data += [line.strip()]\n",
    "\n",
    "with open('ENCRYPTEDMESSAGE.txt', 'w') as f:\n",
    "    encrypted = ''\n",
    "    for row in data:\n",
    "        for i in range(len(row)):\n",
    "            encrypted += encrypt(row[i])\n",
    "        encrypted = encrypted.replace('Invalid', '')\n",
    "        f.write(encrypted + '\\n')\n",
    "        print(encrypted)\n",
    "            "
   ]
  }
 ],
 "metadata": {
  "kernelspec": {
   "display_name": "computing",
   "language": "python",
   "name": "python3"
  },
  "language_info": {
   "codemirror_mode": {
    "name": "ipython",
    "version": 3
   },
   "file_extension": ".py",
   "mimetype": "text/x-python",
   "name": "python",
   "nbconvert_exporter": "python",
   "pygments_lexer": "ipython3",
   "version": "3.6.13"
  }
 },
 "nbformat": 4,
 "nbformat_minor": 2
}
