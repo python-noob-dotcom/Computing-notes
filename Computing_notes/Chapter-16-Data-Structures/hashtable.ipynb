{
 "cells": [
  {
   "cell_type": "markdown",
   "metadata": {},
   "source": [
    "# Hashtables\n",
    "\n",
    "Hashtables are basiclaly associative arrays. Basically like a dictionary, there is a record with a key and the values (data) <br>\n",
    "\n",
    "You encrypt the key, to determine the location in the array"
   ]
  },
  {
   "cell_type": "markdown",
   "metadata": {},
   "source": [
    "<div style = 'background: white; height = auto'>\n",
    "    <img src = 'https://upload.wikimedia.org/wikipedia/commons/thumb/7/7d/Hash_table_3_1_1_0_1_0_0_SP.svg/1200px-Hash_table_3_1_1_0_1_0_0_SP.svg.png' width = '800'>\n",
    "</div>"
   ]
  },
  {
   "cell_type": "markdown",
   "metadata": {},
   "source": [
    "## Hashtable by probing"
   ]
  },
  {
   "cell_type": "code",
   "execution_count": null,
   "metadata": {},
   "outputs": [],
   "source": [
    "class HashTable:\n",
    "\n",
    "    def __init__(self, size):\n",
    "        self.array = [None] * size # Array for hash table\n",
    "        self.size = size\n",
    "\n",
    "    def hash(self, key):\n",
    "        # Depends on what algorithm you design\n",
    "        hash_val = key % len(str(key))\n",
    "\n",
    "        return hash_val\n",
    "\n",
    "    # Insertion algorithm of linear probing (open addressing - if the address is not open, search for another location\n",
    "    # or closed hashing - enclosed within the original table)\n",
    "    def insert(self, key, val):\n",
    "\n",
    "        hash_val = hash(key)\n",
    "\n",
    "        if self.array[hash_val % self.size] == None:\n",
    "            self.array[hash_val % self.size] = val\n",
    "            return 1\n",
    "        \n",
    "        new_hash_val = (hash_val + 1) % self.size\n",
    "        \n",
    "        while self.array[hash_val] != None and new_hash_val != hash_val:\n",
    "            new_hash_val = (hash_val + 1) % self.size\n",
    "\n",
    "        if new_hash_val != hash_val:\n",
    "            self.array[new_hash_val] = val\n",
    "            return 1\n",
    "        \n",
    "        return -1\n",
    "\n",
    "    # Search Probing"
   ]
  },
  {
   "cell_type": "markdown",
   "metadata": {},
   "source": [
    "## Hashtable by Chaining - array implementation"
   ]
  },
  {
   "cell_type": "code",
   "execution_count": null,
   "metadata": {},
   "outputs": [],
   "source": [
    "class HashTable: #Chaining using nested list\n",
    "    \n",
    "    def _init_(self, size):\n",
    "        self.array = []\n",
    "        self.size = size\n",
    "        for i in range(size):\n",
    "            self.array.append([])\n",
    "        \n",
    "    #Bad hash function algo, only for demo \n",
    "    #causes clustering, many records will be hashed in close proximity of one another\n",
    "    #collision - 2 or more records are hashed to same location\n",
    "    def hash_func(self, key): #depends on the algorithm designed for the system \n",
    "        hash_val = key % len(str(key))\n",
    "        return hash_val    \n",
    "    \n",
    "    def insert(self, key, val):\n",
    "        \n",
    "        hash_val = self.hash_func(key)\n",
    "        \n",
    "        self.array[hash_val].append((key, val))\n",
    "        \n",
    "        return\n",
    "    \n",
    "    def search(self, key, data):\n",
    "        \n",
    "        hash_val = self.hash_func(key)\n",
    "        \n",
    "        count = 0\n",
    "        for item in self.array[hash_val]:\n",
    "            if item[0] == key and item[1] == data:\n",
    "                return f'Found at {hash_val}, location {count}'\n",
    "            count += 1\n",
    "            \n",
    "        return -1\n",
    "    "
   ]
  },
  {
   "cell_type": "markdown",
   "metadata": {},
   "source": [
    "## Hashtable using chaining - linked list implementation"
   ]
  },
  {
   "cell_type": "code",
   "execution_count": null,
   "metadata": {},
   "outputs": [],
   "source": [
    "#Chaining using Linked List\n",
    "class Node:\n",
    "    \n",
    "    def _init_(self, key, val, nxt = None):\n",
    "        self.key = key\n",
    "        self.val = val\n",
    "        self.nxt = nxt\n",
    "        \n",
    "class LinkedList:\n",
    "    \n",
    "    def _init_(self):\n",
    "        self.head = None\n",
    "        \n",
    "    def insert(self, key, data):\n",
    "        new_node = Node(key, data)\n",
    "        \n",
    "        if self.head == None:\n",
    "            self.head = new_node\n",
    "            \n",
    "        else:\n",
    "            new_node.nxt = self.head\n",
    "            self.head = new_node\n",
    "            \n",
    "class HashTable:\n",
    "    \n",
    "    def _init_(self, size):\n",
    "        self.array = []\n",
    "        for i in range(size):\n",
    "            bucket = LinkedList()\n",
    "            self.array.append(bucket)\n",
    "        self.size = size\n",
    "        \n",
    "    #Bad hash function algo, only for demo \n",
    "    #causes clustering, many records will be hashed in close proximity of one another\n",
    "    #collision - 2 or more records are hashed to same location\n",
    "    def hash_func(self, key): #depends on the algorithm designed for the system \n",
    "        hash_val = key % len(str(key))\n",
    "        return hash_val    \n",
    "     \n",
    "        \n",
    "    def insert(self, key, val):\n",
    "        \n",
    "        hash_val = self.hash_func(key)\n",
    "        \n",
    "        self.array[hash_val].insert(key, val) #Calls the insert of the linked list\n",
    "        return\n",
    "    \n",
    "    def search(self, key, val):\n",
    "\n",
    "        hash_val = self.hash_func(key)\n",
    "\n",
    "        bucket = self.array[hash_val]\n",
    "\n",
    "        current = bucket.head\n",
    "\n",
    "        while current.key != key and current.val != val:\n",
    "            if current.nxt == None:\n",
    "                return -1\n",
    "            \n",
    "            current = current.nxt\n",
    "\n",
    "        return (current.key, current.val)"
   ]
  },
  {
   "cell_type": "code",
   "execution_count": 5,
   "metadata": {},
   "outputs": [
    {
     "name": "stdout",
     "output_type": "stream",
     "text": [
      "Help on built-in function hash in module builtins:\n",
      "\n",
      "hash(obj, /)\n",
      "    Return the hash value for the given object.\n",
      "    \n",
      "    Two objects that compare equal must also have the same hash value, but the\n",
      "    reverse is not necessarily true.\n",
      "\n"
     ]
    }
   ],
   "source": [
    "help(hash)"
   ]
  }
 ],
 "metadata": {
  "kernelspec": {
   "display_name": "Python 3",
   "language": "python",
   "name": "python3"
  },
  "language_info": {
   "codemirror_mode": {
    "name": "ipython",
    "version": 3
   },
   "file_extension": ".py",
   "mimetype": "text/x-python",
   "name": "python",
   "nbconvert_exporter": "python",
   "pygments_lexer": "ipython3",
   "version": "3.7.7"
  }
 },
 "nbformat": 4,
 "nbformat_minor": 2
}
