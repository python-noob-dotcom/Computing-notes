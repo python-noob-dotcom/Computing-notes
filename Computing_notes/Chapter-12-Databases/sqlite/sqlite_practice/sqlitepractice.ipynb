{
 "cells": [
  {
   "cell_type": "code",
   "execution_count": 10,
   "metadata": {},
   "outputs": [],
   "source": [
    "with open('./TASK1_1.sql') as f:\n",
    "    statements = f.read().replace('\\n', '').replace('\\t', ' ').split(';')[:-1]\n",
    "\n",
    "import sqlite3\n",
    "\n",
    "with sqlite3.connect('./equipment.db') as conn:\n",
    "    cur = conn.cursor()\n",
    "\n",
    "    try:\n",
    "        for statement in statements:\n",
    "            cur.execute(statement)\n",
    "\n",
    "        conn.commit()\n",
    "        \n",
    "    except sqlite3.Error:\n",
    "        print('SQL error')\n",
    "        conn.rollback()\n",
    "\n",
    "    except:\n",
    "        conn.rollback()"
   ]
  }
 ],
 "metadata": {
  "kernelspec": {
   "display_name": "Python 3",
   "language": "python",
   "name": "python3"
  },
  "language_info": {
   "codemirror_mode": {
    "name": "ipython",
    "version": 3
   },
   "file_extension": ".py",
   "mimetype": "text/x-python",
   "name": "python",
   "nbconvert_exporter": "python",
   "pygments_lexer": "ipython3",
   "version": "3.7.7"
  }
 },
 "nbformat": 4,
 "nbformat_minor": 2
}
