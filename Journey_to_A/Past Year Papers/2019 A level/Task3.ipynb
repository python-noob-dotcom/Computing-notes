{
 "cells": [
  {
   "cell_type": "code",
   "execution_count": 4,
   "metadata": {},
   "outputs": [],
   "source": [
    "class ToDo:\n",
    "    def __init__(self, c, d):\n",
    "        self.category = c\n",
    "        self.description = d\n",
    "\n",
    "    def constructor(self, c, d):\n",
    "        self.category = c\n",
    "        self.discription = d\n",
    "\n",
    "    def set_category(self, c):\n",
    "        self.category = c\n",
    "    \n",
    "    def get_category(self):\n",
    "        return self.category\n",
    "    \n",
    "    def set_description(self, d):\n",
    "        self.description = d\n",
    "\n",
    "    def get_description(self):\n",
    "        return self.description\n",
    "    \n",
    "    def summary(self):\n",
    "        return self.category + ': ' + self.description    "
   ]
  },
  {
   "cell_type": "code",
   "execution_count": 5,
   "metadata": {},
   "outputs": [
    {
     "name": "stdout",
     "output_type": "stream",
     "text": [
      "reading: Try some Shakespeare\n",
      "reading: Search on the web\n",
      "reading: Go to the library\n",
      "shopping: Consider items to recycle\n"
     ]
    }
   ],
   "source": [
    "def compare_with(td, todo):\n",
    "    if td.get_category() == todo.get_category():\n",
    "        return 0\n",
    "    elif td.get_category() < todo.get_category():\n",
    "        return -1\n",
    "    else:\n",
    "        return 1\n",
    "    \n",
    "lst = [ToDo(\"reading\", \"Try some Shakespeare\"),\n",
    "ToDo(\"shopping\", \"Consider items to recycle\"),\n",
    "ToDo(\"reading\", \"Search on the web\"),\n",
    "ToDo(\"reading\", \"Go to the library\"),]\n",
    "\n",
    "lst.sort(key=lambda x: x.get_category())\n",
    "\n",
    "for td in lst:\n",
    "    print(td.summary())"
   ]
  }
 ],
 "metadata": {
  "kernelspec": {
   "display_name": "Python 3",
   "language": "python",
   "name": "python3"
  },
  "language_info": {
   "codemirror_mode": {
    "name": "ipython",
    "version": 3
   },
   "file_extension": ".py",
   "mimetype": "text/x-python",
   "name": "python",
   "nbconvert_exporter": "python",
   "pygments_lexer": "ipython3",
   "version": "3.7.7"
  }
 },
 "nbformat": 4,
 "nbformat_minor": 2
}
