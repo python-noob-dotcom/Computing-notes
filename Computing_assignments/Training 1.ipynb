{
 "cells": [
  {
   "cell_type": "markdown",
   "metadata": {},
   "source": [
    "# Training 1"
   ]
  },
  {
   "cell_type": "markdown",
   "metadata": {},
   "source": [
    "## <font color = blue> Task 1 - Getting the basics right"
   ]
  },
  {
   "cell_type": "markdown",
   "metadata": {},
   "source": [
    "The task is to write a time conversion program based on user input"
   ]
  },
  {
   "cell_type": "markdown",
   "metadata": {},
   "source": [
    "### <font color = green> Task 1.1"
   ]
  },
  {
   "cell_type": "markdown",
   "metadata": {},
   "source": [
    "Write program code to:\n",
    "\n",
    "- ask the user to input the number of seconds,\n",
    "- convert the given input to minutes in decimal representation,\n",
    "- output the result as a proper statement.\n",
    "\n",
    "Test your program using a suitable value."
   ]
  },
  {
   "cell_type": "code",
   "execution_count": 1,
   "metadata": {},
   "outputs": [
    {
     "name": "stdout",
     "output_type": "stream",
     "text": [
      "The number of seconds in minutes is  1.6666666666666667\n"
     ]
    }
   ],
   "source": [
    "# Your code here\n",
    "\n",
    "userin = input('Input a number of seconds')\n",
    "try:\n",
    "    minutesanddecimals = float(int(userin)/60)\n",
    "    print('The number of seconds in minutes is ', minutesanddecimals)\n",
    "except TypeError:\n",
    "    print('Please input numbers')"
   ]
  },
  {
   "cell_type": "markdown",
   "metadata": {},
   "source": [
    "### <font color = green> Task 1.2"
   ]
  },
  {
   "cell_type": "markdown",
   "metadata": {},
   "source": [
    "Write program code to:\n",
    "\n",
    "- ask the user to input the number of seconds,\n",
    "- convert seconds to minutes and seconds (as integers),\n",
    "- display the result as a proper statement.\n",
    "\n",
    "Test your program using a suitable value."
   ]
  },
  {
   "cell_type": "code",
   "execution_count": 2,
   "metadata": {},
   "outputs": [
    {
     "name": "stdout",
     "output_type": "stream",
     "text": [
      "The number of minutes and seconds is  33.0  and  20\n"
     ]
    }
   ],
   "source": [
    "# Your code here\n",
    "import numpy as np\n",
    "\n",
    "userin = input('Input a number of seconds')\n",
    "try:\n",
    "    minutes = np.floor(int(userin) / 60)\n",
    "    seconds = int(userin) % 60\n",
    "    print('The number of minutes and seconds is ', minutes, ' minutes and ', seconds, ' seconds.')\n",
    "except TypeError:\n",
    "    print('Please input numbers and not other data types')"
   ]
  },
  {
   "cell_type": "markdown",
   "metadata": {},
   "source": [
    "### <font color = green> Task 1.3"
   ]
  },
  {
   "cell_type": "markdown",
   "metadata": {},
   "source": [
    "Write program code to:\n",
    "\n",
    "- ask the user to input the number of minutes,\n",
    "- convert minutes to hours and minutes (as integers),\n",
    "- display the result as a proper statment.\n",
    "\n",
    "Test your program using a suitable value."
   ]
  },
  {
   "cell_type": "code",
   "execution_count": 3,
   "metadata": {},
   "outputs": [
    {
     "name": "stdout",
     "output_type": "stream",
     "text": [
      "The number of hours and minutes is  600.0  and  1\n"
     ]
    }
   ],
   "source": [
    "# Your code here\n",
    "import numpy as np\n",
    "\n",
    "userin = input('Input a number of minutes')\n",
    "try:\n",
    "    hours = np.floor(int(userin) / 60)\n",
    "    minutes = int(userin) % 60\n",
    "    print('The number of hours and minutes is ', hours, ' hours and ', minutes, ' minutes.')\n",
    "except TypeError:\n",
    "    print('Please input numbers and not other data types')"
   ]
  },
  {
   "cell_type": "markdown",
   "metadata": {},
   "source": [
    "### <font color = green> Task 1.4"
   ]
  },
  {
   "cell_type": "markdown",
   "metadata": {},
   "source": [
    "Write program code to:\n",
    "\n",
    "- ask the user to input the number of seconds,\n",
    "- convert seconds to hours, minutes, and seconds (as integers),\n",
    "- output the result as a suitable value.\n",
    "\n",
    "Test your program using a suitable value."
   ]
  },
  {
   "cell_type": "code",
   "execution_count": 9,
   "metadata": {},
   "outputs": [
    {
     "name": "stdout",
     "output_type": "stream",
     "text": [
      "The number of hours, minutes and seconds is  2.0 ,  46.0 ,  40.0\n"
     ]
    }
   ],
   "source": [
    "# Your code here\n",
    "\n",
    "# Your code here\n",
    "import numpy as np\n",
    "\n",
    "userin = input('Input a number of seconds')\n",
    "try:\n",
    "    number = int(userin)\n",
    "    hours = np.floor(number / 3600)\n",
    "    minutes = np.floor((number - hours*3600) / 60)\n",
    "    seconds = number - hours*3600 - minutes*60\n",
    "    print('The number of hours, minutes and seconds is ', hours, ', ', minutes, ', ', seconds)\n",
    "except TypeError:\n",
    "    print('Please input numbers and not other data types')"
   ]
  },
  {
   "cell_type": "markdown",
   "metadata": {},
   "source": [
    "## <font color = blue> Task 2 - More brain power needed here... (but don't worry if it proves to be challenging at the moment)"
   ]
  },
  {
   "cell_type": "markdown",
   "metadata": {},
   "source": [
    "The task is to design a program for the self-checkout machines in a supermarket to enable it to determine how much change to provide when the shopper pays for a purchase with cash."
   ]
  },
  {
   "cell_type": "markdown",
   "metadata": {},
   "source": [
    "### <font color = green> Task 2.1"
   ]
  },
  {
   "cell_type": "markdown",
   "metadata": {},
   "source": [
    "Write program code to:\n",
    "\n",
    "- collect information on the total cost of purchase,\n",
    "- collect information on the amount of money paid by the shopper,\n",
    "- compute and display the amount of change required to be provided by the self-checkout machine.\n",
    "\n",
    "Test your program with suitable input values."
   ]
  },
  {
   "cell_type": "code",
   "execution_count": 14,
   "metadata": {},
   "outputs": [
    {
     "name": "stdout",
     "output_type": "stream",
     "text": [
      "20.0\n"
     ]
    }
   ],
   "source": [
    "# Your code here\n",
    "\n",
    "costofpurchase = input('Cost of purchase: ')\n",
    "amtpaid = input('Amount of money paid: ')\n",
    "\n",
    "try:\n",
    "    costofpurchase = float(costofpurchase)\n",
    "    amtpaid = float(amtpaid)\n",
    "    change = round((amtpaid - costofpurchase), 2)\n",
    "    print(change)\n",
    "except TypeError:\n",
    "    print('Please input a integer datatype')"
   ]
  },
  {
   "cell_type": "markdown",
   "metadata": {},
   "source": [
    "### <font color = green> Task 2.2"
   ]
  },
  {
   "cell_type": "markdown",
   "metadata": {},
   "source": [
    "Write program code to:\n",
    "\n",
    "- to determine the number of each type of coin to convert a given sum of money to such that the total number of coins is the least.\n",
    "\n",
    "You may assume that there are 1-cent, 5-cents, 10-cents, 20-cents, 50-cents and 1-dollar coins available.\n",
    "\n",
    "Test your program multiple times such that different combinations of coins are used. It is not necessary to use every type of coin in each test."
   ]
  },
  {
   "cell_type": "code",
   "execution_count": 24,
   "metadata": {},
   "outputs": [
    {
     "name": "stdout",
     "output_type": "stream",
     "text": [
      "Coins output:  10  1 dollar coins,  0.0  50 cent coins,  0.0  20 cent coins,  0.0  10 cent coins,  0.0  5 cent coins,  0.0  1 cent coins.\n"
     ]
    }
   ],
   "source": [
    "# Your code here\n",
    "\n",
    "dollars, cents = input('Amount of money to change in dollars and cents in the format (dollars cents): ').split()\n",
    "\n",
    "try:\n",
    "    dollars = int(dollars)\n",
    "    cents = int(cents)\n",
    "    cent50 = np.floor(cents / 50)\n",
    "    cent20 = np.floor((cents - cent50 * 50) / 20)\n",
    "    cent10 = np.floor((cents - cent50 * 50 - cent20 * 20) / 10)\n",
    "    cent5 = np.floor((cents - cent50 * 50 - cent20 * 20 - cent10 * 10) / 5)\n",
    "    cent1 = np.floor((cents - cent50 * 50 - cent20 * 20 - cent10 * 10 - cent5 * 5) / 1)\n",
    "\n",
    "    print('Coins output: ', dollars, ' 1 dollar coins, ', cent50, ' 50 cent coins, ', cent20, ' 20 cent coins, ', cent10, ' 10 cent coins, ', cent5, ' 5 cent coins, ', cent1, ' 1 cent coins.')\n",
    "except TypeError:\n",
    "    print('Please input numbers and not other datatypes')\n",
    "    \n"
   ]
  },
  {
   "cell_type": "markdown",
   "metadata": {},
   "source": [
    "### <font color = green> Task 2.3"
   ]
  },
  {
   "cell_type": "markdown",
   "metadata": {},
   "source": [
    "It is most desirable to have the self-checkout machines use the least number of coins when returning change to the shopper.\n",
    "\n",
    "Write program code to:\n",
    "\n",
    "- Compute the change to be given to a shopper for his or her purchase when he or she does not pay the exact value.\n",
    "\n",
    "Test your program at least 3 times with different sets of values."
   ]
  },
  {
   "cell_type": "code",
   "execution_count": 5,
   "metadata": {},
   "outputs": [
    {
     "name": "stdout",
     "output_type": "stream",
     "text": [
      "Coins to dispense:  200 1 dollar coins,  0 50 cent coins,  1 20 cent coins,  0 10 cent coins,  0 5 cent coins,  1 1 cent coins.\n"
     ]
    }
   ],
   "source": [
    "# Your code here\n",
    "\n",
    "import numpy as np\n",
    "# Helper function to calculate change\n",
    "def change():\n",
    "    costofpurchase = input('Cost of purchase: ')\n",
    "    amtpaid = input('Amount of money paid: ')\n",
    "\n",
    "    try:\n",
    "        costofpurchase = float(costofpurchase)\n",
    "        amtpaid = float(amtpaid)\n",
    "        change = round((amtpaid - costofpurchase), 2) #round to 2 dp as money is to 2dp\n",
    "        # print(change)\n",
    "        global dollars, cents\n",
    "        dollars = np.floor(change)\n",
    "        cents = (change - dollars) * 100\n",
    "        return  dollars, cents\n",
    "    except TypeError:\n",
    "        print('Please input a integer or float datatype')\n",
    "\n",
    "# Helper function to calculate the amount of coins to dispense\n",
    "def coindispenser(dollars, cents):\n",
    "    dollars, cents = dollars, cents\n",
    "\n",
    "    try:\n",
    "        dollars = int(dollars)\n",
    "        cents = int(cents)\n",
    "        cent50 = cents // 50\n",
    "        cent20 = (cents - cent50 * 50) // 20\n",
    "        cent10 = (cents - cent50 * 50 - cent20 * 20) // 10\n",
    "        cent5 = (cents - cent50 * 50 - cent20 * 20 - cent10 * 10) // 5\n",
    "        cent1 = (cents - cent50 * 50 - cent20 * 20 - cent10 * 10 - cent5 * 5) // 1\n",
    "\n",
    "        print('Coins to dispense: ', dollars, '1 dollar coins, ', cent50, '50 cent coins, ', cent20, '20 cent coins, ', cent10, '10 cent coins, ', cent5, '5 cent coins, ', cent1, '1 cent coins.')\n",
    "    except TypeError:\n",
    "        print('Please input numbers and not other datatypes')\n",
    "    \n",
    "change()\n",
    "coindispenser(dollars, cents)"
   ]
  }
 ],
 "metadata": {
  "kernelspec": {
   "display_name": "computing",
   "language": "python",
   "name": "python3"
  },
  "language_info": {
   "codemirror_mode": {
    "name": "ipython",
    "version": 3
   },
   "file_extension": ".py",
   "mimetype": "text/x-python",
   "name": "python",
   "nbconvert_exporter": "python",
   "pygments_lexer": "ipython3",
   "version": "3.6.13"
  },
  "vscode": {
   "interpreter": {
    "hash": "90751628c8dc0640666f6e45fef8e782cd46078710ff4aef78837114f507f2a2"
   }
  }
 },
 "nbformat": 4,
 "nbformat_minor": 2
}
