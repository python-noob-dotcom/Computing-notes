{
 "cells": [
  {
   "cell_type": "code",
   "execution_count": 2,
   "metadata": {},
   "outputs": [],
   "source": [
    "# Task 1.1\n",
    "\n",
    "def encryptor(character):\n",
    "\n",
    "    if character.isalpha():\n",
    "        encrypted = chr(ord(character) + 10)\n",
    "    elif character == ' ':\n",
    "        encrypted = '!'\n",
    "    else:\n",
    "        encrypted = -1\n",
    "\n",
    "    return encrypted"
   ]
  },
  {
   "cell_type": "code",
   "execution_count": 3,
   "metadata": {},
   "outputs": [
    {
     "name": "stdout",
     "output_type": "stream",
     "text": [
      "K\n",
      "k\n",
      "Please input a valid character\n",
      "!\n"
     ]
    }
   ],
   "source": [
    "# Task 1.2 \n",
    "\n",
    "def main():\n",
    "    character = input('Please enter a charascter to be encrypted')\n",
    "    print(encryptor(character) if encryptor(character) != -1 else 'Please input a valid character')\n",
    "\n",
    "main()\n",
    "main()\n",
    "main()\n",
    "main()"
   ]
  },
  {
   "cell_type": "code",
   "execution_count": null,
   "metadata": {},
   "outputs": [],
   "source": []
  }
 ],
 "metadata": {
  "kernelspec": {
   "display_name": "Python 3",
   "language": "python",
   "name": "python3"
  },
  "language_info": {
   "codemirror_mode": {
    "name": "ipython",
    "version": 3
   },
   "file_extension": ".py",
   "mimetype": "text/x-python",
   "name": "python",
   "nbconvert_exporter": "python",
   "pygments_lexer": "ipython3",
   "version": "3.6.4"
  }
 },
 "nbformat": 4,
 "nbformat_minor": 2
}
