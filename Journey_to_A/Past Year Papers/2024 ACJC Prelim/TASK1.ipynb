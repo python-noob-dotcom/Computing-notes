{
 "cells": [
  {
   "cell_type": "code",
   "execution_count": 23,
   "metadata": {},
   "outputs": [
    {
     "data": {
      "text/plain": [
       "4"
      ]
     },
     "execution_count": 23,
     "metadata": {},
     "output_type": "execute_result"
    }
   ],
   "source": [
    "def string_val(s1):\n",
    "    length = len(s1)\n",
    "\n",
    "    vowels = 0\n",
    "\n",
    "    for char in s1:\n",
    "        if char.lower() in 'aeiou':\n",
    "            vowels += 1\n",
    "        else:\n",
    "            pass\n",
    "\n",
    "    return length * vowels\n",
    "\n",
    "string_val('Peter')\n",
    "string_val('Josh')"
   ]
  },
  {
   "cell_type": "code",
   "execution_count": 29,
   "metadata": {},
   "outputs": [],
   "source": [
    "def StalinSort(lst):\n",
    "    insert = True\n",
    "\n",
    "    while insert:\n",
    "        insert = False\n",
    "        for i in range(len(lst) - 1):\n",
    "            curr = lst[i]\n",
    "\n",
    "            if string_val(curr) > string_val(lst[i + 1]):\n",
    "                insert = True\n",
    "                elem = lst.pop(i + 1)\n",
    "                lst = [elem] + lst\n",
    "                continue\n",
    "            elif string_val(curr) == string_val(lst[i + 1]):\n",
    "                if curr > lst[i + 1]:\n",
    "                    elem = lst.pop(i + 1)\n",
    "                    lst = [elem] + lst\n",
    "                    insert = True\n",
    "                else:\n",
    "                    pass\n",
    "                \n",
    "                continue\n",
    "\n",
    "    return lst"
   ]
  },
  {
   "cell_type": "code",
   "execution_count": 30,
   "metadata": {},
   "outputs": [
    {
     "name": "stdout",
     "output_type": "stream",
     "text": [
      "['Hi', 'Josh', 'See', 'Peter']\n",
      "['Hi', 'JOsh', 'See', 'PetEr']\n",
      "['bbbb', 'Hi', 'ah', 'BYE', 'Hello', 'Peter']\n"
     ]
    }
   ],
   "source": [
    "print(StalinSort([\"Peter\", \"Josh\", \"See\", \"Hi\" ]))\n",
    "print(StalinSort([\"PetEr\", \"JOsh\", \"Hi\", \"See\" ])) \n",
    "print(StalinSort([\"Peter\", \"Hello\", \"BYE\", \"Hi\", \"ah\", \"bbbb\" ]))"
   ]
  },
  {
   "cell_type": "code",
   "execution_count": 31,
   "metadata": {},
   "outputs": [
    {
     "name": "stdout",
     "output_type": "stream",
     "text": [
      "['Cat', 'dOG', 'lion', 'Tiger', 'WhaLe', 'zebrA', 'monkeY', 'Dolphin', 'moUSe', 'Cheetah', 'goRilla', 'aeiou', 'kangarOO', 'Chimpazee']\n"
     ]
    }
   ],
   "source": [
    "with open('words.txt') as f:\n",
    "    data = []\n",
    "\n",
    "    for line in f:\n",
    "        data += [line.strip()]\n",
    "\n",
    "data = StalinSort(data)\n",
    "print(data)"
   ]
  },
  {
   "cell_type": "code",
   "execution_count": 32,
   "metadata": {},
   "outputs": [
    {
     "data": {
      "text/plain": [
       "['Cat',\n",
       " 'dOG',\n",
       " 'lion',\n",
       " 'Tiger',\n",
       " 'WhaLe',\n",
       " 'zebrA',\n",
       " 'monkeY',\n",
       " 'Dolphin',\n",
       " 'moUSe',\n",
       " 'Cheetah',\n",
       " 'goRilla',\n",
       " 'aeiou',\n",
       " 'kangarOO',\n",
       " 'Chimpazee']"
      ]
     },
     "execution_count": 32,
     "metadata": {},
     "output_type": "execute_result"
    }
   ],
   "source": [
    "def QuickSort(lst):\n",
    "    if len(lst) > 2:\n",
    "        mid = len(lst) // 2\n",
    "        mid_elem = lst[mid]\n",
    "        mids = []\n",
    "        left = []\n",
    "        right = []\n",
    "\n",
    "        for elem in lst:\n",
    "            if string_val(elem) == string_val(mid_elem):\n",
    "                mids += [elem]\n",
    "            else:\n",
    "                if string_val(elem) > string_val(mid_elem):\n",
    "                    right += [elem]\n",
    "                else:\n",
    "                    left += [elem]\n",
    "\n",
    "        return QuickSort(left) + mids + QuickSort(right)\n",
    "    else:\n",
    "        return lst\n",
    "    \n",
    "QuickSort(data)"
   ]
  },
  {
   "cell_type": "code",
   "execution_count": 33,
   "metadata": {},
   "outputs": [],
   "source": [
    "def BinarySearch(lst, value):\n",
    "    def bnsearchHelper(lst, value, low, high):\n",
    "        if low < high:\n",
    "            mid = (low + high) // 2\n",
    "\n",
    "            if string_val(lst[mid]) == value:\n",
    "                return mid\n",
    "            \n",
    "            else:\n",
    "                if string_val(lst[mid]) > value:\n",
    "                    return bnsearchHelper(lst, value, low, mid - 1)\n",
    "                else:\n",
    "                    return bnsearchHelper(lst, value, mid + 1, high)\n",
    "                \n",
    "        return False\n",
    "    \n",
    "    return bnsearchHelper(lst, value, 0, len(lst) - 1)"
   ]
  }
 ],
 "metadata": {
  "kernelspec": {
   "display_name": "computing",
   "language": "python",
   "name": "python3"
  },
  "language_info": {
   "codemirror_mode": {
    "name": "ipython",
    "version": 3
   },
   "file_extension": ".py",
   "mimetype": "text/x-python",
   "name": "python",
   "nbconvert_exporter": "python",
   "pygments_lexer": "ipython3",
   "version": "3.6.13"
  }
 },
 "nbformat": 4,
 "nbformat_minor": 2
}
