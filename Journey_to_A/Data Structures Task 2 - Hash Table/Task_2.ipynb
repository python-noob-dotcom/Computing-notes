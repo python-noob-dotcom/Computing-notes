{
 "cells": [
  {
   "cell_type": "code",
   "execution_count": 5,
   "metadata": {},
   "outputs": [
    {
     "name": "stdout",
     "output_type": "stream",
     "text": [
      "12\n",
      "None\n",
      "2\n",
      "15\n",
      "None\n",
      "None\n",
      "None\n",
      "None\n",
      "None\n",
      "None\n",
      "None\n",
      "11\n"
     ]
    }
   ],
   "source": [
    "class HashTable:\n",
    "    def __init__(self, x):\n",
    "        self.size = x\n",
    "        self.table = [None] * self.size\n",
    "\n",
    "    def hash(self, key):\n",
    "        return key % self.size\n",
    "    \n",
    "    def insert(self, key):\n",
    "        index = self.hash(key)\n",
    "\n",
    "        if self.table[index] == None:\n",
    "            self.table[index] = key\n",
    "        else:\n",
    "            while self.table[index] != None:\n",
    "                index = (index + 1) % self.size\n",
    "                if index == self.hash(key):\n",
    "                    print(\"Table is full\")\n",
    "                    return -1\n",
    "            self.table[index] = key\n",
    "\n",
    "    def displayTable(self):\n",
    "        for table in self.table:\n",
    "            print(table)\n",
    "\n",
    "    def search(self, key):\n",
    "\n",
    "        if key in self.table:\n",
    "            return self.hash(key)\n",
    "\n",
    "\n",
    "with open('KEYS.txt', 'r') as f:\n",
    "    data = []\n",
    "    for line in f:\n",
    "        data += [line.strip()]\n",
    "\n",
    "hashtable = HashTable(12)\n",
    "for key in data:\n",
    "    hashtable.insert(int(key))\n",
    "\n",
    "hashtable.displayTable()"
   ]
  },
  {
   "cell_type": "code",
   "execution_count": 6,
   "metadata": {},
   "outputs": [
    {
     "name": "stdout",
     "output_type": "stream",
     "text": [
      "12\n",
      "23\n",
      "2\n",
      "15\n",
      "14\n",
      "47\n",
      "None\n",
      "None\n",
      "None\n",
      "None\n",
      "None\n",
      "11\n"
     ]
    }
   ],
   "source": [
    "with open('KEYS2.txt', 'r') as f:\n",
    "    data = []\n",
    "    for line in f:\n",
    "        data += [line.strip()]\n",
    "\n",
    "hashtable_2 = HashTable(12)\n",
    "\n",
    "for key in data:\n",
    "    hashtable_2.insert(int(key))\n",
    "\n",
    "hashtable_2.displayTable()"
   ]
  },
  {
   "cell_type": "code",
   "execution_count": 8,
   "metadata": {},
   "outputs": [
    {
     "name": "stdout",
     "output_type": "stream",
     "text": [
      "3\n",
      "11\n",
      "None\n"
     ]
    }
   ],
   "source": [
    "def shit():\n",
    "    key_2 = input('What is the student number you want to search for?')\n",
    "\n",
    "    with open('KEYS2.txt', 'r') as f:\n",
    "        data = []\n",
    "        for line in f:\n",
    "            data += [line.strip()]\n",
    "\n",
    "    hashtable_2 = HashTable(12)\n",
    "\n",
    "    for key in data:\n",
    "        hashtable_2.insert(int(key))\n",
    "\n",
    "    return hashtable_2.search(int(key_2))\n",
    "\n",
    "\n",
    "print(shit())\n",
    "print(shit())\n",
    "print(shit())"
   ]
  }
 ],
 "metadata": {
  "kernelspec": {
   "display_name": "computing",
   "language": "python",
   "name": "python3"
  },
  "language_info": {
   "codemirror_mode": {
    "name": "ipython",
    "version": 3
   },
   "file_extension": ".py",
   "mimetype": "text/x-python",
   "name": "python",
   "nbconvert_exporter": "python",
   "pygments_lexer": "ipython3",
   "version": "3.6.13"
  }
 },
 "nbformat": 4,
 "nbformat_minor": 2
}
