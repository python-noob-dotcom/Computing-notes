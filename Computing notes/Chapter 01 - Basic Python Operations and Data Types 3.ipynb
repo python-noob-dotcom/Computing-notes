{
 "cells": [
  {
   "cell_type": "markdown",
   "metadata": {},
   "source": [
    "# Learning Objectives\n",
    "\n",
    "| | |\n",
    "|-|-|\n",
    "|**2.1.1**|<p align=\"leftjustify\"> Use indentation and white space.|\n",
    "|**2.1.2**|<p align=\"leftjustify\"> Use naming conventions (e.g. meaningful identifier names).|\n",
    "|**2.1.3**|<p align=\"leftjustify\"> Write comments (name of programmer, date written, program description and version bookkeeping/control).|\n",
    "|**2.2.1**|<p align=\"leftjustify\"> Understand the different types: integer `int`, real `float`, char `chr`, string `str` and Boolean `Boolean` and initialise arrays (1-dimensional and 2-dimensional).|\n",
    "|**2.2.2**|<p align=\"leftjustify\"> Use common library functions for input/output, strings and mathematical operations.| "
   ]
  },
  {
   "cell_type": "markdown",
   "metadata": {
    "id": "y7XxtOysS9FW",
    "nbgrader": {
     "grade": false,
     "grade_id": "cell-5fddd0ed68552baf",
     "locked": true,
     "schema_version": 3,
     "solution": false,
     "task": false
    }
   },
   "source": [
    "We need more ways to manipulate the text and numbers that users input. Python provides a number of built-in functions to do this."
   ]
  },
  {
   "cell_type": "markdown",
   "metadata": {
    "id": "eBxDeaqvS9FZ",
    "nbgrader": {
     "grade": false,
     "grade_id": "cell-ad1d74142002aebb",
     "locked": true,
     "schema_version": 3,
     "solution": false,
     "task": false
    }
   },
   "source": [
    "## Quotient and modulo\n",
    "\n",
    "You can get both the floored quotient and the modulo using the `divmod()` function.\n",
    "\n",
    "The `divmod()` function returns two values instead of one. The first value returned is the floored quotient, while the second value returned is the remainder quotient.\n",
    "\n",
    "Such functions require two variables to be named on the left hand side of the assignment (`=`) operator.\n",
    "\n",
    "Run the code cell below. It will produce no output.\n",
    "\n",
    "**Task 1: Modify code**\n",
    "\n",
    "Write program code in the cell to examine the value of the variables `floor_quotient` and `remainder`."
   ]
  },
  {
   "cell_type": "code",
   "execution_count": 1,
   "metadata": {
    "id": "ajgpQofQS9Fa"
   },
   "outputs": [
    {
     "name": "stdout",
     "output_type": "stream",
     "text": [
      "2 1\n"
     ]
    }
   ],
   "source": [
    "floor_quotient , remainder = divmod(5,2)\n",
    "\n",
    "#Write code to examine floor_quotient and remainder\n",
    "\n",
    "print(floor_quotient, remainder)"
   ]
  },
  {
   "cell_type": "markdown",
   "metadata": {
    "id": "Xfxv4xBeS9Fa",
    "nbgrader": {
     "grade": false,
     "grade_id": "cell-3328749817f96f79",
     "locked": true,
     "schema_version": 3,
     "solution": false,
     "task": false
    }
   },
   "source": [
    "## Exercise 1\n",
    "\n",
    "Modify the lines below to print the output of `floor_quotient` and `remainder`."
   ]
  },
  {
   "cell_type": "code",
   "execution_count": 3,
   "metadata": {
    "id": "oc9R4LkyS9Fb",
    "nbgrader": {
     "grade": true,
     "grade_id": "cell-76f655e1ae0de6de",
     "locked": false,
     "points": 1,
     "schema_version": 3,
     "solution": true,
     "task": false
    },
    "scrolled": true
   },
   "outputs": [
    {
     "name": "stdout",
     "output_type": "stream",
     "text": [
      "The quotient is 2\n",
      "The remainder is 1\n"
     ]
    }
   ],
   "source": [
    "floor_quotient , remainder = divmod(5,2)\n",
    "\n",
    "print('The quotient is', floor_quotient)\n",
    "print('The remainder is', remainder)\n",
    "\n",
    "### BEGIN SOLUTION\n",
    "# 1. comma added in print function argument\n",
    "### END SOLUTION"
   ]
  },
  {
   "cell_type": "markdown",
   "metadata": {
    "id": "smPLyKZWS9Fb",
    "nbgrader": {
     "grade": false,
     "grade_id": "cell-1506172ff4826e4f",
     "locked": true,
     "schema_version": 3,
     "solution": false,
     "task": false
    }
   },
   "source": [
    "Q1: What would happen if you modify the above code with only one variable on the left of the assignment operator?"
   ]
  },
  {
   "cell_type": "markdown",
   "metadata": {
    "id": "9YYqtrnJS9Fb",
    "nbgrader": {
     "grade": false,
     "grade_id": "cell-ccccfc7da2f14bb7",
     "locked": true,
     "schema_version": 3,
     "solution": false,
     "task": false
    }
   },
   "source": [
    "Q2: Does `divmod()` work with floats?"
   ]
  },
  {
   "cell_type": "markdown",
   "metadata": {
    "id": "Pd5e5A5KS9Fc",
    "nbgrader": {
     "grade": false,
     "grade_id": "cell-fa30d0a1b1718afa",
     "locked": true,
     "schema_version": 3,
     "solution": false,
     "task": false
    }
   },
   "source": [
    "## Python float method: `is_integer()`\n",
    "\n",
    "Python's data types have some built-in features that make them easy to use. These built-in feaures are known as **methods**, and they are accessed by adding the feature name to the back of the variable or value, separated by a dot (`.`). These methods are usually named with brackets, for reasons that will be examined in \n",
    "\n",
    "The `is_integer()` method returns a boolean (`True` or `False`) informing you if the float value can be expressed as an integer.\n",
    "\n",
    "Run the code cell below:"
   ]
  },
  {
   "cell_type": "code",
   "execution_count": 1,
   "metadata": {
    "id": "Fdf3e89TS9Fc"
   },
   "outputs": [
    {
     "data": {
      "text/plain": [
       "True"
      ]
     },
     "execution_count": 1,
     "metadata": {},
     "output_type": "execute_result"
    }
   ],
   "source": [
    "num1 = 2.0 #Try this with different float and int values\n",
    "\n",
    "num1.is_integer() #Return True\n",
    "\n",
    "num1 = 5.5\n",
    "num1.is_integer() #Returns False\n",
    "\n",
    "num1 = '2.0'\n",
    "num1.is_integer() #Returns error"
   ]
  },
  {
   "cell_type": "markdown",
   "metadata": {
    "id": "HwTjFfF6S9Fc",
    "nbgrader": {
     "grade": false,
     "grade_id": "cell-e8dcce1e6621f1a8",
     "locked": true,
     "schema_version": 3,
     "solution": false,
     "task": false
    }
   },
   "source": [
    "Q3: Modify the above cell and give `num1` an integer value, then run the cell again. What happens?"
   ]
  },
  {
   "cell_type": "markdown",
   "metadata": {
    "id": "--OVColcS9Fd",
    "nbgrader": {
     "grade": false,
     "grade_id": "cell-ad4d01232266160b",
     "locked": true,
     "schema_version": 3,
     "solution": false,
     "task": false
    }
   },
   "source": [
    "## Python function: `abs()`\n",
    "\n",
    "Investigate the function `abs()`, which takes in one numerical variable and returns one value. Test the function with `int` and `float` values."
   ]
  },
  {
   "cell_type": "code",
   "execution_count": 5,
   "metadata": {
    "id": "ykSU_mNBS9Fd"
   },
   "outputs": [
    {
     "ename": "TypeError",
     "evalue": "bad operand type for abs(): 'str'",
     "output_type": "error",
     "traceback": [
      "\u001b[1;31m---------------------------------------------------------------------------\u001b[0m",
      "\u001b[1;31mTypeError\u001b[0m                                 Traceback (most recent call last)",
      "\u001b[1;32m<ipython-input-5-448492332b0b>\u001b[0m in \u001b[0;36m<module>\u001b[1;34m()\u001b[0m\n\u001b[0;32m      4\u001b[0m     \u001b[0mabs\u001b[0m\u001b[1;33m(\u001b[0m\u001b[1;33m-\u001b[0m\u001b[1;36m12.0\u001b[0m\u001b[1;33m)\u001b[0m\u001b[1;33m,\u001b[0m\u001b[1;33m\u001b[0m\u001b[0m\n\u001b[0;32m      5\u001b[0m     \u001b[0mabs\u001b[0m\u001b[1;33m(\u001b[0m\u001b[1;36m3\u001b[0m\u001b[1;33m-\u001b[0m\u001b[1;36m5\u001b[0m\u001b[1;33m)\u001b[0m\u001b[1;33m,\u001b[0m\u001b[1;33m\u001b[0m\u001b[0m\n\u001b[1;32m----> 6\u001b[1;33m     abs('s'))\n\u001b[0m",
      "\u001b[1;31mTypeError\u001b[0m: bad operand type for abs(): 'str'"
     ]
    }
   ],
   "source": [
    "#Type code here to test the function:\n",
    "\n",
    "print(abs(-120),\n",
    "    abs(-12.0),\n",
    "    abs(3-5),\n",
    "    abs('s'))"
   ]
  },
  {
   "cell_type": "markdown",
   "metadata": {
    "id": "XjcG1LqJS9Fd",
    "nbgrader": {
     "grade": false,
     "grade_id": "cell-f5948c5d33b9218c",
     "locked": true,
     "schema_version": 3,
     "solution": false,
     "task": false
    }
   },
   "source": [
    "Q4: What does the function `abs()` do:\n",
    "\n",
    "1. When given an `int` value?\n",
    "2. When given a `float` value?"
   ]
  },
  {
   "cell_type": "markdown",
   "metadata": {
    "id": "6DgwOFWiS9Fd",
    "nbgrader": {
     "grade": false,
     "grade_id": "cell-8fc18e60e2c4c542",
     "locked": true,
     "schema_version": 3,
     "solution": false,
     "task": false
    }
   },
   "source": [
    "## Python function: `len()`\n",
    "\n",
    "Investigate the function `len()`, which takes in one variable and returns one value."
   ]
  },
  {
   "cell_type": "code",
   "execution_count": 10,
   "metadata": {},
   "outputs": [
    {
     "ename": "TypeError",
     "evalue": "object of type 'float' has no len()",
     "output_type": "error",
     "traceback": [
      "\u001b[1;31m---------------------------------------------------------------------------\u001b[0m",
      "\u001b[1;31mTypeError\u001b[0m                                 Traceback (most recent call last)",
      "\u001b[1;32m<ipython-input-10-ff78a67a5091>\u001b[0m in \u001b[0;36m<module>\u001b[1;34m()\u001b[0m\n\u001b[1;32m----> 1\u001b[1;33m \u001b[0mlen\u001b[0m\u001b[1;33m(\u001b[0m\u001b[1;36m44.00\u001b[0m\u001b[1;33m)\u001b[0m\u001b[1;33m\u001b[0m\u001b[0m\n\u001b[0m",
      "\u001b[1;31mTypeError\u001b[0m: object of type 'float' has no len()"
     ]
    }
   ],
   "source": [
    "len(44.00)"
   ]
  },
  {
   "cell_type": "code",
   "execution_count": 9,
   "metadata": {},
   "outputs": [
    {
     "ename": "TypeError",
     "evalue": "object of type 'int' has no len()",
     "output_type": "error",
     "traceback": [
      "\u001b[1;31m---------------------------------------------------------------------------\u001b[0m",
      "\u001b[1;31mTypeError\u001b[0m                                 Traceback (most recent call last)",
      "\u001b[1;32m<ipython-input-9-df9d05e20337>\u001b[0m in \u001b[0;36m<module>\u001b[1;34m()\u001b[0m\n\u001b[1;32m----> 1\u001b[1;33m \u001b[0mlen\u001b[0m\u001b[1;33m(\u001b[0m\u001b[1;36m44\u001b[0m\u001b[1;33m)\u001b[0m\u001b[1;33m\u001b[0m\u001b[0m\n\u001b[0m",
      "\u001b[1;31mTypeError\u001b[0m: object of type 'int' has no len()"
     ]
    }
   ],
   "source": [
    "len(44)"
   ]
  },
  {
   "cell_type": "code",
   "execution_count": 8,
   "metadata": {
    "id": "j6FZBikjS9Fe"
   },
   "outputs": [
    {
     "data": {
      "text/plain": [
       "4"
      ]
     },
     "execution_count": 8,
     "metadata": {},
     "output_type": "execute_result"
    }
   ],
   "source": [
    "#Type code here to test the function:\n",
    "\n",
    "len('abcd')"
   ]
  },
  {
   "cell_type": "markdown",
   "metadata": {
    "id": "8OIEs9s1S9Fe",
    "nbgrader": {
     "grade": false,
     "grade_id": "cell-63ba10fc6cd03157",
     "locked": true,
     "schema_version": 3,
     "solution": false,
     "task": false
    }
   },
   "source": [
    "Q5: Does the function `len()` work when given:\n",
    "\n",
    "1. `int` values?\n",
    "2. `float` values?\n",
    "3. `str` values?"
   ]
  },
  {
   "cell_type": "markdown",
   "metadata": {
    "id": "a280oP0BS9Fe",
    "nbgrader": {
     "grade": false,
     "grade_id": "cell-fd062ad77ca19e01",
     "locked": true,
     "schema_version": 3,
     "solution": false,
     "task": false
    }
   },
   "source": [
    "## Exercise 2\n",
    "\n",
    "In the cell below, replace the blank lines (`_____`) with appropriate function names or variables to ask the user for a word, and print the number of letters in the word."
   ]
  },
  {
   "cell_type": "code",
   "execution_count": 11,
   "metadata": {
    "id": "SjYovV-2S9Fe",
    "nbgrader": {
     "grade": true,
     "grade_id": "cell-a9dc13f5de359595",
     "locked": false,
     "points": 3,
     "schema_version": 3,
     "solution": true,
     "task": false
    },
    "scrolled": false
   },
   "outputs": [
    {
     "name": "stdout",
     "output_type": "stream",
     "text": [
      "The word python has 6 letters.\n"
     ]
    }
   ],
   "source": [
    "word = input(\"Type a word and press Enter: \")\n",
    "\n",
    "print('The word', word, 'has', len(word), 'letters.')\n"
   ]
  },
  {
   "cell_type": "markdown",
   "metadata": {
    "id": "MaLROzo_S9Fe",
    "nbgrader": {
     "grade": false,
     "grade_id": "cell-db09fecb6c1576ff",
     "locked": true,
     "schema_version": 3,
     "solution": false,
     "task": false
    }
   },
   "source": [
    "## Python string manipulation methods: `lower()`, `upper()`, `title()`, `lstrip()`, `rstrip()`, `strip()`\n",
    "\n",
    "Python has many methods available for use to manipulate strings. We will introduce some of the most commonly used methods below.\n",
    "\n",
    "### `lower()`, `upper()`, `title()` methods\n",
    "\n",
    "The following methods format the string by changing the letter cases:\n",
    "\n",
    "- `lower()` changes a string to all-lowercase letters.\n",
    "- `upper()` changes a string to all-uppercase letters.\n",
    "- `title()` changes a string that starts with an uppercase letter and the remaining characters are lowercase.\n",
    "\n",
    "Run the following code cell to see these methods in action:"
   ]
  },
  {
   "cell_type": "code",
   "execution_count": 14,
   "metadata": {
    "id": "9qqzNFRtS9Ff",
    "scrolled": true
   },
   "outputs": [
    {
     "name": "stdout",
     "output_type": "stream",
     "text": [
      "Lowercase: thisformattingisknownascamelcase\n",
      "Uppercase: THISFORMATTINGISKNOWNASCAMELCASE\n",
      "Title Case: Thisformattingisknownascamelcase\n"
     ]
    }
   ],
   "source": [
    "example = \"ThisFormattingIsKnownAsCamelCase\"\n",
    "\n",
    "print('Lowercase:',example.lower())\n",
    "print('Uppercase:',example.upper())\n",
    "print('Title Case:',example.title())"
   ]
  },
  {
   "cell_type": "markdown",
   "metadata": {
    "id": "jKFCZWzzS9Ff",
    "nbgrader": {
     "grade": false,
     "grade_id": "cell-9012cbf689c217b5",
     "locked": true,
     "schema_version": 3,
     "solution": false,
     "task": false
    }
   },
   "source": [
    "### `lstrip()` and `rstrip()` methods\n",
    "\n",
    "The `lstrip()` method removes characters from the leftmost end of the string. These characters are given to the function as a string. If no value is given, it removes whitespace (i.e. spaces).\n",
    "\n",
    "The `rstrip()` method works the same way, but removes characters from the rightmost end of the string.\n",
    "\n",
    "**Example**\n",
    "\n",
    "Run each code cell below to investigate how the `lstrip()` method works. "
   ]
  },
  {
   "cell_type": "code",
   "execution_count": 12,
   "metadata": {
    "id": "51z1pJn_S9Ff"
   },
   "outputs": [
    {
     "data": {
      "text/plain": [
       "'mymovie.mp4'"
      ]
     },
     "execution_count": 12,
     "metadata": {},
     "output_type": "execute_result"
    }
   ],
   "source": [
    "filename = '   mymovie.mp4'\n",
    "\n",
    "filename.strip()"
   ]
  },
  {
   "cell_type": "code",
   "execution_count": 13,
   "metadata": {
    "id": "y_drLCdpS9Fg"
   },
   "outputs": [
    {
     "data": {
      "text/plain": [
       "'Hi John,'"
      ]
     },
     "execution_count": 13,
     "metadata": {},
     "output_type": "execute_result"
    }
   ],
   "source": [
    "email_quote_line = '> Hi John,'\n",
    "\n",
    "email_quote_line.lstrip(' >')"
   ]
  },
  {
   "cell_type": "markdown",
   "metadata": {
    "id": "V_jQDoNBS9Fg",
    "nbgrader": {
     "grade": false,
     "grade_id": "cell-0a519fac1d6dc0d8",
     "locked": true,
     "schema_version": 3,
     "solution": false,
     "task": false
    }
   },
   "source": [
    "Note that the characters to be removed do not follow any particular order; `email_quote_line.lstrip(' >')` will give the same result as `email_quote_line.lstrip('> ')`"
   ]
  },
  {
   "cell_type": "markdown",
   "metadata": {
    "id": "XG6xoLNoS9Fg",
    "nbgrader": {
     "grade": false,
     "grade_id": "cell-a042b717e1bb0a59",
     "locked": true,
     "schema_version": 3,
     "solution": false,
     "task": false
    }
   },
   "source": [
    "### Method chaining\n",
    "\n",
    "You can chain methods together on Python strings to perform multiple tasks.\n",
    "\n",
    "**Example**\n",
    "\n",
    "Run the code cell below to see how the `lstrip()` and `rstrip()` methods can be used together in the same line.\n",
    "\n",
    "**Challenge**\n",
    "\n",
    "Modify it so that it gives the output with numbers only."
   ]
  },
  {
   "cell_type": "code",
   "execution_count": null,
   "metadata": {
    "id": "9Ll7Tz5NS9Fg",
    "nbgrader": {
     "grade": true,
     "grade_id": "cell-3f01d18863644368",
     "locked": false,
     "points": 1,
     "schema_version": 3,
     "solution": true,
     "task": false
    },
    "scrolled": true
   },
   "outputs": [],
   "source": [
    "postal_code = 'S(123456)'\n",
    "\n",
    "postal_code.lstrip('S').rstrip(')')\n",
    "\n",
    "### BEGIN SOLUTION\n",
    "# 1. Returns numbers only\n",
    "# 2. May only use .strip(), .lstrip(), and/or .rstrip()\n",
    "### END SOLUTION"
   ]
  },
  {
   "cell_type": "markdown",
   "metadata": {
    "id": "o9n34u_4S9Fg",
    "nbgrader": {
     "grade": false,
     "grade_id": "cell-31564cb6d0a40d28",
     "locked": true,
     "schema_version": 3,
     "solution": false,
     "task": false
    }
   },
   "source": [
    "### `strip()` method\n",
    "\n",
    "The `strip()` method also removes characters from the ends of the string. Whereas `lstrip()` and `rstrip()` only remove characters from the leftmost and rightmost end respectively, `strip()` removes the given characters from both ends."
   ]
  },
  {
   "cell_type": "markdown",
   "metadata": {
    "id": "vW4qRaxiS9Fh",
    "nbgrader": {
     "grade": false,
     "grade_id": "cell-1febaf00bc76e400",
     "locked": true,
     "schema_version": 3,
     "solution": false,
     "task": false
    }
   },
   "source": [
    "## Exercise 3\n",
    "\n",
    "Modify the code cell below to change `'  <body>  '` to `'body'`."
   ]
  },
  {
   "cell_type": "code",
   "execution_count": 1,
   "metadata": {
    "id": "SoftMQ6OS9Fh",
    "nbgrader": {
     "grade": true,
     "grade_id": "cell-a605333ac70b88f9",
     "locked": false,
     "points": 1,
     "schema_version": 3,
     "solution": true,
     "task": false
    },
    "scrolled": true
   },
   "outputs": [
    {
     "data": {
      "text/plain": [
       "'body'"
      ]
     },
     "execution_count": 1,
     "metadata": {},
     "output_type": "execute_result"
    }
   ],
   "source": [
    "html_tag = '  <body>  ' #Do not edit this line\n",
    "\n",
    "#Replace the underscores (_____) with appropriate strings or functions to produce the desired output\n",
    "html_tag.strip().lstrip('<').rstrip('>')\n",
    "\n",
    "### BEGIN SOLUTION\n",
    "# 1. html_tag.strip().lstrip('<').rstrip('>')\n",
    "### END SOLUTION"
   ]
  },
  {
   "cell_type": "markdown",
   "metadata": {
    "id": "7Gv4qpcrS9Fh",
    "nbgrader": {
     "grade": false,
     "grade_id": "cell-07510cc0dc95f524",
     "locked": true,
     "schema_version": 3,
     "solution": false,
     "task": false
    }
   },
   "source": [
    "**Challenge**\n",
    "\n",
    "Rewrite the code line in Exercise 3 to use the `strip()` method only."
   ]
  },
  {
   "cell_type": "code",
   "execution_count": 2,
   "metadata": {
    "id": "YlbbmK7rS9Fh",
    "nbgrader": {
     "grade": true,
     "grade_id": "cell-982595767ba50b74",
     "locked": false,
     "points": 1,
     "schema_version": 3,
     "solution": true,
     "task": false
    }
   },
   "outputs": [
    {
     "data": {
      "text/plain": [
       "'body'"
      ]
     },
     "execution_count": 2,
     "metadata": {},
     "output_type": "execute_result"
    }
   ],
   "source": [
    "html_tag = '  <body>  ' #Do not edit this line\n",
    "\n",
    "#Write a line of code that will return 'body' using only the strip() method\n",
    "### BEGIN SOLUTION\n",
    "html_tag.strip(' <>')\n",
    "### END SOLUTION"
   ]
  },
  {
   "cell_type": "markdown",
   "metadata": {
    "id": "-ta2IFgJS9Fh",
    "nbgrader": {
     "grade": false,
     "grade_id": "cell-c3d7f10ea1ad7123",
     "locked": true,
     "schema_version": 3,
     "solution": false,
     "task": false
    }
   },
   "source": [
    "## Accessing subsets of strings: string slicing\n",
    "\n",
    "Parts of a string can be accessed through **slicing**.\n",
    "\n",
    "Run the following code cell to see string slicing in action:"
   ]
  },
  {
   "cell_type": "code",
   "execution_count": 7,
   "metadata": {
    "id": "OFUK_fJrS9Fh"
   },
   "outputs": [
    {
     "name": "stdout",
     "output_type": "stream",
     "text": [
      "11\n",
      "Line 1: O\n",
      "Line 2: n\n",
      "Line 3: One fi\n",
      "Line 4: One fi\n",
      "Line 5: ne day\n",
      "Line 6: y\n",
      "Line 7: e da\n",
      "Line 8: One fine day\n",
      "Line 9: Oef\n",
      "Line 10: yad enif enO\n"
     ]
    }
   ],
   "source": [
    "this_string = 'One fine day'\n",
    "\n",
    "# print(this_string.index(this_string[-1]))\n",
    "##Subsets of strings are addressed by their numerical index.\n",
    "##Numerical indexes start from 0, not 1\n",
    "print('Line 1:',this_string[0]) ##Substrings are indexed using the square bracket [] syntax, not with parentheses ()\n",
    "print('Line 2:',this_string[1]) ##The second character has index 1\n",
    "print('Line 3:',this_string[0:6]) ##You can address a range of characters using the colon (:) symbol.\n",
    "##Note that [0:6] gives the first 6 characters, not the first 7 characters! The last index in a range is ignored.\n",
    "print('Line 4:',this_string[:6]) ##If the first index is omitted, slicing begins from the first element.\n",
    "print('Line 5:',this_string[6:]) ##If the last index is omitted, slicing ends at the last element.\n",
    "print('Line 6:',this_string[-1]) ##Negative indexes are allowed. An index of -1 refers to the last element.\n",
    "print('Line 7:',this_string[-5:-1]) ##You can specify ranges using negative indexes. Note that the last element is ignored.\n",
    "##(Omit the last index to address to the last element.)\n",
    "print('Line 8:',this_string[:]) ##Omitting both the first and the last index specifies the entire string\n",
    "print('Line 9:',this_string[0:5:2]) ##You can specify the **stride** by adding a third number, separated by a colon.\n",
    "##The stride value slices the string, selecting every nth character. Stride length of 2 takes characters with index 0,2,4 (excluding 5)\n",
    "print('Line 10:',this_string[::-1]) ##Can you explain the output for this string slicing?"
   ]
  },
  {
   "cell_type": "markdown",
   "metadata": {
    "id": "ubhL6kVTS9Fi",
    "nbgrader": {
     "grade": false,
     "grade_id": "cell-e0110b5c4b50aad3",
     "locked": true,
     "schema_version": 3,
     "solution": false,
     "task": false
    }
   },
   "source": [
    "**Fill-in-the-blanks: extracting postal code with string slicing**\n",
    "\n",
    "In the cell below, replace the blanks (`_____`) with appropriate string slicing indexes to select the digits of the postal code from the given string."
   ]
  },
  {
   "cell_type": "code",
   "execution_count": 11,
   "metadata": {
    "id": "w5E6qf3gS9Fi",
    "nbgrader": {
     "grade": true,
     "grade_id": "cell-eb9ee334ffaf2be4",
     "locked": false,
     "points": 1,
     "schema_version": 3,
     "solution": true,
     "task": false
    },
    "scrolled": true
   },
   "outputs": [
    {
     "data": {
      "text/plain": [
       "'123456'"
      ]
     },
     "execution_count": 11,
     "metadata": {},
     "output_type": "execute_result"
    }
   ],
   "source": [
    "postal_code = 'S(123456)'\n",
    "\n",
    "#Extract only the digits from the postal code\n",
    "postal_code_digits = postal_code[2:-1]\n",
    "postal_code_digits\n",
    "### BEGIN SOLUTION\n",
    "# postal_code_digits = postal_code[2:] #still has a bracket therefore this is wrong\n",
    "# or\n",
    "# postal_code_digits = postal_code[2:8] #need to count, use -1 instead\n",
    "### END SOLUTION"
   ]
  },
  {
   "cell_type": "markdown",
   "metadata": {
    "id": "_rAFwqQjS9Fi",
    "nbgrader": {
     "grade": false,
     "grade_id": "cell-1fb6430c12126647",
     "locked": true,
     "schema_version": 3,
     "solution": false,
     "task": false
    }
   },
   "source": [
    "## Exercise 4: extracting NRIC parts with string slicing\n",
    "\n",
    "Write string-slicing code in the cell below to:\n",
    "\n",
    "1. Select the first letter of the NRIC (the prefix).\n",
    "2. Select the numerical digits of the NRIC (the digits).\n",
    "3. Select the last letter of the NRIC (the suffix)."
   ]
  },
  {
   "cell_type": "code",
   "execution_count": null,
   "metadata": {
    "id": "QCF8zxe1S9Fi",
    "nbgrader": {
     "grade": true,
     "grade_id": "cell-d21a0be4fe383d68",
     "locked": false,
     "points": 1,
     "schema_version": 3,
     "solution": true,
     "task": false
    }
   },
   "outputs": [],
   "source": [
    "nric = 'S1234567A' #Do not remove this line\n",
    "\n",
    "#Replace the blanks below with appropriate expressions:\n",
    "prefix = _____\n",
    "digits = _____\n",
    "suffix = _____\n",
    "### BEGIN SOLUTION\n",
    "# prefix = nric[:1]\n",
    "# digits = nric[1:8]\n",
    "# suffix = nric[8:]\n",
    "### END SOLUTION"
   ]
  },
  {
   "cell_type": "markdown",
   "metadata": {
    "id": "G7y3WjkWS9Fi",
    "nbgrader": {
     "grade": false,
     "grade_id": "cell-d5dd7265603d6d8d",
     "locked": true,
     "schema_version": 3,
     "solution": false,
     "task": false
    }
   },
   "source": [
    "**Fill-in-the-blanks: using variables in string slicing**\n",
    "\n",
    "In the cell below, replace the blanks (`_____`) with an appropriate value so that the code prints the digits of the postal code only (without the parentheses).\n",
    "\n"
   ]
  },
  {
   "cell_type": "code",
   "execution_count": null,
   "metadata": {
    "id": "4jrPjYf_S9Fj",
    "nbgrader": {
     "grade": true,
     "grade_id": "cell-c73157e092de255d",
     "locked": false,
     "points": 1,
     "schema_version": 3,
     "solution": true,
     "task": false
    }
   },
   "outputs": [],
   "source": [
    "address = '128 Serangoon Ave 3, S(556111)'\n",
    "\n",
    "postal_code_startindex = _____ #Replace the blanks with an appropriate value\n",
    "\n",
    "#Replace the blanks below with appropriate expressions:\n",
    "postal_code = address[postal_code_startindex:_____] #Replace the blanks with an appropriate value\n",
    "print('Postal code:',postal_code)\n",
    "### BEGIN SOLUTION\n",
    "# postal_code_startindex = 23\n",
    "# postal_code = address[postal_code_startindex:29]\n",
    "# or\n",
    "# postal_code = address[postal_code_startindex:-1]\n",
    "### END SOLUTION"
   ]
  },
  {
   "cell_type": "markdown",
   "metadata": {
    "id": "UWv4kteUS9Fj",
    "nbgrader": {
     "grade": false,
     "grade_id": "cell-0c1aec4e5874d17e",
     "locked": true,
     "schema_version": 3,
     "solution": false,
     "task": false
    }
   },
   "source": [
    "**Task: extract area code from phone number**\n",
    "\n",
    "In the cell below, complete the code to extract the area code from the phone number and assign it to the variable `area_code`."
   ]
  },
  {
   "cell_type": "code",
   "execution_count": null,
   "metadata": {
    "id": "fd9TxMlRS9Fj",
    "nbgrader": {
     "grade": true,
     "grade_id": "cell-b15d01bc719bfb85",
     "locked": false,
     "points": 1,
     "schema_version": 3,
     "solution": true,
     "task": false
    }
   },
   "outputs": [],
   "source": [
    "phone_number = '+6016-7899287'\n",
    "\n",
    "#Replace the blanks below with appropriate expressions:\n",
    "area_code = _____\n",
    "### BEGIN SOLUTION\n",
    "# area_code = phone_number[1:3]\n",
    "### END SOLUTION"
   ]
  },
  {
   "cell_type": "markdown",
   "metadata": {
    "id": "ENq9iP9VS9Fj",
    "nbgrader": {
     "grade": false,
     "grade_id": "cell-c031045634261f16",
     "locked": true,
     "schema_version": 3,
     "solution": false,
     "task": false
    }
   },
   "source": [
    "## Python string search method: `find()`, `replace()`\n",
    "\n",
    "### `find()` method\n",
    "\n",
    "The `find()` method searches a given string for a shorter substring and returns the position of the substring in the string.\n",
    "\n",
    "**Example**\n",
    "\n",
    "Run the code cell below, which returns the position of the period (`.`) in the filename 'mymovie.mp4'."
   ]
  },
  {
   "cell_type": "code",
   "execution_count": null,
   "metadata": {
    "id": "2djpDsC5S9Fj"
   },
   "outputs": [],
   "source": [
    "filename = 'mymovie.mp4'\n",
    "\n",
    "filename.find('.')"
   ]
  },
  {
   "cell_type": "markdown",
   "metadata": {
    "id": "zQaLv3MPS9Fk",
    "nbgrader": {
     "grade": false,
     "grade_id": "cell-d7a1a751991f4f7f",
     "locked": true,
     "schema_version": 3,
     "solution": false,
     "task": false
    }
   },
   "source": [
    "Q6: The period (`.`) is the 8th character. Why is the value of `position` equal to 7, and not 8?"
   ]
  },
  {
   "cell_type": "markdown",
   "metadata": {
    "id": "BOpb4LerS9Fk",
    "nbgrader": {
     "grade": false,
     "grade_id": "cell-abd52bc4e7f3963b",
     "locked": true,
     "schema_version": 3,
     "solution": false,
     "task": false
    }
   },
   "source": [
    "### `replace()` method\n",
    "\n",
    "The `replace()` method searches a given string for a shorter substring and replaces it with a different substring.\n",
    "\n",
    "**Example**\n",
    "\n",
    "Run the code cell below, which replaces the filename extension \".mov\" with \".mp4\"."
   ]
  },
  {
   "cell_type": "code",
   "execution_count": null,
   "metadata": {
    "id": "5wYzZT9zS9Fk"
   },
   "outputs": [],
   "source": [
    "filename = 'mymovie.mov'\n",
    "\n",
    "filename.replace('.mov','.mp4')"
   ]
  },
  {
   "cell_type": "markdown",
   "metadata": {
    "id": "Q3dOmezdS9Fk",
    "nbgrader": {
     "grade": false,
     "grade_id": "cell-80c354fd5ee010c2",
     "locked": true,
     "schema_version": 3,
     "solution": false,
     "task": false
    }
   },
   "source": [
    "**Fill-in-the-blanks: splitting address into state and postal code**\n",
    "\n",
    "In the code cell below, replace the blanks (`_____`) with appropriate methods or values so that the code extracts the state and postal code information from the address string.\n",
    "\n",
    "Your code should work with the following address strings as well:\n",
    "\n",
    "- 'Chicago 86484'\n",
    "- 'Massachusett 43865'"
   ]
  },
  {
   "cell_type": "code",
   "execution_count": null,
   "metadata": {
    "id": "e38Vx4b9S9Fk",
    "nbgrader": {
     "grade": true,
     "grade_id": "cell-230b6c048283d8af",
     "locked": false,
     "points": 3,
     "schema_version": 3,
     "solution": true,
     "task": false
    },
    "scrolled": false
   },
   "outputs": [],
   "source": [
    "address_string = 'Oregon 90221'\n",
    "\n",
    "# Extract the position of the space in the address string\n",
    "space_pos = address_string._____(_____)\n",
    "#Complete the code below using string slicing\n",
    "state = address_string[_____]\n",
    "print('State:',state)\n",
    "postal_code = address_string[_____]\n",
    "print('Postal Code:',postal_code)\n",
    "### BEGIN SOLUTION\n",
    "# space_pos = address_string.find(' ')\n",
    "# state = address_string[:space_pos]\n",
    "# postal_code = address_string[space_pos+1:]\n",
    "### END SOLUTION"
   ]
  },
  {
   "cell_type": "markdown",
   "metadata": {
    "id": "KbG5phvJS9Fl",
    "nbgrader": {
     "grade": false,
     "grade_id": "cell-9f7f0e50844fdfb2",
     "locked": true,
     "schema_version": 3,
     "solution": false,
     "task": false
    }
   },
   "source": [
    "**Modify the code: print state in UPPERCASE**\n",
    "\n",
    "Modify the code in the cell above so that the state is printed in UPPERCASE."
   ]
  },
  {
   "cell_type": "markdown",
   "metadata": {
    "id": "A6AfBeRpS9Fl",
    "nbgrader": {
     "grade": false,
     "grade_id": "cell-5089c7c446f0d8f4",
     "locked": true,
     "schema_version": 3,
     "solution": false,
     "task": false
    }
   },
   "source": [
    "**Task: print address string with a comma**\n",
    "\n",
    "In the cell below, use an appropriate string method to print the address string with a comma.\n",
    "\n",
    "e.g. from `'Oregon 90221'` to `'Oregon, 90221'`"
   ]
  },
  {
   "cell_type": "code",
   "execution_count": null,
   "metadata": {
    "id": "1TVdVM58S9Fl",
    "nbgrader": {
     "grade": true,
     "grade_id": "cell-65b9619de8ea8f5b",
     "locked": false,
     "points": 1,
     "schema_version": 3,
     "solution": true,
     "task": false
    }
   },
   "outputs": [],
   "source": [
    "address_string = 'Oregon 90221'\n",
    "\n",
    "# Replace the blanks below with appropriate expressions\n",
    "# to print the address string with a comma\n",
    "print(address_string._____)\n",
    "### BEGIN SOLUTION\n",
    "# print(address_string.replace(' ',','))\n",
    "### END SOLUTION"
   ]
  },
  {
   "cell_type": "markdown",
   "metadata": {
    "id": "EZFT2t8NS9Fl",
    "nbgrader": {
     "grade": false,
     "grade_id": "cell-c911a964226a38bb",
     "locked": true,
     "schema_version": 3,
     "solution": false,
     "task": false
    }
   },
   "source": [
    "## Python Self-Help: the `dir()` function\n",
    "\n",
    "The `dir()` function lets you examine a Python object and find out what methods and attributes it has. Attributes will be covered in the lesson on Object-Oriented Programming.\n",
    "\n",
    "Run the code cell below for an example of how to use the `dir()` function."
   ]
  },
  {
   "cell_type": "code",
   "execution_count": null,
   "metadata": {
    "id": "D5xNzUY8S9Fl"
   },
   "outputs": [],
   "source": [
    "string = 'a string'\n",
    "dir(string)"
   ]
  },
  {
   "cell_type": "markdown",
   "metadata": {
    "id": "6Q5nuKUvS9Fl",
    "nbgrader": {
     "grade": false,
     "grade_id": "cell-983a6f4713b0ceb1",
     "locked": true,
     "schema_version": 3,
     "solution": false,
     "task": false
    }
   },
   "source": [
    "You will see that strings have many methods associated with them."
   ]
  },
  {
   "cell_type": "markdown",
   "metadata": {
    "id": "38_xWGCgS9Fl",
    "nbgrader": {
     "grade": false,
     "grade_id": "cell-c05eef7756e5b3fd",
     "locked": true,
     "schema_version": 3,
     "solution": false,
     "task": false
    }
   },
   "source": [
    "### Special methods\n",
    "Some of them start and end with a double-underscore (`__`). These are special methods that will be covered in the lesson on Object-Oriented Programming.\n",
    "\n",
    "### Normal methods\n",
    "Of the other methods, those without double-underscores, some you have just learnt above. And some you have not used before. We will not learn to use all the methods; if you wish to find out how they work, you can search online for examples of how to use them."
   ]
  },
  {
   "cell_type": "markdown",
   "metadata": {
    "id": "bsQPW3NNS9Fm",
    "nbgrader": {
     "grade": false,
     "grade_id": "cell-30161239cbb9c214",
     "locked": true,
     "schema_version": 3,
     "solution": false,
     "task": false
    }
   },
   "source": [
    "**Task: examine the output type from dir('a string')**\n",
    "\n",
    "Write program code in the code cell below to examine the **type** of data returned from the `dir()` function . What type is it?"
   ]
  },
  {
   "cell_type": "code",
   "execution_count": null,
   "metadata": {
    "id": "aftd8By_S9Fm",
    "nbgrader": {
     "grade": true,
     "grade_id": "cell-d63f1acf497dfe86",
     "locked": false,
     "points": 1,
     "schema_version": 3,
     "solution": true,
     "task": false
    }
   },
   "outputs": [],
   "source": [
    "# Write code below to examine the type of data returned\n",
    "# from the dir() function\n",
    "\n",
    "### BEGIN SOLUTION\n",
    "# type(dir())\n",
    "# or\n",
    "# print(type(dir()))\n",
    "### END SOLUTION"
   ]
  },
  {
   "cell_type": "markdown",
   "metadata": {
    "id": "HX4LLiatS9Fm",
    "nbgrader": {
     "grade": false,
     "grade_id": "cell-f30795d04579f224",
     "locked": true,
     "schema_version": 3,
     "solution": false,
     "task": false
    }
   },
   "source": [
    "If you need a quick revision on how to use the known methods, you can use the `help()` function.\n",
    "\n",
    "## Python Self-Help: the `help()` function\n",
    "\n",
    "Use the `help()` function to get a quick hint on how to use a function or method.\n",
    "\n",
    "Run the code cell below for an example of how to get help on the `isalpha()` method. Notice that you can invoke the method without uaving to use a variable. So you can also use `'a string'.isalpha()` to check if `'a string'` consists entirely of letters."
   ]
  },
  {
   "cell_type": "code",
   "execution_count": null,
   "metadata": {
    "id": "ttEvTrffS9Fm",
    "scrolled": true
   },
   "outputs": [],
   "source": [
    "help('a string'.isalpha)"
   ]
  },
  {
   "cell_type": "markdown",
   "metadata": {
    "id": "dUrbciSOS9Fm",
    "nbgrader": {
     "grade": false,
     "grade_id": "cell-04c113f5ebe565b8",
     "locked": true,
     "schema_version": 3,
     "solution": false,
     "task": false
    }
   },
   "source": [
    "Q7: The variable passed to the `help()` function does not include the parentheses. Can you explain why?"
   ]
  },
  {
   "cell_type": "markdown",
   "metadata": {
    "id": "jm8uv33TS9Fm",
    "nbgrader": {
     "grade": false,
     "grade_id": "cell-4c92dd0f13fc7032",
     "locked": true,
     "schema_version": 3,
     "solution": false,
     "task": false
    }
   },
   "source": [
    "**Task: get help for the `count()` string method**\n",
    "\n",
    "In the code cell below, write code to get help with using the `count()` string method. Run the code cell."
   ]
  },
  {
   "cell_type": "code",
   "execution_count": null,
   "metadata": {
    "id": "Vh-wFFIxS9Fm",
    "nbgrader": {
     "grade": true,
     "grade_id": "cell-412b741416de7749",
     "locked": false,
     "points": 1,
     "schema_version": 3,
     "solution": true,
     "task": false
    }
   },
   "outputs": [],
   "source": [
    "# Write code below to get help with the count() method\n",
    "\n",
    "### BEGIN SOLUTION\n",
    "# help(count)\n",
    "# or\n",
    "# print(help(count))\n",
    "### END SOLUTION"
   ]
  },
  {
   "cell_type": "markdown",
   "metadata": {
    "id": "9-DIijfCS9Fn",
    "nbgrader": {
     "grade": false,
     "grade_id": "cell-cf82459dccf13360",
     "locked": true,
     "schema_version": 3,
     "solution": false,
     "task": false
    }
   },
   "source": [
    "\n",
    "\n",
    "**Task: compare methods and their outputs**\n",
    "\n",
    "In the code cell below, using the `type()` function, examine the output of `'a string'.isalpha` and `'a string'.isalpha()`."
   ]
  },
  {
   "cell_type": "code",
   "execution_count": null,
   "metadata": {
    "id": "iy2sMVsQS9Fn"
   },
   "outputs": [],
   "source": [
    "# Examine 'a string'.isalpha and 'a string'.isalpha() using\n",
    "# the type() function\n",
    "\n"
   ]
  },
  {
   "cell_type": "markdown",
   "metadata": {
    "id": "VrybXjKHS9Fn",
    "nbgrader": {
     "grade": false,
     "grade_id": "cell-4a1e471c6905ac65",
     "locked": true,
     "schema_version": 3,
     "solution": false,
     "task": false
    }
   },
   "source": [
    "Q8: What is the difference between the two outputs?"
   ]
  },
  {
   "cell_type": "markdown",
   "metadata": {
    "id": "w_TkQ6b9S9Fn",
    "nbgrader": {
     "grade": false,
     "grade_id": "cell-0aff368d7e23d3db",
     "locked": true,
     "schema_version": 3,
     "solution": false,
     "task": false
    }
   },
   "source": [
    "## Errors in Python: `TypeError`\n",
    "\n",
    "When you give the wrong data type to a function, Python will halt and raise a `TypeError`.\n",
    "\n",
    "In the cell below, try to raise a `TypeError` by invoking an operation, a function, or method and giving it the wrong data type."
   ]
  },
  {
   "cell_type": "code",
   "execution_count": null,
   "metadata": {
    "id": "LHbK17CsS9Fo",
    "nbgrader": {
     "grade": true,
     "grade_id": "cell-4a38d66a15bb806c",
     "locked": false,
     "points": 1,
     "schema_version": 3,
     "solution": true,
     "task": false
    }
   },
   "outputs": [],
   "source": [
    "## Try to raise a TypeError\n",
    "\n",
    "### BEGIN SOLUTION\n",
    "# 0+''\n",
    "# or\n",
    "# any operation that returns TypeError\n",
    "### END SOLUTION"
   ]
  }
 ],
 "metadata": {
  "celltoolbar": "Create Assignment",
  "colab": {
   "collapsed_sections": [
    "LGw3pg0_S9Fd",
    "aLqsBOstS9Fe",
    "jKFCZWzzS9Ff",
    "XG6xoLNoS9Fg",
    "o9n34u_4S9Fg",
    "22FJe9GVS9Fk",
    "BOpb4LerS9Fk",
    "38_xWGCgS9Fl",
    "cYWx7jVDS9Fm",
    "Kb6n8SKsS9Fn"
   ],
   "name": "Lesson 2 - Basic Data Manipulation.ipynb",
   "provenance": [
    {
     "file_id": "https://github.com/nyjc-computing/intro-to-python/blob/main/Lessons-Basic/lesson_02.ipynb",
     "timestamp": 1622479302345
    }
   ]
  },
  "kernelspec": {
   "display_name": "Python 3",
   "language": "python",
   "name": "python3"
  },
  "language_info": {
   "codemirror_mode": {
    "name": "ipython",
    "version": 3
   },
   "file_extension": ".py",
   "mimetype": "text/x-python",
   "name": "python",
   "nbconvert_exporter": "python",
   "pygments_lexer": "ipython3",
   "version": "3.6.4"
  },
  "vscode": {
   "interpreter": {
    "hash": "f4e9cda46bb2d9d7fe6ecdff0f8336a934348bf06cb492f2f42f60739b3403b4"
   }
  }
 },
 "nbformat": 4,
 "nbformat_minor": 1
}
