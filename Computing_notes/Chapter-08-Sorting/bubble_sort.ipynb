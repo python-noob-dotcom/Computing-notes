{
 "cells": [
  {
   "cell_type": "markdown",
   "metadata": {},
   "source": [
    "### Bubble sort\n",
    "- In bubble sort, the logic is to use 2 loops / 1 loop and 1 recursive call to sort all the elements\n",
    "- Even in the optimised version, we still use this logic, but use a flag to determine if the elements after are sorted\n",
    "- This makes the time complexity of unoptimised bubble sort for the worst and average case O(n^2), as we have to iterate thru all the elements twice\n",
    "- The average case where all the elements are sorted, the time complexity of the:\n",
    "    1. Optimised bubble sort O(n), since you still have to iterate through the entire array once\n",
    "        - for the best case, its O(1)\n",
    "    2. Unoptimised bubble sort O(n^2), since you still iterate through the entire array twice\n",
    "        - Similarly, the best case is O(1)"
   ]
  },
  {
   "cell_type": "markdown",
   "metadata": {},
   "source": [
    "#### Unoptimised bubble sort"
   ]
  },
  {
   "cell_type": "markdown",
   "metadata": {},
   "source": [
    "Why is it unoptimised? even if the elements in the array have been sorted, the algorithm still loops through them\n",
    "So, you loop through the entire array twice, literally"
   ]
  },
  {
   "cell_type": "code",
   "execution_count": null,
   "metadata": {},
   "outputs": [],
   "source": [
    "def stupid_bubble_sort(array):\n",
    "\n",
    "    for i in range(len(array)):\n",
    "\n",
    "        # Here there is no flag to keep track if something has been sorted or not\n",
    "        \n",
    "        for j in range(len(array) - i - 1, len(array) - 1):\n",
    "            print(array)\n",
    "            if array[j] > array[j + 1]:\n",
    "                array[j], array[j + 1] = array[j + 1], array[j]\n",
    "\n",
    "    return array\n"
   ]
  },
  {
   "cell_type": "markdown",
   "metadata": {},
   "source": [
    "#### Optimised bubble sort"
   ]
  },
  {
   "cell_type": "markdown",
   "metadata": {},
   "source": [
    "Why is this optimised? The algorithm terminates the specific iteration once it detects that there is no swaps in that iteration, i.e. the elements beyond are already sorted, and goes on to the next iteration"
   ]
  },
  {
   "cell_type": "code",
   "execution_count": null,
   "metadata": {},
   "outputs": [],
   "source": [
    "def bubble_sort_version_2(array, reverse= False):\n",
    "\n",
    "    passes = 0\n",
    "    if not reverse:\n",
    "        for i in range(len(array) - 1): # for i in range length of list - 1 --> dont need to check the last element\n",
    "\n",
    "            noSwaps = True\n",
    "            # Size of problem decreases by 1 every time\n",
    "            for j in range(len(array) - 1 - i):\n",
    "                \n",
    "                if array[j] > array[j + 1]:\n",
    "                    array[j], array[j + 1] = array[j + 1], array[j]\n",
    "                    noSwaps= False\n",
    "                \n",
    "            passes += 1\n",
    "            if noSwaps:\n",
    "                break\n",
    "    else:\n",
    "        for i in range(len(array) - 1): # for i in range length of list - 1 --> dont need to check the last element\n",
    "\n",
    "            noSwaps= True\n",
    "            # Size of problem decreases by 1 every time\n",
    "            for j in range(len(array) - 1 - i):\n",
    "                passes += 1\n",
    "                if array[j] < array[j + 1]:\n",
    "                    array[j], array[j + 1] = array[j + 1], array[j]\n",
    "                    noSwaps = False\n",
    "\n",
    "            passes += 1\n",
    "            if noSwaps:\n",
    "                break\n",
    "    \n",
    "    print(f'Sorted after {passes} passes')\n",
    "    return array"
   ]
  },
  {
   "cell_type": "markdown",
   "metadata": {},
   "source": [
    "#### Optimised and recursive bubble sort"
   ]
  },
  {
   "cell_type": "markdown",
   "metadata": {},
   "source": [
    "Does the same thing as the optimised bubble sort, but is made recursively"
   ]
  },
  {
   "cell_type": "code",
   "execution_count": null,
   "metadata": {},
   "outputs": [],
   "source": [
    "def bubble_sort_recursive(arr, arr_size):\n",
    "\n",
    "    # Base case here is if the array is of size 1\n",
    "    if arr_size == 1:\n",
    "        return arr\n",
    "    \n",
    "    # The same logic applies here, the element that have been sorted dont need to be sorted again\n",
    "    # e.g. [2, 1, 4, 3, 5, 6]\n",
    "    # In this case above, the elements 5 and 6 can be ignored\n",
    "    # So we dont need to sort these\n",
    "\n",
    "    for i in range(len(arr) - 1):\n",
    "        if arr[i] > arr[i + 1]:\n",
    "            arr[i], arr[i + 1] = arr[i + 1], arr[i]\n",
    "\n",
    "    return bubble_sort_recursive(arr, arr_size - 1) # Problem size decreases by 1 each time. Read the logic above"
   ]
  }
 ],
 "metadata": {
  "language_info": {
   "name": "python"
  },
  "orig_nbformat": 4
 },
 "nbformat": 4,
 "nbformat_minor": 2
}
