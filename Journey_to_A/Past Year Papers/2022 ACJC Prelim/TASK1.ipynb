{
 "cells": [
  {
   "cell_type": "code",
   "execution_count": null,
   "metadata": {},
   "outputs": [],
   "source": [
    "import random\n",
    "\n",
    "def get_word(filename):\n",
    "    with open(filename) as f:\n",
    "        data = [line.strip() for line in f]\n",
    "        \n",
    "    return random.choice(data)\n",
    "\n",
    "print(get_word('words.txt'))"
   ]
  }
 ],
 "metadata": {
  "kernelspec": {
   "display_name": "Python 3",
   "language": "python",
   "name": "python3"
  },
  "language_info": {
   "name": "python",
   "version": "3.7.7"
  }
 },
 "nbformat": 4,
 "nbformat_minor": 2
}
