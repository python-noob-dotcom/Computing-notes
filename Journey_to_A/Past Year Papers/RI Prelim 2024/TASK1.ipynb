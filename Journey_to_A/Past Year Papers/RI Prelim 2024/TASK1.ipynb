{
 "cells": [
  {
   "cell_type": "code",
   "execution_count": 1,
   "metadata": {},
   "outputs": [],
   "source": [
    "import pymongo, json\n",
    "\n",
    "client = pymongo.MongoClient('127.0.0.1', 27017)\n",
    "\n",
    "shop = client['online_shop']\n",
    "products = shop['products']\n",
    "customers = shop['customers']\n",
    "orders = shop['orders']\n",
    "\n",
    "with open('./datafiles/PRODUCTS.json') as file:\n",
    "    data = json.load(file)\n",
    "\n",
    "    products.insert_many(data)\n",
    "\n",
    "with open('./datafiles/CUSTOMERS.json') as file:\n",
    "    data = json.load(file)\n",
    "    customers.insert_many(data)\n",
    "\n",
    "with open('./datafiles/ORDERS.json') as file:\n",
    "    data = json.load(file)\n",
    "    orders.insert_many(data)\n",
    "\n",
    "client.close()"
   ]
  },
  {
   "cell_type": "code",
   "execution_count": 5,
   "metadata": {},
   "outputs": [
    {
     "name": "stdout",
     "output_type": "stream",
     "text": [
      "{'_id': ObjectId('66bf3ae1fd188d63c0890446'),\n",
      " 'category': 'Books',\n",
      " 'model': 'Classic Edition',\n",
      " 'name': 'Novel: The Great Gatsby',\n",
      " 'price': 15,\n",
      " 'product_id': 11,\n",
      " 'stock': 50}\n",
      "{'_id': ObjectId('66bf3ae1fd188d63c0890447'),\n",
      " 'category': 'Books',\n",
      " 'model': '2020 Edition',\n",
      " 'name': 'Cookbook: The Joy of Cooking',\n",
      " 'price': 30,\n",
      " 'product_id': 12,\n",
      " 'stock': 30}\n"
     ]
    }
   ],
   "source": [
    "# Task 1.2\n",
    "\n",
    "import pymongo, json\n",
    "from pprint import pprint\n",
    "\n",
    "client = pymongo.MongoClient('127.0.0.1', 27017)\n",
    "\n",
    "shop = client['online_shop']\n",
    "products = shop['products']\n",
    "customers = shop['customers']\n",
    "orders = shop['orders']\n",
    "\n",
    "criteria = {'category': 'Books'}\n",
    "\n",
    "res = products.find(criteria)\n",
    "for row in res:\n",
    "    pprint(row)\n",
    "\n",
    "client.close()"
   ]
  },
  {
   "cell_type": "code",
   "execution_count": 10,
   "metadata": {},
   "outputs": [
    {
     "name": "stdout",
     "output_type": "stream",
     "text": [
      "{'_id': ObjectId('66bf3ae1fd188d63c0890450'),\n",
      " 'customer_id': 3,\n",
      " 'order_date': '2024-04-22',\n",
      " 'order_id': 4,\n",
      " 'products': [{'product_id': 5, 'quantity': 1},\n",
      "              {'product_id': 2, 'quantity': 1},\n",
      "              {'product_id': 6, 'quantity': 1}]}\n",
      "{'_id': ObjectId('66bf3ae1fd188d63c0890452'),\n",
      " 'customer_id': 3,\n",
      " 'order_date': '2024-06-18',\n",
      " 'order_id': 6,\n",
      " 'products': [{'product_id': 2, 'quantity': 1},\n",
      "              {'product_id': 1, 'quantity': 1}]}\n",
      "{'_id': ObjectId('66bf3ae1fd188d63c089045a'),\n",
      " 'customer_id': 3,\n",
      " 'order_date': '2024-08-15',\n",
      " 'order_id': 14,\n",
      " 'products': [{'product_id': 5, 'quantity': 2},\n",
      "              {'product_id': 8, 'quantity': 1}]}\n"
     ]
    }
   ],
   "source": [
    "# Task 1.2\n",
    "\n",
    "import pymongo, json\n",
    "from pprint import pprint\n",
    "\n",
    "client = pymongo.MongoClient('127.0.0.1', 27017)\n",
    "\n",
    "shop = client['online_shop']\n",
    "products = shop['products']\n",
    "customers = shop['customers']\n",
    "orders = shop['orders']\n",
    "\n",
    "criteria = {'name': 'Charles'}\n",
    "res = customers.find(criteria)\n",
    "\n",
    "id = customers.find(criteria)[0]['customer_id']\n",
    "\n",
    "criteria_2 = {'customer_id': id}\n",
    "for row in orders.find(criteria_2):\n",
    "    pprint(row)\n",
    "\n",
    "client.close()"
   ]
  },
  {
   "cell_type": "code",
   "execution_count": 18,
   "metadata": {},
   "outputs": [
    {
     "name": "stdout",
     "output_type": "stream",
     "text": [
      "Order ID  |Revenue   \n",
      "______________________________\n",
      "1         |800       \n",
      "______________________________\n",
      "2         |2500      \n",
      "______________________________\n",
      "3         |230       \n",
      "______________________________\n",
      "4         |1280      \n",
      "______________________________\n",
      "5         |350       \n",
      "______________________________\n",
      "6         |2000      \n",
      "______________________________\n",
      "7         |2180      \n",
      "______________________________\n",
      "8         |400       \n",
      "______________________________\n",
      "9         |5650      \n",
      "______________________________\n",
      "10        |1700      \n",
      "______________________________\n",
      "11        |2260      \n",
      "______________________________\n",
      "12        |4400      \n",
      "______________________________\n",
      "13        |2400      \n",
      "______________________________\n",
      "14        |660       \n",
      "______________________________\n",
      "15        |2250      \n"
     ]
    }
   ],
   "source": [
    "# Task 1.2\n",
    "\n",
    "import pymongo, json\n",
    "from pprint import pprint\n",
    "\n",
    "client = pymongo.MongoClient('127.0.0.1', 27017)\n",
    "\n",
    "shop = client['online_shop']\n",
    "products = shop['products']\n",
    "customers = shop['customers']\n",
    "orders = shop['orders']\n",
    "\n",
    "bought = []\n",
    "criteria = {}\n",
    "criteria_2 = {}\n",
    "print(f'{\"Order ID\":<10}|{\"Revenue\":<10}')\n",
    "for row in orders.find(criteria):\n",
    "    print('_'*30)\n",
    "    order_id = row['order_id']\n",
    "    revenue = 0\n",
    "    for prod in row['products']:\n",
    "        revenue += prod['quantity'] * products.find({'product_id': prod['product_id']})[0]['price']\n",
    "    print(f'{order_id:<10}|{revenue:<10}')\n",
    "\n",
    "client.close()"
   ]
  }
 ],
 "metadata": {
  "kernelspec": {
   "display_name": "computing",
   "language": "python",
   "name": "python3"
  },
  "language_info": {
   "codemirror_mode": {
    "name": "ipython",
    "version": 3
   },
   "file_extension": ".py",
   "mimetype": "text/x-python",
   "name": "python",
   "nbconvert_exporter": "python",
   "pygments_lexer": "ipython3",
   "version": "3.6.13"
  }
 },
 "nbformat": 4,
 "nbformat_minor": 2
}
