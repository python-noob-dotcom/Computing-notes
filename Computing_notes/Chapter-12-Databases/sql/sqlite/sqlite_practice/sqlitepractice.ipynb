{
 "cells": [
  {
   "cell_type": "code",
   "execution_count": 10,
   "metadata": {},
   "outputs": [],
   "source": [
    "with open('./TASK1_1.sql') as f:\n",
    "    statements = f.read().replace('\\n', '').replace('\\t', ' ').split(';')[:-1]\n",
    "\n",
    "import sqlite3\n",
    "\n",
    "with sqlite3.connect('./equipment.db') as conn:\n",
    "    cur = conn.cursor()\n",
    "\n",
    "    try:\n",
    "        for statement in statements:\n",
    "            cur.execute(statement)\n",
    "\n",
    "        conn.commit()\n",
    "        \n",
    "    except sqlite3.Error:\n",
    "        print('SQL error')\n",
    "        conn.rollback()\n",
    "\n",
    "    except:\n",
    "        print('Regular error')\n",
    "        conn.rollback()"
   ]
  },
  {
   "cell_type": "code",
   "execution_count": 41,
   "metadata": {},
   "outputs": [
    {
     "ename": "IntegrityError",
     "evalue": "UNIQUE constraint failed: Device.serial_number",
     "output_type": "error",
     "traceback": [
      "\u001b[1;31m---------------------------------------------------------------------------\u001b[0m",
      "\u001b[1;31mIntegrityError\u001b[0m                            Traceback (most recent call last)",
      "\u001b[1;32m~\\AppData\\Local\\Temp\\ipykernel_21256\\2025779783.py\u001b[0m in \u001b[0;36m<module>\u001b[1;34m\u001b[0m\n\u001b[0;32m     26\u001b[0m             \u001b[0mlap\u001b[0m\u001b[1;33m[\u001b[0m\u001b[1;36m0\u001b[0m\u001b[1;33m]\u001b[0m \u001b[1;33m=\u001b[0m \u001b[0mint\u001b[0m\u001b[1;33m(\u001b[0m\u001b[0mlap\u001b[0m\u001b[1;33m[\u001b[0m\u001b[1;36m0\u001b[0m\u001b[1;33m]\u001b[0m\u001b[1;33m)\u001b[0m\u001b[1;33m\u001b[0m\u001b[1;33m\u001b[0m\u001b[0m\n\u001b[0;32m     27\u001b[0m             \u001b[0mlap_2\u001b[0m \u001b[1;33m=\u001b[0m \u001b[0mtuple\u001b[0m\u001b[1;33m(\u001b[0m\u001b[0mlap\u001b[0m\u001b[1;33m)\u001b[0m\u001b[1;33m[\u001b[0m\u001b[1;33m:\u001b[0m\u001b[1;36m6\u001b[0m\u001b[1;33m]\u001b[0m\u001b[1;33m\u001b[0m\u001b[1;33m\u001b[0m\u001b[0m\n\u001b[1;32m---> 28\u001b[1;33m             \u001b[0mcur\u001b[0m\u001b[1;33m.\u001b[0m\u001b[0mexecute\u001b[0m\u001b[1;33m(\u001b[0m\u001b[0mstatement\u001b[0m\u001b[1;33m,\u001b[0m \u001b[0mlap_2\u001b[0m\u001b[1;33m)\u001b[0m\u001b[1;33m\u001b[0m\u001b[1;33m\u001b[0m\u001b[0m\n\u001b[0m\u001b[0;32m     29\u001b[0m             \u001b[0mcur\u001b[0m\u001b[1;33m.\u001b[0m\u001b[0mexecute\u001b[0m\u001b[1;33m(\u001b[0m\u001b[0mstatement_laptop\u001b[0m\u001b[1;33m,\u001b[0m \u001b[1;33m(\u001b[0m\u001b[0mlap\u001b[0m\u001b[1;33m[\u001b[0m\u001b[1;36m0\u001b[0m\u001b[1;33m]\u001b[0m\u001b[1;33m,\u001b[0m \u001b[0mfloat\u001b[0m\u001b[1;33m(\u001b[0m\u001b[0mlap\u001b[0m\u001b[1;33m[\u001b[0m\u001b[1;36m6\u001b[0m\u001b[1;33m]\u001b[0m\u001b[1;33m)\u001b[0m\u001b[1;33m)\u001b[0m\u001b[1;33m)\u001b[0m\u001b[1;33m\u001b[0m\u001b[1;33m\u001b[0m\u001b[0m\n\u001b[0;32m     30\u001b[0m \u001b[1;33m\u001b[0m\u001b[0m\n",
      "\u001b[1;31mIntegrityError\u001b[0m: UNIQUE constraint failed: Device.serial_number"
     ]
    }
   ],
   "source": [
    "import sqlite3\n",
    "\n",
    "with open('./LAPTOPS.txt') as laptops:\n",
    "    laptop = laptops.read().split('\\n')\n",
    "\n",
    "with open('./MONITORS.txt') as monitors:\n",
    "    monitor = monitors.read().split('\\n')\n",
    "\n",
    "with open('./PRINTERS.txt') as printers:\n",
    "    printer = printers.read().split('\\n')\n",
    "\n",
    "with sqlite3.connect('./equipment.db') as conn:\n",
    "\n",
    "    cur = conn.cursor()\n",
    "\n",
    "    try:\n",
    "        cur.execute('BEGIN TRANSACTION')\n",
    "        statement = 'INSERT INTO Device (serial_number, type, model, location, date_of_purchase, written_off) VALUES (?, ?, ?, ?, ?, ?)'\n",
    "        statement_monitor = 'INSERT INTO Monitor (serial_number, date_cleaned) VALUES (?, ?)'\n",
    "        statement_laptop = 'INSERT INTO Laptop (serial_number, weight_kg) VALUES (?, ?)'\n",
    "        statement_printer = 'INSERT INTO Printer (serial_number, toner, date_changed) VALUES (?, ?, ?)'\n",
    "\n",
    "        for lap in laptop[:-1]:\n",
    "            lap = lap.split(',')\n",
    "            lap.insert(1, 'Laptop')\n",
    "            lap[0] = int(lap[0])\n",
    "            lap_2 = tuple(lap)[:6]\n",
    "            cur.execute(statement, lap_2)\n",
    "            cur.execute(statement_laptop, (lap[0], float(lap[6])))\n",
    "\n",
    "        for mon in monitor[:-1]:\n",
    "            mon = mon.split(',')\n",
    "            mon.insert(1, 'Monitor')\n",
    "            mon[0] = int(mon[0])\n",
    "            mon_2 = tuple(mon)[:6]\n",
    "            cur.execute(statement, mon_2)\n",
    "            cur.execute(statement_monitor, (mon[0], mon[6]))\n",
    "\n",
    "        for prin in printer[:-1]:\n",
    "            prin = prin.split(',')\n",
    "            prin.insert(1, 'Printer')\n",
    "            prin[0] = int(prin[0])\n",
    "            prin_2 = tuple(prin)[:6]\n",
    "            cur.execute(statement, prin_2)\n",
    "            cur.execute(statement_printer, (prin[0], prin[6], prin[7]))\n",
    "\n",
    "        conn.commit()\n",
    "\n",
    "        \n",
    "\n",
    "    except sqlite3.Error:\n",
    "        print('Sql error')\n",
    "        conn.rollback()\n",
    "\n",
    "    except:\n",
    "        print('Error')\n",
    "        conn.rollback()\n"
   ]
  },
  {
   "cell_type": "code",
   "execution_count": 3,
   "metadata": {},
   "outputs": [
    {
     "name": "stdout",
     "output_type": "stream",
     "text": [
      "(11111, 'Make1', 'Office 11')\n",
      "(13498, 'Dill', 'Office 89')\n",
      "(14275, 'VG', 'Office 87')\n",
      "(22222, 'Make2', 'Office 12')\n",
      "(28939, 'VG', 'Office 74')\n",
      "(33213, 'Sammon', 'Office 94')\n",
      "(33333, 'Make3', 'Office 13')\n",
      "(41792, 'Dill', 'Office 74')\n",
      "(41928, 'VG', 'Office 99')\n",
      "(42172, 'Sammon', 'Office 48')\n",
      "(46384, 'Dill', 'Office 57')\n",
      "(58449, 'VG', 'Office 92')\n",
      "(60516, 'VG', 'Office 43')\n",
      "(72165, 'VG', 'Office 99')\n",
      "(77760, 'VG', 'Office 78')\n",
      "(78453, 'Dill', 'Office 95')\n",
      "(85237, 'Sammon', 'Office 38')\n",
      "(98791, 'Dill', 'Office 73')\n"
     ]
    }
   ],
   "source": [
    "# Task 1.3\n",
    "import sqlite3\n",
    "\n",
    "with open('./TASK1_3.sql') as statement:\n",
    "    query = statement.readline()\n",
    "\n",
    "with sqlite3.connect('./equipment.db') as conn:\n",
    "\n",
    "    cur =  conn.cursor()\n",
    "\n",
    "    res = cur.execute(query).fetchall()\n",
    "\n",
    "for r in res:\n",
    "    print(r)"
   ]
  },
  {
   "cell_type": "code",
   "execution_count": 7,
   "metadata": {},
   "outputs": [
    {
     "name": "stdout",
     "output_type": "stream",
     "text": [
      "Serial Number   | Type            | Office 11      \n",
      "______________________________________________________________________\n",
      "11111           | Monitor         | Office 11      \n"
     ]
    }
   ],
   "source": [
    "import sqlite3 \n",
    "\n",
    "with sqlite3.connect('./equipment.db') as conn:\n",
    "    cursor = conn.cursor()\n",
    "    location = input('What devices do you want from which office?: ')\n",
    "    statement = \"SELECT D.serial_number, Typ    e, Location FROM Device AS D WHERE D.Location = ?\"\n",
    "    res = cursor.execute(statement, (location,)).fetchall()\n",
    "\n",
    "    print(f\"{'Serial Number':<15} | {'Type':<15} | {location:<15}\")\n",
    "    print('_'*70)\n",
    "    for result in res:\n",
    "        print(f'{result[0]:<15} | {result[1]:<15} | {result[2]:<15}')"
   ]
  }
 ],
 "metadata": {
  "kernelspec": {
   "display_name": "Python 3",
   "language": "python",
   "name": "python3"
  },
  "language_info": {
   "codemirror_mode": {
    "name": "ipython",
    "version": 3
   },
   "file_extension": ".py",
   "mimetype": "text/x-python",
   "name": "python",
   "nbconvert_exporter": "python",
   "pygments_lexer": "ipython3",
   "version": "3.7.7"
  }
 },
 "nbformat": 4,
 "nbformat_minor": 2
}
