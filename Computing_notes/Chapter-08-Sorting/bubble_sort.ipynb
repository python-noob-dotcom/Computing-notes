{
 "cells": [
  {
   "cell_type": "markdown",
   "metadata": {},
   "source": [
    "### Bubble sort\n",
    "In bubble sort, the logic is to use 2 loops / 1 loop and 1 recursive call to sort all the elements\n",
    "- The first loop is as a tracker of sorts, to track the element that is to be sorted\n",
    "- The second loop then loops through the entire array again for the swapping of the elements <br><br>\n",
    "\n",
    "Take note that:\n",
    "1. Even in the optimised version, we still use this logic, but use a flag to determine if the elements after are sorted <br> <br>\n",
    "2. With regards to time complexity, for the unoptimised bubble sort, we still loop through the entire array twice, making it\n",
    "    - O(n^2) for the best, worst and average cases\n",
    "    - This is because there is no flag to determine if the elements beyond are already sorted! <br> <br>\n",
    "3. But for the optimised version of bubble sort, with a flag, the time complexity becomes\n",
    "    - O(n) for the best, worst and average case since you need to loop through the entire array at least once, but less times than the unoptimised version\n",
    "    \n",
    "        "
   ]
  },
  {
   "cell_type": "markdown",
   "metadata": {},
   "source": [
    "#### Unoptimised bubble sort"
   ]
  },
  {
   "cell_type": "markdown",
   "metadata": {},
   "source": [
    "Why is it unoptimised? even if the elements in the array have been sorted, the algorithm still loops through them\n",
    "So, you loop through the entire array twice, literally"
   ]
  },
  {
   "cell_type": "code",
   "execution_count": null,
   "metadata": {},
   "outputs": [],
   "source": [
    "def stupid_bubble_sort(array):\n",
    "\n",
    "    for i in range(len(array)):\n",
    "\n",
    "        # Here there is no flag to keep track if something has been sorted or not\n",
    "        \n",
    "        for j in range(len(array) - i - 1, len(array) - 1):\n",
    "            if array[j] > array[j + 1]:\n",
    "                array[j], array[j + 1] = array[j + 1], array[j]\n",
    "\n",
    "    return array\n"
   ]
  },
  {
   "cell_type": "markdown",
   "metadata": {},
   "source": [
    "#### Optimised bubble sort"
   ]
  },
  {
   "cell_type": "markdown",
   "metadata": {},
   "source": [
    "Why is this optimised? The algorithm terminates the specific iteration once it detects that there is no swaps in that iteration, i.e. the elements beyond are already sorted, and goes on to the next iteration"
   ]
  },
  {
   "cell_type": "code",
   "execution_count": 5,
   "metadata": {},
   "outputs": [
    {
     "name": "stdout",
     "output_type": "stream",
     "text": [
      "[5, 4, 3, 2, 1]\n",
      "[4, 5, 3, 2, 1]\n",
      "[4, 3, 5, 2, 1]\n",
      "[4, 3, 2, 5, 1]\n",
      "[4, 3, 2, 1, 5]\n",
      "[3, 4, 2, 1, 5]\n",
      "[3, 2, 4, 1, 5]\n",
      "[3, 2, 1, 4, 5]\n",
      "[2, 3, 1, 4, 5]\n",
      "[2, 1, 3, 4, 5]\n"
     ]
    },
    {
     "data": {
      "text/plain": [
       "[1, 2, 3, 4, 5]"
      ]
     },
     "execution_count": 5,
     "metadata": {},
     "output_type": "execute_result"
    }
   ],
   "source": [
    "def bubble_sort_optimised(array):\n",
    "    for i in range(len(array)):\n",
    "        noSwaps = True # This is the flag that we use to determine if there has been a swap or not\n",
    "\n",
    "        for j in range(len(array) - i - 1):\n",
    "            \n",
    "            if array[j] > array[j + 1]:\n",
    "                array[j], array[j + 1] = array[j + 1], array[j]\n",
    "                noSwaps = False\n",
    "        \n",
    "        if noSwaps:\n",
    "            break\n",
    "\n",
    "    return array\n",
    "\n",
    "bubble_sort_optimised([5, 4, 3, 2, 1])"
   ]
  },
  {
   "cell_type": "markdown",
   "metadata": {},
   "source": [
    "#### Optimised and recursive bubble sort"
   ]
  },
  {
   "cell_type": "markdown",
   "metadata": {},
   "source": [
    "Does the same thing as the optimised bubble sort, but is made recursively"
   ]
  },
  {
   "cell_type": "code",
   "execution_count": null,
   "metadata": {},
   "outputs": [],
   "source": [
    "def bubble_sort_recursive(arr, arr_size):\n",
    "\n",
    "    # Base case here is if the array is of size 1\n",
    "    if arr_size == 1:\n",
    "        return arr\n",
    "    \n",
    "    # The same logic applies here, the element that have been sorted dont need to be sorted again\n",
    "    # e.g. [2, 1, 4, 3, 5, 6]\n",
    "    # In this case above, the elements 5 and 6 can be ignored\n",
    "    # So we dont need to sort these\n",
    "\n",
    "    for i in range(len(arr) - 1):\n",
    "        if arr[i] > arr[i + 1]:\n",
    "            arr[i], arr[i + 1] = arr[i + 1], arr[i]\n",
    "\n",
    "    return bubble_sort_recursive(arr, arr_size - 1) # Problem size decreases by 1 each time. Read the logic above"
   ]
  }
 ],
 "metadata": {
  "kernelspec": {
   "display_name": "Python 3",
   "language": "python",
   "name": "python3"
  },
  "language_info": {
   "codemirror_mode": {
    "name": "ipython",
    "version": 3
   },
   "file_extension": ".py",
   "mimetype": "text/x-python",
   "name": "python",
   "nbconvert_exporter": "python",
   "pygments_lexer": "ipython3",
   "version": "3.6.4"
  },
  "orig_nbformat": 4
 },
 "nbformat": 4,
 "nbformat_minor": 2
}
