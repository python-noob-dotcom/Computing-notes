{
 "cells": [
  {
   "cell_type": "code",
   "execution_count": 1,
   "metadata": {},
   "outputs": [
    {
     "name": "stdout",
     "output_type": "stream",
     "text": [
      "Integer   Frequency      \n",
      "10        58             \n",
      "15        48             \n",
      "16        42             \n",
      "2         40             \n",
      "17        49             \n",
      "20        50             \n",
      "6         52             \n",
      "3         51             \n",
      "5         60             \n",
      "4         50             \n",
      "7         48             \n",
      "1         44             \n",
      "18        58             \n",
      "13        46             \n",
      "19        46             \n",
      "12        58             \n",
      "8         61             \n",
      "11        47             \n",
      "14        51             \n",
      "9         41             \n"
     ]
    }
   ],
   "source": [
    "import random\n",
    "\n",
    "def gen_lst():\n",
    "    return [random.randint(1, 20) for i in range(1000)]\n",
    "\n",
    "lst = gen_lst()\n",
    "freq = {}\n",
    "\n",
    "for num in lst:\n",
    "    if num not in freq.keys():\n",
    "        freq[num] = 1\n",
    "    else:\n",
    "        freq[num] += 1\n",
    "\n",
    "print(f'{\"Integer\":<10}{\"Frequency\":<15}')\n",
    "for num, frequency in freq.items():\n",
    "    print(f'{num:<10}{frequency:<15}')"
   ]
  },
  {
   "cell_type": "code",
   "execution_count": 2,
   "metadata": {},
   "outputs": [
    {
     "name": "stdout",
     "output_type": "stream",
     "text": [
      "Integer   Frequency      Diff In frequency   \n",
      "10        58             8                   \n",
      "15        48             -2                  \n",
      "16        42             -8                  \n",
      "2         40             -10                 \n",
      "17        49             -1                  \n",
      "20        50             0                   \n",
      "6         52             2                   \n",
      "3         51             1                   \n",
      "5         60             10                  \n",
      "4         50             0                   \n",
      "7         48             -2                  \n",
      "1         44             -6                  \n",
      "18        58             8                   \n",
      "13        46             -4                  \n",
      "19        46             -4                  \n",
      "12        58             8                   \n",
      "8         61             11                  \n",
      "11        47             -3                  \n",
      "14        51             1                   \n",
      "9         41             -9                  \n"
     ]
    }
   ],
   "source": [
    "expected_freq = 1000 // 20\n",
    "\n",
    "print(f'{\"Integer\":<10}{\"Frequency\":<15}{\"Diff In frequency\":<20}')\n",
    "for num, frequency in freq.items():\n",
    "    print(f'{num:<10}{frequency:<15}{frequency - expected_freq:<20}')"
   ]
  }
 ],
 "metadata": {
  "kernelspec": {
   "display_name": "Python 3",
   "language": "python",
   "name": "python3"
  },
  "language_info": {
   "codemirror_mode": {
    "name": "ipython",
    "version": 3
   },
   "file_extension": ".py",
   "mimetype": "text/x-python",
   "name": "python",
   "nbconvert_exporter": "python",
   "pygments_lexer": "ipython3",
   "version": "3.7.7"
  }
 },
 "nbformat": 4,
 "nbformat_minor": 2
}
