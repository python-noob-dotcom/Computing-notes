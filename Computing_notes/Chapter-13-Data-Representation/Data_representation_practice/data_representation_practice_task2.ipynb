{
 "cells": [
  {
   "cell_type": "code",
   "execution_count": 6,
   "metadata": {},
   "outputs": [
    {
     "name": "stdout",
     "output_type": "stream",
     "text": [
      "10 11\n"
     ]
    },
    {
     "data": {
      "text/plain": [
       "'110'"
      ]
     },
     "execution_count": 6,
     "metadata": {},
     "output_type": "execute_result"
    }
   ],
   "source": [
    "# Task 2.1\n",
    "def add_bin_iter(s1, s2):\n",
    "    s1 = str(s1)\n",
    "    s2 = str(s2)\n",
    "    \n",
    "    # check if need padding and add padding\n",
    "    if len(s1) < len(s2):\n",
    "        s1 = s1[::-1]\n",
    "        for i in range(len(s2) - len(s1)):\n",
    "            s1 += '0'\n",
    "        s1 = s1[::-1]\n",
    "\n",
    "    elif len(s1) > len(s2):\n",
    "        s2 = s2[::-1]\n",
    "        for i in range(len(s1) - len(s2)):\n",
    "            s2 += '0'\n",
    "        s2 = s2[::-1]\n",
    "\n",
    "    print(s1, s2)\n",
    "    # iteration\n",
    "    result = ''\n",
    "    carry = '0'\n",
    "    i = len(s1) - 1\n",
    "\n",
    "    while i != -1:\n",
    "        if s1[i] == '0':\n",
    "            if s2[i] == '0':\n",
    "                if carry == '0':\n",
    "                    result += '0'\n",
    "                    carry = '0'\n",
    "                else:\n",
    "                    result += '1'\n",
    "                    carry = '0'\n",
    "            else:\n",
    "                if carry == '0':\n",
    "                    result += '1'\n",
    "                    carry = '0'\n",
    "                else:\n",
    "                    result += '0'\n",
    "                    carry = '1'\n",
    "        else:\n",
    "            if s2[i] == '0':\n",
    "                if carry == '0':\n",
    "                    result += '1'\n",
    "                    carry = '0'\n",
    "                else:\n",
    "                    result += '0'\n",
    "                    carry = '1'\n",
    "            else:\n",
    "                if carry == '0':\n",
    "                    result += '0'\n",
    "                    carry = '1'\n",
    "                else:\n",
    "                    result += '1'\n",
    "                    carry = '1'\n",
    "\n",
    "        i -= 1\n",
    "\n",
    "    return carry + result       \n",
    "\n",
    "\n",
    "add_bin_iter(10, 11)\n"
   ]
  },
  {
   "cell_type": "code",
   "execution_count": 9,
   "metadata": {},
   "outputs": [
    {
     "data": {
      "text/plain": [
       "'101'"
      ]
     },
     "execution_count": 9,
     "metadata": {},
     "output_type": "execute_result"
    }
   ],
   "source": [
    "# Task 2.2\n",
    "def add_bin_recur(s1, s2):\n",
    "    s1 = str(s1)\n",
    "    s2 = str(s2)\n",
    "    if len(s1) == 1 and len(s2) == 1:\n",
    "        if s1 == '0':\n",
    "            if s2 == '0':\n",
    "                return '00'\n",
    "            else:\n",
    "                return '01'\n",
    "        else:\n",
    "            if s2 == '0':\n",
    "                return '01'\n",
    "            else:\n",
    "                return '10'\n",
    "\n",
    "    else:\n",
    "    # check if need padding and add padding\n",
    "        if len(s1) < len(s2):\n",
    "            s1 = s1[::-1]\n",
    "            for i in range(len(s2) - len(s1)):\n",
    "                s1 += '0'\n",
    "            s1 = s1[::-1]\n",
    "\n",
    "        elif len(s1) > len(s2):\n",
    "            s2 = s2[::-1]\n",
    "            for i in range(len(s1) - len(s2)):\n",
    "                s2 += '0'\n",
    "            s2 = s2[::-1]\n",
    "\n",
    "    s = add_bin_recur(s1[1:], s2[1:])\n",
    "\n",
    "    if s1[0] == '0':\n",
    "        if s2[0] == '0':\n",
    "            return '0' + s\n",
    "        else:\n",
    "            if s[0] == '0':\n",
    "                return '01' + s[1:]\n",
    "            else:\n",
    "                return '10' + s[1:]\n",
    "    else:\n",
    "        if s2[0] == '0':\n",
    "            if s[0] == '0':\n",
    "                return '01' + s[1:]\n",
    "            else:\n",
    "                return '10' + s[1:]  \n",
    "        else:\n",
    "            return '1' + s\n",
    "\n",
    "add_bin_recur(10, 11)         "
   ]
  },
  {
   "cell_type": "code",
   "execution_count": null,
   "metadata": {},
   "outputs": [],
   "source": [
    "# Task 2.3\n",
    "\n",
    "def main():\n",
    "    binary_in = input('Please enter a binary number')\n",
    "    binary_in_2 = input('Please enter another binary number')\n",
    "\n",
    "# Validation\n",
    "    if binary_in.isdecimal() and binary_in_2.isdecimal():\n",
    "        for char in binary_in:\n",
    "            if char not in ['0', '1']:\n",
    "                return 'Invalid input'\n",
    "            else:\n",
    "                pass\n",
    "        for char in binary_in_2:\n",
    "            if char not in ['0', '1']:\n",
    "                return 'Invalid input'\n",
    "            else:\n",
    "                pass\n",
    "\n",
    "    to_return = add_bin_iter(binary_in, binary_in_2)\n",
    "\n",
    "    if to_return[0] == '0':\n",
    "        return to_return.lstrip('0')\n",
    "    else:\n",
    "        return to_return\n",
    "    \n",
    "main()"
   ]
  },
  {
   "cell_type": "code",
   "execution_count": 14,
   "metadata": {},
   "outputs": [
    {
     "data": {
      "text/plain": [
       "3"
      ]
     },
     "execution_count": 14,
     "metadata": {},
     "output_type": "execute_result"
    }
   ],
   "source": [
    "def bin_to_denary(binary):\n",
    "    binary = str(binary)\n",
    "    total = 0\n",
    "\n",
    "    for i in range(len(binary)):\n",
    "        power = len(binary) - i - 1\n",
    "\n",
    "        if binary[i] == '0':\n",
    "            total += 0\n",
    "        else:\n",
    "            total += 2 ** power\n",
    "\n",
    "    return total\n",
    "\n",
    "bin_to_denary(11)\n"
   ]
  }
 ],
 "metadata": {
  "kernelspec": {
   "display_name": "Python 3",
   "language": "python",
   "name": "python3"
  },
  "language_info": {
   "codemirror_mode": {
    "name": "ipython",
    "version": 3
   },
   "file_extension": ".py",
   "mimetype": "text/x-python",
   "name": "python",
   "nbconvert_exporter": "python",
   "pygments_lexer": "ipython3",
   "version": "3.6.13"
  }
 },
 "nbformat": 4,
 "nbformat_minor": 2
}
