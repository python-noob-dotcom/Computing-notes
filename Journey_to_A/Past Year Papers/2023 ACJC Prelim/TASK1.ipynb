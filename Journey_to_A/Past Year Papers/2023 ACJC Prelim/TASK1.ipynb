{
 "cells": [
  {
   "cell_type": "code",
   "execution_count": 71,
   "metadata": {},
   "outputs": [
    {
     "data": {
      "text/plain": [
       "1000"
      ]
     },
     "execution_count": 71,
     "metadata": {},
     "output_type": "execute_result"
    }
   ],
   "source": [
    "def addition(s1, s2):\n",
    "    carry = 0\n",
    "    result = ''\n",
    "    if len(s1) > len(s2):\n",
    "        s2 = '0'*(len(s1) - len(s2)) + s2\n",
    "    elif len(s1) < len(s2):\n",
    "        s1 = '0'*(len(s2) - len(s1)) + s1\n",
    "\n",
    "    for i in range(len(s1) - 1, -1, -1):\n",
    "        digit1 = s1[i]\n",
    "        digit2 = s2[i]\n",
    "\n",
    "        column_sum = int(digit1) + int(digit2) + carry\n",
    "        result = str(column_sum)[-1] + result\n",
    "        if len(str(column_sum)) > 1:\n",
    "            carry = int(str(column_sum)[0])\n",
    "\n",
    "    if carry > 0:\n",
    "        result = str(carry) + result\n",
    "\n",
    "    return int(result)\n",
    "\n",
    "addition('999', '1')"
   ]
  },
  {
   "cell_type": "code",
   "execution_count": 72,
   "metadata": {},
   "outputs": [
    {
     "name": "stdout",
     "output_type": "stream",
     "text": [
      "True\n",
      "True\n",
      "True\n"
     ]
    }
   ],
   "source": [
    "print(addition('12','34') == 46) \n",
    "print(addition('1234','222') == 1456) \n",
    "print(addition('999','1') == 1000)"
   ]
  },
  {
   "cell_type": "code",
   "execution_count": 73,
   "metadata": {},
   "outputs": [
    {
     "data": {
      "text/plain": [
       "48566961"
      ]
     },
     "execution_count": 73,
     "metadata": {},
     "output_type": "execute_result"
    }
   ],
   "source": [
    "def karatsuba(s1, s2):\n",
    "    if len(s2) == 1 and len(s1) == 1:\n",
    "        return int(s2) * int(s1)\n",
    "\n",
    "    if len(s1) > len(s2):\n",
    "        s2 = '0'*(len(s1) - len(s2)) + s2\n",
    "    elif len(s1) < len(s2):\n",
    "        s1 = '0'*(len(s2) - len(s1)) + s1\n",
    "    \n",
    "    leng = len(s1)\n",
    "    mid = leng // 2\n",
    "    a = s1[:leng - mid]\n",
    "    b = s1[leng - mid:]\n",
    "    c = s2[:leng - mid]\n",
    "    d = s2[leng - mid:]\n",
    "\n",
    "    ac = str(karatsuba(a, c))\n",
    "    ad = str(karatsuba(a, d))\n",
    "    bc = str(karatsuba(b, c))\n",
    "    bd = str(karatsuba(b, d))\n",
    "\n",
    "    ac += 2 * mid * '0'\n",
    "    ad += mid * '0'\n",
    "    bc += mid * '0'\n",
    "\n",
    "    return int(ac) + int(ad) + int(bc) + int(bd)\n",
    "\n",
    "karatsuba('6969', '6969')"
   ]
  },
  {
   "cell_type": "code",
   "execution_count": 19,
   "metadata": {},
   "outputs": [
    {
     "name": "stdout",
     "output_type": "stream",
     "text": [
      "True\n",
      "True\n",
      "True\n"
     ]
    }
   ],
   "source": [
    "print(karatsuba('15','20') == 300) \n",
    "print(karatsuba('1234','22') == 27148) \n",
    "print(karatsuba('999','222') == 221778)"
   ]
  },
  {
   "cell_type": "code",
   "execution_count": 110,
   "metadata": {},
   "outputs": [
    {
     "name": "stdout",
     "output_type": "stream",
     "text": [
      "2978\n",
      "1902542810739968785940655645354101597984058462440178546320191625625600000000000\n"
     ]
    }
   ],
   "source": [
    "import random\n",
    "\n",
    "lst1 = [str(random.randint(1, 100)) for i in range(50)]\n",
    "total_sum = 0\n",
    "total_prod = 1\n",
    "\n",
    "for i in range(0, len(lst1) - 1, 2):\n",
    "    total_sum += addition(lst1[i], lst1[i + 1])\n",
    "\n",
    "for i in range(2, len(lst1)):\n",
    "    total_prod += karatsuba(lst1[i], str(total_prod))\n",
    "\n",
    "print(total_sum)\n",
    "print(total_prod)"
   ]
  }
 ],
 "metadata": {
  "kernelspec": {
   "display_name": "computing",
   "language": "python",
   "name": "python3"
  },
  "language_info": {
   "codemirror_mode": {
    "name": "ipython",
    "version": 3
   },
   "file_extension": ".py",
   "mimetype": "text/x-python",
   "name": "python",
   "nbconvert_exporter": "python",
   "pygments_lexer": "ipython3",
   "version": "3.6.13"
  }
 },
 "nbformat": 4,
 "nbformat_minor": 2
}
