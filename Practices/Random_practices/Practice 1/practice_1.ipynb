{
 "cells": [
  {
   "cell_type": "code",
   "execution_count": 25,
   "metadata": {},
   "outputs": [
    {
     "name": "stdout",
     "output_type": "stream",
     "text": [
      "['2017-08-23', '03:38', 'HIGH', '7.4']\n",
      "['2017-08-22', '22:11', 'LOW', '0.1']\n"
     ]
    }
   ],
   "source": [
    "# Task 1.1\n",
    "\n",
    "with open(r'D:\\computing-notes\\Computing-notes\\Practices\\Random_practices\\Practice 1\\TIDES.txt', 'r') as tides_data:\n",
    "    data = []\n",
    "    for line in tides_data:\n",
    "        data.append(line.strip('\\n').split('\\t'))\n",
    "\n",
    "print(max(data, key= lambda x: x[3]))\n",
    "print(min(data, key= lambda x: x[3]))"
   ]
  },
  {
   "cell_type": "code",
   "execution_count": 128,
   "metadata": {},
   "outputs": [
    {
     "name": "stdout",
     "output_type": "stream",
     "text": [
      "7.300000000000001 2017-08-23\n",
      "3.8 2017-08-31\n"
     ]
    }
   ],
   "source": [
    "# Task 1.2\n",
    "\n",
    "with open(r'D:\\computing-notes\\Computing-notes\\Practices\\Random_practices\\Practice 1\\TIDES.txt', 'r') as tides_data:\n",
    "    data = []\n",
    "    for line in tides_data:\n",
    "        data.append(line.strip('\\n').split('\\t'))\n",
    "\n",
    "largest_tidal = 0\n",
    "smallest_tidal = float('inf')\n",
    "\n",
    "for i in range(len(data) - 1):\n",
    "    curr_tide_diff = abs(float(data[i][3])- float(data[i + 1][3]))\n",
    "    second_tide = []\n",
    "    \n",
    "\n",
    "    if curr_tide_diff > largest_tidal:\n",
    "        largest_tidal = curr_tide_diff\n",
    "        largest_second_tide = data[i + 1][0]\n",
    "\n",
    "    elif curr_tide_diff < smallest_tidal:\n",
    "        smallest_tidal = curr_tide_diff\n",
    "        smallest_second_tide_date = data[i + 1][0]\n",
    "\n",
    "print(largest_tidal, largest_second_tide)\n",
    "print(smallest_tidal, smallest_second_tide_date)"
   ]
  }
 ],
 "metadata": {
  "kernelspec": {
   "display_name": "Python 3",
   "language": "python",
   "name": "python3"
  },
  "language_info": {
   "codemirror_mode": {
    "name": "ipython",
    "version": 3
   },
   "file_extension": ".py",
   "mimetype": "text/x-python",
   "name": "python",
   "nbconvert_exporter": "python",
   "pygments_lexer": "ipython3",
   "version": "3.6.4"
  },
  "orig_nbformat": 4
 },
 "nbformat": 4,
 "nbformat_minor": 2
}
