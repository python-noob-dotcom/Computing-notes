{
 "cells": [
  {
   "cell_type": "markdown",
   "metadata": {},
   "source": [
    "## <font color = white> Binary Search\n",
    "- Binary search assumes that the array you feed it is a sorted array\n",
    "- Similar to merge sort, binary search also uses a divide and conquer tactic to search for elements.\n",
    "- This makes the time complexity, for all three cases, best, worst and average case --> O(log n)"
   ]
  },
  {
   "cell_type": "code",
   "execution_count": null,
   "metadata": {},
   "outputs": [],
   "source": [
    "def binary_search(array, low, high, target):\n",
    "        \n",
    "    mid =  round(((low + high) / 2) + 0.1)\n",
    "\n",
    "    # Check if the range to search is valid (continuation case)\n",
    "    # Since we alter the low / high by using mid + 1 and mid - 1 respectively, there will be a point that either mid > high or low > mid\n",
    "    if high >= low:\n",
    "            \n",
    "        # If found, we return the index of the target\n",
    "        if array[mid] == target:\n",
    "            return mid\n",
    "\n",
    "        # Since binary search is implemented with the assumption that the array is sorted, if the middle of the array we\n",
    "        # are searching for is less than the numerical value of the target we are searching for, we search the upper half\n",
    "        # of the array, vice versa\n",
    "        if array[mid] < target:\n",
    "            return binary_search(array, mid + 1, high, target)\n",
    "        \n",
    "        else:\n",
    "            return binary_search(array, low, mid - 1, target)\n",
    "            \n",
    "    return -1\n",
    "\n",
    "stuff = [1, 2, 2, 3, 3, 4, 5]\n",
    "binary_search(stuff, 0, len(stuff) - 1, 3)\n"
   ]
  },
  {
   "cell_type": "markdown",
   "metadata": {},
   "source": [
    "Since binary search is not originally designed to handle non-unique elements, the code below allows you to find non unique elements <br> <br>\n",
    "\n",
    "This is done by \n",
    "1. Rather than just returning the mid, we continue searching the left half and the right half of the arrays, till low > high.\n",
    "    - That is where a empty list is returned as the base case, where there is no elements found <br> <br>\n",
    "2. Returning a list of the 'mids' rather than just the mid itself. This allows all the lists to be concatenated at the first call,\n",
    "and then returned as the entire list"
   ]
  },
  {
   "cell_type": "code",
   "execution_count": null,
   "metadata": {},
   "outputs": [],
   "source": [
    "def binary_search(arr, target, low, high):\n",
    "    mid = (low + high) // 2\n",
    "\n",
    "    # Base case, if 0 < mid, or mid > high\n",
    "    if low > high:\n",
    "        return []\n",
    "    \n",
    "    if arr[mid] == target:\n",
    "        # Continue searching the left portion of the array for any duplicates\n",
    "        left = binary_search(arr, target, low, mid - 1)\n",
    "\n",
    "        # Continue searching the right portion of the array for any duplicates\n",
    "        right = binary_search(arr, target, mid + 1, high)\n",
    "\n",
    "        # At the end, return all the occurences found.\n",
    "        result = left + [mid] + right \n",
    "        return result\n",
    "        \n",
    "    if arr[mid] < target:\n",
    "        return binary_search(arr, target, mid + 1, high)\n",
    "    else:\n",
    "        return binary_search(arr, target, low, mid - 1)\n",
    "    \n",
    "binary_search([1, 2, 2, 2, 2, 3, 4, 5, 6], 9, 0, 8)"
   ]
  }
 ],
 "metadata": {
  "language_info": {
   "name": "python"
  },
  "orig_nbformat": 4
 },
 "nbformat": 4,
 "nbformat_minor": 2
}
