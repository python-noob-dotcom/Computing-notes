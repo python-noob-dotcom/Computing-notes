{
 "cells": [
  {
   "cell_type": "code",
   "execution_count": null,
   "id": "9c72aad6",
   "metadata": {},
   "outputs": [],
   "source": [
    "import sqlite3\n",
    "\n",
    "with open('./SALES.txt', 'r') as sales:\n",
    "    sale = []\n",
    "    for line in sales:\n",
    "        sale += [line.strip().split(',')]\n",
    "        \n",
    "with open('./TECH.txt', 'r') as techs:\n",
    "    tech = []\n",
    "    for line in techs:\n",
    "        tech += [line.strip().split(',')]\n",
    "\n",
    "with sqlite3.connection('./records.db') as conn:\n",
    "    cursor = conn.cursor()\n",
    "    \n",
    "    cursor.execute('BEGIN TRANSACTION')\n",
    "    \n",
    "    for employee in sales:\n",
    "        cursor.execute(\"INSERT INTO Employee VALUES (?, ?, 'Sales', ?, ?)\", (employee[1], employee[0], employee[2], employee[3]))\n",
    "        cursor.execute(\"INSERT INTO Sales VALUES (?, ?)\", (employee[0], int(employee[4])))\n",
    "    \n",
    "    for employee in tech:\n",
    "        cursor.execute(\"INSERT INTO Employee VALUES (?, ?, 'Tech', ?, ?)\", (employee[1], employee[0], employee[2], employee[3]))\n",
    "        cursor.execute(\"INSERT INTO Sales VALUES (?, ?)\", (employee[0], int(employee[4])))\n",
    "    \n",
    "    conn.commit()"
   ]
  },
  {
   "cell_type": "code",
   "execution_count": null,
   "id": "bacbd541",
   "metadata": {},
   "outputs": [],
   "source": [
    "import flask\n",
    "from flask import url_for\n",
    "import sqlite3\n",
    "\n",
    "app = flask.Flask(__name__)\n",
    "\n",
    "@app.route('/', methods = ['GET', 'POST'])\n",
    "\n",
    "def landing():\n",
    "    if flask.request.method == 'GET':\n",
    "        return flask.render_template('TASK4_3_EUGENE_ANG.html')\n",
    "    \n",
    "    status = flask.request.form['record_type']\n",
    "    with sqlite3.connect('./records.db') as conn:\n",
    "        cursor = conn.cursor()\n",
    "        \n",
    "        if status not in ['Current', 'Left']:\n",
    "            return 'error'\n",
    "\n",
    "        if status == 'Current':\n",
    "            results = cursor.execute('SELECT Emp_name, status FROM Employee WHERE Employee.status = \"Current\"')\n",
    "        else:\n",
    "            results = cursor.execute('SELECT Emp_name, status FROM Employee WHERE Employee.status = \"Left\"')\n",
    "        result =  results.fetchall()\n",
    "            \n",
    "    string = ''\n",
    "    string += f'{\"Name\":<10}|{\"Status\":<10}\\n'\n",
    "    string += '_'*20 + '\\n'\n",
    "    \n",
    "    for record in result:\n",
    "        string += f'{record[0]:<10}|{record[1]:<10}\\n'\n",
    "    return string\n",
    "    \n",
    "    \n",
    "if __name__ == '__main__':\n",
    "    app.run(port = 888, debug = True)\n",
    "    \n",
    "    \n"
   ]
  },
  {
   "cell_type": "code",
   "execution_count": 5,
   "id": "80df4d98",
   "metadata": {},
   "outputs": [
    {
     "name": "stdout",
     "output_type": "stream",
     "text": [
      "Name      |Status    \n",
      "____________________\n",
      "John      |Current   \n",
      "Sheldon   |Current   \n",
      "Peter     |Current   \n",
      "Kristal   |Current   \n",
      "Leonard   |Current   \n",
      "Raj       |Current   \n",
      "Amy       |Current   \n",
      "Bernardette|Current   \n",
      "Leslie    |Current   \n",
      "\n"
     ]
    }
   ],
   "source": [
    "import sqlite3\n",
    "status = 'Current'\n",
    "with sqlite3.connect('./records.db') as conn:\n",
    "    cursor = conn.cursor()\n",
    "\n",
    "    if status not in ['Current', 'Left']:\n",
    "        print('error')\n",
    "\n",
    "    if status == 'Current':\n",
    "        results = cursor.execute('SELECT Emp_name, status FROM Employee WHERE Employee.status = \"Current\"')\n",
    "    else:\n",
    "        results = cursor.execute('SELECT Emp_name, status FROM Employee WHERE Employee.status = \"Left\"')\n",
    "    result =  results.fetchall()\n",
    "\n",
    "string = ''\n",
    "string += f'{\"Name\":<10}|{\"Status\":<10}\\n'\n",
    "string += '_'*20 + '\\n'\n",
    "\n",
    "for record in result:\n",
    "    string += f'{record[0]:<10}|{record[1]:<10}\\n'\n",
    "print(string)"
   ]
  }
 ],
 "metadata": {
  "kernelspec": {
   "display_name": "Python 3 (ipykernel)",
   "language": "python",
   "name": "python3"
  },
  "language_info": {
   "codemirror_mode": {
    "name": "ipython",
    "version": 3
   },
   "file_extension": ".py",
   "mimetype": "text/x-python",
   "name": "python",
   "nbconvert_exporter": "python",
   "pygments_lexer": "ipython3",
   "version": "3.7.7"
  }
 },
 "nbformat": 4,
 "nbformat_minor": 5
}
