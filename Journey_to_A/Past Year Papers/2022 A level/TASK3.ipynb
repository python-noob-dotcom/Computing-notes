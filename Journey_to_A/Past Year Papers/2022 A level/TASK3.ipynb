{
 "cells": [
  {
   "cell_type": "code",
   "execution_count": 2,
   "metadata": {},
   "outputs": [
    {
     "name": "stdout",
     "output_type": "stream",
     "text": [
      "[269, 439, 513, 557, 674, 684, 828, 847, 961, 968]\n",
      "[513, 439, 557, 269, 684, 674, 961, 847, 968, 828]\n"
     ]
    }
   ],
   "source": [
    "class Tree:\n",
    "    def __init__(self, data = None):\n",
    "        self.data = data\n",
    "        self.left_pointer = None\n",
    "        self.right_pointer = None\n",
    "\n",
    "    def insert(self, data):\n",
    "        if self.data == None:\n",
    "            self.data = data\n",
    "            return\n",
    "\n",
    "        def insert_helper(root, data):\n",
    "\n",
    "            if data > root.data:\n",
    "                if root.right_pointer != None:\n",
    "                    insert_helper(root.right_pointer, data)\n",
    "                else:\n",
    "                    root.right_pointer = Tree(data)\n",
    "            else:\n",
    "                if root.left_pointer != None:\n",
    "                    insert_helper(root.left_pointer, data)\n",
    "                else:\n",
    "                    root.left_pointer = Tree(data)\n",
    "        \n",
    "        insert_helper(self, data)\n",
    "    \n",
    "    def in_order(self):\n",
    "        if self.data == None:\n",
    "            return -1\n",
    "\n",
    "        def in_order_helper(root):\n",
    "            in_order = []\n",
    "            if root.left_pointer != None:\n",
    "                in_order += in_order_helper(root.left_pointer)\n",
    "\n",
    "            in_order += [root.data]\n",
    "\n",
    "            if root.right_pointer != None:\n",
    "                in_order += in_order_helper(root.right_pointer)\n",
    "            \n",
    "            return in_order\n",
    "        \n",
    "        return in_order_helper(self)\n",
    "    \n",
    "    def post_order(self):\n",
    "        if self.data == None:\n",
    "            return -1\n",
    "\n",
    "        def post_order_helper(root):\n",
    "            in_order = []\n",
    "            if root.left_pointer != None:\n",
    "                in_order += post_order_helper(root.left_pointer)\n",
    "\n",
    "            if root.right_pointer != None:\n",
    "                in_order += post_order_helper(root.right_pointer)\n",
    "\n",
    "            in_order += [root.data]\n",
    "            \n",
    "            return in_order\n",
    "        \n",
    "        return post_order_helper(self)\n",
    "    \n",
    "import random\n",
    "lst = []\n",
    "tree = Tree()\n",
    "\n",
    "while len(lst) < 10:\n",
    "    x = random.randint(0, 999)\n",
    "    if x not in lst:\n",
    "        lst += [x]\n",
    "        tree.insert(x)\n",
    "\n",
    "print(tree.in_order())\n",
    "print(tree.post_order())"
   ]
  }
 ],
 "metadata": {
  "kernelspec": {
   "display_name": "computing",
   "language": "python",
   "name": "python3"
  },
  "language_info": {
   "codemirror_mode": {
    "name": "ipython",
    "version": 3
   },
   "file_extension": ".py",
   "mimetype": "text/x-python",
   "name": "python",
   "nbconvert_exporter": "python",
   "pygments_lexer": "ipython3",
   "version": "3.6.13"
  }
 },
 "nbformat": 4,
 "nbformat_minor": 2
}
