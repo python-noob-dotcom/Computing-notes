{
 "cells": [
  {
   "cell_type": "code",
   "execution_count": 5,
   "metadata": {},
   "outputs": [],
   "source": [
    "def inputPuzzle():\n",
    "    rows = []\n",
    "\n",
    "    for _ in range(9):\n",
    "        row = input('Enter the row of numbers in format (x x x...): ').split(' ')\n",
    "        while True:\n",
    "            if len(row) != 9:\n",
    "                row = input('Enter the row of numbers in format (x x x...) from 1-9: ').split(' ')\n",
    "            for digit in row:\n",
    "                if digit not in '123456789':\n",
    "                    row = input('Enter the row of numbers in format (x x x...) from 1-9: ').split(' ')\n",
    "            \n",
    "            break\n",
    "        rows += [row]\n",
    "\n",
    "    return rows\n",
    "\n",
    "# puzzle 1\n",
    "# 7 8 2 9 1 3 4 5 6\n",
    "# 1 4 5 8 7 6 9 2 3\n",
    "# 6 9 3 4 5 2 7 1 8\n",
    "# 2 7 9 5 3 1 8 6 4\n",
    "# 5 6 4 2 9 8 1 3 7\n",
    "# 3 1 8 7 6 4 5 9 2\n",
    "# 4 5 1 6 2 7 3 8 9\n",
    "# 9 2 7 3 8 5 6 4 1\n",
    "# 8 3 6 1 4 9 2 7 5\n",
    "\n",
    "# puzzle 2\n",
    "# 7 8 2 9 1 3 4 5 6\n",
    "# 1 4 5 8 7 6 9 2 3\n",
    "# 6 9 3 6 5 2 7 1 8\n",
    "# 2 7 9 5 3 1 8 6 4\n",
    "# 5 6 4 2 9 8 1 3 7\n",
    "# 3 1 8 7 6 4 5 9 2\n",
    "# 4 5 1 6 2 7 3 8 9\n",
    "# 9 2 7 3 8 5 6 4 1\n",
    "# 8 3 6 1 4 9 2 7 5\n",
    "\n",
    "example1 = inputPuzzle()\n",
    "example2 = inputPuzzle()"
   ]
  },
  {
   "cell_type": "code",
   "execution_count": 6,
   "metadata": {},
   "outputs": [
    {
     "name": "stdout",
     "output_type": "stream",
     "text": [
      "[['7', '8', '2', '9', '1', '3', '4', '5', '6'], ['1', '4', '5', '8', '7', '6', '9', '2', '3'], ['6', '9', '3', '4', '5', '2', '7', '1', '8'], ['2', '7', '9', '5', '3', '1', '8', '6', '4'], ['5', '6', '4', '2', '9', '8', '1', '3', '7'], ['3', '1', '8', '7', '6', '4', '5', '9', '2'], ['4', '5', '1', '6', '2', '7', '3', '8', '9'], ['9', '2', '7', '3', '8', '5', '6', '4', '1'], ['8', '3', '6', '1', '4', '9', '2', '7', '5']]\n",
      "[['7', '8', '2', '9', '1', '3', '4', '5', '6'], ['1', '4', '5', '8', '7', '6', '9', '2', '3'], ['6', '9', '3', '6', '5', '2', '7', '1', '8'], ['2', '7', '9', '5', '3', '1', '8', '6', '4'], ['5', '6', '4', '2', '9', '8', '1', '3', '7'], ['3', '1', '8', '7', '6', '4', '5', '9', '2'], ['4', '5', '1', '6', '2', '7', '3', '8', '9'], ['9', '2', '7', '3', '8', '5', '6', '4', '1'], ['8', '3', '6', '1', '4', '9', '2', '7', '5']]\n"
     ]
    }
   ],
   "source": [
    "print(example1)\n",
    "print(example2)"
   ]
  },
  {
   "cell_type": "code",
   "execution_count": 11,
   "metadata": {},
   "outputs": [
    {
     "name": "stdout",
     "output_type": "stream",
     "text": [
      "Completed\n",
      "Duplicate at row 3\n"
     ]
    }
   ],
   "source": [
    "# Task 3.2\n",
    "\n",
    "def check(puzzle):\n",
    "    for i in range(len(puzzle)):\n",
    "        row = puzzle[i]\n",
    "        if len(list(set(row))) != 9:\n",
    "            return i\n",
    "    return -1 \n",
    "\n",
    "print('Completed' if check(example1) == -1 else f'Duplicate at row {check(example1) + 1}')\n",
    "print('Completed' if check(example2) == -1 else f'Duplicate at row {check(example2) + 1}')"
   ]
  },
  {
   "cell_type": "code",
   "execution_count": 14,
   "metadata": {},
   "outputs": [
    {
     "name": "stdout",
     "output_type": "stream",
     "text": [
      "Completed\n",
      "Duplicate at col 4\n"
     ]
    }
   ],
   "source": [
    "# Task 3.2\n",
    "\n",
    "def check_column(puzzle):\n",
    "    for i in range(9):\n",
    "        col = []\n",
    "        for j in range(9):\n",
    "            col += puzzle[j][i]\n",
    "        \n",
    "        if len(list(set(col))) != 9:\n",
    "            return i\n",
    "        \n",
    "    return -1\n",
    "\n",
    "print('Completed' if check_column(example1) == -1 else f'Duplicate at col {check_column(example1) + 1}')\n",
    "print('Completed' if check_column(example2) == -1 else f'Duplicate at col {check_column(example2) + 1}')"
   ]
  },
  {
   "cell_type": "code",
   "execution_count": 34,
   "metadata": {},
   "outputs": [
    {
     "name": "stdout",
     "output_type": "stream",
     "text": [
      "0 0\n",
      "0 1\n",
      "0 2\n",
      "1 1\n",
      "1 2\n",
      "1 3\n",
      "1 4\n",
      "1 5\n",
      "2 2\n",
      "2 3\n",
      "2 4\n",
      "2 5\n",
      "2 6\n",
      "2 7\n",
      "2 8\n",
      "3 3\n",
      "3 4\n",
      "3 5\n",
      "3 6\n",
      "3 7\n",
      "3 8\n",
      "3 9\n"
     ]
    },
    {
     "ename": "IndexError",
     "evalue": "list index out of range",
     "output_type": "error",
     "traceback": [
      "\u001b[1;31m---------------------------------------------------------------------------\u001b[0m",
      "\u001b[1;31mIndexError\u001b[0m                                Traceback (most recent call last)",
      "\u001b[1;32m<ipython-input-34-4305b50c122d>\u001b[0m in \u001b[0;36m<module>\u001b[1;34m\u001b[0m\n\u001b[0;32m     13\u001b[0m     \u001b[1;32mreturn\u001b[0m \u001b[0msquares\u001b[0m\u001b[1;33m\u001b[0m\u001b[1;33m\u001b[0m\u001b[0m\n\u001b[0;32m     14\u001b[0m \u001b[1;33m\u001b[0m\u001b[0m\n\u001b[1;32m---> 15\u001b[1;33m \u001b[0mprint\u001b[0m\u001b[1;33m(\u001b[0m\u001b[0mcheck_square\u001b[0m\u001b[1;33m(\u001b[0m\u001b[0mexample1\u001b[0m\u001b[1;33m)\u001b[0m\u001b[1;33m)\u001b[0m\u001b[1;33m\u001b[0m\u001b[1;33m\u001b[0m\u001b[0m\n\u001b[0m\u001b[0;32m     16\u001b[0m \u001b[1;31m# print('Completed' if check_square(example1) == -1 else f'Duplicate at square {check_square(example1) + 1}')\u001b[0m\u001b[1;33m\u001b[0m\u001b[1;33m\u001b[0m\u001b[1;33m\u001b[0m\u001b[0m\n\u001b[0;32m     17\u001b[0m \u001b[1;31m# print('Completed' if check_square(example2) == -1 else f'Duplicate at square {check_square(example2) + 1}')\u001b[0m\u001b[1;33m\u001b[0m\u001b[1;33m\u001b[0m\u001b[1;33m\u001b[0m\u001b[0m\n",
      "\u001b[1;32m<ipython-input-34-4305b50c122d>\u001b[0m in \u001b[0;36mcheck_square\u001b[1;34m(puzzle)\u001b[0m\n\u001b[0;32m      7\u001b[0m             \u001b[1;32mfor\u001b[0m \u001b[0mj\u001b[0m \u001b[1;32min\u001b[0m \u001b[0mrange\u001b[0m\u001b[1;33m(\u001b[0m\u001b[0mi\u001b[0m\u001b[1;33m,\u001b[0m \u001b[1;33m(\u001b[0m\u001b[0mi\u001b[0m \u001b[1;33m+\u001b[0m \u001b[1;36m1\u001b[0m\u001b[1;33m)\u001b[0m \u001b[1;33m*\u001b[0m \u001b[1;36m3\u001b[0m\u001b[1;33m)\u001b[0m\u001b[1;33m:\u001b[0m\u001b[1;33m\u001b[0m\u001b[1;33m\u001b[0m\u001b[0m\n\u001b[0;32m      8\u001b[0m                 \u001b[0mprint\u001b[0m\u001b[1;33m(\u001b[0m\u001b[0mi\u001b[0m\u001b[1;33m,\u001b[0m \u001b[0mj\u001b[0m\u001b[1;33m)\u001b[0m\u001b[1;33m\u001b[0m\u001b[1;33m\u001b[0m\u001b[0m\n\u001b[1;32m----> 9\u001b[1;33m                 \u001b[0msquare\u001b[0m \u001b[1;33m+=\u001b[0m \u001b[0mpuzzle\u001b[0m\u001b[1;33m[\u001b[0m\u001b[0mi\u001b[0m\u001b[1;33m]\u001b[0m\u001b[1;33m[\u001b[0m\u001b[0mj\u001b[0m\u001b[1;33m]\u001b[0m\u001b[1;33m\u001b[0m\u001b[1;33m\u001b[0m\u001b[0m\n\u001b[0m\u001b[0;32m     10\u001b[0m \u001b[1;33m\u001b[0m\u001b[0m\n\u001b[0;32m     11\u001b[0m     \u001b[0msquares\u001b[0m \u001b[1;33m+=\u001b[0m \u001b[0msquare\u001b[0m\u001b[1;33m\u001b[0m\u001b[1;33m\u001b[0m\u001b[0m\n",
      "\u001b[1;31mIndexError\u001b[0m: list index out of range"
     ]
    }
   ],
   "source": [
    "def check_square(puzzle):\n",
    "    squares = []\n",
    "    for x in range(3):\n",
    "        square = []\n",
    "        for i in range(x*3, (x+1) * 3):\n",
    "            row = puzzle[i]\n",
    "            for j in range(i, (i + 1) * 3):\n",
    "                print(i, j)\n",
    "                square += puzzle[i][j]\n",
    "                \n",
    "    squares += square\n",
    "            \n",
    "    return squares\n",
    "\n",
    "print(check_square(example1))\n",
    "# print('Completed' if check_square(example1) == -1 else f'Duplicate at square {check_square(example1) + 1}')\n",
    "# print('Completed' if check_square(example2) == -1 else f'Duplicate at square {check_square(example2) + 1}')\n",
    "        "
   ]
  }
 ],
 "metadata": {
  "kernelspec": {
   "display_name": "computing",
   "language": "python",
   "name": "python3"
  },
  "language_info": {
   "codemirror_mode": {
    "name": "ipython",
    "version": 3
   },
   "file_extension": ".py",
   "mimetype": "text/x-python",
   "name": "python",
   "nbconvert_exporter": "python",
   "pygments_lexer": "ipython3",
   "version": "3.6.13"
  }
 },
 "nbformat": 4,
 "nbformat_minor": 2
}
