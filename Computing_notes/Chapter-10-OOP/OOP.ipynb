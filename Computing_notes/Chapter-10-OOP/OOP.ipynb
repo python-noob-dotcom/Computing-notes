{
 "cells": [
  {
   "cell_type": "code",
   "execution_count": 12,
   "metadata": {},
   "outputs": [],
   "source": [
    "# Class definition\n",
    "class Pokemon:\n",
    "\n",
    "    # Constructor method -- all functions and procedures are methods\n",
    "    def __init__(self, common_name, level, health, atk, defense, speed): # Dunder init\n",
    "        self.common_name = common_name\n",
    "        self.level = level\n",
    "        self.health = health\n",
    "        self.atk = atk\n",
    "        self.defense = defense\n",
    "        self.speed = speed\n",
    "\n",
    "    # Accessor methods or Getter methods\n",
    "    def get_common_name(self):\n",
    "        return self.common_name\n",
    "    def get_pokemon_level(self):\n",
    "        return self.level\n",
    "    def get_pokemon_stats(self):\n",
    "        return {'Health': self.health, 'Attack': self.atk, 'Speed': self.speed, 'Defense': self.defense}\n"
   ]
  },
  {
   "cell_type": "code",
   "execution_count": 13,
   "metadata": {},
   "outputs": [],
   "source": [
    "# Object instantiation\n",
    "\n",
    "Mew_1 = Pokemon('Mew', 100, 1000, 9000, 9000, 9000)\n",
    "Mew_2 = Pokemon('Mew', 9000, 900000, 900000, 90000, 90000)"
   ]
  },
  {
   "cell_type": "code",
   "execution_count": 23,
   "metadata": {},
   "outputs": [
    {
     "name": "stdout",
     "output_type": "stream",
     "text": [
      "Mew, 100, 1000, 9000, 9000, 9000\n"
     ]
    }
   ],
   "source": [
    "# Python OOP - access as attricutes, Python specific\n",
    "print(f'{Mew_1.common_name}, {Mew_1.level}, {Mew_1.health}, {Mew_1.atk}, {Mew_1.defense}, {Mew_1.speed}')"
   ]
  },
  {
   "cell_type": "code",
   "execution_count": 22,
   "metadata": {},
   "outputs": [
    {
     "name": "stdout",
     "output_type": "stream",
     "text": [
      "Mew, Level = 9000, {'Health': 900000, 'Attack': 900000, 'Speed': 90000, 'Defense': 90000}\n"
     ]
    }
   ],
   "source": [
    "# Traditional OOP\n",
    "# Use getter methods for traditional OOP or when question specifies and requires\n",
    "print(f'{Mew_2.get_common_name()}, Level = {Mew_2.get_pokemon_level()}, {Mew_2.get_pokemon_stats()}')"
   ]
  }
 ],
 "metadata": {
  "kernelspec": {
   "display_name": "Python 3",
   "language": "python",
   "name": "python3"
  },
  "language_info": {
   "codemirror_mode": {
    "name": "ipython",
    "version": 3
   },
   "file_extension": ".py",
   "mimetype": "text/x-python",
   "name": "python",
   "nbconvert_exporter": "python",
   "pygments_lexer": "ipython3",
   "version": "3.6.4"
  }
 },
 "nbformat": 4,
 "nbformat_minor": 2
}
