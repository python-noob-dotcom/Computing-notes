{
 "cells": [
  {
   "cell_type": "markdown",
   "metadata": {},
   "source": [
    "# Training 3"
   ]
  },
  {
   "cell_type": "markdown",
   "metadata": {},
   "source": [
    "## <font color = blue> Task 1 - A \"Mean\" Program\n",
    "    \n",
    "Write program code that computes the average of a collection of values entered by the user. \n",
    "\n",
    "The user will enter 0 as a sentinel value to indicate that no further values will be provided. \n",
    "\n",
    "Your program should display an appropriate error message if the first value entered by the user is 0.\n",
    "\n",
    "**Note:** As 0 demarcates the end of the input it should not be included in the average."
   ]
  },
  {
   "cell_type": "code",
   "execution_count": 1,
   "metadata": {},
   "outputs": [
    {
     "name": "stdout",
     "output_type": "stream",
     "text": [
      "No more inputs taken\n",
      "33.142857142857146\n"
     ]
    }
   ],
   "source": [
    "# Your code here\n",
    "import numpy as np\n",
    "listofvals = []\n",
    "status = True\n",
    "while status:\n",
    "    val = input('Input a value: ')\n",
    "    try:\n",
    "        val = int(val)\n",
    "        if val != 0:\n",
    "            listofvals.append(val)\n",
    "        elif val == 0:\n",
    "            print('No more inputs taken')\n",
    "            status = False\n",
    "    except ValueError:\n",
    "        print('Invalid Input')\n",
    "        break\n",
    "listofvals = np.array(listofvals)\n",
    "print(np.mean(listofvals))\n",
    "\n"
   ]
  },
  {
   "cell_type": "markdown",
   "metadata": {},
   "source": [
    "## <font color = blue> Task 2 - Perimeter of a Polygon\n",
    "\n",
    "Write program code that computes the perimeter of a polygon. \n",
    "\n",
    "- Begin by reading the x and y coordinates for the first point on the perimeter of the polygon from the user. \n",
    "- Continue reading pairs of values until the user enters a blank line for the x-coordinate. \n",
    "- Each time an additional coordinate is given by the user, compute the distance to the previous point and add it to the perimeter. \n",
    "- When a blank line is entered for the x-coordinate, add the distance from the last point back to the first point to the perimeter. \n",
    "- Finallym, display the perimeter. \n",
    "\n",
    "Given below is a set of sample input and output values. \n",
    "\n",
    "```\n",
    "Enter the first x-coordinate: 0 \n",
    "Enter the first y-coordinate: 0\n",
    "Enter the next x-coordinate (blank to quit): 1 \n",
    "Enter the next y-coordinate: 0 \n",
    "Enter the next x-coordinate (blank to quit): 0 \n",
    "Enter the next y-coordinate: 1 \n",
    "Enter the next x-coordinate (blank to quit): \n",
    "The perimeter of that polygon is 3.414213562373095\n",
    "```\n",
    "\n",
    "**Note:** You will need to apply the calculation for the distance between two coordinate points in writing this program."
   ]
  },
  {
   "cell_type": "code",
   "execution_count": 2,
   "metadata": {},
   "outputs": [
    {
     "data": {
      "text/plain": [
       "''"
      ]
     },
     "execution_count": 2,
     "metadata": {},
     "output_type": "execute_result"
    }
   ],
   "source": [
    "a = input('a')\n",
    "a"
   ]
  },
  {
   "cell_type": "code",
   "execution_count": 8,
   "metadata": {},
   "outputs": [
    {
     "name": "stdout",
     "output_type": "stream",
     "text": [
      "[121, 23]\n",
      "[23, 23]\n",
      "[23, 24]\n",
      "[23, 2]\n",
      "[42, 42]\n",
      "[424, 24]\n",
      "[242, 42]\n",
      "[42, 42]\n",
      "[42, 42]\n",
      "[4, 24]\n",
      "[24, 24]\n",
      "[2, 3544]\n",
      "[6, 46]\n",
      "[57, 5678]\n",
      "[68, 689]\n",
      "[67, 56]\n",
      "19989.83453178408\n"
     ]
    }
   ],
   "source": [
    "# Your code here\n",
    "import math\n",
    "import numpy as np\n",
    "status = True\n",
    "status_2 = True\n",
    "coords = []\n",
    "prompt1 = 'Enter the next x coordinate (blank to quit): '\n",
    "prompt2 = 'Enter the next y-coordinate'\n",
    "\n",
    "# note this function only works with python 3.8 and up\n",
    "# def get_perimeter(points= None):\n",
    "#     perimeter = 0\n",
    "#     points = points\n",
    "#     for i in range(len(points)):\n",
    "#         if i + 1 == len(points):\n",
    "#             perimeter += math.dist(points[-1], points[0])\n",
    "#             return perimeter\n",
    "#         else:\n",
    "#             pass\n",
    "#         pt1 = points[i]\n",
    "#         print(pt1)\n",
    "#         index = i + 1\n",
    "#         pt2 = points[index]\n",
    "#         perimeter += math.dist(pt1, pt2)\n",
    "\n",
    "# This function uses numpy\n",
    "def get_perimeter(points= None):\n",
    "    global perimeter\n",
    "    perimeter = 0\n",
    "    points = points\n",
    "    def compute_euclidean(x, y):\n",
    "        global distance\n",
    "        x = np.array(x)\n",
    "        y = np.array(y)\n",
    "        distance = np.sqrt(np.sum((x-y)**2))\n",
    "        return distance\n",
    "    for i in range(len(points)):\n",
    "        if i + 1 == len(points):\n",
    "            perimeter += compute_euclidean(points[-1], points[0])\n",
    "            return perimeter\n",
    "        else:\n",
    "            pt1 = points[i]\n",
    "            index = i + 1\n",
    "            pt2 = points[index]\n",
    "            perimeter += compute_euclidean(pt1, pt2)\n",
    "\n",
    "\n",
    "while status:\n",
    "    x = input('Enter the first x coordinate: ')\n",
    "    y = input('Enter the first y coordinate')\n",
    "    try:\n",
    "        x = int(x)\n",
    "        y = int(y)\n",
    "        coords.append([x, y])\n",
    "        while status_2:\n",
    "            x = input(prompt1)\n",
    "            if x != '':\n",
    "                y = input(prompt2)\n",
    "                coords.append([int(x), int(y)])\n",
    "            elif x == '':\n",
    "                status_2 = False\n",
    "        get_perimeter(coords)\n",
    "        print(perimeter)\n",
    "        status = False\n",
    "    except ValueError:\n",
    "        print(\"Invalid input\")\n",
    "        status = False"
   ]
  },
  {
   "cell_type": "markdown",
   "metadata": {},
   "source": [
    "## <font color = blue> Task 3 - Excursion to the Zoo\n",
    "\n",
    "A particular zoo determines the price of admission based on the age of the guest. \n",
    "\n",
    "- Guests 2 years of age and less are admitted without charge. \n",
    "- Children between 3 and 12 years of age cost 14.00 dollars. \n",
    "- Seniors aged 65 years and over cost 18.00 dollars. \n",
    "- Admission for all other guests is 23.00 dollars. \n",
    "\n",
    "Write program code that begins by reading the ages of all of the guests in a group from the user, with one age entered on each line. The user will enter a blank line to indicate that there are no more guests in the group. \n",
    "\n",
    "Your program should display the admission cost for the group with an appropriate message. The cost should be displayed using two decimal places.\n",
    "\n",
    "**Note:** You might need to do a little research on how to round a value to 2 d.p."
   ]
  },
  {
   "cell_type": "code",
   "execution_count": 12,
   "metadata": {},
   "outputs": [
    {
     "name": "stdout",
     "output_type": "stream",
     "text": [
      "No more input collected\n",
      "The total cost is: 239.0\n"
     ]
    }
   ],
   "source": [
    "# Your code here\n",
    "listofages = []\n",
    "nocost = [i for i in range (0, 3)]\n",
    "dollar14 = [i for i in range(3, 13)]\n",
    "status = True\n",
    "\n",
    "# Collectign input from the user\n",
    "while status:\n",
    "    age = input('Input the age of the guest: ')\n",
    "    if age != '':\n",
    "        listofages.append(int(age))\n",
    "        continue\n",
    "    elif age == '':\n",
    "        print('No more input collected')\n",
    "        status = False\n",
    "\n",
    "cost = 0.0\n",
    "for age in listofages:\n",
    "    if age not in nocost and age not in dollar14 and age < 65:\n",
    "        cost += 23.00\n",
    "    elif age >= 65:\n",
    "        cost += 18.00\n",
    "    elif age in dollar14:\n",
    "        cost += 14.00\n",
    "    elif age in nocost:\n",
    "        cost += 0\n",
    "    \n",
    "cost = round(cost, 2)\n",
    "\n",
    "print(f'The total cost is: ${cost}')\n"
   ]
  },
  {
   "cell_type": "markdown",
   "metadata": {},
   "source": [
    "## <font color = blue> Task 4 - Palindromes\n",
    "\n",
    "\n",
    "### Task 4.1\n",
    "A string is a palindrome if it is identical forward and backward. For example “anna”, “civic”, “level” and “hannah” are all examples of palindromic words. Write a program that reads a string from the user and uses a loop to determine whether or not it is a palindrome. Display the result, including a meaningful output message.\n",
    "\n",
    "\n",
    "### Task 4.2\n",
    "There are numerous phrases that are palindromes when spacing is ignored. Examples include “go dog”, “flee to me remote elf” and “some men interpret nine memos”, among many others. Extend your solution to **Task 4.1** so that it ignores spacing while determining whether or not a string is a palindrome. \n",
    "\n",
    "### Task 4.3\n",
    "Further extend your program so that is also ignores punctuation marks and treats uppercase and lowercase letters as equivalent."
   ]
  },
  {
   "cell_type": "code",
   "execution_count": null,
   "metadata": {},
   "outputs": [],
   "source": [
    "# Task 4.1 - Your code here"
   ]
  },
  {
   "cell_type": "code",
   "execution_count": null,
   "metadata": {},
   "outputs": [],
   "source": [
    "# Task 4.2 - Your code here"
   ]
  },
  {
   "cell_type": "code",
   "execution_count": null,
   "metadata": {},
   "outputs": [],
   "source": [
    "# Task 4.3 - Your code here"
   ]
  },
  {
   "cell_type": "markdown",
   "metadata": {},
   "source": [
    "## <font color = blue> Task 5 - Coin Flipping\n",
    "\n",
    "What’s the minimum number of times you have to flip a coin before you can have three consecutive flips that result in the same outcome (either all three are heads or all three are tails)?  \n",
    "\n",
    "What’s the maximum number of flips that might be needed? \n",
    "\n",
    "How many flips are needed on average? \n",
    "\n",
    "The task is to explore the above questions using a coin flip simulation.\n",
    "\n",
    "Write program code that uses Python’s random number generator to simulate the flipping of a coin several times. The simulated coin should be fair, meaning that the probability of obtaining a head is equal to the probability of obtaining a tail. \n",
    "\n",
    "The program should \n",
    "- flip the simulated coin until either 3 consecutive heads of 3 consecutive tails occur. \n",
    "- display the letter H each time the outcome is heads and the letter T each time the outcome is tails, with all of the outcomes for one simulation on the same line. \n",
    "- display the number of flips that were needed to reach 3 consecutive occurrences of the same outcome. \n",
    "\n",
    "When the program is executed, it should perform the simulation 10 times and report the average number of flips needed. \n",
    "\n",
    "A set of sample output is shown below: \n",
    "\n",
    "```\n",
    "H T T T (4 flips)\n",
    "H H T T H T H T T H H T H T T H T T T (19 flips) \n",
    "T T T (3 flips) \n",
    "T H H H (4 flips) \n",
    "H H H (3 flips) \n",
    "T H T T H T H H T T H H T H T H H H (18 flips) \n",
    "H T T H H H (6 flips) \n",
    "T H T T T (5 flips) \n",
    "T T H T T H T H T H H H (12 flips) \n",
    "T H T T T (5 flips) \n",
    "On average, 7.9 flips were needed.\n",
    "```"
   ]
  },
  {
   "cell_type": "code",
   "execution_count": null,
   "metadata": {},
   "outputs": [],
   "source": [
    "# Your code here"
   ]
  }
 ],
 "metadata": {
  "kernelspec": {
   "display_name": "Python 3",
   "language": "python",
   "name": "python3"
  },
  "language_info": {
   "codemirror_mode": {
    "name": "ipython",
    "version": 3
   },
   "file_extension": ".py",
   "mimetype": "text/x-python",
   "name": "python",
   "nbconvert_exporter": "python",
   "pygments_lexer": "ipython3",
   "version": "3.6.13"
  }
 },
 "nbformat": 4,
 "nbformat_minor": 2
}
