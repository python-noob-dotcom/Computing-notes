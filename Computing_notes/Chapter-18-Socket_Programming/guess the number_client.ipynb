{
 "cells": [
  {
   "cell_type": "code",
   "execution_count": null,
   "id": "c5833635",
   "metadata": {},
   "outputs": [],
   "source": [
    "import socket\n",
    "\n",
    "s = socket.socket()\n",
    "s.connect(('127.0.0.1', 9999))\n",
    "\n",
    "data = b''\n",
    "while True:\n",
    "    while b'\\n' not in data:\n",
    "        data += s.recv(1024)\n",
    "    received = data[:data.find(b'\\n')]\n",
    "    data = data[len(received) + 1:]\n",
    "    if received == b'LOW':\n",
    "        print('Your guess is too low.')\n",
    "    elif received == b'HIGH':\n",
    "        print('Your guess is too high.')\n",
    "    elif received == b'GUESS':\n",
    "        guess = int(input('Enter guess (1-100): '))\n",
    "        s.sendall(str(guess).encode() + b'\\n')\n",
    "    elif received == b'WIN':\n",
    "        print('You win!')\n",
    "        break\n",
    "    elif received == b'GAMEOVER':\n",
    "        print('You ran out of tries! Game over.')\n",
    "        break\n",
    "\n",
    "s.close()"
   ]
  }
 ],
 "metadata": {
  "kernelspec": {
   "display_name": "Python 3 (ipykernel)",
   "language": "python",
   "name": "python3"
  },
  "language_info": {
   "codemirror_mode": {
    "name": "ipython",
    "version": 3
   },
   "file_extension": ".py",
   "mimetype": "text/x-python",
   "name": "python",
   "nbconvert_exporter": "python",
   "pygments_lexer": "ipython3",
   "version": "3.7.7"
  }
 },
 "nbformat": 4,
 "nbformat_minor": 5
}
