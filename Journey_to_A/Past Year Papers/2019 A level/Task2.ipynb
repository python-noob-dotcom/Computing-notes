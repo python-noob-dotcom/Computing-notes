{
 "cells": [
  {
   "cell_type": "code",
   "execution_count": 37,
   "metadata": {},
   "outputs": [
    {
     "name": "stdout",
     "output_type": "stream",
     "text": [
      "Guvf vf n jbeq\n",
      "NYY &&&& PNCVGNYF\n",
      "HccrePnzryPnfr12()\n"
     ]
    }
   ],
   "source": [
    "def encode(string):\n",
    "    encoded = ''\n",
    "\n",
    "    for char in string:\n",
    "        if char.isalpha():\n",
    "            if char.isupper():\n",
    "                encoded += chr((ord(char) - 65 + 13) % 26 + 65)\n",
    "            else:\n",
    "                encoded += chr((ord(char) - 97 + 13) % 26 + 97)\n",
    "        else:\n",
    "            encoded += char\n",
    "        \n",
    "    return encoded\n",
    "\n",
    "print(encode('This is a word'))\n",
    "print(encode('ALL &&&& CAPITALS'))\n",
    "print(encode('UpperCamelCase12()'))"
   ]
  },
  {
   "cell_type": "code",
   "execution_count": 40,
   "metadata": {},
   "outputs": [
    {
     "name": "stdout",
     "output_type": "stream",
     "text": [
      "This is a word\n",
      "ALL &&&& CAPITALS\n",
      "UpperCamelCase12()\n"
     ]
    }
   ],
   "source": [
    "print(encode('Guvf vf n jbeq'))\n",
    "print(encode('NYY &&&& PNCVGNYF'))\n",
    "print(encode('HccrePnzryPnfr12()'))"
   ]
  }
 ],
 "metadata": {
  "kernelspec": {
   "display_name": "Python 3",
   "language": "python",
   "name": "python3"
  },
  "language_info": {
   "codemirror_mode": {
    "name": "ipython",
    "version": 3
   },
   "file_extension": ".py",
   "mimetype": "text/x-python",
   "name": "python",
   "nbconvert_exporter": "python",
   "pygments_lexer": "ipython3",
   "version": "3.7.7"
  }
 },
 "nbformat": 4,
 "nbformat_minor": 2
}
