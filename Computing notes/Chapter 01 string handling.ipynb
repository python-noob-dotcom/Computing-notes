{
 "cells": [
  {
   "cell_type": "code",
   "execution_count": 28,
   "metadata": {},
   "outputs": [
    {
     "data": {
      "text/plain": [
       "False"
      ]
     },
     "execution_count": 28,
     "metadata": {},
     "output_type": "execute_result"
    }
   ],
   "source": [
    "# .endswith method checks if the string ends with the specified character, and returns a boolean depending on if it does end with the letter or not\n",
    "# e.g.\n",
    "\n",
    "var = 'I love coding'\n",
    "print(var.endswith('g'))\n",
    "# In this case, the string ends with the letter g, so when we use .endswith('g'), it returns True\n",
    "\n",
    "print(var.endswith('a'))\n",
    "# In this case, the string does not end with the letter a, so when we use .endswith('g'), it returns False\n",
    "\n",
    "print(var.endswith('3'))\n",
    "# In this case, it returns False as the string does not end with the character 3"
   ]
  },
  {
   "cell_type": "code",
   "execution_count": 46,
   "metadata": {},
   "outputs": [
    {
     "name": "stdout",
     "output_type": "stream",
     "text": [
      "False\n"
     ]
    }
   ],
   "source": [
    "# .startswith method checks if the string starts with the specified character. If it does, it would return True\n",
    "# Else if the string does not start with that character it would return False\n",
    "# e.g. \n",
    "\n",
    "var = 'I love Machine Learning'\n",
    "print(var.startswith('1')) #Returns False as it does not start with the char 1\n",
    "\n",
    "print(var.startswith('I')) #Returns True as it does not start with the char I\n",
    "\n",
    "print(var.startswith('r')) #Returns False as it does not start with the char r"
   ]
  },
  {
   "cell_type": "code",
   "execution_count": 12,
   "metadata": {},
   "outputs": [
    {
     "name": "stdout",
     "output_type": "stream",
     "text": [
      "Price of the item is 100 dollars\n",
      "Price of the item is [1, 2, 3] dollars\n",
      "Price of the item is False dollars\n"
     ]
    }
   ],
   "source": [
    "# the .format method formats the specified values, and then inserts them in the string placeholder {}\n",
    "# It then returns the formatted string\n",
    "# e.g.\n",
    "\n",
    "string = 'Price of the item is {} dollars'\n",
    "print(string.format(100))\n",
    "\n",
    "# or\n",
    "\n",
    "price = [1, 2, 3]\n",
    "print(string.format(price))\n",
    "\n",
    "\n",
    "# Another example\n",
    "\n",
    "valuetoreturn = False\n",
    "print(string.format(valuetoreturn))\n",
    "\n",
    "# .format works with any dtype as it formats it into a string\n"
   ]
  },
  {
   "cell_type": "code",
   "execution_count": 25,
   "metadata": {},
   "outputs": [
    {
     "name": "stdout",
     "output_type": "stream",
     "text": [
      "True\n",
      "True\n",
      "False\n"
     ]
    }
   ],
   "source": [
    "# alphanumeric refers to letters and numbers\n",
    "# The .isalnum method checks if all the characters in the string are alphanumeric, if there is one character that is not alphanumeric, it will return False, elif the character\n",
    "# is alphanumeric, it would return True\n",
    "# e.g. \n",
    "\n",
    "stringtocheck = '12345qwerty'\n",
    "print(stringtocheck.isalnum()) #Returns True\n",
    "\n",
    "stringtocheck = '121981938482482uifhsfhsdfhsfh289qe9qu892ueuhfjdfhuiwrh3uiryu2389wyfuiwehfuiwefh'\n",
    "print(stringtocheck.isalnum()) #Returns True\n",
    "\n",
    "# However, if the string contains non alphanumeric characters, e.g. /:'.,[;'./] it would return False\n",
    "\n",
    "stringtocheck = '12345qwerty[];.,.,;/'\n",
    "print(stringtocheck.isalnum()) #Returns False"
   ]
  },
  {
   "cell_type": "code",
   "execution_count": 26,
   "metadata": {},
   "outputs": [
    {
     "name": "stdout",
     "output_type": "stream",
     "text": [
      "3\n",
      "6\n"
     ]
    },
    {
     "ename": "ValueError",
     "evalue": "substring not found",
     "output_type": "error",
     "traceback": [
      "\u001b[1;31m---------------------------------------------------------------------------\u001b[0m",
      "\u001b[1;31mValueError\u001b[0m                                Traceback (most recent call last)",
      "\u001b[1;32m<ipython-input-26-d0b1ae05e7d3>\u001b[0m in \u001b[0;36m<module>\u001b[1;34m\u001b[0m\n\u001b[0;32m      9\u001b[0m \u001b[1;31m# However, if you ask it to check something that is not in the string, it would return a error\u001b[0m\u001b[1;33m\u001b[0m\u001b[1;33m\u001b[0m\u001b[1;33m\u001b[0m\u001b[0m\n\u001b[0;32m     10\u001b[0m \u001b[1;33m\u001b[0m\u001b[0m\n\u001b[1;32m---> 11\u001b[1;33m \u001b[0mstring\u001b[0m\u001b[1;33m.\u001b[0m\u001b[0mindex\u001b[0m\u001b[1;33m(\u001b[0m\u001b[1;34m'1'\u001b[0m\u001b[1;33m)\u001b[0m \u001b[1;31m#ValueError, substring not found\u001b[0m\u001b[1;33m\u001b[0m\u001b[1;33m\u001b[0m\u001b[0m\n\u001b[0m",
      "\u001b[1;31mValueError\u001b[0m: substring not found"
     ]
    }
   ],
   "source": [
    "# The .index method checks if the substring specified inside the method is in the string, and returns the index of that substring if it exists\n",
    "# Remember! python is a index 0 based language, so index 0 refers to the first element in a iterative dtype.\n",
    "# For example\n",
    "\n",
    "string = 'abcdefg'\n",
    "print(string.index('d') ) #Returns 3, as it is index 3\n",
    "\n",
    "print(string.index('g')) #Returns 6 as it is index 6\n",
    "\n",
    "# However, if you ask it to check something that is not in the string, it would return a error\n",
    "\n",
    "string.index('1') #ValueError, substring not found"
   ]
  },
  {
   "cell_type": "code",
   "execution_count": 34,
   "metadata": {},
   "outputs": [
    {
     "name": "stdout",
     "output_type": "stream",
     "text": [
      "True\n",
      "False\n",
      "False\n"
     ]
    }
   ],
   "source": [
    "# The .isalpha method checks if all the characters in the string are alphabetic. This case would return True. If there is one or more non alphabetic chars, it would\n",
    "# return False\n",
    "# e.g. \n",
    "\n",
    "isthisalphabeticonly = 'sfhuifhsuidfhuisdfhuisdfhuisdfhuisdfhusdfhisdfhfhiusd'\n",
    "print(isthisalphabeticonly.isalpha()) #Returns True, as all the characters are alphabetic\n",
    "\n",
    "isthisalphabeticonly = 'asdjad;;.;.;.;sdd;.d;sd.s;ds;d.s;d.'\n",
    "print(isthisalphabeticonly.isalpha()) #Returns False, as there are special characters like ;. inside the string\n",
    "\n",
    "isthisalphabeticonly = 'iojesijioru3weu89ruifgjsgjsfghuisdfhhf903ru88u893u83urusdfhusdhfuiy3yuf38yuf93uf89fhjsuifhj'\n",
    "print(isthisalphabeticonly.isalpha()) #Returns False, as some of the characters are numeric"
   ]
  },
  {
   "cell_type": "code",
   "execution_count": 36,
   "metadata": {},
   "outputs": [
    {
     "name": "stdout",
     "output_type": "stream",
     "text": [
      "True\n",
      "False\n",
      "False\n"
     ]
    }
   ],
   "source": [
    "# Similar to .isalpha and .isalnum methods, the .isdigit method checks if all the characters in the string are numeric / digits. This case would return True\n",
    "# Else if there is one or more characters that are not numeric, it would return False\n",
    "# e.g. \n",
    "\n",
    "isthisnumeric = '3939203238238283902382382038289839028'\n",
    "print(isthisnumeric.isdigit()) #Returns True, as all the characters are numeric\n",
    "\n",
    "isthisnumeric = 'fjfidfjifs9sd9f0sf89f8sd8f90898fdf8df89df89'\n",
    "print(isthisnumeric.isdigit()) #Returns False, as not all of the characters are numeric, there are some alphabetic chars\n",
    "\n",
    "isthisnumeric = '233;2'\n",
    "print(isthisnumeric.isdigit()) #Returns False, as not all of the characters are numeric, there are some special chars"
   ]
  },
  {
   "cell_type": "code",
   "execution_count": 40,
   "metadata": {},
   "outputs": [
    {
     "name": "stdout",
     "output_type": "stream",
     "text": [
      "True\n",
      "False\n",
      "False\n"
     ]
    }
   ],
   "source": [
    "# The .islower method checks if all the alphabetic characters in the string are in lower case. If so, it would Return True\n",
    "# Else if the string has some characters that are uppercase, it would return False\n",
    "# e.g. \n",
    "\n",
    "lowercase = 'adkldjskdj'\n",
    "print(lowercase.islower()) #Returns True, as all the characters are in lower case.\n",
    "\n",
    "lowercase = 'WEWDJjcsd'\n",
    "print(lowercase.islower()) #Returns False, as not all the characters are in lower case\n",
    "\n",
    "lowercase = 'dsdsdsd123'\n",
    "print(lowercase.islower()) #Returns True! As all of the alphabetic characters are in lower case\n",
    "\n",
    "lowercase = '123'\n",
    "print(lowercase.islower()) #Returns False, as there is no alphabetic characters to check if they are lowercase or not"
   ]
  },
  {
   "cell_type": "code",
   "execution_count": 42,
   "metadata": {},
   "outputs": [
    {
     "name": "stdout",
     "output_type": "stream",
     "text": [
      "True\n",
      "False\n",
      "True\n"
     ]
    }
   ],
   "source": [
    "# .isupper is basically the same as .islower, just that it checks if the alphabetic characters are in uppercase\n",
    "\n",
    "imlazytocodethis = 'SJDKSDJSKDJSKDJSKDJSK'\n",
    "print(imlazytocodethis.isupper()) #Returns True, as all the alphabetic chars are in uppercase\n",
    "\n",
    "imlazytocodethis = 'dfsdfdfsdfsdfsdf'\n",
    "print(imlazytocodethis.isupper()) #Returns False, as all the alphabetic chars are in lowercase\n",
    "\n",
    "imlazytocodethis = 'SDSDSDSDD123'\n",
    "print(imlazytocodethis.isupper()) #Returns True! as all the alphabetic chars are in uppercase"
   ]
  },
  {
   "cell_type": "code",
   "execution_count": 45,
   "metadata": {},
   "outputs": [
    {
     "name": "stdout",
     "output_type": "stream",
     "text": [
      "True\n",
      "False\n",
      "False\n"
     ]
    }
   ],
   "source": [
    "# .isspace checks if all the characters in the string are whitespaces, look something like this '  '. This case would return True\n",
    "# Else if one or more of the characters in the string are not whitespaces, it would return False\n",
    "# e.g. \n",
    "\n",
    "whitespace = '       '\n",
    "print(whitespace.isspace()) #Returns True as every char is a whitespace\n",
    "\n",
    "whitespace = '   2    '\n",
    "print(whitespace.isspace()) #Returns False as not every char is a whitespace\n",
    "\n",
    "whitespace = '   s    '\n",
    "print(whitespace.isspace()) #Returns False as not every char is a whitespace"
   ]
  },
  {
   "cell_type": "code",
   "execution_count": 72,
   "metadata": {},
   "outputs": [
    {
     "name": "stdout",
     "output_type": "stream",
     "text": [
      "I LOVE PROGRAMMING\n",
      "I BET 34 DOLLARS IN TOTO LAST WEEK\n",
      "I BET ABCDEFG DOLLARS LAST WEEK IN TOTO\n",
      "i love programming\n",
      "i bet 34 dollars in toto last week\n",
      "i bet abcdefg dollars last week in toto\n"
     ]
    }
   ],
   "source": [
    "# I will cover both the .lower and .upper methods in this cell cos they are practically the same\n",
    "# Both .lower and .upper converts the alphabetic chars in the string into uppercase or lowercase respectively\n",
    "# e.g. \n",
    "\n",
    "converttoupper = 'I love Programming'\n",
    "print(converttoupper.upper()) #returns I LOVE PROGRAMMING, in all caps\n",
    "\n",
    "converttoupper = 'I bet 34 dollars in toto last week'\n",
    "print(converttoupper.upper()) #Returns I BET 34 DOLLARS IN TOTO LAST WEEK, once again in all caps\n",
    "\n",
    "# Lets use a example with a f string or .format\n",
    "money = 'abcdefg'\n",
    "converttoupper = f'I bet {money} dollars last week in toto'\n",
    "print(converttoupper.upper()) #Returns I BET ABCDEFG DOLLARS LAST WEEK IN TOTO, in all caps\n",
    "\n",
    "\n",
    "# Similarly, .lower converts all the alphabetic characters into lowercase\n",
    "converttolower = 'I LOVE PROGRAMMING'\n",
    "print(converttolower.lower()) #returns I LOVE PROGRAMMING, in all caps\n",
    "\n",
    "converttolower = 'I BET 34 DOLLARS IN TOTO LAST WEEK'\n",
    "print(converttolower.lower()) #Returns I BET 34 DOLLARS IN TOTO LAST WEEK, once again in all caps\n",
    "\n",
    "# Lets use a example with a f string or .format\n",
    "money = 'abcdefg'.upper()\n",
    "converttolower = f'I BET {money} DOLLARS LAST WEEK IN TOTO'\n",
    "print(converttolower.lower()) #Returns I BET ABCDEFG DOLLARS LAST WEEK IN TOTO, in all caps"
   ]
  }
 ],
 "metadata": {
  "kernelspec": {
   "display_name": "computing",
   "language": "python",
   "name": "python3"
  },
  "language_info": {
   "codemirror_mode": {
    "name": "ipython",
    "version": 3
   },
   "file_extension": ".py",
   "mimetype": "text/x-python",
   "name": "python",
   "nbconvert_exporter": "python",
   "pygments_lexer": "ipython3",
   "version": "3.6.13"
  },
  "orig_nbformat": 4,
  "vscode": {
   "interpreter": {
    "hash": "90751628c8dc0640666f6e45fef8e782cd46078710ff4aef78837114f507f2a2"
   }
  }
 },
 "nbformat": 4,
 "nbformat_minor": 2
}
