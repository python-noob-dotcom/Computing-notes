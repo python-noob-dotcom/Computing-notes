{
 "cells": [
  {
   "cell_type": "markdown",
   "metadata": {},
   "source": [
    "# Base Linear Queue, using Linked list"
   ]
  },
  {
   "cell_type": "markdown",
   "metadata": {},
   "source": [
    "A Queue data type in CS is almost like a queue in real life.\n",
    "\n",
    "If you are at the front of the queue, order your food, and then leave the queue, you are <b>\"dequeuing\".</b> <br>\n",
    "If you want to buy food from a store, you need to go to the back of the queue and start queuing <b>\"enqueue\"</b>.\n",
    "\n",
    "The disadvantage of linear queue is that the RAM is eaten up even when you dequeue, and can only be recycled after the process is finished and can be garbage dumped"
   ]
  },
  {
   "cell_type": "markdown",
   "metadata": {},
   "source": [
    "<img src = 'https://media.geeksforgeeks.org/wp-content/cdn-uploads/20230726165642/Queue-Data-structure1.png' alt = 'queue graphical demonstration'>"
   ]
  },
  {
   "cell_type": "code",
   "execution_count": 1,
   "metadata": {},
   "outputs": [],
   "source": [
    "class Node:\n",
    "    def __init__(self, data, nxt = None):\n",
    "        self.data = data\n",
    "        self.nxt = nxt\n",
    "    def __str__(self):\n",
    "        return self.data\n",
    "    \n",
    "    def __repr__(self):\n",
    "        return self.data\n",
    "\n",
    "class linear_queue:\n",
    "    def __init__(self):\n",
    "        self.front = None\n",
    "\n",
    "    def empty(self):\n",
    "        return self.front == None\n",
    "    \n",
    "    def enqueue(self, data): # Add_back of linked list\n",
    "        new_node = Node(data)\n",
    "\n",
    "        if self.empty():\n",
    "            self.front = new_node # if empty, insert at the front of the queue\n",
    "            return 1 # terminate process\n",
    "        \n",
    "        \n",
    "        current = self.front # init traversal pointer\n",
    "        while current.nxt != None: # traversal + check for next node existence\n",
    "            current = current.nxt\n",
    "\n",
    "        current.nxt = new_node\n",
    "        return 1\n",
    "\n",
    "    def dequeue(self): # Remove front of linked list\n",
    "        \n",
    "        # Check is empty, unable to dequeue\n",
    "        if self.empty():\n",
    "            print('Queue is empty, cannot remove')\n",
    "            return -1 # terminate process\n",
    "        \n",
    "        # else shift front pointer to the next element.\n",
    "        removed = self.front\n",
    "        self.front = self.front.nxt\n",
    "\n",
    "        return removed # return item that is dequeued, and then terminate\n",
    "\n",
    "    def peek(self): # Return the self.front\n",
    "        \n",
    "        if self.empty():\n",
    "            print('Queue is empty')\n",
    "            return -1 # queue is empty, unable to peek\n",
    "        \n",
    "        return self.front # display front of queue.\n",
    "    \n"
   ]
  },
  {
   "cell_type": "code",
   "execution_count": 2,
   "metadata": {},
   "outputs": [
    {
     "data": {
      "text/plain": [
       "2"
      ]
     },
     "execution_count": 2,
     "metadata": {},
     "output_type": "execute_result"
    }
   ],
   "source": [
    "class linearQueue(linear_queue):\n",
    "\n",
    "    def display(self):\n",
    "        if self.empty():\n",
    "            print('Queue is empty')\n",
    "            return -1\n",
    "        \n",
    "        current = self.front\n",
    "        while current != None: # current node has data\n",
    "            if current.nxt != None: # next node also has data\n",
    "                print(f'{current} --> ', end = '') # print current with linker\n",
    "                current = current.nxt # traversal\n",
    "            else:\n",
    "                print(current) # next node has no data, print current.\n",
    "\n",
    "    def size(self):\n",
    "\n",
    "        counter = 0\n",
    "\n",
    "        # Check for empty\n",
    "        if self.empty():\n",
    "            return counter\n",
    "        \n",
    "        # If you use current != None\n",
    "        current = self.front\n",
    "        while current != None:\n",
    "            current = current.nxt\n",
    "            counter += 1\n",
    "\n",
    "        # If you use current.nxt != None\n",
    "        # counter = 1\n",
    "        # while current.nxt != None: # still have 1 more node linking at the end, so need to start the counter at 1, or add 1 again at the end\n",
    "        #     current = current.nxt\n",
    "        #     counter += 1\n",
    "\n",
    "        return counter\n",
    "    \n",
    "\n",
    "queue = linearQueue()\n",
    "queue.enqueue(1)\n",
    "queue.enqueue('a')\n",
    "queue.size()"
   ]
  },
  {
   "cell_type": "markdown",
   "metadata": {},
   "source": [
    "# Circular (Array) Queue\n",
    "\n",
    "The circular queue tackles the problem from linear queue where the RAM cannot be reused after nodes are dequeued.\n",
    "<br><br>\n",
    "When something is emptied, something else can take its place, i.e. reuse the same Node"
   ]
  },
  {
   "cell_type": "code",
   "execution_count": 16,
   "metadata": {},
   "outputs": [
    {
     "name": "stdout",
     "output_type": "stream",
     "text": [
      "Queue is full\n",
      "[None, 'b', 'r']\n"
     ]
    }
   ],
   "source": [
    "class CircularQueue:\n",
    "    def __init__(self, capacity):\n",
    "\n",
    "        self.queue = [None] * capacity\n",
    "        self.front = -1\n",
    "        self.rear = self.front\n",
    "        self.capacity = capacity\n",
    "\n",
    "    def __str__(self):\n",
    "        return f'{self.queue}'\n",
    "\n",
    "    def is_empty(self):\n",
    "        return self.front == -1\n",
    "    \n",
    "    def is_full(self):\n",
    "        return self.rear + 1 == self.capacity\n",
    "    \n",
    "    def enqueue(self, data):\n",
    "\n",
    "        if self.is_empty():\n",
    "            self.rear = (self.rear + 1) % self.capacity\n",
    "            self.front = (self.front + 1) % self.capacity\n",
    "            self.queue[self.rear] = data\n",
    "            return 1\n",
    "        \n",
    "        if self.is_full():\n",
    "            print('Queue is full')\n",
    "            return -1 \n",
    "        \n",
    "        self.rear = (self.rear + 1) % self.capacity\n",
    "        self.queue[self.rear] = data\n",
    "        return 1\n",
    "\n",
    "    def dequeue(self):\n",
    "\n",
    "        if self.is_empty():\n",
    "            print('Queue is empty')\n",
    "            return -1\n",
    "\n",
    "        dq = self.queue[self.front]\n",
    "        self.queue[self.front] = None\n",
    "        self.front = (1 + self.front) % self.capacity\n",
    "\n",
    "        # condition to reset the indexes - if the front and rear pointers intersect with each other after the first element, this means that\n",
    "        # the queue is empty\n",
    "        if self.front == self.rear and self.front != 0 or self.front > self.rear:\n",
    "            self.front = self.rear = -1\n",
    "\n",
    "        return dq\n",
    "\n",
    "    def size(self):\n",
    "        return self.rear + 1\n",
    "    \n",
    "\n",
    "circular_queue = CircularQueue(capacity= 3)\n",
    "circular_queue.enqueue('a')\n",
    "circular_queue.enqueue('b')\n",
    "circular_queue.enqueue('r')\n",
    "circular_queue.dequeue()\n",
    "circular_queue.enqueue('c')\n",
    "print(circular_queue)\n",
    "        \n",
    "\n",
    "    "
   ]
  }
 ],
 "metadata": {
  "kernelspec": {
   "display_name": "Python 3",
   "language": "python",
   "name": "python3"
  },
  "language_info": {
   "codemirror_mode": {
    "name": "ipython",
    "version": 3
   },
   "file_extension": ".py",
   "mimetype": "text/x-python",
   "name": "python",
   "nbconvert_exporter": "python",
   "pygments_lexer": "ipython3",
   "version": "3.7.7"
  }
 },
 "nbformat": 4,
 "nbformat_minor": 2
}
