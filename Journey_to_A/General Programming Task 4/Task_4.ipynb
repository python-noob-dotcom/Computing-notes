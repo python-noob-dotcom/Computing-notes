{
 "cells": [
  {
   "cell_type": "code",
   "execution_count": 6,
   "metadata": {},
   "outputs": [
    {
     "data": {
      "text/plain": [
       "3.0"
      ]
     },
     "execution_count": 6,
     "metadata": {},
     "output_type": "execute_result"
    }
   ],
   "source": [
    "# Task 4.1\n",
    "\n",
    "def Price(start, end):\n",
    "    total = 0\n",
    "    if start == end:\n",
    "        return 0.00\n",
    "    \n",
    "    if int(end) > 1700:\n",
    "        total += 3.00\n",
    "        if int(start) < 1700:\n",
    "            total += (17 - int(start[:2])) * 1.50\n",
    "\n",
    "    else:\n",
    "        total += (int(end[:2]) - int(start[:2])) * 1.50\n",
    "\n",
    "    return total\n",
    "\n",
    "Price('2003', '2130')"
   ]
  },
  {
   "cell_type": "code",
   "execution_count": 10,
   "metadata": {},
   "outputs": [
    {
     "name": "stdout",
     "output_type": "stream",
     "text": [
      "SKE8020A,1.5\n",
      "SGB9318X,3.0\n",
      "SCE3196K,1.5\n",
      "SXW2450N,1.5\n",
      "SGH3848Z,15.0\n",
      "SBZ1089D,1.5\n",
      "SJW1146D,3.0\n",
      "SJI2099I,6.0\n",
      "STL2237R,4.5\n",
      "SDW1093J,6.0\n",
      "SUR6500I,1.5\n",
      "SWI0690A,3.0\n",
      "SXG0080S,7.5\n",
      "SJN5873S,3.0\n",
      "SMM7730X,1.5\n",
      "SVG9455W,4.5\n",
      "SEJ8694B,3.0\n",
      "SGR1045C,3.0\n",
      "SEP7331C,3.0\n",
      "SYM2699G,3.0\n"
     ]
    }
   ],
   "source": [
    "# Task 4.2\n",
    "\n",
    "with open('./CARPARK.txt', 'r') as f:\n",
    "    data = []\n",
    "    \n",
    "    for line in f:\n",
    "        data += [line.strip().split(',')]\n",
    "\n",
    "with open('./CHARGE.txt', 'w') as f:\n",
    "    for record in data:\n",
    "        f.write(f'{record[0]},{Price(record[1], record[2])}\\n')\n",
    "        print(f'{record[0]},{Price(record[1], record[2])}')"
   ]
  }
 ],
 "metadata": {
  "kernelspec": {
   "display_name": "computing",
   "language": "python",
   "name": "python3"
  },
  "language_info": {
   "codemirror_mode": {
    "name": "ipython",
    "version": 3
   },
   "file_extension": ".py",
   "mimetype": "text/x-python",
   "name": "python",
   "nbconvert_exporter": "python",
   "pygments_lexer": "ipython3",
   "version": "3.6.13"
  }
 },
 "nbformat": 4,
 "nbformat_minor": 2
}
