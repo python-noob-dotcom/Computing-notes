{
 "cells": [
  {
   "cell_type": "code",
   "execution_count": 3,
   "metadata": {},
   "outputs": [
    {
     "name": "stdout",
     "output_type": "stream",
     "text": [
      "116\n",
      "1008\n",
      "644\n"
     ]
    }
   ],
   "source": [
    "# Task 1\n",
    "\n",
    "def task1_1(string_val):\n",
    "    h = 0\n",
    "\n",
    "    for char in string_val:\n",
    "        val = 33 * ord(char)\n",
    "        h = (h + val) % 1024\n",
    "\n",
    "    return h\n",
    "\n",
    "print(task1_1('Hello'))\n",
    "print(task1_1('Hallo'))\n",
    "print(task1_1('Hullo'))"
   ]
  },
  {
   "cell_type": "code",
   "execution_count": 4,
   "metadata": {},
   "outputs": [
    {
     "name": "stdout",
     "output_type": "stream",
     "text": [
      "388\n",
      "156\n",
      "282\n"
     ]
    }
   ],
   "source": [
    "def task1_2(seed, string_value):\n",
    "    return task1_1(seed + string_value)\n",
    "\n",
    "print(task1_2(\"seed-one\", \"Hello\"))\n",
    "print(task1_2(\"seed-two\", \"Hello\"))\n",
    "print(task1_2(\"seed-three\", \"Hello\"))"
   ]
  }
 ],
 "metadata": {
  "kernelspec": {
   "display_name": "computing",
   "language": "python",
   "name": "python3"
  },
  "language_info": {
   "codemirror_mode": {
    "name": "ipython",
    "version": 3
   },
   "file_extension": ".py",
   "mimetype": "text/x-python",
   "name": "python",
   "nbconvert_exporter": "python",
   "pygments_lexer": "ipython3",
   "version": "3.6.13"
  }
 },
 "nbformat": 4,
 "nbformat_minor": 2
}
