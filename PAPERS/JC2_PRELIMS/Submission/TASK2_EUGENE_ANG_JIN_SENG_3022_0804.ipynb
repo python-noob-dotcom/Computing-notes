{
 "cells": [
  {
   "cell_type": "code",
   "execution_count": 13,
   "id": "da652abd",
   "metadata": {},
   "outputs": [],
   "source": [
    "# Task 2.1\n",
    "\n",
    "import random\n",
    "\n",
    "def task2_1(n):\n",
    "    lst = []\n",
    "    \n",
    "#     iterate and add the numbers\n",
    "    while len(lst) < n + 1:\n",
    "        number = random.randint(0, 1000)\n",
    "        lst += [number]\n",
    "        \n",
    "    return lst"
   ]
  },
  {
   "cell_type": "code",
   "execution_count": 23,
   "id": "d65539bb",
   "metadata": {},
   "outputs": [
    {
     "data": {
      "text/plain": [
       "[1, 2, 3]"
      ]
     },
     "execution_count": 23,
     "metadata": {},
     "output_type": "execute_result"
    }
   ],
   "source": [
    "# Task 2.2\n",
    "\n",
    "def task2_2(list_of_integers):\n",
    "    if len(list_of_integers) > 1:\n",
    "        mid = len(list_of_integers) // 2\n",
    "        \n",
    "#         split into left and right\n",
    "        left = list_of_integers[:mid]\n",
    "        right = list_of_integers[mid:]\n",
    "        \n",
    "#         recur call to further split until the smallest\n",
    "        \n",
    "        task2_2(left)\n",
    "        task2_2(right)\n",
    "        \n",
    "        i = j = k = 0\n",
    "        \n",
    "#         add based on comparisons\n",
    "        while i < len(left) and j < len(right):\n",
    "            if left[i] < right[j]:\n",
    "                list_of_integers[k] = left[i]\n",
    "                i += 1\n",
    "            else:\n",
    "                list_of_integers[k] = right[j]\n",
    "                j += 1\n",
    "            k += 1\n",
    "            \n",
    "        while i < len(left):\n",
    "            list_of_integers[k] = left[i]\n",
    "            i += 1\n",
    "            k += 1\n",
    "            \n",
    "        while j < len(right):\n",
    "            list_of_integers[k] = right[j]\n",
    "            j += 1\n",
    "            k += 1\n",
    "            \n",
    "    return list_of_integers\n",
    "\n",
    "task2_2([3, 2, 1])"
   ]
  },
  {
   "cell_type": "code",
   "execution_count": 15,
   "id": "bc42c999",
   "metadata": {},
   "outputs": [],
   "source": [
    "# Task 2.3\n",
    "\n",
    "def task2_3(list_of_integers, value):\n",
    "    \n",
    "#     iterate and return if found\n",
    "    \n",
    "    for i in range(len(list_of_integers)):\n",
    "        integer = list_of_integers[i]\n",
    "        if integer == value:\n",
    "            return i\n",
    "    \n",
    "    return -1\n",
    "    "
   ]
  },
  {
   "cell_type": "code",
   "execution_count": 16,
   "id": "5ec115a6",
   "metadata": {},
   "outputs": [
    {
     "data": {
      "text/plain": [
       "4"
      ]
     },
     "execution_count": 16,
     "metadata": {},
     "output_type": "execute_result"
    }
   ],
   "source": [
    "# Task 2.4\n",
    "\n",
    "def task2_4(list_of_integers, value):\n",
    "    def binary_helper(list_of_integers, value, low, high):\n",
    "        if low > high:\n",
    "            return -1\n",
    "        else:\n",
    "            \n",
    "#             get the mid for splitting\n",
    "            mid = (low + high) // 2\n",
    "            val = list_of_integers[mid]\n",
    "#         if the value is found, return it\n",
    "            if val == value:\n",
    "                return mid\n",
    "            else:\n",
    "                \n",
    "#                 split and then further recursive call\n",
    "                if val > value:\n",
    "                    binary_helper(list_of_integers, value, low, mid - 1)\n",
    "                else:\n",
    "                    return binary_helper(list_of_integers, value, mid + 1, high)\n",
    "        \n",
    "    res = binary_helper(list_of_integers, value, 0, len(list_of_integers) - 1)\n",
    "    return res\n",
    "    \n",
    "task2_4([1, 1, 2, 3, 4], 4)"
   ]
  },
  {
   "cell_type": "code",
   "execution_count": 25,
   "id": "b7a965a3",
   "metadata": {},
   "outputs": [
    {
     "name": "stdout",
     "output_type": "stream",
     "text": [
      "Approach                 item_count     time_in_seconds\n",
      "Linear                   10             3.2e-06   \n",
      "Sort and binary          10             0.0002752 \n",
      "Linear                   100            5.4e-06   \n",
      "Sort and binary          100            0.0002345 \n",
      "Linear                   1000           5.19e-05  \n",
      "Sort and binary          1000           0.0035424 \n",
      "Linear                   10000          0.0002675 \n",
      "Sort and binary          10000          0.0417992 \n"
     ]
    }
   ],
   "source": [
    "# Task 2.5\n",
    "\n",
    "# import the built-in library time\n",
    "import time\n",
    "\n",
    "print(f'{\"Approach\":<25}{\"item_count\":<15}{\"time_in_seconds\":<10}')\n",
    "\n",
    "# to do for the values stated in the question\n",
    "for num in [10, 100, 1000, 10000]:\n",
    "    # use the function from Task 2.1 to generate 10, 100, 1000, 10000 integers\n",
    "    l1000 = task2_1(num)\n",
    "    \n",
    "    # use the perf_counter_ns() function to get two integers representing the start and end time\n",
    "    \n",
    "    start_sort = time.perf_counter_ns()\n",
    "    sorted_l1000 = task2_2(l1000)\n",
    "    task2_4(sorted_l1000, 500)\n",
    "    end_sort = time.perf_counter_ns()\n",
    "    \n",
    "    # Calculate the duration, in nanoseconds (ns)\n",
    "    duration_sort = (end_sort - start_sort) / 10 ** 9\n",
    "    \n",
    "    # use the perf_counter_ns() function to get two integers representing the start and end time\n",
    "    start_lin = time.perf_counter_ns()\n",
    "    task2_3(l1000, 500)\n",
    "    end_lin = time.perf_counter_ns()\n",
    "    \n",
    "#     Convert the time from ns to s\n",
    "    duration_lin = (end_lin - start_lin) / 10 ** 9\n",
    "    \n",
    "    print(f'{\"Linear\":<25}{num:<15}{duration_lin:<10}')\n",
    "    print(f'{\"Sort and binary\":<25}{num:<15}{duration_sort:<10}')\n"
   ]
  },
  {
   "cell_type": "code",
   "execution_count": null,
   "id": "4a4b5fca",
   "metadata": {},
   "outputs": [],
   "source": [
    "# the growth for the linear search seems to be linear\n",
    "# whereas the growth for the binary and sort seems to be exponential\n",
    "\n",
    "# therefore the linear search should have a time compelxity of O(n)\n",
    "# whereas the sort and binary has a time complexity of O(nlog(n)log(n))"
   ]
  }
 ],
 "metadata": {
  "kernelspec": {
   "display_name": "Python 3 (ipykernel)",
   "language": "python",
   "name": "python3"
  },
  "language_info": {
   "codemirror_mode": {
    "name": "ipython",
    "version": 3
   },
   "file_extension": ".py",
   "mimetype": "text/x-python",
   "name": "python",
   "nbconvert_exporter": "python",
   "pygments_lexer": "ipython3",
   "version": "3.7.7"
  }
 },
 "nbformat": 4,
 "nbformat_minor": 5
}
