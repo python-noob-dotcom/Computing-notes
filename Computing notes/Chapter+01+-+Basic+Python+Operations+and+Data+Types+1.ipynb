{
 "cells": [
  {
   "cell_type": "markdown",
   "metadata": {},
   "source": [
    "# <div class = \"alert alert-info\"> <font color = purple> Chapter 01 - Basic Python Operations and Data Types 1"
   ]
  },
  {
   "cell_type": "markdown",
   "metadata": {},
   "source": [
    "## <font color = blue> Chapter Learning Objectives   \n",
    "|<p>Objective</p>|<p>Descriptor</p>|\n",
    "|----------------|-----------------|\n",
    "|<p>**2.1.1**</p>|<p>Use indentation and white space.</p>| \n",
    "|<p>**2.1.2**</p>|<p>Use naming conventions (e.g. meaningful identifier names).</p>|\n",
    "|<p>**2.1.3**</p>|<p>Write comments (name of programmer, date written, program description and version bookkeeping/control).</p>|\n",
    "|<p>**2.2.1**</p>|<p>Understand the different types: integer `int`, real `float`, char `chr`, string `str` and Boolean `Boolean` and initialise arrays (1-dimensional and 2-dimensional).</p>|\n",
    "|<p>**2.2.2**</p>|<p>Use common library functions for input/output, strings and mathematical operations.</p>|"
   ]
  },
  {
   "cell_type": "markdown",
   "metadata": {},
   "source": [
    "## <font color = blue> 1. Data Types and Operators\n",
    "\n",
    "- In computer science, a data is defined to be a sequence of one or more symbols. \n",
    "\n",
    "\n",
    "- Under this definition, data doesn't need to carry information or even be meaningful. \n",
    "\n",
    "\n",
    "- To make use of data, we need to endow it with more structure and make it meaningful. "
   ]
  },
  {
   "cell_type": "markdown",
   "metadata": {
    "id": "dWYA90jdCIlQ"
   },
   "source": [
    "### <font color = green> 1.1 Basic Data Types\n",
    "\n",
    "- Data can be categorised into different types, i.e. a data type is a category/class of data. \n",
    "\n",
    "\n",
    "- The following are 5 basic data types which are found in most programming languages:\n",
    "\n",
    "\n",
    "\n",
    "| No. | Data Type             | Definition                                                        | Examples                   | Benefits                                                        | Limitations                                        |\n",
    "|---|-----------------------|-------------------------------------------------------------------|----------------------------|-----------------------------------------------------------------|----------------------------------------------------|\n",
    "| 1 | Integer `int`               | A whole number or number without a fractional part                | -1, 0, 1, 123                | Full precision with finite digits                               | Typically limited to a specific range              |\n",
    "| 2 | Floating Point Number `float`| A number with (or calculated with) a fractional part              | -1.5, 0.1, $\\tt{\\frac{1}{3}}$, 2.5, $\\pi$       | Stores rational/irrational numbers with reasonable accuracy     | Not exact; not 100% precise                        |\n",
    "| 3 | Boolean `bool`              | Two values representing either true or false in a logic statement | True, False                | Space efficient when needed to represent values that are binary | Only 2 possible values                             |\n",
    "| 4 | String `str`                | A collection of individual characters                                           | 'a', 'abc', '123', '#12@bc', 'one string' | Allows for more human-readable information                      | Mapped values cannot be manipulated arithmetically |\n",
    "| 5 | `None`                  |  A null variable or object                                                                 |                            |                                                                 |                                                    |      |\n",
    "\n",
    "- We may also manipulate these values by performing various operations on them. \n",
    "\n",
    "\n",
    "- Essentially, when we write code, we may form expressions via the use of operators to manipulate data."
   ]
  },
  {
   "cell_type": "markdown",
   "metadata": {},
   "source": [
    "### <font color = green> 1.2 Operators\n",
    "\n",
    "- An operator is a symbol that *operates* on one or more values, i.e. it is a symbol that represents an action or process. "
   ]
  },
  {
   "cell_type": "markdown",
   "metadata": {},
   "source": [
    "#### <font color = fuchsia> 1.2.1 Arithmetic Operations\n",
    "\n",
    "- An arithmetic operator is an operator that works on numeric data types. \n",
    "\n",
    "\n",
    "- The typical operations that may be performed on numbers include:\n",
    "\n",
    "|     Operation    | Symbol |\n",
    "|:----------------:|:------:|\n",
    "|     Addition     |    +   |\n",
    "|    Subtraction   |    -   |\n",
    "|  Multiplication  |    *   |\n",
    "|     Division     |    /   |\n",
    "| Integer Division (Floor Division) |   //   |\n",
    "|      Modulo      |    %   |\n",
    "|      Power       |   **   |\n",
    "\n",
    "- Some of these operators can work on non-numeric data types too. \n",
    "\n",
    "\n",
    "- Try the operations with the following pairs `(15,10)`, `(3,4)`, `(124,20)`."
   ]
  },
  {
   "cell_type": "markdown",
   "metadata": {
    "id": "qZCc7BPjCIlS"
   },
   "source": [
    "#### <u>Exercise 1.1</u>\n",
    "\n",
    "It is important to know the type of the value that a variable refers to as this would allow us to use the correct operators. \n",
    "\n",
    "Python automatically infers the type from the value you assign to a variable. \n",
    "\n",
    "Write down the type of the values stored in each of the variables below. \n",
    "\n",
    "Pay special attention to punctuation: values are not always the type they seem!\n",
    "\n",
    "**1.** `a = False`\n",
    "\n",
    "**2.** `b = 3.7`\n",
    "\n",
    "**3.** `c = 'Alex'`\n",
    "\n",
    "**4.** `d = 7`\n",
    "\n",
    "**5.** `e = 'True'`\n",
    "\n",
    "**6.** `f = 12 ** 3`\n",
    "\n",
    "**7.** `g = '17'`\n",
    "\n",
    "**8.** `h = True`\n",
    "\n",
    "**9.** `i = '3.14159'`\n",
    "\n",
    "**10.** `j = 12 / 27`\n",
    "\n",
    "**11.** `k = 2.0 / 1`\n",
    "\n",
    "**12.** `l = (5 == \"5\")`\n",
    "\n",
    "**13.** `m = str((-4 + abs(-5) / 2 ** 3) + 321 - ((64 / 16) % 4) ** 2)`\n",
    "\n",
    "To verify your answers, you can use the `type` function as shown below. However, first try to do the exercise without the help provided below.\n",
    "\n",
    "**e.g.**\n",
    "```python\n",
    "x = 100\n",
    "type(x)\n",
    "```\n",
    "\n",
    "\n",
    "What does the `type` function do?"
   ]
  },
  {
   "cell_type": "markdown",
   "metadata": {
    "id": "Tt0cIU_xCIlU"
   },
   "source": [
    "#### <font color = fuchsia> 1.2.2 Logical and Comparison Operations\n",
    "\n",
    "- There are several Boolean or logical operations. Among the most common are the following:\n",
    "\n",
    "|Operation   |Command|\n",
    "|------------|-------|\n",
    "| Logical AND|and    |\n",
    "| Logical OR |or     |\n",
    "| Logical NOT|not    |\n",
    "\n",
    "- Each logical operation is associated with a truth table, which defines all possible pairs of operand values, and the corresponding resultant value that is attained when the operator in question is applied to the given operands. \n",
    "\n",
    "\n",
    "- The truth table for the above logical operations are as follows.\n",
    "\n",
    "\n",
    "|**No.**|x     |y    |x and y|x or y|not x|\n",
    "|-------|------|-----|-------|------|-----|\n",
    "|**1**  |True  |True |True   |True  |False| \n",
    "|**2**  |True  |False|False  |True  |False|\n",
    "|**3**  |False |True |False  |True  |True |\n",
    "|**4**  |False |False|False  |False |True |\n",
    "\n",
    "- Note that:\n",
    "\n",
    "    - The result is `True` if both `x` and `y` are `True`, or else, the result is `False`.\n",
    "\n",
    "    - The result is `True` if `x` is `True` or `y` is `True`, or else, the result is `False`.\n",
    "\n",
    "    - The result is the opposite of the Boolean value of `x`.\n",
    "\n",
    "\n",
    "* Additionally, there are several comparison operations that do not require Boolean operands, but have a Boolean value result:\n",
    "\n",
    "|Operation             |Symbol|\n",
    "|----------------------|------|\n",
    "|Less Than             |<     |\n",
    "|Less Than or Equals   |<=    |\n",
    "|Equality              |==    |\n",
    "|Greater Than          |>     |\n",
    "|Greater Than or Equals|>=    |\n",
    "|Not Equals            |!=    |\n",
    "\n",
    "- As with the arithmetic and logical operations, the above comparison operations take 2 operands, evaluate the associated test, and yield the appropriate Boolean result. \n",
    "\n",
    "    **e.g.**\n",
    "    \n",
    "    - `10 < 5` will result in `False`, since 10 is actually greater than 5, not less; \n",
    "    \n",
    "    - `“abc” == “cba”` will result in `False`, since the 2 strings are not equivalent.\n"
   ]
  },
  {
   "cell_type": "markdown",
   "metadata": {
    "id": "Ps5tKHhbCIlW"
   },
   "source": [
    "#### Exercise 1.2\n",
    "\n",
    "Boolean operators can seem tricky at first, and it takes practice to evaluate them correctly. \n",
    "\n",
    "Write the value (`True` or `False`) produced by each expression below, using the assigned values of the variables `a`, `b`, and `c`. \n",
    "\n",
    "Try to do this manually, then check your answers using the Jupyter Notebook when you think you've got it.\n",
    "\n",
    "**Hint:** *Work from the inside out, starting with the innermost expressions, similar to arithmetic.*\n",
    "\n",
    "Let:\n",
    "\n",
    "`a = False`\n",
    "\n",
    "`b = True`\n",
    "\n",
    "`c = False`\n",
    "\n",
    "Would the expressions below evaluate to `True` or `False`?\n",
    "\n",
    "**1.** `b and c`\n",
    "\n",
    "**2.** `b or c`\n",
    "\n",
    "**3.** `not a and b`\n",
    "\n",
    "**4.** `(a and b) or not c`\n",
    "\n",
    "**5.** `not b and not (a or c)`"
   ]
  },
  {
   "cell_type": "markdown",
   "metadata": {},
   "source": [
    "#### <font color = fuchsia> 1.2.3 Basic String Operations\n",
    "\n",
    "- The most basic string operation is concatenation `+`, which simply combines the contents of 2 strings. \n",
    "\n",
    "    **e.g.**\n",
    "    \n",
    "    the concatenation of `“abc”` and `“xyz”` would thus be the string `“abcxyz”`.\n",
    "    \n",
    "\n",
    "- Strings are typically denoted via the open and closed inverted commas - i.e., the value of the string corresponds to the characters in between the open and closed inverted commas.\n",
    "\n",
    "\n",
    "- You can also repeat strings by using the `*` operator and a numerical value representing the number of times required to repeat the value.\n"
   ]
  },
  {
   "cell_type": "markdown",
   "metadata": {
    "id": "qIikuDoaCIlW"
   },
   "source": [
    "#### <font color = fuchsia> 1.2.4 Expressions and Operation Precedence\n",
    "\n",
    "- We utilise operations within expressions.\n",
    "\n",
    "\n",
    "- Expressions have the general form:\n",
    "\n",
    "    `<Left OPERAND> <OPERATOR> <Right OPERAND>`\n",
    "   \n",
    "   **e.g.**\n",
    "\n",
    "    In the expression `10 + 20`, `10` corresponds to the left operand, `20` to the right operand, and `+` is the operator (i.e., the operation being applied to the 2 operands).\n",
    "\n",
    "\n",
    "- All operators require certain operand types to work properly:\n",
    "\n",
    "|Operator Type|<p>Acceptable Operand Types</p>|\n",
    "|-------------|-------------------------------|\n",
    "|Arithmetic   |<p>integer, float</p>          |\n",
    "|Logical      |<p>Boolean</p>                 |\n",
    "|Comparison   |<p>Any operand (Result is Boolean)</p>|\n",
    "|String       |<p>string</p>                  |\n",
    "  \n",
    "\n",
    "- Expressions may also be nested (just as mathematical expressions are) such as `10 + ( 20 * 30 )`. \n",
    "\n",
    "\n",
    "- When expressions are nested, they are executed using a certain order of precedence. \n",
    "\n",
    "\n",
    "- Going back to the example above, we know that `20 * 30` must be evaluated first (to obtain `600`), before we evaluate the resultant `10 + 600` expression.\n",
    "\n",
    "\n",
    "- The table of precedence shown below is typically consistent across all programming languages, the higher the operator is in the list below, the higher its precedence, i.e. it will get evaluated first.\n",
    "\n",
    "|Operator Type              |Operation           |\n",
    "|---------------------------|--------------------|\n",
    "|Exponentiation             |**                  |\n",
    "|Multiplication and Division|*, /, //, %         |\n",
    "|Addition and Subtraction   |+, -                |\n",
    "|All Comparison             |<, <=, >, >=, ==, !=|\n",
    "|Logical NOT                |not                 |\n",
    "|Logical AND                |and                 |\n",
    "|Logical OR                 |or                  |\n",
    "\n",
    "\n",
    "- To enforce precedence, we may typically utilise brackets, just as we do in mathematics. \n",
    "\n",
    "    **e.g.**\n",
    "    \n",
    "    Despite the precedence table shown above, when `(10 + 20) * 30` is evaluated, we now instead evaluate `10 + 20` first (since it is bracketed). As with mathematics, the innermost brackets must be evaluated first."
   ]
  }
 ],
 "metadata": {
  "colab": {
   "provenance": []
  },
  "file_extension": ".py",
  "kernelspec": {
   "display_name": "Python 3",
   "language": "python",
   "name": "python3"
  },
  "language_info": {
   "codemirror_mode": {
    "name": "ipython",
    "version": 3
   },
   "file_extension": ".py",
   "mimetype": "text/x-python",
   "name": "python",
   "nbconvert_exporter": "python",
   "pygments_lexer": "ipython3",
   "version": "3.6.4"
  },
  "mimetype": "text/x-python",
  "name": "python",
  "npconvert_exporter": "python",
  "pygments_lexer": "ipython3",
  "version": 3,
  "vscode": {
   "interpreter": {
    "hash": "f4e9cda46bb2d9d7fe6ecdff0f8336a934348bf06cb492f2f42f60739b3403b4"
   }
  }
 },
 "nbformat": 4,
 "nbformat_minor": 1
}
