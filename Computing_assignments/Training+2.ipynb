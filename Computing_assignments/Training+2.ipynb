{
 "cells": [
  {
   "cell_type": "markdown",
   "metadata": {},
   "source": [
    "# Training 2"
   ]
  },
  {
   "cell_type": "markdown",
   "metadata": {},
   "source": [
    "## <font color = blue> Task 1 - Dog Years\n",
    "    \n",
    "It is commonly said that one human year is equivalent to 7 dog years. However this simple conversion fails to recognize that dogs reach adulthood in approximately two years. As a result, some people believe that it is better to count each of the first two human years as 10.5 dog years, and then count each additional human year as 4 dog years.\n",
    "\n",
    "Write a program that implements the conversion from human years to dog years described in the previous paragraph. \n",
    "\n",
    "Ensure that your program works correctly for conversions of less than two human years and for conversions of two or more human years. \n",
    "\n",
    "Your program should display an appropriate error message if the user enters a negative number."
   ]
  },
  {
   "cell_type": "code",
   "execution_count": 8,
   "metadata": {},
   "outputs": [
    {
     "name": "stdout",
     "output_type": "stream",
     "text": [
      "Invalid input, please input a valid number of years!\n"
     ]
    }
   ],
   "source": [
    "# Your code here\n",
    "\n",
    "userin = input('how many years has the dog been alive? ')\n",
    "age = '0'\n",
    "age = int(age)\n",
    "status = True\n",
    "while status:\n",
    "    try: \n",
    "        userin = int(userin)\n",
    "        if str(userin).isdecimal() == False or userin < 0:\n",
    "            raise ValueError()\n",
    "            \n",
    "        else:\n",
    "            for i in range(2):\n",
    "                age += 10.5\n",
    "                userin -= 1\n",
    "        \n",
    "            for j in range(userin):\n",
    "                age += 4\n",
    "        \n",
    "            print(age)\n",
    "            status = False\n",
    "\n",
    "    except ValueError:\n",
    "        print('Invalid input, please input a valid number of years!')\n",
    "        break"
   ]
  },
  {
   "cell_type": "markdown",
   "metadata": {},
   "source": [
    "## <font color = blue> Task 2 - Next Day\n",
    "\n",
    "Write a program that reads a date from the user and computes its immediate successor. \n",
    "\n",
    "For example:\n",
    "- if the user enters values that represent 2019-11-18 then your program should display a message indicating that the day immediately after 2019-11-18 is 2019-11-19. \n",
    "- if the user enters values that represent 2019-11-30 then the program should indicate that the next day is 2019-12-01. \n",
    "- if the user enters values that represent 2019-12-31 then the program should indicate that the next day is 2020-01-01. \n",
    "\n",
    "The date will be entered in numeric form with three separate input statements; one for the year,  one for the month and one for the day. \n",
    "\n",
    "Ensure that your program works correctly for leap years."
   ]
  },
  {
   "cell_type": "code",
   "execution_count": 42,
   "metadata": {},
   "outputs": [
    {
     "name": "stdout",
     "output_type": "stream",
     "text": [
      "2\n",
      "True\n",
      "29\n",
      "1\n",
      "2000 3 1\n"
     ]
    }
   ],
   "source": [
    "# Your code here\n",
    "status = True\n",
    "\n",
    "days30 = [4, 6, 9, 11]\n",
    "days31 = [1, 3, 5, 7, 8, 10, 12]\n",
    "days28 = [2]\n",
    "while status:\n",
    "    try:\n",
    "        years, months, days = input(\"Please enter the date in the format: (year month day). \").split()\n",
    "        \n",
    "        years = int(years)\n",
    "        months = int(months)\n",
    "        days = int(days)\n",
    "\n",
    "        \n",
    "        \n",
    "        if True:\n",
    "            if months in days31:\n",
    "                evenorodd = True\n",
    "            elif months in days30:\n",
    "                evenorodd = False\n",
    "            elif months in days28:\n",
    "                evenorodd = None\n",
    "            \n",
    "            if evenorodd:\n",
    "                if days < 31:\n",
    "                    days += 1\n",
    "                elif days == 31:\n",
    "                    months += 1\n",
    "                    days = 1\n",
    "            elif evenorodd == False:\n",
    "                if days < 30:\n",
    "                    days += 1\n",
    "                elif days == 30:\n",
    "                    months += 1\n",
    "                    days = 1\n",
    "            elif evenorodd == None:\n",
    "                if ((years % 4 == 0) or (years % 400 == 0)):\n",
    "                    leapyear = True\n",
    "                else:\n",
    "                    leapyear = False\n",
    "                \n",
    "                \n",
    "                if leapyear:\n",
    "                    \n",
    "                    if days == 28:\n",
    "                        days += 1\n",
    "                    \n",
    "                    elif days == 29:\n",
    "                        months += 1\n",
    "                        days = 1\n",
    "                    \n",
    "                if not leapyear:\n",
    "                    if days == 28 :\n",
    "                        months += 1\n",
    "                        days = 1\n",
    "                    elif days < 28 :\n",
    "                        days += 1\n",
    "                    \n",
    "            elif months == 12 and days == 31:\n",
    "                years += 1\n",
    "                months = 1\n",
    "                days = 1\n",
    "        \n",
    "        print(years, months, days)\n",
    "        status = False\n",
    "\n",
    "    except ValueError:\n",
    "        print('Invalid input, please input the date in the format: year month day. ')\n",
    "        break\n"
   ]
  },
  {
   "cell_type": "markdown",
   "metadata": {},
   "source": [
    "## <font color = blue> Task 3 - What Day of the Week Is January 1?\n",
    "\n",
    "The following formula can be used to determine the day of the week for January 1 in a given year:\n",
    "\n",
    "`day_of_the_week = (year + floor((year - 1) / 4) - floor((year - 1) / 100) + floor((year - 1) / 400)) % 7` \n",
    "\n",
    "The result calculated by this formula is an integer that represents the day of the week. Sunday is represented by 0. The remaining days of the week following in sequence through to Saturday, which is represented by 6.\n",
    "\n",
    "Use the formula above to write a program that reads a year from the user and reports the day of the week for January 1 of that year. The output from your program should include the full name of the day of the week, not just the integer returned by the formula."
   ]
  },
  {
   "cell_type": "code",
   "execution_count": null,
   "metadata": {},
   "outputs": [],
   "source": [
    "# Your code here\n",
    "from numpy import floor\n",
    "year = input('Input a year: ')\n",
    "days = ['Monday', 'Tuesday', 'Wednesday', 'Thursday', 'Friday', 'Saturday', 'Sunday']\n",
    "status = True\n",
    "while status:\n",
    "    try:\n",
    "        year = int(year)\n",
    "        if str(year).isdecimal() == False:\n",
    "            raise ValueError\n",
    "        else:\n",
    "            day_of_the_week = (year + floor((year - 1) / 4) - floor((year - 1) / 100) + floor((year - 1) / 400)) % 7\n",
    "\n",
    "            print(days[day_of_the_week - 1])\n",
    "\n",
    "        status = False\n",
    "\n",
    "    except ValueError:\n",
    "        print('Please input a valid number of years!')"
   ]
  },
  {
   "cell_type": "markdown",
   "metadata": {},
   "source": [
    "## <font color = blue> Task 4 - License Plates\n",
    "\n",
    "In Country Py, older vehicle license plates consist of three uppercase letters followed by three digits.  When all of the license plates following that pattern had been used, the format was changed to four digits followed by three uppercase letters. \n",
    "\n",
    "Write a program that begins by reading a string of characters from the user. Then your program should display a message indicating whether the characters are valid for an older style license plate or a newer style license plate. \n",
    "\n",
    "Your program should display an appropriate message if the string entered by the user is not valid for either style of license plate."
   ]
  },
  {
   "cell_type": "code",
   "execution_count": null,
   "metadata": {},
   "outputs": [],
   "source": [
    "# Your code here\n",
    "status = True\n",
    "licenseplate = input('Input license plate here: ')\n",
    "\n",
    "while status:\n",
    "    if len(licenseplate) == 6:\n",
    "        print('Older license plate')\n",
    "    if len(licenseplate) == 7:\n",
    "        print('newer license plate')"
   ]
  },
  {
   "cell_type": "markdown",
   "metadata": {},
   "source": [
    "## <font color = blue> Task 5 - Routlette Payouts\n",
    "\n",
    "A roulette wheel has 38 spaces on it. Of these spaces, 18 are black, 18 are red, and two are green. The green spaces are numbered 0 and 00. The red spaces are numbered 1, 3, 5, 7, 9, 12, 14, 16, 18, 19, 21, 23, 25, 27, 30 32, 34 and 36. The remaining integers between 1 and 36 are used to number the black spaces. \n",
    "\n",
    "Many different bets can be placed in a game of roulette. Only consider the following subset will be considered in this question: \n",
    "\n",
    "- Single number (1 to 36, 0, or 00) \n",
    "- Red versus Black \n",
    "- Odd versus Even (Note that 0 and 00 do not pay out for even) \n",
    "- 1 to 18 versus 19 to 36\n",
    "\n",
    "Write a program that simulates a spin of a roulette wheel by using Python’s random number generator. Display the number that was selected and all of the bets that must be payed. For example, if 13 is selected then your program should display:\n",
    "\n",
    "```\n",
    "The spin resulted in 13... \n",
    "Pay 13 \n",
    "Pay Black \n",
    "Pay Odd \n",
    "Pay 1 to 18\n",
    "```\n",
    "If the simulation results in 0 or 00 then your program should display\n",
    "```\n",
    "Pay 0\n",
    "``` \n",
    "or \n",
    "\n",
    "```\n",
    "Pay 00\n",
    "``` \n",
    "without any further output.\n",
    "\n",
    "\n",
    "The following code allows you to use the random number generator.\n",
    "\n",
    "```Python\n",
    "import random\n",
    "\n",
    "random.randint(0, 9)  # Generates a random integer from 0 inclusive to 9 inclusive\n",
    "```"
   ]
  },
  {
   "cell_type": "code",
   "execution_count": null,
   "metadata": {},
   "outputs": [],
   "source": [
    "# Your code here"
   ]
  }
 ],
 "metadata": {
  "kernelspec": {
   "display_name": "Python 3",
   "language": "python",
   "name": "python3"
  },
  "language_info": {
   "codemirror_mode": {
    "name": "ipython",
    "version": 3
   },
   "file_extension": ".py",
   "mimetype": "text/x-python",
   "name": "python",
   "nbconvert_exporter": "python",
   "pygments_lexer": "ipython3",
   "version": "3.6.4"
  },
  "vscode": {
   "interpreter": {
    "hash": "f4e9cda46bb2d9d7fe6ecdff0f8336a934348bf06cb492f2f42f60739b3403b4"
   }
  }
 },
 "nbformat": 4,
 "nbformat_minor": 2
}
