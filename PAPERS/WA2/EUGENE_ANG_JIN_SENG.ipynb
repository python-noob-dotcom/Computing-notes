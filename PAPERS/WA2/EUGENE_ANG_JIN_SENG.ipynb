{
 "cells": [
  {
   "cell_type": "code",
   "execution_count": 240,
   "metadata": {
    "scrolled": true
   },
   "outputs": [],
   "source": [
    "# 2a\n",
    "# Initialise a function, power, that returns the product of the base^exponent\n",
    "def power(base, exponent):\n",
    "    \"\"\"\n",
    "    Returns the mathematical result of base^exponent\n",
    "    e.g. power(2, 3)\n",
    "    >>>> 8\n",
    "    \"\"\"\n",
    "#   Check if exponent is more than 0 \n",
    "    if exponent > 0:\n",
    "#       Terminating condition, if exponent is less than or equal to 0\n",
    "        if exponent <= 0:\n",
    "#           Base case is n*0 = 1\n",
    "            return 1\n",
    "        else:\n",
    "#           General case, continue multiplying, but reduce the exponent by 1\n",
    "            return base * power(base, exponent - 1)\n",
    "#   Exponent is 0, return 1\n",
    "    elif exponent == 0:\n",
    "        return 1\n",
    "#   Exponent negative, this program is not suited for that yet\n",
    "    else:\n",
    "        return 'I cant do that yet'"
   ]
  },
  {
   "cell_type": "markdown",
   "metadata": {},
   "source": [
    "<font color=red>The code contains unnecessary nested `if-else` conditions for `exponent >` 0 and `exponent <= 0`, which is logically contradictory. Since you've already established that `exponent > 0`, there's no need to check `exponent <= 0` inside that same block.<br><br>Code can still function correctly<br><br>Partial [4]</font>"
   ]
  },
  {
   "cell_type": "markdown",
   "metadata": {},
   "source": [
    "2a(ii): A successful recursive function has a terminating condition, which in this case, is where the exponent is less or equal to 0. A successful recursive function also has a general case, where the general case here is where the exponent is more than 1, where it return the base * power(base, exponent - 1). A successful recursive function will reach the terminating condition after a limited number of recursive calls, returns the base case 1, and does not recurse infinitely."
   ]
  },
  {
   "cell_type": "markdown",
   "metadata": {},
   "source": [
    "<font color=red>You got a bit confused with base case and terminating condition. Base case is the conditional statement + the return value. Terminating condition is just the condition itself.<br><br>Partial [3]</font>"
   ]
  },
  {
   "cell_type": "code",
   "execution_count": 241,
   "metadata": {},
   "outputs": [],
   "source": [
    "# 2b\n",
    "# Initialise a digital_root function, with parameters n\n",
    "def digital_root(n):\n",
    "    \"\"\"\n",
    "    Returns the digital root of a integer, which will be a single digit\n",
    "    e.g. \n",
    "    digital_root(99)\n",
    "    >>>> 9\n",
    "    \"\"\"\n",
    "    n_2 = str(n)\n",
    "#   teminating condition, to check if there is more than 1 digit in the newly computed digital root\n",
    "    if len(n_2) < 2:\n",
    "        return n\n",
    "    else:\n",
    "#       else we find the total of the digits in the current n\n",
    "        total = 0\n",
    "        for elem in n_2:\n",
    "            total += int(elem)\n",
    "#       and perform a recursive call on that new total\n",
    "        return digital_root(total)"
   ]
  },
  {
   "cell_type": "markdown",
   "metadata": {},
   "source": [
    "<font color=red>Correct [5]</font>"
   ]
  },
  {
   "cell_type": "code",
   "execution_count": 242,
   "metadata": {},
   "outputs": [],
   "source": [
    "# 3a\n",
    "import random\n",
    "# Import the class random\n",
    "\n",
    "random_integers = []\n",
    "# Initalise a list for the random integers that is to be generated, random_integers\n",
    "\n",
    "# Generate 100 random integers using a for loop\n",
    "for i in range(100):\n",
    "#     Append the random integers that have been generated in the range of 1 to 500 inclusive, into the list random_integers\n",
    "    random_integers.append(random.randint(1, 500))"
   ]
  },
  {
   "cell_type": "markdown",
   "metadata": {},
   "source": [
    "<font color=red>Correct [3]</font>"
   ]
  },
  {
   "cell_type": "code",
   "execution_count": 238,
   "metadata": {},
   "outputs": [],
   "source": [
    "# 3b\n",
    "from csv import writer\n",
    "def merge_sort(array):\n",
    "#   Continuation condition, where the length of array must be more than 1\n",
    "    if len(array) > 1:\n",
    "#       Get the index of the middle element\n",
    "        mid = len(array) // 2\n",
    "\n",
    "#       Get the 2 subarrays, left and right subarray\n",
    "        left = array[:mid]\n",
    "        right = array[mid:]\n",
    "        \n",
    "#       Further break down the left and subarrays respectively\n",
    "        merge_sort(left)\n",
    "        merge_sort(right)\n",
    "\n",
    "#       Initalise the 3 indexes for left subarray, right subarray and the main array respectively\n",
    "        i = j = k = 0\n",
    "\n",
    "#       while loop for comparison between the left and right subarrays\n",
    "        while i < len(left) and j < len(right):\n",
    "#         Check if the element left[i] is more than the right element right[j], as we want to sort in descending order\n",
    "            if left[i] > right[j]:\n",
    "                array[k] = left[i]\n",
    "                i += 1 # advance the index by 1, so that we can access the next element in the list\n",
    "            else:\n",
    "                array[k] = right[j]\n",
    "                j += 1 # advance the index by 1, so that we can access the next element in the list\n",
    "            k += 1\n",
    "\n",
    "#       Put in the residuals from the right subarrays\n",
    "        while i < len(left):\n",
    "            array[k] = left[i]\n",
    "            i += 1\n",
    "            k += 1\n",
    "\n",
    "#       Put in the residuals from the right subarray\n",
    "        while j < len(right):\n",
    "            array[k] = right[j]\n",
    "            j += 1\n",
    "            k += 1\n",
    "    \n",
    "    return array\n",
    "\n",
    "reverse_sorted_random_integers = merge_sort(random_integers)\n",
    "\n",
    "# Create a empty txt file to store all the integers that have been sorted in descending order\n",
    "with open('merge_sorted.txt', 'w') as f:\n",
    "    for i in range(len(reverse_sorted_random_integers)):\n",
    "        elem = reverse_sorted_random_integers[i]\n",
    "#       Doing some conditionals here, to ensure that there are no blank rows\n",
    "        to_write = str(elem) + '\\n' if i < len(reverse_sorted_random_integers) - 1 else str(elem)\n",
    "#       Write the element into the csv\n",
    "        f.write(to_write)"
   ]
  },
  {
   "cell_type": "markdown",
   "metadata": {},
   "source": [
    "<font color=red>Correct [9]</font>"
   ]
  },
  {
   "cell_type": "code",
   "execution_count": null,
   "metadata": {},
   "outputs": [],
   "source": [
    "# 3c\n",
    "def insertion_sort(array):\n",
    "    \n",
    "#   for loop to traverse thru all the elements in the array\n",
    "    for i in range(1, len(array)):\n",
    "#       Initialise a key, in this case the current_element in question to array[i]\n",
    "        curr_element = array[i]\n",
    "        \n",
    "#       Initialise a j counter\n",
    "        j = i- 1\n",
    "        \n",
    "#       while loop that runs, such that the current element can compare with all the elements before it, until it is the second\n",
    "#       element, i.e. i = 1.\n",
    "#       here will also have the comparisons, to check if the current element has a numerical value less than the elements\n",
    "#       before it\n",
    "        while j + 1 >= 1 and curr_element < array[j]:\n",
    "            array[j], array[j + 1] = array[j + 1], array[j]\n",
    "            j -= 1\n",
    "        \n",
    "    return array\n",
    "\n",
    "sorted_random_integers = insertion_sort(reverse_sorted_random_integers)\n",
    "\n",
    "# Create a empty .csv file, insertion_sorted.csv\n",
    "with open('insertion_sorted.csv', 'w') as f:\n",
    "#   Add all the elements in the sorted_random_integers into the csv\n",
    "#   In the format of 1 number per row\n",
    "    for i in range(len(sorted_random_integers)):\n",
    "        elem = sorted_random_integers[i]\n",
    "#       Doing some conditionals here, to ensure that there are no blank rows\n",
    "        to_write = str(elem) + '\\n' if i < len(sorted_random_integers) - 1 else str(elem)\n",
    "#       Write the element into the csv\n",
    "        f.write(to_write)"
   ]
  },
  {
   "cell_type": "markdown",
   "metadata": {},
   "source": [
    "<font color=red>`curr_element = array[i]`: You've stored the current element to insert, but you don't actually use this variable in the code. Usually, `curr_element` is used to hold the value temporarily as you make swaps. However, you're directly swapping values in your array, making `curr_element` redundant.<br><br>`while j + 1 >= 1 and curr_element < array[j]`: The condition `j + 1 >= 1` can be simplified to `j >= 0`.<br><br>Nevertheless correct [6]"
   ]
  }
 ],
 "metadata": {
  "kernelspec": {
   "display_name": "Python 3",
   "language": "python",
   "name": "python3"
  },
  "language_info": {
   "codemirror_mode": {
    "name": "ipython",
    "version": 3
   },
   "file_extension": ".py",
   "mimetype": "text/x-python",
   "name": "python",
   "nbconvert_exporter": "python",
   "pygments_lexer": "ipython3",
   "version": "3.6.4"
  }
 },
 "nbformat": 4,
 "nbformat_minor": 2
}
