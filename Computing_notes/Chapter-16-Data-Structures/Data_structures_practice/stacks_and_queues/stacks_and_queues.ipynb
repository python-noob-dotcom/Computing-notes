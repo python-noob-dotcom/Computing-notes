{
 "cells": [
  {
   "cell_type": "code",
   "execution_count": 5,
   "metadata": {},
   "outputs": [],
   "source": [
    "# Task 1.1\n",
    "class Node:\n",
    "    def __init__(self, data, nxt = None):\n",
    "        self.data = data\n",
    "        self.nxt = nxt\n",
    "\n",
    "    def __str__(self):\n",
    "        return f'{self.data}'\n",
    "\n",
    "class queue:\n",
    "    def __init__(self):\n",
    "        pass\n",
    "\n",
    "    def make_queue(self):\n",
    "        self.front = None\n",
    "\n",
    "    def enqueue(self, data):\n",
    "\n",
    "        new_node = Node(data)\n",
    "\n",
    "        if self.front == None:\n",
    "            self.front = new_node\n",
    "            return 1\n",
    "        \n",
    "        current = self.front\n",
    "\n",
    "        while current.nxt != None:\n",
    "            current = current.nxt\n",
    "\n",
    "        current.nxt = new_node\n",
    "\n",
    "    def dequeue(self):\n",
    "\n",
    "        if self.front == None:\n",
    "            return None\n",
    "\n",
    "        removed = self.front\n",
    "        self.front = self.front.nxt\n",
    "        return removed\n",
    "    \n",
    "    def size(self):\n",
    "\n",
    "        counter = 0\n",
    "\n",
    "        if self.front == None:\n",
    "            return None\n",
    "        \n",
    "        current = self.front\n",
    "\n",
    "        while current != None:\n",
    "            current = current.nxt\n",
    "            counter += 1\n",
    "\n",
    "        return counter"
   ]
  },
  {
   "cell_type": "code",
   "execution_count": 6,
   "metadata": {},
   "outputs": [
    {
     "name": "stdout",
     "output_type": "stream",
     "text": [
      "A\n",
      "B\n",
      "1\n"
     ]
    }
   ],
   "source": [
    "# Task 1.2\n",
    "buffer = queue()\n",
    "buffer.make_queue()\n",
    "for char in 'ABC':\n",
    "    buffer.enqueue(char)\n",
    "\n",
    "print(buffer.dequeue())\n",
    "print(buffer.dequeue())\n",
    "\n",
    "print(buffer.size())"
   ]
  },
  {
   "cell_type": "code",
   "execution_count": 108,
   "metadata": {},
   "outputs": [
    {
     "name": "stdout",
     "output_type": "stream",
     "text": [
      "C\n",
      "B\n",
      "A\n",
      "-1\n",
      "-1\n",
      "-1\n",
      "-1\n",
      "-1\n",
      "-1\n",
      "-1\n"
     ]
    }
   ],
   "source": [
    "# Task 2.1\n",
    "    \n",
    "class Stack:\n",
    "    def __init__(self):\n",
    "        self.top = 0\n",
    "        self.data = [None for i in range(20)]\n",
    "\n",
    "    def is_empty(self):\n",
    "        return self.top == 0\n",
    "    \n",
    "    def is_full(self):\n",
    "        return len([char for char in self.data if char != None]) == 20\n",
    "    \n",
    "    def push(self, data):\n",
    "\n",
    "            if self.is_full():\n",
    "                return -1\n",
    "\n",
    "            self.data[self.top] = data\n",
    "            self.top += 1\n",
    "\n",
    "    def pop(self):\n",
    "        if self.is_empty():\n",
    "            return -1\n",
    "\n",
    "        removed = self.data[self.top - 1]\n",
    "        self.data[self.top - 1] = None\n",
    "        self.top -= 1\n",
    "        return removed\n",
    "    \n",
    "    def peek(self):\n",
    "        if self.is_empty():\n",
    "            return 'Stack is empty'\n",
    "\n",
    "        return self.data[self.top - 1]\n",
    "    \n",
    "    def size(self):\n",
    "        return self.top\n",
    "    \n",
    "    def display(self):\n",
    "        data = [char for char in self.data if char != None]\n",
    "\n",
    "        for i in range(len(data)):\n",
    "            if i < len(data) - 1:\n",
    "                print(f'{data[i]} --> ', end= '')\n",
    "            else:\n",
    "                print(f'{data[i]}: TOP')\n",
    "\n",
    "\n",
    "stack = Stack()\n",
    "stack.push('A')\n",
    "stack.push('B')\n",
    "stack.push('C')\n",
    "\n",
    "for i in range(10):\n",
    "    print(stack.pop())"
   ]
  },
  {
   "cell_type": "code",
   "execution_count": 131,
   "metadata": {},
   "outputs": [],
   "source": [
    "# Task 2.2\n",
    "\n",
    "def Infix2Postfix(infix):\n",
    "    infix = infix.split(' ')\n",
    "    opStack = Stack()\n",
    "    output = []\n",
    "    for char in infix:\n",
    "        if char in '1234567890':\n",
    "            output.append(char)\n",
    "\n",
    "        elif char == '(':\n",
    "            opStack.push(char)\n",
    "\n",
    "        elif char == ')':\n",
    "            popped =  opStack.peek()\n",
    "            while popped != '(' and popped != -1:\n",
    "                popped = opStack.pop()\n",
    "                if popped != '(' and popped != -1:\n",
    "                    output.append(popped)\n",
    "            \n",
    "        elif char in '+-*/':\n",
    "            if char in '+-':\n",
    "                top = opStack.peek()\n",
    "\n",
    "                while top != '(' and top != -1:\n",
    "                    top = opStack.pop()\n",
    "                    if top != -1:\n",
    "                        output.append(top)\n",
    "                \n",
    "                opStack.push(char)\n",
    "\n",
    "            elif char in '*/':\n",
    "                storage = []\n",
    "                for i in range(opStack.size()):\n",
    "                    popped = opStack.pop()\n",
    "                    if popped in '*/':\n",
    "                        output.append(popped)\n",
    "                    else:\n",
    "                        storage.append(popped)\n",
    "\n",
    "                index_counter = len(storage) - 1\n",
    "                for j in range(len(storage)):\n",
    "                    opStack.push(storage[index_counter])\n",
    "                    index_counter -= 1\n",
    "                opStack.push(char)\n",
    "        \n",
    "    output += [opStack.pop() for i in range(opStack.size())]\n",
    "                    \n",
    "    return output"
   ]
  },
  {
   "cell_type": "code",
   "execution_count": 132,
   "metadata": {},
   "outputs": [
    {
     "data": {
      "text/plain": [
       "['5', '6', '2', '+', '*', '12', '4', '/', '-']"
      ]
     },
     "execution_count": 132,
     "metadata": {},
     "output_type": "execute_result"
    }
   ],
   "source": [
    "# Task 2.4\n",
    "\n",
    "postfix = Infix2Postfix('5 * ( 6 + 2 ) - 12 / 4')\n",
    "postfix"
   ]
  },
  {
   "cell_type": "code",
   "execution_count": 142,
   "metadata": {},
   "outputs": [],
   "source": [
    "# Task 2.3\n",
    "def PostfixEval(postfix):\n",
    "    postfix = postfix.split(' ')\n",
    "    operandStack = Stack()\n",
    "\n",
    "    for char in postfix:\n",
    "        if char.isdigit():\n",
    "            char = int(char)\n",
    "            operandStack.push(char)\n",
    "        \n",
    "        elif char in '+-*/':\n",
    "            num_1 = operandStack.pop()\n",
    "            num_2 = operandStack.pop()\n",
    "\n",
    "            if num_1 > num_2:\n",
    "                if char == '*':\n",
    "                    operandStack.push(num_1 * num_2)\n",
    "                elif char == '/':\n",
    "                    operandStack.push(num_1 / num_2)\n",
    "                elif char == '+':\n",
    "                    operandStack.push(num_1 + num_2)\n",
    "                elif char == '-':\n",
    "                    operandStack.push(num_1 - num_2)\n",
    "            else:\n",
    "                if char == '*':\n",
    "                    operandStack.push(num_2 * num_1)\n",
    "                elif char == '/':\n",
    "                    operandStack.push(num_2 / num_1)\n",
    "                elif char == '+':\n",
    "                    operandStack.push(num_2 + num_1)\n",
    "                elif char == '-':\n",
    "                    operandStack.push(num_2 - num_1)\n",
    "\n",
    "    return operandStack.pop()\n"
   ]
  },
  {
   "cell_type": "code",
   "execution_count": 143,
   "metadata": {},
   "outputs": [
    {
     "data": {
      "text/plain": [
       "37.0"
      ]
     },
     "execution_count": 143,
     "metadata": {},
     "output_type": "execute_result"
    }
   ],
   "source": [
    "# Task 2.4\n",
    "\n",
    "PostfixEval('5 6 2 + * 12 4 / -')"
   ]
  }
 ],
 "metadata": {
  "kernelspec": {
   "display_name": "Python 3",
   "language": "python",
   "name": "python3"
  },
  "language_info": {
   "codemirror_mode": {
    "name": "ipython",
    "version": 3
   },
   "file_extension": ".py",
   "mimetype": "text/x-python",
   "name": "python",
   "nbconvert_exporter": "python",
   "pygments_lexer": "ipython3",
   "version": "3.7.7"
  }
 },
 "nbformat": 4,
 "nbformat_minor": 2
}
