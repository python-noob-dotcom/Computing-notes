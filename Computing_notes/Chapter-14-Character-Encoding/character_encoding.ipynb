{
 "cells": [
  {
   "cell_type": "code",
   "execution_count": 1,
   "metadata": {},
   "outputs": [
    {
     "data": {
      "text/plain": [
       "65"
      ]
     },
     "execution_count": 1,
     "metadata": {},
     "output_type": "execute_result"
    }
   ],
   "source": [
    "# To get ASCII code for characters\n",
    "\n",
    "ord('A')"
   ]
  },
  {
   "cell_type": "code",
   "execution_count": 6,
   "metadata": {},
   "outputs": [
    {
     "data": {
      "text/plain": [
       "'d'"
      ]
     },
     "execution_count": 6,
     "metadata": {},
     "output_type": "execute_result"
    }
   ],
   "source": [
    "# To get character from ASCII code\n",
    "\n",
    "chr(100)"
   ]
  },
  {
   "cell_type": "code",
   "execution_count": 37,
   "metadata": {},
   "outputs": [
    {
     "data": {
      "text/plain": [
       "'KOEJ OOO EAK'"
      ]
     },
     "execution_count": 37,
     "metadata": {},
     "output_type": "execute_result"
    }
   ],
   "source": [
    "# basic cipher / encryption\n",
    "\n",
    "def encryption(value, key= 3):\n",
    "\n",
    "    value = value.upper()\n",
    "    encrypted_message = ''\n",
    "    for char in value:\n",
    "        if char != ' ':\n",
    "            new_ascii_value = (ord(char) ** key - 65) % 26 + 65\n",
    "\n",
    "            encrypted_message += chr(new_ascii_value)\n",
    "        else:\n",
    "            encrypted_message += ' '\n",
    "\n",
    "    return encrypted_message\n",
    "\n",
    "encryption('your mom gay', 10)\n"
   ]
  }
 ],
 "metadata": {
  "kernelspec": {
   "display_name": "Python 3",
   "language": "python",
   "name": "python3"
  },
  "language_info": {
   "codemirror_mode": {
    "name": "ipython",
    "version": 3
   },
   "file_extension": ".py",
   "mimetype": "text/x-python",
   "name": "python",
   "nbconvert_exporter": "python",
   "pygments_lexer": "ipython3",
   "version": "3.6.4"
  }
 },
 "nbformat": 4,
 "nbformat_minor": 2
}
