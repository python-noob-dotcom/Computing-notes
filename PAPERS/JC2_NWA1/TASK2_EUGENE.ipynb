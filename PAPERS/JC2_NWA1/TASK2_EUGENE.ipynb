{
 "cells": [
  {
   "cell_type": "code",
   "execution_count": 4,
   "metadata": {},
   "outputs": [],
   "source": [
    "# Task 2.1\n",
    "\n",
    "def GenerateKeyOrder(CipherKey):\n",
    "    \n",
    "    if CipherKey.isupper():\n",
    "        base = ord('A')\n",
    "        order = []\n",
    "        for char in CipherKey:\n",
    "            order.append(ord(char) - base)\n",
    "\n",
    "        lowest_index = 1\n",
    "        highest_index = len(CipherKey)\n",
    "        new_order = ''\n",
    "        for number in order:\n",
    "            order_sorted = sorted(order)\n",
    "            new_order += str(order_sorted.index(number) + 1)\n",
    "            new_order += ' '\n",
    "        \n",
    "        return new_order\n",
    "\n"
   ]
  },
  {
   "cell_type": "code",
   "execution_count": 3,
   "metadata": {},
   "outputs": [
    {
     "data": {
      "text/plain": [
       "False"
      ]
     },
     "execution_count": 3,
     "metadata": {},
     "output_type": "execute_result"
    }
   ],
   "source": [
    "'abC'.islower()"
   ]
  },
  {
   "cell_type": "code",
   "execution_count": 4,
   "metadata": {},
   "outputs": [
    {
     "name": "stdout",
     "output_type": "stream",
     "text": [
      "6 3 2 4 1 5 \n"
     ]
    }
   ],
   "source": [
    "# Task 2.2\n",
    "\n",
    "txt = input('Please input a text string of 10 unique letters')\n",
    "\n",
    "while txt.islower() == False and txt.isupper() == False:\n",
    "    txt = input('Please input these letters in either all uppercase or all lowercase')\n",
    "\n",
    "perm = GenerateKeyOrder(txt)\n",
    "print(perm)"
   ]
  },
  {
   "cell_type": "code",
   "execution_count": 2,
   "metadata": {},
   "outputs": [
    {
     "name": "stdout",
     "output_type": "stream",
     "text": [
      "632415\n",
      "EVLN! ACDT! ESEA! ROFO! DEEC! WIREE "
     ]
    }
   ],
   "source": [
    "# Task 2.3\n",
    "\n",
    "with open('./Message.txt', 'r') as message:\n",
    "    msg = message.readline().strip()\n",
    "    \n",
    "new_msg = ''\n",
    "for char in msg.upper():\n",
    "    if not char.isalpha():\n",
    "        pass\n",
    "    else:\n",
    "        new_msg += char\n",
    "\n",
    "no_columns = len(new_msg)\n",
    "legit = ''\n",
    "\n",
    "perm = GenerateKeyOrder('ZEBRAS')\n",
    "for char in perm:\n",
    "    if char == ' ':\n",
    "        pass\n",
    "    else:\n",
    "        legit += char\n",
    "\n",
    "print(legit)\n",
    "\n",
    "if no_columns % len(legit) != 0:\n",
    "    no_columns = no_columns // len(legit) + 1\n",
    "\n",
    "else:\n",
    "    no_columns = no_columns / len(legit)\n",
    "\n",
    "table = [[None for i in range(len(legit))] for i in range(no_columns)]\n",
    "for i in range(len(new_msg)):\n",
    "    row = i // len(legit)\n",
    "    column = i % len(legit)\n",
    "\n",
    "    table[row][column] = new_msg[i]\n",
    "\n",
    "table = [[5, 2, 1, 3, 0, 4]] + table\n",
    "encrypted_message = [None for i in range(6)]\n",
    "\n",
    "for index in table[0]:\n",
    "    i = table[0].index(index)\n",
    "    encrypt = ''\n",
    "\n",
    "    for row in table:\n",
    "        if table.index(row) == 0:\n",
    "            continue\n",
    "        \n",
    "        if row[i] == None:\n",
    "            encrypt += '!'\n",
    "        else:\n",
    "            encrypt += f'{row[i]}'\n",
    "\n",
    "    encrypted_message[index] = [encrypt]\n",
    "\n",
    "for char in encrypted_message:\n",
    "    print(char[0], end= ' ')\n",
    "\n",
    "\n",
    "ordered = [None for i in range(len(legit))]\n"
   ]
  },
  {
   "cell_type": "code",
   "execution_count": 19,
   "metadata": {},
   "outputs": [
    {
     "name": "stdout",
     "output_type": "stream",
     "text": [
      "['W', 'E', 'A', 'R', 'E', 'D']\n",
      "['I', 'S', 'C', 'O', 'V', 'E']\n",
      "['R', 'E', 'D', 'F', 'L', 'E']\n",
      "['E', 'A', 'T', 'O', 'N', 'C']\n",
      "['E', None, None, None, None, None]\n"
     ]
    }
   ],
   "source": [
    "for row in table:\n",
    "    print(row)"
   ]
  },
  {
   "cell_type": "code",
   "execution_count": 66,
   "metadata": {},
   "outputs": [
    {
     "name": "stdout",
     "output_type": "stream",
     "text": [
      "['W', 'I', 'R', 'E', 'E']\n",
      "['E', 'S', 'E', 'A', '!']\n",
      "['A', 'C', 'D', 'T', '!']\n",
      "['R', 'O', 'F', 'O', '!']\n",
      "['E', 'V', 'L', 'N', '!']\n",
      "['D', 'E', 'E', 'C', '!']\n",
      "5\n",
      "WEAREDISCOVEREDFLEEATONCE\n"
     ]
    }
   ],
   "source": [
    "# Task 2.4\n",
    "\n",
    "def Decode(EncodedMessage, Key):\n",
    "\n",
    "\n",
    "    num_rows = len(EncodedMessage) // (len(Key) - 1)\n",
    "    table = []\n",
    "\n",
    "    for i in range(num_rows):\n",
    "        table += [[None for i in range(len(Key) - 1)]]\n",
    "\n",
    "    cipher_order = GenerateKeyOrder(Key)\n",
    "    for i in range(len(EncodedMessage)):\n",
    "\n",
    "        table[i // (len(Key) - 1)][i % (len(Key) - 1)] = EncodedMessage[i]\n",
    "\n",
    "    cipher_order = list(cipher_order.split(' '))[:-1]\n",
    "\n",
    "    decrypted = [None for i in range(len(cipher_order))]\n",
    "\n",
    "    for i in range(len(cipher_order)):\n",
    "        column_index = int(cipher_order[i]) - 1\n",
    "        decrypt = ''\n",
    "        \n",
    "        if '!' not in table[column_index]:\n",
    "            decrypt = table[column_index]\n",
    "        else:\n",
    "            decrypt = table[column_index]\n",
    "\n",
    "        decrypted[i] = decrypt\n",
    "\n",
    "    for row in decrypted:\n",
    "        print(row)\n",
    "\n",
    "\n",
    "\n",
    "    decrypted_2 = ''\n",
    "\n",
    "    print(len(Key) - 1)\n",
    "    for i in range(len(cipher_order) - 1):\n",
    "        for row in decrypted:\n",
    "            decrypted_2 += row[i]\n",
    "\n",
    "    print(decrypted_2.replace('!', ''))\n",
    "\n",
    "Decode('EVLN!ACDT!ESEA!ROFO!DEEC!WIREE', 'ZEBRAS')\n",
    " "
   ]
  }
 ],
 "metadata": {
  "kernelspec": {
   "display_name": "Python 3",
   "language": "python",
   "name": "python3"
  },
  "language_info": {
   "codemirror_mode": {
    "name": "ipython",
    "version": 3
   },
   "file_extension": ".py",
   "mimetype": "text/x-python",
   "name": "python",
   "nbconvert_exporter": "python",
   "pygments_lexer": "ipython3",
   "version": "3.7.7"
  }
 },
 "nbformat": 4,
 "nbformat_minor": 2
}
