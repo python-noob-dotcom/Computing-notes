{
 "cells": [
  {
   "cell_type": "code",
   "execution_count": 3,
   "metadata": {},
   "outputs": [
    {
     "data": {
      "text/plain": [
       "7.428571428571429"
      ]
     },
     "execution_count": 3,
     "metadata": {},
     "output_type": "execute_result"
    }
   ],
   "source": [
    "# Task 1.1\n",
    "def average_score(lst):\n",
    "    \"\"\"\n",
    "    takes in a nested list, lst, containing nine sub-lists, each storing the score given by \n",
    "    a judge \n",
    "    • ignores the highest and lowest scores in lst \n",
    "    • returns the score obtained by a participant as the average of the remaining seven \n",
    "    scores. \"\"\"\n",
    "    scores = []\n",
    "    for score in lst:\n",
    "        scores.append(score[1])\n",
    "    \n",
    "    scores.remove(max(scores))\n",
    "    scores.remove(min(scores))\n",
    "\n",
    "    return sum(scores) / len(scores)\n",
    "\n",
    "scores = [['J1',  2.0],  ['J2',  5.0],  ['J3',  8.0], ['J4',  8.5], \n",
    "   ['J5',  8.0],  ['J6',  9.5], ['J7',  7.5],  ['J8',  9.0], \n",
    "   ['J9', 6.0]] \n",
    "\n",
    "average_score(scores)\n"
   ]
  },
  {
   "cell_type": "code",
   "execution_count": 75,
   "metadata": {},
   "outputs": [
    {
     "data": {
      "text/plain": [
       "7.357142857142857"
      ]
     },
     "execution_count": 75,
     "metadata": {},
     "output_type": "execute_result"
    }
   ],
   "source": [
    "# Task 1.2\n",
    "def change_score(lst, new_lst):\n",
    "    \"\"\"\n",
    "    takes in a nested list, lst, containing nine sub-lists, each storing the original score \n",
    "    given by a judge \n",
    "    takes  in  a  second  nested  list,  new_lst,  where  each  sub-list  stores  the  amended \n",
    "    score made by the judge  \n",
    "    replaces  the  original  scores  in  lst  with  the  amended  scores  in  new_lst  where \n",
    "    necessary  \n",
    "    uses average_score to return the new score obtained by a participant\n",
    "    \"\"\"\n",
    "    for score in lst:\n",
    "        for new_score in new_lst:\n",
    "            if score[0] in new_score:\n",
    "                if score[1] != new_score[1]:\n",
    "                    score[1] = new_score[1]\n",
    "\n",
    "    return average_score(lst)\n",
    "\n",
    "\n",
    "scores = [['J1',  2.0],  ['J2',  5.0],  ['J3',  8.0], ['J4',  8.5], \n",
    "   ['J5',  8.0],  ['J6',  9.5], ['J7',  7.5],  ['J8',  9.0], \n",
    "   ['J9', 6.0]]  \n",
    " \n",
    "amendments = [['J8', 8.5], ['J2', 4.5], ['J7', 8.0]]\n",
    "change_score(scores, amendments)"
   ]
  }
 ],
 "metadata": {
  "kernelspec": {
   "display_name": "Python 3",
   "language": "python",
   "name": "python3"
  },
  "language_info": {
   "codemirror_mode": {
    "name": "ipython",
    "version": 3
   },
   "file_extension": ".py",
   "mimetype": "text/x-python",
   "name": "python",
   "nbconvert_exporter": "python",
   "pygments_lexer": "ipython3",
   "version": "3.6.4"
  },
  "orig_nbformat": 4
 },
 "nbformat": 4,
 "nbformat_minor": 2
}
