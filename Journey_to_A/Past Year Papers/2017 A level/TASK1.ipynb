{
 "cells": [
  {
   "cell_type": "code",
   "execution_count": null,
   "metadata": {},
   "outputs": [],
   "source": [
    "inventory = {}\n",
    "\n",
    "with open('INVENTORY.txt') as f:\n",
    "    raw_inv = []\n",
    "    for line in f:\n",
    "        line = line.strip()\n",
    "        raw_inv += [line]\n",
    "\n",
    "        if line not in inventory.keys():\n",
    "            inventory[line] = 1\n",
    "        else:\n",
    "            inventory[line] += 1\n",
    "\n",
    "ItemTypes = list(set(raw_inv))\n",
    "\n",
    "for item in ItemTypes:\n",
    "    print(item)\n",
    "\n",
    "for item, count in inventory.items():\n",
    "    print(f'{item}: {count}')\n"
   ]
  }
 ],
 "metadata": {
  "kernelspec": {
   "display_name": "Python 3",
   "language": "python",
   "name": "python3"
  },
  "language_info": {
   "name": "python",
   "version": "3.7.7"
  }
 },
 "nbformat": 4,
 "nbformat_minor": 2
}
