{
 "cells": [
  {
   "cell_type": "markdown",
   "metadata": {},
   "source": [
    "# Base Linear Queue, using Linked list"
   ]
  },
  {
   "cell_type": "markdown",
   "metadata": {},
   "source": [
    "A Queue data type in CS is almost like a queue in real life.\n",
    "\n",
    "If you are at the front of the queue, order your food, and then leave the queue, you are <b>\"dequeuing\".</b> <br>\n",
    "If you want to buy food from a store, you need to go to the back of the queue and start queuing <b>\"enqueue\"</b>."
   ]
  },
  {
   "cell_type": "markdown",
   "metadata": {},
   "source": [
    "<img src = 'https://media.geeksforgeeks.org/wp-content/cdn-uploads/20230726165642/Queue-Data-structure1.png' alt = 'queue graphical demonstration'>"
   ]
  },
  {
   "cell_type": "code",
   "execution_count": 1,
   "metadata": {},
   "outputs": [],
   "source": [
    "class Node:\n",
    "    def __init__(self, data, nxt = None):\n",
    "        self.data = data\n",
    "        self.nxt = nxt\n",
    "    def __str__(self):\n",
    "        return self.data\n",
    "    \n",
    "    def __repr__(self):\n",
    "        return self.data\n",
    "\n",
    "class linear_queue:\n",
    "    def __init__(self):\n",
    "        self.front = None\n",
    "\n",
    "    def empty(self):\n",
    "        return self.front == None\n",
    "    \n",
    "    def enqueue(self, data): # Add_back of linked list\n",
    "        new_node = Node(data)\n",
    "\n",
    "        if self.empty():\n",
    "            self.front = new_node\n",
    "            return 1\n",
    "        \n",
    "        \n",
    "        current = self.front\n",
    "        while current.nxt != None:\n",
    "            current = current.nxt\n",
    "\n",
    "        current.nxt = new_node\n",
    "        return 1\n",
    "\n",
    "    def dequeue(self): # Remove front of linked list\n",
    "        \n",
    "        if self.empty():\n",
    "            print('Queue is empty, cannot remove')\n",
    "            return -1\n",
    "        \n",
    "        removed = self.front\n",
    "        self.front = self.front.nxt\n",
    "\n",
    "        return removed\n",
    "\n",
    "    def peek(self): # Return the self.front\n",
    "        \n",
    "        if self.empty():\n",
    "            print('Queue is empty')\n",
    "            return -1\n",
    "        \n",
    "        return self.front\n",
    "    \n"
   ]
  },
  {
   "cell_type": "code",
   "execution_count": 2,
   "metadata": {},
   "outputs": [
    {
     "data": {
      "text/plain": [
       "2"
      ]
     },
     "execution_count": 2,
     "metadata": {},
     "output_type": "execute_result"
    }
   ],
   "source": [
    "class linearQueue(linear_queue):\n",
    "\n",
    "    def display(self):\n",
    "        if self.empty():\n",
    "            print('Queue is empty')\n",
    "            return -1\n",
    "        \n",
    "        current = self.front\n",
    "        while current != None:\n",
    "            if current.nxt != None:\n",
    "                print(f'{current} --> ', end = '')\n",
    "            else:\n",
    "                print(current)\n",
    "\n",
    "    def size(self):\n",
    "\n",
    "        counter = 0\n",
    "\n",
    "        if self.empty():\n",
    "            return counter\n",
    "        \n",
    "        # If you use current != None\n",
    "        current = self.front\n",
    "        while current != None:\n",
    "            current = current.nxt\n",
    "            counter += 1\n",
    "\n",
    "        # If you use current.nxt != None\n",
    "        # counter = 1\n",
    "        # while current.nxt != None:\n",
    "        #     current = current.nxt\n",
    "        #     counter += 1\n",
    "\n",
    "        return counter\n",
    "    \n",
    "\n",
    "queue = linearQueue()\n",
    "queue.enqueue(1)\n",
    "queue.enqueue('a')\n",
    "queue.size()"
   ]
  },
  {
   "cell_type": "markdown",
   "metadata": {},
   "source": [
    "# Circular Queue\n",
    "\n",
    "In a circular Queue, you connect"
   ]
  }
 ],
 "metadata": {
  "kernelspec": {
   "display_name": "Python 3",
   "language": "python",
   "name": "python3"
  },
  "language_info": {
   "codemirror_mode": {
    "name": "ipython",
    "version": 3
   },
   "file_extension": ".py",
   "mimetype": "text/x-python",
   "name": "python",
   "nbconvert_exporter": "python",
   "pygments_lexer": "ipython3",
   "version": "3.7.7"
  }
 },
 "nbformat": 4,
 "nbformat_minor": 2
}
