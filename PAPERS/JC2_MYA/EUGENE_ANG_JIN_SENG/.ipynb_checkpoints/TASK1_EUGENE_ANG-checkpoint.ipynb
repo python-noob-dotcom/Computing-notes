{
 "cells": [
  {
   "cell_type": "code",
   "execution_count": 36,
   "id": "190babe1",
   "metadata": {},
   "outputs": [],
   "source": [
    "# Task 1.1\n",
    "\n",
    "class Character:\n",
    "    def __init__(self, name, x, y):\n",
    "        self.name = name\n",
    "        self.xpos = x\n",
    "        self.ypos = y\n",
    "        "
   ]
  },
  {
   "cell_type": "code",
   "execution_count": 37,
   "id": "3d7e9b1e",
   "metadata": {},
   "outputs": [],
   "source": [
    "# Task 1.2\n",
    "class Character:\n",
    "    def __init__(self, name, x, y):\n",
    "        self.name = name\n",
    "        self.xpos = x\n",
    "        self.ypos = y\n",
    "        \n",
    "    def get_x(self):\n",
    "        return self.xpos\n",
    "    def get_y(self):\n",
    "        return self.ypos"
   ]
  },
  {
   "cell_type": "code",
   "execution_count": 38,
   "id": "91c93d98",
   "metadata": {},
   "outputs": [],
   "source": [
    "# Task 1.3\n",
    "\n",
    "class Character:\n",
    "    def __init__(self, name, x, y):\n",
    "        self.name = name\n",
    "        self.xpos = x\n",
    "        self.ypos = y\n",
    "        \n",
    "    def get_x(self):\n",
    "        return self.xpos\n",
    "    def get_y(self):\n",
    "        return self.ypos\n",
    "    \n",
    "    def change_x(self, value):\n",
    "#         Follow logic as stated in question\n",
    "        new_x = (self.xpos + value) \n",
    "        \n",
    "        if new_x > 10000:\n",
    "            self.xpos = new_x % 10000 - 1\n",
    "            \n",
    "        else:\n",
    "            self.xpos = new_x\n",
    "            \n",
    "    def change_y(self, value):\n",
    "#         Follow logic as stated in question\n",
    "        new_y = self.ypos - value\n",
    "        \n",
    "        if new_y < 0:\n",
    "            self.ypos = 10000 - value + 1\n",
    "        \n",
    "        else:\n",
    "            self.ypos = new_y"
   ]
  },
  {
   "cell_type": "code",
   "execution_count": 39,
   "id": "b550530e",
   "metadata": {},
   "outputs": [],
   "source": [
    "# Task 1.4\n",
    "\n",
    "class Character:\n",
    "    def __init__(self, name, x, y):\n",
    "        self.name = name\n",
    "        self.xpos = x\n",
    "        self.ypos = y\n",
    "        \n",
    "    def get_x(self):\n",
    "        return self.xpos\n",
    "    def get_y(self):\n",
    "        return self.ypos\n",
    "    \n",
    "    def change_x(self, value):\n",
    "        new_x = (self.xpos + value) \n",
    "        \n",
    "        if new_x > 10000:\n",
    "            self.xpos = new_x % 10000 - 1\n",
    "            \n",
    "        else:\n",
    "            self.xpos = new_x\n",
    "            \n",
    "    def change_y(self, value):\n",
    "        new_y = self.ypos - value\n",
    "        \n",
    "        if new_y < 0:\n",
    "            self.ypos = 10000 - value + 1\n",
    "        \n",
    "        else:\n",
    "            self.ypos = new_y\n",
    "            \n",
    "    def move(self, stroke):\n",
    "        \n",
    "        stroke = stroke.upper()\n",
    "        \n",
    "        x, y = input('Enter the x and y coordinates of your character, in the format, (x y)').split(' ')\n",
    "        \n",
    "        while not x.isnumeric() or not y.isnumeric():\n",
    "            x, y = input('Enter the x and y coordinates of your character, in the format (x y)').split(' ')\n",
    "            \n",
    "        x, y = int(x), int(y)\n",
    "        \n",
    "        if stroke == 'W':\n",
    "            self.change_y(10)\n",
    "            return (self.xpos, self.ypos)\n",
    "        elif stroke == 'S':\n",
    "            self.change_y(-10)\n",
    "            return (self.xpos, self.ypos)\n",
    "        elif stroke == 'A':\n",
    "            self.change_x(-10)\n",
    "            return (self.xpos, self.ypos)\n",
    "        elif stroke == 'D':\n",
    "            self.change_x(10)\n",
    "            return (self.xpos, self.ypos)\n",
    "        else:\n",
    "            return 'Invalid stroke entered'\n",
    "        "
   ]
  },
  {
   "cell_type": "code",
   "execution_count": 46,
   "id": "3c8033f4",
   "metadata": {
    "scrolled": true
   },
   "outputs": [
    {
     "name": "stdout",
     "output_type": "stream",
     "text": [
      "Enter the x and y coordinates of your character, in the format, (y x)50 100\n",
      "-1950\n"
     ]
    },
    {
     "data": {
      "text/plain": [
       "(100, 8051)"
      ]
     },
     "execution_count": 46,
     "metadata": {},
     "output_type": "execute_result"
    }
   ],
   "source": [
    "# Task 1.5\n",
    "\n",
    "class speedycharacter(Character):\n",
    "    def __init__(self, name, x, y, multiplier):\n",
    "        super().__init__(name, x, y)\n",
    "        self.multiplier = int(multiplier)\n",
    "        \n",
    "    def change_x(self, value):\n",
    "        value = value * self.multiplier\n",
    "        new_x = (self.xpos + value) \n",
    "        \n",
    "        if new_x > 10000:\n",
    "            self.xpos = new_x % 10000 - 1\n",
    "            \n",
    "        else:\n",
    "            self.xpos = new_x\n",
    "            \n",
    "    def change_y(self, value):\n",
    "        value = value * self.multiplier\n",
    "        new_y = self.ypos + value\n",
    "        print(new_y)\n",
    "        \n",
    "        if new_y < 0:\n",
    "            self.ypos = 10000 + new_y + 1\n",
    "        \n",
    "        else:\n",
    "            self.ypos = new_y\n",
    "            \n",
    "    def move(self, stroke):\n",
    "        \n",
    "        stroke = stroke.upper()\n",
    "        \n",
    "        y, x = input('Enter the x and y coordinates of your character, in the format, (y x)').split(' ')\n",
    "        \n",
    "        while not x.isnumeric() or not y.isnumeric():\n",
    "            y, x = input('Enter the x and y coordinates of your character, in the format (y x)').split(' ')\n",
    "            \n",
    "        x, y = int(x), int(y)\n",
    "        \n",
    "        if stroke == 'W':\n",
    "            self.change_y(10)\n",
    "            return (self.xpos, self.ypos)\n",
    "        elif stroke == 'S':\n",
    "            self.change_y(-10)\n",
    "            return (self.xpos, self.ypos)\n",
    "        elif stroke == 'A':\n",
    "            self.change_x(-10)\n",
    "            return (self.xpos, self.ypos)\n",
    "        elif stroke == 'D':\n",
    "            self.change_x(10)\n",
    "            return (self.xpos, self.ypos)\n",
    "        else:\n",
    "            return 'Invalid stroke entered'\n",
    "            \n",
    "jerry = speedycharacter('Jerry', x= 100, y= 50, multiplier = 200)\n",
    "\n",
    "jerry.move('S')"
   ]
  },
  {
   "cell_type": "markdown",
   "id": "2fc11ea0",
   "metadata": {},
   "source": [
    "<h1> The rationale behind the first test case is to test the extreme y if it works</h1>"
   ]
  },
  {
   "cell_type": "code",
   "execution_count": 47,
   "id": "5ae6e639",
   "metadata": {
    "scrolled": true
   },
   "outputs": [
    {
     "name": "stdout",
     "output_type": "stream",
     "text": [
      "Which character do you want to move? jerry\n",
      "How do you want to move your character? s\n",
      "Enter the x and y coordinates of your character, in the format, (y x)50 100\n",
      "-1950\n",
      "The new position of jerry is x: 100, y: 8051\n"
     ]
    }
   ],
   "source": [
    "# Task 1.6\n",
    "\n",
    "tom = Character('Tom', x=50, y=50)\n",
    "jerry = speedycharacter('Jerry', x= 100, y= 50, multiplier = 200)\n",
    "\n",
    "char = input('Which character do you want to move? ')\n",
    "stroke = input('How do you want to move your character? ')\n",
    "\n",
    "if 'tom' in char:\n",
    "    new_pos = tom.move(stroke)\n",
    "else:\n",
    "    new_pos = jerry.move(stroke)\n",
    "    \n",
    "print(f'The new position of {char} is x: {new_pos[0]}, y: {new_pos[1]}')"
   ]
  },
  {
   "cell_type": "markdown",
   "id": "de9529e9",
   "metadata": {},
   "source": [
    "<h1>The rationale behind the next test case is to see if x works regularly</h1>"
   ]
  },
  {
   "cell_type": "code",
   "execution_count": 48,
   "id": "b9fbed93",
   "metadata": {},
   "outputs": [
    {
     "name": "stdout",
     "output_type": "stream",
     "text": [
      "Which character do you want to move? jerry\n",
      "How do you want to move your character? a\n",
      "Enter the x and y coordinates of your character, in the format, (y x)50 100\n",
      "The new position of jerry is x: -1900, y: 50\n"
     ]
    }
   ],
   "source": [
    "tom = Character('Tom', x=50, y=50)\n",
    "jerry = speedycharacter('Jerry', x= 100, y= 50, multiplier = 200)\n",
    "\n",
    "char = input('Which character do you want to move? ')\n",
    "stroke = input('How do you want to move your character? ')\n",
    "\n",
    "if 'tom' in char:\n",
    "    new_pos = tom.move(stroke)\n",
    "else:\n",
    "    new_pos = jerry.move(stroke)\n",
    "    \n",
    "print(f'The new position of {char} is x: {new_pos[0]}, y: {new_pos[1]}')"
   ]
  },
  {
   "cell_type": "markdown",
   "id": "80274903",
   "metadata": {},
   "source": [
    "<h1> Check if extreme x works</h1>"
   ]
  },
  {
   "cell_type": "code",
   "execution_count": 52,
   "id": "485b3bad",
   "metadata": {},
   "outputs": [
    {
     "name": "stdout",
     "output_type": "stream",
     "text": [
      "Which character do you want to move? jerry\n",
      "How do you want to move your character? d\n",
      "Enter the x and y coordinates of your character, in the format, (y x)50 100\n",
      "Enter the x and y coordinates of your character, in the format, (y x)50 100\n",
      "Enter the x and y coordinates of your character, in the format, (y x)50 100\n",
      "Enter the x and y coordinates of your character, in the format, (y x)50 100\n",
      "Enter the x and y coordinates of your character, in the format, (y x)50 100\n",
      "The new position of jerry is x: 99, y: 50\n"
     ]
    }
   ],
   "source": [
    "tom = Character('Tom', x=50, y=50)\n",
    "jerry = speedycharacter('Jerry', x= 100, y= 50, multiplier = 200)\n",
    "\n",
    "char = input('Which character do you want to move? ')\n",
    "stroke = input('How do you want to move your character? ')\n",
    "\n",
    "if 'tom' in char:\n",
    "    new_pos = tom.move(stroke)\n",
    "else:\n",
    "    new_pos = jerry.move(stroke)\n",
    "    new_pos = jerry.move(stroke)\n",
    "    new_pos = jerry.move(stroke)\n",
    "    new_pos = jerry.move(stroke)\n",
    "    new_pos = jerry.move(stroke)\n",
    "    \n",
    "print(f'The new position of {char} is x: {new_pos[0]}, y: {new_pos[1]}')"
   ]
  }
 ],
 "metadata": {
  "kernelspec": {
   "display_name": "Python 3 (ipykernel)",
   "language": "python",
   "name": "python3"
  },
  "language_info": {
   "codemirror_mode": {
    "name": "ipython",
    "version": 3
   },
   "file_extension": ".py",
   "mimetype": "text/x-python",
   "name": "python",
   "nbconvert_exporter": "python",
   "pygments_lexer": "ipython3",
   "version": "3.7.7"
  }
 },
 "nbformat": 4,
 "nbformat_minor": 5
}
