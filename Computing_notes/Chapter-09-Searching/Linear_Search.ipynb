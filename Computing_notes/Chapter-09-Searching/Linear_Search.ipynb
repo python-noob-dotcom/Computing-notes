{
 "cells": [
  {
   "cell_type": "markdown",
   "metadata": {},
   "source": [
    "## <font color = white> Linear Search\n",
    "Literally just iterate through the entire list to find the index of the element\n",
    "- The worst case and average case time complexity is O(n), since the function needs to iterate through the entire list / close to the entire\n",
    "list to find the target\n",
    "- The best case, is O(1), where once the algorithm enters the array, we instantly find the target"
   ]
  },
  {
   "cell_type": "code",
   "execution_count": null,
   "metadata": {},
   "outputs": [],
   "source": [
    "# Linear search for array of unique elements\n",
    "def linear_search(target, arr):\n",
    "    \"\"\"\n",
    "    Returns the index of the target to be found in the array\n",
    "    \"\"\"\n",
    "    for i in range(len(arr)):\n",
    "        if arr[i] == target:\n",
    "            return i\n",
    "    \n",
    "    return f'{target} is not in the array'\n",
    "\n",
    "linear_search(2, [1, 2, 3, 4])"
   ]
  },
  {
   "cell_type": "markdown",
   "metadata": {},
   "source": [
    "Below is the code for linear search that is able to find the indexes of multiple elements <br> <br>\n",
    "i.e. the linear search does not return the index of the element immediately, but rather appends it into a list\n"
   ]
  },
  {
   "cell_type": "code",
   "execution_count": null,
   "metadata": {},
   "outputs": [],
   "source": [
    "def linear_search_repeated(target, array):\n",
    "    locations = []\n",
    "\n",
    "    for i in range(len(array)):\n",
    "        if array[i] == target:\n",
    "            locations.append(i) \n",
    "\n",
    "    return locations if len(locations) > 0 else f'Target {target} not found in array'"
   ]
  }
 ],
 "metadata": {
  "language_info": {
   "name": "python"
  },
  "orig_nbformat": 4
 },
 "nbformat": 4,
 "nbformat_minor": 2
}
