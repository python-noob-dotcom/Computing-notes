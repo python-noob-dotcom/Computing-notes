{
 "cells": [
  {
   "cell_type": "code",
   "execution_count": 12,
   "metadata": {},
   "outputs": [],
   "source": [
    "def get_file(filename):\n",
    "    data = []\n",
    "    with open(filename, 'r') as file:\n",
    "        for row in file:\n",
    "            data += [row.strip()]\n",
    "\n",
    "    return data\n",
    "\n",
    "def get_colors(data):\n",
    "    data_copy = data\n",
    "    compressed = ''\n",
    "    i = 0\n",
    "    while i < len(data):\n",
    "        color = data[i]\n",
    "        counter = [1]\n",
    "        c = 1\n",
    "        if len(data) == 1:\n",
    "            compressed += color + '1'\n",
    "        for j in range(i + 1, len(data)):\n",
    "            if color == data[j]:\n",
    "                c += 1\n",
    "                counter += [c]\n",
    "            else:\n",
    "                compressed += color + f'{max(counter)}'\n",
    "                break\n",
    "        data = data[max(counter):]\n",
    "\n",
    "    return compressed\n",
    "\n",
    "def write(data):\n",
    "    with open('compressedimage.txt', 'w') as f:\n",
    "        f.write(data)\n",
    "\n",
    "write(get_colors(get_file('imagefile.txt')) + '\\n')"
   ]
  },
  {
   "cell_type": "code",
   "execution_count": 20,
   "metadata": {},
   "outputs": [
    {
     "name": "stdout",
     "output_type": "stream",
     "text": [
      "000000000000010011011011110000001001001010011100100110000001001001010011100100110000001001001010011100100110000001001001010011011011110000001001001010100100011110000001001001010100100011110000001001001010100100011110000000000000010011011011110\n"
     ]
    }
   ],
   "source": [
    "def get_file(filename):\n",
    "    data = []\n",
    "    with open(filename, 'r') as file:\n",
    "        for row in file:\n",
    "            data += [row.strip()]\n",
    "\n",
    "    return data\n",
    "\n",
    "def dec_colors(data):\n",
    "    data = data[0]\n",
    "    decompressed = ''\n",
    "    while len(data) > 3:\n",
    "        decompressed += data[:3]*int(data[3])\n",
    "        data = data[4:]\n",
    "\n",
    "    print(decompressed)\n",
    "    return decompressed\n",
    "\n",
    "def writer(data):\n",
    "    with open('decompressedimage.txt', 'w') as f:\n",
    "        f.write(data)\n",
    "\n",
    "def main():\n",
    "    userin = input('Enter the function you want to use: ')\n",
    "    while userin.lower() not in ['decompress', 'compress']:\n",
    "        userin = input('Enter the function you want to use: ')\n",
    "\n",
    "    if userin.lower() == 'decompress':\n",
    "        writer(dec_colors(get_file('compressedimage.txt')) + '\\n')\n",
    "    if userin.lower() == 'compress':\n",
    "        write(get_colors(get_file('imagefile.txt')) + '\\n')\n",
    "\n",
    "main()"
   ]
  }
 ],
 "metadata": {
  "kernelspec": {
   "display_name": "computing",
   "language": "python",
   "name": "python3"
  },
  "language_info": {
   "codemirror_mode": {
    "name": "ipython",
    "version": 3
   },
   "file_extension": ".py",
   "mimetype": "text/x-python",
   "name": "python",
   "nbconvert_exporter": "python",
   "pygments_lexer": "ipython3",
   "version": "3.6.13"
  }
 },
 "nbformat": 4,
 "nbformat_minor": 2
}
