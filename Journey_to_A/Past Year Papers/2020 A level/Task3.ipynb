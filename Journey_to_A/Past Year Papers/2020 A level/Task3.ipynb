{
 "cells": [
  {
   "cell_type": "code",
   "execution_count": 4,
   "metadata": {},
   "outputs": [
    {
     "name": "stdout",
     "output_type": "stream",
     "text": [
      "8000\n",
      "8000000\n",
      "8000000000\n",
      "8000000000000\n"
     ]
    }
   ],
   "source": [
    "def task3_1(quantity_of_data):\n",
    "    dic = {'KB': 10 ** 3, 'MB': 10 ** 6, 'GB': 10 ** 9, 'TB': 10 ** 12}\n",
    "    if quantity_of_data[-2:] in ['KB', 'MB', 'GB', 'TB']:\n",
    "        print(int(quantity_of_data[:-2]) * dic[quantity_of_data[-2:]])\n",
    "        return int(quantity_of_data[:-2]) * dic[quantity_of_data[-2:]]\n",
    "    else:\n",
    "        print('invalid data')\n",
    "        return 'invalid data'\n",
    "    \n",
    "task3_1('8KB')\n",
    "task3_1('8MB')\n",
    "task3_1('8GB')\n",
    "task3_1('8TB')\n",
    "None"
   ]
  },
  {
   "cell_type": "code",
   "execution_count": 4,
   "metadata": {},
   "outputs": [
    {
     "name": "stdout",
     "output_type": "stream",
     "text": [
      "8000\n",
      "8000000\n",
      "8000000000\n",
      "8000000000000\n",
      "8192\n",
      "8388608\n",
      "8589934592\n",
      "8796093022208\n"
     ]
    }
   ],
   "source": [
    "# task 3.2\n",
    "\n",
    "def task3_2(quantity_of_data):\n",
    "    dic = {'KiB': 2 ** 10, 'MiB': 2 ** 20, 'GiB': 2 ** 30, 'TiB': 2 ** 40, 'KB': 10 ** 3, 'MB': 10 ** 6, 'GB': 10 ** 9, 'TB': 10 ** 12}\n",
    "    if quantity_of_data[-2:] in ['KB', 'MB', 'GB', 'TB']:\n",
    "        print(int(quantity_of_data[:-2]) * dic[quantity_of_data[-2:]])\n",
    "        return int(quantity_of_data[:-2]) * dic[quantity_of_data[-2:]]\n",
    "    elif quantity_of_data[-3:] in ['KiB', 'MiB', 'GiB', 'TiB']:\n",
    "        print(int(quantity_of_data[:-3]) * dic[quantity_of_data[-3:]])\n",
    "        return int(quantity_of_data[:-3]) * dic[quantity_of_data[-3:]]      \n",
    "    else:\n",
    "        print('invalid data')\n",
    "        return 'invalid data'\n",
    "    \n",
    "task3_2('8KB')\n",
    "task3_2('8MB')\n",
    "task3_2('8GB')\n",
    "task3_2('8TB')\n",
    "task3_2('8KiB')\n",
    "task3_2('8MiB')\n",
    "task3_2('8GiB')\n",
    "task3_2('8TiB')\n",
    "None"
   ]
  },
  {
   "cell_type": "code",
   "execution_count": 9,
   "metadata": {},
   "outputs": [
    {
     "name": "stdout",
     "output_type": "stream",
     "text": [
      "0.5\n",
      "0.5\n",
      "536870.912\n"
     ]
    },
    {
     "data": {
      "text/plain": [
       "536870.912"
      ]
     },
     "execution_count": 9,
     "metadata": {},
     "output_type": "execute_result"
    }
   ],
   "source": [
    "def task3_3(quantity_of_data, target_unit):\n",
    "    dic = {'KiB': 2 ** 10, 'MiB': 2 ** 20, 'GiB': 2 ** 30, 'TiB': 2 ** 40, 'KB': 10 ** 3, 'MB': 10 ** 6, 'GB': 10 ** 9, 'TB': 10 ** 12}\n",
    "    if target_unit in ['KB', 'MB', 'GB', 'TB', 'KiB', 'MiB', 'GiB', 'TiB']:\n",
    "        if quantity_of_data[-2:] in ['KB', 'MB', 'GB', 'TB']:\n",
    "            print(int(quantity_of_data[:-2]) * dic[quantity_of_data[-2:]] / dic[target_unit])\n",
    "            return int(quantity_of_data[:-2]) * dic[quantity_of_data[-2:]] / dic[target_unit]\n",
    "        elif quantity_of_data[-3:] in ['KiB', 'MiB', 'GiB', 'TiB']:\n",
    "            print(int(quantity_of_data[:-3]) * dic[quantity_of_data[-3:]] / dic[target_unit])\n",
    "            return int(quantity_of_data[:-3]) * dic[quantity_of_data[-3:]] / dic[target_unit]  \n",
    "    else:\n",
    "        print('invalid data')\n",
    "        return 'invalid data' \n",
    "    \n",
    "task3_3('512MiB', 'GiB')\n",
    "task3_3('512GiB', 'TiB')\n",
    "task3_3('512MiB', 'KB')"
   ]
  }
 ],
 "metadata": {
  "kernelspec": {
   "display_name": "computing",
   "language": "python",
   "name": "python3"
  },
  "language_info": {
   "codemirror_mode": {
    "name": "ipython",
    "version": 3
   },
   "file_extension": ".py",
   "mimetype": "text/x-python",
   "name": "python",
   "nbconvert_exporter": "python",
   "pygments_lexer": "ipython3",
   "version": "3.6.13"
  }
 },
 "nbformat": 4,
 "nbformat_minor": 2
}
