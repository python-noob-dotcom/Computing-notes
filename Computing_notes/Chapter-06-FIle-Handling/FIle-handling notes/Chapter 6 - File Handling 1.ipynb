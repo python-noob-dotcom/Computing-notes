{
 "cells": [
  {
   "attachments": {},
   "cell_type": "markdown",
   "metadata": {},
   "source": [
    "# <font color = gold> Chapter 06 - File Handling 1"
   ]
  },
  {
   "attachments": {},
   "cell_type": "markdown",
   "metadata": {},
   "source": [
    "## 6.1 Data Input and Output"
   ]
  },
  {
   "attachments": {},
   "cell_type": "markdown",
   "metadata": {
    "id": "x0sXFGBM8sP4",
    "nbgrader": {
     "cell_type": "markdown",
     "checksum": "3aec9d60734e178b3249c7e7b399058e",
     "grade": false,
     "grade_id": "cell-42fc2d2bb7b50703",
     "locked": true,
     "schema_version": 3,
     "solution": false,
     "task": false
    }
   },
   "source": [
    "In **Chapter 05**, we looked at how to write functions that take in input data and return output data.\n",
    "\n",
    "The input data has to come from some source, such as a text file, a database or a server on the internet.\n",
    "\n",
    "Usually the output will also need to be stored somewhere such as a text file or a database.\n",
    "\n",
    "As such operations involve **in**put and/or **out**put of data, they are referred to as **In/Out** operations, or **IO** in short.\n",
    "\n",
    "Python provides a built-in function, `open()`, that lets you open text files for reading, writing, or appending (editing)."
   ]
  },
  {
   "attachments": {},
   "cell_type": "markdown",
   "metadata": {
    "id": "AXPTgklp8sP4",
    "nbgrader": {
     "cell_type": "markdown",
     "checksum": "f2cd2b1ba13768bdda61a44acb366fda",
     "grade": false,
     "grade_id": "cell-825bf660d745a9d0",
     "locked": true,
     "schema_version": 3,
     "solution": false,
     "task": false
    }
   },
   "source": [
    "## 6.2 The `open()` function\n",
    "\n",
    "The `open()` function requires at least one argument: the filename.\n",
    "\n",
    "`open('data.txt', 'r')` will look in the current directory for a file named `data.txt` and open it for **r**eading; you will not be able to write data to it.\n",
    "\n",
    "`open('data.txt', 'w')` will open the `data.txt` file and **w**rite new data to it, overwriting any existing data. If `data.txt` does not exist, an empty file will first be created.\n",
    "\n",
    "`open('data.txt', 'a')` will open the `data.txt` file for **a**ppending, causing new data to be written after the last line of the existing file. If `data.txt` does not exist, an empty file will first be created.\n",
    "\n",
    "You can see that the second argument specifies the **mode** to open the file in.\n",
    "\n",
    "Arguments and their associated modes\n",
    "\n",
    "- `'r'` opens the file in **read** mode (no writing)\n",
    "- `'w'` opens the file in **write** mode (no reading)\n",
    "- `'x'` creates a new file and opens it for writing (if file doesn't exist)\n",
    "- `'a'` opens the file for writing in **append** mode\n",
    "- `'+'` opens the file for both reading and writing\n",
    "\n",
    "There are also two modes that differ in the way data is read: text or binary.\n",
    "\n",
    "- `'t'` opens the file in **text** mode (this is the default way to read data)\n",
    "- `'b'` opens the file in **binary** mode\n",
    "\n",
    "There are other optional arguments for advanced users, which we will not need."
   ]
  },
  {
   "attachments": {},
   "cell_type": "markdown",
   "metadata": {},
   "source": [
    "<font color=red>**CAUTION**</font>\n",
    "<br>\n",
    "<font color=red>Be very careful when deciding whether data should be **w**ritten or **a**ppended. A wrong decision may result in loss of existing data!</font>"
   ]
  },
  {
   "attachments": {},
   "cell_type": "markdown",
   "metadata": {},
   "source": [
    "See `help(open)` for more details on usage."
   ]
  },
  {
   "cell_type": "code",
   "execution_count": null,
   "metadata": {},
   "outputs": [],
   "source": [
    "help(open)"
   ]
  },
  {
   "cell_type": "code",
   "execution_count": 49,
   "metadata": {},
   "outputs": [],
   "source": [
    "file_handle = open('abc.txt', 'w+')\n",
    "file_handle.close()\n",
    "import os\n",
    "os.remove('D:\\computing-notes\\Computing-notes\\Computing_notes\\Chapter-06\\\\words_2.txt')"
   ]
  },
  {
   "attachments": {},
   "cell_type": "markdown",
   "metadata": {
    "id": "evkP7SPL8sP5",
    "nbgrader": {
     "cell_type": "markdown",
     "checksum": "7ebf2450e2bdc343d8eaf414d1e6bbb1",
     "grade": false,
     "grade_id": "cell-ad0119bdcbd6b19d",
     "locked": true,
     "schema_version": 3,
     "solution": false,
     "task": false
    }
   },
   "source": [
    "## 6.3 Opening a text file for reading\n",
    "\n",
    "In more advanced Python programs, we may have multiple files being opened e.g. there may be one file to store settings (`settings.ini`), one file to store logs for troubleshooting (`errors.log`), and other files which users of the program may be working on (`mydocument.docx`).\n",
    "\n",
    "Each file that is opened has a **file handle** associated with it. \n",
    "\n",
    "A file handle is another Python object, with its own attributes and methods.\n",
    "\n",
    "Run the code cell below to examine the output from `type()` and `dir()`:"
   ]
  },
  {
   "cell_type": "code",
   "execution_count": 3,
   "metadata": {
    "id": "2RlqNePg8sP5",
    "scrolled": true
   },
   "outputs": [
    {
     "name": "stdout",
     "output_type": "stream",
     "text": [
      "type: <class '_io.TextIOWrapper'>\n",
      "attributes and methods: ['_CHUNK_SIZE', '__class__', '__del__', '__delattr__', '__dict__', '__dir__', '__doc__', '__enter__', '__eq__', '__exit__', '__format__', '__ge__', '__getattribute__', '__getstate__', '__gt__', '__hash__', '__init__', '__init_subclass__', '__iter__', '__le__', '__lt__', '__ne__', '__new__', '__next__', '__reduce__', '__reduce_ex__', '__repr__', '__setattr__', '__sizeof__', '__str__', '__subclasshook__', '_checkClosed', '_checkReadable', '_checkSeekable', '_checkWritable', '_finalizing', 'buffer', 'close', 'closed', 'detach', 'encoding', 'errors', 'fileno', 'flush', 'isatty', 'line_buffering', 'mode', 'name', 'newlines', 'read', 'readable', 'readline', 'readlines', 'seek', 'seekable', 'tell', 'truncate', 'writable', 'write', 'writelines']\n"
     ]
    }
   ],
   "source": [
    "file_handle = open('data.txt', 'w')\n",
    "\n",
    "print(f'type: {type(file_handle)}')\n",
    "print(f'attributes and methods: {dir(file_handle)}')\n",
    "file_handle.close()"
   ]
  },
  {
   "attachments": {},
   "cell_type": "markdown",
   "metadata": {
    "id": "3n9OTKYt8sP6",
    "nbgrader": {
     "cell_type": "markdown",
     "checksum": "4e91e339ca78e524ab859379297c7cfc",
     "grade": false,
     "grade_id": "cell-46594b060ce09c31",
     "locked": true,
     "schema_version": 3,
     "solution": false,
     "task": false
    }
   },
   "source": [
    "The methods `read()`, `readline()`, and `readlines()` in `file_handle` each serve a different purpose.\n",
    "\n",
    "Run each code cell below. Using any necessary code, examine the `data` variable and explain what each method does.\n",
    "\n",
    "What argument(s) does it require? What output does it produce?\n",
    "\n",
    "You can open `words.txt` in another window and compare the output to discern the function of `read()`."
   ]
  },
  {
   "cell_type": "code",
   "execution_count": 1,
   "metadata": {
    "id": "vhIV9SYa8sP7"
   },
   "outputs": [
    {
     "name": "stdout",
     "output_type": "stream",
     "text": [
      "a\n",
      "aa\n",
      "aaa\n",
      "a\n"
     ]
    }
   ],
   "source": [
    "file_handle = open('words.txt', 'r')\n",
    "data = file_handle.read()\n",
    "file_handle.close()\n",
    "# Write any additional code you need below this line, to examine data\n",
    "print(data[:10])"
   ]
  },
  {
   "cell_type": "code",
   "execution_count": 40,
   "metadata": {},
   "outputs": [
    {
     "data": {
      "text/plain": [
       "['a\\n', 'aa\\n', 'aaa\\n', 'aah\\n', 'aahed\\n']"
      ]
     },
     "execution_count": 40,
     "metadata": {},
     "output_type": "execute_result"
    }
   ],
   "source": [
    "data"
   ]
  },
  {
   "attachments": {},
   "cell_type": "markdown",
   "metadata": {
    "id": "bvfJd5Ao8sP7",
    "nbgrader": {
     "cell_type": "markdown",
     "checksum": "2fde407b6c83fbf1ffa4801864d8b293",
     "grade": false,
     "grade_id": "cell-aead19c374849b5b",
     "locked": true,
     "schema_version": 3,
     "solution": false,
     "task": false
    }
   },
   "source": [
    "Q1: What does the `read()` method of `file_handle` do?"
   ]
  },
  {
   "attachments": {},
   "cell_type": "markdown",
   "metadata": {
    "id": "ET_1n3P08sP7",
    "nbgrader": {
     "cell_type": "markdown",
     "checksum": "0b1285426b666f5803518f7be49bbc90",
     "grade": true,
     "grade_id": "cell-6274feb3284ff999",
     "locked": false,
     "points": 1,
     "schema_version": 3,
     "solution": true,
     "task": false
    }
   },
   "source": [
    "A1: Processes all the data in the source the way it is formatted"
   ]
  },
  {
   "cell_type": "code",
   "execution_count": 2,
   "metadata": {
    "id": "UBFgSN_Q8sP8"
   },
   "outputs": [
    {
     "name": "stdout",
     "output_type": "stream",
     "text": [
      "['a\\n', 'aa\\n', 'aaa\\n', 'aah\\n', 'aahed\\n']\n"
     ]
    }
   ],
   "source": [
    "data = [] # Initialise empty array\n",
    "file_handle = open('words.txt', 'r')\n",
    "data.append(file_handle.readline())\n",
    "data.append(file_handle.readline())\n",
    "data.append(file_handle.readline())\n",
    "data.append(file_handle.readline())\n",
    "data.append(file_handle.readline())\n",
    "file_handle.close()\n",
    "\n",
    "# Write any additional code you need below this line, to examine data\n",
    "print(data)"
   ]
  },
  {
   "attachments": {},
   "cell_type": "markdown",
   "metadata": {
    "id": "FnwribII8sP8",
    "nbgrader": {
     "cell_type": "markdown",
     "checksum": "e49ffb39309cf8036bd7982d50c48f1e",
     "grade": false,
     "grade_id": "cell-01297cfb3eda38a6",
     "locked": true,
     "schema_version": 3,
     "solution": false,
     "task": false
    }
   },
   "source": [
    "Q2: What does the `readline()` method of `file_handle` do?"
   ]
  },
  {
   "attachments": {},
   "cell_type": "markdown",
   "metadata": {
    "id": "jH8mIBcY8sP8",
    "nbgrader": {
     "cell_type": "markdown",
     "checksum": "9bb7bc32903b3056dc4261afe0cd03fe",
     "grade": true,
     "grade_id": "cell-7c9e65d98c78fad4",
     "locked": false,
     "points": 1,
     "schema_version": 3,
     "solution": true,
     "task": false
    }
   },
   "source": [
    "A2: Processes individual lines recording all the keystrokes used to cretae the line (including the Enter button to next line)"
   ]
  },
  {
   "cell_type": "code",
   "execution_count": 70,
   "metadata": {
    "id": "lBPQnNel8sP9"
   },
   "outputs": [
    {
     "data": {
      "text/plain": [
       "['',\n",
       " '',\n",
       " '',\n",
       " 'h',\n",
       " 'hed',\n",
       " 'hing',\n",
       " 'hs',\n",
       " 'l',\n",
       " 'lii',\n",
       " 'liis',\n",
       " 'ls',\n",
       " 'm',\n",
       " 'ni',\n",
       " 'rdvark',\n",
       " 'rdvarks',\n",
       " 'rdwolf',\n",
       " 'rdwolves',\n",
       " 'rgh',\n",
       " 'ron',\n",
       " 'ronic',\n",
       " 'ronical',\n",
       " 'ronite',\n",
       " 'ronitic',\n",
       " 'rrgh',\n",
       " 'rrghh',\n",
       " 'ru',\n",
       " 's',\n",
       " 'svogel',\n",
       " 'svogels',\n",
       " 'b',\n",
       " 'b',\n",
       " 'babdeh',\n",
       " 'babu',\n",
       " 'bac',\n",
       " 'bac',\n",
       " 'bacay',\n",
       " 'bacas',\n",
       " 'bacate',\n",
       " 'bacaxi',\n",
       " 'baci',\n",
       " 'bacinate',\n",
       " 'bacination',\n",
       " 'bacisci',\n",
       " 'baciscus',\n",
       " 'bacist',\n",
       " 'back',\n",
       " 'bacli',\n",
       " 'bacot',\n",
       " 'bacterial',\n",
       " 'bactinal',\n",
       " 'bactinally',\n",
       " 'baction',\n",
       " 'bactor',\n",
       " 'baculi',\n",
       " 'baculus',\n",
       " 'bacus',\n",
       " 'bacuses',\n",
       " 'bad',\n",
       " 'baddon',\n",
       " 'badejo',\n",
       " 'badengo',\n",
       " 'badi',\n",
       " 'badite',\n",
       " 'baff',\n",
       " 'baft',\n",
       " 'bay',\n",
       " 'bayah',\n",
       " 'baisance',\n",
       " 'baised',\n",
       " 'baiser',\n",
       " 'baisse',\n",
       " 'baissed',\n",
       " 'bak',\n",
       " 'bakas',\n",
       " 'balation',\n",
       " 'balienate',\n",
       " 'balienated',\n",
       " 'balienating',\n",
       " 'balienation',\n",
       " 'balone',\n",
       " 'balones',\n",
       " 'bam',\n",
       " 'bamp',\n",
       " 'bampere',\n",
       " 'bamperes',\n",
       " 'bamps',\n",
       " 'band',\n",
       " 'bandon',\n",
       " 'bandonable',\n",
       " 'bandoned',\n",
       " 'bandonedly',\n",
       " 'bandonee',\n",
       " 'bandoner',\n",
       " 'bandoners',\n",
       " 'bandoning',\n",
       " 'bandonment',\n",
       " 'bandonments',\n",
       " 'bandons',\n",
       " 'bandum',\n",
       " 'banet',\n",
       " 'bang',\n",
       " 'banic',\n",
       " 'bannition',\n",
       " 'bantes',\n",
       " 'bapical',\n",
       " 'baptiston',\n",
       " 'baptistum',\n",
       " 'barambo',\n",
       " 'baris',\n",
       " 'barthrosis',\n",
       " 'barticular',\n",
       " 'barticulation',\n",
       " 'bas',\n",
       " 'base',\n",
       " 'based',\n",
       " 'basedly',\n",
       " 'basedness',\n",
       " 'basement',\n",
       " 'basements',\n",
       " 'baser',\n",
       " 'basers',\n",
       " 'bases',\n",
       " 'basgi',\n",
       " 'bash',\n",
       " 'bashed',\n",
       " 'bashedly',\n",
       " 'bashedness',\n",
       " 'bashes',\n",
       " 'bashing',\n",
       " 'bashless',\n",
       " 'bashlessly',\n",
       " 'bashment',\n",
       " 'bashments',\n",
       " 'basi',\n",
       " 'basias',\n",
       " 'basic',\n",
       " 'basing',\n",
       " 'basio',\n",
       " 'bask',\n",
       " 'bassi',\n",
       " 'bassin',\n",
       " 'bastard',\n",
       " 'bastardize',\n",
       " 'bastral',\n",
       " 'batable',\n",
       " 'batage',\n",
       " 'bate',\n",
       " 'bated',\n",
       " 'batement',\n",
       " 'batements',\n",
       " 'bater',\n",
       " 'baters',\n",
       " 'bates',\n",
       " 'batic',\n",
       " 'bating',\n",
       " 'batis',\n",
       " 'batised',\n",
       " 'batises',\n",
       " 'batjour',\n",
       " 'batjours',\n",
       " 'baton',\n",
       " 'bator',\n",
       " 'bators',\n",
       " 'battage',\n",
       " 'battis',\n",
       " 'battised',\n",
       " 'battises',\n",
       " 'battoir',\n",
       " 'battoirs',\n",
       " 'battu',\n",
       " 'battue',\n",
       " 'batu',\n",
       " 'bature',\n",
       " 'baue',\n",
       " 'bave',\n",
       " 'baxial',\n",
       " 'baxile',\n",
       " 'baze',\n",
       " 'bb',\n",
       " 'bb',\n",
       " 'bbacy',\n",
       " 'bbacies',\n",
       " 'bbacomes',\n",
       " 'bbadide',\n",
       " 'bbaye',\n",
       " 'bbandono',\n",
       " 'bbas',\n",
       " 'bbasi',\n",
       " 'bbasid',\n",
       " 'bbassi',\n",
       " 'bbasside',\n",
       " 'bbate',\n",
       " 'bbatial',\n",
       " 'bbatical',\n",
       " 'bbatie',\n",
       " 'bbe',\n",
       " 'bbey',\n",
       " 'bbeys',\n",
       " 'bbeystead',\n",
       " 'bbeystede',\n",
       " 'bbes',\n",
       " 'bbess',\n",
       " 'bbesses',\n",
       " 'bbest',\n",
       " 'bbevillian',\n",
       " 'bby',\n",
       " 'bbie',\n",
       " 'bboccato',\n",
       " 'bbogad',\n",
       " 'bbot',\n",
       " 'bbotcy',\n",
       " 'bbotcies',\n",
       " 'bbotnullius',\n",
       " 'bbotric',\n",
       " 'bbots',\n",
       " 'bbotship',\n",
       " 'bbotships',\n",
       " 'bbott',\n",
       " 'bbozzo',\n",
       " 'bbr',\n",
       " 'bbrev',\n",
       " 'bbreviatable',\n",
       " 'bbreviate',\n",
       " 'bbreviated',\n",
       " 'bbreviately',\n",
       " 'bbreviates',\n",
       " 'bbreviating',\n",
       " 'bbreviation',\n",
       " 'bbreviations',\n",
       " 'bbreviator',\n",
       " 'bbreviatory',\n",
       " 'bbreviators',\n",
       " 'bbreviature',\n",
       " 'bbroachment',\n",
       " 'bc',\n",
       " 'bcess',\n",
       " 'bciss',\n",
       " 'bcoulomb',\n",
       " 'bd',\n",
       " 'bdal',\n",
       " 'bdali',\n",
       " 'bdari',\n",
       " 'bdat',\n",
       " 'bderian',\n",
       " 'bderite',\n",
       " 'bdest',\n",
       " 'bdicable',\n",
       " 'bdicant',\n",
       " 'bdicate',\n",
       " 'bdicated',\n",
       " 'bdicates',\n",
       " 'bdicating',\n",
       " 'bdication',\n",
       " 'bdications',\n",
       " 'bdicative',\n",
       " 'bdicator',\n",
       " 'bdiel',\n",
       " 'bditive',\n",
       " 'bditory',\n",
       " 'bdom',\n",
       " 'bdomen',\n",
       " 'bdomens',\n",
       " 'bdomin',\n",
       " 'bdominal',\n",
       " 'bdominales',\n",
       " 'bdominali',\n",
       " 'bdominalian',\n",
       " 'bdominally',\n",
       " 'bdominals',\n",
       " 'bdominoanterior',\n",
       " 'bdominocardiac',\n",
       " 'bdominocentesis',\n",
       " 'bdominocystic',\n",
       " 'bdominogenital',\n",
       " 'bdominohysterectomy',\n",
       " 'bdominohysterotomy',\n",
       " 'bdominoposterior',\n",
       " 'bdominoscope',\n",
       " 'bdominoscopy',\n",
       " 'bdominothoracic',\n",
       " 'bdominous',\n",
       " 'bdominovaginal',\n",
       " 'bdominovesical',\n",
       " 'bduce',\n",
       " 'bduced',\n",
       " 'bducens',\n",
       " 'bducent',\n",
       " 'bducentes',\n",
       " 'bduces',\n",
       " 'bducing',\n",
       " 'bduct',\n",
       " 'bducted',\n",
       " 'bducting',\n",
       " 'bduction',\n",
       " 'bductions',\n",
       " 'bductor',\n",
       " 'bductores',\n",
       " 'bductors',\n",
       " 'bducts',\n",
       " 'be',\n",
       " 'beam',\n",
       " 'bear',\n",
       " 'bearance',\n",
       " 'becedaire',\n",
       " 'becedary',\n",
       " 'becedari',\n",
       " 'becedarian',\n",
       " 'becedarians',\n",
       " 'becedaries',\n",
       " 'becedarium',\n",
       " 'becedarius',\n",
       " 'bed',\n",
       " 'bede',\n",
       " 'bedge',\n",
       " 'begge',\n",
       " 'bey',\n",
       " 'beyance',\n",
       " 'beyances',\n",
       " 'beyancy',\n",
       " 'beyancies',\n",
       " 'beyant',\n",
       " 'beigh',\n",
       " 'bel',\n",
       " 'bele',\n",
       " 'beles',\n",
       " 'beli',\n",
       " 'belian',\n",
       " 'belice',\n",
       " 'belite',\n",
       " 'belmoschus',\n",
       " 'belmosk',\n",
       " 'belmosks',\n",
       " 'belmusk',\n",
       " 'belonian',\n",
       " 'beltree',\n",
       " 'bencerrages',\n",
       " 'bend',\n",
       " 'bends',\n",
       " 'benteric',\n",
       " 'bepithymi',\n",
       " 'berdavine',\n",
       " 'berdeen',\n",
       " 'berdevine',\n",
       " 'berdonian',\n",
       " 'berduvine',\n",
       " 'beri',\n",
       " 'bernethy',\n",
       " 'berr',\n",
       " 'berrance',\n",
       " 'berrancy',\n",
       " 'berrancies',\n",
       " 'berrant',\n",
       " 'berrantly',\n",
       " 'berrants',\n",
       " 'berrate',\n",
       " 'berrated',\n",
       " 'berrating',\n",
       " 'berration',\n",
       " 'berrational',\n",
       " 'berrations',\n",
       " 'berrative',\n",
       " 'berrator',\n",
       " 'berrometer',\n",
       " 'berroscope',\n",
       " 'beruncate',\n",
       " 'beruncator',\n",
       " 'besse',\n",
       " 'bessive',\n",
       " 'bet',\n",
       " 'betment',\n",
       " 'betments',\n",
       " 'bets',\n",
       " 'bettal',\n",
       " 'bettals',\n",
       " 'betted',\n",
       " 'better',\n",
       " 'betters',\n",
       " 'betting',\n",
       " 'bettor',\n",
       " 'bettors',\n",
       " 'bevacuation',\n",
       " 'bfarad',\n",
       " 'bfarads',\n",
       " 'bhenry',\n",
       " 'bhenries',\n",
       " 'bhenrys',\n",
       " 'bhinay',\n",
       " 'bhisek',\n",
       " 'bhominable',\n",
       " 'bhor',\n",
       " 'bhorred',\n",
       " 'bhorrence',\n",
       " 'bhorrences',\n",
       " 'bhorrency',\n",
       " 'bhorrent',\n",
       " 'bhorrently',\n",
       " 'bhorrer',\n",
       " 'bhorrers',\n",
       " 'bhorrible',\n",
       " 'bhorring',\n",
       " 'bhors',\n",
       " 'bhorson',\n",
       " 'by',\n",
       " 'bib',\n",
       " 'bichite',\n",
       " 'bidal',\n",
       " 'bidance',\n",
       " 'bidances',\n",
       " 'bidden',\n",
       " 'bide',\n",
       " 'bided',\n",
       " 'bider',\n",
       " 'biders',\n",
       " 'bides',\n",
       " 'bidi',\n",
       " 'biding',\n",
       " 'bidingly',\n",
       " 'bidingness',\n",
       " 'bie',\n",
       " 'bye',\n",
       " 'biegh',\n",
       " 'bience',\n",
       " 'bient',\n",
       " 'bies',\n",
       " 'byes',\n",
       " 'bietate',\n",
       " 'bietene',\n",
       " 'bietic',\n",
       " 'bietin',\n",
       " 'bietineae',\n",
       " 'bietineous',\n",
       " 'bietinic',\n",
       " 'bietite',\n",
       " 'biezer',\n",
       " 'bigail',\n",
       " 'bigails',\n",
       " 'bigailship',\n",
       " 'bigeat',\n",
       " 'bigei',\n",
       " 'bigeus',\n",
       " 'bying',\n",
       " 'bilao',\n",
       " 'bilene',\n",
       " 'biliment',\n",
       " 'bilitable',\n",
       " 'bility',\n",
       " 'bilities',\n",
       " 'bill',\n",
       " 'bilo',\n",
       " 'bime',\n",
       " 'bintestate',\n",
       " 'biogeneses',\n",
       " 'biogenesis',\n",
       " 'biogenesist',\n",
       " 'biogenetic',\n",
       " 'biogenetical',\n",
       " 'biogenetically',\n",
       " 'biogeny',\n",
       " 'biogenist',\n",
       " 'biogenous',\n",
       " 'biology',\n",
       " 'biological',\n",
       " 'biologically',\n",
       " 'bioses',\n",
       " 'biosis',\n",
       " 'biotic',\n",
       " 'biotical',\n",
       " 'biotically',\n",
       " 'biotrophy',\n",
       " 'biotrophic',\n",
       " 'bipon',\n",
       " 'bir',\n",
       " 'birritant',\n",
       " 'birritate',\n",
       " 'birritated',\n",
       " 'birritating',\n",
       " 'birritation',\n",
       " 'birritative',\n",
       " 'bys',\n",
       " 'bysm',\n",
       " 'bysmal',\n",
       " 'bysmally',\n",
       " 'bysms',\n",
       " 'byss',\n",
       " 'byss',\n",
       " 'byssal',\n",
       " 'bysses',\n",
       " 'byssini',\n",
       " 'byssinian',\n",
       " 'byssinians',\n",
       " 'byssobenthonic',\n",
       " 'byssolith',\n",
       " 'byssopelagic',\n",
       " 'byssus',\n",
       " 'biston',\n",
       " 'bit',\n",
       " 'bitibi',\n",
       " 'biuret',\n",
       " 'bject',\n",
       " 'bjectedness',\n",
       " 'bjection',\n",
       " 'bjections',\n",
       " 'bjective',\n",
       " 'bjectly',\n",
       " 'bjectness',\n",
       " 'bjoint',\n",
       " 'bjudge',\n",
       " 'bjudged',\n",
       " 'bjudging',\n",
       " 'bjudicate',\n",
       " 'bjudicated',\n",
       " 'bjudicating',\n",
       " 'bjudication',\n",
       " 'bjudicator',\n",
       " 'bjugate',\n",
       " 'bjunct',\n",
       " 'bjunction',\n",
       " 'bjunctive',\n",
       " 'bjuration',\n",
       " 'bjurations',\n",
       " 'bjuratory',\n",
       " 'bjure',\n",
       " 'bjured',\n",
       " 'bjurement',\n",
       " 'bjurer',\n",
       " 'bjurers',\n",
       " 'bjures',\n",
       " 'bjuring',\n",
       " 'bkar',\n",
       " 'bkari',\n",
       " 'bkary',\n",
       " 'bkhas',\n",
       " 'bkhasian',\n",
       " 'bl',\n",
       " 'blach',\n",
       " 'blactate',\n",
       " 'blactated',\n",
       " 'blactating',\n",
       " 'blactation',\n",
       " 'blaqueate',\n",
       " 'blare',\n",
       " 'blastemic',\n",
       " 'blastin',\n",
       " 'blastous',\n",
       " 'blate',\n",
       " 'blated',\n",
       " 'blates',\n",
       " 'blating',\n",
       " 'blation',\n",
       " 'blations',\n",
       " 'blatitious',\n",
       " 'blatival',\n",
       " 'blative',\n",
       " 'blatively',\n",
       " 'blatives',\n",
       " 'blator',\n",
       " 'blaut',\n",
       " 'blauts',\n",
       " 'blaze',\n",
       " 'ble',\n",
       " 'bleeze',\n",
       " 'blegate',\n",
       " 'blegates',\n",
       " 'blegation',\n",
       " 'blend',\n",
       " 'bleness',\n",
       " 'blephari',\n",
       " 'blepharon',\n",
       " 'blepharous',\n",
       " 'blepharus',\n",
       " 'blepsy',\n",
       " 'blepsi',\n",
       " 'bleptical',\n",
       " 'bleptically',\n",
       " 'bler',\n",
       " 'bles',\n",
       " 'blesse',\n",
       " 'blest',\n",
       " 'blet',\n",
       " 'blewhackets',\n",
       " 'bly',\n",
       " 'blings',\n",
       " 'blins',\n",
       " 'block',\n",
       " 'bloom',\n",
       " 'blow',\n",
       " 'blude',\n",
       " 'bluent',\n",
       " 'bluents',\n",
       " 'blush',\n",
       " 'blute',\n",
       " 'bluted',\n",
       " 'blution',\n",
       " 'blutionary',\n",
       " 'blutions',\n",
       " 'bluvion',\n",
       " 'bmho',\n",
       " 'bmhos',\n",
       " 'bmodality',\n",
       " 'bmodalities',\n",
       " 'bn',\n",
       " 'bnaki',\n",
       " 'bnegate',\n",
       " 'bnegated',\n",
       " 'bnegates',\n",
       " 'bnegating',\n",
       " 'bnegation',\n",
       " 'bnegations',\n",
       " 'bnegative',\n",
       " 'bnegator',\n",
       " 'bnegators',\n",
       " 'bner',\n",
       " 'bnerval',\n",
       " 'bnet',\n",
       " 'bneural',\n",
       " 'bnormal',\n",
       " 'bnormalcy',\n",
       " 'bnormalcies',\n",
       " 'bnormalise',\n",
       " 'bnormalised',\n",
       " 'bnormalising',\n",
       " 'bnormalism',\n",
       " 'bnormalist',\n",
       " 'bnormality',\n",
       " 'bnormalities',\n",
       " 'bnormalize',\n",
       " 'bnormalized',\n",
       " 'bnormalizing',\n",
       " 'bnormally',\n",
       " 'bnormalness',\n",
       " 'bnormals',\n",
       " 'bnormity',\n",
       " 'bnormities',\n",
       " 'bnormous',\n",
       " 'bnumerable',\n",
       " 'bo',\n",
       " 'board',\n",
       " 'boardage',\n",
       " 'bobr',\n",
       " 'bococket',\n",
       " 'bodah',\n",
       " 'bode',\n",
       " 'boded',\n",
       " 'bodement',\n",
       " 'bodes',\n",
       " 'body',\n",
       " 'boding',\n",
       " 'bogado',\n",
       " 'bogados',\n",
       " 'bohm',\n",
       " 'bohms',\n",
       " 'boideau',\n",
       " 'boideaus',\n",
       " 'boideaux',\n",
       " 'boil',\n",
       " 'boiteau',\n",
       " 'boiteaus',\n",
       " 'boiteaux',\n",
       " 'bolete',\n",
       " 'bolish',\n",
       " 'bolishable',\n",
       " 'bolished',\n",
       " 'bolisher',\n",
       " 'bolishers',\n",
       " 'bolishes',\n",
       " 'bolishing',\n",
       " 'bolishment',\n",
       " 'bolishments',\n",
       " 'bolition',\n",
       " 'bolitionary',\n",
       " 'bolitionise',\n",
       " 'bolitionised',\n",
       " 'bolitionising',\n",
       " 'bolitionism',\n",
       " 'bolitionist',\n",
       " 'bolitionists',\n",
       " 'bolitionize',\n",
       " 'bolitionized',\n",
       " 'bolitionizing',\n",
       " 'boll',\n",
       " 'bollae',\n",
       " 'bom',\n",
       " 'bomas',\n",
       " 'bomas',\n",
       " 'bomasal',\n",
       " 'bomasi',\n",
       " 'bomasum',\n",
       " 'bomasus',\n",
       " 'bomasusi',\n",
       " 'bominability',\n",
       " 'bominable',\n",
       " 'bominableness',\n",
       " 'bominably',\n",
       " 'bominate',\n",
       " 'bominated',\n",
       " 'bominates',\n",
       " 'bominating',\n",
       " 'bomination',\n",
       " 'bominations',\n",
       " 'bominator',\n",
       " 'bominators',\n",
       " 'bomine',\n",
       " 'bondance',\n",
       " 'bongo',\n",
       " 'bonne',\n",
       " 'bonnement',\n",
       " 'boon',\n",
       " 'borad',\n",
       " 'boral',\n",
       " 'borally',\n",
       " 'bord',\n",
       " 'boriginal',\n",
       " 'boriginality',\n",
       " 'boriginally',\n",
       " 'boriginals',\n",
       " 'boriginary',\n",
       " 'borigine',\n",
       " 'borigines',\n",
       " 'borning',\n",
       " 'borsement',\n",
       " 'borsive',\n",
       " 'bort',\n",
       " 'borted',\n",
       " 'borter',\n",
       " 'borters',\n",
       " 'borticide',\n",
       " 'bortient',\n",
       " 'bortifacient',\n",
       " 'bortin',\n",
       " 'borting',\n",
       " 'bortion',\n",
       " 'bortional',\n",
       " 'bortionist',\n",
       " 'bortionists',\n",
       " 'bortions',\n",
       " 'bortive',\n",
       " 'bortively',\n",
       " 'bortiveness',\n",
       " 'bortogenic',\n",
       " 'borts',\n",
       " 'bortus',\n",
       " 'bortuses',\n",
       " 'bos',\n",
       " 'bote',\n",
       " 'bouchement',\n",
       " 'boudikro',\n",
       " 'bought',\n",
       " 'bouli',\n",
       " 'boulias',\n",
       " 'boulic',\n",
       " 'bound',\n",
       " 'bounded',\n",
       " 'bounder',\n",
       " 'bounding',\n",
       " 'boundingly',\n",
       " 'bounds',\n",
       " 'bout',\n",
       " 'bouts',\n",
       " 'bove',\n",
       " 'boveboard',\n",
       " 'bovedeck',\n",
       " 'boveground',\n",
       " 'bovementioned',\n",
       " 'boveproof',\n",
       " 'boves',\n",
       " 'bovesaid',\n",
       " 'bovestairs',\n",
       " 'bow',\n",
       " 'box',\n",
       " 'bp',\n",
       " 'br',\n",
       " 'bracadabr',\n",
       " 'brachi',\n",
       " 'brachias',\n",
       " 'bradable',\n",
       " 'bradant',\n",
       " 'bradants',\n",
       " 'brade',\n",
       " 'braded',\n",
       " 'brader',\n",
       " 'braders',\n",
       " 'brades',\n",
       " 'brading',\n",
       " 'braham',\n",
       " 'brahamic',\n",
       " 'brahamidae',\n",
       " 'brahamite',\n",
       " 'brahamitic',\n",
       " 'bray',\n",
       " 'braid',\n",
       " 'bram',\n",
       " 'bramis',\n",
       " 'branchial',\n",
       " 'branchialism',\n",
       " 'branchian',\n",
       " 'branchiat',\n",
       " 'branchiate',\n",
       " 'branchious',\n",
       " 'brasax',\n",
       " 'brase',\n",
       " 'brased',\n",
       " 'braser',\n",
       " 'brash',\n",
       " 'brasing',\n",
       " 'brasiometer',\n",
       " 'brasion',\n",
       " 'brasions',\n",
       " 'brasive',\n",
       " 'brasively',\n",
       " 'brasiveness',\n",
       " 'brasives',\n",
       " 'brastol',\n",
       " 'braum',\n",
       " 'braxas',\n",
       " 'brazite',\n",
       " 'brazitic',\n",
       " 'brazo',\n",
       " 'brazos',\n",
       " 'breact',\n",
       " 'breacted',\n",
       " 'breacting',\n",
       " 'breaction',\n",
       " 'breactions',\n",
       " 'breacts',\n",
       " 'breast',\n",
       " 'breed',\n",
       " 'brege',\n",
       " 'breid',\n",
       " 'brenounce',\n",
       " 'brenunciate',\n",
       " 'brenunciation',\n",
       " 'breption',\n",
       " 'bret',\n",
       " 'breuvoir',\n",
       " 'bri',\n",
       " 'brico',\n",
       " 'bricock',\n",
       " 'bricot',\n",
       " 'bridgable',\n",
       " 'bridge',\n",
       " 'bridgeable',\n",
       " 'bridged',\n",
       " 'bridgedly',\n",
       " 'bridgement',\n",
       " 'bridgements',\n",
       " 'bridger',\n",
       " 'bridgers',\n",
       " 'bridges',\n",
       " 'bridging',\n",
       " 'bridgment',\n",
       " 'bridgments',\n",
       " 'brim',\n",
       " 'brin',\n",
       " 'brine',\n",
       " 'bris',\n",
       " 'bristle',\n",
       " 'broach',\n",
       " 'broad',\n",
       " 'brocom',\n",
       " 'brocome',\n",
       " 'brogable',\n",
       " 'brogate',\n",
       " 'brogated',\n",
       " 'brogates',\n",
       " 'brogating',\n",
       " 'brogation',\n",
       " 'brogations',\n",
       " 'brogative',\n",
       " 'brogator',\n",
       " 'brogators',\n",
       " 'brom',\n",
       " 'broni',\n",
       " 'brood',\n",
       " 'brook',\n",
       " 'brosi',\n",
       " 'brosias',\n",
       " 'brotanum',\n",
       " 'brotin',\n",
       " 'brotine',\n",
       " 'brupt',\n",
       " 'bruptedly',\n",
       " 'brupter',\n",
       " 'bruptest',\n",
       " 'bruptio',\n",
       " 'bruption',\n",
       " 'bruptiones',\n",
       " 'bruptly',\n",
       " 'bruptness',\n",
       " 'brus',\n",
       " 'bs',\n",
       " 'bsalom',\n",
       " 'bsampere',\n",
       " 'bsarok',\n",
       " 'bsarokite',\n",
       " 'bscam',\n",
       " 'bscess',\n",
       " 'bscessed',\n",
       " 'bscesses',\n",
       " 'bscessing',\n",
       " 'bscession',\n",
       " 'bscessroot',\n",
       " 'bscind',\n",
       " 'bscise',\n",
       " 'bscised',\n",
       " 'bscises',\n",
       " 'bscising',\n",
       " 'bscisins',\n",
       " 'bscision',\n",
       " 'bsciss',\n",
       " 'bsciss',\n",
       " 'bscissae',\n",
       " 'bscissas',\n",
       " 'bscisse',\n",
       " 'bscissin',\n",
       " 'bscission',\n",
       " 'bscissions',\n",
       " 'bsconce',\n",
       " 'bscond',\n",
       " 'bsconded',\n",
       " 'bscondedly',\n",
       " 'bscondence',\n",
       " 'bsconder',\n",
       " 'bsconders',\n",
       " 'bsconding',\n",
       " 'bsconds',\n",
       " 'bscons',\n",
       " 'bscoulomb',\n",
       " 'bscound',\n",
       " 'bsee',\n",
       " 'bsey',\n",
       " 'bseil',\n",
       " 'bseiled',\n",
       " 'bseiling',\n",
       " 'bseils',\n",
       " 'bsence',\n",
       " 'bsences',\n",
       " 'bsent',\n",
       " 'bsentation',\n",
       " 'bsented',\n",
       " 'bsentee',\n",
       " 'bsenteeism',\n",
       " 'bsentees',\n",
       " 'bsenteeship',\n",
       " 'bsenter',\n",
       " 'bsenters',\n",
       " 'bsenti',\n",
       " 'bsenting',\n",
       " 'bsently',\n",
       " 'bsentment',\n",
       " 'bsentminded',\n",
       " 'bsentmindedly',\n",
       " 'bsentmindedness',\n",
       " 'bsentness',\n",
       " 'bsents',\n",
       " 'bsfarad',\n",
       " 'bshenry',\n",
       " 'bsi',\n",
       " 'bsinth',\n",
       " 'bsinthe',\n",
       " 'bsinthes',\n",
       " 'bsinthial',\n",
       " 'bsinthian',\n",
       " 'bsinthiate',\n",
       " 'bsinthiated',\n",
       " 'bsinthiating',\n",
       " 'bsinthic',\n",
       " 'bsinthiin',\n",
       " 'bsinthin',\n",
       " 'bsinthine',\n",
       " 'bsinthism',\n",
       " 'bsinthismic',\n",
       " 'bsinthium',\n",
       " 'bsinthol',\n",
       " 'bsinthole',\n",
       " 'bsinths',\n",
       " 'bsyrtus',\n",
       " 'bsis',\n",
       " 'bsist',\n",
       " 'bsistos',\n",
       " 'bsit',\n",
       " 'bsmho',\n",
       " 'bsohm',\n",
       " 'bsoil',\n",
       " 'bsolent',\n",
       " 'bsolute',\n",
       " 'bsolutely',\n",
       " 'bsoluteness',\n",
       " 'bsoluter',\n",
       " 'bsolutes',\n",
       " 'bsolutest',\n",
       " 'bsolution',\n",
       " 'bsolutions',\n",
       " 'bsolutism',\n",
       " 'bsolutist',\n",
       " 'bsolutist',\n",
       " 'bsolutistic',\n",
       " 'bsolutistically',\n",
       " 'bsolutists',\n",
       " 'bsolutive',\n",
       " 'bsolutization',\n",
       " ...]"
      ]
     },
     "execution_count": 70,
     "metadata": {},
     "output_type": "execute_result"
    }
   ],
   "source": [
    "file_handle = open('words.txt', 'r')\n",
    "data = []\n",
    "\n",
    "# Write any additional code you need below this line, to examine data\n",
    "for line in file_handle:\n",
    "    data.append(line.strip().strip('a'))\n",
    "\n",
    "file_handle.close()\n",
    "data"
   ]
  },
  {
   "attachments": {},
   "cell_type": "markdown",
   "metadata": {
    "id": "SJcyXW928sP9",
    "nbgrader": {
     "cell_type": "markdown",
     "checksum": "cf6a071c32358ec24c314779e984b8e9",
     "grade": false,
     "grade_id": "cell-85892de5889da36e",
     "locked": true,
     "schema_version": 3,
     "solution": false,
     "task": false
    }
   },
   "source": [
    "Q3: What does the `readlines()` method of `file_handle` do?"
   ]
  },
  {
   "attachments": {},
   "cell_type": "markdown",
   "metadata": {
    "id": "afNMn3Pg8sP9",
    "nbgrader": {
     "cell_type": "markdown",
     "checksum": "f5fc1c7755f32d11bdb445131575e5a0",
     "grade": true,
     "grade_id": "cell-dd57cc11e9d0221d",
     "locked": false,
     "points": 1,
     "schema_version": 3,
     "solution": true,
     "task": false
    }
   },
   "source": [
    "A3: Reads all data into a list, including all keystrokes"
   ]
  },
  {
   "attachments": {},
   "cell_type": "markdown",
   "metadata": {
    "id": "cHtr-XeI8sP9",
    "nbgrader": {
     "cell_type": "markdown",
     "checksum": "544836aca31ae47d3b3386c2ac23ed5b",
     "grade": false,
     "grade_id": "cell-60896d92b89530da",
     "locked": true,
     "schema_version": 3,
     "solution": false,
     "task": false
    }
   },
   "source": [
    "### Python conventions: file handle naming\n",
    "\n",
    "If you are going to keep a file open for a long time and need to use the file handle in multiple functions, it is good practice to give the file handle a useful, descriptive variable name, such as `data_file`, `settings_file`, etc.\n",
    "\n",
    "However, if you are only opening the file to read in data and then closing the file immediately (with the `close()` method of the file handle), such as in the examples above, it is acceptable (and common) to use a short variable name, often `f` or `f_handle`.\n",
    "\n",
    "In the rest of the examples, we will be using `f` as a file handle name for quick file reading/writing."
   ]
  },
  {
   "attachments": {},
   "cell_type": "markdown",
   "metadata": {
    "id": "G-WsShM08sP9",
    "nbgrader": {
     "cell_type": "markdown",
     "checksum": "bb72f5ba3d6456af25f725d0008b82f2",
     "grade": false,
     "grade_id": "cell-a3bfbb5ae0357a91",
     "locked": true,
     "schema_version": 3,
     "solution": false,
     "task": false
    }
   },
   "source": [
    "## Opening a text file for writing\n",
    "\n",
    "The file handle has two methods for writing data to a file: `write()` and `writelines()`.\n",
    "\n",
    "Run each code cell below. Using any necessary code, examine the file `fruits.txt` that is created in the same directory, and explain what each method does. What argument(s) does it require? What output does it produce?"
   ]
  },
  {
   "cell_type": "code",
   "execution_count": 73,
   "metadata": {
    "id": "KQncgFi88sP-"
   },
   "outputs": [],
   "source": [
    "fruit = ['apple', 'banana', 'cherry', 'durian', 'elderberry']\n",
    "\n",
    "f = open('fruits.txt', 'w')\n",
    "for each in fruit:\n",
    "    f.write(each + '\\n')\n",
    "f.close()"
   ]
  },
  {
   "attachments": {},
   "cell_type": "markdown",
   "metadata": {
    "id": "G3O2CF9h8sP-",
    "nbgrader": {
     "cell_type": "markdown",
     "checksum": "2fc36cdae12543d7a0e7f47f48a134a6",
     "grade": false,
     "grade_id": "cell-5942b9533384b0fc",
     "locked": true,
     "schema_version": 3,
     "solution": false,
     "task": false
    }
   },
   "source": [
    "Q4: What does the `write()` method of `f` do?"
   ]
  },
  {
   "attachments": {},
   "cell_type": "markdown",
   "metadata": {
    "id": "u-yAWAQg8sP-",
    "nbgrader": {
     "cell_type": "markdown",
     "checksum": "22fdd6653f961a9d59b1bebc74ca59ec",
     "grade": true,
     "grade_id": "cell-f7681ad4aef6bb35",
     "locked": false,
     "points": 1,
     "schema_version": 3,
     "solution": true,
     "task": false
    }
   },
   "source": [
    "A4: Writes the argument specified in ```write()``` into the file as is\n",
    "\n",
    "<font color = red> note:\n",
    "- '\\n' to include new line for next item\n",
    "- '\\t' for items to be put in the same line but spaced apart\n",
    "- ' '*n for evenly spaced items onn the same line"
   ]
  },
  {
   "cell_type": "code",
   "execution_count": 76,
   "metadata": {},
   "outputs": [
    {
     "name": "stdout",
     "output_type": "stream",
     "text": [
      "Help on built-in function writelines:\n",
      "\n",
      "writelines(lines, /) method of _io.TextIOWrapper instance\n",
      "\n"
     ]
    }
   ],
   "source": [
    "help(f.writelines)"
   ]
  },
  {
   "cell_type": "code",
   "execution_count": 77,
   "metadata": {
    "id": "g8hLoo6F8sP-"
   },
   "outputs": [],
   "source": [
    "fruit = ['apple', 'banana', 'cherry', 'durian', 'elderberry']\n",
    "\n",
    "f = open('fruits.txt', 'w', newline = '\\n')\n",
    "f.writelines(fruit)\n",
    "f.close()"
   ]
  },
  {
   "attachments": {},
   "cell_type": "markdown",
   "metadata": {
    "id": "D3N5xnC88sP_",
    "nbgrader": {
     "cell_type": "markdown",
     "checksum": "f1fefc6136ab935e88c1928ccd25651c",
     "grade": false,
     "grade_id": "cell-eba80712f3ea7619",
     "locked": true,
     "schema_version": 3,
     "solution": false,
     "task": false
    }
   },
   "source": [
    "Q5: What does the `writelines()` method of `f` do?"
   ]
  },
  {
   "attachments": {},
   "cell_type": "markdown",
   "metadata": {
    "id": "kqmqA2w-8sP_",
    "nbgrader": {
     "cell_type": "markdown",
     "checksum": "6ce96c65fe437af42aeebbd0bad2a6be",
     "grade": true,
     "grade_id": "cell-246ef7815f971770",
     "locked": false,
     "points": 1,
     "schema_version": 3,
     "solution": true,
     "task": false
    }
   },
   "source": [
    "A5: Writes items into file based on format of item"
   ]
  },
  {
   "attachments": {},
   "cell_type": "markdown",
   "metadata": {
    "id": "jS_QTT5c8sP_",
    "nbgrader": {
     "cell_type": "markdown",
     "checksum": "d530cd08294681a33345aaa7ce6b696a",
     "grade": false,
     "grade_id": "cell-d5a3e9945ef42b61",
     "locked": true,
     "schema_version": 3,
     "solution": false,
     "task": false
    }
   },
   "source": [
    "## Special characters: `\\n` et al.\n",
    "\n",
    "From the above tasks, you would have noticed the `\\n`s that came from the output of the `read()` method.\n",
    "\n",
    "When Python reads in data from a text file, the data is just one long string of text. How does it know where the next line begins?\n",
    "\n",
    "Text format follows a specification known as [ASCII](http://www.asciitable.com/), which not only specifies how to store letters, numbers, and symbols, but also special function characters. We will learn more about ASCII in a future lesson. Some of these special function characters are listed below.\n",
    "\n",
    "- newline character (`\\n`)\n",
    "- tab character (`\\t`)\n",
    "- backspace (`\\b`)\n",
    "- carriage return (`\\r`)\n",
    "\n",
    "These special function characters can be invoked through the use of the **escape character** '`\\`'. This enables us to use symbols that we wouldn't otherwise be able to use.\n",
    "\n",
    "Try each of the follow lines of code one by one in the code cell below to see examples of how to print special characters using the escape character. Doing so is known as **escaping** the character.\n",
    "\n",
    "1. `print('That\\'s great!')`  \n",
    "   (To use a single-quote or double-quote in a string, you have to escape the quote so that it does not get interpreted as ending the string.)\n",
    "2. `print('Great job!\\b?')`\n",
    "   (The backspace character deletes the previous character and moves the cursor back by one.)\n",
    "3. `print('Heading 1\\tHeading 2\\tHeading 3')`  \n",
    "   (The tab character moves the cursor to the next alignment mark. Useful for printing text-only tables.)\n",
    "4. `print('Line 1\\nLine 2\\nLine 3')`\n",
    "   (The newline character moves the cursor to the next line and resets its horizontal position to the left.)\n",
    "5. `print('The special character \\\\')`\n",
    "   (Since `\\` itself is a special character, if we want to print it in a string, we need to escape it too.)"
   ]
  },
  {
   "cell_type": "code",
   "execution_count": 94,
   "metadata": {
    "id": "atrSy_rV8sQA"
   },
   "outputs": [
    {
     "name": "stdout",
     "output_type": "stream",
     "text": [
      "That's great!\n",
      "----------\n",
      "That\n",
      "'s great!\n",
      "----------\n",
      "That\t 's great!\n",
      "----------\n",
      "Tha's great!\n",
      "----------\n",
      "'s great!\n"
     ]
    }
   ],
   "source": [
    "# Try your code here\n",
    "print(\"That's great!\")\n",
    "print(\"-\"*10)\n",
    "print(\"That\\n's great!\")\n",
    "print(\"-\"*10)\n",
    "print(\"That\\t 's great!\")\n",
    "print(\"-\"*10)\n",
    "print(\"That\\b's great!\")\n",
    "print(\"-\"*10)\n",
    "print(\"That\\r's great!\")"
   ]
  },
  {
   "attachments": {},
   "cell_type": "markdown",
   "metadata": {
    "id": "zeu2DWWU8sQA",
    "nbgrader": {
     "cell_type": "markdown",
     "checksum": "f28df4983122c0231eb2de845d3708e0",
     "grade": false,
     "grade_id": "cell-ac58558f751777a2",
     "locked": true,
     "schema_version": 3,
     "solution": false,
     "task": false
    }
   },
   "source": [
    "All those `\\n`s from the `read()` method? Those indicated where the file should move to the next line.\n",
    "\n",
    "Did you wonder why the `write()` and `writelines()` methods printed all 5 fruits to `fruits.txt` in a single line? That's because we didn't print an `\\n` between each fruit. To have each fruit on a new line, we need to print a `\\n` after each fruit.\n",
    "\n",
    "Complete the program code below by replacing the underscores (`_____`) with an appropriate expression or variable, so that it writes each fruit to a separate line in the text file:"
   ]
  },
  {
   "cell_type": "code",
   "execution_count": null,
   "metadata": {
    "id": "ycZETUO48sQA",
    "nbgrader": {
     "cell_type": "code",
     "checksum": "8080aafee7bf3fc3beb88985858b6167",
     "grade": true,
     "grade_id": "cell-72e5db523638e8bc",
     "locked": false,
     "points": 1,
     "schema_version": 3,
     "solution": true,
     "task": false
    }
   },
   "outputs": [],
   "source": [
    "fruit = ['apple', 'banana', 'cherry', 'durian', 'elderberry']\n",
    "\n",
    "f = open('fruits.txt', 'w')\n",
    "for each in fruit:\n",
    "    f.write(each)\n",
    "    f.write('\\n')\n",
    "f.close()\n"
   ]
  },
  {
   "attachments": {},
   "cell_type": "markdown",
   "metadata": {
    "id": "EFgWQbKm8sQA",
    "nbgrader": {
     "cell_type": "markdown",
     "checksum": "9752b10262116e31464162652eba743c",
     "grade": false,
     "grade_id": "cell-10c9b302ad0589b8",
     "locked": true,
     "schema_version": 3,
     "solution": false,
     "task": false
    }
   },
   "source": [
    "### Task 1: Tab-delimited output\n",
    "\n",
    "Modify the code cell below so that it produces a text file with the fruits separated by tabs instead of newlines.\n",
    "\n",
    "#### Example output\n",
    "\n",
    "    apple\tbanana\tcherry\tdurian\telderberry\t"
   ]
  },
  {
   "cell_type": "code",
   "execution_count": null,
   "metadata": {
    "id": "Eg-j-vis8sQA",
    "nbgrader": {
     "cell_type": "code",
     "checksum": "141143d425ae016c6712f04b05f1bda6",
     "grade": true,
     "grade_id": "cell-5f1bf5d53296bc20",
     "locked": false,
     "points": 1,
     "schema_version": 3,
     "solution": true,
     "task": false
    }
   },
   "outputs": [],
   "source": [
    "fruit = ['apple', 'banana', 'cherry', 'durian', 'elderberry']\n",
    "\n",
    "f = open('fruits.txt', 'w')\n",
    "for each in fruit:\n",
    "    f.write(each)\n",
    "    f.write('\\t')\n",
    "f.close()\n"
   ]
  },
  {
   "attachments": {},
   "cell_type": "markdown",
   "metadata": {
    "id": "qE13cpK_8sQB",
    "nbgrader": {
     "cell_type": "markdown",
     "checksum": "789c178711380ddcff339e555cd5fedd",
     "grade": false,
     "grade_id": "cell-ecb242cc33def875",
     "locked": true,
     "schema_version": 3,
     "solution": false,
     "task": false
    }
   },
   "source": [
    "### Task 2: Comma-delimited output\n",
    "\n",
    "Modify the code cell below so that it produces a text file with the fruits separated by commas instead of newlines.\n",
    "\n",
    "#### Example output\n",
    "\n",
    "    apple,banana,cherry,durian,elderberry"
   ]
  },
  {
   "cell_type": "code",
   "execution_count": null,
   "metadata": {
    "id": "CEJR18aa8sQB",
    "nbgrader": {
     "cell_type": "code",
     "checksum": "ac5c7bb55c3468780c40961802bf4000",
     "grade": true,
     "grade_id": "cell-3b130ef61c74b757",
     "locked": false,
     "points": 1,
     "schema_version": 3,
     "solution": true,
     "task": false
    }
   },
   "outputs": [],
   "source": [
    "fruit = ['apple', 'banana', 'cherry', 'durian', 'elderberry']\n",
    "\n",
    "f = open('fruits.txt', 'w')\n",
    "for each in fruit:\n",
    "    f.write(each)\n",
    "    f.write(',')\n",
    "f.close()\n"
   ]
  },
  {
   "attachments": {},
   "cell_type": "markdown",
   "metadata": {
    "id": "LkUu6fXl8sQB",
    "nbgrader": {
     "cell_type": "markdown",
     "checksum": "c54cb29ad65a3ca639109d8b49403de5",
     "grade": false,
     "grade_id": "cell-552c1dd6e6890102",
     "locked": true,
     "schema_version": 3,
     "solution": false,
     "task": false
    }
   },
   "source": [
    "## Iterating over the file handle\n",
    "\n",
    "The `readline()` method only reads in one line and moves the cursor to the next line. That makes it difficult to read in all data unless we know how many lines there are in the file.\n",
    "\n",
    "For convenience, when in text mode (`'t'`), Python file handles can also be iterated over using a `for` loop. Each iteration returns a value that is equivalent to the output from `readline()`.  \n",
    "(Run the code cell below.)"
   ]
  },
  {
   "cell_type": "code",
   "execution_count": null,
   "metadata": {
    "id": "IzmBpBGG8sQB"
   },
   "outputs": [],
   "source": [
    "data = [] # Initialise empty array\n",
    "f = open('words.txt', 'r')\n",
    "for line in f:\n",
    "    data.append(line)\n",
    "f.close()\n",
    "\n",
    "data"
   ]
  },
  {
   "attachments": {},
   "cell_type": "markdown",
   "metadata": {
    "id": "EoONGy_q8sQB",
    "nbgrader": {
     "cell_type": "markdown",
     "checksum": "77938e7519e5ec03aa2b3de81127d862",
     "grade": false,
     "grade_id": "cell-1ead6eef93f1a55f",
     "locked": true,
     "schema_version": 3,
     "solution": false,
     "task": false
    }
   },
   "source": [
    "Each `line` is equivalent to the output from `f.readline()`, and the final list object `data` is equivalent to the output from `f.readlines()`. "
   ]
  },
  {
   "attachments": {},
   "cell_type": "markdown",
   "metadata": {
    "id": "gBiqNdVl8sQC",
    "nbgrader": {
     "cell_type": "markdown",
     "checksum": "ffd4ef81c396cc7a1aca91ddd6123991",
     "grade": false,
     "grade_id": "cell-a1e0ff619dd414f2",
     "locked": true,
     "schema_version": 3,
     "solution": false,
     "task": false
    }
   },
   "source": [
    "## Stripping whitespace\n",
    "\n",
    "To get rid of the trailing newline `\\n`, use the `strip()` string method. Newlines (`\\n`) and tabs (`\\t`) are treated as whitespace and will be removed.\n",
    "(Run the code cell below.)"
   ]
  },
  {
   "cell_type": "code",
   "execution_count": null,
   "metadata": {
    "id": "8QaxWIyp8sQC"
   },
   "outputs": [],
   "source": [
    "data = [] # Initialise empty array\n",
    "f = open('words.txt', 'r')\n",
    "for line in f:\n",
    "    data.append(line.strip())\n",
    "f.close()\n",
    "\n",
    "data"
   ]
  },
  {
   "attachments": {},
   "cell_type": "markdown",
   "metadata": {
    "id": "39B08dML8sQC",
    "nbgrader": {
     "cell_type": "markdown",
     "checksum": "23e531b0694628ba93fae51397cf4446",
     "grade": false,
     "grade_id": "cell-c3665a9e7f98274a",
     "locked": true,
     "schema_version": 3,
     "solution": false,
     "task": false
    }
   },
   "source": [
    "## Appending to a file\n",
    "\n",
    "Notice that each time you open `fruits.txt` in `'w'` mode, the old data is wiped out. You don't always want this; sometimes you just want to add more data at the end.\n",
    "\n",
    "To do so, you need to open the file in `'a'` mode. Run the code cell below to see how it works."
   ]
  },
  {
   "cell_type": "code",
   "execution_count": null,
   "metadata": {
    "id": "19-0NHXi8sQD"
   },
   "outputs": [],
   "source": [
    "# Let's reset the state of fruits.txt first\n",
    "fruit = ['apple', 'banana', 'cherry', 'durian', 'elderberry']\n",
    "\n",
    "# Write these fruits to fruits.txt\n",
    "f = open('fruits.txt', 'w')\n",
    "for each in fruit:\n",
    "    f.write(each)\n",
    "    f.write('\\n')\n",
    "f.close()\n",
    "\n",
    "# Let's append some data after the last line\n",
    "more_fruits = ['figs', 'guava', 'honeydew']\n",
    "f = open('fruits.txt', 'a')\n",
    "for each in more_fruits:\n",
    "    f.write(each)\n",
    "    f.write('\\n')\n",
    "f.close()"
   ]
  },
  {
   "attachments": {},
   "cell_type": "markdown",
   "metadata": {
    "id": "xsFonQfZ8sQD",
    "nbgrader": {
     "cell_type": "markdown",
     "checksum": "a49b529825fe54323c5b052979c9d888",
     "grade": false,
     "grade_id": "cell-76c348aba3c30947",
     "locked": true,
     "schema_version": 3,
     "solution": false,
     "task": false
    }
   },
   "source": [
    "# File locks and file handles"
   ]
  },
  {
   "attachments": {},
   "cell_type": "markdown",
   "metadata": {
    "id": "y_SsYMqc8sQD",
    "nbgrader": {
     "cell_type": "markdown",
     "checksum": "38c738dbf78187e915332b1ca294c62b",
     "grade": false,
     "grade_id": "cell-cd66fd6e1cf4773a",
     "locked": true,
     "schema_version": 3,
     "solution": false,
     "task": false
    }
   },
   "source": [
    "## Context managers: the `with` keyword\n",
    "\n",
    "In Python, you often work with items that need to be closed properly, such as file handles. There are other things you may need to work in future with that also need proper closing, such as\n",
    "\n",
    "- network sockets and connections\n",
    "- databases\n",
    "- execution threads for parallel processing\n",
    "\n",
    "If you forget to `close()` the file handle, you may end up hogging resources, or cause a program to hang.\n",
    "\n",
    "Python has a feature, called a **context manager**, to help you automatically close any open resources once your code is done with them. This feature can be used for file handles too.\n",
    "\n",
    "The context manager is invoked using the `with` keyword.\n",
    "\n",
    "### Using `with` for opening files\n",
    "\n",
    "This block of code:\n",
    "\n",
    "    f = open('words.txt', 'r')\n",
    "    data = f.readlines()\n",
    "    f.close()\n",
    "\n",
    "is equivalent to this:\n",
    "\n",
    "    with open('words.txt', 'r') as f:\n",
    "        data = f.readlines()\n",
    "\n",
    "`f.close()` does not need to be called explicitly, because upon reaching the end of the `with` code block, Python will call it automatically.\n",
    "\n",
    "To ensure you do not run into any problems due to file-locking, it is good practice to always open files using the `with` statement, unless you have good reasons not to do so."
   ]
  },
  {
   "attachments": {},
   "cell_type": "markdown",
   "metadata": {
    "id": "Vi3zEEAZ8sQD",
    "nbgrader": {
     "cell_type": "markdown",
     "checksum": "38c738dbf78187e915332b1ca294c62b",
     "grade": false,
     "grade_id": "cell-cd66fd6e1cf4773a",
     "locked": true,
     "schema_version": 3,
     "solution": false,
     "task": false
    }
   },
   "source": [
    "### Task 3: Refactoring\n",
    "\n",
    "The act of rewriting code to better organise it is known as **refactoring**.\n",
    "\n",
    "Refactor the code cell below to use the `with` statement: "
   ]
  },
  {
   "cell_type": "code",
   "execution_count": 1,
   "metadata": {
    "id": "6t6g1jcf8sQD",
    "nbgrader": {
     "cell_type": "code",
     "checksum": "b9a22c411bd36450e2c03cdb8a3878d4",
     "grade": true,
     "grade_id": "cell-168ab7368da7d3e9",
     "locked": false,
     "points": 1,
     "schema_version": 3,
     "solution": true,
     "task": false
    }
   },
   "outputs": [],
   "source": [
    "# Let's reset the state of fruits.txt first\n",
    "fruit = ['apple', 'banana', 'cherry', 'durian', 'elderberry']\n",
    "\n",
    "with open('fruits.txt', 'w') as f:\n",
    "    for each in fruit:\n",
    "        f.write(each)\n",
    "        f.write('\\n')\n",
    "\n",
    "# Let's append some data after the last line\n",
    "more_fruits = ['figs', 'guava', 'honeydew']\n",
    "\n",
    "with open('fruits.txt', 'a') as f:\n",
    "    for each in more_fruits:\n",
    "        f.write(each)\n",
    "        f.write('\\n')\n"
   ]
  },
  {
   "attachments": {},
   "cell_type": "markdown",
   "metadata": {
    "id": "BM63UkRV8sQD",
    "nbgrader": {
     "cell_type": "markdown",
     "checksum": "06ec3c1b99f3a4505b355691b309814e",
     "grade": false,
     "grade_id": "cell-38fe47d4b33f5eab",
     "locked": true,
     "schema_version": 3,
     "solution": false,
     "task": false
    }
   },
   "source": [
    "## Useful string methods: `split()`, `join()`\n",
    "\n",
    "The [Comma-Separated Values](https://en.wikipedia.org/wiki/Comma-separated_values) format (**CSV**) is a popular format for storing organised data, such as those from spreadsheets or databases.\n",
    "\n",
    "In this format, each row of data is stored on a new line, while values from each cell within the row are separated by commas (`,`). In some variations, tabs (`\\t`) or semicolons (`;`) may also be used. The separating symbol is known as a **delimiter** (_delimit_ (verb): \"determine the limits or boundaries of\").\n",
    "\n",
    "The `split()` method from strings comes in very handy for parsing each item of data from the entire line.\n",
    "\n",
    "### The `split()` string method\n",
    "\n",
    "Run the code cell below to understand how the `split()` method works:"
   ]
  },
  {
   "cell_type": "code",
   "execution_count": 3,
   "metadata": {
    "id": "ogJFrjA48sQD"
   },
   "outputs": [
    {
     "data": {
      "text/plain": [
       "['data1', 'data2', 'data3', 'data4', 'data5']"
      ]
     },
     "execution_count": 3,
     "metadata": {},
     "output_type": "execute_result"
    }
   ],
   "source": [
    "line = 'data1,data2,data3,data4,data5'\n",
    "\n",
    "line.split(',')"
   ]
  },
  {
   "attachments": {},
   "cell_type": "markdown",
   "metadata": {
    "id": "EKaJjyuY8sQE",
    "nbgrader": {
     "cell_type": "markdown",
     "checksum": "b508d498e4376561f5c0fa8ee04a191b",
     "grade": false,
     "grade_id": "cell-0cd83308b647e9cb",
     "locked": true,
     "schema_version": 3,
     "solution": false,
     "task": false
    }
   },
   "source": [
    "Notice that the output of `split()` is a `list`, not a string. Each item that is separated by a comma (`,`) is now an element of the list."
   ]
  },
  {
   "attachments": {},
   "cell_type": "markdown",
   "metadata": {
    "id": "nKEsSqdY8sQE",
    "nbgrader": {
     "cell_type": "markdown",
     "checksum": "0ea799656c400867fb5d6d0aa6d98fc2",
     "grade": false,
     "grade_id": "cell-bf15e42c77466227",
     "locked": true,
     "schema_version": 3,
     "solution": false,
     "task": false
    }
   },
   "source": [
    "### The `join()` string method\n",
    "\n",
    "Run the code cell below to understand how the `join()` method works:"
   ]
  },
  {
   "cell_type": "code",
   "execution_count": 4,
   "metadata": {
    "id": "Ma2Me7kp8sQE"
   },
   "outputs": [
    {
     "data": {
      "text/plain": [
       "'data1, data2, data3, data4, data5'"
      ]
     },
     "execution_count": 4,
     "metadata": {},
     "output_type": "execute_result"
    }
   ],
   "source": [
    "line = ['data1', 'data2', 'data3', 'data4', 'data5']\n",
    "\n",
    "', '.join(line)"
   ]
  },
  {
   "attachments": {},
   "cell_type": "markdown",
   "metadata": {
    "id": "oBebhbjS8sQE",
    "nbgrader": {
     "cell_type": "markdown",
     "checksum": "f15709999c9b551dd13fc96802261634",
     "grade": false,
     "grade_id": "cell-1a83fae3b92420ce",
     "locked": true,
     "schema_version": 3,
     "solution": false,
     "task": false
    }
   },
   "source": [
    "With `split()`, we called the method from `line` which was a string. However, with `join()`, the variable `line` is not a string but a list! It would not have access to the `join()` method.\n",
    "\n",
    "So we call `join()` from the string that we use to **join** the elements of `list`. `join()` must take in a list as its argument, and it returns a string output."
   ]
  },
  {
   "attachments": {},
   "cell_type": "markdown",
   "metadata": {
    "id": "jB-TIAhn8sQE",
    "nbgrader": {
     "cell_type": "markdown",
     "checksum": "4f20fe4a25c6a2726ebb32dbdfa6d3f5",
     "grade": false,
     "grade_id": "cell-d59fca04dbb14df9",
     "locked": true,
     "schema_version": 3,
     "solution": false,
     "task": false
    }
   },
   "source": [
    "## Reading CSV data into a nested list\n",
    "\n",
    "One way to parse CSV data into Python is in the form of a **nested list**.  \n",
    "(Run the code cell below.)"
   ]
  },
  {
   "cell_type": "code",
   "execution_count": 2,
   "metadata": {
    "id": "asc1uxa68sQE"
   },
   "outputs": [
    {
     "data": {
      "text/plain": [
       "[['Student', 'Grade'],\n",
       " ['A', 'S'],\n",
       " ['B', 'E'],\n",
       " ['C', 'D'],\n",
       " ['D', 'C'],\n",
       " ['E', 'B'],\n",
       " ['F', 'A'],\n",
       " ['G', 'U']]"
      ]
     },
     "execution_count": 2,
     "metadata": {},
     "output_type": "execute_result"
    }
   ],
   "source": [
    "data = []\n",
    "with open('grades.csv', 'r') as f:\n",
    "    for line in f:\n",
    "        row_list = line.strip().split(',')\n",
    "        data.append(row_list)\n",
    "        \n",
    "data"
   ]
  },
  {
   "attachments": {},
   "cell_type": "markdown",
   "metadata": {
    "id": "7aXgL_Bz8sQE",
    "nbgrader": {
     "cell_type": "markdown",
     "checksum": "1dc90a5c7cffd0762145b96e1ea6441f",
     "grade": false,
     "grade_id": "cell-76f081dfd02155cd",
     "locked": true,
     "schema_version": 3,
     "solution": false,
     "task": false
    }
   },
   "source": [
    "Notice the **two levels of lists**. Each inner list represents one line of data, while the outer list contains each inner list as an element.\n",
    "\n",
    "How are we going to get data out of this nested list? We will need two indexes.\n",
    "\n",
    "The first index selects the inner list to access:  \n",
    "(Run the code cell below.)"
   ]
  },
  {
   "cell_type": "code",
   "execution_count": 5,
   "metadata": {
    "id": "Ke7uF6oR8sQE"
   },
   "outputs": [
    {
     "name": "stdout",
     "output_type": "stream",
     "text": [
      "Student\n",
      "Grade\n",
      "A\n",
      "S\n",
      "B\n",
      "E\n",
      "C\n",
      "D\n",
      "D\n",
      "C\n",
      "E\n",
      "B\n",
      "F\n",
      "A\n",
      "G\n",
      "U\n"
     ]
    }
   ],
   "source": [
    "# Replace the underscores (_____) with an appropriate expression\n",
    "# to print each line of data\n",
    "\n",
    "for i in range(len(data)):\n",
    "    for element in data[i]:\n",
    "        print(element)"
   ]
  },
  {
   "attachments": {},
   "cell_type": "markdown",
   "metadata": {
    "id": "E1Ue8ObW8sQF",
    "nbgrader": {
     "cell_type": "markdown",
     "checksum": "4ced6ad683b63393883f27a0aaebcc9d",
     "grade": false,
     "grade_id": "cell-318ad252d9ab7be5",
     "locked": true,
     "schema_version": 3,
     "solution": false,
     "task": false
    }
   },
   "source": [
    "`data[0]` is the first element in the outer list, `data`.\n",
    "\n",
    "```\n",
    ">>> data[0]\n",
    "['A', '70']\n",
    "```\n",
    "\n",
    "The first element in `data`, `data[0]` is a list containing two elements. To access the first element of this list, we add another index after the first:\n",
    "\n",
    "```\n",
    ">>> data[0][0]\n",
    "'A'\n",
    ">>> data[0][1]\n",
    "'70'\n",
    "```\n",
    "\n",
    "To access the elements of the **next row**, we change the **first index**:\n",
    "\n",
    "```\n",
    ">>> data[1][0]\n",
    "'B'\n",
    ">>> data[1][1]\n",
    "'60'\n",
    "```\n",
    "\n",
    "We can then print `data` into a custom format in a `for` loop:  \n",
    "(Run the code cell below.)"
   ]
  },
  {
   "cell_type": "code",
   "execution_count": null,
   "metadata": {
    "id": "31S5EYqW8sQF"
   },
   "outputs": [],
   "source": [
    "for row in data:\n",
    "    print(f'{row[0]}: {row[1]}')"
   ]
  },
  {
   "attachments": {},
   "cell_type": "markdown",
   "metadata": {
    "id": "1BgmlQcI8sQF",
    "nbgrader": {
     "cell_type": "markdown",
     "checksum": "33c990e7a5b790ded7781f7eb57c2130",
     "grade": false,
     "grade_id": "cell-ded7159a12cf03c4",
     "locked": true,
     "schema_version": 3,
     "solution": false,
     "task": false
    }
   },
   "source": [
    "Of course, you do not need to name the iterating variable as `row`, you can use `i` too. But it is good practice to write code and name your variables as intuitively and systematically as possible, so that it is easy for other programmers (including yourself) to understand the code when you have to read it again."
   ]
  }
 ],
 "metadata": {
  "colab": {
   "provenance": []
  },
  "kernelspec": {
   "display_name": "Python 3",
   "language": "python",
   "name": "python3"
  },
  "language_info": {
   "codemirror_mode": {
    "name": "ipython",
    "version": 3
   },
   "file_extension": ".py",
   "mimetype": "text/x-python",
   "name": "python",
   "nbconvert_exporter": "python",
   "pygments_lexer": "ipython3",
   "version": "3.6.4"
  }
 },
 "nbformat": 4,
 "nbformat_minor": 1
}
