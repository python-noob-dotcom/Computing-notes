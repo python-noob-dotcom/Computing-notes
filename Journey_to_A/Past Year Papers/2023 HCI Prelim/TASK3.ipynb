{
 "cells": [
  {
   "cell_type": "code",
   "execution_count": 14,
   "metadata": {},
   "outputs": [],
   "source": [
    "class Player:\n",
    "    def __init__(self, name= None, elo= None, ptr= None):\n",
    "        self.name = name\n",
    "        self.elo = elo\n",
    "        self.ptr = ptr\n",
    "\n",
    "class PlayerList:\n",
    "    def __init__(self, size):\n",
    "        self.data = [Player('-', -1, i+1) for i in range(size - 1)]\n",
    "        self.data += [Player('-', -1, -1)]\n",
    "        self.head = -1\n",
    "        self.free = 0\n",
    "        self.size = size\n",
    "\n",
    "    def register(self, name, elo):\n",
    "        if self.head == -1:\n",
    "            temp = self.data[self.free].ptr\n",
    "            self.data[self.free].name = name\n",
    "            self.data[self.free].elo = elo\n",
    "            self.data[self.free].ptr = -1\n",
    "\n",
    "            self.free = temp\n",
    "            self.head += 1\n",
    "\n",
    "        else:\n",
    "            if self.free == -1:\n",
    "                return 'Array is full '\n",
    "\n",
    "            curr = self.head\n",
    "            prev = curr\n",
    "\n",
    "            while curr != -1:\n",
    "                prev = curr\n",
    "                curr = self.data[curr].ptr\n",
    "            \n",
    "            self.data[prev].ptr = self.free\n",
    "            self.data[self.free].name = name\n",
    "            self.data[self.free].elo = elo\n",
    "            temp = self.data[self.free].ptr\n",
    "            self.data[self.free].ptr = -1\n",
    "            self.free = temp\n",
    "\n",
    "    def withdraw(self, name):\n",
    "        if self.head == -1:\n",
    "            return 'List is empty'\n",
    "\n",
    "        curr = self.head\n",
    "        prev = curr\n",
    "        \n",
    "        while self.data[curr].name != name:\n",
    "            if self.data[curr].ptr == -1:\n",
    "                return 'Not Found'\n",
    "            curr = self.data[curr].ptr\n",
    "\n",
    "        self.data[prev].ptr = self.data[curr].ptr\n",
    "        self.data[curr].name = '-'\n",
    "        self.data[curr].elo = -1\n",
    "        \n",
    "        if self.free == -1:\n",
    "            self.free = curr\n",
    "        else:\n",
    "            self.data[self.free].ptr = curr\n",
    "            self.data[curr].ptr = -1\n",
    "\n",
    "pl = PlayerList(3)\n",
    "\n",
    "pl.register('a', 100)\n",
    "pl.register('b', 100)\n",
    "pl.withdraw('a')\n",
    "pl.register('c', 100)\n",
    "pl.register('d', 100)"
   ]
  },
  {
   "cell_type": "code",
   "execution_count": 16,
   "metadata": {},
   "outputs": [
    {
     "data": {
      "text/plain": [
       "'d'"
      ]
     },
     "execution_count": 16,
     "metadata": {},
     "output_type": "execute_result"
    }
   ],
   "source": [
    "pl.data[0].name"
   ]
  }
 ],
 "metadata": {
  "kernelspec": {
   "display_name": "computing",
   "language": "python",
   "name": "python3"
  },
  "language_info": {
   "codemirror_mode": {
    "name": "ipython",
    "version": 3
   },
   "file_extension": ".py",
   "mimetype": "text/x-python",
   "name": "python",
   "nbconvert_exporter": "python",
   "pygments_lexer": "ipython3",
   "version": "3.6.13"
  }
 },
 "nbformat": 4,
 "nbformat_minor": 2
}
