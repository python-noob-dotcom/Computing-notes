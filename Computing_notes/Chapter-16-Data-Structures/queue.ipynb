{
 "cells": [
  {
   "cell_type": "markdown",
   "metadata": {},
   "source": [
    "# Base Linear Queue, using Linked list"
   ]
  },
  {
   "cell_type": "code",
   "execution_count": null,
   "metadata": {},
   "outputs": [],
   "source": [
    "class Node:\n",
    "    def __init__(self, data, nxt = None):\n",
    "        self.data = data\n",
    "        self.nxt = nxt\n",
    "\n",
    "class linear_queue:\n",
    "    def __init__(self):\n",
    "        self.front = None\n",
    "\n",
    "    def empty(self):\n",
    "        return self.front == None\n",
    "    \n",
    "    def enqueue(self, data): # Add_back of linked list\n",
    "        new_node = Node(data)\n",
    "\n",
    "        if self.empty():\n",
    "            self.front = new_node\n",
    "        \n",
    "        else:\n",
    "            current = self.front\n",
    "            while current.nxt != None:\n",
    "                current = current.nxt\n",
    "\n",
    "            current.nxt = new_node\n",
    "\n",
    "    def dequeue(self): # Remove front of linked list\n",
    "        \n",
    "        if self.empty():\n",
    "            print('Queue is empty, cannot remove')\n",
    "            return -1\n",
    "        \n",
    "        removed = self.front\n",
    "        self.front = self.front.nxt\n",
    "\n",
    "        return removed\n",
    "\n",
    "    def peek(self): # Return the self.front\n",
    "        \n",
    "        if self.empty():\n",
    "            print('Queue is empty')\n",
    "            return -1\n",
    "        \n",
    "        return self.front\n"
   ]
  }
 ],
 "metadata": {
  "language_info": {
   "name": "python"
  }
 },
 "nbformat": 4,
 "nbformat_minor": 2
}
