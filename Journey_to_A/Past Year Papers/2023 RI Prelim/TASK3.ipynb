{
 "cells": [
  {
   "cell_type": "code",
   "execution_count": 6,
   "metadata": {},
   "outputs": [
    {
     "name": "stdout",
     "output_type": "stream",
     "text": [
      "['9', 'Chin Wong', '6502']\n",
      "['442', 'Citra Wijaya', '1701']\n",
      "['328', 'Yige Ren', '1818']\n",
      "['155', 'Xin Wong', '1395']\n",
      "['91', 'Jintana Chaiyapoom', '9156']\n",
      "['345', 'Nhung Do', '9534']\n",
      "['331', 'Wati Santoso', '6472']\n",
      "['175', 'Kazuya Kato', '3730']\n"
     ]
    }
   ],
   "source": [
    "class Node:\n",
    "    def __init__(self, data):\n",
    "        self.data = data\n",
    "        self.pointer = None\n",
    "\n",
    "class LinkedList:\n",
    "    def __init__(self):\n",
    "        self.start = None\n",
    "\n",
    "    def insert_last(self, data):\n",
    "        if self.start == None:\n",
    "            self.start = Node(data)\n",
    "            return\n",
    "        \n",
    "        def insert_helper(root, data):\n",
    "            if root.pointer == None:\n",
    "                root.pointer = Node(data)\n",
    "                return\n",
    "            else:\n",
    "                insert_helper(root.pointer, data)\n",
    "\n",
    "        insert_helper(self.start, data)\n",
    "\n",
    "    def display(self, spec_nodes):\n",
    "        curr = self.start\n",
    "        while spec_nodes > 0:\n",
    "            if curr != None:\n",
    "                print(curr.data)\n",
    "                curr = curr.pointer\n",
    "            else:\n",
    "                break\n",
    "\n",
    "            spec_nodes -= 1 \n",
    "\n",
    "ll = LinkedList()\n",
    "\n",
    "with open('GAMERS.txt') as f:\n",
    "    for line in f:\n",
    "        line = line.strip().split(',')\n",
    "\n",
    "        ll.insert_last(line)\n",
    "\n",
    "ll.display(8)"
   ]
  },
  {
   "cell_type": "code",
   "execution_count": 15,
   "metadata": {},
   "outputs": [
    {
     "name": "stdout",
     "output_type": "stream",
     "text": [
      "['14', 'Haruka Tanaka', '6636']\n",
      "['415', 'Sun Choi', '8393']\n"
     ]
    }
   ],
   "source": [
    "class HashTable:\n",
    "    def __init__(self, size):\n",
    "        self.size = size\n",
    "        self.slots = [LinkedList() for i in range(size)]\n",
    "\n",
    "    def hash_func(self, id):\n",
    "        return id % self.size\n",
    "    \n",
    "    def insert_records(self, record):\n",
    "        idx = self.hash_func(int(record[0]))\n",
    "\n",
    "        self.slots[idx].insert_last(record)\n",
    "\n",
    "    def display_records(self, slot):\n",
    "        self.slots[slot].display(100000000)\n",
    "\n",
    "\n",
    "def ll_to_hash_table(ht, ll):\n",
    "    curr = ll.start\n",
    "\n",
    "    while curr != None:\n",
    "        ht.insert_records(curr.data)\n",
    "        curr = curr.pointer\n",
    "\n",
    "ht = HashTable(401)\n",
    "ll_to_hash_table(ht, ll)\n",
    "\n",
    "ht.display_records(14)"
   ]
  }
 ],
 "metadata": {
  "kernelspec": {
   "display_name": "computing",
   "language": "python",
   "name": "python3"
  },
  "language_info": {
   "codemirror_mode": {
    "name": "ipython",
    "version": 3
   },
   "file_extension": ".py",
   "mimetype": "text/x-python",
   "name": "python",
   "nbconvert_exporter": "python",
   "pygments_lexer": "ipython3",
   "version": "3.6.13"
  }
 },
 "nbformat": 4,
 "nbformat_minor": 2
}
