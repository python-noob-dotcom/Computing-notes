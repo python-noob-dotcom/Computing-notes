{
 "cells": [
  {
   "attachments": {},
   "cell_type": "markdown",
   "metadata": {},
   "source": [
    "### Task 1\n",
    "\n",
    "Write a function named ```reverseLookup```\n",
    "- Takes in a dictionary ```dic``` and a value ```val``` as its parameters\n",
    "- returns a list of all the keys from the dictionary that map to the ```val```\n",
    "- returns an empty list if the value ```val``` does not exist in the dictionary ```dic```"
   ]
  },
  {
   "cell_type": "code",
   "execution_count": 1,
   "metadata": {},
   "outputs": [],
   "source": [
    "# Task 1\n",
    "def reverseLookup(dictionary, val):\n",
    "    if type(dictionary) == dict:        \n",
    "        to_return = []\n",
    "        for key, value in dictionary.items():\n",
    "            if value == val:\n",
    "                to_return.append(key)\n",
    "        return to_return\n",
    "    else:\n",
    "        raise ValueError('Make sure the input is a dictionary!')"
   ]
  },
  {
   "attachments": {},
   "cell_type": "markdown",
   "metadata": {},
   "source": [
    "### Task 2\n",
    "\n",
    "Write a main program that demonstrates the ```reverseLookup``` function.\n",
    "\n",
    "The program should:\n",
    "- create a dictionary\n",
    "- show that the ```reverseLookup``` function works correctly when it returns\n",
    "    - multiple keys\n",
    "    - a single key\n",
    "    - no keys"
   ]
  },
  {
   "cell_type": "code",
   "execution_count": 6,
   "metadata": {},
   "outputs": [
    {
     "name": "stdout",
     "output_type": "stream",
     "text": [
      "['b', 'c']\n",
      "['f']\n",
      "[]\n"
     ]
    }
   ],
   "source": [
    "# Task 2\n",
    "if __name__ == '__main__':\n",
    "    dictionary_1 = {'a': 1, 'b': 2, 'c': 2, 'd': 4, 'e': 1, 'f': 5}\n",
    "    print(reverseLookup(dictionary_1, 2))\n",
    "    print(reverseLookup(dictionary_1, 5))\n",
    "    print(reverseLookup(dictionary_1, 6))"
   ]
  },
  {
   "attachments": {},
   "cell_type": "markdown",
   "metadata": {},
   "source": [
    "### Task 3  \n"
   ]
  }
 ],
 "metadata": {
  "kernelspec": {
   "display_name": "Python 3",
   "language": "python",
   "name": "python3"
  },
  "language_info": {
   "codemirror_mode": {
    "name": "ipython",
    "version": 3
   },
   "file_extension": ".py",
   "mimetype": "text/x-python",
   "name": "python",
   "nbconvert_exporter": "python",
   "pygments_lexer": "ipython3",
   "version": "3.6.4"
  },
  "orig_nbformat": 4
 },
 "nbformat": 4,
 "nbformat_minor": 2
}
